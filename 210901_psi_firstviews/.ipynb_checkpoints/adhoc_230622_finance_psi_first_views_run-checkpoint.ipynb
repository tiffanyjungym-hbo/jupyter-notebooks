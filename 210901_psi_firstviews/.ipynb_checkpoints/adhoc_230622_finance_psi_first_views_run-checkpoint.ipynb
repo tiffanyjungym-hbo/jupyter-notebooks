{
 "cells": [
  {
   "cell_type": "code",
   "execution_count": 1,
   "id": "ece11a18",
   "metadata": {},
   "outputs": [
    {
     "name": "stderr",
     "output_type": "stream",
     "text": [
      "INFO:root:Starting Notebook\n"
     ]
    }
   ],
   "source": [
    "import os\n",
    "import sys\n",
    "\n",
    "import pandas as pd\n",
    "import numpy as np\n",
    "import pickle\n",
    "from datetime import date, datetime, timedelta\n",
    "\n",
    "from category_encoders import OneHotEncoder\n",
    "import xgboost as xgb\n",
    "\n",
    "import boto3\n",
    "import logging \n",
    "\n",
    "logger = logging.getLogger()\n",
    "logging.basicConfig(level=logging.INFO)\n",
    "logger.info(f'Starting Notebook')"
   ]
  },
  {
   "cell_type": "code",
   "execution_count": 9,
   "id": "551dcc52",
   "metadata": {},
   "outputs": [],
   "source": [
    "from io import StringIO\n",
    "class Utils():\n",
    "    @staticmethod\n",
    "    def to_csv_s3(content, bucket, key_path, filename):\n",
    "        client = boto3.client('s3')\n",
    "        key = os.path.join(key_path, filename)\n",
    "        csv_buffer = StringIO()\n",
    "        content.to_csv(csv_buffer)\n",
    "        client.put_object(Bucket=bucket, Key=key, Body=csv_buffer.getvalue(), ACL=\"bucket-owner-full-control\")\n",
    "        logger.info(f'Saved to {bucket}/{key}')\n",
    "    \n",
    "    @staticmethod\n",
    "    def to_pkl_s3(content, bucket, key_path, filename):\n",
    "        client = boto3.client('s3')\n",
    "        key = os.path.join(key_path, filename)\n",
    "        obj = pickle.dumps(content)\n",
    "        client.put_object(Bucket=bucket, Key=key, Body=obj)\n",
    "        logger.info(f'Saved model to {os.path.join(bucket, key)}')\n",
    "        logger.info(f'Saved to {bucket}/{key}')\n",
    "\n",
    "    @staticmethod\n",
    "    def read_csv_s3(bucket, key_path,filename):\n",
    "        client = boto3.client('s3')\n",
    "        key = os.path.join(key_path, filename)\n",
    "        logger.info(f'Reading from {bucket}/{key}')\n",
    "        obj = client.get_object(Bucket=bucket, Key=key)\n",
    "        df = pd.read_csv(obj['Body'], na_values=\"\\\\N\")\n",
    "        return df\n",
    "        \n",
    "    @staticmethod\n",
    "    def read_pkl_s3(bucket, key_path,filename):\n",
    "        client = boto3.client('s3')\n",
    "        key = os.path.join(key_path, filename)\n",
    "        logger.info(f'Reading from {bucket}/{key}')\n",
    "        obj = client.get_object(Bucket=bucket, Key=key)\n",
    "        body = obj['Body'].read()\n",
    "        model = pickle.loads(body)\n",
    "        return model\n",
    "\n",
    "\n",
    "class BaseFeatureMunger():\n",
    "    def __init__(self, df_in, df_imdb_munged, df_talent, mode, date_run):\n",
    "        self.df_in = df_in\n",
    "        self.df_imdb_munged = df_imdb_munged\n",
    "        self.df_talent = df_talent\n",
    "        self.mode = mode\n",
    "        self.date_run = date_run\n",
    "        self.clean_df()\n",
    "        self.fill_missing_data()\n",
    "        if mode=='train':\n",
    "            self.filter_df()\n",
    "        self.get_datetime_features()\n",
    "        self.aggregate_df()\n",
    "        self.munge_talent_feature()\n",
    "        self.merge_features()\n",
    "        self.get_first_views()\n",
    "        self.return_df()\n",
    "        \n",
    "    def return_df(self):\n",
    "        col_base = ['title_id', 'title_name', 'season_number',\n",
    "       'content_category', 'content_source', 'category',\n",
    "       'tier', 'effective_start_date', 'request_date', 'first_views',\n",
    "       'days_since_premiere', 'days_on_platform', 'start_year']\n",
    "        \n",
    "        col_title = ['title_name', 'title_id','season_number','tier','content_category','category',\n",
    "                'effective_start_date', 'schedule_label', 'prequel_count', 'prequel_featured_count','page_views','first_views','first_views_log']\n",
    "        if self.mode=='train':\n",
    "            return self.df_in[col_base], self.df_in_title[col_title]\n",
    "        elif self.mode=='predict':\n",
    "            return self.df_in_title[col_title]\n",
    "\n",
    "    def clean_df(self):\n",
    "        logger.info(f'base_data shape: {self.df_in.shape}')\n",
    "        logger.info(f'base_data null: {self.df_in.isnull().sum()}')\n",
    "        self.df_in.columns= self.df_in.columns.str.lower()\n",
    "        self.dic_dtype = {'season_number':int, 'tier':int}\n",
    "        self.df_in = self.df_in.astype(self.dic_dtype)\n",
    "        self.df_in['effective_start_date'] = pd.to_datetime(self.df_in['effective_start_date'])\n",
    "        \n",
    "    def fill_missing_data(self):\n",
    "        self.df_in['content_category'] = self.df_in['content_category'].fillna('series')\n",
    "        self.df_in.loc[self.df_in['category'].isin(['Specials']), 'content_category']='special'\n",
    "        self.df_in.loc[self.df_in['category'].isin(['Popcorn','Pay 1 WB Theatricals','Scripted Features', 'Pay1']), 'content_category']='movies'\n",
    "        self.df_in.loc[self.df_in['title_name'].str.contains('Harry Potter'), 'content_category']='special'\n",
    "        self.df_in = self.df_in.fillna(0)\n",
    "\n",
    "    def filter_df(self):\n",
    "        self.date_max = datetime.strptime(self.date_run, '%Y-%m-%d')- timedelta(days=60)\n",
    "        self.df_in = self.df_in[(self.df_in['effective_start_date']<=self.date_max)]\n",
    "\n",
    "    def get_datetime_features(self):\n",
    "        self.df_in['start_year'] = self.df_in['effective_start_date'].dt.year\n",
    "        self.df_in['start_quarter'] = self.df_in['effective_start_date'].dt.quarter\n",
    "        \n",
    "    def aggregate_df(self):\n",
    "        grpby_title= ['title_name', 'title_id','tier','content_category','category','season_number',\n",
    "                'effective_start_date', 'schedule_label']\n",
    "        self.df_in_title = self.df_in[grpby_title + ['first_views']].groupby(by=grpby_title).sum().reset_index()\n",
    "    \n",
    "    def munge_talent_feature(self):\n",
    "        grpby = ['title_name', 'season_number', 'category', 'tier', 'effective_start_date'] \n",
    "        self.df_talent.columns= self.df_talent.columns.str.lower()\n",
    "        self.df_talent = self.df_talent.fillna(0)\n",
    "        self.df_talent['effective_start_date'] = pd.to_datetime(self.df_talent['effective_start_date']).dt.date\n",
    "        self.df_talent['effective_start_date'] = pd.to_datetime(self.df_talent['effective_start_date'])\n",
    "        self.df_talent['tier'] = self.df_talent['tier'].astype(int)\n",
    "        \n",
    "        self.df_pv_title = self.df_talent[self.df_talent.talent_category=='cast']\n",
    "        self.df_pv_title = self.df_pv_title.sort_values(by=grpby+['page_views'], ascending=False)\n",
    "        self.df_pv_title = self.df_pv_title.groupby(by=grpby).head(3).reset_index(drop=True).groupby(by=grpby).sum().reset_index()\n",
    "\n",
    "    def merge_features(self):\n",
    "        key_merge = ['title_name','season_number', 'category', 'tier', 'effective_start_date']\n",
    "        self.df_in_title = self.df_in_title.merge(self.df_imdb_munged, on= key_merge+['content_category'], how='left')\\\n",
    "                                        .merge(self.df_pv_title, on=key_merge, how='left')\n",
    "        logger.info(f'title imdb shape: {self.df_in_title.shape}')\n",
    "#         logger.info(f'title imdb features null: {self.df_in_title.isnull().sum()}')\n",
    "        self.df_in_title = self.df_in_title.fillna(0)\n",
    "        \n",
    "    def get_first_views(self):\n",
    "        ## Scale first_views \n",
    "        self.df_in_title['first_views_log'] = np.log(self.df_in_title['first_views']) \n",
    "        self.df_in_title.loc[(self.df_in_title.first_views==0), 'first_views_log']=0\n",
    "        \n",
    "\n",
    "class IMDBFeatureMunger(BaseFeatureMunger):\n",
    "    \n",
    "    def __init__(self, df_in, mode, date_run):\n",
    "        self.df_in = df_in\n",
    "        self.date_run = date_run \n",
    "        \n",
    "        self.clean_df()\n",
    "        if mode=='train':\n",
    "            self.filter_df()\n",
    "        self.get_series_features()\n",
    "#         if mode=='train':\n",
    "#             self.adjust_series_for_training_data()\n",
    "        self.get_non_series_prequel_features()\n",
    "        self.get_non_series_prequel_ref_features()\n",
    "        self.merge_non_series_features()\n",
    "        self.return_df()\n",
    "        \n",
    "    def return_df(self):\n",
    "        col_imdb = ['title_name', 'season_number', 'content_category', 'category', \n",
    "                    'tier', 'effective_start_date', 'prequel_count', 'prequel_featured_count']\n",
    "        self.df_imdb_munged = pd.concat([self.df_series_title, self.df_nseries_title])\n",
    "#         self.df_imdb_munged = self.df_nseries_title.copy()\n",
    "        self.df_imdb_munged = self.df_imdb_munged[col_imdb].groupby(by=col_imdb[:-2]).sum().reset_index()\n",
    "        return self.df_imdb_munged\n",
    "    \n",
    "    def get_series_features(self):\n",
    "        grpby_series = ['title_name','season_number','content_category','category','tier','effective_start_date']\n",
    "        self.df_series = self.df_in[(self.df_in.content_category.isin(['series'])) & (self.df_in.reference_type.isin(['featured_in']))] \n",
    "        self.df_series_title = self.df_series.groupby(by=grpby_series).agg({'reference_title_id':'nunique'}).reset_index()\n",
    "        self.df_series_title = self.df_series_title.rename(columns={'reference_title_id':'ref_ref_featured_in'})\n",
    "        self.df_series_title['prequel_count'] = self.df_series_title['season_number']-1\n",
    "        self.df_series_title['prequel_featured_count'] = self.df_series_title['ref_ref_featured_in']\n",
    "\n",
    "    def adjust_series_for_training_data(self):     \n",
    "        self.df_series_title['ref_ref_featured_in'] = (self.df_series_title['ref_ref_featured_in'] * (self.df_series_title['season_number']-1))/self.df_series_title['season_number']\n",
    "        self.df_series_title.loc[self.df_series_title.season_number>1, 'prequel_featured_count'] = (self.df_series_title['ref_ref_featured_in'])/(self.df_series_title['season_number']-1)     \n",
    "        \n",
    "        \n",
    "    def get_non_series_prequel_features(self):\n",
    "        self.grpby_nseries=['title_name','season_number','content_category','category','tier','effective_start_date','imdb_imdb_series_id']\n",
    "        self.df_nseries = self.df_in[(self.df_in.reference_type.isin(['follows','spin_off_from','remake_of','version_of'])) & ((self.df_in.reference_title_type.isin(['movie','tvSeries', 'videoGame'])))] \n",
    "        self.df_nseries['ref_ref_count'] = self.df_nseries.groupby('reference_title_id').reference_reference_title_id.transform('nunique')\n",
    "        self.df_nseries = self.df_nseries[self.df_nseries['ref_ref_count']>0] ## Only count references that have secondary references \n",
    "        \n",
    "        self.df_nseries_preq = self.df_nseries.groupby(by=self.grpby_nseries+['reference_type']).agg({'reference_title_id':'nunique'}).reset_index()\n",
    "        self.df_nseries_preq = pd.pivot_table(self.df_nseries_preq, \n",
    "                          index = self.grpby_nseries, \n",
    "                          columns = 'reference_type', \n",
    "                          values = 'reference_title_id').reset_index()\n",
    "        self.df_nseries_preq = self.df_nseries_preq.rename(columns={'follows':'ref_follows',  \n",
    "                                                                          'spin_off_from':'ref_spin_off_from', \n",
    "                                                                          'remake_of':'ref_remake_of',\n",
    "                                                                          'version_of':'ref_version_of'})\n",
    "    def get_non_series_prequel_ref_features(self):\n",
    "        self.df_nseries_preq_ref = self.df_nseries.groupby(by=self.grpby_nseries+['reference_reference_type']).agg({'reference_reference_title_id':'nunique'}).reset_index()\n",
    "#         display(self.df_nseries_preq_ref[self.df_nseries_preq_ref.title_name=='The Matrix Resurrections'])\n",
    "        self.df_nseries_preq_ref = pd.pivot_table(self.df_nseries_preq_ref, \n",
    "                  index = self.grpby_nseries, \n",
    "                  columns = 'reference_reference_type', \n",
    "                  values = 'reference_reference_title_id').reset_index()        \n",
    "        self.df_nseries_preq_ref = self.df_nseries_preq_ref.rename(columns={'featured_in':'ref_ref_featured_in'})\n",
    "        \n",
    "    def merge_non_series_features(self):\n",
    "        col_preq = ['title_name', 'tier','season_number','content_category','category','effective_start_date','imdb_imdb_series_id','ref_follows','ref_spin_off_from','ref_remake_of', 'ref_version_of']\n",
    "        col_ref_ref = ['title_name','season_number','category','ref_ref_featured_in']\n",
    "        self.df_nseries_title = self.df_nseries_preq[col_preq].merge(self.df_nseries_preq_ref[col_ref_ref], how='outer', on=['title_name','season_number','category'])\n",
    "        self.df_nseries_title['prequel_count'] = self.df_nseries_title[['ref_follows','ref_spin_off_from','ref_remake_of','ref_version_of']].sum(axis=1)\n",
    "        self.df_nseries_title['prequel_featured_count'] = self.df_nseries_title['ref_ref_featured_in']/self.df_nseries_title['prequel_count']\n",
    "\n",
    "        \n",
    "        \n",
    "class PreProcessor():\n",
    "    def __init__(self, df_in, mode, date_run):\n",
    "        self.df_in = df_in\n",
    "        self.date_run = date_run\n",
    "        self.get_parameters()\n",
    "        self.adjust_tiers()\n",
    "        self.get_series_nonseries_feature()\n",
    "        self.categorize_talent_feature()\n",
    "        self.winsorize_feature()\n",
    "        if mode=='train':\n",
    "            self.winsorize_label()\n",
    "            self.resample_data()\n",
    "        self.return_df()\n",
    "        \n",
    "    def return_df(self):\n",
    "        return self.df_in\n",
    "    \n",
    "    def get_parameters(self):\n",
    "        self.max_firstviews = 1000000\n",
    "        self.old_sampling_rate = 0.4\n",
    "        self.recent_sampling_rate = 0.6\n",
    "        self.pay1_sampling_rate = 0.5\n",
    "        \n",
    "    def adjust_tiers(self):\n",
    "        self.df_in['tier_adj'] = self.df_in['tier']\n",
    "        self.df_in.loc[(self.df_in.title_name=='Reminiscence'), 'tier_adj'] = 2\n",
    "        self.df_in.loc[(self.df_in.category=='Pay1') & (self.df_in.tier==1), 'tier_adj'] = 2\n",
    "        self.df_in.loc[(self.df_in.category=='Pay1') & (self.df_in.tier==2), 'tier_adj'] = 3\n",
    "        self.df_in.loc[(self.df_in.effective_start_date < '2022-04-01') & (self.df_in.category=='Popcorn') & (self.df_in.tier==1), 'tier_adj'] = 0\n",
    "        self.df_in.loc[self.df_in.title_name=='Avatar 2', 'tier_adj'] = 1\n",
    "        \n",
    "    def get_series_nonseries_feature(self):\n",
    "        self.df_in['prequel_count_s'] = self.df_in['prequel_count']\n",
    "        self.df_in['prequel_featured_count_s'] = self.df_in['prequel_featured_count']\n",
    "        self.df_in['page_views_s'] = self.df_in['page_views']\n",
    "        \n",
    "        self.df_in.loc[(self.df_in.content_category!='movies'),['page_views','prequel_count','prequel_featured_count']] = -1\n",
    "        self.df_in.loc[(self.df_in.content_category=='movies'), ['page_views_s','prequel_count_s','prequel_featured_count_s']] = -1\n",
    "        \n",
    "        self.df_in.loc[(self.df_in.category=='Kids & Family'), ['page_views_s','prequel_count_s','prequel_featured_count_s']] = 0\n",
    "        self.df_in.loc[(self.df_in.tier_adj>=2), ['page_views','prequel_featured_count','page_views_s','prequel_featured_count_s']] = -2\n",
    "        \n",
    "    def categorize_talent_feature(self):\n",
    "        page_views_bin = [-10, -2, -1, 100000, 100000000]  # -1: series, -2: low tier, \n",
    "        page_views_s_bin = [-10, -2, -1, 100000, 100000000]  # -1: movie, -2: low tier, \n",
    "        page_views_label = [-2, -1, 1000, 100000]\n",
    "        page_views_s_label = [-2, -1, 100000, 200000]\n",
    "        \n",
    "        self.df_in['page_views']= pd.cut(self.df_in['page_views'], bins=page_views_bin,labels=page_views_label).fillna(100000).astype(int)\n",
    "        self.df_in['page_views_s']= pd.cut(self.df_in['page_views_s'], bins=page_views_s_bin,labels=page_views_s_label).fillna(200000).astype(int)        \n",
    "\n",
    "    def winsorize_feature(self):\n",
    "        ## IMDB Features \n",
    "        self.df_in.loc[(self.df_in['prequel_count']>5), ['prequel_count']] = 5\n",
    "        self.df_in.loc[(self.df_in['prequel_count_s']>5), ['prequel_count_s']] = 5\n",
    "        self.df_in.loc[(self.df_in['prequel_featured_count']>20), ['prequel_featured_count']] = 20   \n",
    "        self.df_in.loc[self.df_in['prequel_featured_count_s']>40, 'prequel_featured_count_s'] = 40\n",
    "\n",
    "    def winsorize_label(self):\n",
    "        self.df_in.loc[self.df_in.first_views>self.max_firstviews, 'first_views'] = self.max_firstviews\n",
    "    \n",
    "    def resample_data(self):  \n",
    "        self.df_in_old = self.df_in[(self.df_in.effective_start_date < datetime.strptime(self.date_run, '%Y-%m-%d')- timedelta(days=270))]\n",
    "        self.df_in_recent = self.df_in[(self.df_in.effective_start_date >= datetime.strptime(self.date_run, '%Y-%m-%d')- timedelta(days=270))]\n",
    "        target_count = self.df_in.groupby(by=['tier_adj','category'])['title_name'].count().max()\n",
    "        print(target_count)\n",
    "        target_count_old = int(round(target_count*self.old_sampling_rate))\n",
    "        target_count_new = int(round(target_count*self.recent_sampling_rate))\n",
    "        \n",
    "        ## Loop through old and recent data\n",
    "        df_resample_list = []\n",
    "        for df_sample, target_count in zip([self.df_in_old, self.df_in_recent], [target_count_old, target_count_new]):\n",
    "            list_tier_cat= df_sample[['tier_adj','category']].drop_duplicates(subset=['tier_adj','category']).values.tolist()\n",
    "            \n",
    "            ## Loop through unique combination of tier & category to resample \n",
    "            for tier_cat in list_tier_cat:\n",
    "                if tier_cat[1]=='Pay1':\n",
    "                    df_resample_list.append(df_sample[(df_sample.tier_adj==tier_cat[0]) & (df_sample.category==tier_cat[1])]\\\n",
    "                                        .sample(int(round(target_count*self.pay1_sampling_rate)), replace=True))                \n",
    "                else:\n",
    "                    df_resample_list.append(df_sample[(df_sample.tier_adj==tier_cat[0]) & (df_sample.category==tier_cat[1])]\\\n",
    "                                        .sample(target_count, replace=True))\n",
    "        self.df_in = pd.concat(df_resample_list, axis=0)\n",
    "\n",
    "    \n",
    "    \n",
    "class XGB(Utils):\n",
    "    def __init__(self, df_in, mode, date_run):\n",
    "        self.df_in = df_in    \n",
    "        self.mode = mode\n",
    "        self.date_run = date_run\n",
    "        self.get_parameters()\n",
    "        \n",
    "        if mode=='train':\n",
    "            self.train_xgb()\n",
    "            self.save_model()\n",
    "        elif mode=='predict':\n",
    "            self.get_model()\n",
    "            self.predict_xgb()\n",
    "            self.return_df()\n",
    "            \n",
    "    @staticmethod\n",
    "    def _encode(df, categoricals):\n",
    "        \n",
    "        \"\"\"\n",
    "        perform category encoding on the data\n",
    "        :param df: dataframe to be encoded\n",
    "        :param categoricals: list of name of categorical columns\n",
    "        :return ohe, x_ohe: OHE object and OHE-encoded data\n",
    "        \"\"\"\n",
    "        ohe = OneHotEncoder(cols=categoricals, \n",
    "                            handle_unknown='return_nan',\n",
    "                           handle_missing='return_nan',  \n",
    "                           use_cat_names=True) \n",
    "        x_ohe = ohe.fit_transform(df)\n",
    "        return ohe, x_ohe\n",
    "    \n",
    "    def return_df(self):\n",
    "        return self.df_pred\n",
    "    \n",
    "    def get_parameters(self):\n",
    "        self.target = 'first_views_log'\n",
    "        self.features_cat=['tier_adj','category','content_category','prequel_count', 'page_views','page_views_s'] \n",
    "        self.features_cont= ['prequel_featured_count','prequel_featured_count_s'] \n",
    "        self.param_xgb = {\"booster\":\"gbtree\",\n",
    "                     \"objective\":\"reg:squarederror\",\n",
    "                    \"gamma\":1}\n",
    "\n",
    "    def train_xgb(self):\n",
    "        x_train = self.df_in[self.features_cat + self.features_cont]\n",
    "        y_train = self.df_in[self.target]\n",
    "        self.ohe, x_ohe = self._encode(x_train, self.features_cat)\n",
    "        dm_train = xgb.DMatrix(x_ohe, label=y_train)\n",
    "\n",
    "        ## train \n",
    "        self.model = xgb.train(params = self.param_xgb, dtrain = dm_train, num_boost_round = 10)\n",
    "        \n",
    "    def save_model(self):\n",
    "        dict_model = {'model': self.model, 'ohe': self.ohe}\n",
    "        Utils.to_pkl_s3(dict_model, input_bucket, key_path, f'fv_{date_train}.pkl')\n",
    "        logger.info(f'Done model training {date_train}')\n",
    "    \n",
    "    def get_model(self):\n",
    "        dict_model = Utils.read_pkl_s3(input_bucket, key_path, f'fv_{date_train}.pkl')\n",
    "        self.ohe = dict_model['ohe']\n",
    "        self.model = dict_model['model']\n",
    "        \n",
    "    def predict_xgb(self):\n",
    "        x_test = self.df_in[self.features_cat + self.features_cont]\n",
    "        x_ohe_test = self.ohe.transform(x_test)\n",
    "        dm_test = xgb.DMatrix(x_ohe_test)\n",
    "        pred = self.model.predict(dm_test)\n",
    "\n",
    "        self.df_pred = self.df_in[list(set(['title_name','category','season_number', 'effective_start_date', 'tier','tier_adj', 'schedule_label'] + self.features_cat + self.features_cont))]\n",
    "        self.df_pred['first_views_log_pred'] = pred\n",
    "        self.df_pred[f'first_views_pred'] = np.exp(self.df_pred[f'first_views_log_pred'])\n",
    "        self.df_pred['pred_date'] = self.date_run\n",
    "        self.df_pred['pred_date'] = pd.to_datetime(self.df_pred['pred_date'])\n",
    "        self.df_pred.loc[(self.df_pred.category=='Popcorn') & (self.df_pred.effective_start_date>='2022-04-01'), 'category']='Pay 1 WB Theatricals'\n",
    "\n",
    "\n",
    "class FVDecay():\n",
    "    def __init__(self, df_in, mode, date_run, grpby=''):\n",
    "        self.df_in = df_in    \n",
    "        self.mode = mode\n",
    "        self.date_run = date_run\n",
    "        self.grpby = grpby\n",
    "\n",
    "        if mode=='train':\n",
    "            self.get_decay_data_title()\n",
    "            self.get_decay_curve()\n",
    "            self.return_df()\n",
    "\n",
    "    def return_df(self):\n",
    "        return self.df_decay\n",
    "        \n",
    "    @staticmethod\n",
    "    def apply_decay_curve(df_in, df_decay):\n",
    "        category_list_train = df_decay.category.unique().tolist()\n",
    "        df_in['decay_category'] = df_in['category']\n",
    "        df_in.loc[(~df_in['decay_category'].isin(category_list_train)) & (df_in['decay_category']!='Popcorn'), 'decay_category'] = 'Pay1'\n",
    "        \n",
    "        \n",
    "        ## Apply decay to prediction \n",
    "        df_pred_decay = df_in.merge(df_decay[['category','days_since_premiere','first_views_pct']], \n",
    "                                                left_on=['decay_category'], right_on=['category'], how='left', suffixes=['', '_category'])\n",
    "#                             .merge(df_popcorn_decay[['category','days_since_premiere','first_views_pct']], \n",
    "#                                         on=['category','days_since_premiere'], how='left', suffixes=['', '_popcorn'])\n",
    "        print(df_pred_decay.columns)\n",
    "#         df_pred_decay.loc[(df_pred_decay.category=='Popcorn') & (df_pred_decay.first_views_pct.isnull()), 'first_views_pct'] = df_pred_decay['first_views_pct_popcorn']\n",
    "        \n",
    "        df_pred_decay[f'first_views_pred_decay'] = df_pred_decay[f'first_views_pred'] * df_pred_decay['first_views_pct']\n",
    "        df_pred_decay['start_month'] = df_pred_decay['effective_start_date'].dt.to_period('M').dt.to_timestamp()\n",
    "        df_pred_decay['request_date'] = df_pred_decay['effective_start_date'] + pd.to_timedelta(df_pred_decay.days_since_premiere, unit=\"D\")\n",
    "        df_pred_decay['first_view_quarter'] = df_pred_decay['request_date'].dt.to_period('Q').dt.to_timestamp()\n",
    "        df_pred_decay['first_view_month'] = df_pred_decay['request_date'].dt.to_period('M').dt.to_timestamp()\n",
    "\n",
    "        return df_pred_decay\n",
    "    \n",
    "    def get_decay_data_title(self):\n",
    "        self.key_col = ['title_name','tier','content_category','category','season_number','effective_start_date']\n",
    "        self.df_in = self.df_in[self.key_col + ['title_id','days_since_premiere','first_views']].sort_values(by=self.key_col+['days_since_premiere'])\n",
    "        self.df_in['first_views_sum'] = self.df_in.groupby(self.key_col)['first_views'].transform('sum')\n",
    "        self.df_in['first_views_cumsum'] = self.df_in.groupby(by=self.key_col)['first_views'].cumsum()\n",
    "        self.df_in['first_views_cumpct'] = self.df_in['first_views_cumsum'] / self.df_in['first_views_sum']\n",
    "        self.df_in.reset_index(inplace=True)\n",
    "            \n",
    "    def get_decay_curve(self):\n",
    "        self.df_decay = self.df_in[[self.grpby] + ['title_id','days_since_premiere','first_views_cumpct']].sort_values(by=[self.grpby]+['days_since_premiere'])\n",
    "        self.df_decay = self.df_decay.groupby(by=[self.grpby] + ['days_since_premiere']).agg({'first_views_cumpct':'median','title_id':'nunique'})\n",
    "        self.df_decay = self.df_decay.rename(columns={'title_id':'title_count_training'})\n",
    "        self.df_decay = self.df_decay.reset_index()\n",
    "        self.df_decay['first_views_pct'] = self.df_decay.groupby(self.grpby)['first_views_cumpct'].diff()\n",
    "        self.df_decay.reset_index(inplace=True)\n",
    "        \n",
    "        self.df_decay['days_since_premiere'] = self.df_decay['days_since_premiere'].astype(int)\n",
    "        self.df_decay.loc[(self.df_decay.days_since_premiere==0),'first_views_pct'] = self.df_decay['first_views_cumpct']\n",
    "\n"
   ]
  },
  {
   "cell_type": "code",
   "execution_count": 10,
   "id": "d66e719d",
   "metadata": {
    "scrolled": true
   },
   "outputs": [
    {
     "name": "stderr",
     "output_type": "stream",
     "text": [
      "INFO:root:TRAINING MODEL FOR 2022-06-20, Mode:dev\n",
      "/home/ec2-user/anaconda3/envs/python3/lib/python3.6/site-packages/boto3/compat.py:88: PythonDeprecationWarning: Boto3 will no longer support Python 3.6 starting May 30, 2022. To continue receiving service updates, bug fixes, and security updates please upgrade to Python 3.7 or later. More information can be found here: https://aws.amazon.com/blogs/developer/python-support-policy-updates-for-aws-sdks-and-tools/\n",
      "  warnings.warn(warning, PythonDeprecationWarning)\n",
      "INFO:root:Reading from hbo-ingest-datascience-content-dev/psi_first_views/fv_train_fv_2022-06-20.csv\n",
      "INFO:root:Reading from hbo-ingest-datascience-content-dev/psi_first_views/fv_train_imdb_2022-06-20.csv\n",
      "INFO:root:Reading from hbo-ingest-datascience-content-dev/psi_first_views/fv_train_talent_2022-06-20.csv\n",
      "INFO:root:base_data shape: (19980, 17)\n",
      "INFO:root:base_data null: Unnamed: 0                         0\n",
      "title_id                           0\n",
      "season_number                      0\n",
      "title_name                         0\n",
      "content_category                   0\n",
      "program_type                       0\n",
      "category                           0\n",
      "tier                               0\n",
      "effective_start_date               0\n",
      "effective_end_date                 0\n",
      "imdb_imdb_series_id                0\n",
      "reference_type                     0\n",
      "reference_title                    0\n",
      "reference_title_id                 0\n",
      "reference_title_type               0\n",
      "reference_reference_type        2985\n",
      "reference_reference_title_id    2985\n",
      "dtype: int64\n",
      "/home/ec2-user/anaconda3/envs/python3/lib/python3.6/site-packages/ipykernel/__main__.py:167: SettingWithCopyWarning: \n",
      "A value is trying to be set on a copy of a slice from a DataFrame.\n",
      "Try using .loc[row_indexer,col_indexer] = value instead\n",
      "\n",
      "See the caveats in the documentation: https://pandas.pydata.org/pandas-docs/stable/user_guide/indexing.html#returning-a-view-versus-a-copy\n",
      "INFO:root:base_data shape: (39770, 20)\n",
      "INFO:root:base_data null: Unnamed: 0                  0\n",
      "title_id                    0\n",
      "title_name                  0\n",
      "season_number               0\n",
      "content_category            0\n",
      "content_source              0\n",
      "program_type                0\n",
      "category                    0\n",
      "tier                        0\n",
      "effective_start_date        0\n",
      "request_date                0\n",
      "premiere_ind                0\n",
      "asset_premiere_count        0\n",
      "premiering_hours_runtime    0\n",
      "first_views                 0\n",
      "hours_viewed                0\n",
      "days_since_premiere         0\n",
      "days_on_platform            0\n",
      "finished_window_flag        0\n",
      "schedule_label              0\n",
      "dtype: int64\n",
      "INFO:root:title imdb shape: (450, 14)\n"
     ]
    },
    {
     "name": "stdout",
     "output_type": "stream",
     "text": [
      "67\n"
     ]
    },
    {
     "name": "stderr",
     "output_type": "stream",
     "text": [
      "/home/ec2-user/anaconda3/envs/python3/lib/python3.6/site-packages/boto3/compat.py:88: PythonDeprecationWarning: Boto3 will no longer support Python 3.6 starting May 30, 2022. To continue receiving service updates, bug fixes, and security updates please upgrade to Python 3.7 or later. More information can be found here: https://aws.amazon.com/blogs/developer/python-support-policy-updates-for-aws-sdks-and-tools/\n",
      "  warnings.warn(warning, PythonDeprecationWarning)\n",
      "INFO:root:Saved to hbo-ingest-datascience-content-dev/psi_first_views/fv_decay_category_2022-06-20.csv\n",
      "INFO:root:Saved to hbo-ingest-datascience-content-dev/psi_first_views/fv_train_munged_2022-06-20.csv\n",
      "INFO:root:Saved to hbo-ingest-datascience-content-dev/psi_first_views/fv_train_munged_2022-06-20.csv\n",
      "/home/ec2-user/anaconda3/envs/python3/lib/python3.6/site-packages/boto3/compat.py:88: PythonDeprecationWarning: Boto3 will no longer support Python 3.6 starting May 30, 2022. To continue receiving service updates, bug fixes, and security updates please upgrade to Python 3.7 or later. More information can be found here: https://aws.amazon.com/blogs/developer/python-support-policy-updates-for-aws-sdks-and-tools/\n",
      "  warnings.warn(warning, PythonDeprecationWarning)\n",
      "INFO:root:Saved model to hbo-ingest-datascience-content-dev/psi_first_views/fv_2022-06-20.pkl\n",
      "INFO:root:Saved to hbo-ingest-datascience-content-dev/psi_first_views/fv_2022-06-20.pkl\n",
      "INFO:root:Done model training 2022-06-20\n",
      "INFO:root:PREDICTING FOR 2022-06-20, Mode:dev\n",
      "INFO:root:Reading from hbo-ingest-datascience-content-dev/psi_first_views/fv_pred_2022-06-20.csv\n",
      "INFO:root:Reading from hbo-ingest-datascience-content-dev/psi_first_views/fv_pred_talent_2022-06-20.csv\n",
      "INFO:root:base_data shape: (22071, 20)\n",
      "INFO:root:base_data null: Unnamed: 0                         0\n",
      "title_name                         0\n",
      "imdb_imdb_series_id              753\n",
      "season_number                      0\n",
      "tier                               0\n",
      "category                           0\n",
      "content_category                 230\n",
      "effective_start_date               0\n",
      "schedule_label                     0\n",
      "imdb_title_name                  754\n",
      "n_votes                          754\n",
      "reference_type                  1058\n",
      "reference_title                 1058\n",
      "reference_title_id              1058\n",
      "reference_title_type            1058\n",
      "reference_n_votes               1058\n",
      "reference_reference_type        4115\n",
      "reference_reference_title_id    4115\n",
      "first_views                        0\n",
      "title_id                           0\n",
      "dtype: int64\n",
      "/home/ec2-user/anaconda3/envs/python3/lib/python3.6/site-packages/ipykernel/__main__.py:167: SettingWithCopyWarning: \n",
      "A value is trying to be set on a copy of a slice from a DataFrame.\n",
      "Try using .loc[row_indexer,col_indexer] = value instead\n",
      "\n",
      "See the caveats in the documentation: https://pandas.pydata.org/pandas-docs/stable/user_guide/indexing.html#returning-a-view-versus-a-copy\n",
      "INFO:root:base_data shape: (22071, 20)\n",
      "INFO:root:base_data null: Unnamed: 0                         0\n",
      "title_name                         0\n",
      "imdb_imdb_series_id              753\n",
      "season_number                      0\n",
      "tier                               0\n",
      "category                           0\n",
      "content_category                 230\n",
      "effective_start_date               0\n",
      "schedule_label                     0\n",
      "imdb_title_name                  754\n",
      "n_votes                          754\n",
      "reference_type                  1058\n",
      "reference_title                 1058\n",
      "reference_title_id              1058\n",
      "reference_title_type            1058\n",
      "reference_n_votes               1058\n",
      "reference_reference_type        4115\n",
      "reference_reference_title_id    4115\n",
      "first_views                        0\n",
      "title_id                           0\n",
      "dtype: int64\n",
      "INFO:root:title imdb shape: (1409, 14)\n",
      "/home/ec2-user/anaconda3/envs/python3/lib/python3.6/site-packages/pandas/core/series.py:726: RuntimeWarning: divide by zero encountered in log\n",
      "  result = getattr(ufunc, method)(*inputs, **kwargs)\n",
      "/home/ec2-user/anaconda3/envs/python3/lib/python3.6/site-packages/boto3/compat.py:88: PythonDeprecationWarning: Boto3 will no longer support Python 3.6 starting May 30, 2022. To continue receiving service updates, bug fixes, and security updates please upgrade to Python 3.7 or later. More information can be found here: https://aws.amazon.com/blogs/developer/python-support-policy-updates-for-aws-sdks-and-tools/\n",
      "  warnings.warn(warning, PythonDeprecationWarning)\n",
      "INFO:root:Reading from hbo-ingest-datascience-content-dev/psi_first_views/fv_2022-06-20.pkl\n",
      "/home/ec2-user/anaconda3/envs/python3/lib/python3.6/site-packages/ipykernel/__main__.py:351: SettingWithCopyWarning: \n",
      "A value is trying to be set on a copy of a slice from a DataFrame.\n",
      "Try using .loc[row_indexer,col_indexer] = value instead\n",
      "\n",
      "See the caveats in the documentation: https://pandas.pydata.org/pandas-docs/stable/user_guide/indexing.html#returning-a-view-versus-a-copy\n",
      "/home/ec2-user/anaconda3/envs/python3/lib/python3.6/site-packages/ipykernel/__main__.py:352: SettingWithCopyWarning: \n",
      "A value is trying to be set on a copy of a slice from a DataFrame.\n",
      "Try using .loc[row_indexer,col_indexer] = value instead\n",
      "\n",
      "See the caveats in the documentation: https://pandas.pydata.org/pandas-docs/stable/user_guide/indexing.html#returning-a-view-versus-a-copy\n",
      "/home/ec2-user/anaconda3/envs/python3/lib/python3.6/site-packages/ipykernel/__main__.py:353: SettingWithCopyWarning: \n",
      "A value is trying to be set on a copy of a slice from a DataFrame.\n",
      "Try using .loc[row_indexer,col_indexer] = value instead\n",
      "\n",
      "See the caveats in the documentation: https://pandas.pydata.org/pandas-docs/stable/user_guide/indexing.html#returning-a-view-versus-a-copy\n",
      "/home/ec2-user/anaconda3/envs/python3/lib/python3.6/site-packages/ipykernel/__main__.py:354: SettingWithCopyWarning: \n",
      "A value is trying to be set on a copy of a slice from a DataFrame.\n",
      "Try using .loc[row_indexer,col_indexer] = value instead\n",
      "\n",
      "See the caveats in the documentation: https://pandas.pydata.org/pandas-docs/stable/user_guide/indexing.html#returning-a-view-versus-a-copy\n",
      "/home/ec2-user/anaconda3/envs/python3/lib/python3.6/site-packages/pandas/core/indexing.py:1763: SettingWithCopyWarning: \n",
      "A value is trying to be set on a copy of a slice from a DataFrame.\n",
      "Try using .loc[row_indexer,col_indexer] = value instead\n",
      "\n",
      "See the caveats in the documentation: https://pandas.pydata.org/pandas-docs/stable/user_guide/indexing.html#returning-a-view-versus-a-copy\n",
      "  isetter(loc, value)\n",
      "/home/ec2-user/anaconda3/envs/python3/lib/python3.6/site-packages/boto3/compat.py:88: PythonDeprecationWarning: Boto3 will no longer support Python 3.6 starting May 30, 2022. To continue receiving service updates, bug fixes, and security updates please upgrade to Python 3.7 or later. More information can be found here: https://aws.amazon.com/blogs/developer/python-support-policy-updates-for-aws-sdks-and-tools/\n",
      "  warnings.warn(warning, PythonDeprecationWarning)\n",
      "INFO:root:Reading from hbo-ingest-datascience-content-dev/psi_first_views/fv_decay_category_2022-06-20.csv\n"
     ]
    },
    {
     "name": "stdout",
     "output_type": "stream",
     "text": [
      "Index(['page_views', 'prequel_featured_count', 'prequel_featured_count_s',\n",
      "       'prequel_count', 'season_number', 'schedule_label', 'tier_adj',\n",
      "       'effective_start_date', 'tier', 'content_category', 'title_name',\n",
      "       'page_views_s', 'category', 'first_views_log_pred', 'first_views_pred',\n",
      "       'pred_date', 'decay_category', 'category_category',\n",
      "       'days_since_premiere', 'first_views_pct'],\n",
      "      dtype='object')\n"
     ]
    },
    {
     "name": "stderr",
     "output_type": "stream",
     "text": [
      "INFO:root:Saved to hbo-ingest-datascience-content-dev/psi_first_views/fv_pred_munged_2022-06-20.csv\n",
      "INFO:root:Saved to hbo-ingest-datascience-content-dev/psi_first_views/psi_daily_xgb_forecast_2022-06-20.csv\n",
      "INFO:root:Saved to hbo-ingest-datascience-content-dev/psi_first_views/fv_pred_munged_2022-06-20.csv\n",
      "INFO:root:Saved to hbo-ingest-datascience-content-dev/psi_first_views/psi_daily_xgb_forecast_2022-06-20.csv\n"
     ]
    }
   ],
   "source": [
    "from io import StringIO\n",
    "\n",
    "dic_key_path = {'prod':'psi_first_views', 'dev':'psi_first_views', 'backtest':'psi_first_views/dev'}\n",
    "dic_input_bucket = {'prod':'hbo-ingest-datascience-content', 'dev':\"hbo-ingest-datascience-content-dev\", 'backtest':\"hbo-ingest-datascience-content-dev\"}\n",
    "dic_output_bucket = {'prod':'hbo-outbound-datascience-content', 'dev':\"hbo-outbound-datascience-content-dev\", 'backtest':\"hbo-outbound-datascience-content-dev\"}\n",
    "# input_bucket=\"hbo-ingest-datascience-content-dev\"\n",
    "# output_bucket=\"hbo-outbound-datascience-content-dev\"\n",
    "\n",
    "prod_backtest = 'prod' ## 'prod', 'backtest'\n",
    "key_path = dic_key_path[prod_backtest]\n",
    "input_bucket = dic_input_bucket[prod_backtest]\n",
    "output_bucket = dic_output_bucket[prod_backtest]\n",
    "\n",
    "if (prod_backtest =='prod') | (prod_backtest =='dev') :\n",
    "    list_date_train = [(datetime.today()).strftime('%Y-%m-%d')]\n",
    "elif prod_backtest =='backtest':\n",
    "    list_date_train = ['2021-01-01', '2021-02-01', '2021-03-01','2021-04-01', '2021-05-01', '2021-06-01','2021-07-01', '2021-08-01', '2021-09-01']\n",
    "\n",
    "df_pred_list = []\n",
    "df_pred_decay_list = [] \n",
    "for date_train in list_date_train:\n",
    "    date_pred = date_train \n",
    "   \n",
    "    #### Train \n",
    "    mode = 'train'\n",
    "    logger.info(f'TRAINING MODEL FOR {date_train}, Mode:{prod_backtest}')\n",
    "    \n",
    "    ## Read data \n",
    "    df_raw = Utils.read_csv_s3(input_bucket, key_path, f'fv_train_fv_{date_train}.csv')\n",
    "    df_imdb = Utils.read_csv_s3(input_bucket, key_path, f'fv_train_imdb_{date_train}.csv')\n",
    "    df_talent = Utils.read_csv_s3(input_bucket, key_path, f'fv_train_talent_{date_train}.csv')\n",
    "    df_raw = df_raw.assign(schedule_label='beta')\n",
    "    \n",
    "    ## Munge features, get decay curves, resample  \n",
    "    df_imdb_munged = IMDBFeatureMunger(df_imdb, mode, date_train).df_imdb_munged\n",
    "    df_base_munged_decay, df_base_munged = BaseFeatureMunger(df_raw, df_imdb_munged, df_talent, mode, date_train).return_df()\n",
    "    df_decay_category = FVDecay(df_base_munged_decay, mode, date_train, 'category').return_df()\n",
    "    df_in_train = PreProcessor(df_base_munged, mode, date_train).return_df()  \n",
    "    Utils.to_csv_s3(df_decay_category, input_bucket, key_path, f'fv_decay_category_{date_train}.csv')\n",
    "    Utils.to_csv_s3(df_in_train, input_bucket, key_path, f'fv_train_munged_{date_train}.csv')\n",
    "    Utils.to_csv_s3(df_in_train, 'hbo-ingest-datascience-content-dev', key_path, f'fv_train_munged_{date_train}.csv')\n",
    "    \n",
    "#     df_in_train.assign(upload_date_time=datetime.now().strftime(\"%Y-%m-%d %H:%M\"))\n",
    "#     Utils.to_csv_s3(df_in_train, output_bucket, key_path, f'fv_train_munged.csv')\n",
    "    \n",
    "    ## Train xgb\n",
    "    XGB(df_in_train, mode, date_train)\n",
    "    \n",
    "    #### Predict \n",
    "    mode = 'predict'\n",
    "    logger.info(f'PREDICTING FOR {date_pred}, Mode:{prod_backtest}')\n",
    "    \n",
    "    ## Read data  \n",
    "    if  (prod_backtest =='prod') | (prod_backtest =='dev') :\n",
    "        df_imdb_pred = Utils.read_csv_s3(input_bucket, key_path, f'fv_pred_{date_pred}.csv')\n",
    "        df_imdb_pred = df_imdb_pred.assign(first_views=0, title_id=0)\n",
    "        df_raw_pred = df_imdb_pred.copy()\n",
    "        df_talent_pred = Utils.read_csv_s3(input_bucket, key_path, f'fv_pred_talent_{date_pred}.csv')\n",
    "    elif prod_backtest=='backtest':\n",
    "        df_imdb_pred = Utils.read_csv_s3(input_bucket, key_path, f'fv_train_imdb_2021-12-01.csv')\n",
    "        df_raw_pred = Utils.read_csv_s3(input_bucket, key_path, f'fv_train_2021-12-15.csv')\n",
    "        df_talent_pred = Utils.read_csv_s3(input_bucket, key_path, f'fv_train_talent_{date_pred}.csv')\n",
    "        df_raw_pred = df_raw_pred[(df_raw_pred.effective_start_date >= date_pred)\\\n",
    "                                  & (df_raw_pred.effective_start_date < datetime.strptime(date_pred, '%Y-%m-%d')+ timedelta(days=92))]\n",
    "    \n",
    "    ## Munge features and resample \n",
    "    df_imdb_munged_pred = IMDBFeatureMunger(df_imdb_pred, mode, date_pred).return_df()\n",
    "    df_base_munged_pred = BaseFeatureMunger(df_raw_pred, df_imdb_munged_pred, df_talent_pred, mode, date_pred).return_df()\n",
    "    df_in_pred = PreProcessor(df_base_munged_pred, mode, date_pred).return_df()  \n",
    "    \n",
    "    ## Predict and apply decay \n",
    "    df_out_pred = XGB(df_in_pred, mode, date_pred).return_df()\n",
    "    df_decay_category = Utils.read_csv_s3(input_bucket, key_path, f'fv_decay_category_{date_train}.csv') \n",
    "    df_pred_decay = FVDecay.apply_decay_curve(df_out_pred, df_decay_category)\n",
    "    df_pred_list.append(df_out_pred)\n",
    "    df_pred_decay_list.append(df_pred_decay)\n",
    "\n",
    "df_pred = pd.concat(df_pred_list)\n",
    "df_pred_decay = pd.concat(df_pred_decay_list)\n",
    "df_pred_decay = df_pred_decay.assign(upload_date_time=datetime.now().strftime(\"%Y-%m-%d %H:%M\"))\n",
    "\n",
    "## save daily forecast to local file, identified by upload_date_time \n",
    "Utils.to_csv_s3(df_pred, input_bucket, key_path, f'fv_pred_munged_{date_train}.csv')\n",
    "Utils.to_csv_s3(df_pred_decay, input_bucket, key_path, f'psi_daily_xgb_forecast_{date_train}.csv')\n",
    "\n",
    "# Make duplicates in dev bucket \n",
    "Utils.to_csv_s3(df_pred, 'hbo-ingest-datascience-content-dev', key_path, f'fv_pred_munged_{date_train}.csv')\n",
    "Utils.to_csv_s3(df_pred_decay, 'hbo-ingest-datascience-content-dev', key_path, f'psi_daily_xgb_forecast_{date_train}.csv')\n",
    "\n",
    "# df_pred.assign(upload_date_time=datetime.now().strftime(\"%Y-%m-%d %H:%M\"))\n",
    "# Utils.to_csv_s3(df_pred, output_bucket, key_path, f'fv_pred_munged.csv')"
   ]
  },
  {
   "cell_type": "code",
   "execution_count": 14,
   "id": "791c0b79",
   "metadata": {},
   "outputs": [
    {
     "name": "stderr",
     "output_type": "stream",
     "text": [
      "/home/ec2-user/anaconda3/envs/python3/lib/python3.6/site-packages/boto3/compat.py:88: PythonDeprecationWarning: Boto3 will no longer support Python 3.6 starting May 30, 2022. To continue receiving service updates, bug fixes, and security updates please upgrade to Python 3.7 or later. More information can be found here: https://aws.amazon.com/blogs/developer/python-support-policy-updates-for-aws-sdks-and-tools/\n",
      "  warnings.warn(warning, PythonDeprecationWarning)\n",
      "INFO:root:Saved to hbo-outbound-datascience-content-dev/psi_first_views/psi_monthly_xgb_forecast.csv\n"
     ]
    },
    {
     "data": {
      "text/html": [
       "<div>\n",
       "<style scoped>\n",
       "    .dataframe tbody tr th:only-of-type {\n",
       "        vertical-align: middle;\n",
       "    }\n",
       "\n",
       "    .dataframe tbody tr th {\n",
       "        vertical-align: top;\n",
       "    }\n",
       "\n",
       "    .dataframe thead th {\n",
       "        text-align: right;\n",
       "    }\n",
       "</style>\n",
       "<table border=\"1\" class=\"dataframe\">\n",
       "  <thead>\n",
       "    <tr style=\"text-align: right;\">\n",
       "      <th></th>\n",
       "      <th>first_view_month</th>\n",
       "      <th>premiere_date</th>\n",
       "      <th>season_number</th>\n",
       "      <th>tier</th>\n",
       "      <th>content_category</th>\n",
       "      <th>category</th>\n",
       "      <th>prequel_count</th>\n",
       "      <th>prequel_featured_count</th>\n",
       "      <th>prequel_featured_count_s</th>\n",
       "      <th>page_views</th>\n",
       "      <th>page_views_s</th>\n",
       "      <th>tier_adjusted</th>\n",
       "      <th>first_views_pred_decay</th>\n",
       "      <th>model_train_date</th>\n",
       "      <th>schedule_label</th>\n",
       "    </tr>\n",
       "    <tr>\n",
       "      <th>title_name</th>\n",
       "      <th></th>\n",
       "      <th></th>\n",
       "      <th></th>\n",
       "      <th></th>\n",
       "      <th></th>\n",
       "      <th></th>\n",
       "      <th></th>\n",
       "      <th></th>\n",
       "      <th></th>\n",
       "      <th></th>\n",
       "      <th></th>\n",
       "      <th></th>\n",
       "      <th></th>\n",
       "      <th></th>\n",
       "      <th></th>\n",
       "    </tr>\n",
       "  </thead>\n",
       "  <tbody>\n",
       "    <tr>\n",
       "      <th>#BAMARush</th>\n",
       "      <td>2023-01-01</td>\n",
       "      <td>2023-01-19</td>\n",
       "      <td>0</td>\n",
       "      <td>3</td>\n",
       "      <td>movies</td>\n",
       "      <td>Documentary Features</td>\n",
       "      <td>0.0</td>\n",
       "      <td>-2.0</td>\n",
       "      <td>-2.0</td>\n",
       "      <td>-2</td>\n",
       "      <td>-2</td>\n",
       "      <td>39</td>\n",
       "      <td>930.2851</td>\n",
       "      <td>2022-06-20</td>\n",
       "      <td>alpha</td>\n",
       "    </tr>\n",
       "    <tr>\n",
       "      <th>#BAMARush</th>\n",
       "      <td>2023-01-01</td>\n",
       "      <td>2023-01-19</td>\n",
       "      <td>0</td>\n",
       "      <td>3</td>\n",
       "      <td>movies</td>\n",
       "      <td>Documentary Features</td>\n",
       "      <td>0.0</td>\n",
       "      <td>-2.0</td>\n",
       "      <td>-2.0</td>\n",
       "      <td>-2</td>\n",
       "      <td>-2</td>\n",
       "      <td>39</td>\n",
       "      <td>930.2851</td>\n",
       "      <td>2022-06-20</td>\n",
       "      <td>beta</td>\n",
       "    </tr>\n",
       "  </tbody>\n",
       "</table>\n",
       "</div>"
      ],
      "text/plain": [
       "           first_view_month premiere_date  season_number  tier  \\\n",
       "title_name                                                       \n",
       "#BAMARush        2023-01-01    2023-01-19              0     3   \n",
       "#BAMARush        2023-01-01    2023-01-19              0     3   \n",
       "\n",
       "           content_category              category  prequel_count  \\\n",
       "title_name                                                         \n",
       "#BAMARush            movies  Documentary Features            0.0   \n",
       "#BAMARush            movies  Documentary Features            0.0   \n",
       "\n",
       "            prequel_featured_count  prequel_featured_count_s  page_views  \\\n",
       "title_name                                                                 \n",
       "#BAMARush                     -2.0                      -2.0          -2   \n",
       "#BAMARush                     -2.0                      -2.0          -2   \n",
       "\n",
       "            page_views_s  tier_adjusted  first_views_pred_decay  \\\n",
       "title_name                                                        \n",
       "#BAMARush             -2             39                930.2851   \n",
       "#BAMARush             -2             39                930.2851   \n",
       "\n",
       "           model_train_date schedule_label  \n",
       "title_name                                  \n",
       "#BAMARush        2022-06-20          alpha  \n",
       "#BAMARush        2022-06-20           beta  "
      ]
     },
     "metadata": {},
     "output_type": "display_data"
    },
    {
     "data": {
      "text/html": [
       "<div>\n",
       "<style scoped>\n",
       "    .dataframe tbody tr th:only-of-type {\n",
       "        vertical-align: middle;\n",
       "    }\n",
       "\n",
       "    .dataframe tbody tr th {\n",
       "        vertical-align: top;\n",
       "    }\n",
       "\n",
       "    .dataframe thead th {\n",
       "        text-align: right;\n",
       "    }\n",
       "</style>\n",
       "<table border=\"1\" class=\"dataframe\">\n",
       "  <thead>\n",
       "    <tr style=\"text-align: right;\">\n",
       "      <th></th>\n",
       "      <th>title_name</th>\n",
       "      <th>premiere_date</th>\n",
       "      <th>season_number</th>\n",
       "      <th>tier</th>\n",
       "      <th>content_category</th>\n",
       "      <th>category</th>\n",
       "      <th>prequel_count</th>\n",
       "      <th>prequel_featured_count</th>\n",
       "      <th>prequel_featured_count_s</th>\n",
       "      <th>page_views</th>\n",
       "      <th>page_views_s</th>\n",
       "      <th>schedule_label</th>\n",
       "      <th>tier_adjusted</th>\n",
       "      <th>first_views_pred_decay</th>\n",
       "    </tr>\n",
       "  </thead>\n",
       "  <tbody>\n",
       "    <tr>\n",
       "      <th>115</th>\n",
       "      <td>Westworld</td>\n",
       "      <td>2022-06-26</td>\n",
       "      <td>4</td>\n",
       "      <td>1</td>\n",
       "      <td>series</td>\n",
       "      <td>Scripted Drama Series</td>\n",
       "      <td>-1.0</td>\n",
       "      <td>-1.0</td>\n",
       "      <td>40.0</td>\n",
       "      <td>-1</td>\n",
       "      <td>200000</td>\n",
       "      <td>beta</td>\n",
       "      <td>91</td>\n",
       "      <td>160158.484375</td>\n",
       "    </tr>\n",
       "    <tr>\n",
       "      <th>114</th>\n",
       "      <td>Westworld</td>\n",
       "      <td>2022-06-26</td>\n",
       "      <td>4</td>\n",
       "      <td>1</td>\n",
       "      <td>series</td>\n",
       "      <td>Scripted Drama Series</td>\n",
       "      <td>-1.0</td>\n",
       "      <td>-1.0</td>\n",
       "      <td>40.0</td>\n",
       "      <td>-1</td>\n",
       "      <td>200000</td>\n",
       "      <td>alpha</td>\n",
       "      <td>91</td>\n",
       "      <td>160158.484375</td>\n",
       "    </tr>\n",
       "    <tr>\n",
       "      <th>61</th>\n",
       "      <td>Pretty Little Liars: Original Sin</td>\n",
       "      <td>2022-07-07</td>\n",
       "      <td>1</td>\n",
       "      <td>1</td>\n",
       "      <td>series</td>\n",
       "      <td>Scripted Drama Series</td>\n",
       "      <td>-1.0</td>\n",
       "      <td>-1.0</td>\n",
       "      <td>40.0</td>\n",
       "      <td>-1</td>\n",
       "      <td>100000</td>\n",
       "      <td>alpha</td>\n",
       "      <td>91</td>\n",
       "      <td>89476.687500</td>\n",
       "    </tr>\n",
       "    <tr>\n",
       "      <th>62</th>\n",
       "      <td>Pretty Little Liars: Original Sin</td>\n",
       "      <td>2022-07-07</td>\n",
       "      <td>1</td>\n",
       "      <td>1</td>\n",
       "      <td>series</td>\n",
       "      <td>Scripted Drama Series</td>\n",
       "      <td>-1.0</td>\n",
       "      <td>-1.0</td>\n",
       "      <td>40.0</td>\n",
       "      <td>-1</td>\n",
       "      <td>100000</td>\n",
       "      <td>beta</td>\n",
       "      <td>91</td>\n",
       "      <td>89476.687500</td>\n",
       "    </tr>\n",
       "    <tr>\n",
       "      <th>35</th>\n",
       "      <td>Elvis</td>\n",
       "      <td>2022-08-08</td>\n",
       "      <td>0</td>\n",
       "      <td>1</td>\n",
       "      <td>movies</td>\n",
       "      <td>Pay 1 WB Theatricals</td>\n",
       "      <td>0.0</td>\n",
       "      <td>0.0</td>\n",
       "      <td>-1.0</td>\n",
       "      <td>100000</td>\n",
       "      <td>-1</td>\n",
       "      <td>alpha</td>\n",
       "      <td>91</td>\n",
       "      <td>141247.062500</td>\n",
       "    </tr>\n",
       "    <tr>\n",
       "      <th>...</th>\n",
       "      <td>...</td>\n",
       "      <td>...</td>\n",
       "      <td>...</td>\n",
       "      <td>...</td>\n",
       "      <td>...</td>\n",
       "      <td>...</td>\n",
       "      <td>...</td>\n",
       "      <td>...</td>\n",
       "      <td>...</td>\n",
       "      <td>...</td>\n",
       "      <td>...</td>\n",
       "      <td>...</td>\n",
       "      <td>...</td>\n",
       "      <td>...</td>\n",
       "    </tr>\n",
       "    <tr>\n",
       "      <th>88</th>\n",
       "      <td>The Last Of Us</td>\n",
       "      <td>2024-10-27</td>\n",
       "      <td>2</td>\n",
       "      <td>0</td>\n",
       "      <td>series</td>\n",
       "      <td>Scripted Drama Series</td>\n",
       "      <td>-1.0</td>\n",
       "      <td>-1.0</td>\n",
       "      <td>40.0</td>\n",
       "      <td>-1</td>\n",
       "      <td>200000</td>\n",
       "      <td>beta</td>\n",
       "      <td>0</td>\n",
       "      <td>412245.656250</td>\n",
       "    </tr>\n",
       "    <tr>\n",
       "      <th>97</th>\n",
       "      <td>The Sex Lives of College Girls</td>\n",
       "      <td>2024-11-14</td>\n",
       "      <td>4</td>\n",
       "      <td>1</td>\n",
       "      <td>series</td>\n",
       "      <td>Scripted Comedy Series</td>\n",
       "      <td>-1.0</td>\n",
       "      <td>-1.0</td>\n",
       "      <td>0.0</td>\n",
       "      <td>-1</td>\n",
       "      <td>100000</td>\n",
       "      <td>beta</td>\n",
       "      <td>91</td>\n",
       "      <td>69348.523438</td>\n",
       "    </tr>\n",
       "    <tr>\n",
       "      <th>106</th>\n",
       "      <td>Untitled DC Event Film #4</td>\n",
       "      <td>2024-11-18</td>\n",
       "      <td>0</td>\n",
       "      <td>1</td>\n",
       "      <td>movies</td>\n",
       "      <td>Pay 1 WB Theatricals</td>\n",
       "      <td>0.0</td>\n",
       "      <td>0.0</td>\n",
       "      <td>-1.0</td>\n",
       "      <td>1000</td>\n",
       "      <td>-1</td>\n",
       "      <td>beta</td>\n",
       "      <td>91</td>\n",
       "      <td>141247.062500</td>\n",
       "    </tr>\n",
       "    <tr>\n",
       "      <th>63</th>\n",
       "      <td>Pretty Little Liars: Original Sin</td>\n",
       "      <td>2024-11-28</td>\n",
       "      <td>3</td>\n",
       "      <td>1</td>\n",
       "      <td>series</td>\n",
       "      <td>Scripted Drama Series</td>\n",
       "      <td>-1.0</td>\n",
       "      <td>-1.0</td>\n",
       "      <td>0.0</td>\n",
       "      <td>-1</td>\n",
       "      <td>100000</td>\n",
       "      <td>beta</td>\n",
       "      <td>91</td>\n",
       "      <td>69348.523438</td>\n",
       "    </tr>\n",
       "    <tr>\n",
       "      <th>60</th>\n",
       "      <td>Polar Express 2</td>\n",
       "      <td>2024-12-05</td>\n",
       "      <td>0</td>\n",
       "      <td>1</td>\n",
       "      <td>movies</td>\n",
       "      <td>Scripted Features</td>\n",
       "      <td>0.0</td>\n",
       "      <td>0.0</td>\n",
       "      <td>-1.0</td>\n",
       "      <td>1000</td>\n",
       "      <td>-1</td>\n",
       "      <td>beta</td>\n",
       "      <td>91</td>\n",
       "      <td>141247.062500</td>\n",
       "    </tr>\n",
       "  </tbody>\n",
       "</table>\n",
       "<p>123 rows × 14 columns</p>\n",
       "</div>"
      ],
      "text/plain": [
       "                            title_name premiere_date  season_number  tier  \\\n",
       "115                          Westworld    2022-06-26              4     1   \n",
       "114                          Westworld    2022-06-26              4     1   \n",
       "61   Pretty Little Liars: Original Sin    2022-07-07              1     1   \n",
       "62   Pretty Little Liars: Original Sin    2022-07-07              1     1   \n",
       "35                               Elvis    2022-08-08              0     1   \n",
       "..                                 ...           ...            ...   ...   \n",
       "88                      The Last Of Us    2024-10-27              2     0   \n",
       "97      The Sex Lives of College Girls    2024-11-14              4     1   \n",
       "106          Untitled DC Event Film #4    2024-11-18              0     1   \n",
       "63   Pretty Little Liars: Original Sin    2024-11-28              3     1   \n",
       "60                     Polar Express 2    2024-12-05              0     1   \n",
       "\n",
       "    content_category                category  prequel_count  \\\n",
       "115           series   Scripted Drama Series           -1.0   \n",
       "114           series   Scripted Drama Series           -1.0   \n",
       "61            series   Scripted Drama Series           -1.0   \n",
       "62            series   Scripted Drama Series           -1.0   \n",
       "35            movies    Pay 1 WB Theatricals            0.0   \n",
       "..               ...                     ...            ...   \n",
       "88            series   Scripted Drama Series           -1.0   \n",
       "97            series  Scripted Comedy Series           -1.0   \n",
       "106           movies    Pay 1 WB Theatricals            0.0   \n",
       "63            series   Scripted Drama Series           -1.0   \n",
       "60            movies       Scripted Features            0.0   \n",
       "\n",
       "     prequel_featured_count  prequel_featured_count_s  page_views  \\\n",
       "115                    -1.0                      40.0          -1   \n",
       "114                    -1.0                      40.0          -1   \n",
       "61                     -1.0                      40.0          -1   \n",
       "62                     -1.0                      40.0          -1   \n",
       "35                      0.0                      -1.0      100000   \n",
       "..                      ...                       ...         ...   \n",
       "88                     -1.0                      40.0          -1   \n",
       "97                     -1.0                       0.0          -1   \n",
       "106                     0.0                      -1.0        1000   \n",
       "63                     -1.0                       0.0          -1   \n",
       "60                      0.0                      -1.0        1000   \n",
       "\n",
       "     page_views_s schedule_label  tier_adjusted  first_views_pred_decay  \n",
       "115        200000           beta             91           160158.484375  \n",
       "114        200000          alpha             91           160158.484375  \n",
       "61         100000          alpha             91            89476.687500  \n",
       "62         100000           beta             91            89476.687500  \n",
       "35             -1          alpha             91           141247.062500  \n",
       "..            ...            ...            ...                     ...  \n",
       "88         200000           beta              0           412245.656250  \n",
       "97         100000           beta             91            69348.523438  \n",
       "106            -1           beta             91           141247.062500  \n",
       "63         100000           beta             91            69348.523438  \n",
       "60             -1           beta             91           141247.062500  \n",
       "\n",
       "[123 rows x 14 columns]"
      ]
     },
     "metadata": {},
     "output_type": "display_data"
    }
   ],
   "source": [
    "def get_agg_first_views(df_in, agg_col, grpby_title, first_view_date_col, first_view_col):\n",
    "    grpby_title_agg = grpby_title + [agg_col]\n",
    "    df_in[first_view_date_col] = pd.to_datetime(df_in[first_view_date_col])\n",
    "    df_in['first_view_quarter'] = df_in[first_view_date_col].dt.to_period(\"Q\").dt.to_timestamp()   \n",
    "    df_in['first_view_month'] = df_in[first_view_date_col].dt.to_period('M').dt.to_timestamp()\n",
    "    df_in = df_in[grpby_title_agg + first_view_col].groupby(by=grpby_title_agg).sum().reset_index()\n",
    "    return df_in\n",
    "\n",
    "dic_rename = {'tier_adj':'tier_adjusted', 'effective_start_date':'premiere_date', 'pred_date':'model_train_date'} \n",
    "out_col = ['title_name', 'first_view_month', 'premiere_date', 'season_number',\n",
    "           'tier','content_category', 'category', 'prequel_count', 'prequel_featured_count','prequel_featured_count_s',\n",
    "            'page_views','page_views_s',\n",
    "           'tier_adjusted', 'first_views_pred_decay', 'model_train_date','schedule_label']\n",
    "\n",
    "dtype = {'season_number':int}\n",
    "\n",
    "if  (prod_backtest =='prod') | (prod_backtest =='dev'):\n",
    "    agg_var = 'first_view_month'    \n",
    "    df_pred_future_out = df_pred_decay.rename(columns=dic_rename)\n",
    "    df_pred_future_out = df_pred_future_out[df_pred_future_out.premiere_date>=date_pred]\n",
    "    df_pred_future_out = df_pred_future_out[out_col].groupby(by=out_col[:-4]+['model_train_date', 'schedule_label']).sum().reset_index()\n",
    "    df_pred_future_out = df_pred_future_out[out_col].set_index('title_name')\n",
    "    df_pred_future_out['season_number'] = df_pred_future_out['season_number'].astype(int)\n",
    "    Utils.to_csv_s3(df_pred_future_out, output_bucket, key_path, f'psi_monthly_xgb_forecast.csv')\n",
    "    \n",
    "display(df_pred_future_out.head(2))\n",
    "display(df_pred_future_out[(df_pred_future_out.tier<=1)].groupby(by=['title_name']+out_col[2:-4]+['schedule_label']).sum().reset_index().sort_values(by=['premiere_date']))"
   ]
  },
  {
   "cell_type": "markdown",
   "id": "b86b076f",
   "metadata": {},
   "source": [
    "## Check model drift"
   ]
  },
  {
   "cell_type": "code",
   "execution_count": 55,
   "id": "a47912ef",
   "metadata": {},
   "outputs": [
    {
     "name": "stderr",
     "output_type": "stream",
     "text": [
      "INFO:root:CHECKING MODEL DRIFT FOR 2022-03-22 vs. 2022-02-09\n",
      "INFO:root:Read from hbo-ingest-datascience-content-dev/psi_first_views/fv_2022-03-22.pkl\n",
      "/home/ec2-user/anaconda3/envs/python3/lib/python3.6/site-packages/ipykernel/__main__.py:317: SettingWithCopyWarning: \n",
      "A value is trying to be set on a copy of a slice from a DataFrame.\n",
      "Try using .loc[row_indexer,col_indexer] = value instead\n",
      "\n",
      "See the caveats in the documentation: https://pandas.pydata.org/pandas-docs/stable/user_guide/indexing.html#returning-a-view-versus-a-copy\n",
      "/home/ec2-user/anaconda3/envs/python3/lib/python3.6/site-packages/ipykernel/__main__.py:318: SettingWithCopyWarning: \n",
      "A value is trying to be set on a copy of a slice from a DataFrame.\n",
      "Try using .loc[row_indexer,col_indexer] = value instead\n",
      "\n",
      "See the caveats in the documentation: https://pandas.pydata.org/pandas-docs/stable/user_guide/indexing.html#returning-a-view-versus-a-copy\n"
     ]
    },
    {
     "data": {
      "text/html": [
       "<div>\n",
       "<style scoped>\n",
       "    .dataframe tbody tr th:only-of-type {\n",
       "        vertical-align: middle;\n",
       "    }\n",
       "\n",
       "    .dataframe tbody tr th {\n",
       "        vertical-align: top;\n",
       "    }\n",
       "\n",
       "    .dataframe thead th {\n",
       "        text-align: right;\n",
       "    }\n",
       "</style>\n",
       "<table border=\"1\" class=\"dataframe\">\n",
       "  <thead>\n",
       "    <tr style=\"text-align: right;\">\n",
       "      <th></th>\n",
       "      <th>effective_start_month</th>\n",
       "      <th>first_views_pred</th>\n",
       "      <th>first_views_pred_base</th>\n",
       "      <th>pred_diff</th>\n",
       "    </tr>\n",
       "  </thead>\n",
       "  <tbody>\n",
       "    <tr>\n",
       "      <th>15</th>\n",
       "      <td>2022-04-01</td>\n",
       "      <td>854439.87500</td>\n",
       "      <td>920412.50000</td>\n",
       "      <td>-65972.609375</td>\n",
       "    </tr>\n",
       "    <tr>\n",
       "      <th>16</th>\n",
       "      <td>2022-05-01</td>\n",
       "      <td>585988.06250</td>\n",
       "      <td>737540.68750</td>\n",
       "      <td>-151552.625000</td>\n",
       "    </tr>\n",
       "    <tr>\n",
       "      <th>17</th>\n",
       "      <td>2022-06-01</td>\n",
       "      <td>352366.00000</td>\n",
       "      <td>342063.03125</td>\n",
       "      <td>10302.951172</td>\n",
       "    </tr>\n",
       "    <tr>\n",
       "      <th>18</th>\n",
       "      <td>2022-07-01</td>\n",
       "      <td>314223.09375</td>\n",
       "      <td>318921.21875</td>\n",
       "      <td>-4698.153320</td>\n",
       "    </tr>\n",
       "    <tr>\n",
       "      <th>19</th>\n",
       "      <td>2022-08-01</td>\n",
       "      <td>816481.62500</td>\n",
       "      <td>794327.93750</td>\n",
       "      <td>22153.677734</td>\n",
       "    </tr>\n",
       "    <tr>\n",
       "      <th>20</th>\n",
       "      <td>2022-09-01</td>\n",
       "      <td>423722.62500</td>\n",
       "      <td>377030.37500</td>\n",
       "      <td>46692.226562</td>\n",
       "    </tr>\n",
       "    <tr>\n",
       "      <th>21</th>\n",
       "      <td>2022-10-01</td>\n",
       "      <td>711015.68750</td>\n",
       "      <td>689516.00000</td>\n",
       "      <td>21499.730469</td>\n",
       "    </tr>\n",
       "    <tr>\n",
       "      <th>22</th>\n",
       "      <td>2022-11-01</td>\n",
       "      <td>710006.06250</td>\n",
       "      <td>716378.31250</td>\n",
       "      <td>-6372.216309</td>\n",
       "    </tr>\n",
       "    <tr>\n",
       "      <th>23</th>\n",
       "      <td>2022-12-01</td>\n",
       "      <td>510215.03125</td>\n",
       "      <td>497303.28125</td>\n",
       "      <td>12911.759766</td>\n",
       "    </tr>\n",
       "    <tr>\n",
       "      <th>24</th>\n",
       "      <td>2023-01-01</td>\n",
       "      <td>692935.00000</td>\n",
       "      <td>682806.25000</td>\n",
       "      <td>10128.729492</td>\n",
       "    </tr>\n",
       "  </tbody>\n",
       "</table>\n",
       "</div>"
      ],
      "text/plain": [
       "   effective_start_month  first_views_pred  first_views_pred_base  \\\n",
       "15            2022-04-01      854439.87500           920412.50000   \n",
       "16            2022-05-01      585988.06250           737540.68750   \n",
       "17            2022-06-01      352366.00000           342063.03125   \n",
       "18            2022-07-01      314223.09375           318921.21875   \n",
       "19            2022-08-01      816481.62500           794327.93750   \n",
       "20            2022-09-01      423722.62500           377030.37500   \n",
       "21            2022-10-01      711015.68750           689516.00000   \n",
       "22            2022-11-01      710006.06250           716378.31250   \n",
       "23            2022-12-01      510215.03125           497303.28125   \n",
       "24            2023-01-01      692935.00000           682806.25000   \n",
       "\n",
       "        pred_diff  \n",
       "15  -65972.609375  \n",
       "16 -151552.625000  \n",
       "17   10302.951172  \n",
       "18   -4698.153320  \n",
       "19   22153.677734  \n",
       "20   46692.226562  \n",
       "21   21499.730469  \n",
       "22   -6372.216309  \n",
       "23   12911.759766  \n",
       "24   10128.729492  "
      ]
     },
     "metadata": {},
     "output_type": "display_data"
    },
    {
     "name": "stderr",
     "output_type": "stream",
     "text": [
      "INFO:root:Monthly MAE: 59873.01171875\n"
     ]
    },
    {
     "data": {
      "text/html": [
       "<div>\n",
       "<style scoped>\n",
       "    .dataframe tbody tr th:only-of-type {\n",
       "        vertical-align: middle;\n",
       "    }\n",
       "\n",
       "    .dataframe tbody tr th {\n",
       "        vertical-align: top;\n",
       "    }\n",
       "\n",
       "    .dataframe thead th {\n",
       "        text-align: right;\n",
       "    }\n",
       "</style>\n",
       "<table border=\"1\" class=\"dataframe\">\n",
       "  <thead>\n",
       "    <tr style=\"text-align: right;\">\n",
       "      <th></th>\n",
       "      <th>title_name</th>\n",
       "      <th>effective_start_date</th>\n",
       "      <th>tier</th>\n",
       "      <th>category</th>\n",
       "      <th>content_category</th>\n",
       "      <th>first_views_pred</th>\n",
       "      <th>first_views_pred_base</th>\n",
       "      <th>pred_diff</th>\n",
       "      <th>pred_diff_pct</th>\n",
       "    </tr>\n",
       "  </thead>\n",
       "  <tbody>\n",
       "    <tr>\n",
       "      <th>625</th>\n",
       "      <td>The Batman</td>\n",
       "      <td>2022-04-18</td>\n",
       "      <td>1</td>\n",
       "      <td>Pay 1 WB Theatricals</td>\n",
       "      <td>movies</td>\n",
       "      <td>229216.109375</td>\n",
       "      <td>248287.421875</td>\n",
       "      <td>-19071.312500</td>\n",
       "      <td>-0.076811</td>\n",
       "    </tr>\n",
       "    <tr>\n",
       "      <th>646</th>\n",
       "      <td>The Flight Attendant</td>\n",
       "      <td>2022-04-21</td>\n",
       "      <td>0</td>\n",
       "      <td>Scripted Drama Series</td>\n",
       "      <td>series</td>\n",
       "      <td>466477.093750</td>\n",
       "      <td>483773.718750</td>\n",
       "      <td>-17296.625000</td>\n",
       "      <td>-0.035754</td>\n",
       "    </tr>\n",
       "    <tr>\n",
       "      <th>717</th>\n",
       "      <td>The Staircase</td>\n",
       "      <td>2022-05-05</td>\n",
       "      <td>1</td>\n",
       "      <td>Scripted Drama Series</td>\n",
       "      <td>series</td>\n",
       "      <td>152018.984375</td>\n",
       "      <td>150452.390625</td>\n",
       "      <td>1566.593750</td>\n",
       "      <td>0.010413</td>\n",
       "    </tr>\n",
       "    <tr>\n",
       "      <th>167</th>\n",
       "      <td>Fantastic Beasts: The Secrets of Dumbledore</td>\n",
       "      <td>2022-05-30</td>\n",
       "      <td>1</td>\n",
       "      <td>Pay 1 WB Theatricals</td>\n",
       "      <td>movies</td>\n",
       "      <td>213999.375000</td>\n",
       "      <td>368620.156250</td>\n",
       "      <td>-154620.781250</td>\n",
       "      <td>-0.419458</td>\n",
       "    </tr>\n",
       "    <tr>\n",
       "      <th>169</th>\n",
       "      <td>Father of the Bride</td>\n",
       "      <td>2022-06-16</td>\n",
       "      <td>1</td>\n",
       "      <td>Scripted Features</td>\n",
       "      <td>movies</td>\n",
       "      <td>159487.390625</td>\n",
       "      <td>141358.250000</td>\n",
       "      <td>18129.140625</td>\n",
       "      <td>0.128250</td>\n",
       "    </tr>\n",
       "    <tr>\n",
       "      <th>797</th>\n",
       "      <td>Westworld</td>\n",
       "      <td>2022-06-26</td>\n",
       "      <td>1</td>\n",
       "      <td>Scripted Drama Series</td>\n",
       "      <td>series</td>\n",
       "      <td>152018.984375</td>\n",
       "      <td>150452.390625</td>\n",
       "      <td>1566.593750</td>\n",
       "      <td>0.010413</td>\n",
       "    </tr>\n",
       "    <tr>\n",
       "      <th>512</th>\n",
       "      <td>Pretty Little Liars: Original Sin</td>\n",
       "      <td>2022-07-07</td>\n",
       "      <td>1</td>\n",
       "      <td>Scripted Drama Series</td>\n",
       "      <td>series</td>\n",
       "      <td>152018.984375</td>\n",
       "      <td>150452.390625</td>\n",
       "      <td>1566.593750</td>\n",
       "      <td>0.010413</td>\n",
       "    </tr>\n",
       "    <tr>\n",
       "      <th>143</th>\n",
       "      <td>Elvis</td>\n",
       "      <td>2022-08-08</td>\n",
       "      <td>1</td>\n",
       "      <td>Pay 1 WB Theatricals</td>\n",
       "      <td>movies</td>\n",
       "      <td>145503.671875</td>\n",
       "      <td>113163.937500</td>\n",
       "      <td>32339.734375</td>\n",
       "      <td>0.285778</td>\n",
       "    </tr>\n",
       "    <tr>\n",
       "      <th>333</th>\n",
       "      <td>House Of The Dragon</td>\n",
       "      <td>2022-08-21</td>\n",
       "      <td>0</td>\n",
       "      <td>Scripted Drama Series</td>\n",
       "      <td>series</td>\n",
       "      <td>466477.093750</td>\n",
       "      <td>483773.718750</td>\n",
       "      <td>-17296.625000</td>\n",
       "      <td>-0.035754</td>\n",
       "    </tr>\n",
       "    <tr>\n",
       "      <th>119</th>\n",
       "      <td>DC League Of Super-Pets</td>\n",
       "      <td>2022-09-12</td>\n",
       "      <td>1</td>\n",
       "      <td>Pay 1 WB Theatricals</td>\n",
       "      <td>movies</td>\n",
       "      <td>145503.671875</td>\n",
       "      <td>113163.937500</td>\n",
       "      <td>32339.734375</td>\n",
       "      <td>0.285778</td>\n",
       "    </tr>\n",
       "    <tr>\n",
       "      <th>421</th>\n",
       "      <td>Love &amp; Death</td>\n",
       "      <td>2022-10-20</td>\n",
       "      <td>1</td>\n",
       "      <td>Scripted Drama Series</td>\n",
       "      <td>series</td>\n",
       "      <td>152018.984375</td>\n",
       "      <td>150452.390625</td>\n",
       "      <td>1566.593750</td>\n",
       "      <td>0.010413</td>\n",
       "    </tr>\n",
       "    <tr>\n",
       "      <th>541</th>\n",
       "      <td>Salem's Lot</td>\n",
       "      <td>2022-10-24</td>\n",
       "      <td>1</td>\n",
       "      <td>Pay 1 WB Theatricals</td>\n",
       "      <td>movies</td>\n",
       "      <td>145503.671875</td>\n",
       "      <td>113163.937500</td>\n",
       "      <td>32339.734375</td>\n",
       "      <td>0.285778</td>\n",
       "    </tr>\n",
       "    <tr>\n",
       "      <th>430</th>\n",
       "      <td>Magic Mike's Last Dance</td>\n",
       "      <td>2022-10-27</td>\n",
       "      <td>1</td>\n",
       "      <td>Scripted Features</td>\n",
       "      <td>movies</td>\n",
       "      <td>159487.390625</td>\n",
       "      <td>141358.250000</td>\n",
       "      <td>18129.140625</td>\n",
       "      <td>0.128250</td>\n",
       "    </tr>\n",
       "    <tr>\n",
       "      <th>129</th>\n",
       "      <td>Don't Worry Darling</td>\n",
       "      <td>2022-11-07</td>\n",
       "      <td>1</td>\n",
       "      <td>Pay 1 WB Theatricals</td>\n",
       "      <td>movies</td>\n",
       "      <td>145503.671875</td>\n",
       "      <td>113163.937500</td>\n",
       "      <td>32339.734375</td>\n",
       "      <td>0.285778</td>\n",
       "    </tr>\n",
       "    <tr>\n",
       "      <th>211</th>\n",
       "      <td>Gossip Girl</td>\n",
       "      <td>2022-11-10</td>\n",
       "      <td>1</td>\n",
       "      <td>Scripted Drama Series</td>\n",
       "      <td>series</td>\n",
       "      <td>152018.984375</td>\n",
       "      <td>150452.390625</td>\n",
       "      <td>1566.593750</td>\n",
       "      <td>0.010413</td>\n",
       "    </tr>\n",
       "    <tr>\n",
       "      <th>711</th>\n",
       "      <td>The Sex Lives of College Girls</td>\n",
       "      <td>2022-11-17</td>\n",
       "      <td>1</td>\n",
       "      <td>Scripted Comedy Series</td>\n",
       "      <td>series</td>\n",
       "      <td>84807.781250</td>\n",
       "      <td>132148.218750</td>\n",
       "      <td>-47340.437500</td>\n",
       "      <td>-0.358237</td>\n",
       "    </tr>\n",
       "    <tr>\n",
       "      <th>19</th>\n",
       "      <td>A Christmas Story Christmas</td>\n",
       "      <td>2022-11-17</td>\n",
       "      <td>1</td>\n",
       "      <td>Scripted Features</td>\n",
       "      <td>movies</td>\n",
       "      <td>159487.390625</td>\n",
       "      <td>141358.250000</td>\n",
       "      <td>18129.140625</td>\n",
       "      <td>0.128250</td>\n",
       "    </tr>\n",
       "    <tr>\n",
       "      <th>73</th>\n",
       "      <td>Black Adam</td>\n",
       "      <td>2022-12-05</td>\n",
       "      <td>1</td>\n",
       "      <td>Pay 1 WB Theatricals</td>\n",
       "      <td>movies</td>\n",
       "      <td>229216.109375</td>\n",
       "      <td>248287.421875</td>\n",
       "      <td>-19071.312500</td>\n",
       "      <td>-0.076811</td>\n",
       "    </tr>\n",
       "  </tbody>\n",
       "</table>\n",
       "</div>"
      ],
      "text/plain": [
       "                                      title_name effective_start_date  tier  \\\n",
       "625                                   The Batman           2022-04-18     1   \n",
       "646                         The Flight Attendant           2022-04-21     0   \n",
       "717                                The Staircase           2022-05-05     1   \n",
       "167  Fantastic Beasts: The Secrets of Dumbledore           2022-05-30     1   \n",
       "169                          Father of the Bride           2022-06-16     1   \n",
       "797                                    Westworld           2022-06-26     1   \n",
       "512            Pretty Little Liars: Original Sin           2022-07-07     1   \n",
       "143                                        Elvis           2022-08-08     1   \n",
       "333                          House Of The Dragon           2022-08-21     0   \n",
       "119                      DC League Of Super-Pets           2022-09-12     1   \n",
       "421                                 Love & Death           2022-10-20     1   \n",
       "541                                  Salem's Lot           2022-10-24     1   \n",
       "430                      Magic Mike's Last Dance           2022-10-27     1   \n",
       "129                          Don't Worry Darling           2022-11-07     1   \n",
       "211                                  Gossip Girl           2022-11-10     1   \n",
       "711               The Sex Lives of College Girls           2022-11-17     1   \n",
       "19                   A Christmas Story Christmas           2022-11-17     1   \n",
       "73                                    Black Adam           2022-12-05     1   \n",
       "\n",
       "                   category content_category  first_views_pred  \\\n",
       "625    Pay 1 WB Theatricals           movies     229216.109375   \n",
       "646   Scripted Drama Series           series     466477.093750   \n",
       "717   Scripted Drama Series           series     152018.984375   \n",
       "167    Pay 1 WB Theatricals           movies     213999.375000   \n",
       "169       Scripted Features           movies     159487.390625   \n",
       "797   Scripted Drama Series           series     152018.984375   \n",
       "512   Scripted Drama Series           series     152018.984375   \n",
       "143    Pay 1 WB Theatricals           movies     145503.671875   \n",
       "333   Scripted Drama Series           series     466477.093750   \n",
       "119    Pay 1 WB Theatricals           movies     145503.671875   \n",
       "421   Scripted Drama Series           series     152018.984375   \n",
       "541    Pay 1 WB Theatricals           movies     145503.671875   \n",
       "430       Scripted Features           movies     159487.390625   \n",
       "129    Pay 1 WB Theatricals           movies     145503.671875   \n",
       "211   Scripted Drama Series           series     152018.984375   \n",
       "711  Scripted Comedy Series           series      84807.781250   \n",
       "19        Scripted Features           movies     159487.390625   \n",
       "73     Pay 1 WB Theatricals           movies     229216.109375   \n",
       "\n",
       "     first_views_pred_base      pred_diff  pred_diff_pct  \n",
       "625          248287.421875  -19071.312500      -0.076811  \n",
       "646          483773.718750  -17296.625000      -0.035754  \n",
       "717          150452.390625    1566.593750       0.010413  \n",
       "167          368620.156250 -154620.781250      -0.419458  \n",
       "169          141358.250000   18129.140625       0.128250  \n",
       "797          150452.390625    1566.593750       0.010413  \n",
       "512          150452.390625    1566.593750       0.010413  \n",
       "143          113163.937500   32339.734375       0.285778  \n",
       "333          483773.718750  -17296.625000      -0.035754  \n",
       "119          113163.937500   32339.734375       0.285778  \n",
       "421          150452.390625    1566.593750       0.010413  \n",
       "541          113163.937500   32339.734375       0.285778  \n",
       "430          141358.250000   18129.140625       0.128250  \n",
       "129          113163.937500   32339.734375       0.285778  \n",
       "211          150452.390625    1566.593750       0.010413  \n",
       "711          132148.218750  -47340.437500      -0.358237  \n",
       "19           141358.250000   18129.140625       0.128250  \n",
       "73           248287.421875  -19071.312500      -0.076811  "
      ]
     },
     "metadata": {},
     "output_type": "display_data"
    },
    {
     "name": "stderr",
     "output_type": "stream",
     "text": [
      "INFO:root:Title MAPE FOR Tier 0,1 : 0.14348602294921875\n"
     ]
    }
   ],
   "source": [
    "# import boto3\n",
    "\n",
    "# s3 = boto3.resource('s3')\n",
    "# my_bucket = s3.Bucket(input_bucket)\n",
    "\n",
    "# ## Get all .pkl files in s3 bucket to find the previously trained model \n",
    "# pkl_list=[]\n",
    "# for my_bucket_object in my_bucket.objects.filter(Prefix=key_path):\n",
    "#     if my_bucket_object.key.endswith('.pkl') and my_bucket_object.key.startswith(f'{key_path}/fv'):\n",
    "#         pkl_list.append(my_bucket_object.key)\n",
    "# base_model_date = pkl_list[-2][-14:-4]\n",
    "\n",
    "\n",
    "# ## Predict on the current df_pred using the previous model \n",
    "# logger.info(f'CHECKING MODEL DRIFT FOR {date_pred} vs. {base_model_date}')\n",
    "\n",
    "# date_pred_base = base_model_date\n",
    "# df_out_pred_base = XGB(df_in_pred, mode, date_pred_base).return_df()\n",
    "\n",
    "# df_out_drift = df_out_pred.merge(df_out_pred_base, on=['title_name','content_category','category','season_number'], suffixes=['','_base'], how='left')\n",
    "# df_out_drift['effective_start_month'] = pd.to_datetime(df_out_drift['effective_start_date']).dt.to_period('M').dt.to_timestamp()\n",
    "# df_out_drift['pred_diff'] = df_out_drift['first_views_pred'] - df_out_drift['first_views_pred_base']\n",
    "# df_out_drift['pred_diff_pct'] = df_out_drift['pred_diff']/df_out_drift['first_views_pred_base']\n",
    "\n",
    "# ## Aggregate monthly drift \n",
    "# df_out_drift_mth = df_out_drift.groupby(by=['effective_start_month']).sum().reset_index()\n",
    "# display(df_out_drift_mth[(df_out_drift_mth['effective_start_month']>=date_pred) & (df_out_drift_mth['effective_start_month']<='2023-01-01')][['effective_start_month','first_views_pred','first_views_pred_base','pred_diff']])\n",
    "# logger.info(f'Monthly MAE: {df_out_drift_mth.pred_diff.abs().mean()}')\n",
    "\n",
    "# ## Title level drift \n",
    "# df_top = df_out_drift[(df_out_drift['tier']<=1)& (df_out_drift['effective_start_date']>=date_pred) & (df_out_drift['effective_start_date']<='2023-01-01')]\n",
    "# display(df_top[['title_name','effective_start_date','tier','category','content_category','first_views_pred','first_views_pred_base','pred_diff','pred_diff_pct']].sort_values(by='effective_start_date'))\n",
    "# logger.info(f'Title MAPE FOR Tier 0,1 : {df_top.pred_diff_pct.abs().mean()}')\n",
    "\n",
    "\n"
   ]
  },
  {
   "cell_type": "markdown",
   "id": "14bcdc0c",
   "metadata": {},
   "source": [
    "## Check shift in prediction"
   ]
  },
  {
   "cell_type": "code",
   "execution_count": 104,
   "id": "7e8c5d73",
   "metadata": {},
   "outputs": [
    {
     "name": "stderr",
     "output_type": "stream",
     "text": [
      "INFO:root:CHECKING PREDICTION DIFF FOR 2022-03-22 vs. 2022-02-09\n",
      "INFO:root:Read from hbo-ingest-datascience-content-dev/psi_first_views/psi_daily_xgb_forecast_2022-02-09.csv\n"
     ]
    },
    {
     "data": {
      "text/html": [
       "        <script type=\"text/javascript\">\n",
       "        window.PlotlyConfig = {MathJaxConfig: 'local'};\n",
       "        if (window.MathJax) {MathJax.Hub.Config({SVG: {font: \"STIX-Web\"}});}\n",
       "        if (typeof require !== 'undefined') {\n",
       "        require.undef(\"plotly\");\n",
       "        requirejs.config({\n",
       "            paths: {\n",
       "                'plotly': ['https://cdn.plot.ly/plotly-2.6.3.min']\n",
       "            }\n",
       "        });\n",
       "        require(['plotly'], function(Plotly) {\n",
       "            window._Plotly = Plotly;\n",
       "        });\n",
       "        }\n",
       "        </script>\n",
       "        "
      ]
     },
     "metadata": {},
     "output_type": "display_data"
    },
    {
     "data": {
      "application/vnd.plotly.v1+json": {
       "config": {
        "linkText": "Export to plot.ly",
        "plotlyServerURL": "https://plot.ly",
        "showLink": false
       },
       "data": [
        {
         "marker": {
          "color": "#0508b8"
         },
         "name": "Pay 1",
         "text": [
          243935,
          150849,
          81913,
          21976
         ],
         "textangle": 0,
         "textposition": "inside",
         "type": "bar",
         "x": [
          "2022Q1",
          "2022Q2",
          "2022Q3",
          "2022Q4"
         ],
         "y": [
          243935,
          150849,
          81913,
          21976
         ]
        },
        {
         "marker": {
          "color": "#3c19f0"
         },
         "name": "Tier 3",
         "text": [
          79906,
          78267,
          80851,
          81057,
          67451,
          58492,
          47434,
          56082,
          41738,
          44520,
          50320,
          48085
         ],
         "textangle": 0,
         "textposition": "inside",
         "type": "bar",
         "x": [
          "2022Q1",
          "2022Q2",
          "2022Q3",
          "2022Q4",
          "2023Q1",
          "2023Q2",
          "2023Q3",
          "2023Q4",
          "2024Q1",
          "2024Q2",
          "2024Q3",
          "2024Q4"
         ],
         "y": [
          79906,
          78267,
          80851,
          81057,
          67451,
          58492,
          47434,
          56082,
          41738,
          44520,
          50320,
          48085
         ]
        },
        {
         "marker": {
          "color": "#6b1cfb"
         },
         "name": "Tier 2",
         "text": [
          224907,
          360786,
          272351,
          353946,
          283700,
          254857,
          300305,
          169345,
          195009,
          337840,
          203864,
          115062
         ],
         "textangle": 0,
         "textposition": "inside",
         "type": "bar",
         "x": [
          "2022Q1",
          "2022Q2",
          "2022Q3",
          "2022Q4",
          "2023Q1",
          "2023Q2",
          "2023Q3",
          "2023Q4",
          "2024Q1",
          "2024Q2",
          "2024Q3",
          "2024Q4"
         ],
         "y": [
          224907,
          360786,
          272351,
          353946,
          283700,
          254857,
          300305,
          169345,
          195009,
          337840,
          203864,
          115062
         ]
        },
        {
         "marker": {
          "color": "#bf1cfd"
         },
         "name": "Tier 1",
         "text": [
          756983,
          216110,
          465075,
          439537,
          339741,
          1029635,
          559114,
          752264,
          585874,
          709225,
          880748,
          743053
         ],
         "textangle": 0,
         "textposition": "inside",
         "type": "bar",
         "x": [
          "2022Q1",
          "2022Q2",
          "2022Q3",
          "2022Q4",
          "2023Q1",
          "2023Q2",
          "2023Q3",
          "2023Q4",
          "2024Q1",
          "2024Q2",
          "2024Q3",
          "2024Q4"
         ],
         "y": [
          756983,
          216110,
          465075,
          439537,
          339741,
          1029635,
          559114,
          752264,
          585874,
          709225,
          880748,
          743053
         ]
        },
        {
         "marker": {
          "color": "#f246fe"
         },
         "name": "Tier 1+",
         "text": [
          180188,
          427742,
          359832,
          124553,
          435936,
          398148,
          228988,
          305117,
          374785,
          558970,
          854403,
          693516
         ],
         "textangle": 0,
         "textposition": "inside",
         "type": "bar",
         "x": [
          "2022Q1",
          "2022Q2",
          "2022Q3",
          "2022Q4",
          "2023Q1",
          "2023Q2",
          "2023Q3",
          "2023Q4",
          "2024Q1",
          "2024Q2",
          "2024Q3",
          "2024Q4"
         ],
         "y": [
          180188,
          427742,
          359832,
          124553,
          435936,
          398148,
          228988,
          305117,
          374785,
          558970,
          854403,
          693516
         ]
        },
        {
         "marker": {
          "color": "#fe88fc"
         },
         "name": "Popcorn",
         "text": [
          104579
         ],
         "textangle": 0,
         "textposition": "inside",
         "type": "bar",
         "x": [
          "2022Q1"
         ],
         "y": [
          104579
         ]
        },
        {
         "marker": {
          "color": "#fec3fe"
         },
         "name": "Pay 1 WB Theatricals",
         "text": [
          526620,
          531416,
          544907,
          606963,
          263217,
          441083,
          503890,
          351700,
          327858,
          454494,
          359912
         ],
         "textangle": 0,
         "textposition": "inside",
         "type": "bar",
         "x": [
          "2022Q2",
          "2022Q3",
          "2022Q4",
          "2023Q1",
          "2023Q2",
          "2023Q3",
          "2023Q4",
          "2024Q1",
          "2024Q2",
          "2024Q3",
          "2024Q4"
         ],
         "y": [
          526620,
          531416,
          544907,
          606963,
          263217,
          441083,
          503890,
          351700,
          327858,
          454494,
          359912
         ]
        }
       ],
       "layout": {
        "annotations": [
         {
          "showarrow": false,
          "text": "1.59 M",
          "x": "2022Q1",
          "y": 1670022.9000000001
         },
         {
          "showarrow": false,
          "text": "1.76 M",
          "x": "2022Q2",
          "y": 1848392.7000000002
         },
         {
          "showarrow": false,
          "text": "1.79 M",
          "x": "2022Q3",
          "y": 1881009.9000000001
         },
         {
          "showarrow": false,
          "text": "1.57 M",
          "x": "2022Q4",
          "y": 1644274.8
         },
         {
          "showarrow": false,
          "text": "1.73 M",
          "x": "2023Q1",
          "y": 1820480.55
         },
         {
          "showarrow": false,
          "text": "2.00 M",
          "x": "2023Q2",
          "y": 2104566.45
         },
         {
          "showarrow": false,
          "text": "1.58 M",
          "x": "2023Q3",
          "y": 1655770.2000000002
         },
         {
          "showarrow": false,
          "text": "1.79 M",
          "x": "2023Q4",
          "y": 1876032.9000000001
         },
         {
          "showarrow": false,
          "text": "1.55 M",
          "x": "2024Q1",
          "y": 1626561.3
         },
         {
          "showarrow": false,
          "text": "1.98 M",
          "x": "2024Q2",
          "y": 2077333.6500000001
         },
         {
          "showarrow": false,
          "text": "2.44 M",
          "x": "2024Q3",
          "y": 2566020.45
         },
         {
          "showarrow": false,
          "text": "1.96 M",
          "x": "2024Q4",
          "y": 2057609.4000000001
         }
        ],
        "barmode": "stack",
        "height": 400,
        "template": {
         "data": {
          "bar": [
           {
            "error_x": {
             "color": "rgb(36,36,36)"
            },
            "error_y": {
             "color": "rgb(36,36,36)"
            },
            "marker": {
             "line": {
              "color": "white",
              "width": 0.5
             },
             "pattern": {
              "fillmode": "overlay",
              "size": 10,
              "solidity": 0.2
             }
            },
            "type": "bar"
           }
          ],
          "barpolar": [
           {
            "marker": {
             "line": {
              "color": "white",
              "width": 0.5
             },
             "pattern": {
              "fillmode": "overlay",
              "size": 10,
              "solidity": 0.2
             }
            },
            "type": "barpolar"
           }
          ],
          "carpet": [
           {
            "aaxis": {
             "endlinecolor": "rgb(36,36,36)",
             "gridcolor": "white",
             "linecolor": "white",
             "minorgridcolor": "white",
             "startlinecolor": "rgb(36,36,36)"
            },
            "baxis": {
             "endlinecolor": "rgb(36,36,36)",
             "gridcolor": "white",
             "linecolor": "white",
             "minorgridcolor": "white",
             "startlinecolor": "rgb(36,36,36)"
            },
            "type": "carpet"
           }
          ],
          "choropleth": [
           {
            "colorbar": {
             "outlinewidth": 1,
             "tickcolor": "rgb(36,36,36)",
             "ticks": "outside"
            },
            "type": "choropleth"
           }
          ],
          "contour": [
           {
            "colorbar": {
             "outlinewidth": 1,
             "tickcolor": "rgb(36,36,36)",
             "ticks": "outside"
            },
            "colorscale": [
             [
              0,
              "#440154"
             ],
             [
              0.1111111111111111,
              "#482878"
             ],
             [
              0.2222222222222222,
              "#3e4989"
             ],
             [
              0.3333333333333333,
              "#31688e"
             ],
             [
              0.4444444444444444,
              "#26828e"
             ],
             [
              0.5555555555555556,
              "#1f9e89"
             ],
             [
              0.6666666666666666,
              "#35b779"
             ],
             [
              0.7777777777777778,
              "#6ece58"
             ],
             [
              0.8888888888888888,
              "#b5de2b"
             ],
             [
              1,
              "#fde725"
             ]
            ],
            "type": "contour"
           }
          ],
          "contourcarpet": [
           {
            "colorbar": {
             "outlinewidth": 1,
             "tickcolor": "rgb(36,36,36)",
             "ticks": "outside"
            },
            "type": "contourcarpet"
           }
          ],
          "heatmap": [
           {
            "colorbar": {
             "outlinewidth": 1,
             "tickcolor": "rgb(36,36,36)",
             "ticks": "outside"
            },
            "colorscale": [
             [
              0,
              "#440154"
             ],
             [
              0.1111111111111111,
              "#482878"
             ],
             [
              0.2222222222222222,
              "#3e4989"
             ],
             [
              0.3333333333333333,
              "#31688e"
             ],
             [
              0.4444444444444444,
              "#26828e"
             ],
             [
              0.5555555555555556,
              "#1f9e89"
             ],
             [
              0.6666666666666666,
              "#35b779"
             ],
             [
              0.7777777777777778,
              "#6ece58"
             ],
             [
              0.8888888888888888,
              "#b5de2b"
             ],
             [
              1,
              "#fde725"
             ]
            ],
            "type": "heatmap"
           }
          ],
          "heatmapgl": [
           {
            "colorbar": {
             "outlinewidth": 1,
             "tickcolor": "rgb(36,36,36)",
             "ticks": "outside"
            },
            "colorscale": [
             [
              0,
              "#440154"
             ],
             [
              0.1111111111111111,
              "#482878"
             ],
             [
              0.2222222222222222,
              "#3e4989"
             ],
             [
              0.3333333333333333,
              "#31688e"
             ],
             [
              0.4444444444444444,
              "#26828e"
             ],
             [
              0.5555555555555556,
              "#1f9e89"
             ],
             [
              0.6666666666666666,
              "#35b779"
             ],
             [
              0.7777777777777778,
              "#6ece58"
             ],
             [
              0.8888888888888888,
              "#b5de2b"
             ],
             [
              1,
              "#fde725"
             ]
            ],
            "type": "heatmapgl"
           }
          ],
          "histogram": [
           {
            "marker": {
             "line": {
              "color": "white",
              "width": 0.6
             }
            },
            "type": "histogram"
           }
          ],
          "histogram2d": [
           {
            "colorbar": {
             "outlinewidth": 1,
             "tickcolor": "rgb(36,36,36)",
             "ticks": "outside"
            },
            "colorscale": [
             [
              0,
              "#440154"
             ],
             [
              0.1111111111111111,
              "#482878"
             ],
             [
              0.2222222222222222,
              "#3e4989"
             ],
             [
              0.3333333333333333,
              "#31688e"
             ],
             [
              0.4444444444444444,
              "#26828e"
             ],
             [
              0.5555555555555556,
              "#1f9e89"
             ],
             [
              0.6666666666666666,
              "#35b779"
             ],
             [
              0.7777777777777778,
              "#6ece58"
             ],
             [
              0.8888888888888888,
              "#b5de2b"
             ],
             [
              1,
              "#fde725"
             ]
            ],
            "type": "histogram2d"
           }
          ],
          "histogram2dcontour": [
           {
            "colorbar": {
             "outlinewidth": 1,
             "tickcolor": "rgb(36,36,36)",
             "ticks": "outside"
            },
            "colorscale": [
             [
              0,
              "#440154"
             ],
             [
              0.1111111111111111,
              "#482878"
             ],
             [
              0.2222222222222222,
              "#3e4989"
             ],
             [
              0.3333333333333333,
              "#31688e"
             ],
             [
              0.4444444444444444,
              "#26828e"
             ],
             [
              0.5555555555555556,
              "#1f9e89"
             ],
             [
              0.6666666666666666,
              "#35b779"
             ],
             [
              0.7777777777777778,
              "#6ece58"
             ],
             [
              0.8888888888888888,
              "#b5de2b"
             ],
             [
              1,
              "#fde725"
             ]
            ],
            "type": "histogram2dcontour"
           }
          ],
          "mesh3d": [
           {
            "colorbar": {
             "outlinewidth": 1,
             "tickcolor": "rgb(36,36,36)",
             "ticks": "outside"
            },
            "type": "mesh3d"
           }
          ],
          "parcoords": [
           {
            "line": {
             "colorbar": {
              "outlinewidth": 1,
              "tickcolor": "rgb(36,36,36)",
              "ticks": "outside"
             }
            },
            "type": "parcoords"
           }
          ],
          "pie": [
           {
            "automargin": true,
            "type": "pie"
           }
          ],
          "scatter": [
           {
            "marker": {
             "colorbar": {
              "outlinewidth": 1,
              "tickcolor": "rgb(36,36,36)",
              "ticks": "outside"
             }
            },
            "type": "scatter"
           }
          ],
          "scatter3d": [
           {
            "line": {
             "colorbar": {
              "outlinewidth": 1,
              "tickcolor": "rgb(36,36,36)",
              "ticks": "outside"
             }
            },
            "marker": {
             "colorbar": {
              "outlinewidth": 1,
              "tickcolor": "rgb(36,36,36)",
              "ticks": "outside"
             }
            },
            "type": "scatter3d"
           }
          ],
          "scattercarpet": [
           {
            "marker": {
             "colorbar": {
              "outlinewidth": 1,
              "tickcolor": "rgb(36,36,36)",
              "ticks": "outside"
             }
            },
            "type": "scattercarpet"
           }
          ],
          "scattergeo": [
           {
            "marker": {
             "colorbar": {
              "outlinewidth": 1,
              "tickcolor": "rgb(36,36,36)",
              "ticks": "outside"
             }
            },
            "type": "scattergeo"
           }
          ],
          "scattergl": [
           {
            "marker": {
             "colorbar": {
              "outlinewidth": 1,
              "tickcolor": "rgb(36,36,36)",
              "ticks": "outside"
             }
            },
            "type": "scattergl"
           }
          ],
          "scattermapbox": [
           {
            "marker": {
             "colorbar": {
              "outlinewidth": 1,
              "tickcolor": "rgb(36,36,36)",
              "ticks": "outside"
             }
            },
            "type": "scattermapbox"
           }
          ],
          "scatterpolar": [
           {
            "marker": {
             "colorbar": {
              "outlinewidth": 1,
              "tickcolor": "rgb(36,36,36)",
              "ticks": "outside"
             }
            },
            "type": "scatterpolar"
           }
          ],
          "scatterpolargl": [
           {
            "marker": {
             "colorbar": {
              "outlinewidth": 1,
              "tickcolor": "rgb(36,36,36)",
              "ticks": "outside"
             }
            },
            "type": "scatterpolargl"
           }
          ],
          "scatterternary": [
           {
            "marker": {
             "colorbar": {
              "outlinewidth": 1,
              "tickcolor": "rgb(36,36,36)",
              "ticks": "outside"
             }
            },
            "type": "scatterternary"
           }
          ],
          "surface": [
           {
            "colorbar": {
             "outlinewidth": 1,
             "tickcolor": "rgb(36,36,36)",
             "ticks": "outside"
            },
            "colorscale": [
             [
              0,
              "#440154"
             ],
             [
              0.1111111111111111,
              "#482878"
             ],
             [
              0.2222222222222222,
              "#3e4989"
             ],
             [
              0.3333333333333333,
              "#31688e"
             ],
             [
              0.4444444444444444,
              "#26828e"
             ],
             [
              0.5555555555555556,
              "#1f9e89"
             ],
             [
              0.6666666666666666,
              "#35b779"
             ],
             [
              0.7777777777777778,
              "#6ece58"
             ],
             [
              0.8888888888888888,
              "#b5de2b"
             ],
             [
              1,
              "#fde725"
             ]
            ],
            "type": "surface"
           }
          ],
          "table": [
           {
            "cells": {
             "fill": {
              "color": "rgb(237,237,237)"
             },
             "line": {
              "color": "white"
             }
            },
            "header": {
             "fill": {
              "color": "rgb(217,217,217)"
             },
             "line": {
              "color": "white"
             }
            },
            "type": "table"
           }
          ]
         },
         "layout": {
          "annotationdefaults": {
           "arrowhead": 0,
           "arrowwidth": 1
          },
          "autotypenumbers": "strict",
          "coloraxis": {
           "colorbar": {
            "outlinewidth": 1,
            "tickcolor": "rgb(36,36,36)",
            "ticks": "outside"
           }
          },
          "colorscale": {
           "diverging": [
            [
             0,
             "rgb(103,0,31)"
            ],
            [
             0.1,
             "rgb(178,24,43)"
            ],
            [
             0.2,
             "rgb(214,96,77)"
            ],
            [
             0.3,
             "rgb(244,165,130)"
            ],
            [
             0.4,
             "rgb(253,219,199)"
            ],
            [
             0.5,
             "rgb(247,247,247)"
            ],
            [
             0.6,
             "rgb(209,229,240)"
            ],
            [
             0.7,
             "rgb(146,197,222)"
            ],
            [
             0.8,
             "rgb(67,147,195)"
            ],
            [
             0.9,
             "rgb(33,102,172)"
            ],
            [
             1,
             "rgb(5,48,97)"
            ]
           ],
           "sequential": [
            [
             0,
             "#440154"
            ],
            [
             0.1111111111111111,
             "#482878"
            ],
            [
             0.2222222222222222,
             "#3e4989"
            ],
            [
             0.3333333333333333,
             "#31688e"
            ],
            [
             0.4444444444444444,
             "#26828e"
            ],
            [
             0.5555555555555556,
             "#1f9e89"
            ],
            [
             0.6666666666666666,
             "#35b779"
            ],
            [
             0.7777777777777778,
             "#6ece58"
            ],
            [
             0.8888888888888888,
             "#b5de2b"
            ],
            [
             1,
             "#fde725"
            ]
           ],
           "sequentialminus": [
            [
             0,
             "#440154"
            ],
            [
             0.1111111111111111,
             "#482878"
            ],
            [
             0.2222222222222222,
             "#3e4989"
            ],
            [
             0.3333333333333333,
             "#31688e"
            ],
            [
             0.4444444444444444,
             "#26828e"
            ],
            [
             0.5555555555555556,
             "#1f9e89"
            ],
            [
             0.6666666666666666,
             "#35b779"
            ],
            [
             0.7777777777777778,
             "#6ece58"
            ],
            [
             0.8888888888888888,
             "#b5de2b"
            ],
            [
             1,
             "#fde725"
            ]
           ]
          },
          "colorway": [
           "#1F77B4",
           "#FF7F0E",
           "#2CA02C",
           "#D62728",
           "#9467BD",
           "#8C564B",
           "#E377C2",
           "#7F7F7F",
           "#BCBD22",
           "#17BECF"
          ],
          "font": {
           "color": "rgb(36,36,36)"
          },
          "geo": {
           "bgcolor": "white",
           "lakecolor": "white",
           "landcolor": "white",
           "showlakes": true,
           "showland": true,
           "subunitcolor": "white"
          },
          "hoverlabel": {
           "align": "left"
          },
          "hovermode": "closest",
          "mapbox": {
           "style": "light"
          },
          "paper_bgcolor": "white",
          "plot_bgcolor": "white",
          "polar": {
           "angularaxis": {
            "gridcolor": "rgb(232,232,232)",
            "linecolor": "rgb(36,36,36)",
            "showgrid": false,
            "showline": true,
            "ticks": "outside"
           },
           "bgcolor": "white",
           "radialaxis": {
            "gridcolor": "rgb(232,232,232)",
            "linecolor": "rgb(36,36,36)",
            "showgrid": false,
            "showline": true,
            "ticks": "outside"
           }
          },
          "scene": {
           "xaxis": {
            "backgroundcolor": "white",
            "gridcolor": "rgb(232,232,232)",
            "gridwidth": 2,
            "linecolor": "rgb(36,36,36)",
            "showbackground": true,
            "showgrid": false,
            "showline": true,
            "ticks": "outside",
            "zeroline": false,
            "zerolinecolor": "rgb(36,36,36)"
           },
           "yaxis": {
            "backgroundcolor": "white",
            "gridcolor": "rgb(232,232,232)",
            "gridwidth": 2,
            "linecolor": "rgb(36,36,36)",
            "showbackground": true,
            "showgrid": false,
            "showline": true,
            "ticks": "outside",
            "zeroline": false,
            "zerolinecolor": "rgb(36,36,36)"
           },
           "zaxis": {
            "backgroundcolor": "white",
            "gridcolor": "rgb(232,232,232)",
            "gridwidth": 2,
            "linecolor": "rgb(36,36,36)",
            "showbackground": true,
            "showgrid": false,
            "showline": true,
            "ticks": "outside",
            "zeroline": false,
            "zerolinecolor": "rgb(36,36,36)"
           }
          },
          "shapedefaults": {
           "fillcolor": "black",
           "line": {
            "width": 0
           },
           "opacity": 0.3
          },
          "ternary": {
           "aaxis": {
            "gridcolor": "rgb(232,232,232)",
            "linecolor": "rgb(36,36,36)",
            "showgrid": false,
            "showline": true,
            "ticks": "outside"
           },
           "baxis": {
            "gridcolor": "rgb(232,232,232)",
            "linecolor": "rgb(36,36,36)",
            "showgrid": false,
            "showline": true,
            "ticks": "outside"
           },
           "bgcolor": "white",
           "caxis": {
            "gridcolor": "rgb(232,232,232)",
            "linecolor": "rgb(36,36,36)",
            "showgrid": false,
            "showline": true,
            "ticks": "outside"
           }
          },
          "title": {
           "x": 0.05
          },
          "xaxis": {
           "automargin": true,
           "gridcolor": "rgb(232,232,232)",
           "linecolor": "rgb(36,36,36)",
           "showgrid": false,
           "showline": true,
           "ticks": "outside",
           "title": {
            "standoff": 15
           },
           "zeroline": false,
           "zerolinecolor": "rgb(36,36,36)"
          },
          "yaxis": {
           "automargin": true,
           "gridcolor": "rgb(232,232,232)",
           "linecolor": "rgb(36,36,36)",
           "showgrid": false,
           "showline": true,
           "ticks": "outside",
           "title": {
            "standoff": 15
           },
           "zeroline": false,
           "zerolinecolor": "rgb(36,36,36)"
          }
         }
        },
        "title": {
         "text": "2022-02-09"
        },
        "uniformtext": {
         "minsize": 8,
         "mode": "hide"
        },
        "width": 900,
        "xaxis": {
         "autorange": true,
         "range": [
          -0.5,
          11.5
         ],
         "title": {
          "text": "first_view_quarter"
         },
         "type": "category"
        },
        "yaxis": {
         "autorange": true,
         "range": [
          0,
          2681826.598574822
         ],
         "title": {
          "text": "first_views"
         },
         "type": "linear"
        }
       }
      },
      "image/png": "[encoded data removed]",
      "text/html": [
       "<div>                            <div id=\"debb7730-9cae-40e9-b938-4d840271f423\" class=\"plotly-graph-div\" style=\"height:400px; width:900px;\"></div>            <script type=\"text/javascript\">                require([\"plotly\"], function(Plotly) {                    window.PLOTLYENV=window.PLOTLYENV || {};                                    if (document.getElementById(\"debb7730-9cae-40e9-b938-4d840271f423\")) {                    Plotly.newPlot(                        \"debb7730-9cae-40e9-b938-4d840271f423\",                        [{\"marker\":{\"color\":\"#0508b8\"},\"name\":\"Pay 1\",\"text\":[243935.0,150849.0,81913.0,21976.0],\"textangle\":0,\"textposition\":\"inside\",\"x\":[\"2022Q1\",\"2022Q2\",\"2022Q3\",\"2022Q4\"],\"y\":[243935.0,150849.0,81913.0,21976.0],\"type\":\"bar\"},{\"marker\":{\"color\":\"#3c19f0\"},\"name\":\"Tier 3\",\"text\":[79906.0,78267.0,80851.0,81057.0,67451.0,58492.0,47434.0,56082.0,41738.0,44520.0,50320.0,48085.0],\"textangle\":0,\"textposition\":\"inside\",\"x\":[\"2022Q1\",\"2022Q2\",\"2022Q3\",\"2022Q4\",\"2023Q1\",\"2023Q2\",\"2023Q3\",\"2023Q4\",\"2024Q1\",\"2024Q2\",\"2024Q3\",\"2024Q4\"],\"y\":[79906.0,78267.0,80851.0,81057.0,67451.0,58492.0,47434.0,56082.0,41738.0,44520.0,50320.0,48085.0],\"type\":\"bar\"},{\"marker\":{\"color\":\"#6b1cfb\"},\"name\":\"Tier 2\",\"text\":[224907.0,360786.0,272351.0,353946.0,283700.0,254857.0,300305.0,169345.0,195009.0,337840.0,203864.0,115062.0],\"textangle\":0,\"textposition\":\"inside\",\"x\":[\"2022Q1\",\"2022Q2\",\"2022Q3\",\"2022Q4\",\"2023Q1\",\"2023Q2\",\"2023Q3\",\"2023Q4\",\"2024Q1\",\"2024Q2\",\"2024Q3\",\"2024Q4\"],\"y\":[224907.0,360786.0,272351.0,353946.0,283700.0,254857.0,300305.0,169345.0,195009.0,337840.0,203864.0,115062.0],\"type\":\"bar\"},{\"marker\":{\"color\":\"#bf1cfd\"},\"name\":\"Tier 1\",\"text\":[756983.0,216110.0,465075.0,439537.0,339741.0,1029635.0,559114.0,752264.0,585874.0,709225.0,880748.0,743053.0],\"textangle\":0,\"textposition\":\"inside\",\"x\":[\"2022Q1\",\"2022Q2\",\"2022Q3\",\"2022Q4\",\"2023Q1\",\"2023Q2\",\"2023Q3\",\"2023Q4\",\"2024Q1\",\"2024Q2\",\"2024Q3\",\"2024Q4\"],\"y\":[756983.0,216110.0,465075.0,439537.0,339741.0,1029635.0,559114.0,752264.0,585874.0,709225.0,880748.0,743053.0],\"type\":\"bar\"},{\"marker\":{\"color\":\"#f246fe\"},\"name\":\"Tier 1+\",\"text\":[180188.0,427742.0,359832.0,124553.0,435936.0,398148.0,228988.0,305117.0,374785.0,558970.0,854403.0,693516.0],\"textangle\":0,\"textposition\":\"inside\",\"x\":[\"2022Q1\",\"2022Q2\",\"2022Q3\",\"2022Q4\",\"2023Q1\",\"2023Q2\",\"2023Q3\",\"2023Q4\",\"2024Q1\",\"2024Q2\",\"2024Q3\",\"2024Q4\"],\"y\":[180188.0,427742.0,359832.0,124553.0,435936.0,398148.0,228988.0,305117.0,374785.0,558970.0,854403.0,693516.0],\"type\":\"bar\"},{\"marker\":{\"color\":\"#fe88fc\"},\"name\":\"Popcorn\",\"text\":[104579.0],\"textangle\":0,\"textposition\":\"inside\",\"x\":[\"2022Q1\"],\"y\":[104579.0],\"type\":\"bar\"},{\"marker\":{\"color\":\"#fec3fe\"},\"name\":\"Pay 1 WB Theatricals\",\"text\":[526620.0,531416.0,544907.0,606963.0,263217.0,441083.0,503890.0,351700.0,327858.0,454494.0,359912.0],\"textangle\":0,\"textposition\":\"inside\",\"x\":[\"2022Q2\",\"2022Q3\",\"2022Q4\",\"2023Q1\",\"2023Q2\",\"2023Q3\",\"2023Q4\",\"2024Q1\",\"2024Q2\",\"2024Q3\",\"2024Q4\"],\"y\":[526620.0,531416.0,544907.0,606963.0,263217.0,441083.0,503890.0,351700.0,327858.0,454494.0,359912.0],\"type\":\"bar\"}],                        {\"annotations\":[{\"showarrow\":false,\"text\":\"1.59 M\",\"x\":\"2022Q1\",\"y\":1670022.9000000001},{\"showarrow\":false,\"text\":\"1.76 M\",\"x\":\"2022Q2\",\"y\":1848392.7000000002},{\"showarrow\":false,\"text\":\"1.79 M\",\"x\":\"2022Q3\",\"y\":1881009.9000000001},{\"showarrow\":false,\"text\":\"1.57 M\",\"x\":\"2022Q4\",\"y\":1644274.8},{\"showarrow\":false,\"text\":\"1.73 M\",\"x\":\"2023Q1\",\"y\":1820480.55},{\"showarrow\":false,\"text\":\"2.00 M\",\"x\":\"2023Q2\",\"y\":2104566.45},{\"showarrow\":false,\"text\":\"1.58 M\",\"x\":\"2023Q3\",\"y\":1655770.2000000002},{\"showarrow\":false,\"text\":\"1.79 M\",\"x\":\"2023Q4\",\"y\":1876032.9000000001},{\"showarrow\":false,\"text\":\"1.55 M\",\"x\":\"2024Q1\",\"y\":1626561.3},{\"showarrow\":false,\"text\":\"1.98 M\",\"x\":\"2024Q2\",\"y\":2077333.6500000001},{\"showarrow\":false,\"text\":\"2.44 M\",\"x\":\"2024Q3\",\"y\":2566020.45},{\"showarrow\":false,\"text\":\"1.96 M\",\"x\":\"2024Q4\",\"y\":2057609.4000000001}],\"barmode\":\"stack\",\"height\":400,\"template\":{\"data\":{\"barpolar\":[{\"marker\":{\"line\":{\"color\":\"white\",\"width\":0.5},\"pattern\":{\"fillmode\":\"overlay\",\"size\":10,\"solidity\":0.2}},\"type\":\"barpolar\"}],\"bar\":[{\"error_x\":{\"color\":\"rgb(36,36,36)\"},\"error_y\":{\"color\":\"rgb(36,36,36)\"},\"marker\":{\"line\":{\"color\":\"white\",\"width\":0.5},\"pattern\":{\"fillmode\":\"overlay\",\"size\":10,\"solidity\":0.2}},\"type\":\"bar\"}],\"carpet\":[{\"aaxis\":{\"endlinecolor\":\"rgb(36,36,36)\",\"gridcolor\":\"white\",\"linecolor\":\"white\",\"minorgridcolor\":\"white\",\"startlinecolor\":\"rgb(36,36,36)\"},\"baxis\":{\"endlinecolor\":\"rgb(36,36,36)\",\"gridcolor\":\"white\",\"linecolor\":\"white\",\"minorgridcolor\":\"white\",\"startlinecolor\":\"rgb(36,36,36)\"},\"type\":\"carpet\"}],\"choropleth\":[{\"colorbar\":{\"outlinewidth\":1,\"tickcolor\":\"rgb(36,36,36)\",\"ticks\":\"outside\"},\"type\":\"choropleth\"}],\"contourcarpet\":[{\"colorbar\":{\"outlinewidth\":1,\"tickcolor\":\"rgb(36,36,36)\",\"ticks\":\"outside\"},\"type\":\"contourcarpet\"}],\"contour\":[{\"colorbar\":{\"outlinewidth\":1,\"tickcolor\":\"rgb(36,36,36)\",\"ticks\":\"outside\"},\"colorscale\":[[0.0,\"#440154\"],[0.1111111111111111,\"#482878\"],[0.2222222222222222,\"#3e4989\"],[0.3333333333333333,\"#31688e\"],[0.4444444444444444,\"#26828e\"],[0.5555555555555556,\"#1f9e89\"],[0.6666666666666666,\"#35b779\"],[0.7777777777777778,\"#6ece58\"],[0.8888888888888888,\"#b5de2b\"],[1.0,\"#fde725\"]],\"type\":\"contour\"}],\"heatmapgl\":[{\"colorbar\":{\"outlinewidth\":1,\"tickcolor\":\"rgb(36,36,36)\",\"ticks\":\"outside\"},\"colorscale\":[[0.0,\"#440154\"],[0.1111111111111111,\"#482878\"],[0.2222222222222222,\"#3e4989\"],[0.3333333333333333,\"#31688e\"],[0.4444444444444444,\"#26828e\"],[0.5555555555555556,\"#1f9e89\"],[0.6666666666666666,\"#35b779\"],[0.7777777777777778,\"#6ece58\"],[0.8888888888888888,\"#b5de2b\"],[1.0,\"#fde725\"]],\"type\":\"heatmapgl\"}],\"heatmap\":[{\"colorbar\":{\"outlinewidth\":1,\"tickcolor\":\"rgb(36,36,36)\",\"ticks\":\"outside\"},\"colorscale\":[[0.0,\"#440154\"],[0.1111111111111111,\"#482878\"],[0.2222222222222222,\"#3e4989\"],[0.3333333333333333,\"#31688e\"],[0.4444444444444444,\"#26828e\"],[0.5555555555555556,\"#1f9e89\"],[0.6666666666666666,\"#35b779\"],[0.7777777777777778,\"#6ece58\"],[0.8888888888888888,\"#b5de2b\"],[1.0,\"#fde725\"]],\"type\":\"heatmap\"}],\"histogram2dcontour\":[{\"colorbar\":{\"outlinewidth\":1,\"tickcolor\":\"rgb(36,36,36)\",\"ticks\":\"outside\"},\"colorscale\":[[0.0,\"#440154\"],[0.1111111111111111,\"#482878\"],[0.2222222222222222,\"#3e4989\"],[0.3333333333333333,\"#31688e\"],[0.4444444444444444,\"#26828e\"],[0.5555555555555556,\"#1f9e89\"],[0.6666666666666666,\"#35b779\"],[0.7777777777777778,\"#6ece58\"],[0.8888888888888888,\"#b5de2b\"],[1.0,\"#fde725\"]],\"type\":\"histogram2dcontour\"}],\"histogram2d\":[{\"colorbar\":{\"outlinewidth\":1,\"tickcolor\":\"rgb(36,36,36)\",\"ticks\":\"outside\"},\"colorscale\":[[0.0,\"#440154\"],[0.1111111111111111,\"#482878\"],[0.2222222222222222,\"#3e4989\"],[0.3333333333333333,\"#31688e\"],[0.4444444444444444,\"#26828e\"],[0.5555555555555556,\"#1f9e89\"],[0.6666666666666666,\"#35b779\"],[0.7777777777777778,\"#6ece58\"],[0.8888888888888888,\"#b5de2b\"],[1.0,\"#fde725\"]],\"type\":\"histogram2d\"}],\"histogram\":[{\"marker\":{\"line\":{\"color\":\"white\",\"width\":0.6}},\"type\":\"histogram\"}],\"mesh3d\":[{\"colorbar\":{\"outlinewidth\":1,\"tickcolor\":\"rgb(36,36,36)\",\"ticks\":\"outside\"},\"type\":\"mesh3d\"}],\"parcoords\":[{\"line\":{\"colorbar\":{\"outlinewidth\":1,\"tickcolor\":\"rgb(36,36,36)\",\"ticks\":\"outside\"}},\"type\":\"parcoords\"}],\"pie\":[{\"automargin\":true,\"type\":\"pie\"}],\"scatter3d\":[{\"line\":{\"colorbar\":{\"outlinewidth\":1,\"tickcolor\":\"rgb(36,36,36)\",\"ticks\":\"outside\"}},\"marker\":{\"colorbar\":{\"outlinewidth\":1,\"tickcolor\":\"rgb(36,36,36)\",\"ticks\":\"outside\"}},\"type\":\"scatter3d\"}],\"scattercarpet\":[{\"marker\":{\"colorbar\":{\"outlinewidth\":1,\"tickcolor\":\"rgb(36,36,36)\",\"ticks\":\"outside\"}},\"type\":\"scattercarpet\"}],\"scattergeo\":[{\"marker\":{\"colorbar\":{\"outlinewidth\":1,\"tickcolor\":\"rgb(36,36,36)\",\"ticks\":\"outside\"}},\"type\":\"scattergeo\"}],\"scattergl\":[{\"marker\":{\"colorbar\":{\"outlinewidth\":1,\"tickcolor\":\"rgb(36,36,36)\",\"ticks\":\"outside\"}},\"type\":\"scattergl\"}],\"scattermapbox\":[{\"marker\":{\"colorbar\":{\"outlinewidth\":1,\"tickcolor\":\"rgb(36,36,36)\",\"ticks\":\"outside\"}},\"type\":\"scattermapbox\"}],\"scatterpolargl\":[{\"marker\":{\"colorbar\":{\"outlinewidth\":1,\"tickcolor\":\"rgb(36,36,36)\",\"ticks\":\"outside\"}},\"type\":\"scatterpolargl\"}],\"scatterpolar\":[{\"marker\":{\"colorbar\":{\"outlinewidth\":1,\"tickcolor\":\"rgb(36,36,36)\",\"ticks\":\"outside\"}},\"type\":\"scatterpolar\"}],\"scatter\":[{\"marker\":{\"colorbar\":{\"outlinewidth\":1,\"tickcolor\":\"rgb(36,36,36)\",\"ticks\":\"outside\"}},\"type\":\"scatter\"}],\"scatterternary\":[{\"marker\":{\"colorbar\":{\"outlinewidth\":1,\"tickcolor\":\"rgb(36,36,36)\",\"ticks\":\"outside\"}},\"type\":\"scatterternary\"}],\"surface\":[{\"colorbar\":{\"outlinewidth\":1,\"tickcolor\":\"rgb(36,36,36)\",\"ticks\":\"outside\"},\"colorscale\":[[0.0,\"#440154\"],[0.1111111111111111,\"#482878\"],[0.2222222222222222,\"#3e4989\"],[0.3333333333333333,\"#31688e\"],[0.4444444444444444,\"#26828e\"],[0.5555555555555556,\"#1f9e89\"],[0.6666666666666666,\"#35b779\"],[0.7777777777777778,\"#6ece58\"],[0.8888888888888888,\"#b5de2b\"],[1.0,\"#fde725\"]],\"type\":\"surface\"}],\"table\":[{\"cells\":{\"fill\":{\"color\":\"rgb(237,237,237)\"},\"line\":{\"color\":\"white\"}},\"header\":{\"fill\":{\"color\":\"rgb(217,217,217)\"},\"line\":{\"color\":\"white\"}},\"type\":\"table\"}]},\"layout\":{\"annotationdefaults\":{\"arrowhead\":0,\"arrowwidth\":1},\"autotypenumbers\":\"strict\",\"coloraxis\":{\"colorbar\":{\"outlinewidth\":1,\"tickcolor\":\"rgb(36,36,36)\",\"ticks\":\"outside\"}},\"colorscale\":{\"diverging\":[[0.0,\"rgb(103,0,31)\"],[0.1,\"rgb(178,24,43)\"],[0.2,\"rgb(214,96,77)\"],[0.3,\"rgb(244,165,130)\"],[0.4,\"rgb(253,219,199)\"],[0.5,\"rgb(247,247,247)\"],[0.6,\"rgb(209,229,240)\"],[0.7,\"rgb(146,197,222)\"],[0.8,\"rgb(67,147,195)\"],[0.9,\"rgb(33,102,172)\"],[1.0,\"rgb(5,48,97)\"]],\"sequential\":[[0.0,\"#440154\"],[0.1111111111111111,\"#482878\"],[0.2222222222222222,\"#3e4989\"],[0.3333333333333333,\"#31688e\"],[0.4444444444444444,\"#26828e\"],[0.5555555555555556,\"#1f9e89\"],[0.6666666666666666,\"#35b779\"],[0.7777777777777778,\"#6ece58\"],[0.8888888888888888,\"#b5de2b\"],[1.0,\"#fde725\"]],\"sequentialminus\":[[0.0,\"#440154\"],[0.1111111111111111,\"#482878\"],[0.2222222222222222,\"#3e4989\"],[0.3333333333333333,\"#31688e\"],[0.4444444444444444,\"#26828e\"],[0.5555555555555556,\"#1f9e89\"],[0.6666666666666666,\"#35b779\"],[0.7777777777777778,\"#6ece58\"],[0.8888888888888888,\"#b5de2b\"],[1.0,\"#fde725\"]]},\"colorway\":[\"#1F77B4\",\"#FF7F0E\",\"#2CA02C\",\"#D62728\",\"#9467BD\",\"#8C564B\",\"#E377C2\",\"#7F7F7F\",\"#BCBD22\",\"#17BECF\"],\"font\":{\"color\":\"rgb(36,36,36)\"},\"geo\":{\"bgcolor\":\"white\",\"lakecolor\":\"white\",\"landcolor\":\"white\",\"showlakes\":true,\"showland\":true,\"subunitcolor\":\"white\"},\"hoverlabel\":{\"align\":\"left\"},\"hovermode\":\"closest\",\"mapbox\":{\"style\":\"light\"},\"paper_bgcolor\":\"white\",\"plot_bgcolor\":\"white\",\"polar\":{\"angularaxis\":{\"gridcolor\":\"rgb(232,232,232)\",\"linecolor\":\"rgb(36,36,36)\",\"showgrid\":false,\"showline\":true,\"ticks\":\"outside\"},\"bgcolor\":\"white\",\"radialaxis\":{\"gridcolor\":\"rgb(232,232,232)\",\"linecolor\":\"rgb(36,36,36)\",\"showgrid\":false,\"showline\":true,\"ticks\":\"outside\"}},\"scene\":{\"xaxis\":{\"backgroundcolor\":\"white\",\"gridcolor\":\"rgb(232,232,232)\",\"gridwidth\":2,\"linecolor\":\"rgb(36,36,36)\",\"showbackground\":true,\"showgrid\":false,\"showline\":true,\"ticks\":\"outside\",\"zeroline\":false,\"zerolinecolor\":\"rgb(36,36,36)\"},\"yaxis\":{\"backgroundcolor\":\"white\",\"gridcolor\":\"rgb(232,232,232)\",\"gridwidth\":2,\"linecolor\":\"rgb(36,36,36)\",\"showbackground\":true,\"showgrid\":false,\"showline\":true,\"ticks\":\"outside\",\"zeroline\":false,\"zerolinecolor\":\"rgb(36,36,36)\"},\"zaxis\":{\"backgroundcolor\":\"white\",\"gridcolor\":\"rgb(232,232,232)\",\"gridwidth\":2,\"linecolor\":\"rgb(36,36,36)\",\"showbackground\":true,\"showgrid\":false,\"showline\":true,\"ticks\":\"outside\",\"zeroline\":false,\"zerolinecolor\":\"rgb(36,36,36)\"}},\"shapedefaults\":{\"fillcolor\":\"black\",\"line\":{\"width\":0},\"opacity\":0.3},\"ternary\":{\"aaxis\":{\"gridcolor\":\"rgb(232,232,232)\",\"linecolor\":\"rgb(36,36,36)\",\"showgrid\":false,\"showline\":true,\"ticks\":\"outside\"},\"baxis\":{\"gridcolor\":\"rgb(232,232,232)\",\"linecolor\":\"rgb(36,36,36)\",\"showgrid\":false,\"showline\":true,\"ticks\":\"outside\"},\"bgcolor\":\"white\",\"caxis\":{\"gridcolor\":\"rgb(232,232,232)\",\"linecolor\":\"rgb(36,36,36)\",\"showgrid\":false,\"showline\":true,\"ticks\":\"outside\"}},\"title\":{\"x\":0.05},\"xaxis\":{\"automargin\":true,\"gridcolor\":\"rgb(232,232,232)\",\"linecolor\":\"rgb(36,36,36)\",\"showgrid\":false,\"showline\":true,\"ticks\":\"outside\",\"title\":{\"standoff\":15},\"zeroline\":false,\"zerolinecolor\":\"rgb(36,36,36)\"},\"yaxis\":{\"automargin\":true,\"gridcolor\":\"rgb(232,232,232)\",\"linecolor\":\"rgb(36,36,36)\",\"showgrid\":false,\"showline\":true,\"ticks\":\"outside\",\"title\":{\"standoff\":15},\"zeroline\":false,\"zerolinecolor\":\"rgb(36,36,36)\"}}},\"title\":{\"text\":\"2022-02-09\"},\"uniformtext\":{\"minsize\":8,\"mode\":\"hide\"},\"width\":900,\"xaxis\":{\"title\":{\"text\":\"first_view_quarter\"}},\"yaxis\":{\"title\":{\"text\":\"first_views\"}}},                        {\"responsive\": true}                    ).then(function(){\n",
       "                            \n",
       "var gd = document.getElementById('debb7730-9cae-40e9-b938-4d840271f423');\n",
       "var x = new MutationObserver(function (mutations, observer) {{\n",
       "        var display = window.getComputedStyle(gd).display;\n",
       "        if (!display || display === 'none') {{\n",
       "            console.log([gd, 'removed!']);\n",
       "            Plotly.purge(gd);\n",
       "            observer.disconnect();\n",
       "        }}\n",
       "}});\n",
       "\n",
       "// Listen for the removal of the full notebook cells\n",
       "var notebookContainer = gd.closest('#notebook-container');\n",
       "if (notebookContainer) {{\n",
       "    x.observe(notebookContainer, {childList: true});\n",
       "}}\n",
       "\n",
       "// Listen for the clearing of the current output cell\n",
       "var outputEl = gd.closest('.output');\n",
       "if (outputEl) {{\n",
       "    x.observe(outputEl, {childList: true});\n",
       "}}\n",
       "\n",
       "                        })                };                });            </script>        </div>"
      ]
     },
     "metadata": {},
     "output_type": "display_data"
    },
    {
     "data": {
      "text/html": [
       "        <script type=\"text/javascript\">\n",
       "        window.PlotlyConfig = {MathJaxConfig: 'local'};\n",
       "        if (window.MathJax) {MathJax.Hub.Config({SVG: {font: \"STIX-Web\"}});}\n",
       "        if (typeof require !== 'undefined') {\n",
       "        require.undef(\"plotly\");\n",
       "        requirejs.config({\n",
       "            paths: {\n",
       "                'plotly': ['https://cdn.plot.ly/plotly-2.6.3.min']\n",
       "            }\n",
       "        });\n",
       "        require(['plotly'], function(Plotly) {\n",
       "            window._Plotly = Plotly;\n",
       "        });\n",
       "        }\n",
       "        </script>\n",
       "        "
      ]
     },
     "metadata": {},
     "output_type": "display_data"
    },
    {
     "data": {
      "application/vnd.plotly.v1+json": {
       "config": {
        "linkText": "Export to plot.ly",
        "plotlyServerURL": "https://plot.ly",
        "showLink": false
       },
       "data": [
        {
         "marker": {
          "color": "#0508b8"
         },
         "name": "Pay 1",
         "text": [
          270124,
          124199,
          59456,
          16107,
          4829
         ],
         "textangle": 0,
         "textposition": "inside",
         "type": "bar",
         "x": [
          "2022Q1",
          "2022Q2",
          "2022Q3",
          "2022Q4",
          "2023Q1"
         ],
         "y": [
          270124,
          124199,
          59456,
          16107,
          4829
         ]
        },
        {
         "marker": {
          "color": "#3c19f0"
         },
         "name": "Tier 3",
         "text": [
          63060,
          74374,
          57361,
          67274,
          67386,
          41469,
          41164,
          50924,
          38743,
          31780,
          43220,
          39438
         ],
         "textangle": 0,
         "textposition": "inside",
         "type": "bar",
         "x": [
          "2022Q1",
          "2022Q2",
          "2022Q3",
          "2022Q4",
          "2023Q1",
          "2023Q2",
          "2023Q3",
          "2023Q4",
          "2024Q1",
          "2024Q2",
          "2024Q3",
          "2024Q4"
         ],
         "y": [
          63060,
          74374,
          57361,
          67274,
          67386,
          41469,
          41164,
          50924,
          38743,
          31780,
          43220,
          39438
         ]
        },
        {
         "marker": {
          "color": "#6b1cfb"
         },
         "name": "Tier 2",
         "text": [
          328255,
          446813,
          387076,
          611537,
          416131,
          421041,
          401549,
          199798,
          255644,
          482868,
          247785,
          155600
         ],
         "textangle": 0,
         "textposition": "inside",
         "type": "bar",
         "x": [
          "2022Q1",
          "2022Q2",
          "2022Q3",
          "2022Q4",
          "2023Q1",
          "2023Q2",
          "2023Q3",
          "2023Q4",
          "2024Q1",
          "2024Q2",
          "2024Q3",
          "2024Q4"
         ],
         "y": [
          328255,
          446813,
          387076,
          611537,
          416131,
          421041,
          401549,
          199798,
          255644,
          482868,
          247785,
          155600
         ]
        },
        {
         "marker": {
          "color": "#bf1cfd"
         },
         "name": "Tier 1",
         "text": [
          761649,
          367860,
          367644,
          636703,
          128374,
          854431,
          788338,
          981051,
          799820,
          692793,
          874521,
          1080652
         ],
         "textangle": 0,
         "textposition": "inside",
         "type": "bar",
         "x": [
          "2022Q1",
          "2022Q2",
          "2022Q3",
          "2022Q4",
          "2023Q1",
          "2023Q2",
          "2023Q3",
          "2023Q4",
          "2024Q1",
          "2024Q2",
          "2024Q3",
          "2024Q4"
         ],
         "y": [
          761649,
          367860,
          367644,
          636703,
          128374,
          854431,
          788338,
          981051,
          799820,
          692793,
          874521,
          1080652
         ]
        },
        {
         "marker": {
          "color": "#f246fe"
         },
         "name": "Tier 1+",
         "text": [
          454901,
          450424,
          374705,
          119402,
          447020,
          19457,
          331876,
          691802,
          1193960,
          114747,
          429432
         ],
         "textangle": 0,
         "textposition": "inside",
         "type": "bar",
         "x": [
          "2022Q1",
          "2022Q2",
          "2022Q3",
          "2022Q4",
          "2023Q1",
          "2023Q2",
          "2023Q4",
          "2024Q1",
          "2024Q2",
          "2024Q3",
          "2024Q4"
         ],
         "y": [
          454901,
          450424,
          374705,
          119402,
          447020,
          19457,
          331876,
          691802,
          1193960,
          114747,
          429432
         ]
        },
        {
         "marker": {
          "color": "#fe88fc"
         },
         "name": "Popcorn",
         "text": [
          260532
         ],
         "textangle": 0,
         "textposition": "inside",
         "type": "bar",
         "x": [
          "2022Q1"
         ],
         "y": [
          260532
         ]
        },
        {
         "marker": {
          "color": "#fec3fe"
         },
         "name": "Pay 1 WB Theatricals",
         "text": [
          365211,
          276941,
          499765,
          344160,
          336863,
          556996,
          573452,
          515358,
          371889,
          496087,
          393624
         ],
         "textangle": 0,
         "textposition": "inside",
         "type": "bar",
         "x": [
          "2022Q2",
          "2022Q3",
          "2022Q4",
          "2023Q1",
          "2023Q2",
          "2023Q3",
          "2023Q4",
          "2024Q1",
          "2024Q2",
          "2024Q3",
          "2024Q4"
         ],
         "y": [
          365211,
          276941,
          499765,
          344160,
          336863,
          556996,
          573452,
          515358,
          371889,
          496087,
          393624
         ]
        }
       ],
       "layout": {
        "annotations": [
         {
          "showarrow": false,
          "text": "2.14 M",
          "x": "2022Q1",
          "y": 2245447.0500000003
         },
         {
          "showarrow": false,
          "text": "1.83 M",
          "x": "2022Q2",
          "y": 1920325.05
         },
         {
          "showarrow": false,
          "text": "1.52 M",
          "x": "2022Q3",
          "y": 1599342.1500000001
         },
         {
          "showarrow": false,
          "text": "1.95 M",
          "x": "2022Q4",
          "y": 2048327.4000000001
         },
         {
          "showarrow": false,
          "text": "1.41 M",
          "x": "2023Q1",
          "y": 1478295
         },
         {
          "showarrow": false,
          "text": "1.67 M",
          "x": "2023Q2",
          "y": 1756924.05
         },
         {
          "showarrow": false,
          "text": "1.79 M",
          "x": "2023Q3",
          "y": 1877449.35
         },
         {
          "showarrow": false,
          "text": "2.14 M",
          "x": "2023Q4",
          "y": 2243956.0500000003
         },
         {
          "showarrow": false,
          "text": "2.30 M",
          "x": "2024Q1",
          "y": 2416435.35
         },
         {
          "showarrow": false,
          "text": "2.77 M",
          "x": "2024Q2",
          "y": 2911954.5
         },
         {
          "showarrow": false,
          "text": "1.78 M",
          "x": "2024Q3",
          "y": 1865178
         },
         {
          "showarrow": false,
          "text": "2.10 M",
          "x": "2024Q4",
          "y": 2203683.3000000003
         }
        ],
        "barmode": "stack",
        "height": 400,
        "template": {
         "data": {
          "bar": [
           {
            "error_x": {
             "color": "rgb(36,36,36)"
            },
            "error_y": {
             "color": "rgb(36,36,36)"
            },
            "marker": {
             "line": {
              "color": "white",
              "width": 0.5
             },
             "pattern": {
              "fillmode": "overlay",
              "size": 10,
              "solidity": 0.2
             }
            },
            "type": "bar"
           }
          ],
          "barpolar": [
           {
            "marker": {
             "line": {
              "color": "white",
              "width": 0.5
             },
             "pattern": {
              "fillmode": "overlay",
              "size": 10,
              "solidity": 0.2
             }
            },
            "type": "barpolar"
           }
          ],
          "carpet": [
           {
            "aaxis": {
             "endlinecolor": "rgb(36,36,36)",
             "gridcolor": "white",
             "linecolor": "white",
             "minorgridcolor": "white",
             "startlinecolor": "rgb(36,36,36)"
            },
            "baxis": {
             "endlinecolor": "rgb(36,36,36)",
             "gridcolor": "white",
             "linecolor": "white",
             "minorgridcolor": "white",
             "startlinecolor": "rgb(36,36,36)"
            },
            "type": "carpet"
           }
          ],
          "choropleth": [
           {
            "colorbar": {
             "outlinewidth": 1,
             "tickcolor": "rgb(36,36,36)",
             "ticks": "outside"
            },
            "type": "choropleth"
           }
          ],
          "contour": [
           {
            "colorbar": {
             "outlinewidth": 1,
             "tickcolor": "rgb(36,36,36)",
             "ticks": "outside"
            },
            "colorscale": [
             [
              0,
              "#440154"
             ],
             [
              0.1111111111111111,
              "#482878"
             ],
             [
              0.2222222222222222,
              "#3e4989"
             ],
             [
              0.3333333333333333,
              "#31688e"
             ],
             [
              0.4444444444444444,
              "#26828e"
             ],
             [
              0.5555555555555556,
              "#1f9e89"
             ],
             [
              0.6666666666666666,
              "#35b779"
             ],
             [
              0.7777777777777778,
              "#6ece58"
             ],
             [
              0.8888888888888888,
              "#b5de2b"
             ],
             [
              1,
              "#fde725"
             ]
            ],
            "type": "contour"
           }
          ],
          "contourcarpet": [
           {
            "colorbar": {
             "outlinewidth": 1,
             "tickcolor": "rgb(36,36,36)",
             "ticks": "outside"
            },
            "type": "contourcarpet"
           }
          ],
          "heatmap": [
           {
            "colorbar": {
             "outlinewidth": 1,
             "tickcolor": "rgb(36,36,36)",
             "ticks": "outside"
            },
            "colorscale": [
             [
              0,
              "#440154"
             ],
             [
              0.1111111111111111,
              "#482878"
             ],
             [
              0.2222222222222222,
              "#3e4989"
             ],
             [
              0.3333333333333333,
              "#31688e"
             ],
             [
              0.4444444444444444,
              "#26828e"
             ],
             [
              0.5555555555555556,
              "#1f9e89"
             ],
             [
              0.6666666666666666,
              "#35b779"
             ],
             [
              0.7777777777777778,
              "#6ece58"
             ],
             [
              0.8888888888888888,
              "#b5de2b"
             ],
             [
              1,
              "#fde725"
             ]
            ],
            "type": "heatmap"
           }
          ],
          "heatmapgl": [
           {
            "colorbar": {
             "outlinewidth": 1,
             "tickcolor": "rgb(36,36,36)",
             "ticks": "outside"
            },
            "colorscale": [
             [
              0,
              "#440154"
             ],
             [
              0.1111111111111111,
              "#482878"
             ],
             [
              0.2222222222222222,
              "#3e4989"
             ],
             [
              0.3333333333333333,
              "#31688e"
             ],
             [
              0.4444444444444444,
              "#26828e"
             ],
             [
              0.5555555555555556,
              "#1f9e89"
             ],
             [
              0.6666666666666666,
              "#35b779"
             ],
             [
              0.7777777777777778,
              "#6ece58"
             ],
             [
              0.8888888888888888,
              "#b5de2b"
             ],
             [
              1,
              "#fde725"
             ]
            ],
            "type": "heatmapgl"
           }
          ],
          "histogram": [
           {
            "marker": {
             "line": {
              "color": "white",
              "width": 0.6
             }
            },
            "type": "histogram"
           }
          ],
          "histogram2d": [
           {
            "colorbar": {
             "outlinewidth": 1,
             "tickcolor": "rgb(36,36,36)",
             "ticks": "outside"
            },
            "colorscale": [
             [
              0,
              "#440154"
             ],
             [
              0.1111111111111111,
              "#482878"
             ],
             [
              0.2222222222222222,
              "#3e4989"
             ],
             [
              0.3333333333333333,
              "#31688e"
             ],
             [
              0.4444444444444444,
              "#26828e"
             ],
             [
              0.5555555555555556,
              "#1f9e89"
             ],
             [
              0.6666666666666666,
              "#35b779"
             ],
             [
              0.7777777777777778,
              "#6ece58"
             ],
             [
              0.8888888888888888,
              "#b5de2b"
             ],
             [
              1,
              "#fde725"
             ]
            ],
            "type": "histogram2d"
           }
          ],
          "histogram2dcontour": [
           {
            "colorbar": {
             "outlinewidth": 1,
             "tickcolor": "rgb(36,36,36)",
             "ticks": "outside"
            },
            "colorscale": [
             [
              0,
              "#440154"
             ],
             [
              0.1111111111111111,
              "#482878"
             ],
             [
              0.2222222222222222,
              "#3e4989"
             ],
             [
              0.3333333333333333,
              "#31688e"
             ],
             [
              0.4444444444444444,
              "#26828e"
             ],
             [
              0.5555555555555556,
              "#1f9e89"
             ],
             [
              0.6666666666666666,
              "#35b779"
             ],
             [
              0.7777777777777778,
              "#6ece58"
             ],
             [
              0.8888888888888888,
              "#b5de2b"
             ],
             [
              1,
              "#fde725"
             ]
            ],
            "type": "histogram2dcontour"
           }
          ],
          "mesh3d": [
           {
            "colorbar": {
             "outlinewidth": 1,
             "tickcolor": "rgb(36,36,36)",
             "ticks": "outside"
            },
            "type": "mesh3d"
           }
          ],
          "parcoords": [
           {
            "line": {
             "colorbar": {
              "outlinewidth": 1,
              "tickcolor": "rgb(36,36,36)",
              "ticks": "outside"
             }
            },
            "type": "parcoords"
           }
          ],
          "pie": [
           {
            "automargin": true,
            "type": "pie"
           }
          ],
          "scatter": [
           {
            "marker": {
             "colorbar": {
              "outlinewidth": 1,
              "tickcolor": "rgb(36,36,36)",
              "ticks": "outside"
             }
            },
            "type": "scatter"
           }
          ],
          "scatter3d": [
           {
            "line": {
             "colorbar": {
              "outlinewidth": 1,
              "tickcolor": "rgb(36,36,36)",
              "ticks": "outside"
             }
            },
            "marker": {
             "colorbar": {
              "outlinewidth": 1,
              "tickcolor": "rgb(36,36,36)",
              "ticks": "outside"
             }
            },
            "type": "scatter3d"
           }
          ],
          "scattercarpet": [
           {
            "marker": {
             "colorbar": {
              "outlinewidth": 1,
              "tickcolor": "rgb(36,36,36)",
              "ticks": "outside"
             }
            },
            "type": "scattercarpet"
           }
          ],
          "scattergeo": [
           {
            "marker": {
             "colorbar": {
              "outlinewidth": 1,
              "tickcolor": "rgb(36,36,36)",
              "ticks": "outside"
             }
            },
            "type": "scattergeo"
           }
          ],
          "scattergl": [
           {
            "marker": {
             "colorbar": {
              "outlinewidth": 1,
              "tickcolor": "rgb(36,36,36)",
              "ticks": "outside"
             }
            },
            "type": "scattergl"
           }
          ],
          "scattermapbox": [
           {
            "marker": {
             "colorbar": {
              "outlinewidth": 1,
              "tickcolor": "rgb(36,36,36)",
              "ticks": "outside"
             }
            },
            "type": "scattermapbox"
           }
          ],
          "scatterpolar": [
           {
            "marker": {
             "colorbar": {
              "outlinewidth": 1,
              "tickcolor": "rgb(36,36,36)",
              "ticks": "outside"
             }
            },
            "type": "scatterpolar"
           }
          ],
          "scatterpolargl": [
           {
            "marker": {
             "colorbar": {
              "outlinewidth": 1,
              "tickcolor": "rgb(36,36,36)",
              "ticks": "outside"
             }
            },
            "type": "scatterpolargl"
           }
          ],
          "scatterternary": [
           {
            "marker": {
             "colorbar": {
              "outlinewidth": 1,
              "tickcolor": "rgb(36,36,36)",
              "ticks": "outside"
             }
            },
            "type": "scatterternary"
           }
          ],
          "surface": [
           {
            "colorbar": {
             "outlinewidth": 1,
             "tickcolor": "rgb(36,36,36)",
             "ticks": "outside"
            },
            "colorscale": [
             [
              0,
              "#440154"
             ],
             [
              0.1111111111111111,
              "#482878"
             ],
             [
              0.2222222222222222,
              "#3e4989"
             ],
             [
              0.3333333333333333,
              "#31688e"
             ],
             [
              0.4444444444444444,
              "#26828e"
             ],
             [
              0.5555555555555556,
              "#1f9e89"
             ],
             [
              0.6666666666666666,
              "#35b779"
             ],
             [
              0.7777777777777778,
              "#6ece58"
             ],
             [
              0.8888888888888888,
              "#b5de2b"
             ],
             [
              1,
              "#fde725"
             ]
            ],
            "type": "surface"
           }
          ],
          "table": [
           {
            "cells": {
             "fill": {
              "color": "rgb(237,237,237)"
             },
             "line": {
              "color": "white"
             }
            },
            "header": {
             "fill": {
              "color": "rgb(217,217,217)"
             },
             "line": {
              "color": "white"
             }
            },
            "type": "table"
           }
          ]
         },
         "layout": {
          "annotationdefaults": {
           "arrowhead": 0,
           "arrowwidth": 1
          },
          "autotypenumbers": "strict",
          "coloraxis": {
           "colorbar": {
            "outlinewidth": 1,
            "tickcolor": "rgb(36,36,36)",
            "ticks": "outside"
           }
          },
          "colorscale": {
           "diverging": [
            [
             0,
             "rgb(103,0,31)"
            ],
            [
             0.1,
             "rgb(178,24,43)"
            ],
            [
             0.2,
             "rgb(214,96,77)"
            ],
            [
             0.3,
             "rgb(244,165,130)"
            ],
            [
             0.4,
             "rgb(253,219,199)"
            ],
            [
             0.5,
             "rgb(247,247,247)"
            ],
            [
             0.6,
             "rgb(209,229,240)"
            ],
            [
             0.7,
             "rgb(146,197,222)"
            ],
            [
             0.8,
             "rgb(67,147,195)"
            ],
            [
             0.9,
             "rgb(33,102,172)"
            ],
            [
             1,
             "rgb(5,48,97)"
            ]
           ],
           "sequential": [
            [
             0,
             "#440154"
            ],
            [
             0.1111111111111111,
             "#482878"
            ],
            [
             0.2222222222222222,
             "#3e4989"
            ],
            [
             0.3333333333333333,
             "#31688e"
            ],
            [
             0.4444444444444444,
             "#26828e"
            ],
            [
             0.5555555555555556,
             "#1f9e89"
            ],
            [
             0.6666666666666666,
             "#35b779"
            ],
            [
             0.7777777777777778,
             "#6ece58"
            ],
            [
             0.8888888888888888,
             "#b5de2b"
            ],
            [
             1,
             "#fde725"
            ]
           ],
           "sequentialminus": [
            [
             0,
             "#440154"
            ],
            [
             0.1111111111111111,
             "#482878"
            ],
            [
             0.2222222222222222,
             "#3e4989"
            ],
            [
             0.3333333333333333,
             "#31688e"
            ],
            [
             0.4444444444444444,
             "#26828e"
            ],
            [
             0.5555555555555556,
             "#1f9e89"
            ],
            [
             0.6666666666666666,
             "#35b779"
            ],
            [
             0.7777777777777778,
             "#6ece58"
            ],
            [
             0.8888888888888888,
             "#b5de2b"
            ],
            [
             1,
             "#fde725"
            ]
           ]
          },
          "colorway": [
           "#1F77B4",
           "#FF7F0E",
           "#2CA02C",
           "#D62728",
           "#9467BD",
           "#8C564B",
           "#E377C2",
           "#7F7F7F",
           "#BCBD22",
           "#17BECF"
          ],
          "font": {
           "color": "rgb(36,36,36)"
          },
          "geo": {
           "bgcolor": "white",
           "lakecolor": "white",
           "landcolor": "white",
           "showlakes": true,
           "showland": true,
           "subunitcolor": "white"
          },
          "hoverlabel": {
           "align": "left"
          },
          "hovermode": "closest",
          "mapbox": {
           "style": "light"
          },
          "paper_bgcolor": "white",
          "plot_bgcolor": "white",
          "polar": {
           "angularaxis": {
            "gridcolor": "rgb(232,232,232)",
            "linecolor": "rgb(36,36,36)",
            "showgrid": false,
            "showline": true,
            "ticks": "outside"
           },
           "bgcolor": "white",
           "radialaxis": {
            "gridcolor": "rgb(232,232,232)",
            "linecolor": "rgb(36,36,36)",
            "showgrid": false,
            "showline": true,
            "ticks": "outside"
           }
          },
          "scene": {
           "xaxis": {
            "backgroundcolor": "white",
            "gridcolor": "rgb(232,232,232)",
            "gridwidth": 2,
            "linecolor": "rgb(36,36,36)",
            "showbackground": true,
            "showgrid": false,
            "showline": true,
            "ticks": "outside",
            "zeroline": false,
            "zerolinecolor": "rgb(36,36,36)"
           },
           "yaxis": {
            "backgroundcolor": "white",
            "gridcolor": "rgb(232,232,232)",
            "gridwidth": 2,
            "linecolor": "rgb(36,36,36)",
            "showbackground": true,
            "showgrid": false,
            "showline": true,
            "ticks": "outside",
            "zeroline": false,
            "zerolinecolor": "rgb(36,36,36)"
           },
           "zaxis": {
            "backgroundcolor": "white",
            "gridcolor": "rgb(232,232,232)",
            "gridwidth": 2,
            "linecolor": "rgb(36,36,36)",
            "showbackground": true,
            "showgrid": false,
            "showline": true,
            "ticks": "outside",
            "zeroline": false,
            "zerolinecolor": "rgb(36,36,36)"
           }
          },
          "shapedefaults": {
           "fillcolor": "black",
           "line": {
            "width": 0
           },
           "opacity": 0.3
          },
          "ternary": {
           "aaxis": {
            "gridcolor": "rgb(232,232,232)",
            "linecolor": "rgb(36,36,36)",
            "showgrid": false,
            "showline": true,
            "ticks": "outside"
           },
           "baxis": {
            "gridcolor": "rgb(232,232,232)",
            "linecolor": "rgb(36,36,36)",
            "showgrid": false,
            "showline": true,
            "ticks": "outside"
           },
           "bgcolor": "white",
           "caxis": {
            "gridcolor": "rgb(232,232,232)",
            "linecolor": "rgb(36,36,36)",
            "showgrid": false,
            "showline": true,
            "ticks": "outside"
           }
          },
          "title": {
           "x": 0.05
          },
          "xaxis": {
           "automargin": true,
           "gridcolor": "rgb(232,232,232)",
           "linecolor": "rgb(36,36,36)",
           "showgrid": false,
           "showline": true,
           "ticks": "outside",
           "title": {
            "standoff": 15
           },
           "zeroline": false,
           "zerolinecolor": "rgb(36,36,36)"
          },
          "yaxis": {
           "automargin": true,
           "gridcolor": "rgb(232,232,232)",
           "linecolor": "rgb(36,36,36)",
           "showgrid": false,
           "showline": true,
           "ticks": "outside",
           "title": {
            "standoff": 15
           },
           "zeroline": false,
           "zerolinecolor": "rgb(36,36,36)"
          }
         }
        },
        "title": {
         "text": "2022-03-22"
        },
        "uniformtext": {
         "minsize": 8,
         "mode": "hide"
        },
        "width": 900,
        "xaxis": {
         "autorange": true,
         "range": [
          -0.5,
          11.5
         ],
         "title": {
          "text": "first_view_quarter"
         },
         "type": "category"
        },
        "yaxis": {
         "autorange": true,
         "range": [
          0,
          3043372.8741092635
         ],
         "title": {
          "text": "first_views"
         },
         "type": "linear"
        }
       }
      },
      "image/png": "[encoded data removed]",
      "text/html": [
       "<div>                            <div id=\"b4494fa8-b6a2-4690-9755-ba890529413f\" class=\"plotly-graph-div\" style=\"height:400px; width:900px;\"></div>            <script type=\"text/javascript\">                require([\"plotly\"], function(Plotly) {                    window.PLOTLYENV=window.PLOTLYENV || {};                                    if (document.getElementById(\"b4494fa8-b6a2-4690-9755-ba890529413f\")) {                    Plotly.newPlot(                        \"b4494fa8-b6a2-4690-9755-ba890529413f\",                        [{\"marker\":{\"color\":\"#0508b8\"},\"name\":\"Pay 1\",\"text\":[270124.0,124199.0,59456.0,16107.0,4829.0],\"textangle\":0,\"textposition\":\"inside\",\"x\":[\"2022Q1\",\"2022Q2\",\"2022Q3\",\"2022Q4\",\"2023Q1\"],\"y\":[270124.0,124199.0,59456.0,16107.0,4829.0],\"type\":\"bar\"},{\"marker\":{\"color\":\"#3c19f0\"},\"name\":\"Tier 3\",\"text\":[63060.0,74374.0,57361.0,67274.0,67386.0,41469.0,41164.0,50924.0,38743.0,31780.0,43220.0,39438.0],\"textangle\":0,\"textposition\":\"inside\",\"x\":[\"2022Q1\",\"2022Q2\",\"2022Q3\",\"2022Q4\",\"2023Q1\",\"2023Q2\",\"2023Q3\",\"2023Q4\",\"2024Q1\",\"2024Q2\",\"2024Q3\",\"2024Q4\"],\"y\":[63060.0,74374.0,57361.0,67274.0,67386.0,41469.0,41164.0,50924.0,38743.0,31780.0,43220.0,39438.0],\"type\":\"bar\"},{\"marker\":{\"color\":\"#6b1cfb\"},\"name\":\"Tier 2\",\"text\":[328255.0,446813.0,387076.0,611537.0,416131.0,421041.0,401549.0,199798.0,255644.0,482868.0,247785.0,155600.0],\"textangle\":0,\"textposition\":\"inside\",\"x\":[\"2022Q1\",\"2022Q2\",\"2022Q3\",\"2022Q4\",\"2023Q1\",\"2023Q2\",\"2023Q3\",\"2023Q4\",\"2024Q1\",\"2024Q2\",\"2024Q3\",\"2024Q4\"],\"y\":[328255.0,446813.0,387076.0,611537.0,416131.0,421041.0,401549.0,199798.0,255644.0,482868.0,247785.0,155600.0],\"type\":\"bar\"},{\"marker\":{\"color\":\"#bf1cfd\"},\"name\":\"Tier 1\",\"text\":[761649.0,367860.0,367644.0,636703.0,128374.0,854431.0,788338.0,981051.0,799820.0,692793.0,874521.0,1080652.0],\"textangle\":0,\"textposition\":\"inside\",\"x\":[\"2022Q1\",\"2022Q2\",\"2022Q3\",\"2022Q4\",\"2023Q1\",\"2023Q2\",\"2023Q3\",\"2023Q4\",\"2024Q1\",\"2024Q2\",\"2024Q3\",\"2024Q4\"],\"y\":[761649.0,367860.0,367644.0,636703.0,128374.0,854431.0,788338.0,981051.0,799820.0,692793.0,874521.0,1080652.0],\"type\":\"bar\"},{\"marker\":{\"color\":\"#f246fe\"},\"name\":\"Tier 1+\",\"text\":[454901.0,450424.0,374705.0,119402.0,447020.0,19457.0,331876.0,691802.0,1193960.0,114747.0,429432.0],\"textangle\":0,\"textposition\":\"inside\",\"x\":[\"2022Q1\",\"2022Q2\",\"2022Q3\",\"2022Q4\",\"2023Q1\",\"2023Q2\",\"2023Q4\",\"2024Q1\",\"2024Q2\",\"2024Q3\",\"2024Q4\"],\"y\":[454901.0,450424.0,374705.0,119402.0,447020.0,19457.0,331876.0,691802.0,1193960.0,114747.0,429432.0],\"type\":\"bar\"},{\"marker\":{\"color\":\"#fe88fc\"},\"name\":\"Popcorn\",\"text\":[260532.0],\"textangle\":0,\"textposition\":\"inside\",\"x\":[\"2022Q1\"],\"y\":[260532.0],\"type\":\"bar\"},{\"marker\":{\"color\":\"#fec3fe\"},\"name\":\"Pay 1 WB Theatricals\",\"text\":[365211.0,276941.0,499765.0,344160.0,336863.0,556996.0,573452.0,515358.0,371889.0,496087.0,393624.0],\"textangle\":0,\"textposition\":\"inside\",\"x\":[\"2022Q2\",\"2022Q3\",\"2022Q4\",\"2023Q1\",\"2023Q2\",\"2023Q3\",\"2023Q4\",\"2024Q1\",\"2024Q2\",\"2024Q3\",\"2024Q4\"],\"y\":[365211.0,276941.0,499765.0,344160.0,336863.0,556996.0,573452.0,515358.0,371889.0,496087.0,393624.0],\"type\":\"bar\"}],                        {\"annotations\":[{\"showarrow\":false,\"text\":\"2.14 M\",\"x\":\"2022Q1\",\"y\":2245447.0500000003},{\"showarrow\":false,\"text\":\"1.83 M\",\"x\":\"2022Q2\",\"y\":1920325.05},{\"showarrow\":false,\"text\":\"1.52 M\",\"x\":\"2022Q3\",\"y\":1599342.1500000001},{\"showarrow\":false,\"text\":\"1.95 M\",\"x\":\"2022Q4\",\"y\":2048327.4000000001},{\"showarrow\":false,\"text\":\"1.41 M\",\"x\":\"2023Q1\",\"y\":1478295.0},{\"showarrow\":false,\"text\":\"1.67 M\",\"x\":\"2023Q2\",\"y\":1756924.05},{\"showarrow\":false,\"text\":\"1.79 M\",\"x\":\"2023Q3\",\"y\":1877449.35},{\"showarrow\":false,\"text\":\"2.14 M\",\"x\":\"2023Q4\",\"y\":2243956.0500000003},{\"showarrow\":false,\"text\":\"2.30 M\",\"x\":\"2024Q1\",\"y\":2416435.35},{\"showarrow\":false,\"text\":\"2.77 M\",\"x\":\"2024Q2\",\"y\":2911954.5},{\"showarrow\":false,\"text\":\"1.78 M\",\"x\":\"2024Q3\",\"y\":1865178.0},{\"showarrow\":false,\"text\":\"2.10 M\",\"x\":\"2024Q4\",\"y\":2203683.3000000003}],\"barmode\":\"stack\",\"height\":400,\"template\":{\"data\":{\"barpolar\":[{\"marker\":{\"line\":{\"color\":\"white\",\"width\":0.5},\"pattern\":{\"fillmode\":\"overlay\",\"size\":10,\"solidity\":0.2}},\"type\":\"barpolar\"}],\"bar\":[{\"error_x\":{\"color\":\"rgb(36,36,36)\"},\"error_y\":{\"color\":\"rgb(36,36,36)\"},\"marker\":{\"line\":{\"color\":\"white\",\"width\":0.5},\"pattern\":{\"fillmode\":\"overlay\",\"size\":10,\"solidity\":0.2}},\"type\":\"bar\"}],\"carpet\":[{\"aaxis\":{\"endlinecolor\":\"rgb(36,36,36)\",\"gridcolor\":\"white\",\"linecolor\":\"white\",\"minorgridcolor\":\"white\",\"startlinecolor\":\"rgb(36,36,36)\"},\"baxis\":{\"endlinecolor\":\"rgb(36,36,36)\",\"gridcolor\":\"white\",\"linecolor\":\"white\",\"minorgridcolor\":\"white\",\"startlinecolor\":\"rgb(36,36,36)\"},\"type\":\"carpet\"}],\"choropleth\":[{\"colorbar\":{\"outlinewidth\":1,\"tickcolor\":\"rgb(36,36,36)\",\"ticks\":\"outside\"},\"type\":\"choropleth\"}],\"contourcarpet\":[{\"colorbar\":{\"outlinewidth\":1,\"tickcolor\":\"rgb(36,36,36)\",\"ticks\":\"outside\"},\"type\":\"contourcarpet\"}],\"contour\":[{\"colorbar\":{\"outlinewidth\":1,\"tickcolor\":\"rgb(36,36,36)\",\"ticks\":\"outside\"},\"colorscale\":[[0.0,\"#440154\"],[0.1111111111111111,\"#482878\"],[0.2222222222222222,\"#3e4989\"],[0.3333333333333333,\"#31688e\"],[0.4444444444444444,\"#26828e\"],[0.5555555555555556,\"#1f9e89\"],[0.6666666666666666,\"#35b779\"],[0.7777777777777778,\"#6ece58\"],[0.8888888888888888,\"#b5de2b\"],[1.0,\"#fde725\"]],\"type\":\"contour\"}],\"heatmapgl\":[{\"colorbar\":{\"outlinewidth\":1,\"tickcolor\":\"rgb(36,36,36)\",\"ticks\":\"outside\"},\"colorscale\":[[0.0,\"#440154\"],[0.1111111111111111,\"#482878\"],[0.2222222222222222,\"#3e4989\"],[0.3333333333333333,\"#31688e\"],[0.4444444444444444,\"#26828e\"],[0.5555555555555556,\"#1f9e89\"],[0.6666666666666666,\"#35b779\"],[0.7777777777777778,\"#6ece58\"],[0.8888888888888888,\"#b5de2b\"],[1.0,\"#fde725\"]],\"type\":\"heatmapgl\"}],\"heatmap\":[{\"colorbar\":{\"outlinewidth\":1,\"tickcolor\":\"rgb(36,36,36)\",\"ticks\":\"outside\"},\"colorscale\":[[0.0,\"#440154\"],[0.1111111111111111,\"#482878\"],[0.2222222222222222,\"#3e4989\"],[0.3333333333333333,\"#31688e\"],[0.4444444444444444,\"#26828e\"],[0.5555555555555556,\"#1f9e89\"],[0.6666666666666666,\"#35b779\"],[0.7777777777777778,\"#6ece58\"],[0.8888888888888888,\"#b5de2b\"],[1.0,\"#fde725\"]],\"type\":\"heatmap\"}],\"histogram2dcontour\":[{\"colorbar\":{\"outlinewidth\":1,\"tickcolor\":\"rgb(36,36,36)\",\"ticks\":\"outside\"},\"colorscale\":[[0.0,\"#440154\"],[0.1111111111111111,\"#482878\"],[0.2222222222222222,\"#3e4989\"],[0.3333333333333333,\"#31688e\"],[0.4444444444444444,\"#26828e\"],[0.5555555555555556,\"#1f9e89\"],[0.6666666666666666,\"#35b779\"],[0.7777777777777778,\"#6ece58\"],[0.8888888888888888,\"#b5de2b\"],[1.0,\"#fde725\"]],\"type\":\"histogram2dcontour\"}],\"histogram2d\":[{\"colorbar\":{\"outlinewidth\":1,\"tickcolor\":\"rgb(36,36,36)\",\"ticks\":\"outside\"},\"colorscale\":[[0.0,\"#440154\"],[0.1111111111111111,\"#482878\"],[0.2222222222222222,\"#3e4989\"],[0.3333333333333333,\"#31688e\"],[0.4444444444444444,\"#26828e\"],[0.5555555555555556,\"#1f9e89\"],[0.6666666666666666,\"#35b779\"],[0.7777777777777778,\"#6ece58\"],[0.8888888888888888,\"#b5de2b\"],[1.0,\"#fde725\"]],\"type\":\"histogram2d\"}],\"histogram\":[{\"marker\":{\"line\":{\"color\":\"white\",\"width\":0.6}},\"type\":\"histogram\"}],\"mesh3d\":[{\"colorbar\":{\"outlinewidth\":1,\"tickcolor\":\"rgb(36,36,36)\",\"ticks\":\"outside\"},\"type\":\"mesh3d\"}],\"parcoords\":[{\"line\":{\"colorbar\":{\"outlinewidth\":1,\"tickcolor\":\"rgb(36,36,36)\",\"ticks\":\"outside\"}},\"type\":\"parcoords\"}],\"pie\":[{\"automargin\":true,\"type\":\"pie\"}],\"scatter3d\":[{\"line\":{\"colorbar\":{\"outlinewidth\":1,\"tickcolor\":\"rgb(36,36,36)\",\"ticks\":\"outside\"}},\"marker\":{\"colorbar\":{\"outlinewidth\":1,\"tickcolor\":\"rgb(36,36,36)\",\"ticks\":\"outside\"}},\"type\":\"scatter3d\"}],\"scattercarpet\":[{\"marker\":{\"colorbar\":{\"outlinewidth\":1,\"tickcolor\":\"rgb(36,36,36)\",\"ticks\":\"outside\"}},\"type\":\"scattercarpet\"}],\"scattergeo\":[{\"marker\":{\"colorbar\":{\"outlinewidth\":1,\"tickcolor\":\"rgb(36,36,36)\",\"ticks\":\"outside\"}},\"type\":\"scattergeo\"}],\"scattergl\":[{\"marker\":{\"colorbar\":{\"outlinewidth\":1,\"tickcolor\":\"rgb(36,36,36)\",\"ticks\":\"outside\"}},\"type\":\"scattergl\"}],\"scattermapbox\":[{\"marker\":{\"colorbar\":{\"outlinewidth\":1,\"tickcolor\":\"rgb(36,36,36)\",\"ticks\":\"outside\"}},\"type\":\"scattermapbox\"}],\"scatterpolargl\":[{\"marker\":{\"colorbar\":{\"outlinewidth\":1,\"tickcolor\":\"rgb(36,36,36)\",\"ticks\":\"outside\"}},\"type\":\"scatterpolargl\"}],\"scatterpolar\":[{\"marker\":{\"colorbar\":{\"outlinewidth\":1,\"tickcolor\":\"rgb(36,36,36)\",\"ticks\":\"outside\"}},\"type\":\"scatterpolar\"}],\"scatter\":[{\"marker\":{\"colorbar\":{\"outlinewidth\":1,\"tickcolor\":\"rgb(36,36,36)\",\"ticks\":\"outside\"}},\"type\":\"scatter\"}],\"scatterternary\":[{\"marker\":{\"colorbar\":{\"outlinewidth\":1,\"tickcolor\":\"rgb(36,36,36)\",\"ticks\":\"outside\"}},\"type\":\"scatterternary\"}],\"surface\":[{\"colorbar\":{\"outlinewidth\":1,\"tickcolor\":\"rgb(36,36,36)\",\"ticks\":\"outside\"},\"colorscale\":[[0.0,\"#440154\"],[0.1111111111111111,\"#482878\"],[0.2222222222222222,\"#3e4989\"],[0.3333333333333333,\"#31688e\"],[0.4444444444444444,\"#26828e\"],[0.5555555555555556,\"#1f9e89\"],[0.6666666666666666,\"#35b779\"],[0.7777777777777778,\"#6ece58\"],[0.8888888888888888,\"#b5de2b\"],[1.0,\"#fde725\"]],\"type\":\"surface\"}],\"table\":[{\"cells\":{\"fill\":{\"color\":\"rgb(237,237,237)\"},\"line\":{\"color\":\"white\"}},\"header\":{\"fill\":{\"color\":\"rgb(217,217,217)\"},\"line\":{\"color\":\"white\"}},\"type\":\"table\"}]},\"layout\":{\"annotationdefaults\":{\"arrowhead\":0,\"arrowwidth\":1},\"autotypenumbers\":\"strict\",\"coloraxis\":{\"colorbar\":{\"outlinewidth\":1,\"tickcolor\":\"rgb(36,36,36)\",\"ticks\":\"outside\"}},\"colorscale\":{\"diverging\":[[0.0,\"rgb(103,0,31)\"],[0.1,\"rgb(178,24,43)\"],[0.2,\"rgb(214,96,77)\"],[0.3,\"rgb(244,165,130)\"],[0.4,\"rgb(253,219,199)\"],[0.5,\"rgb(247,247,247)\"],[0.6,\"rgb(209,229,240)\"],[0.7,\"rgb(146,197,222)\"],[0.8,\"rgb(67,147,195)\"],[0.9,\"rgb(33,102,172)\"],[1.0,\"rgb(5,48,97)\"]],\"sequential\":[[0.0,\"#440154\"],[0.1111111111111111,\"#482878\"],[0.2222222222222222,\"#3e4989\"],[0.3333333333333333,\"#31688e\"],[0.4444444444444444,\"#26828e\"],[0.5555555555555556,\"#1f9e89\"],[0.6666666666666666,\"#35b779\"],[0.7777777777777778,\"#6ece58\"],[0.8888888888888888,\"#b5de2b\"],[1.0,\"#fde725\"]],\"sequentialminus\":[[0.0,\"#440154\"],[0.1111111111111111,\"#482878\"],[0.2222222222222222,\"#3e4989\"],[0.3333333333333333,\"#31688e\"],[0.4444444444444444,\"#26828e\"],[0.5555555555555556,\"#1f9e89\"],[0.6666666666666666,\"#35b779\"],[0.7777777777777778,\"#6ece58\"],[0.8888888888888888,\"#b5de2b\"],[1.0,\"#fde725\"]]},\"colorway\":[\"#1F77B4\",\"#FF7F0E\",\"#2CA02C\",\"#D62728\",\"#9467BD\",\"#8C564B\",\"#E377C2\",\"#7F7F7F\",\"#BCBD22\",\"#17BECF\"],\"font\":{\"color\":\"rgb(36,36,36)\"},\"geo\":{\"bgcolor\":\"white\",\"lakecolor\":\"white\",\"landcolor\":\"white\",\"showlakes\":true,\"showland\":true,\"subunitcolor\":\"white\"},\"hoverlabel\":{\"align\":\"left\"},\"hovermode\":\"closest\",\"mapbox\":{\"style\":\"light\"},\"paper_bgcolor\":\"white\",\"plot_bgcolor\":\"white\",\"polar\":{\"angularaxis\":{\"gridcolor\":\"rgb(232,232,232)\",\"linecolor\":\"rgb(36,36,36)\",\"showgrid\":false,\"showline\":true,\"ticks\":\"outside\"},\"bgcolor\":\"white\",\"radialaxis\":{\"gridcolor\":\"rgb(232,232,232)\",\"linecolor\":\"rgb(36,36,36)\",\"showgrid\":false,\"showline\":true,\"ticks\":\"outside\"}},\"scene\":{\"xaxis\":{\"backgroundcolor\":\"white\",\"gridcolor\":\"rgb(232,232,232)\",\"gridwidth\":2,\"linecolor\":\"rgb(36,36,36)\",\"showbackground\":true,\"showgrid\":false,\"showline\":true,\"ticks\":\"outside\",\"zeroline\":false,\"zerolinecolor\":\"rgb(36,36,36)\"},\"yaxis\":{\"backgroundcolor\":\"white\",\"gridcolor\":\"rgb(232,232,232)\",\"gridwidth\":2,\"linecolor\":\"rgb(36,36,36)\",\"showbackground\":true,\"showgrid\":false,\"showline\":true,\"ticks\":\"outside\",\"zeroline\":false,\"zerolinecolor\":\"rgb(36,36,36)\"},\"zaxis\":{\"backgroundcolor\":\"white\",\"gridcolor\":\"rgb(232,232,232)\",\"gridwidth\":2,\"linecolor\":\"rgb(36,36,36)\",\"showbackground\":true,\"showgrid\":false,\"showline\":true,\"ticks\":\"outside\",\"zeroline\":false,\"zerolinecolor\":\"rgb(36,36,36)\"}},\"shapedefaults\":{\"fillcolor\":\"black\",\"line\":{\"width\":0},\"opacity\":0.3},\"ternary\":{\"aaxis\":{\"gridcolor\":\"rgb(232,232,232)\",\"linecolor\":\"rgb(36,36,36)\",\"showgrid\":false,\"showline\":true,\"ticks\":\"outside\"},\"baxis\":{\"gridcolor\":\"rgb(232,232,232)\",\"linecolor\":\"rgb(36,36,36)\",\"showgrid\":false,\"showline\":true,\"ticks\":\"outside\"},\"bgcolor\":\"white\",\"caxis\":{\"gridcolor\":\"rgb(232,232,232)\",\"linecolor\":\"rgb(36,36,36)\",\"showgrid\":false,\"showline\":true,\"ticks\":\"outside\"}},\"title\":{\"x\":0.05},\"xaxis\":{\"automargin\":true,\"gridcolor\":\"rgb(232,232,232)\",\"linecolor\":\"rgb(36,36,36)\",\"showgrid\":false,\"showline\":true,\"ticks\":\"outside\",\"title\":{\"standoff\":15},\"zeroline\":false,\"zerolinecolor\":\"rgb(36,36,36)\"},\"yaxis\":{\"automargin\":true,\"gridcolor\":\"rgb(232,232,232)\",\"linecolor\":\"rgb(36,36,36)\",\"showgrid\":false,\"showline\":true,\"ticks\":\"outside\",\"title\":{\"standoff\":15},\"zeroline\":false,\"zerolinecolor\":\"rgb(36,36,36)\"}}},\"title\":{\"text\":\"2022-03-22\"},\"uniformtext\":{\"minsize\":8,\"mode\":\"hide\"},\"width\":900,\"xaxis\":{\"title\":{\"text\":\"first_view_quarter\"}},\"yaxis\":{\"title\":{\"text\":\"first_views\"}}},                        {\"responsive\": true}                    ).then(function(){\n",
       "                            \n",
       "var gd = document.getElementById('b4494fa8-b6a2-4690-9755-ba890529413f');\n",
       "var x = new MutationObserver(function (mutations, observer) {{\n",
       "        var display = window.getComputedStyle(gd).display;\n",
       "        if (!display || display === 'none') {{\n",
       "            console.log([gd, 'removed!']);\n",
       "            Plotly.purge(gd);\n",
       "            observer.disconnect();\n",
       "        }}\n",
       "}});\n",
       "\n",
       "// Listen for the removal of the full notebook cells\n",
       "var notebookContainer = gd.closest('#notebook-container');\n",
       "if (notebookContainer) {{\n",
       "    x.observe(notebookContainer, {childList: true});\n",
       "}}\n",
       "\n",
       "// Listen for the clearing of the current output cell\n",
       "var outputEl = gd.closest('.output');\n",
       "if (outputEl) {{\n",
       "    x.observe(outputEl, {childList: true});\n",
       "}}\n",
       "\n",
       "                        })                };                });            </script>        </div>"
      ]
     },
     "metadata": {},
     "output_type": "display_data"
    },
    {
     "name": "stderr",
     "output_type": "stream",
     "text": [
      "/home/ec2-user/anaconda3/envs/python3/lib/python3.6/site-packages/ipykernel/__main__.py:110: SettingWithCopyWarning:\n",
      "\n",
      "\n",
      "A value is trying to be set on a copy of a slice from a DataFrame.\n",
      "Try using .loc[row_indexer,col_indexer] = value instead\n",
      "\n",
      "See the caveats in the documentation: https://pandas.pydata.org/pandas-docs/stable/user_guide/indexing.html#returning-a-view-versus-a-copy\n",
      "\n"
     ]
    },
    {
     "data": {
      "text/html": [
       "<div>\n",
       "<style scoped>\n",
       "    .dataframe tbody tr th:only-of-type {\n",
       "        vertical-align: middle;\n",
       "    }\n",
       "\n",
       "    .dataframe tbody tr th {\n",
       "        vertical-align: top;\n",
       "    }\n",
       "\n",
       "    .dataframe thead th {\n",
       "        text-align: right;\n",
       "    }\n",
       "</style>\n",
       "<table border=\"1\" class=\"dataframe\">\n",
       "  <thead>\n",
       "    <tr style=\"text-align: right;\">\n",
       "      <th></th>\n",
       "      <th>title_name</th>\n",
       "      <th>effective_start_date</th>\n",
       "      <th>tier</th>\n",
       "      <th>category</th>\n",
       "      <th>first_views_pred_decay</th>\n",
       "      <th>first_views_pred_decay_base</th>\n",
       "      <th>diff_pct</th>\n",
       "    </tr>\n",
       "  </thead>\n",
       "  <tbody>\n",
       "    <tr>\n",
       "      <th>621</th>\n",
       "      <td>The Batman</td>\n",
       "      <td>2022-04-18</td>\n",
       "      <td>1</td>\n",
       "      <td>Pay 1 WB Theatricals</td>\n",
       "      <td>229216.109375</td>\n",
       "      <td>0.000000</td>\n",
       "      <td>inf</td>\n",
       "    </tr>\n",
       "    <tr>\n",
       "      <th>642</th>\n",
       "      <td>The Flight Attendant</td>\n",
       "      <td>2022-04-21</td>\n",
       "      <td>0</td>\n",
       "      <td>Scripted Drama Series</td>\n",
       "      <td>466477.093750</td>\n",
       "      <td>456063.312500</td>\n",
       "      <td>0.022834</td>\n",
       "    </tr>\n",
       "    <tr>\n",
       "      <th>711</th>\n",
       "      <td>The Staircase</td>\n",
       "      <td>2022-05-05</td>\n",
       "      <td>1</td>\n",
       "      <td>Scripted Drama Series</td>\n",
       "      <td>152018.984375</td>\n",
       "      <td>119941.039062</td>\n",
       "      <td>0.267448</td>\n",
       "    </tr>\n",
       "    <tr>\n",
       "      <th>165</th>\n",
       "      <td>Fantastic Beasts: The Secrets of Dumbledore</td>\n",
       "      <td>2022-05-30</td>\n",
       "      <td>1</td>\n",
       "      <td>Pay 1 WB Theatricals</td>\n",
       "      <td>213999.375000</td>\n",
       "      <td>323731.187500</td>\n",
       "      <td>-0.338960</td>\n",
       "    </tr>\n",
       "    <tr>\n",
       "      <th>167</th>\n",
       "      <td>Father of the Bride</td>\n",
       "      <td>2022-06-16</td>\n",
       "      <td>1</td>\n",
       "      <td>Scripted Features</td>\n",
       "      <td>159487.390625</td>\n",
       "      <td>0.000000</td>\n",
       "      <td>inf</td>\n",
       "    </tr>\n",
       "    <tr>\n",
       "      <th>777</th>\n",
       "      <td>Westworld</td>\n",
       "      <td>2022-06-26</td>\n",
       "      <td>1</td>\n",
       "      <td>Scripted Drama Series</td>\n",
       "      <td>152018.984375</td>\n",
       "      <td>119941.039062</td>\n",
       "      <td>0.267448</td>\n",
       "    </tr>\n",
       "    <tr>\n",
       "      <th>508</th>\n",
       "      <td>Pretty Little Liars: Original Sin</td>\n",
       "      <td>2022-07-07</td>\n",
       "      <td>1</td>\n",
       "      <td>Scripted Drama Series</td>\n",
       "      <td>152018.984375</td>\n",
       "      <td>0.000000</td>\n",
       "      <td>inf</td>\n",
       "    </tr>\n",
       "    <tr>\n",
       "      <th>141</th>\n",
       "      <td>Elvis</td>\n",
       "      <td>2022-08-08</td>\n",
       "      <td>1</td>\n",
       "      <td>Pay 1 WB Theatricals</td>\n",
       "      <td>145503.671875</td>\n",
       "      <td>133187.968750</td>\n",
       "      <td>0.092469</td>\n",
       "    </tr>\n",
       "    <tr>\n",
       "      <th>331</th>\n",
       "      <td>House Of The Dragon</td>\n",
       "      <td>2022-08-21</td>\n",
       "      <td>0</td>\n",
       "      <td>Scripted Drama Series</td>\n",
       "      <td>466477.093750</td>\n",
       "      <td>456063.312500</td>\n",
       "      <td>0.022834</td>\n",
       "    </tr>\n",
       "    <tr>\n",
       "      <th>117</th>\n",
       "      <td>DC League Of Super-Pets</td>\n",
       "      <td>2022-09-12</td>\n",
       "      <td>1</td>\n",
       "      <td>Pay 1 WB Theatricals</td>\n",
       "      <td>145503.671875</td>\n",
       "      <td>0.000000</td>\n",
       "      <td>inf</td>\n",
       "    </tr>\n",
       "    <tr>\n",
       "      <th>417</th>\n",
       "      <td>Love &amp; Death</td>\n",
       "      <td>2022-10-20</td>\n",
       "      <td>1</td>\n",
       "      <td>Scripted Drama Series</td>\n",
       "      <td>152018.984375</td>\n",
       "      <td>119941.039063</td>\n",
       "      <td>0.267448</td>\n",
       "    </tr>\n",
       "    <tr>\n",
       "      <th>537</th>\n",
       "      <td>Salem's Lot</td>\n",
       "      <td>2022-10-24</td>\n",
       "      <td>1</td>\n",
       "      <td>Pay 1 WB Theatricals</td>\n",
       "      <td>145503.671875</td>\n",
       "      <td>133187.968750</td>\n",
       "      <td>0.092469</td>\n",
       "    </tr>\n",
       "    <tr>\n",
       "      <th>426</th>\n",
       "      <td>Magic Mike's Last Dance</td>\n",
       "      <td>2022-10-27</td>\n",
       "      <td>1</td>\n",
       "      <td>Scripted Features</td>\n",
       "      <td>159487.390625</td>\n",
       "      <td>0.000000</td>\n",
       "      <td>inf</td>\n",
       "    </tr>\n",
       "    <tr>\n",
       "      <th>127</th>\n",
       "      <td>Don't Worry Darling</td>\n",
       "      <td>2022-11-07</td>\n",
       "      <td>1</td>\n",
       "      <td>Pay 1 WB Theatricals</td>\n",
       "      <td>145503.671875</td>\n",
       "      <td>133187.968750</td>\n",
       "      <td>0.092469</td>\n",
       "    </tr>\n",
       "    <tr>\n",
       "      <th>209</th>\n",
       "      <td>Gossip Girl</td>\n",
       "      <td>2022-11-10</td>\n",
       "      <td>1</td>\n",
       "      <td>Scripted Drama Series</td>\n",
       "      <td>152018.984375</td>\n",
       "      <td>119941.039062</td>\n",
       "      <td>0.267448</td>\n",
       "    </tr>\n",
       "    <tr>\n",
       "      <th>705</th>\n",
       "      <td>The Sex Lives of College Girls</td>\n",
       "      <td>2022-11-17</td>\n",
       "      <td>1</td>\n",
       "      <td>Scripted Comedy Series</td>\n",
       "      <td>84807.781250</td>\n",
       "      <td>65324.093750</td>\n",
       "      <td>0.298262</td>\n",
       "    </tr>\n",
       "    <tr>\n",
       "      <th>17</th>\n",
       "      <td>A Christmas Story Christmas</td>\n",
       "      <td>2022-11-17</td>\n",
       "      <td>1</td>\n",
       "      <td>Scripted Features</td>\n",
       "      <td>159487.390625</td>\n",
       "      <td>0.000000</td>\n",
       "      <td>inf</td>\n",
       "    </tr>\n",
       "    <tr>\n",
       "      <th>71</th>\n",
       "      <td>Black Adam</td>\n",
       "      <td>2022-12-05</td>\n",
       "      <td>1</td>\n",
       "      <td>Pay 1 WB Theatricals</td>\n",
       "      <td>229216.109375</td>\n",
       "      <td>0.000000</td>\n",
       "      <td>inf</td>\n",
       "    </tr>\n",
       "  </tbody>\n",
       "</table>\n",
       "</div>"
      ],
      "text/plain": [
       "                                      title_name effective_start_date  tier  \\\n",
       "621                                   The Batman           2022-04-18     1   \n",
       "642                         The Flight Attendant           2022-04-21     0   \n",
       "711                                The Staircase           2022-05-05     1   \n",
       "165  Fantastic Beasts: The Secrets of Dumbledore           2022-05-30     1   \n",
       "167                          Father of the Bride           2022-06-16     1   \n",
       "777                                    Westworld           2022-06-26     1   \n",
       "508            Pretty Little Liars: Original Sin           2022-07-07     1   \n",
       "141                                        Elvis           2022-08-08     1   \n",
       "331                          House Of The Dragon           2022-08-21     0   \n",
       "117                      DC League Of Super-Pets           2022-09-12     1   \n",
       "417                                 Love & Death           2022-10-20     1   \n",
       "537                                  Salem's Lot           2022-10-24     1   \n",
       "426                      Magic Mike's Last Dance           2022-10-27     1   \n",
       "127                          Don't Worry Darling           2022-11-07     1   \n",
       "209                                  Gossip Girl           2022-11-10     1   \n",
       "705               The Sex Lives of College Girls           2022-11-17     1   \n",
       "17                   A Christmas Story Christmas           2022-11-17     1   \n",
       "71                                    Black Adam           2022-12-05     1   \n",
       "\n",
       "                   category  first_views_pred_decay  \\\n",
       "621    Pay 1 WB Theatricals           229216.109375   \n",
       "642   Scripted Drama Series           466477.093750   \n",
       "711   Scripted Drama Series           152018.984375   \n",
       "165    Pay 1 WB Theatricals           213999.375000   \n",
       "167       Scripted Features           159487.390625   \n",
       "777   Scripted Drama Series           152018.984375   \n",
       "508   Scripted Drama Series           152018.984375   \n",
       "141    Pay 1 WB Theatricals           145503.671875   \n",
       "331   Scripted Drama Series           466477.093750   \n",
       "117    Pay 1 WB Theatricals           145503.671875   \n",
       "417   Scripted Drama Series           152018.984375   \n",
       "537    Pay 1 WB Theatricals           145503.671875   \n",
       "426       Scripted Features           159487.390625   \n",
       "127    Pay 1 WB Theatricals           145503.671875   \n",
       "209   Scripted Drama Series           152018.984375   \n",
       "705  Scripted Comedy Series            84807.781250   \n",
       "17        Scripted Features           159487.390625   \n",
       "71     Pay 1 WB Theatricals           229216.109375   \n",
       "\n",
       "     first_views_pred_decay_base  diff_pct  \n",
       "621                     0.000000       inf  \n",
       "642                456063.312500  0.022834  \n",
       "711                119941.039062  0.267448  \n",
       "165                323731.187500 -0.338960  \n",
       "167                     0.000000       inf  \n",
       "777                119941.039062  0.267448  \n",
       "508                     0.000000       inf  \n",
       "141                133187.968750  0.092469  \n",
       "331                456063.312500  0.022834  \n",
       "117                     0.000000       inf  \n",
       "417                119941.039063  0.267448  \n",
       "537                133187.968750  0.092469  \n",
       "426                     0.000000       inf  \n",
       "127                133187.968750  0.092469  \n",
       "209                119941.039062  0.267448  \n",
       "705                 65324.093750  0.298262  \n",
       "17                      0.000000       inf  \n",
       "71                      0.000000       inf  "
      ]
     },
     "metadata": {},
     "output_type": "display_data"
    }
   ],
   "source": [
    "# def get_tier_cat(df_pred_future_fv):\n",
    "#     ### Get tier_cat \n",
    "#     f_pay = (df_pred_future_fv['category']=='Pay1')\n",
    "#     f_payt = (df_pred_future_fv['category']=='Pay 1 WB Theatricals')\n",
    "#     f_popcorn = (df_pred_future_fv['category']=='Popcorn')\n",
    "#     f_t0 = (df_pred_future_fv['tier']==0) & ~(df_pred_future_fv['category'].isin(['Pay1','Popcorn','Pay 1 WB Theatricals']))\n",
    "#     f_t1 = (df_pred_future_fv['tier']==1) & ~(df_pred_future_fv['category'].isin(['Pay1','Popcorn','Pay 1 WB Theatricals']))\n",
    "#     f_t2 = (df_pred_future_fv['tier']==2) & ~(df_pred_future_fv['category'].isin(['Pay1','Popcorn','Pay 1 WB Theatricals']))\n",
    "#     f_t3 = (df_pred_future_fv['tier']==3) & ~(df_pred_future_fv['category'].isin(['Pay1','Popcorn','Pay 1 WB Theatricals']))\n",
    "\n",
    "#     df_pred_future_fv['tier_cat'] = None\n",
    "#     # df_pred_future_fv.loc[f_payt, 'tier_cat'] = 'Pay1 Theatrical'\n",
    "#     df_pred_future_fv.loc[f_pay, 'tier_cat'] = 'Pay 1'\n",
    "#     df_pred_future_fv.loc[f_payt, 'tier_cat'] = 'Pay 1 WB Theatricals'\n",
    "#     df_pred_future_fv.loc[f_popcorn, 'tier_cat'] = 'Popcorn'\n",
    "#     df_pred_future_fv.loc[f_t0, 'tier_cat'] = 'Tier 1+'\n",
    "#     df_pred_future_fv.loc[f_t1, 'tier_cat'] = 'Tier 1'\n",
    "#     df_pred_future_fv.loc[f_t2, 'tier_cat'] = 'Tier 2'\n",
    "#     df_pred_future_fv.loc[f_t3, 'tier_cat'] = 'Tier 3'\n",
    "#     return df_pred_future_fv\n",
    "\n",
    "# import plotly as py\n",
    "# import plotly.graph_objects as go\n",
    "\n",
    "# def get_stacked_plot(df_plt, var, title):\n",
    "#     fig = go.Figure()\n",
    "#     tier_cat_list = ['Pay 1', 'Tier 3','Tier 2','Tier 1','Tier 1+','Popcorn','Pay 1 WB Theatricals',]  ## px.colors.sequential.Plotly3\n",
    "\n",
    "#     for r, c in zip(tier_cat_list,  ['#0508b8','#3c19f0','#6b1cfb','#bf1cfd','#f246fe','#fe88fc','#fec3fe']):\n",
    "#         plot_df = df_plt[df_plt.tier_cat == r]\n",
    "#         fig.add_trace(\n",
    "#             go.Bar(x=plot_df.first_view_quarter, y=plot_df[var], name=r, marker_color=c, \n",
    "#                    text=plot_df[var], textposition='inside', textangle=0) ,\n",
    "#         )\n",
    "\n",
    "#     annotation=[]    \n",
    "#     quarters=df_plt.first_view_quarter.unique().tolist()\n",
    "#     for q in quarters:#, m in itertools.product(quarters, models):\n",
    "#         plot_df = df_plt[(df_plt.first_view_quarter==q)]    \n",
    "#         dic= {\"x\":q, \"y\": plot_df[var].sum()*1.05,\n",
    "#                      \"text\": f'{plot_df[var].sum()/1000000:.2f} M', \n",
    "#                      \"showarrow\": False} \n",
    "#         annotation.append(dic)\n",
    "\n",
    "\n",
    "#     fig.update_layout(\n",
    "#         template=\"simple_white\",\n",
    "#         title=title,\n",
    "#         xaxis=dict(title_text=\"first_view_quarter\"),\n",
    "#         yaxis=dict(title_text=\"first_views\"),\n",
    "#         barmode=\"stack\",\n",
    "#         width=900,\n",
    "#         height=400,\n",
    "#         uniformtext_minsize=8, \n",
    "#         uniformtext_mode='hide',\n",
    "#         annotations=annotation\n",
    "#     )\n",
    "#     py.offline.init_notebook_mode(connected=True) \n",
    "#     py.offline.iplot(fig)\n",
    "#     return \n",
    "\n",
    "\n",
    "# logger.info(f'CHECKING PREDICTION DIFF FOR {date_pred} vs. {base_model_date}')\n",
    "# out_col = ['title_name', 'first_view_month','first_view_quarter', 'effective_start_date', 'season_number',\n",
    "#            'tier','content_category', 'category', 'prequel_count', 'prequel_featured_count','pred_date',\n",
    "#            'tier_adj', 'first_views_pred']\n",
    "\n",
    "# ## new model \n",
    "# df_pred_decay['pred_date'] = pd.to_datetime(df_pred_decay['pred_date']).dt.strftime('%Y-%m-%d')\n",
    "# df_pred_decay_month = df_pred_decay.groupby(by=out_col[:-2]).sum().reset_index()\n",
    "# df_pred_decay_month['first_view_month']=pd.to_datetime(df_pred_decay_month['first_view_month'])\n",
    "# df_pred_decay_month['tier'] = df_pred_decay_month['tier'].astype(int)\n",
    "# df_pred_decay_month = get_tier_cat(df_pred_decay_month)\n",
    "# df_pred_decay_q =  df_pred_decay_month.groupby(by=['first_view_quarter','pred_date','tier_cat']).sum().reset_index()\n",
    "\n",
    "# ## base model \n",
    "# df_pred_decay_base = Utils.read_csv_s3(input_bucket, key_path, f'psi_daily_xgb_forecast_{base_model_date}.csv')\n",
    "# df_pred_decay_base['pred_date'] = pd.to_datetime(df_pred_decay_base['pred_date']).dt.strftime('%Y-%m-%d')\n",
    "# df_pred_decay_month_base =  df_pred_decay_base.groupby(by=out_col[:-2]).sum().reset_index()\n",
    "# df_pred_decay_month_base['first_view_month']=pd.to_datetime(df_pred_decay_month_base['first_view_month'])\n",
    "# df_pred_decay_month_base['first_view_quarter'] = pd.to_datetime(df_pred_decay_month_base['first_view_month']).dt.to_period('Q').dt.to_timestamp()\n",
    "# df_pred_decay_month_base['effective_start_date']=pd.to_datetime(df_pred_decay_month_base['effective_start_date'])\n",
    "# df_pred_decay_month_base = get_tier_cat(df_pred_decay_month_base)\n",
    "# df_pred_decay_q_base =  df_pred_decay_month_base.groupby(by=['first_view_quarter','pred_date','tier_cat']).sum().reset_index()\n",
    "\n",
    "\n",
    "# # ## Quarter level difference \n",
    "# grpby_quarter= ['first_view_quarter','pred_date','tier_cat']\n",
    "# df_pred_q = pd.concat([df_pred_decay_q, df_pred_decay_q_base])\n",
    "# df_pred_q = df_pred_q.groupby(by=grpby_quarter)[['first_views_pred_decay']].sum().reset_index()\n",
    "\n",
    "# df_pred_q['first_views'] = df_pred_q['first_views_pred_decay']\n",
    "\n",
    "\n",
    "# ## Plot \n",
    "# df_plt = df_pred_q.round()\n",
    "# df_plt['first_view_quarter']= pd.to_datetime(df_plt['first_view_quarter']).dt.to_period('Q')\n",
    "# df_plt = df_plt[(df_plt['first_view_quarter']>'2021Q4') & (df_plt['first_view_quarter']<'2025Q1')]\n",
    "\n",
    "# df_plt['first_view_quarter'] = df_plt['first_view_quarter'].astype('str')\n",
    "# get_stacked_plot(df_plt[df_plt.pred_date==date_pred_base], 'first_views_pred_decay', date_pred_base)\n",
    "# get_stacked_plot(df_plt[df_plt.pred_date==date_pred], 'first_views_pred_decay', date_pred)\n",
    "\n",
    "# # ## Title level difference \n",
    "# df_pred_comp = df_pred_decay_month.merge(df_pred_decay_month_base, on=out_col[:-3], suffixes=['','_base'], how='left')\n",
    "# grpby=['title_name','effective_start_date','tier','category']\n",
    "# df_pred_comp_title =  df_pred_comp[grpby+['first_views_pred_decay','first_views_pred_decay_base']].groupby(by=grpby).sum().reset_index()\n",
    "# df_top = df_pred_comp_title[(df_pred_comp_title['tier']<=1)& (df_pred_comp_title['effective_start_date']>=date_pred) & (df_pred_comp_title['effective_start_date']<='2023-01-01')]\n",
    "# df_top['diff_pct'] = (df_top['first_views_pred_decay']-df_top['first_views_pred_decay_base'])/df_top['first_views_pred_decay_base']\n",
    "# display(df_top.sort_values(by='effective_start_date'))"
   ]
  },
  {
   "cell_type": "code",
   "execution_count": 15,
   "id": "26fe2aac",
   "metadata": {},
   "outputs": [],
   "source": [
    "\n",
    "\n",
    "# import plotly.graph_objects as go\n",
    "# import itertools \n",
    "\n",
    "# df_plt = df_pred_q.round()\n",
    "# df_plt = df_plt[(df_plt['first_view_quarter']>'2021Q4') & (df_plt['first_view_quarter']<'2025Q1')]\n",
    "# df_plt['first_view_quarter'] = df_plt['first_view_quarter'].astype(str)\n",
    "# df_plt['model_name'] = 'new'\n",
    "# df_plt.loc[df_plt['pred_date']==base_model_date, 'model_name']='old'\n",
    "\n",
    "# fig = go.Figure()\n",
    "# tier_cat_list = ['Pay 1', 'Tier 3','Tier 2','Tier 1','Tier 1+','Popcorn','Pay 1 WB Theatricals',]  ## px.colors.sequential.Plotly3\n",
    "\n",
    "# for r, c in zip(tier_cat_list,  ['#0508b8','#3c19f0','#6b1cfb','#bf1cfd','#f246fe','#fe88fc','#fec3fe']):\n",
    "#     plot_df = df_plt[df_plt.tier_cat == r]\n",
    "#     fig.add_trace(\n",
    "#         go.Bar(x=[plot_df.first_view_quarter, plot_df.model_name], y=plot_df.first_views, name=r, marker_color=c, \n",
    "#                text=plot_df.first_views, textposition='inside', textangle=0) ,\n",
    "#     )\n",
    "\n",
    "# annotation=[]    \n",
    "# quarters=df_plt.first_view_quarter.unique().tolist()\n",
    "# models = ['old','new']\n",
    "# # models = [date_pred, date_pred_base]\n",
    "# for q, m in itertools.product(quarters, models):\n",
    "#     plot_df = df_plt[(df_plt.first_view_quarter==q) & (df_plt.model_name==m)]    \n",
    "#     dic= {\"x\":[q, m], \"y\": plot_df.first_views.sum()*1.05,\n",
    "#                  \"text\": f'{plot_df.first_views.sum()/1000000:.2f} M', \n",
    "#                  \"showarrow\": False} \n",
    "#     annotation.append(dic)\n",
    "\n",
    "# fig.update_layout(\n",
    "#     template=\"simple_white\",\n",
    "#     xaxis=dict(title_text=\"first_view_quarter\"),\n",
    "#     yaxis=dict(title_text=\"first_views\"),\n",
    "#     barmode=\"stack\",\n",
    "#     uniformtext_minsize=8, \n",
    "#     uniformtext_mode='hide',\n",
    "#     annotations=annotation\n",
    "# )\n",
    "\n",
    "# fig\n"
   ]
  },
  {
   "cell_type": "code",
   "execution_count": null,
   "id": "ebeaf55f",
   "metadata": {},
   "outputs": [],
   "source": []
  }
 ],
 "metadata": {
  "kernelspec": {
   "display_name": "conda_python3",
   "language": "python",
   "name": "conda_python3"
  },
  "language_info": {
   "codemirror_mode": {
    "name": "ipython",
    "version": 3
   },
   "file_extension": ".py",
   "mimetype": "text/x-python",
   "name": "python",
   "nbconvert_exporter": "python",
   "pygments_lexer": "ipython3",
   "version": "3.6.13"
  }
 },
 "nbformat": 4,
 "nbformat_minor": 5
}
