{
 "cells": [
  {
   "cell_type": "code",
   "execution_count": 7,
   "id": "495888cc",
   "metadata": {},
   "outputs": [
    {
     "name": "stderr",
     "output_type": "stream",
     "text": [
      "INFO:root:Starting Notebook\n",
      "INFO:snowflake.connector.connection:Snowflake Connector for Python Version: 2.7.4, Python Version: 3.6.13, Platform: Linux-4.14.252-131.483.amzn1.x86_64-x86_64-with-glibc2.9\n",
      "INFO:snowflake.connector.connection:This connection is in OCSP Fail Open Mode. TLS Certificates would be checked for validity and revocation status. Any other Certificate Revocation related exceptions or OCSP Responder failures would be disregarded in favor of connectivity.\n"
     ]
    }
   ],
   "source": [
    "##nodejs:  https://docs.aws.amazon.com/sdk-for-javascript/v2/developer-guide/setting-up-node-on-ec2-instance.html\n",
    "import os\n",
    "import sys\n",
    "\n",
    "import pandas as pd\n",
    "import numpy as np\n",
    "import pickle\n",
    "from datetime import date, datetime, timedelta\n",
    "\n",
    "from category_encoders import OneHotEncoder\n",
    "import xgboost as xgb\n",
    "\n",
    "import boto3\n",
    "import logging \n",
    "\n",
    "logger = logging.getLogger()\n",
    "logging.basicConfig(level=logging.INFO)\n",
    "logger.info(f'Starting Notebook')\n",
    "\n",
    "# !pip install \"jupyterlab>=3\" \"ipywidgets>=7.6\" --user\n",
    "# !pip install jupyter-dash --user\n",
    "# !jupyter lab build --user\n",
    "\n",
    "# !pip install snowflake --user\n",
    "# !pip install snowflake-connector-python --user\n",
    "import os\n",
    "import sys\n",
    "path=!pwd\n",
    "sys.path.append(os.path.join(path[0], '..'))\n",
    "from utils import *\n",
    "import snowflake.connector\n",
    "\n",
    "class SnowflakeConnector(BaseConnector):\n",
    "    def __init__(self, credentials: Credentials):\n",
    "        keys = credentials.get_keys()\n",
    "        self._secrets = json.loads(keys.get('SecretString', \"{}\"))\n",
    "\n",
    "    def connect(self, dbname: str, schema: str = 'DEFAULT'):\n",
    "        ctx = snowflake.connector.connect(\n",
    "            user=self._secrets['login_name'],\n",
    "            password=self._secrets['login_password'],\n",
    "            account=self._secrets['account'],\n",
    "            warehouse=self._secrets['warehouse'],\n",
    "            database=dbname,\n",
    "            schema=schema\n",
    "        )\n",
    "\n",
    "        return ctx\n",
    "    \n",
    "## Credentials\n",
    "SF_CREDS = 'datascience-max-dev-sagemaker-notebooks'\n",
    "\n",
    "## Snowflake connection \n",
    "conn=SnowflakeConnector(SSMPSCredentials(SF_CREDS))\n",
    "ctx=conn.connect(\"MAX_PROD\",\"DATASCIENCE_STAGE\")\n",
    "cur = ctx.cursor()"
   ]
  },
  {
   "cell_type": "code",
   "execution_count": 3,
   "id": "e9b489a2",
   "metadata": {},
   "outputs": [],
   "source": [
    "from io import StringIO\n",
    "class Utils():\n",
    "    @staticmethod\n",
    "    def to_csv_s3(content, bucket, key_path, filename):\n",
    "        client = boto3.client('s3')\n",
    "        key = os.path.join(key_path, filename)\n",
    "        csv_buffer = StringIO()\n",
    "        content.to_csv(csv_buffer)\n",
    "        client.put_object(Bucket=bucket, Key=key, Body=csv_buffer.getvalue())\n",
    "        logger.info(f'Saved to {bucket}/{key}')\n",
    "    \n",
    "    @staticmethod\n",
    "    def to_pkl_s3(content, bucket, key_path, filename):\n",
    "        client = boto3.client('s3')\n",
    "        key = os.path.join(key_path, filename)\n",
    "        obj = pickle.dumps(content)\n",
    "        client.put_object(Bucket=bucket, Key=key, Body=obj)\n",
    "        logger.info(f'Saved model to {os.path.join(bucket, key)}')\n",
    "        logger.info(f'Saved to {bucket}/{key}')\n",
    "\n",
    "    @staticmethod\n",
    "    def read_csv_s3(bucket, key_path,filename):\n",
    "        client = boto3.client('s3')\n",
    "        key = os.path.join(key_path, filename)\n",
    "        obj = client.get_object(Bucket=bucket, Key=key)\n",
    "        df = pd.read_csv(obj['Body'], na_values=\"\\\\N\")\n",
    "        logger.info(f'Read from {bucket}/{key}')\n",
    "        return df\n",
    "        \n",
    "    @staticmethod\n",
    "    def read_pkl_s3(bucket, key_path,filename):\n",
    "        client = boto3.client('s3')\n",
    "        key = os.path.join(key_path, filename)\n",
    "        obj = client.get_object(Bucket=bucket, Key=key)\n",
    "        body = obj['Body'].read()\n",
    "        model = pickle.loads(body)\n",
    "        logger.info(f'Read from {bucket}/{key}')\n",
    "        return model\n",
    "\n"
   ]
  },
  {
   "cell_type": "markdown",
   "id": "4a4e73ee",
   "metadata": {},
   "source": [
    "## Trailer drop date"
   ]
  },
  {
   "cell_type": "code",
   "execution_count": 229,
   "id": "2994f346",
   "metadata": {},
   "outputs": [
    {
     "name": "stderr",
     "output_type": "stream",
     "text": [
      "Boto3 will no longer support Python 3.6 starting May 30, 2022. To continue receiving service updates, bug fixes, and security updates please upgrade to Python 3.7 or later. More information can be found here: https://aws.amazon.com/blogs/developer/python-support-policy-updates-for-aws-sdks-and-tools/\n",
      "INFO:snowflake.connector.connection:Snowflake Connector for Python Version: 2.7.4, Python Version: 3.6.13, Platform: Linux-4.14.252-131.483.amzn1.x86_64-x86_64-with-glibc2.9\n",
      "INFO:snowflake.connector.connection:This connection is in OCSP Fail Open Mode. TLS Certificates would be checked for validity and revocation status. Any other Certificate Revocation related exceptions or OCSP Responder failures would be disregarded in favor of connectivity.\n",
      "INFO:snowflake.connector.cursor:query: [select * from max_dev.workspace.forecasting_premieres where premiere_date>='2022...]\n",
      "INFO:snowflake.connector.cursor:query execution done\n"
     ]
    },
    {
     "data": {
      "text/html": [
       "<div>\n",
       "<style scoped>\n",
       "    .dataframe tbody tr th:only-of-type {\n",
       "        vertical-align: middle;\n",
       "    }\n",
       "\n",
       "    .dataframe tbody tr th {\n",
       "        vertical-align: top;\n",
       "    }\n",
       "\n",
       "    .dataframe thead th {\n",
       "        text-align: right;\n",
       "    }\n",
       "</style>\n",
       "<table border=\"1\" class=\"dataframe\">\n",
       "  <thead>\n",
       "    <tr style=\"text-align: right;\">\n",
       "      <th></th>\n",
       "      <th>f_id</th>\n",
       "      <th>title_id</th>\n",
       "      <th>imdb_id</th>\n",
       "      <th>season_number</th>\n",
       "      <th>trailer_date</th>\n",
       "      <th>premiere_date</th>\n",
       "      <th>title_name</th>\n",
       "      <th>content_category</th>\n",
       "    </tr>\n",
       "  </thead>\n",
       "  <tbody>\n",
       "    <tr>\n",
       "      <th>0</th>\n",
       "      <td>z202201lg</td>\n",
       "      <td></td>\n",
       "      <td>z202201lg</td>\n",
       "      <td>1</td>\n",
       "      <td>None</td>\n",
       "      <td>2022-09-08</td>\n",
       "      <td>LIZZO: GOOD AS HELL</td>\n",
       "      <td>series</td>\n",
       "    </tr>\n",
       "    <tr>\n",
       "      <th>1</th>\n",
       "      <td>tt11212198</td>\n",
       "      <td></td>\n",
       "      <td>tt11212198</td>\n",
       "      <td>1</td>\n",
       "      <td>None</td>\n",
       "      <td>2022-07-21</td>\n",
       "      <td>RAP SH*T</td>\n",
       "      <td>series</td>\n",
       "    </tr>\n",
       "    <tr>\n",
       "      <th>2</th>\n",
       "      <td>tt8783930</td>\n",
       "      <td></td>\n",
       "      <td>tt8783930</td>\n",
       "      <td>1</td>\n",
       "      <td>2022-04-21</td>\n",
       "      <td>2022-05-15</td>\n",
       "      <td>THE TIME TRAVELER'S WIFE</td>\n",
       "      <td>series</td>\n",
       "    </tr>\n",
       "    <tr>\n",
       "      <th>3</th>\n",
       "      <td>tt11468254</td>\n",
       "      <td></td>\n",
       "      <td>tt11468254</td>\n",
       "      <td>1</td>\n",
       "      <td>None</td>\n",
       "      <td>2022-09-11</td>\n",
       "      <td>WHITE HOUSE PLUMBERS</td>\n",
       "      <td>series</td>\n",
       "    </tr>\n",
       "    <tr>\n",
       "      <th>4</th>\n",
       "      <td>tt11815682</td>\n",
       "      <td>GYIBToQrPdotpNQEAAAEa</td>\n",
       "      <td>tt11815682</td>\n",
       "      <td>2</td>\n",
       "      <td>2022-04-26</td>\n",
       "      <td>2022-05-12</td>\n",
       "      <td>HACKS</td>\n",
       "      <td>series</td>\n",
       "    </tr>\n",
       "  </tbody>\n",
       "</table>\n",
       "</div>"
      ],
      "text/plain": [
       "         f_id               title_id     imdb_id  season_number trailer_date  \\\n",
       "0   z202201lg                          z202201lg              1         None   \n",
       "1  tt11212198                         tt11212198              1         None   \n",
       "2   tt8783930                          tt8783930              1   2022-04-21   \n",
       "3  tt11468254                         tt11468254              1         None   \n",
       "4  tt11815682  GYIBToQrPdotpNQEAAAEa  tt11815682              2   2022-04-26   \n",
       "\n",
       "  premiere_date                title_name content_category  \n",
       "0    2022-09-08       LIZZO: GOOD AS HELL           series  \n",
       "1    2022-07-21                  RAP SH*T           series  \n",
       "2    2022-05-15  THE TIME TRAVELER'S WIFE           series  \n",
       "3    2022-09-11      WHITE HOUSE PLUMBERS           series  \n",
       "4    2022-05-12                     HACKS           series  "
      ]
     },
     "execution_count": 229,
     "metadata": {},
     "output_type": "execute_result"
    }
   ],
   "source": [
    "def run_query(querystr, ctx):\n",
    "    cursor_list = ctx.execute_string(\n",
    "        querystr\n",
    "        )\n",
    "    df = pd.DataFrame.from_records(cursor_list[-1].fetchall(), columns=[x[0] for x in cursor_list[-1].description])\n",
    "    df.columns= df.columns.str.lower()\n",
    "    \n",
    "    return df\n",
    "## Credentials\n",
    "SF_CREDS = 'datascience-max-dev-sagemaker-notebooks'\n",
    "\n",
    "## Snowflake connection \n",
    "conn=SnowflakeConnector(SSMPSCredentials(SF_CREDS))\n",
    "ctx=conn.connect(\"MAX_PROD\",\"DATASCIENCE_STAGE\")\n",
    "cur = ctx.cursor()\n",
    "\n",
    "querystr='''\n",
    "select \n",
    "    * \n",
    "from max_dev.workspace.forecasting_premieres \n",
    "where premiere_date>='2022-05-08' \n",
    "and premiere_date<'2023-01-01' \n",
    "'''\n",
    "\n",
    "df_trailer = run_query(querystr, ctx)\n",
    "df_trailer.loc[(df_trailer.title_name=='THE NEVERS') & (df_trailer.premiere_date=='2022-10-03'), 'season_number'] = 2\n",
    "df_trailer.loc[(df_trailer.title_name=='THE NEVERS') & (df_trailer.premiere_date=='2022-11-28'), 'season_number'] = 3\n",
    "df_trailer['season_number'] = df_trailer['season_number'].astype('int')\n",
    "df_trailer.head()"
   ]
  },
  {
   "cell_type": "markdown",
   "id": "0746de75",
   "metadata": {},
   "source": [
    "## Marketing"
   ]
  },
  {
   "cell_type": "code",
   "execution_count": 209,
   "id": "97a5c9e7",
   "metadata": {},
   "outputs": [
    {
     "name": "stderr",
     "output_type": "stream",
     "text": [
      "Boto3 will no longer support Python 3.6 starting May 30, 2022. To continue receiving service updates, bug fixes, and security updates please upgrade to Python 3.7 or later. More information can be found here: https://aws.amazon.com/blogs/developer/python-support-policy-updates-for-aws-sdks-and-tools/\n",
      "INFO:root:Read from hbo-ingest-datascience-content-dev/psi_first_views/dev/marketing_fv_20220508.csv\n"
     ]
    },
    {
     "name": "stdout",
     "output_type": "stream",
     "text": [
      "(38, 7)\n"
     ]
    },
    {
     "data": {
      "text/html": [
       "<div>\n",
       "<style scoped>\n",
       "    .dataframe tbody tr th:only-of-type {\n",
       "        vertical-align: middle;\n",
       "    }\n",
       "\n",
       "    .dataframe tbody tr th {\n",
       "        vertical-align: top;\n",
       "    }\n",
       "\n",
       "    .dataframe thead th {\n",
       "        text-align: right;\n",
       "    }\n",
       "</style>\n",
       "<table border=\"1\" class=\"dataframe\">\n",
       "  <thead>\n",
       "    <tr style=\"text-align: right;\">\n",
       "      <th></th>\n",
       "      <th>title_name</th>\n",
       "      <th>imdb_id</th>\n",
       "      <th>premiere_date</th>\n",
       "      <th>season_number</th>\n",
       "      <th>content_category</th>\n",
       "      <th>days_since_premiere</th>\n",
       "      <th>first_views</th>\n",
       "    </tr>\n",
       "  </thead>\n",
       "  <tbody>\n",
       "    <tr>\n",
       "      <th>15</th>\n",
       "      <td>Hacks</td>\n",
       "      <td>tt11815682</td>\n",
       "      <td>2022-05-12</td>\n",
       "      <td>2.0</td>\n",
       "      <td>series</td>\n",
       "      <td>89.0</td>\n",
       "      <td>17497.58</td>\n",
       "    </tr>\n",
       "    <tr>\n",
       "      <th>38</th>\n",
       "      <td>The Time Traveler'S Wife</td>\n",
       "      <td>tt8783930</td>\n",
       "      <td>2022-05-15</td>\n",
       "      <td>1.0</td>\n",
       "      <td>series</td>\n",
       "      <td>89.0</td>\n",
       "      <td>24854.82</td>\n",
       "    </tr>\n",
       "    <tr>\n",
       "      <th>11</th>\n",
       "      <td>Fantastic Beasts 3</td>\n",
       "      <td>tt4123432</td>\n",
       "      <td>2022-05-30</td>\n",
       "      <td>1.0</td>\n",
       "      <td>pay1</td>\n",
       "      <td>89.0</td>\n",
       "      <td>112255.35</td>\n",
       "    </tr>\n",
       "    <tr>\n",
       "      <th>12</th>\n",
       "      <td>Father Of The Bride</td>\n",
       "      <td>tt13249596</td>\n",
       "      <td>2022-06-16</td>\n",
       "      <td>1.0</td>\n",
       "      <td>movie</td>\n",
       "      <td>89.0</td>\n",
       "      <td>96189.37</td>\n",
       "    </tr>\n",
       "    <tr>\n",
       "      <th>41</th>\n",
       "      <td>Westworld</td>\n",
       "      <td>tt0475784</td>\n",
       "      <td>2022-06-26</td>\n",
       "      <td>4.0</td>\n",
       "      <td>series</td>\n",
       "      <td>89.0</td>\n",
       "      <td>91850.75</td>\n",
       "    </tr>\n",
       "    <tr>\n",
       "      <th>24</th>\n",
       "      <td>Pretty Little Liars: Original Sin</td>\n",
       "      <td>tt13075042</td>\n",
       "      <td>2022-07-07</td>\n",
       "      <td>1.0</td>\n",
       "      <td>series</td>\n",
       "      <td>89.0</td>\n",
       "      <td>91850.75</td>\n",
       "    </tr>\n",
       "    <tr>\n",
       "      <th>25</th>\n",
       "      <td>Rap Sh*T</td>\n",
       "      <td>tt11212198</td>\n",
       "      <td>2022-07-21</td>\n",
       "      <td>1.0</td>\n",
       "      <td>series</td>\n",
       "      <td>89.0</td>\n",
       "      <td>25906.53</td>\n",
       "    </tr>\n",
       "    <tr>\n",
       "      <th>16</th>\n",
       "      <td>Harley Quinn</td>\n",
       "      <td>tt7658402</td>\n",
       "      <td>2022-07-28</td>\n",
       "      <td>3.0</td>\n",
       "      <td>series</td>\n",
       "      <td>89.0</td>\n",
       "      <td>9185.08</td>\n",
       "    </tr>\n",
       "    <tr>\n",
       "      <th>18</th>\n",
       "      <td>House Party</td>\n",
       "      <td>tt8005118</td>\n",
       "      <td>2022-07-28</td>\n",
       "      <td>1.0</td>\n",
       "      <td>movie</td>\n",
       "      <td>89.0</td>\n",
       "      <td>102042.34</td>\n",
       "    </tr>\n",
       "    <tr>\n",
       "      <th>9</th>\n",
       "      <td>Elvis</td>\n",
       "      <td>tt3704428</td>\n",
       "      <td>2022-08-08</td>\n",
       "      <td>1.0</td>\n",
       "      <td>pay1</td>\n",
       "      <td>89.0</td>\n",
       "      <td>56127.64</td>\n",
       "    </tr>\n",
       "    <tr>\n",
       "      <th>2</th>\n",
       "      <td>Am I Ok?</td>\n",
       "      <td>tt11225626</td>\n",
       "      <td>2022-08-11</td>\n",
       "      <td>1.0</td>\n",
       "      <td>movie</td>\n",
       "      <td>89.0</td>\n",
       "      <td>33865.17</td>\n",
       "    </tr>\n",
       "    <tr>\n",
       "      <th>17</th>\n",
       "      <td>House Of The Dragon</td>\n",
       "      <td>tt11198330</td>\n",
       "      <td>2022-08-21</td>\n",
       "      <td>1.0</td>\n",
       "      <td>series</td>\n",
       "      <td>90.0</td>\n",
       "      <td>2820736.61</td>\n",
       "    </tr>\n",
       "    <tr>\n",
       "      <th>23</th>\n",
       "      <td>Pennyworth</td>\n",
       "      <td>tt8425532</td>\n",
       "      <td>2022-09-08</td>\n",
       "      <td>3.0</td>\n",
       "      <td>series</td>\n",
       "      <td>89.0</td>\n",
       "      <td>22962.74</td>\n",
       "    </tr>\n",
       "    <tr>\n",
       "      <th>20</th>\n",
       "      <td>Lizzo: Good As Hell</td>\n",
       "      <td>z202201lg</td>\n",
       "      <td>2022-09-08</td>\n",
       "      <td>1.0</td>\n",
       "      <td>series</td>\n",
       "      <td>89.0</td>\n",
       "      <td>25906.53</td>\n",
       "    </tr>\n",
       "    <tr>\n",
       "      <th>42</th>\n",
       "      <td>White House Plumbers</td>\n",
       "      <td>tt11468254</td>\n",
       "      <td>2022-09-11</td>\n",
       "      <td>1.0</td>\n",
       "      <td>series</td>\n",
       "      <td>89.0</td>\n",
       "      <td>20478.13</td>\n",
       "    </tr>\n",
       "    <tr>\n",
       "      <th>31</th>\n",
       "      <td>Super Pets</td>\n",
       "      <td>tt8912936</td>\n",
       "      <td>2022-09-12</td>\n",
       "      <td>1.0</td>\n",
       "      <td>pay1</td>\n",
       "      <td>89.0</td>\n",
       "      <td>56127.64</td>\n",
       "    </tr>\n",
       "    <tr>\n",
       "      <th>32</th>\n",
       "      <td>The Big Brunch</td>\n",
       "      <td>tt15824600</td>\n",
       "      <td>2022-09-22</td>\n",
       "      <td>1.0</td>\n",
       "      <td>series</td>\n",
       "      <td>89.0</td>\n",
       "      <td>10007.15</td>\n",
       "    </tr>\n",
       "    <tr>\n",
       "      <th>10</th>\n",
       "      <td>Evil Dead Rise</td>\n",
       "      <td>tt13345606</td>\n",
       "      <td>2022-09-29</td>\n",
       "      <td>1.0</td>\n",
       "      <td>movie</td>\n",
       "      <td>89.0</td>\n",
       "      <td>68733.93</td>\n",
       "    </tr>\n",
       "    <tr>\n",
       "      <th>22</th>\n",
       "      <td>Maniac Cop</td>\n",
       "      <td>tt2375737</td>\n",
       "      <td>2022-10-01</td>\n",
       "      <td>1.0</td>\n",
       "      <td>series</td>\n",
       "      <td>89.0</td>\n",
       "      <td>4730.34</td>\n",
       "    </tr>\n",
       "    <tr>\n",
       "      <th>35</th>\n",
       "      <td>The Nevers</td>\n",
       "      <td>tt8697870</td>\n",
       "      <td>2022-10-03</td>\n",
       "      <td>1.1</td>\n",
       "      <td>series</td>\n",
       "      <td>89.0</td>\n",
       "      <td>9779.53</td>\n",
       "    </tr>\n",
       "    <tr>\n",
       "      <th>40</th>\n",
       "      <td>Titans</td>\n",
       "      <td>tt1043813</td>\n",
       "      <td>2022-10-13</td>\n",
       "      <td>4.0</td>\n",
       "      <td>series</td>\n",
       "      <td>89.0</td>\n",
       "      <td>95235.94</td>\n",
       "    </tr>\n",
       "    <tr>\n",
       "      <th>26</th>\n",
       "      <td>Salems Lot</td>\n",
       "      <td>tt10245072</td>\n",
       "      <td>2022-10-24</td>\n",
       "      <td>1.0</td>\n",
       "      <td>pay1</td>\n",
       "      <td>89.0</td>\n",
       "      <td>22414.53</td>\n",
       "    </tr>\n",
       "    <tr>\n",
       "      <th>21</th>\n",
       "      <td>Magic Mike 3</td>\n",
       "      <td>z202208mm3</td>\n",
       "      <td>2022-10-27</td>\n",
       "      <td>1.0</td>\n",
       "      <td>movie</td>\n",
       "      <td>89.0</td>\n",
       "      <td>101920.80</td>\n",
       "    </tr>\n",
       "    <tr>\n",
       "      <th>39</th>\n",
       "      <td>The White Lotus</td>\n",
       "      <td>tt13406094</td>\n",
       "      <td>2022-10-30</td>\n",
       "      <td>2.0</td>\n",
       "      <td>series</td>\n",
       "      <td>89.0</td>\n",
       "      <td>69277.12</td>\n",
       "    </tr>\n",
       "    <tr>\n",
       "      <th>34</th>\n",
       "      <td>The Idol</td>\n",
       "      <td>tt14954666</td>\n",
       "      <td>2022-11-06</td>\n",
       "      <td>1.0</td>\n",
       "      <td>series</td>\n",
       "      <td>89.0</td>\n",
       "      <td>25534.56</td>\n",
       "    </tr>\n",
       "    <tr>\n",
       "      <th>7</th>\n",
       "      <td>Dont Worry Darling</td>\n",
       "      <td>tt10731256</td>\n",
       "      <td>2022-11-07</td>\n",
       "      <td>1.0</td>\n",
       "      <td>pay1</td>\n",
       "      <td>89.0</td>\n",
       "      <td>22419.57</td>\n",
       "    </tr>\n",
       "    <tr>\n",
       "      <th>30</th>\n",
       "      <td>Shaq</td>\n",
       "      <td>z202211sh</td>\n",
       "      <td>2022-11-08</td>\n",
       "      <td>1.0</td>\n",
       "      <td>series</td>\n",
       "      <td>89.0</td>\n",
       "      <td>8350.65</td>\n",
       "    </tr>\n",
       "    <tr>\n",
       "      <th>14</th>\n",
       "      <td>Gossip Girl</td>\n",
       "      <td>tt10653784</td>\n",
       "      <td>2022-11-10</td>\n",
       "      <td>2.0</td>\n",
       "      <td>series</td>\n",
       "      <td>89.0</td>\n",
       "      <td>64403.53</td>\n",
       "    </tr>\n",
       "    <tr>\n",
       "      <th>29</th>\n",
       "      <td>Sex Lives Of College Girls</td>\n",
       "      <td>tt11212276</td>\n",
       "      <td>2022-11-17</td>\n",
       "      <td>2.0</td>\n",
       "      <td>series</td>\n",
       "      <td>89.0</td>\n",
       "      <td>45941.56</td>\n",
       "    </tr>\n",
       "    <tr>\n",
       "      <th>8</th>\n",
       "      <td>Doom Patrol</td>\n",
       "      <td>tt8416494</td>\n",
       "      <td>2022-11-17</td>\n",
       "      <td>4.0</td>\n",
       "      <td>series</td>\n",
       "      <td>89.0</td>\n",
       "      <td>26302.95</td>\n",
       "    </tr>\n",
       "    <tr>\n",
       "      <th>0</th>\n",
       "      <td>A Christmas Story Christmas</td>\n",
       "      <td>z202211csc</td>\n",
       "      <td>2022-11-17</td>\n",
       "      <td>1.0</td>\n",
       "      <td>movie</td>\n",
       "      <td>89.0</td>\n",
       "      <td>26930.03</td>\n",
       "    </tr>\n",
       "    <tr>\n",
       "      <th>28</th>\n",
       "      <td>Scoob X-Mas Sequel</td>\n",
       "      <td>z202210sh</td>\n",
       "      <td>2022-11-24</td>\n",
       "      <td>1.0</td>\n",
       "      <td>movie</td>\n",
       "      <td>89.0</td>\n",
       "      <td>101764.98</td>\n",
       "    </tr>\n",
       "    <tr>\n",
       "      <th>36</th>\n",
       "      <td>The Nevers</td>\n",
       "      <td>tt8697870</td>\n",
       "      <td>2022-11-28</td>\n",
       "      <td>1.1</td>\n",
       "      <td>series</td>\n",
       "      <td>33.0</td>\n",
       "      <td>19605.19</td>\n",
       "    </tr>\n",
       "    <tr>\n",
       "      <th>1</th>\n",
       "      <td>A Hollywood Christmas</td>\n",
       "      <td>z202212hc</td>\n",
       "      <td>2022-12-01</td>\n",
       "      <td>1.0</td>\n",
       "      <td>movie</td>\n",
       "      <td>89.0</td>\n",
       "      <td>4618.49</td>\n",
       "    </tr>\n",
       "    <tr>\n",
       "      <th>4</th>\n",
       "      <td>Black Adam</td>\n",
       "      <td>tt6443346</td>\n",
       "      <td>2022-12-05</td>\n",
       "      <td>1.0</td>\n",
       "      <td>pay1</td>\n",
       "      <td>89.0</td>\n",
       "      <td>55782.78</td>\n",
       "    </tr>\n",
       "    <tr>\n",
       "      <th>5</th>\n",
       "      <td>Christmas In Carolina</td>\n",
       "      <td>z202212cc</td>\n",
       "      <td>2022-12-08</td>\n",
       "      <td>1.0</td>\n",
       "      <td>movie</td>\n",
       "      <td>89.0</td>\n",
       "      <td>4612.48</td>\n",
       "    </tr>\n",
       "    <tr>\n",
       "      <th>27</th>\n",
       "      <td>Santa'S Stolen Jingle Bells</td>\n",
       "      <td>z202212ssjb</td>\n",
       "      <td>2022-12-15</td>\n",
       "      <td>1.0</td>\n",
       "      <td>movie</td>\n",
       "      <td>89.0</td>\n",
       "      <td>4600.25</td>\n",
       "    </tr>\n",
       "    <tr>\n",
       "      <th>19</th>\n",
       "      <td>Lizzo Good As Hell Concert</td>\n",
       "      <td>z202212lizz</td>\n",
       "      <td>2022-12-31</td>\n",
       "      <td>1.0</td>\n",
       "      <td>movie</td>\n",
       "      <td>89.0</td>\n",
       "      <td>5410.29</td>\n",
       "    </tr>\n",
       "  </tbody>\n",
       "</table>\n",
       "</div>"
      ],
      "text/plain": [
       "                           title_name      imdb_id premiere_date  \\\n",
       "15                              Hacks   tt11815682    2022-05-12   \n",
       "38           The Time Traveler'S Wife    tt8783930    2022-05-15   \n",
       "11                 Fantastic Beasts 3    tt4123432    2022-05-30   \n",
       "12                Father Of The Bride   tt13249596    2022-06-16   \n",
       "41                          Westworld    tt0475784    2022-06-26   \n",
       "24  Pretty Little Liars: Original Sin   tt13075042    2022-07-07   \n",
       "25                           Rap Sh*T   tt11212198    2022-07-21   \n",
       "16                       Harley Quinn    tt7658402    2022-07-28   \n",
       "18                        House Party    tt8005118    2022-07-28   \n",
       "9                               Elvis    tt3704428    2022-08-08   \n",
       "2                            Am I Ok?   tt11225626    2022-08-11   \n",
       "17                House Of The Dragon   tt11198330    2022-08-21   \n",
       "23                         Pennyworth    tt8425532    2022-09-08   \n",
       "20                Lizzo: Good As Hell    z202201lg    2022-09-08   \n",
       "42               White House Plumbers   tt11468254    2022-09-11   \n",
       "31                         Super Pets    tt8912936    2022-09-12   \n",
       "32                     The Big Brunch   tt15824600    2022-09-22   \n",
       "10                     Evil Dead Rise   tt13345606    2022-09-29   \n",
       "22                         Maniac Cop    tt2375737    2022-10-01   \n",
       "35                         The Nevers    tt8697870    2022-10-03   \n",
       "40                             Titans    tt1043813    2022-10-13   \n",
       "26                         Salems Lot   tt10245072    2022-10-24   \n",
       "21                       Magic Mike 3   z202208mm3    2022-10-27   \n",
       "39                    The White Lotus   tt13406094    2022-10-30   \n",
       "34                           The Idol   tt14954666    2022-11-06   \n",
       "7                  Dont Worry Darling   tt10731256    2022-11-07   \n",
       "30                               Shaq    z202211sh    2022-11-08   \n",
       "14                        Gossip Girl   tt10653784    2022-11-10   \n",
       "29         Sex Lives Of College Girls   tt11212276    2022-11-17   \n",
       "8                         Doom Patrol    tt8416494    2022-11-17   \n",
       "0         A Christmas Story Christmas   z202211csc    2022-11-17   \n",
       "28                 Scoob X-Mas Sequel    z202210sh    2022-11-24   \n",
       "36                         The Nevers    tt8697870    2022-11-28   \n",
       "1               A Hollywood Christmas    z202212hc    2022-12-01   \n",
       "4                          Black Adam    tt6443346    2022-12-05   \n",
       "5               Christmas In Carolina    z202212cc    2022-12-08   \n",
       "27        Santa'S Stolen Jingle Bells  z202212ssjb    2022-12-15   \n",
       "19         Lizzo Good As Hell Concert  z202212lizz    2022-12-31   \n",
       "\n",
       "    season_number content_category  days_since_premiere  first_views  \n",
       "15            2.0           series                 89.0     17497.58  \n",
       "38            1.0           series                 89.0     24854.82  \n",
       "11            1.0             pay1                 89.0    112255.35  \n",
       "12            1.0            movie                 89.0     96189.37  \n",
       "41            4.0           series                 89.0     91850.75  \n",
       "24            1.0           series                 89.0     91850.75  \n",
       "25            1.0           series                 89.0     25906.53  \n",
       "16            3.0           series                 89.0      9185.08  \n",
       "18            1.0            movie                 89.0    102042.34  \n",
       "9             1.0             pay1                 89.0     56127.64  \n",
       "2             1.0            movie                 89.0     33865.17  \n",
       "17            1.0           series                 90.0   2820736.61  \n",
       "23            3.0           series                 89.0     22962.74  \n",
       "20            1.0           series                 89.0     25906.53  \n",
       "42            1.0           series                 89.0     20478.13  \n",
       "31            1.0             pay1                 89.0     56127.64  \n",
       "32            1.0           series                 89.0     10007.15  \n",
       "10            1.0            movie                 89.0     68733.93  \n",
       "22            1.0           series                 89.0      4730.34  \n",
       "35            1.1           series                 89.0      9779.53  \n",
       "40            4.0           series                 89.0     95235.94  \n",
       "26            1.0             pay1                 89.0     22414.53  \n",
       "21            1.0            movie                 89.0    101920.80  \n",
       "39            2.0           series                 89.0     69277.12  \n",
       "34            1.0           series                 89.0     25534.56  \n",
       "7             1.0             pay1                 89.0     22419.57  \n",
       "30            1.0           series                 89.0      8350.65  \n",
       "14            2.0           series                 89.0     64403.53  \n",
       "29            2.0           series                 89.0     45941.56  \n",
       "8             4.0           series                 89.0     26302.95  \n",
       "0             1.0            movie                 89.0     26930.03  \n",
       "28            1.0            movie                 89.0    101764.98  \n",
       "36            1.1           series                 33.0     19605.19  \n",
       "1             1.0            movie                 89.0      4618.49  \n",
       "4             1.0             pay1                 89.0     55782.78  \n",
       "5             1.0            movie                 89.0      4612.48  \n",
       "27            1.0            movie                 89.0      4600.25  \n",
       "19            1.0            movie                 89.0      5410.29  "
      ]
     },
     "execution_count": 209,
     "metadata": {},
     "output_type": "execute_result"
    }
   ],
   "source": [
    "key_path = 'psi_first_views/dev'\n",
    "input_bucket=\"hbo-ingest-datascience-content-dev\"\n",
    "\n",
    "df_mkt = Utils.read_csv_s3(input_bucket, key_path, f'marketing_fv_20220508.csv') \n",
    "df_mkt = df_mkt.dropna()\n",
    "\n",
    "## data cleaning \n",
    "df_mkt.columns= df_mkt.columns.str.lower()\n",
    "df_mkt = df_mkt.rename(columns={'days after premiere':'days_since_premiere', 'first views':'first_views'})\n",
    "df_mkt = df_mkt.astype({'first_views':float})\n",
    "df_mkt['premiere_date'] = pd.to_datetime(df_mkt['premiere_date']).dt.date\n",
    "df_mkt['premiere_date'] = pd.to_datetime(df_mkt['premiere_date'])\n",
    "df_mkt = df_mkt[df_mkt.title_name.str.isupper()]\n",
    "df_mkt['title_name'] = df_mkt['title_name'].str.title()\n",
    "\n",
    "df_mkt = df_mkt[['title_name', 'imdb_id',  'premiere_date', 'date',\n",
    "       'season_number', 'content_category', 'days_since_premiere','first_views',]]\n",
    "\n",
    "df_mkt_grp = df_mkt.groupby(by=['title_name','season_number','content_category']).max().reset_index()\n",
    "non_ninety_titles = df_mkt_grp[df_mkt_grp.days_since_premiere<=88].title_name.unique().tolist()\n",
    "df_mkt = df_mkt[~df_mkt.title_name.isin(non_ninety_titles)]\n",
    "df_mkt.title_name.nunique()\n",
    "df_mkt = df_mkt.drop_duplicates(subset=['title_name','season_number','content_category','days_since_premiere'], keep='last')\n",
    "\n",
    "## Munge data\n",
    "df_mkt_title = df_mkt.groupby(by=['title_name','imdb_id','premiere_date','season_number','content_category']).agg({'days_since_premiere':'max', 'first_views':'sum'}).reset_index()\n",
    "df_mkt_title = df_mkt_title[(df_mkt_title.premiere_date>='2022-05-08')]\n",
    "print(df_mkt_title.shape)\n",
    "df_mkt_title.sort_values(by='premiere_date')\n",
    "\n",
    "df_mkt_title.loc[(df_mkt_title.title_name=='The Nevers') & (df_mkt_title.premiere_date=='2022-10-03'), 'season_number'] = 2\n",
    "df_mkt_title.loc[(df_mkt_title.title_name=='The Nevers') & (df_mkt_title.premiere_date=='2022-11-28'), 'season_number'] = 3\n",
    "df_mkt_title.season_number = df_mkt_title.season_number.astype(int)\n",
    "\n",
    "df_mkt_title.loc[(df_mkt_title.title_name=='The Nevers') & (df_mkt_title.premiere_date=='2022-10-03'), 'season_number'] = 2\n",
    "df_mkt_title.loc[(df_mkt_title.title_name=='The Nevers') & (df_mkt_title.premiere_date=='2022-11-28'), 'season_number'] = 3\n",
    "df_mkt_title.season_number = df_mkt_title.season_number.astype(int)\n",
    "\n",
    "    "
   ]
  },
  {
   "cell_type": "markdown",
   "id": "c913f824",
   "metadata": {},
   "source": [
    "## PSI"
   ]
  },
  {
   "cell_type": "code",
   "execution_count": 126,
   "id": "b5214dc6",
   "metadata": {},
   "outputs": [
    {
     "name": "stderr",
     "output_type": "stream",
     "text": [
      "Boto3 will no longer support Python 3.6 starting May 30, 2022. To continue receiving service updates, bug fixes, and security updates please upgrade to Python 3.7 or later. More information can be found here: https://aws.amazon.com/blogs/developer/python-support-policy-updates-for-aws-sdks-and-tools/\n",
      "INFO:root:Read from hbo-ingest-datascience-content-dev/psi_first_views/dev/psi_daily_xgb_forecast_2022-05-01.csv\n"
     ]
    }
   ],
   "source": [
    "key_path = 'psi_first_views/dev'\n",
    "input_bucket=\"hbo-ingest-datascience-content-dev\"\n",
    "\n",
    "df_psi = []\n",
    "date = ['2022-05-01']\n",
    "for i in date:\n",
    "    df_temp = Utils.read_csv_s3(input_bucket, key_path, f'psi_daily_xgb_forecast_{i}.csv') \n",
    "    df_temp['effective_start_date'] = pd.to_datetime(df_temp['effective_start_date'])\n",
    "    date_min = datetime.strptime(i, '%Y-%m-%d')\n",
    "#     date_max = date_min + timedelta(days=60)\n",
    "    df_temp = df_temp[(df_temp.effective_start_date>='2022-05-08') & (df_temp.effective_start_date<'2023-01-01')]\n",
    "    df_temp['imdb_id'] = df_temp['imdb_imdb_series_id']\n",
    "    df_temp['imdb_id'] = df_temp['imdb_id'].fillna(0)\n",
    "    df_temp = df_temp.drop_duplicates(subset=['title_name','season_number','category','request_date'])\n",
    "    df_psi.append(df_temp)\n",
    "\n",
    "col = ['imdb_id','title_name','season_number', 'effective_start_date',\n",
    "       'tier',  'tier_adj', 'content_category','category', 'prequel_count', 'prequel_featured_count', \n",
    "      'pred_date', 'first_views_pred_decay',]\n",
    "\n",
    "df_psi = pd.concat(df_psi)\n",
    "df_psi = df_psi[col].groupby(by=col[:-1]).sum().reset_index()\n",
    "df_psi.loc[df_psi.season_number==0, 'season_number'] = 1\n",
    "df_psi['title_name'] = df_psi['title_name'].str.title()\n",
    "df_psi.season_number = df_psi.season_number.astype(int)\n",
    "\n",
    "dic = {'Father Of The Bride':'tt13249596', 'Lizzo Concert Doc':'z202212lizz', 'Lizzo: Good As Hell':'z202201lg', \n",
    "       'A Christmas Story Christmas': 'z202211csc', 'A Hollywood Christmas': 'z202212hc', \"Santa'S Stolen Jingle Bells\":'z202212ssjb',\n",
    "      \"Salem'S Lot\": 'tt10245072', \"Scoob! Holiday Haunt\":'z202210sh', 'Shaq':'z202211sh',\n",
    "      \"Magic Mike'S Last Dance\":'z202208mm3'}\n",
    "for key in dic.keys():\n",
    "    df_psi.loc[df_psi.title_name==key, 'imdb_id'] = dic[key]"
   ]
  },
  {
   "cell_type": "markdown",
   "id": "a7354c69",
   "metadata": {},
   "source": [
    "## Comparison"
   ]
  },
  {
   "cell_type": "code",
   "execution_count": 232,
   "id": "30376de6",
   "metadata": {},
   "outputs": [
    {
     "data": {
      "text/html": [
       "<div>\n",
       "<style scoped>\n",
       "    .dataframe tbody tr th:only-of-type {\n",
       "        vertical-align: middle;\n",
       "    }\n",
       "\n",
       "    .dataframe tbody tr th {\n",
       "        vertical-align: top;\n",
       "    }\n",
       "\n",
       "    .dataframe thead th {\n",
       "        text-align: right;\n",
       "    }\n",
       "</style>\n",
       "<table border=\"1\" class=\"dataframe\">\n",
       "  <thead>\n",
       "    <tr style=\"text-align: right;\">\n",
       "      <th></th>\n",
       "      <th>title_name_x</th>\n",
       "      <th>imdb_id</th>\n",
       "      <th>premiere_date</th>\n",
       "      <th>season_number</th>\n",
       "      <th>content_category_x</th>\n",
       "      <th>days_since_premiere</th>\n",
       "      <th>first_views</th>\n",
       "      <th>title_name_y</th>\n",
       "      <th>effective_start_date</th>\n",
       "      <th>tier</th>\n",
       "      <th>tier_adj</th>\n",
       "      <th>content_category_y</th>\n",
       "      <th>category</th>\n",
       "      <th>prequel_count</th>\n",
       "      <th>prequel_featured_count</th>\n",
       "      <th>pred_date</th>\n",
       "      <th>first_views_pred_decay</th>\n",
       "      <th>trailer_date</th>\n",
       "      <th>first_views_mkt_scaled</th>\n",
       "      <th>first_views_psi</th>\n",
       "    </tr>\n",
       "  </thead>\n",
       "  <tbody>\n",
       "    <tr>\n",
       "      <th>12</th>\n",
       "      <td>Hacks</td>\n",
       "      <td>tt11815682</td>\n",
       "      <td>2022-05-12</td>\n",
       "      <td>2</td>\n",
       "      <td>series</td>\n",
       "      <td>89.0</td>\n",
       "      <td>17497.58</td>\n",
       "      <td>Hacks</td>\n",
       "      <td>2022-05-19</td>\n",
       "      <td>2.0</td>\n",
       "      <td>2.0</td>\n",
       "      <td>series</td>\n",
       "      <td>Scripted Comedy Series</td>\n",
       "      <td>-1.0</td>\n",
       "      <td>-1.0</td>\n",
       "      <td>2022-05-01</td>\n",
       "      <td>17025.246094</td>\n",
       "      <td>2022-04-26</td>\n",
       "      <td>2.187198e+04</td>\n",
       "      <td>17025.246094</td>\n",
       "    </tr>\n",
       "    <tr>\n",
       "      <th>14</th>\n",
       "      <td>House Of The Dragon</td>\n",
       "      <td>tt11198330</td>\n",
       "      <td>2022-08-21</td>\n",
       "      <td>1</td>\n",
       "      <td>series</td>\n",
       "      <td>90.0</td>\n",
       "      <td>2820736.61</td>\n",
       "      <td>House Of The Dragon</td>\n",
       "      <td>2022-08-21</td>\n",
       "      <td>0.0</td>\n",
       "      <td>0.0</td>\n",
       "      <td>series</td>\n",
       "      <td>Scripted Drama Series</td>\n",
       "      <td>-1.0</td>\n",
       "      <td>-1.0</td>\n",
       "      <td>2022-05-01</td>\n",
       "      <td>491107.687500</td>\n",
       "      <td>2021-10-05</td>\n",
       "      <td>3.525921e+06</td>\n",
       "      <td>491107.687500</td>\n",
       "    </tr>\n",
       "    <tr>\n",
       "      <th>33</th>\n",
       "      <td>The Time Traveler'S Wife</td>\n",
       "      <td>tt8783930</td>\n",
       "      <td>2022-05-15</td>\n",
       "      <td>1</td>\n",
       "      <td>series</td>\n",
       "      <td>89.0</td>\n",
       "      <td>24854.82</td>\n",
       "      <td>The Time Traveler'S Wife</td>\n",
       "      <td>2022-05-15</td>\n",
       "      <td>2.0</td>\n",
       "      <td>2.0</td>\n",
       "      <td>series</td>\n",
       "      <td>Scripted Drama Series</td>\n",
       "      <td>-1.0</td>\n",
       "      <td>-1.0</td>\n",
       "      <td>2022-05-01</td>\n",
       "      <td>37819.886719</td>\n",
       "      <td>2022-04-21</td>\n",
       "      <td>3.106853e+04</td>\n",
       "      <td>37819.886719</td>\n",
       "    </tr>\n",
       "  </tbody>\n",
       "</table>\n",
       "</div>"
      ],
      "text/plain": [
       "                title_name_x     imdb_id premiere_date  season_number  \\\n",
       "12                     Hacks  tt11815682    2022-05-12              2   \n",
       "14       House Of The Dragon  tt11198330    2022-08-21              1   \n",
       "33  The Time Traveler'S Wife   tt8783930    2022-05-15              1   \n",
       "\n",
       "   content_category_x  days_since_premiere  first_views  \\\n",
       "12             series                 89.0     17497.58   \n",
       "14             series                 90.0   2820736.61   \n",
       "33             series                 89.0     24854.82   \n",
       "\n",
       "                title_name_y effective_start_date  tier  tier_adj  \\\n",
       "12                     Hacks           2022-05-19   2.0       2.0   \n",
       "14       House Of The Dragon           2022-08-21   0.0       0.0   \n",
       "33  The Time Traveler'S Wife           2022-05-15   2.0       2.0   \n",
       "\n",
       "   content_category_y                category  prequel_count  \\\n",
       "12             series  Scripted Comedy Series           -1.0   \n",
       "14             series   Scripted Drama Series           -1.0   \n",
       "33             series   Scripted Drama Series           -1.0   \n",
       "\n",
       "    prequel_featured_count   pred_date  first_views_pred_decay trailer_date  \\\n",
       "12                    -1.0  2022-05-01            17025.246094   2022-04-26   \n",
       "14                    -1.0  2022-05-01           491107.687500   2021-10-05   \n",
       "33                    -1.0  2022-05-01            37819.886719   2022-04-21   \n",
       "\n",
       "    first_views_mkt_scaled  first_views_psi  \n",
       "12            2.187198e+04     17025.246094  \n",
       "14            3.525921e+06    491107.687500  \n",
       "33            3.106853e+04     37819.886719  "
      ]
     },
     "execution_count": 232,
     "metadata": {},
     "output_type": "execute_result"
    }
   ],
   "source": [
    "df_tot[df_tot.trailer_date.notnull()]"
   ]
  },
  {
   "cell_type": "code",
   "execution_count": 230,
   "id": "573417bc",
   "metadata": {},
   "outputs": [
    {
     "name": "stdout",
     "output_type": "stream",
     "text": [
      "(38, 7)\n",
      "(143, 12)\n",
      "(56, 20)\n"
     ]
    },
    {
     "name": "stderr",
     "output_type": "stream",
     "text": [
      "\n",
      "A value is trying to be set on a copy of a slice from a DataFrame.\n",
      "Try using .loc[row_indexer,col_indexer] = value instead\n",
      "\n",
      "See the caveats in the documentation: https://pandas.pydata.org/pandas-docs/stable/user_guide/indexing.html#returning-a-view-versus-a-copy\n",
      "\n",
      "A value is trying to be set on a copy of a slice from a DataFrame.\n",
      "Try using .loc[row_indexer,col_indexer] = value instead\n",
      "\n",
      "See the caveats in the documentation: https://pandas.pydata.org/pandas-docs/stable/user_guide/indexing.html#returning-a-view-versus-a-copy\n"
     ]
    },
    {
     "data": {
      "text/plain": [
       "title_name_x              24\n",
       "imdb_id                    0\n",
       "premiere_date             24\n",
       "season_number              0\n",
       "content_category_x        24\n",
       "days_since_premiere       24\n",
       "first_views               24\n",
       "title_name_y               0\n",
       "effective_start_date       0\n",
       "tier                       0\n",
       "tier_adj                   0\n",
       "content_category_y         0\n",
       "category                   0\n",
       "prequel_count              0\n",
       "prequel_featured_count     0\n",
       "pred_date                  0\n",
       "first_views_pred_decay     0\n",
       "trailer_date              53\n",
       "first_views_mkt_scaled    24\n",
       "first_views_psi            0\n",
       "dtype: int64"
      ]
     },
     "execution_count": 230,
     "metadata": {},
     "output_type": "execute_result"
    }
   ],
   "source": [
    "df_tot_raw = df_mkt_title.merge(df_psi, on=['imdb_id','season_number'], how='outer').merge(df_trailer[['imdb_id','season_number','trailer_date']], on=['imdb_id','season_number'],how='left')\n",
    "df_tot= df_tot_raw[(df_tot_raw.effective_start_date<='2023-01-01') & (df_tot_raw.tier<=2)]\n",
    "df_tot['first_views_mkt_scaled'] = df_tot['first_views']*1.25\n",
    "df_tot['first_views_psi'] = df_tot['first_views_pred_decay']\n",
    "df_tot = df_tot.drop_duplicates(subset=['imdb_id','season_number','content_category_y'])\n",
    "print(df_mkt_title.shape)\n",
    "print(df_psi.shape)\n",
    "print(df_tot.shape)\n",
    "df_tot.isnull().sum()"
   ]
  },
  {
   "cell_type": "code",
   "execution_count": 252,
   "id": "f81a93c7",
   "metadata": {},
   "outputs": [
    {
     "data": {
      "text/html": [
       "<div>\n",
       "<style scoped>\n",
       "    .dataframe tbody tr th:only-of-type {\n",
       "        vertical-align: middle;\n",
       "    }\n",
       "\n",
       "    .dataframe tbody tr th {\n",
       "        vertical-align: top;\n",
       "    }\n",
       "\n",
       "    .dataframe thead th {\n",
       "        text-align: right;\n",
       "    }\n",
       "</style>\n",
       "<table border=\"1\" class=\"dataframe\">\n",
       "  <thead>\n",
       "    <tr style=\"text-align: right;\">\n",
       "      <th></th>\n",
       "      <th>title_name_x</th>\n",
       "      <th>imdb_id</th>\n",
       "      <th>season_number</th>\n",
       "      <th>effective_start_date</th>\n",
       "      <th>tier</th>\n",
       "      <th>category</th>\n",
       "      <th>trailer_date</th>\n",
       "      <th>first_views_mkt_scaled</th>\n",
       "      <th>first_views_psi</th>\n",
       "    </tr>\n",
       "  </thead>\n",
       "  <tbody>\n",
       "    <tr>\n",
       "      <th>14</th>\n",
       "      <td>House Of The Dragon</td>\n",
       "      <td>tt11198330</td>\n",
       "      <td>1</td>\n",
       "      <td>2022-08-21</td>\n",
       "      <td>0.0</td>\n",
       "      <td>Scripted Drama Series</td>\n",
       "      <td>2021-10-05</td>\n",
       "      <td>3.525921e+06</td>\n",
       "      <td>491107.687500</td>\n",
       "    </tr>\n",
       "    <tr>\n",
       "      <th>0</th>\n",
       "      <td>A Christmas Story Christmas</td>\n",
       "      <td>z202211csc</td>\n",
       "      <td>1</td>\n",
       "      <td>2022-11-17</td>\n",
       "      <td>1.0</td>\n",
       "      <td>Scripted Features</td>\n",
       "      <td>NaN</td>\n",
       "      <td>3.366254e+04</td>\n",
       "      <td>155513.343750</td>\n",
       "    </tr>\n",
       "    <tr>\n",
       "      <th>21</th>\n",
       "      <td>Pretty Little Liars: Original Sin</td>\n",
       "      <td>tt13075042</td>\n",
       "      <td>1</td>\n",
       "      <td>2022-07-07</td>\n",
       "      <td>1.0</td>\n",
       "      <td>Scripted Drama Series</td>\n",
       "      <td>None</td>\n",
       "      <td>1.148134e+05</td>\n",
       "      <td>128220.304687</td>\n",
       "    </tr>\n",
       "    <tr>\n",
       "      <th>18</th>\n",
       "      <td>Magic Mike 3</td>\n",
       "      <td>z202208mm3</td>\n",
       "      <td>1</td>\n",
       "      <td>2022-10-27</td>\n",
       "      <td>1.0</td>\n",
       "      <td>Scripted Features</td>\n",
       "      <td>NaN</td>\n",
       "      <td>1.274010e+05</td>\n",
       "      <td>155513.343750</td>\n",
       "    </tr>\n",
       "    <tr>\n",
       "      <th>36</th>\n",
       "      <td>Westworld</td>\n",
       "      <td>tt0475784</td>\n",
       "      <td>4</td>\n",
       "      <td>2022-06-26</td>\n",
       "      <td>1.0</td>\n",
       "      <td>Scripted Drama Series</td>\n",
       "      <td>None</td>\n",
       "      <td>1.148134e+05</td>\n",
       "      <td>128220.304687</td>\n",
       "    </tr>\n",
       "    <tr>\n",
       "      <th>26</th>\n",
       "      <td>Sex Lives Of College Girls</td>\n",
       "      <td>tt11212276</td>\n",
       "      <td>2</td>\n",
       "      <td>2022-11-17</td>\n",
       "      <td>1.0</td>\n",
       "      <td>Scripted Comedy Series</td>\n",
       "      <td>None</td>\n",
       "      <td>5.742695e+04</td>\n",
       "      <td>66872.125000</td>\n",
       "    </tr>\n",
       "    <tr>\n",
       "      <th>28</th>\n",
       "      <td>Super Pets</td>\n",
       "      <td>tt8912936</td>\n",
       "      <td>1</td>\n",
       "      <td>2022-09-12</td>\n",
       "      <td>1.0</td>\n",
       "      <td>Pay 1 WB Theatricals</td>\n",
       "      <td>None</td>\n",
       "      <td>7.015955e+04</td>\n",
       "      <td>141322.781250</td>\n",
       "    </tr>\n",
       "    <tr>\n",
       "      <th>11</th>\n",
       "      <td>Gossip Girl</td>\n",
       "      <td>tt10653784</td>\n",
       "      <td>2</td>\n",
       "      <td>2022-11-10</td>\n",
       "      <td>1.0</td>\n",
       "      <td>Scripted Drama Series</td>\n",
       "      <td>None</td>\n",
       "      <td>8.050441e+04</td>\n",
       "      <td>128220.304687</td>\n",
       "    </tr>\n",
       "    <tr>\n",
       "      <th>23</th>\n",
       "      <td>Salems Lot</td>\n",
       "      <td>tt10245072</td>\n",
       "      <td>1</td>\n",
       "      <td>2022-10-24</td>\n",
       "      <td>1.0</td>\n",
       "      <td>Pay 1 WB Theatricals</td>\n",
       "      <td>None</td>\n",
       "      <td>2.801816e+04</td>\n",
       "      <td>141322.781250</td>\n",
       "    </tr>\n",
       "    <tr>\n",
       "      <th>9</th>\n",
       "      <td>Fantastic Beasts 3</td>\n",
       "      <td>tt4123432</td>\n",
       "      <td>1</td>\n",
       "      <td>2022-05-30</td>\n",
       "      <td>1.0</td>\n",
       "      <td>Pay 1 WB Theatricals</td>\n",
       "      <td>None</td>\n",
       "      <td>1.403192e+05</td>\n",
       "      <td>229894.781250</td>\n",
       "    </tr>\n",
       "    <tr>\n",
       "      <th>7</th>\n",
       "      <td>Elvis</td>\n",
       "      <td>tt3704428</td>\n",
       "      <td>1</td>\n",
       "      <td>2022-08-08</td>\n",
       "      <td>1.0</td>\n",
       "      <td>Pay 1 WB Theatricals</td>\n",
       "      <td>None</td>\n",
       "      <td>7.015955e+04</td>\n",
       "      <td>141322.781250</td>\n",
       "    </tr>\n",
       "    <tr>\n",
       "      <th>5</th>\n",
       "      <td>Dont Worry Darling</td>\n",
       "      <td>tt10731256</td>\n",
       "      <td>1</td>\n",
       "      <td>2022-11-07</td>\n",
       "      <td>1.0</td>\n",
       "      <td>Pay 1 WB Theatricals</td>\n",
       "      <td>None</td>\n",
       "      <td>2.802446e+04</td>\n",
       "      <td>141322.781250</td>\n",
       "    </tr>\n",
       "    <tr>\n",
       "      <th>3</th>\n",
       "      <td>Black Adam</td>\n",
       "      <td>tt6443346</td>\n",
       "      <td>1</td>\n",
       "      <td>2022-12-05</td>\n",
       "      <td>1.0</td>\n",
       "      <td>Pay 1 WB Theatricals</td>\n",
       "      <td>None</td>\n",
       "      <td>6.972847e+04</td>\n",
       "      <td>218542.093750</td>\n",
       "    </tr>\n",
       "    <tr>\n",
       "      <th>10</th>\n",
       "      <td>Father Of The Bride</td>\n",
       "      <td>tt13249596</td>\n",
       "      <td>1</td>\n",
       "      <td>2022-06-16</td>\n",
       "      <td>1.0</td>\n",
       "      <td>Scripted Features</td>\n",
       "      <td>None</td>\n",
       "      <td>1.202367e+05</td>\n",
       "      <td>155513.343750</td>\n",
       "    </tr>\n",
       "    <tr>\n",
       "      <th>24</th>\n",
       "      <td>Santa'S Stolen Jingle Bells</td>\n",
       "      <td>z202212ssjb</td>\n",
       "      <td>1</td>\n",
       "      <td>2022-12-15</td>\n",
       "      <td>2.0</td>\n",
       "      <td>Scripted Features</td>\n",
       "      <td>NaN</td>\n",
       "      <td>5.750312e+03</td>\n",
       "      <td>36359.585938</td>\n",
       "    </tr>\n",
       "    <tr>\n",
       "      <th>33</th>\n",
       "      <td>The Time Traveler'S Wife</td>\n",
       "      <td>tt8783930</td>\n",
       "      <td>1</td>\n",
       "      <td>2022-05-15</td>\n",
       "      <td>2.0</td>\n",
       "      <td>Scripted Drama Series</td>\n",
       "      <td>2022-04-21</td>\n",
       "      <td>3.106853e+04</td>\n",
       "      <td>37819.886719</td>\n",
       "    </tr>\n",
       "    <tr>\n",
       "      <th>27</th>\n",
       "      <td>Shaq</td>\n",
       "      <td>z202211sh</td>\n",
       "      <td>1</td>\n",
       "      <td>2022-10-25</td>\n",
       "      <td>2.0</td>\n",
       "      <td>Docu-Series</td>\n",
       "      <td>NaN</td>\n",
       "      <td>1.043831e+04</td>\n",
       "      <td>17025.246094</td>\n",
       "    </tr>\n",
       "    <tr>\n",
       "      <th>34</th>\n",
       "      <td>The White Lotus</td>\n",
       "      <td>tt13406094</td>\n",
       "      <td>2</td>\n",
       "      <td>2022-10-30</td>\n",
       "      <td>2.0</td>\n",
       "      <td>Scripted Drama Series</td>\n",
       "      <td>None</td>\n",
       "      <td>8.659640e+04</td>\n",
       "      <td>37819.886719</td>\n",
       "    </tr>\n",
       "    <tr>\n",
       "      <th>25</th>\n",
       "      <td>Scoob X-Mas Sequel</td>\n",
       "      <td>z202210sh</td>\n",
       "      <td>1</td>\n",
       "      <td>2022-11-24</td>\n",
       "      <td>2.0</td>\n",
       "      <td>Scripted Features</td>\n",
       "      <td>NaN</td>\n",
       "      <td>1.272062e+05</td>\n",
       "      <td>36359.585938</td>\n",
       "    </tr>\n",
       "    <tr>\n",
       "      <th>35</th>\n",
       "      <td>Titans</td>\n",
       "      <td>tt1043813</td>\n",
       "      <td>4</td>\n",
       "      <td>2022-10-13</td>\n",
       "      <td>2.0</td>\n",
       "      <td>Scripted Drama Series</td>\n",
       "      <td>None</td>\n",
       "      <td>1.190449e+05</td>\n",
       "      <td>37819.886719</td>\n",
       "    </tr>\n",
       "    <tr>\n",
       "      <th>30</th>\n",
       "      <td>The Idol</td>\n",
       "      <td>tt14954666</td>\n",
       "      <td>1</td>\n",
       "      <td>2022-11-06</td>\n",
       "      <td>2.0</td>\n",
       "      <td>Scripted Drama Series</td>\n",
       "      <td>None</td>\n",
       "      <td>3.191820e+04</td>\n",
       "      <td>37819.886719</td>\n",
       "    </tr>\n",
       "    <tr>\n",
       "      <th>17</th>\n",
       "      <td>Lizzo: Good As Hell</td>\n",
       "      <td>z202201lg</td>\n",
       "      <td>1</td>\n",
       "      <td>2022-09-08</td>\n",
       "      <td>2.0</td>\n",
       "      <td>Documentary Features</td>\n",
       "      <td>None</td>\n",
       "      <td>3.238316e+04</td>\n",
       "      <td>4280.454590</td>\n",
       "    </tr>\n",
       "    <tr>\n",
       "      <th>20</th>\n",
       "      <td>Pennyworth</td>\n",
       "      <td>tt8425532</td>\n",
       "      <td>3</td>\n",
       "      <td>2022-09-08</td>\n",
       "      <td>2.0</td>\n",
       "      <td>Scripted Drama Series</td>\n",
       "      <td>None</td>\n",
       "      <td>2.870342e+04</td>\n",
       "      <td>37819.886719</td>\n",
       "    </tr>\n",
       "    <tr>\n",
       "      <th>16</th>\n",
       "      <td>Lizzo Good As Hell Concert</td>\n",
       "      <td>z202212lizz</td>\n",
       "      <td>1</td>\n",
       "      <td>2022-12-31</td>\n",
       "      <td>2.0</td>\n",
       "      <td>Documentary Features</td>\n",
       "      <td>NaN</td>\n",
       "      <td>6.762863e+03</td>\n",
       "      <td>4280.454590</td>\n",
       "    </tr>\n",
       "    <tr>\n",
       "      <th>15</th>\n",
       "      <td>House Party</td>\n",
       "      <td>tt8005118</td>\n",
       "      <td>1</td>\n",
       "      <td>2022-07-28</td>\n",
       "      <td>2.0</td>\n",
       "      <td>Scripted Features</td>\n",
       "      <td>None</td>\n",
       "      <td>1.275529e+05</td>\n",
       "      <td>44723.902344</td>\n",
       "    </tr>\n",
       "    <tr>\n",
       "      <th>13</th>\n",
       "      <td>Harley Quinn</td>\n",
       "      <td>tt7658402</td>\n",
       "      <td>3</td>\n",
       "      <td>2022-07-28</td>\n",
       "      <td>2.0</td>\n",
       "      <td>Scripted Comedy Series</td>\n",
       "      <td>None</td>\n",
       "      <td>1.148135e+04</td>\n",
       "      <td>17025.246094</td>\n",
       "    </tr>\n",
       "    <tr>\n",
       "      <th>12</th>\n",
       "      <td>Hacks</td>\n",
       "      <td>tt11815682</td>\n",
       "      <td>2</td>\n",
       "      <td>2022-05-19</td>\n",
       "      <td>2.0</td>\n",
       "      <td>Scripted Comedy Series</td>\n",
       "      <td>2022-04-26</td>\n",
       "      <td>2.187198e+04</td>\n",
       "      <td>17025.246094</td>\n",
       "    </tr>\n",
       "    <tr>\n",
       "      <th>8</th>\n",
       "      <td>Evil Dead Rise</td>\n",
       "      <td>tt13345606</td>\n",
       "      <td>1</td>\n",
       "      <td>2022-09-29</td>\n",
       "      <td>2.0</td>\n",
       "      <td>Scripted Features</td>\n",
       "      <td>None</td>\n",
       "      <td>8.591741e+04</td>\n",
       "      <td>52101.820312</td>\n",
       "    </tr>\n",
       "    <tr>\n",
       "      <th>2</th>\n",
       "      <td>Am I Ok?</td>\n",
       "      <td>tt11225626</td>\n",
       "      <td>1</td>\n",
       "      <td>2022-08-11</td>\n",
       "      <td>2.0</td>\n",
       "      <td>Scripted Features</td>\n",
       "      <td>None</td>\n",
       "      <td>4.233146e+04</td>\n",
       "      <td>36359.585938</td>\n",
       "    </tr>\n",
       "    <tr>\n",
       "      <th>1</th>\n",
       "      <td>A Hollywood Christmas</td>\n",
       "      <td>z202212hc</td>\n",
       "      <td>1</td>\n",
       "      <td>2022-12-15</td>\n",
       "      <td>2.0</td>\n",
       "      <td>Scripted Features</td>\n",
       "      <td>NaN</td>\n",
       "      <td>5.773112e+03</td>\n",
       "      <td>36359.585938</td>\n",
       "    </tr>\n",
       "    <tr>\n",
       "      <th>22</th>\n",
       "      <td>Rap Sh*T</td>\n",
       "      <td>tt11212198</td>\n",
       "      <td>1</td>\n",
       "      <td>2022-07-21</td>\n",
       "      <td>2.0</td>\n",
       "      <td>Scripted Comedy Series</td>\n",
       "      <td>None</td>\n",
       "      <td>3.238316e+04</td>\n",
       "      <td>17025.246094</td>\n",
       "    </tr>\n",
       "    <tr>\n",
       "      <th>37</th>\n",
       "      <td>White House Plumbers</td>\n",
       "      <td>tt11468254</td>\n",
       "      <td>1</td>\n",
       "      <td>2022-09-11</td>\n",
       "      <td>2.0</td>\n",
       "      <td>Scripted Drama Series</td>\n",
       "      <td>None</td>\n",
       "      <td>2.559766e+04</td>\n",
       "      <td>37819.886719</td>\n",
       "    </tr>\n",
       "  </tbody>\n",
       "</table>\n",
       "</div>"
      ],
      "text/plain": [
       "                         title_name_x      imdb_id  season_number  \\\n",
       "14                House Of The Dragon   tt11198330              1   \n",
       "0         A Christmas Story Christmas   z202211csc              1   \n",
       "21  Pretty Little Liars: Original Sin   tt13075042              1   \n",
       "18                       Magic Mike 3   z202208mm3              1   \n",
       "36                          Westworld    tt0475784              4   \n",
       "26         Sex Lives Of College Girls   tt11212276              2   \n",
       "28                         Super Pets    tt8912936              1   \n",
       "11                        Gossip Girl   tt10653784              2   \n",
       "23                         Salems Lot   tt10245072              1   \n",
       "9                  Fantastic Beasts 3    tt4123432              1   \n",
       "7                               Elvis    tt3704428              1   \n",
       "5                  Dont Worry Darling   tt10731256              1   \n",
       "3                          Black Adam    tt6443346              1   \n",
       "10                Father Of The Bride   tt13249596              1   \n",
       "24        Santa'S Stolen Jingle Bells  z202212ssjb              1   \n",
       "33           The Time Traveler'S Wife    tt8783930              1   \n",
       "27                               Shaq    z202211sh              1   \n",
       "34                    The White Lotus   tt13406094              2   \n",
       "25                 Scoob X-Mas Sequel    z202210sh              1   \n",
       "35                             Titans    tt1043813              4   \n",
       "30                           The Idol   tt14954666              1   \n",
       "17                Lizzo: Good As Hell    z202201lg              1   \n",
       "20                         Pennyworth    tt8425532              3   \n",
       "16         Lizzo Good As Hell Concert  z202212lizz              1   \n",
       "15                        House Party    tt8005118              1   \n",
       "13                       Harley Quinn    tt7658402              3   \n",
       "12                              Hacks   tt11815682              2   \n",
       "8                      Evil Dead Rise   tt13345606              1   \n",
       "2                            Am I Ok?   tt11225626              1   \n",
       "1               A Hollywood Christmas    z202212hc              1   \n",
       "22                           Rap Sh*T   tt11212198              1   \n",
       "37               White House Plumbers   tt11468254              1   \n",
       "\n",
       "   effective_start_date  tier                category trailer_date  \\\n",
       "14           2022-08-21   0.0   Scripted Drama Series   2021-10-05   \n",
       "0            2022-11-17   1.0       Scripted Features          NaN   \n",
       "21           2022-07-07   1.0   Scripted Drama Series         None   \n",
       "18           2022-10-27   1.0       Scripted Features          NaN   \n",
       "36           2022-06-26   1.0   Scripted Drama Series         None   \n",
       "26           2022-11-17   1.0  Scripted Comedy Series         None   \n",
       "28           2022-09-12   1.0    Pay 1 WB Theatricals         None   \n",
       "11           2022-11-10   1.0   Scripted Drama Series         None   \n",
       "23           2022-10-24   1.0    Pay 1 WB Theatricals         None   \n",
       "9            2022-05-30   1.0    Pay 1 WB Theatricals         None   \n",
       "7            2022-08-08   1.0    Pay 1 WB Theatricals         None   \n",
       "5            2022-11-07   1.0    Pay 1 WB Theatricals         None   \n",
       "3            2022-12-05   1.0    Pay 1 WB Theatricals         None   \n",
       "10           2022-06-16   1.0       Scripted Features         None   \n",
       "24           2022-12-15   2.0       Scripted Features          NaN   \n",
       "33           2022-05-15   2.0   Scripted Drama Series   2022-04-21   \n",
       "27           2022-10-25   2.0             Docu-Series          NaN   \n",
       "34           2022-10-30   2.0   Scripted Drama Series         None   \n",
       "25           2022-11-24   2.0       Scripted Features          NaN   \n",
       "35           2022-10-13   2.0   Scripted Drama Series         None   \n",
       "30           2022-11-06   2.0   Scripted Drama Series         None   \n",
       "17           2022-09-08   2.0    Documentary Features         None   \n",
       "20           2022-09-08   2.0   Scripted Drama Series         None   \n",
       "16           2022-12-31   2.0    Documentary Features          NaN   \n",
       "15           2022-07-28   2.0       Scripted Features         None   \n",
       "13           2022-07-28   2.0  Scripted Comedy Series         None   \n",
       "12           2022-05-19   2.0  Scripted Comedy Series   2022-04-26   \n",
       "8            2022-09-29   2.0       Scripted Features         None   \n",
       "2            2022-08-11   2.0       Scripted Features         None   \n",
       "1            2022-12-15   2.0       Scripted Features          NaN   \n",
       "22           2022-07-21   2.0  Scripted Comedy Series         None   \n",
       "37           2022-09-11   2.0   Scripted Drama Series         None   \n",
       "\n",
       "    first_views_mkt_scaled  first_views_psi  \n",
       "14            3.525921e+06    491107.687500  \n",
       "0             3.366254e+04    155513.343750  \n",
       "21            1.148134e+05    128220.304687  \n",
       "18            1.274010e+05    155513.343750  \n",
       "36            1.148134e+05    128220.304687  \n",
       "26            5.742695e+04     66872.125000  \n",
       "28            7.015955e+04    141322.781250  \n",
       "11            8.050441e+04    128220.304687  \n",
       "23            2.801816e+04    141322.781250  \n",
       "9             1.403192e+05    229894.781250  \n",
       "7             7.015955e+04    141322.781250  \n",
       "5             2.802446e+04    141322.781250  \n",
       "3             6.972847e+04    218542.093750  \n",
       "10            1.202367e+05    155513.343750  \n",
       "24            5.750312e+03     36359.585938  \n",
       "33            3.106853e+04     37819.886719  \n",
       "27            1.043831e+04     17025.246094  \n",
       "34            8.659640e+04     37819.886719  \n",
       "25            1.272062e+05     36359.585938  \n",
       "35            1.190449e+05     37819.886719  \n",
       "30            3.191820e+04     37819.886719  \n",
       "17            3.238316e+04      4280.454590  \n",
       "20            2.870342e+04     37819.886719  \n",
       "16            6.762863e+03      4280.454590  \n",
       "15            1.275529e+05     44723.902344  \n",
       "13            1.148135e+04     17025.246094  \n",
       "12            2.187198e+04     17025.246094  \n",
       "8             8.591741e+04     52101.820312  \n",
       "2             4.233146e+04     36359.585938  \n",
       "1             5.773112e+03     36359.585938  \n",
       "22            3.238316e+04     17025.246094  \n",
       "37            2.559766e+04     37819.886719  "
      ]
     },
     "metadata": {},
     "output_type": "display_data"
    },
    {
     "data": {
      "text/html": [
       "<div>\n",
       "<style scoped>\n",
       "    .dataframe tbody tr th:only-of-type {\n",
       "        vertical-align: middle;\n",
       "    }\n",
       "\n",
       "    .dataframe tbody tr th {\n",
       "        vertical-align: top;\n",
       "    }\n",
       "\n",
       "    .dataframe thead th {\n",
       "        text-align: right;\n",
       "    }\n",
       "</style>\n",
       "<table border=\"1\" class=\"dataframe\">\n",
       "  <thead>\n",
       "    <tr style=\"text-align: right;\">\n",
       "      <th></th>\n",
       "      <th>first_views_mkt_scaled</th>\n",
       "      <th>first_views_psi</th>\n",
       "    </tr>\n",
       "    <tr>\n",
       "      <th>tier</th>\n",
       "      <th></th>\n",
       "      <th></th>\n",
       "    </tr>\n",
       "  </thead>\n",
       "  <tbody>\n",
       "    <tr>\n",
       "      <th>1.0</th>\n",
       "      <td>1.055268e+06</td>\n",
       "      <td>2.060021e+06</td>\n",
       "    </tr>\n",
       "    <tr>\n",
       "      <th>2.0</th>\n",
       "      <td>8.327814e+05</td>\n",
       "      <td>8.662859e+05</td>\n",
       "    </tr>\n",
       "  </tbody>\n",
       "</table>\n",
       "</div>"
      ],
      "text/plain": [
       "      first_views_mkt_scaled  first_views_psi\n",
       "tier                                         \n",
       "1.0             1.055268e+06     2.060021e+06\n",
       "2.0             8.327814e+05     8.662859e+05"
      ]
     },
     "metadata": {},
     "output_type": "display_data"
    },
    {
     "data": {
      "text/html": [
       "        <script type=\"text/javascript\">\n",
       "        window.PlotlyConfig = {MathJaxConfig: 'local'};\n",
       "        if (window.MathJax) {MathJax.Hub.Config({SVG: {font: \"STIX-Web\"}});}\n",
       "        if (typeof require !== 'undefined') {\n",
       "        require.undef(\"plotly\");\n",
       "        requirejs.config({\n",
       "            paths: {\n",
       "                'plotly': ['https://cdn.plot.ly/plotly-2.6.3.min']\n",
       "            }\n",
       "        });\n",
       "        require(['plotly'], function(Plotly) {\n",
       "            window._Plotly = Plotly;\n",
       "        });\n",
       "        }\n",
       "        </script>\n",
       "        "
      ]
     },
     "metadata": {},
     "output_type": "display_data"
    },
    {
     "data": {
      "application/vnd.plotly.v1+json": {
       "config": {
        "linkText": "Export to plot.ly",
        "plotlyServerURL": "https://plot.ly",
        "showLink": false
       },
       "data": [
        {
         "mode": "markers",
         "name": "Tier 2",
         "text": [
          "A Hollywood Christmas",
          "Am I Ok?",
          "Evil Dead Rise",
          "Harley Quinn",
          "House Party",
          "Lizzo Good As Hell Concert",
          "Lizzo: Good As Hell",
          "Pennyworth",
          "Rap Sh*T",
          "Santa'S Stolen Jingle Bells",
          "Scoob X-Mas Sequel",
          "Shaq",
          "The Idol",
          "The White Lotus",
          "Titans",
          "White House Plumbers",
          "nan",
          "nan",
          "nan",
          "nan",
          "nan",
          "nan",
          "nan",
          "nan",
          "nan",
          "nan",
          "nan",
          "nan",
          "nan",
          "nan",
          "nan",
          "nan",
          "nan",
          "nan",
          "nan",
          "nan",
          "nan",
          "nan",
          "nan"
         ],
         "textfont": {
          "size": 8
         },
         "textposition": "top center",
         "type": "scatter",
         "x": [
          36359.58593750002,
          36359.58593750002,
          52101.8203125,
          17025.24609375,
          44723.90234374998,
          4280.454589843748,
          4280.454589843748,
          37819.88671875001,
          17025.24609375,
          36359.58593750002,
          36359.58593750002,
          17025.246093750004,
          37819.88671875001,
          37819.88671875001,
          37819.88671875001,
          37819.88671875001,
          17025.246093750004,
          15116.811523437507,
          2146.8037109375005,
          2146.8037109375005,
          17025.246093750004,
          17025.246093750004,
          17025.24609375,
          15116.811523437507,
          26464.69921875002,
          15116.811523437507,
          17025.246093750004,
          4280.454589843748,
          4280.454589843748,
          15116.811523437507,
          4280.454589843748,
          17025.246093750004,
          37819.88671875001,
          15116.811523437507,
          2146.8037109375005,
          2146.8037109375005,
          37819.88671875001,
          17025.24609375,
          2146.8037109375005
         ],
         "y": [
          5773.112499999999,
          42331.462499999994,
          85917.41250000005,
          11481.35,
          127552.92499999996,
          6762.862500000001,
          32383.162499999984,
          28703.424999999992,
          32383.162499999984,
          5750.3125,
          127206.22499999995,
          10438.312499999996,
          31918.199999999993,
          86596.39999999998,
          119044.92500000002,
          25597.66249999999,
          null,
          null,
          null,
          null,
          null,
          null,
          null,
          null,
          null,
          null,
          null,
          null,
          null,
          null,
          null,
          null,
          null,
          null,
          null,
          null,
          null,
          null,
          null
         ]
        },
        {
         "mode": "markers+text",
         "name": "Tier 0,1",
         "text": [
          "A Christmas Story Christmas",
          "Black Adam",
          "Dont Worry Darling",
          "Elvis",
          "Fantastic Beasts 3",
          "Father Of The Bride",
          "Gossip Girl",
          "Magic Mike 3",
          "Pretty Little Liars: Original Sin",
          "Salems Lot",
          "Sex Lives Of College Girls",
          "Super Pets",
          "Westworld",
          "nan"
         ],
         "textfont": {
          "size": 8
         },
         "textposition": "top center",
         "type": "scatter",
         "x": [
          155513.34374999997,
          218542.09374999994,
          141322.7812499999,
          141322.7812499999,
          229894.7812499999,
          155513.34374999997,
          128220.30468749997,
          155513.34374999997,
          128220.30468749997,
          141322.7812499999,
          66872.12499999999,
          141322.7812499999,
          128220.30468749997,
          128220.30468749997
         ],
         "y": [
          33662.537500000006,
          69728.47499999998,
          28024.462499999994,
          70159.54999999999,
          140319.18749999994,
          120236.71250000002,
          80504.4125,
          127400.99999999997,
          114813.43749999999,
          28018.162499999995,
          57426.950000000004,
          70159.54999999999,
          114813.43749999999,
          null
         ]
        },
        {
         "mode": "markers+text",
         "name": "Post Trailer",
         "text": [
          "Hacks",
          "The Time Traveler'S Wife"
         ],
         "textfont": {
          "size": 8
         },
         "textposition": "top center",
         "type": "scatter",
         "x": [
          17025.24609375,
          37819.88671875001
         ],
         "y": [
          21871.975000000002,
          31068.52500000001
         ]
        }
       ],
       "layout": {
        "height": 600,
        "shapes": [
         {
          "type": "line",
          "x0": 0,
          "x1": 229894.7812499999,
          "xref": "x",
          "y0": 0,
          "y1": 229894.7812499999,
          "yref": "y"
         }
        ],
        "showlegend": true,
        "template": {
         "data": {
          "bar": [
           {
            "error_x": {
             "color": "#2a3f5f"
            },
            "error_y": {
             "color": "#2a3f5f"
            },
            "marker": {
             "line": {
              "color": "#E5ECF6",
              "width": 0.5
             },
             "pattern": {
              "fillmode": "overlay",
              "size": 10,
              "solidity": 0.2
             }
            },
            "type": "bar"
           }
          ],
          "barpolar": [
           {
            "marker": {
             "line": {
              "color": "#E5ECF6",
              "width": 0.5
             },
             "pattern": {
              "fillmode": "overlay",
              "size": 10,
              "solidity": 0.2
             }
            },
            "type": "barpolar"
           }
          ],
          "carpet": [
           {
            "aaxis": {
             "endlinecolor": "#2a3f5f",
             "gridcolor": "white",
             "linecolor": "white",
             "minorgridcolor": "white",
             "startlinecolor": "#2a3f5f"
            },
            "baxis": {
             "endlinecolor": "#2a3f5f",
             "gridcolor": "white",
             "linecolor": "white",
             "minorgridcolor": "white",
             "startlinecolor": "#2a3f5f"
            },
            "type": "carpet"
           }
          ],
          "choropleth": [
           {
            "colorbar": {
             "outlinewidth": 0,
             "ticks": ""
            },
            "type": "choropleth"
           }
          ],
          "contour": [
           {
            "colorbar": {
             "outlinewidth": 0,
             "ticks": ""
            },
            "colorscale": [
             [
              0,
              "#0d0887"
             ],
             [
              0.1111111111111111,
              "#46039f"
             ],
             [
              0.2222222222222222,
              "#7201a8"
             ],
             [
              0.3333333333333333,
              "#9c179e"
             ],
             [
              0.4444444444444444,
              "#bd3786"
             ],
             [
              0.5555555555555556,
              "#d8576b"
             ],
             [
              0.6666666666666666,
              "#ed7953"
             ],
             [
              0.7777777777777778,
              "#fb9f3a"
             ],
             [
              0.8888888888888888,
              "#fdca26"
             ],
             [
              1,
              "#f0f921"
             ]
            ],
            "type": "contour"
           }
          ],
          "contourcarpet": [
           {
            "colorbar": {
             "outlinewidth": 0,
             "ticks": ""
            },
            "type": "contourcarpet"
           }
          ],
          "heatmap": [
           {
            "colorbar": {
             "outlinewidth": 0,
             "ticks": ""
            },
            "colorscale": [
             [
              0,
              "#0d0887"
             ],
             [
              0.1111111111111111,
              "#46039f"
             ],
             [
              0.2222222222222222,
              "#7201a8"
             ],
             [
              0.3333333333333333,
              "#9c179e"
             ],
             [
              0.4444444444444444,
              "#bd3786"
             ],
             [
              0.5555555555555556,
              "#d8576b"
             ],
             [
              0.6666666666666666,
              "#ed7953"
             ],
             [
              0.7777777777777778,
              "#fb9f3a"
             ],
             [
              0.8888888888888888,
              "#fdca26"
             ],
             [
              1,
              "#f0f921"
             ]
            ],
            "type": "heatmap"
           }
          ],
          "heatmapgl": [
           {
            "colorbar": {
             "outlinewidth": 0,
             "ticks": ""
            },
            "colorscale": [
             [
              0,
              "#0d0887"
             ],
             [
              0.1111111111111111,
              "#46039f"
             ],
             [
              0.2222222222222222,
              "#7201a8"
             ],
             [
              0.3333333333333333,
              "#9c179e"
             ],
             [
              0.4444444444444444,
              "#bd3786"
             ],
             [
              0.5555555555555556,
              "#d8576b"
             ],
             [
              0.6666666666666666,
              "#ed7953"
             ],
             [
              0.7777777777777778,
              "#fb9f3a"
             ],
             [
              0.8888888888888888,
              "#fdca26"
             ],
             [
              1,
              "#f0f921"
             ]
            ],
            "type": "heatmapgl"
           }
          ],
          "histogram": [
           {
            "marker": {
             "pattern": {
              "fillmode": "overlay",
              "size": 10,
              "solidity": 0.2
             }
            },
            "type": "histogram"
           }
          ],
          "histogram2d": [
           {
            "colorbar": {
             "outlinewidth": 0,
             "ticks": ""
            },
            "colorscale": [
             [
              0,
              "#0d0887"
             ],
             [
              0.1111111111111111,
              "#46039f"
             ],
             [
              0.2222222222222222,
              "#7201a8"
             ],
             [
              0.3333333333333333,
              "#9c179e"
             ],
             [
              0.4444444444444444,
              "#bd3786"
             ],
             [
              0.5555555555555556,
              "#d8576b"
             ],
             [
              0.6666666666666666,
              "#ed7953"
             ],
             [
              0.7777777777777778,
              "#fb9f3a"
             ],
             [
              0.8888888888888888,
              "#fdca26"
             ],
             [
              1,
              "#f0f921"
             ]
            ],
            "type": "histogram2d"
           }
          ],
          "histogram2dcontour": [
           {
            "colorbar": {
             "outlinewidth": 0,
             "ticks": ""
            },
            "colorscale": [
             [
              0,
              "#0d0887"
             ],
             [
              0.1111111111111111,
              "#46039f"
             ],
             [
              0.2222222222222222,
              "#7201a8"
             ],
             [
              0.3333333333333333,
              "#9c179e"
             ],
             [
              0.4444444444444444,
              "#bd3786"
             ],
             [
              0.5555555555555556,
              "#d8576b"
             ],
             [
              0.6666666666666666,
              "#ed7953"
             ],
             [
              0.7777777777777778,
              "#fb9f3a"
             ],
             [
              0.8888888888888888,
              "#fdca26"
             ],
             [
              1,
              "#f0f921"
             ]
            ],
            "type": "histogram2dcontour"
           }
          ],
          "mesh3d": [
           {
            "colorbar": {
             "outlinewidth": 0,
             "ticks": ""
            },
            "type": "mesh3d"
           }
          ],
          "parcoords": [
           {
            "line": {
             "colorbar": {
              "outlinewidth": 0,
              "ticks": ""
             }
            },
            "type": "parcoords"
           }
          ],
          "pie": [
           {
            "automargin": true,
            "type": "pie"
           }
          ],
          "scatter": [
           {
            "marker": {
             "colorbar": {
              "outlinewidth": 0,
              "ticks": ""
             }
            },
            "type": "scatter"
           }
          ],
          "scatter3d": [
           {
            "line": {
             "colorbar": {
              "outlinewidth": 0,
              "ticks": ""
             }
            },
            "marker": {
             "colorbar": {
              "outlinewidth": 0,
              "ticks": ""
             }
            },
            "type": "scatter3d"
           }
          ],
          "scattercarpet": [
           {
            "marker": {
             "colorbar": {
              "outlinewidth": 0,
              "ticks": ""
             }
            },
            "type": "scattercarpet"
           }
          ],
          "scattergeo": [
           {
            "marker": {
             "colorbar": {
              "outlinewidth": 0,
              "ticks": ""
             }
            },
            "type": "scattergeo"
           }
          ],
          "scattergl": [
           {
            "marker": {
             "colorbar": {
              "outlinewidth": 0,
              "ticks": ""
             }
            },
            "type": "scattergl"
           }
          ],
          "scattermapbox": [
           {
            "marker": {
             "colorbar": {
              "outlinewidth": 0,
              "ticks": ""
             }
            },
            "type": "scattermapbox"
           }
          ],
          "scatterpolar": [
           {
            "marker": {
             "colorbar": {
              "outlinewidth": 0,
              "ticks": ""
             }
            },
            "type": "scatterpolar"
           }
          ],
          "scatterpolargl": [
           {
            "marker": {
             "colorbar": {
              "outlinewidth": 0,
              "ticks": ""
             }
            },
            "type": "scatterpolargl"
           }
          ],
          "scatterternary": [
           {
            "marker": {
             "colorbar": {
              "outlinewidth": 0,
              "ticks": ""
             }
            },
            "type": "scatterternary"
           }
          ],
          "surface": [
           {
            "colorbar": {
             "outlinewidth": 0,
             "ticks": ""
            },
            "colorscale": [
             [
              0,
              "#0d0887"
             ],
             [
              0.1111111111111111,
              "#46039f"
             ],
             [
              0.2222222222222222,
              "#7201a8"
             ],
             [
              0.3333333333333333,
              "#9c179e"
             ],
             [
              0.4444444444444444,
              "#bd3786"
             ],
             [
              0.5555555555555556,
              "#d8576b"
             ],
             [
              0.6666666666666666,
              "#ed7953"
             ],
             [
              0.7777777777777778,
              "#fb9f3a"
             ],
             [
              0.8888888888888888,
              "#fdca26"
             ],
             [
              1,
              "#f0f921"
             ]
            ],
            "type": "surface"
           }
          ],
          "table": [
           {
            "cells": {
             "fill": {
              "color": "#EBF0F8"
             },
             "line": {
              "color": "white"
             }
            },
            "header": {
             "fill": {
              "color": "#C8D4E3"
             },
             "line": {
              "color": "white"
             }
            },
            "type": "table"
           }
          ]
         },
         "layout": {
          "annotationdefaults": {
           "arrowcolor": "#2a3f5f",
           "arrowhead": 0,
           "arrowwidth": 1
          },
          "autotypenumbers": "strict",
          "coloraxis": {
           "colorbar": {
            "outlinewidth": 0,
            "ticks": ""
           }
          },
          "colorscale": {
           "diverging": [
            [
             0,
             "#8e0152"
            ],
            [
             0.1,
             "#c51b7d"
            ],
            [
             0.2,
             "#de77ae"
            ],
            [
             0.3,
             "#f1b6da"
            ],
            [
             0.4,
             "#fde0ef"
            ],
            [
             0.5,
             "#f7f7f7"
            ],
            [
             0.6,
             "#e6f5d0"
            ],
            [
             0.7,
             "#b8e186"
            ],
            [
             0.8,
             "#7fbc41"
            ],
            [
             0.9,
             "#4d9221"
            ],
            [
             1,
             "#276419"
            ]
           ],
           "sequential": [
            [
             0,
             "#0d0887"
            ],
            [
             0.1111111111111111,
             "#46039f"
            ],
            [
             0.2222222222222222,
             "#7201a8"
            ],
            [
             0.3333333333333333,
             "#9c179e"
            ],
            [
             0.4444444444444444,
             "#bd3786"
            ],
            [
             0.5555555555555556,
             "#d8576b"
            ],
            [
             0.6666666666666666,
             "#ed7953"
            ],
            [
             0.7777777777777778,
             "#fb9f3a"
            ],
            [
             0.8888888888888888,
             "#fdca26"
            ],
            [
             1,
             "#f0f921"
            ]
           ],
           "sequentialminus": [
            [
             0,
             "#0d0887"
            ],
            [
             0.1111111111111111,
             "#46039f"
            ],
            [
             0.2222222222222222,
             "#7201a8"
            ],
            [
             0.3333333333333333,
             "#9c179e"
            ],
            [
             0.4444444444444444,
             "#bd3786"
            ],
            [
             0.5555555555555556,
             "#d8576b"
            ],
            [
             0.6666666666666666,
             "#ed7953"
            ],
            [
             0.7777777777777778,
             "#fb9f3a"
            ],
            [
             0.8888888888888888,
             "#fdca26"
            ],
            [
             1,
             "#f0f921"
            ]
           ]
          },
          "colorway": [
           "#636efa",
           "#EF553B",
           "#00cc96",
           "#ab63fa",
           "#FFA15A",
           "#19d3f3",
           "#FF6692",
           "#B6E880",
           "#FF97FF",
           "#FECB52"
          ],
          "font": {
           "color": "#2a3f5f"
          },
          "geo": {
           "bgcolor": "white",
           "lakecolor": "white",
           "landcolor": "#E5ECF6",
           "showlakes": true,
           "showland": true,
           "subunitcolor": "white"
          },
          "hoverlabel": {
           "align": "left"
          },
          "hovermode": "closest",
          "mapbox": {
           "style": "light"
          },
          "paper_bgcolor": "white",
          "plot_bgcolor": "#E5ECF6",
          "polar": {
           "angularaxis": {
            "gridcolor": "white",
            "linecolor": "white",
            "ticks": ""
           },
           "bgcolor": "#E5ECF6",
           "radialaxis": {
            "gridcolor": "white",
            "linecolor": "white",
            "ticks": ""
           }
          },
          "scene": {
           "xaxis": {
            "backgroundcolor": "#E5ECF6",
            "gridcolor": "white",
            "gridwidth": 2,
            "linecolor": "white",
            "showbackground": true,
            "ticks": "",
            "zerolinecolor": "white"
           },
           "yaxis": {
            "backgroundcolor": "#E5ECF6",
            "gridcolor": "white",
            "gridwidth": 2,
            "linecolor": "white",
            "showbackground": true,
            "ticks": "",
            "zerolinecolor": "white"
           },
           "zaxis": {
            "backgroundcolor": "#E5ECF6",
            "gridcolor": "white",
            "gridwidth": 2,
            "linecolor": "white",
            "showbackground": true,
            "ticks": "",
            "zerolinecolor": "white"
           }
          },
          "shapedefaults": {
           "line": {
            "color": "#2a3f5f"
           }
          },
          "ternary": {
           "aaxis": {
            "gridcolor": "white",
            "linecolor": "white",
            "ticks": ""
           },
           "baxis": {
            "gridcolor": "white",
            "linecolor": "white",
            "ticks": ""
           },
           "bgcolor": "#E5ECF6",
           "caxis": {
            "gridcolor": "white",
            "linecolor": "white",
            "ticks": ""
           }
          },
          "title": {
           "x": 0.05
          },
          "xaxis": {
           "automargin": true,
           "gridcolor": "white",
           "linecolor": "white",
           "ticks": "",
           "title": {
            "standoff": 15
           },
           "zerolinecolor": "white",
           "zerolinewidth": 2
          },
          "yaxis": {
           "automargin": true,
           "gridcolor": "white",
           "linecolor": "white",
           "ticks": "",
           "title": {
            "standoff": 15
           },
           "zerolinecolor": "white",
           "zerolinewidth": 2
          }
         }
        },
        "title": {
         "text": "Marketing vs. PSI prediction"
        },
        "width": 600,
        "xaxis": {
         "autorange": true,
         "range": [
          -13283.005127310362,
          245324.5900882478
         ],
         "title": {
          "text": "PSI first views"
         },
         "type": "linear"
        },
        "yaxis": {
         "autorange": true,
         "range": [
          -8320.900186271396,
          230463.31509590987
         ],
         "title": {
          "text": "Marketing scaled FV"
         },
         "type": "linear"
        }
       }
      },
      "image/png": "[encoded data removed]",
      "text/html": [
       "<div>                            <div id=\"921a318b-936f-47df-bc0b-9c2e93f12fbc\" class=\"plotly-graph-div\" style=\"height:600px; width:600px;\"></div>            <script type=\"text/javascript\">                require([\"plotly\"], function(Plotly) {                    window.PLOTLYENV=window.PLOTLYENV || {};                                    if (document.getElementById(\"921a318b-936f-47df-bc0b-9c2e93f12fbc\")) {                    Plotly.newPlot(                        \"921a318b-936f-47df-bc0b-9c2e93f12fbc\",                        [{\"mode\":\"markers\",\"name\":\"Tier 2\",\"text\":[\"A Hollywood Christmas\",\"Am I Ok?\",\"Evil Dead Rise\",\"Harley Quinn\",\"House Party\",\"Lizzo Good As Hell Concert\",\"Lizzo: Good As Hell\",\"Pennyworth\",\"Rap Sh*T\",\"Santa'S Stolen Jingle Bells\",\"Scoob X-Mas Sequel\",\"Shaq\",\"The Idol\",\"The White Lotus\",\"Titans\",\"White House Plumbers\",\"nan\",\"nan\",\"nan\",\"nan\",\"nan\",\"nan\",\"nan\",\"nan\",\"nan\",\"nan\",\"nan\",\"nan\",\"nan\",\"nan\",\"nan\",\"nan\",\"nan\",\"nan\",\"nan\",\"nan\",\"nan\",\"nan\",\"nan\"],\"textfont\":{\"size\":8},\"textposition\":\"top center\",\"x\":[36359.58593750002,36359.58593750002,52101.8203125,17025.24609375,44723.90234374998,4280.454589843748,4280.454589843748,37819.88671875001,17025.24609375,36359.58593750002,36359.58593750002,17025.246093750004,37819.88671875001,37819.88671875001,37819.88671875001,37819.88671875001,17025.246093750004,15116.811523437507,2146.8037109375005,2146.8037109375005,17025.246093750004,17025.246093750004,17025.24609375,15116.811523437507,26464.69921875002,15116.811523437507,17025.246093750004,4280.454589843748,4280.454589843748,15116.811523437507,4280.454589843748,17025.246093750004,37819.88671875001,15116.811523437507,2146.8037109375005,2146.8037109375005,37819.88671875001,17025.24609375,2146.8037109375005],\"y\":[5773.112499999999,42331.462499999994,85917.41250000005,11481.35,127552.92499999996,6762.862500000001,32383.162499999984,28703.424999999992,32383.162499999984,5750.3125,127206.22499999995,10438.312499999996,31918.199999999993,86596.39999999998,119044.92500000002,25597.66249999999,null,null,null,null,null,null,null,null,null,null,null,null,null,null,null,null,null,null,null,null,null,null,null],\"type\":\"scatter\"},{\"mode\":\"markers+text\",\"name\":\"Tier 0,1\",\"text\":[\"A Christmas Story Christmas\",\"Black Adam\",\"Dont Worry Darling\",\"Elvis\",\"Fantastic Beasts 3\",\"Father Of The Bride\",\"Gossip Girl\",\"Magic Mike 3\",\"Pretty Little Liars: Original Sin\",\"Salems Lot\",\"Sex Lives Of College Girls\",\"Super Pets\",\"Westworld\",\"nan\"],\"textfont\":{\"size\":8},\"textposition\":\"top center\",\"x\":[155513.34374999997,218542.09374999994,141322.7812499999,141322.7812499999,229894.7812499999,155513.34374999997,128220.30468749997,155513.34374999997,128220.30468749997,141322.7812499999,66872.12499999999,141322.7812499999,128220.30468749997,128220.30468749997],\"y\":[33662.537500000006,69728.47499999998,28024.462499999994,70159.54999999999,140319.18749999994,120236.71250000002,80504.4125,127400.99999999997,114813.43749999999,28018.162499999995,57426.950000000004,70159.54999999999,114813.43749999999,null],\"type\":\"scatter\"},{\"mode\":\"markers+text\",\"name\":\"Post Trailer\",\"text\":[\"Hacks\",\"The Time Traveler'S Wife\"],\"textfont\":{\"size\":8},\"textposition\":\"top center\",\"x\":[17025.24609375,37819.88671875001],\"y\":[21871.975000000002,31068.52500000001],\"type\":\"scatter\"}],                        {\"height\":600,\"shapes\":[{\"type\":\"line\",\"x0\":0,\"x1\":229894.7812499999,\"xref\":\"x\",\"y0\":0,\"y1\":229894.7812499999,\"yref\":\"y\"}],\"showlegend\":true,\"template\":{\"data\":{\"barpolar\":[{\"marker\":{\"line\":{\"color\":\"#E5ECF6\",\"width\":0.5},\"pattern\":{\"fillmode\":\"overlay\",\"size\":10,\"solidity\":0.2}},\"type\":\"barpolar\"}],\"bar\":[{\"error_x\":{\"color\":\"#2a3f5f\"},\"error_y\":{\"color\":\"#2a3f5f\"},\"marker\":{\"line\":{\"color\":\"#E5ECF6\",\"width\":0.5},\"pattern\":{\"fillmode\":\"overlay\",\"size\":10,\"solidity\":0.2}},\"type\":\"bar\"}],\"carpet\":[{\"aaxis\":{\"endlinecolor\":\"#2a3f5f\",\"gridcolor\":\"white\",\"linecolor\":\"white\",\"minorgridcolor\":\"white\",\"startlinecolor\":\"#2a3f5f\"},\"baxis\":{\"endlinecolor\":\"#2a3f5f\",\"gridcolor\":\"white\",\"linecolor\":\"white\",\"minorgridcolor\":\"white\",\"startlinecolor\":\"#2a3f5f\"},\"type\":\"carpet\"}],\"choropleth\":[{\"colorbar\":{\"outlinewidth\":0,\"ticks\":\"\"},\"type\":\"choropleth\"}],\"contourcarpet\":[{\"colorbar\":{\"outlinewidth\":0,\"ticks\":\"\"},\"type\":\"contourcarpet\"}],\"contour\":[{\"colorbar\":{\"outlinewidth\":0,\"ticks\":\"\"},\"colorscale\":[[0.0,\"#0d0887\"],[0.1111111111111111,\"#46039f\"],[0.2222222222222222,\"#7201a8\"],[0.3333333333333333,\"#9c179e\"],[0.4444444444444444,\"#bd3786\"],[0.5555555555555556,\"#d8576b\"],[0.6666666666666666,\"#ed7953\"],[0.7777777777777778,\"#fb9f3a\"],[0.8888888888888888,\"#fdca26\"],[1.0,\"#f0f921\"]],\"type\":\"contour\"}],\"heatmapgl\":[{\"colorbar\":{\"outlinewidth\":0,\"ticks\":\"\"},\"colorscale\":[[0.0,\"#0d0887\"],[0.1111111111111111,\"#46039f\"],[0.2222222222222222,\"#7201a8\"],[0.3333333333333333,\"#9c179e\"],[0.4444444444444444,\"#bd3786\"],[0.5555555555555556,\"#d8576b\"],[0.6666666666666666,\"#ed7953\"],[0.7777777777777778,\"#fb9f3a\"],[0.8888888888888888,\"#fdca26\"],[1.0,\"#f0f921\"]],\"type\":\"heatmapgl\"}],\"heatmap\":[{\"colorbar\":{\"outlinewidth\":0,\"ticks\":\"\"},\"colorscale\":[[0.0,\"#0d0887\"],[0.1111111111111111,\"#46039f\"],[0.2222222222222222,\"#7201a8\"],[0.3333333333333333,\"#9c179e\"],[0.4444444444444444,\"#bd3786\"],[0.5555555555555556,\"#d8576b\"],[0.6666666666666666,\"#ed7953\"],[0.7777777777777778,\"#fb9f3a\"],[0.8888888888888888,\"#fdca26\"],[1.0,\"#f0f921\"]],\"type\":\"heatmap\"}],\"histogram2dcontour\":[{\"colorbar\":{\"outlinewidth\":0,\"ticks\":\"\"},\"colorscale\":[[0.0,\"#0d0887\"],[0.1111111111111111,\"#46039f\"],[0.2222222222222222,\"#7201a8\"],[0.3333333333333333,\"#9c179e\"],[0.4444444444444444,\"#bd3786\"],[0.5555555555555556,\"#d8576b\"],[0.6666666666666666,\"#ed7953\"],[0.7777777777777778,\"#fb9f3a\"],[0.8888888888888888,\"#fdca26\"],[1.0,\"#f0f921\"]],\"type\":\"histogram2dcontour\"}],\"histogram2d\":[{\"colorbar\":{\"outlinewidth\":0,\"ticks\":\"\"},\"colorscale\":[[0.0,\"#0d0887\"],[0.1111111111111111,\"#46039f\"],[0.2222222222222222,\"#7201a8\"],[0.3333333333333333,\"#9c179e\"],[0.4444444444444444,\"#bd3786\"],[0.5555555555555556,\"#d8576b\"],[0.6666666666666666,\"#ed7953\"],[0.7777777777777778,\"#fb9f3a\"],[0.8888888888888888,\"#fdca26\"],[1.0,\"#f0f921\"]],\"type\":\"histogram2d\"}],\"histogram\":[{\"marker\":{\"pattern\":{\"fillmode\":\"overlay\",\"size\":10,\"solidity\":0.2}},\"type\":\"histogram\"}],\"mesh3d\":[{\"colorbar\":{\"outlinewidth\":0,\"ticks\":\"\"},\"type\":\"mesh3d\"}],\"parcoords\":[{\"line\":{\"colorbar\":{\"outlinewidth\":0,\"ticks\":\"\"}},\"type\":\"parcoords\"}],\"pie\":[{\"automargin\":true,\"type\":\"pie\"}],\"scatter3d\":[{\"line\":{\"colorbar\":{\"outlinewidth\":0,\"ticks\":\"\"}},\"marker\":{\"colorbar\":{\"outlinewidth\":0,\"ticks\":\"\"}},\"type\":\"scatter3d\"}],\"scattercarpet\":[{\"marker\":{\"colorbar\":{\"outlinewidth\":0,\"ticks\":\"\"}},\"type\":\"scattercarpet\"}],\"scattergeo\":[{\"marker\":{\"colorbar\":{\"outlinewidth\":0,\"ticks\":\"\"}},\"type\":\"scattergeo\"}],\"scattergl\":[{\"marker\":{\"colorbar\":{\"outlinewidth\":0,\"ticks\":\"\"}},\"type\":\"scattergl\"}],\"scattermapbox\":[{\"marker\":{\"colorbar\":{\"outlinewidth\":0,\"ticks\":\"\"}},\"type\":\"scattermapbox\"}],\"scatterpolargl\":[{\"marker\":{\"colorbar\":{\"outlinewidth\":0,\"ticks\":\"\"}},\"type\":\"scatterpolargl\"}],\"scatterpolar\":[{\"marker\":{\"colorbar\":{\"outlinewidth\":0,\"ticks\":\"\"}},\"type\":\"scatterpolar\"}],\"scatter\":[{\"marker\":{\"colorbar\":{\"outlinewidth\":0,\"ticks\":\"\"}},\"type\":\"scatter\"}],\"scatterternary\":[{\"marker\":{\"colorbar\":{\"outlinewidth\":0,\"ticks\":\"\"}},\"type\":\"scatterternary\"}],\"surface\":[{\"colorbar\":{\"outlinewidth\":0,\"ticks\":\"\"},\"colorscale\":[[0.0,\"#0d0887\"],[0.1111111111111111,\"#46039f\"],[0.2222222222222222,\"#7201a8\"],[0.3333333333333333,\"#9c179e\"],[0.4444444444444444,\"#bd3786\"],[0.5555555555555556,\"#d8576b\"],[0.6666666666666666,\"#ed7953\"],[0.7777777777777778,\"#fb9f3a\"],[0.8888888888888888,\"#fdca26\"],[1.0,\"#f0f921\"]],\"type\":\"surface\"}],\"table\":[{\"cells\":{\"fill\":{\"color\":\"#EBF0F8\"},\"line\":{\"color\":\"white\"}},\"header\":{\"fill\":{\"color\":\"#C8D4E3\"},\"line\":{\"color\":\"white\"}},\"type\":\"table\"}]},\"layout\":{\"annotationdefaults\":{\"arrowcolor\":\"#2a3f5f\",\"arrowhead\":0,\"arrowwidth\":1},\"autotypenumbers\":\"strict\",\"coloraxis\":{\"colorbar\":{\"outlinewidth\":0,\"ticks\":\"\"}},\"colorscale\":{\"diverging\":[[0,\"#8e0152\"],[0.1,\"#c51b7d\"],[0.2,\"#de77ae\"],[0.3,\"#f1b6da\"],[0.4,\"#fde0ef\"],[0.5,\"#f7f7f7\"],[0.6,\"#e6f5d0\"],[0.7,\"#b8e186\"],[0.8,\"#7fbc41\"],[0.9,\"#4d9221\"],[1,\"#276419\"]],\"sequential\":[[0.0,\"#0d0887\"],[0.1111111111111111,\"#46039f\"],[0.2222222222222222,\"#7201a8\"],[0.3333333333333333,\"#9c179e\"],[0.4444444444444444,\"#bd3786\"],[0.5555555555555556,\"#d8576b\"],[0.6666666666666666,\"#ed7953\"],[0.7777777777777778,\"#fb9f3a\"],[0.8888888888888888,\"#fdca26\"],[1.0,\"#f0f921\"]],\"sequentialminus\":[[0.0,\"#0d0887\"],[0.1111111111111111,\"#46039f\"],[0.2222222222222222,\"#7201a8\"],[0.3333333333333333,\"#9c179e\"],[0.4444444444444444,\"#bd3786\"],[0.5555555555555556,\"#d8576b\"],[0.6666666666666666,\"#ed7953\"],[0.7777777777777778,\"#fb9f3a\"],[0.8888888888888888,\"#fdca26\"],[1.0,\"#f0f921\"]]},\"colorway\":[\"#636efa\",\"#EF553B\",\"#00cc96\",\"#ab63fa\",\"#FFA15A\",\"#19d3f3\",\"#FF6692\",\"#B6E880\",\"#FF97FF\",\"#FECB52\"],\"font\":{\"color\":\"#2a3f5f\"},\"geo\":{\"bgcolor\":\"white\",\"lakecolor\":\"white\",\"landcolor\":\"#E5ECF6\",\"showlakes\":true,\"showland\":true,\"subunitcolor\":\"white\"},\"hoverlabel\":{\"align\":\"left\"},\"hovermode\":\"closest\",\"mapbox\":{\"style\":\"light\"},\"paper_bgcolor\":\"white\",\"plot_bgcolor\":\"#E5ECF6\",\"polar\":{\"angularaxis\":{\"gridcolor\":\"white\",\"linecolor\":\"white\",\"ticks\":\"\"},\"bgcolor\":\"#E5ECF6\",\"radialaxis\":{\"gridcolor\":\"white\",\"linecolor\":\"white\",\"ticks\":\"\"}},\"scene\":{\"xaxis\":{\"backgroundcolor\":\"#E5ECF6\",\"gridcolor\":\"white\",\"gridwidth\":2,\"linecolor\":\"white\",\"showbackground\":true,\"ticks\":\"\",\"zerolinecolor\":\"white\"},\"yaxis\":{\"backgroundcolor\":\"#E5ECF6\",\"gridcolor\":\"white\",\"gridwidth\":2,\"linecolor\":\"white\",\"showbackground\":true,\"ticks\":\"\",\"zerolinecolor\":\"white\"},\"zaxis\":{\"backgroundcolor\":\"#E5ECF6\",\"gridcolor\":\"white\",\"gridwidth\":2,\"linecolor\":\"white\",\"showbackground\":true,\"ticks\":\"\",\"zerolinecolor\":\"white\"}},\"shapedefaults\":{\"line\":{\"color\":\"#2a3f5f\"}},\"ternary\":{\"aaxis\":{\"gridcolor\":\"white\",\"linecolor\":\"white\",\"ticks\":\"\"},\"baxis\":{\"gridcolor\":\"white\",\"linecolor\":\"white\",\"ticks\":\"\"},\"bgcolor\":\"#E5ECF6\",\"caxis\":{\"gridcolor\":\"white\",\"linecolor\":\"white\",\"ticks\":\"\"}},\"title\":{\"x\":0.05},\"xaxis\":{\"automargin\":true,\"gridcolor\":\"white\",\"linecolor\":\"white\",\"ticks\":\"\",\"title\":{\"standoff\":15},\"zerolinecolor\":\"white\",\"zerolinewidth\":2},\"yaxis\":{\"automargin\":true,\"gridcolor\":\"white\",\"linecolor\":\"white\",\"ticks\":\"\",\"title\":{\"standoff\":15},\"zerolinecolor\":\"white\",\"zerolinewidth\":2}}},\"title\":{\"text\":\"Marketing vs. PSI prediction\"},\"width\":600,\"xaxis\":{\"title\":{\"text\":\"PSI first views\"}},\"yaxis\":{\"title\":{\"text\":\"Marketing scaled FV\"}}},                        {\"responsive\": true}                    ).then(function(){\n",
       "                            \n",
       "var gd = document.getElementById('921a318b-936f-47df-bc0b-9c2e93f12fbc');\n",
       "var x = new MutationObserver(function (mutations, observer) {{\n",
       "        var display = window.getComputedStyle(gd).display;\n",
       "        if (!display || display === 'none') {{\n",
       "            console.log([gd, 'removed!']);\n",
       "            Plotly.purge(gd);\n",
       "            observer.disconnect();\n",
       "        }}\n",
       "}});\n",
       "\n",
       "// Listen for the removal of the full notebook cells\n",
       "var notebookContainer = gd.closest('#notebook-container');\n",
       "if (notebookContainer) {{\n",
       "    x.observe(notebookContainer, {childList: true});\n",
       "}}\n",
       "\n",
       "// Listen for the clearing of the current output cell\n",
       "var outputEl = gd.closest('.output');\n",
       "if (outputEl) {{\n",
       "    x.observe(outputEl, {childList: true});\n",
       "}}\n",
       "\n",
       "                        })                };                });            </script>        </div>"
      ]
     },
     "metadata": {},
     "output_type": "display_data"
    }
   ],
   "source": [
    "\n",
    "def get_pred_actual_plot(df_plt, df_plt_top, df_trailer, title, x, y):\n",
    "    data = []\n",
    "\n",
    "    data.append(go.Scatter(\n",
    "                x=df_plt[x],\n",
    "                y=df_plt[y],\n",
    "                name='Tier 2',\n",
    "                mode='markers',# + text',\n",
    "                text= df_plt['title_name_x'].astype(str),\n",
    "                textposition=\"top center\"))\n",
    "    data.append(go.Scatter(\n",
    "                x=df_plt_top[x],\n",
    "                y=df_plt_top[y],\n",
    "                name='Tier 0,1',\n",
    "                mode='markers + text',\n",
    "                text= df_plt_top['title_name_x'].astype(str),\n",
    "                textposition=\"top center\"))\n",
    "    data.append(go.Scatter(\n",
    "                x=df_trailer[x],\n",
    "                y=df_trailer[y],\n",
    "                name='Post Trailer',\n",
    "                mode='markers + text',\n",
    "                text= df_trailer['title_name_x'].astype(str),\n",
    "                textposition=\"top center\"))\n",
    "    \n",
    "    py.offline.init_notebook_mode(connected=True) \n",
    "    \n",
    "    fig = go.Figure(data=data)\n",
    "\n",
    "    fig.update_traces(textfont_size=8)\n",
    "    fig.update_layout(\n",
    "        title=f'{title[0]}',\n",
    "        xaxis_title= title[1],\n",
    "        yaxis_title= title[2],\n",
    "        width=600,\n",
    "        height=600,\n",
    "        shapes=[\n",
    "        dict(\n",
    "            type= 'line',\n",
    "            yref= 'y', y0=0, y1= df_plt_top[x].max(),\n",
    "            xref= 'x', x0=0, x1= df_plt_top[x].max())],\n",
    "    showlegend=True)\n",
    "    py.offline.iplot(fig)\n",
    "    \n",
    "    return fig\n",
    "\n",
    "display(df_tot[df_tot.title_name_y.notnull() & df_tot.title_name_x.notnull()]\\\n",
    "[['title_name_x','imdb_id','season_number','effective_start_date','tier','category','trailer_date','first_views_mkt_scaled','first_views_psi']].sort_values(by='tier'))\n",
    "\n",
    "display(df_tot[['title_name_x','tier','first_views_mkt_scaled','first_views_psi']][df_tot.title_name_x!='House Of The Dragon'].groupby(by='tier').sum())\n",
    "\n",
    "filter_other = (df_tot.tier>1) & (df_tot.trailer_date.isnull())\n",
    "filter_top= (df_tot.tier<=1) & (df_tot.trailer_date.isnull())\n",
    "filter_trailer= (df_tot.trailer_date.notnull()) & (df_tot.title_name_x!='House Of The Dragon')\n",
    "\n",
    "\n",
    "fig = get_pred_actual_plot(df_tot[filter_other], df_tot[filter_top], df_tot[filter_trailer],['Marketing vs. PSI prediction', 'PSI first views','Marketing scaled FV', ], 'first_views_psi', 'first_views_mkt_scaled',)\n"
   ]
  },
  {
   "cell_type": "code",
   "execution_count": 135,
   "id": "8cd4966a",
   "metadata": {},
   "outputs": [
    {
     "data": {
      "text/html": [
       "<div>\n",
       "<style scoped>\n",
       "    .dataframe tbody tr th:only-of-type {\n",
       "        vertical-align: middle;\n",
       "    }\n",
       "\n",
       "    .dataframe tbody tr th {\n",
       "        vertical-align: top;\n",
       "    }\n",
       "\n",
       "    .dataframe thead th {\n",
       "        text-align: right;\n",
       "    }\n",
       "</style>\n",
       "<table border=\"1\" class=\"dataframe\">\n",
       "  <thead>\n",
       "    <tr style=\"text-align: right;\">\n",
       "      <th></th>\n",
       "      <th>title_name_x</th>\n",
       "      <th>imdb_id</th>\n",
       "      <th>premiere_date</th>\n",
       "      <th>season_number</th>\n",
       "      <th>content_category_x</th>\n",
       "      <th>days_since_premiere</th>\n",
       "      <th>first_views</th>\n",
       "      <th>title_name_y</th>\n",
       "      <th>effective_start_date</th>\n",
       "      <th>tier</th>\n",
       "      <th>tier_adj</th>\n",
       "      <th>content_category_y</th>\n",
       "      <th>category</th>\n",
       "      <th>prequel_count</th>\n",
       "      <th>prequel_featured_count</th>\n",
       "      <th>pred_date</th>\n",
       "      <th>first_views_pred_decay</th>\n",
       "    </tr>\n",
       "    <tr>\n",
       "      <th>tier</th>\n",
       "      <th></th>\n",
       "      <th></th>\n",
       "      <th></th>\n",
       "      <th></th>\n",
       "      <th></th>\n",
       "      <th></th>\n",
       "      <th></th>\n",
       "      <th></th>\n",
       "      <th></th>\n",
       "      <th></th>\n",
       "      <th></th>\n",
       "      <th></th>\n",
       "      <th></th>\n",
       "      <th></th>\n",
       "      <th></th>\n",
       "      <th></th>\n",
       "      <th></th>\n",
       "    </tr>\n",
       "  </thead>\n",
       "  <tbody>\n",
       "    <tr>\n",
       "      <th>1.0</th>\n",
       "      <td>0</td>\n",
       "      <td>1</td>\n",
       "      <td>0</td>\n",
       "      <td>1</td>\n",
       "      <td>0</td>\n",
       "      <td>0</td>\n",
       "      <td>0</td>\n",
       "      <td>1</td>\n",
       "      <td>1</td>\n",
       "      <td>1</td>\n",
       "      <td>1</td>\n",
       "      <td>1</td>\n",
       "      <td>1</td>\n",
       "      <td>1</td>\n",
       "      <td>1</td>\n",
       "      <td>1</td>\n",
       "      <td>1</td>\n",
       "    </tr>\n",
       "    <tr>\n",
       "      <th>2.0</th>\n",
       "      <td>0</td>\n",
       "      <td>29</td>\n",
       "      <td>0</td>\n",
       "      <td>29</td>\n",
       "      <td>0</td>\n",
       "      <td>0</td>\n",
       "      <td>0</td>\n",
       "      <td>29</td>\n",
       "      <td>29</td>\n",
       "      <td>29</td>\n",
       "      <td>29</td>\n",
       "      <td>29</td>\n",
       "      <td>29</td>\n",
       "      <td>29</td>\n",
       "      <td>29</td>\n",
       "      <td>29</td>\n",
       "      <td>29</td>\n",
       "    </tr>\n",
       "    <tr>\n",
       "      <th>3.0</th>\n",
       "      <td>0</td>\n",
       "      <td>80</td>\n",
       "      <td>0</td>\n",
       "      <td>80</td>\n",
       "      <td>0</td>\n",
       "      <td>0</td>\n",
       "      <td>0</td>\n",
       "      <td>80</td>\n",
       "      <td>80</td>\n",
       "      <td>80</td>\n",
       "      <td>80</td>\n",
       "      <td>80</td>\n",
       "      <td>80</td>\n",
       "      <td>80</td>\n",
       "      <td>80</td>\n",
       "      <td>80</td>\n",
       "      <td>80</td>\n",
       "    </tr>\n",
       "  </tbody>\n",
       "</table>\n",
       "</div>"
      ],
      "text/plain": [
       "      title_name_x  imdb_id  premiere_date  season_number  content_category_x  \\\n",
       "tier                                                                            \n",
       "1.0              0        1              0              1                   0   \n",
       "2.0              0       29              0             29                   0   \n",
       "3.0              0       80              0             80                   0   \n",
       "\n",
       "      days_since_premiere  first_views  title_name_y  effective_start_date  \\\n",
       "tier                                                                         \n",
       "1.0                     0            0             1                     1   \n",
       "2.0                     0            0            29                    29   \n",
       "3.0                     0            0            80                    80   \n",
       "\n",
       "      tier  tier_adj  content_category_y  category  prequel_count  \\\n",
       "tier                                                                \n",
       "1.0      1         1                   1         1              1   \n",
       "2.0     29        29                  29        29             29   \n",
       "3.0     80        80                  80        80             80   \n",
       "\n",
       "      prequel_featured_count  pred_date  first_views_pred_decay  \n",
       "tier                                                             \n",
       "1.0                        1          1                       1  \n",
       "2.0                       29         29                      29  \n",
       "3.0                       80         80                      80  "
      ]
     },
     "metadata": {},
     "output_type": "display_data"
    }
   ],
   "source": [
    "# display(df_psi.groupby('tier').count())\n",
    "# display(df_tot.imdb_id.isnull().groupby(df_tot['tier']).sum().astype(int).reset_index(name='count'))\n",
    "display(df_tot_raw[(df_tot_raw.title_name_x.isnull()) & (df_tot_raw.effective_start_date<'2023-01-01')].groupby(df_tot_raw['tier']).count())"
   ]
  },
  {
   "cell_type": "code",
   "execution_count": null,
   "id": "1301e25d",
   "metadata": {},
   "outputs": [],
   "source": [
    "## Title total \n",
    "querystr = '''\n",
    "select * \n",
    "from MAX_PROD.CONTENT_ANALYTICS.PSI_DAILY_RW_MEAN_FORECAST\n",
    "where effective_start_date>='2021-01-01' and effective_start_date<'2022-01-01'\n",
    "'''\n",
    "\n",
    "schedule='beta'\n",
    "\n",
    "cursor_list = ctx.execute_string(\n",
    "    querystr\n",
    "    )\n",
    "df_actual = pd.DataFrame.from_records(cursor_list[-1].fetchall(), columns=[x[0] for x in cursor_list[-1].description])\n",
    "df_actual.columns= df_actual.columns.str.lower()\n",
    "df_actual.head(2)"
   ]
  }
 ],
 "metadata": {
  "kernelspec": {
   "display_name": "conda_python3",
   "language": "python",
   "name": "conda_python3"
  },
  "language_info": {
   "codemirror_mode": {
    "name": "ipython",
    "version": 3
   },
   "file_extension": ".py",
   "mimetype": "text/x-python",
   "name": "python",
   "nbconvert_exporter": "python",
   "pygments_lexer": "ipython3",
   "version": "3.6.13"
  }
 },
 "nbformat": 4,
 "nbformat_minor": 5
}
