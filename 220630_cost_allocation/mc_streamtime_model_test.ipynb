{
 "cells": [
  {
   "cell_type": "code",
   "execution_count": 1,
   "id": "83e7b20f",
   "metadata": {},
   "outputs": [
    {
     "ename": "ModuleNotFoundError",
     "evalue": "No module named 'matplotlib'",
     "output_type": "error",
     "traceback": [
      "\u001b[0;31m---------------------------------------------------------------------------\u001b[0m",
      "\u001b[0;31mModuleNotFoundError\u001b[0m                       Traceback (most recent call last)",
      "\u001b[0;32m/tmp/ipykernel_27641/3461017631.py\u001b[0m in \u001b[0;36m<module>\u001b[0;34m\u001b[0m\n\u001b[1;32m      1\u001b[0m \u001b[0;32mimport\u001b[0m \u001b[0mpandas\u001b[0m \u001b[0;32mas\u001b[0m \u001b[0mpd\u001b[0m\u001b[0;34m\u001b[0m\u001b[0;34m\u001b[0m\u001b[0m\n\u001b[1;32m      2\u001b[0m \u001b[0;32mimport\u001b[0m \u001b[0mnumpy\u001b[0m \u001b[0;32mas\u001b[0m \u001b[0mnp\u001b[0m\u001b[0;34m\u001b[0m\u001b[0;34m\u001b[0m\u001b[0m\n\u001b[0;32m----> 3\u001b[0;31m \u001b[0;32mimport\u001b[0m \u001b[0mmatplotlib\u001b[0m\u001b[0;34m.\u001b[0m\u001b[0mpyplot\u001b[0m \u001b[0;32mas\u001b[0m \u001b[0mplt\u001b[0m\u001b[0;34m\u001b[0m\u001b[0;34m\u001b[0m\u001b[0m\n\u001b[0m\u001b[1;32m      4\u001b[0m \u001b[0;32mfrom\u001b[0m \u001b[0msklearn\u001b[0m \u001b[0;32mimport\u001b[0m \u001b[0mlinear_model\u001b[0m\u001b[0;34m\u001b[0m\u001b[0;34m\u001b[0m\u001b[0m\n\u001b[1;32m      5\u001b[0m \u001b[0;32mfrom\u001b[0m \u001b[0mscipy\u001b[0m\u001b[0;34m.\u001b[0m\u001b[0moptimize\u001b[0m \u001b[0;32mimport\u001b[0m \u001b[0mcurve_fit\u001b[0m\u001b[0;34m\u001b[0m\u001b[0;34m\u001b[0m\u001b[0m\n",
      "\u001b[0;31mModuleNotFoundError\u001b[0m: No module named 'matplotlib'"
     ]
    }
   ],
   "source": [
    "import pandas as pd\n",
    "import numpy as np\n",
    "import matplotlib.pyplot as plt\n",
    "from sklearn import linear_model\n",
    "from scipy.optimize import curve_fit"
   ]
  },
  {
   "cell_type": "markdown",
   "id": "68760b1f",
   "metadata": {},
   "source": [
    "## Sub Duration vs Churn Rate (using past month viewership) "
   ]
  },
  {
   "cell_type": "code",
   "execution_count": 2,
   "id": "51556a7f",
   "metadata": {},
   "outputs": [
    {
     "data": {
      "text/html": [
       "<div>\n",
       "<style scoped>\n",
       "    .dataframe tbody tr th:only-of-type {\n",
       "        vertical-align: middle;\n",
       "    }\n",
       "\n",
       "    .dataframe tbody tr th {\n",
       "        vertical-align: top;\n",
       "    }\n",
       "\n",
       "    .dataframe thead th {\n",
       "        text-align: right;\n",
       "    }\n",
       "</style>\n",
       "<table border=\"1\" class=\"dataframe\">\n",
       "  <thead>\n",
       "    <tr style=\"text-align: right;\">\n",
       "      <th></th>\n",
       "      <th>hbo_uuid</th>\n",
       "      <th>provider_user_id</th>\n",
       "      <th>sub_month</th>\n",
       "      <th>is_cancel</th>\n",
       "      <th>is_reconnect</th>\n",
       "      <th>ttl_stream_hrs</th>\n",
       "    </tr>\n",
       "  </thead>\n",
       "  <tbody>\n",
       "    <tr>\n",
       "      <th>0</th>\n",
       "      <td>873ba6fe1aa28c01396541cf1b1d652a987b73d3caeb80...</td>\n",
       "      <td>hqLiJrJOUqDZWn0vItOHJlw3ZJGTgvayqbDVBU9Ug6g=</td>\n",
       "      <td>1</td>\n",
       "      <td>False</td>\n",
       "      <td>False</td>\n",
       "      <td>13.277222</td>\n",
       "    </tr>\n",
       "    <tr>\n",
       "      <th>1</th>\n",
       "      <td>be4efeff6f8b7b6d8786b8118cc4c75aae809e614fed63...</td>\n",
       "      <td>P9CBMS4paCo4iWYB0i1xnyTPAob16jpOzzTppjjZR/k=</td>\n",
       "      <td>14</td>\n",
       "      <td>False</td>\n",
       "      <td>False</td>\n",
       "      <td>29.404167</td>\n",
       "    </tr>\n",
       "    <tr>\n",
       "      <th>2</th>\n",
       "      <td>7b37bc933267c65438284ec4732559ab407ab76d9c112a...</td>\n",
       "      <td>XQpfAmkgwARPwT6xnfW9d1MDdPafMksJdtOh+hZre+4=</td>\n",
       "      <td>15</td>\n",
       "      <td>True</td>\n",
       "      <td>False</td>\n",
       "      <td>112.493333</td>\n",
       "    </tr>\n",
       "    <tr>\n",
       "      <th>3</th>\n",
       "      <td>28d8a71ea9f038bdeb5966018f9f08a566f45a29cddc19...</td>\n",
       "      <td>IW5csdP6EHQHx6Hcwi14lyXnVqNou93jdBvOSNieo9Y=</td>\n",
       "      <td>2</td>\n",
       "      <td>False</td>\n",
       "      <td>False</td>\n",
       "      <td>755.380556</td>\n",
       "    </tr>\n",
       "    <tr>\n",
       "      <th>4</th>\n",
       "      <td>4bc67ac626e5465d0aa2d9ac4fad4dfc1799b28c0560db...</td>\n",
       "      <td>Mf5Vx3HM6reFnvJwdPi6ya4Qc44o8leytDQobVURkiA=</td>\n",
       "      <td>1</td>\n",
       "      <td>False</td>\n",
       "      <td>False</td>\n",
       "      <td>71.177222</td>\n",
       "    </tr>\n",
       "  </tbody>\n",
       "</table>\n",
       "</div>"
      ],
      "text/plain": [
       "                                            hbo_uuid  \\\n",
       "0  873ba6fe1aa28c01396541cf1b1d652a987b73d3caeb80...   \n",
       "1  be4efeff6f8b7b6d8786b8118cc4c75aae809e614fed63...   \n",
       "2  7b37bc933267c65438284ec4732559ab407ab76d9c112a...   \n",
       "3  28d8a71ea9f038bdeb5966018f9f08a566f45a29cddc19...   \n",
       "4  4bc67ac626e5465d0aa2d9ac4fad4dfc1799b28c0560db...   \n",
       "\n",
       "                               provider_user_id  sub_month  is_cancel  \\\n",
       "0  hqLiJrJOUqDZWn0vItOHJlw3ZJGTgvayqbDVBU9Ug6g=          1      False   \n",
       "1  P9CBMS4paCo4iWYB0i1xnyTPAob16jpOzzTppjjZR/k=         14      False   \n",
       "2  XQpfAmkgwARPwT6xnfW9d1MDdPafMksJdtOh+hZre+4=         15       True   \n",
       "3  IW5csdP6EHQHx6Hcwi14lyXnVqNou93jdBvOSNieo9Y=          2      False   \n",
       "4  Mf5Vx3HM6reFnvJwdPi6ya4Qc44o8leytDQobVURkiA=          1      False   \n",
       "\n",
       "   is_reconnect  ttl_stream_hrs  \n",
       "0         False       13.277222  \n",
       "1         False       29.404167  \n",
       "2         False      112.493333  \n",
       "3         False      755.380556  \n",
       "4         False       71.177222  "
      ]
     },
     "execution_count": 2,
     "metadata": {},
     "output_type": "execute_result"
    }
   ],
   "source": [
    "df = pd.read_csv('streamtime_test_agg.csv', error_bad_lines=False, sep='\\t')\n",
    "df.columns = df.columns.str.lower()\n",
    "df.head()"
   ]
  },
  {
   "cell_type": "code",
   "execution_count": 8,
   "id": "ec876137",
   "metadata": {},
   "outputs": [
    {
     "data": {
      "text/plain": [
       "array([0.16496271, 0.11736431, 0.10495825, 0.08306961, 0.06763904,\n",
       "       0.06959595, 0.06568037, 0.05037328, 0.05056635, 0.05084164,\n",
       "       0.04441043, 0.04116373, 0.03249469, 0.02622859, 0.02892524])"
      ]
     },
     "execution_count": 8,
     "metadata": {},
     "output_type": "execute_result"
    }
   ],
   "source": [
    "df.groupby(['sub_month'])['is_cancel'].mean().values"
   ]
  },
  {
   "cell_type": "code",
   "execution_count": 9,
   "id": "4ccce9d6",
   "metadata": {},
   "outputs": [],
   "source": [
    "upper_= {}\n",
    "columns = ['ttl_stream_hrs']\n",
    "#df = df.loc[df['ttl_stream_hrs']>0,:]\n",
    "upper_ = df['ttl_stream_hrs'].quantile(0.99)\n",
    "#lower_ = df['ttl_stream_hrs'].quantile(0.01)\n",
    "#df = df.loc[df['ttl_stream_hrs'].between(lower_, upper_), :]\n",
    "df = df.loc[df['ttl_stream_hrs']<=upper_, :]  \n",
    "df = df.reset_index(drop = True)\n"
   ]
  },
  {
   "cell_type": "code",
   "execution_count": 10,
   "id": "5726c64c",
   "metadata": {},
   "outputs": [],
   "source": [
    "nbins = 100\n",
    "df['ttl_stream_hrs_bin'] = pd.qcut(df['ttl_stream_hrs'], np.linspace(0,1,nbins))\n",
    "\n",
    "df['ttl_stream_hrs_bin'] = df['ttl_stream_hrs_bin'].apply(lambda x: (x.left+x.right)/2)\n",
    "df['ttl_stream_hrs_bin'] = df['ttl_stream_hrs_bin'].astype('float')\n",
    "df['churn'] = 1*df['is_cancel'] \n",
    "df['retention'] = 1-1*df['is_cancel'] "
   ]
  },
  {
   "cell_type": "code",
   "execution_count": 29,
   "id": "36ba9bd3",
   "metadata": {},
   "outputs": [
    {
     "data": {
      "text/plain": [
       "<AxesSubplot:xlabel='ttl_stream_hrs_bin'>"
      ]
     },
     "execution_count": 29,
     "metadata": {},
     "output_type": "execute_result"
    },
    {
     "data": {
      "image/png": "[encoded data removed]",
      "text/plain": [
       "<Figure size 432x288 with 1 Axes>"
      ]
     },
     "metadata": {
      "needs_background": "light"
     },
     "output_type": "display_data"
    }
   ],
   "source": [
    "prob = df.groupby(['ttl_stream_hrs_bin']).agg({'churn':'mean'})\n",
    "(prob).plot()"
   ]
  },
  {
   "cell_type": "code",
   "execution_count": 27,
   "id": "440d2738",
   "metadata": {},
   "outputs": [
    {
     "data": {
      "text/html": [
       "<div>\n",
       "<style scoped>\n",
       "    .dataframe tbody tr th:only-of-type {\n",
       "        vertical-align: middle;\n",
       "    }\n",
       "\n",
       "    .dataframe tbody tr th {\n",
       "        vertical-align: top;\n",
       "    }\n",
       "\n",
       "    .dataframe thead th {\n",
       "        text-align: right;\n",
       "    }\n",
       "</style>\n",
       "<table border=\"1\" class=\"dataframe\">\n",
       "  <thead>\n",
       "    <tr style=\"text-align: right;\">\n",
       "      <th></th>\n",
       "      <th>churn</th>\n",
       "    </tr>\n",
       "    <tr>\n",
       "      <th>ttl_stream_hrs_bin</th>\n",
       "      <th></th>\n",
       "    </tr>\n",
       "  </thead>\n",
       "  <tbody>\n",
       "    <tr>\n",
       "      <th>0.20215</th>\n",
       "      <td>0.161278</td>\n",
       "    </tr>\n",
       "    <tr>\n",
       "      <th>0.57350</th>\n",
       "      <td>0.151889</td>\n",
       "    </tr>\n",
       "    <tr>\n",
       "      <th>0.97550</th>\n",
       "      <td>0.155800</td>\n",
       "    </tr>\n",
       "    <tr>\n",
       "      <th>1.34750</th>\n",
       "      <td>0.129841</td>\n",
       "    </tr>\n",
       "    <tr>\n",
       "      <th>1.65550</th>\n",
       "      <td>0.143336</td>\n",
       "    </tr>\n",
       "    <tr>\n",
       "      <th>...</th>\n",
       "      <td>...</td>\n",
       "    </tr>\n",
       "    <tr>\n",
       "      <th>42.79150</th>\n",
       "      <td>0.079292</td>\n",
       "    </tr>\n",
       "    <tr>\n",
       "      <th>44.29950</th>\n",
       "      <td>0.080677</td>\n",
       "    </tr>\n",
       "    <tr>\n",
       "      <th>45.88050</th>\n",
       "      <td>0.080246</td>\n",
       "    </tr>\n",
       "    <tr>\n",
       "      <th>47.54650</th>\n",
       "      <td>0.078705</td>\n",
       "    </tr>\n",
       "    <tr>\n",
       "      <th>49.29600</th>\n",
       "      <td>0.080503</td>\n",
       "    </tr>\n",
       "  </tbody>\n",
       "</table>\n",
       "<p>77 rows × 1 columns</p>\n",
       "</div>"
      ],
      "text/plain": [
       "                       churn\n",
       "ttl_stream_hrs_bin          \n",
       "0.20215             0.161278\n",
       "0.57350             0.151889\n",
       "0.97550             0.155800\n",
       "1.34750             0.129841\n",
       "1.65550             0.143336\n",
       "...                      ...\n",
       "42.79150            0.079292\n",
       "44.29950            0.080677\n",
       "45.88050            0.080246\n",
       "47.54650            0.078705\n",
       "49.29600            0.080503\n",
       "\n",
       "[77 rows x 1 columns]"
      ]
     },
     "execution_count": 27,
     "metadata": {},
     "output_type": "execute_result"
    }
   ],
   "source": [
    "tmp = df.groupby(['ttl_stream_hrs_bin']).agg({'churn':'mean'})\n",
    "tmp[tmp.index<=50]"
   ]
  },
  {
   "cell_type": "code",
   "execution_count": 24,
   "id": "8293a8fb",
   "metadata": {},
   "outputs": [
    {
     "data": {
      "text/plain": [
       "<AxesSubplot:>"
      ]
     },
     "execution_count": 24,
     "metadata": {},
     "output_type": "execute_result"
    },
    {
     "data": {
      "image/png": "[encoded data removed]",
      "text/plain": [
       "<Figure size 432x288 with 1 Axes>"
      ]
     },
     "metadata": {
      "needs_background": "light"
     },
     "output_type": "display_data"
    }
   ],
   "source": [
    "df['ttl_stream_hrs'].hist(bins = 100)"
   ]
  },
  {
   "cell_type": "code",
   "execution_count": 7,
   "id": "3a7666a9",
   "metadata": {},
   "outputs": [
    {
     "name": "stderr",
     "output_type": "stream",
     "text": [
      "/opt/anaconda3/lib/python3.7/site-packages/ipykernel_launcher.py:3: SettingWithCopyWarning: \n",
      "A value is trying to be set on a copy of a slice from a DataFrame.\n",
      "Try using .loc[row_indexer,col_indexer] = value instead\n",
      "\n",
      "See the caveats in the documentation: https://pandas.pydata.org/pandas-docs/stable/user_guide/indexing.html#returning-a-view-versus-a-copy\n",
      "  This is separate from the ipykernel package so we can avoid doing imports until\n"
     ]
    },
    {
     "data": {
      "text/plain": [
       "0.8387216994316593"
      ]
     },
     "execution_count": 7,
     "metadata": {},
     "output_type": "execute_result"
    }
   ],
   "source": [
    "# baseline\n",
    "tmp = prob.loc[prob['ttl_stream_hrs_bin']==0.20215,:]\n",
    "tmp['ttl_churn'] = tmp['churn']*tmp['retention']\n",
    "1-tmp['ttl_churn'].sum()/tmp['retention'].sum()"
   ]
  },
  {
   "cell_type": "code",
   "execution_count": 8,
   "id": "cc3db843",
   "metadata": {},
   "outputs": [
    {
     "data": {
      "text/plain": [
       "0.9052575195171845"
      ]
     },
     "execution_count": 8,
     "metadata": {},
     "output_type": "execute_result"
    }
   ],
   "source": [
    "# total avg\n",
    "tmp = prob.copy()\n",
    "tmp['ttl_churn'] = tmp['churn']*tmp['retention']\n",
    "1-tmp['ttl_churn'].sum()/tmp['retention'].sum()"
   ]
  },
  {
   "cell_type": "markdown",
   "id": "07355224",
   "metadata": {},
   "source": [
    "### Retention rate over sub cohort"
   ]
  },
  {
   "cell_type": "code",
   "execution_count": 9,
   "id": "fd7545eb",
   "metadata": {},
   "outputs": [
    {
     "name": "stderr",
     "output_type": "stream",
     "text": [
      "/opt/anaconda3/lib/python3.7/site-packages/ipykernel_launcher.py:19: UserWarning: Matplotlib is currently using module://ipykernel.pylab.backend_inline, which is a non-GUI backend, so cannot show the figure.\n"
     ]
    },
    {
     "data": {
      "image/png": "[encoded data removed]",
      "text/plain": [
       "<Figure size 576x360 with 1 Axes>"
      ]
     },
     "metadata": {
      "needs_background": "light"
     },
     "output_type": "display_data"
    }
   ],
   "source": [
    "fig, ax = plt.subplots(1, 1, figsize=(8, 5))\n",
    "start_N=1\n",
    "end_N=5\n",
    "label_list = []\n",
    "for n in range(start_N,end_N+1):\n",
    "    tmp = prob.loc[prob['sub_month']==n, :]\n",
    "    tmp.index = tmp['ttl_stream_hrs_bin'].astype('float')\n",
    "    tmp = tmp[tmp.index<150]\n",
    "    label = f'Sub month: {n}'\n",
    "    ax.scatter(x=tmp['ttl_stream_hrs_bin'], y=100 - 100*tmp['churn'], alpha = 0.5)\n",
    "    #ax.fill_between(tmp.index, 100-100*tmp['approx_lowerbound'], 100-100*tmp['approx_upperbound'], alpha = 0.2, label = label)\n",
    "    label_list.append(label)\n",
    "    \n",
    "ax.set_xlabel = 'Total stream hours'\n",
    "ax.set_ylabel = 'Churn rate'\n",
    "ax.legend(label_list, loc='lower right')\n",
    "fig.text(0.5, 0.04, 'Total stream hours in the past month', size = 14, ha='center', va='center')\n",
    "fig.text(0.06, 0.5, 'Retention rate(%)', rotation = 90, size = 14, ha='center', va='center')\n",
    "fig.show()"
   ]
  },
  {
   "cell_type": "code",
   "execution_count": 10,
   "id": "80c1666c",
   "metadata": {},
   "outputs": [],
   "source": [
    "tmp = prob.loc[prob['sub_month']==1, :]"
   ]
  },
  {
   "cell_type": "markdown",
   "id": "f027e116",
   "metadata": {},
   "source": [
    "# Estimation "
   ]
  },
  {
   "cell_type": "markdown",
   "id": "566ba798",
   "metadata": {},
   "source": [
    "### Dont work: Linear Twedie regression, Logistic regression, Kernel ridge regression"
   ]
  },
  {
   "cell_type": "code",
   "execution_count": 11,
   "id": "59c1b027",
   "metadata": {},
   "outputs": [],
   "source": [
    "prob_tmp = prob.loc[prob['sub_month']==15, :]"
   ]
  },
  {
   "cell_type": "code",
   "execution_count": 12,
   "id": "b1a08f78",
   "metadata": {},
   "outputs": [],
   "source": [
    "def weibull_curve(x, c, loc, scale, int_):\n",
    "    return c*((x-loc)**(c-1))*(np.exp(-(x-loc)**c))/scale + int_"
   ]
  },
  {
   "cell_type": "code",
   "execution_count": 13,
   "id": "67adffab",
   "metadata": {},
   "outputs": [
    {
     "data": {
      "text/plain": [
       "32537"
      ]
     },
     "execution_count": 13,
     "metadata": {},
     "output_type": "execute_result"
    }
   ],
   "source": [
    "prob_tmp['retention'].sum()"
   ]
  },
  {
   "cell_type": "code",
   "execution_count": 14,
   "id": "a5bf4ce0",
   "metadata": {},
   "outputs": [
    {
     "name": "stdout",
     "output_type": "stream",
     "text": [
      "1 0.2815278801432517 0.3201541401634529\n",
      "zero point 0.5600453818286636\n",
      "approx. upper point 0.8609401765561936\n",
      "2 0.09831616563835575 0.14238890216079514\n",
      "zero point 0.7824975142846308\n",
      "approx. upper point 0.9029743018625982\n",
      "3 0.05444206766269078 0.1204041188497843\n",
      "zero point 0.8243430817549438\n",
      "approx. upper point 0.9118167560484208\n",
      "4 0.04226538112515386 0.10627598426416232\n",
      "zero point 0.8538926308570647\n",
      "approx. upper point 0.9281637322967904\n",
      "5 0.048203255203011816 0.10281559957130516\n",
      "zero point 0.8686896745236733\n",
      "approx. upper point 0.9442628679395617\n",
      "6 0.03657980436050682 0.08882681895799613\n",
      "zero point 0.8770178349167456\n",
      "approx. upper point 0.9397211517020987\n",
      "7 0.02911194306577266 0.09328791170593179\n",
      "zero point 0.8832400122955202\n",
      "approx. upper point 0.9444401545307551\n",
      "8 0.03620780129692818 0.08006496843221306\n",
      "zero point 0.8994063647392234\n",
      "approx. upper point 0.9576227944785607\n",
      "9 0.012402112772958045 0.06859819707792841\n",
      "zero point 0.91747997078224\n",
      "approx. upper point 0.95798286373629\n"
     ]
    },
    {
     "data": {
      "image/png": "[encoded data removed]",
      "text/plain": [
       "<Figure size 576x432 with 1 Axes>"
      ]
     },
     "metadata": {
      "needs_background": "light"
     },
     "output_type": "display_data"
    },
    {
     "data": {
      "image/png": "[encoded data removed]",
      "text/plain": [
       "<Figure size 576x432 with 1 Axes>"
      ]
     },
     "metadata": {
      "needs_background": "light"
     },
     "output_type": "display_data"
    },
    {
     "data": {
      "image/png": "[encoded data removed]",
      "text/plain": [
       "<Figure size 576x432 with 1 Axes>"
      ]
     },
     "metadata": {
      "needs_background": "light"
     },
     "output_type": "display_data"
    },
    {
     "data": {
      "image/png": "[encoded data removed]",
      "text/plain": [
       "<Figure size 576x432 with 1 Axes>"
      ]
     },
     "metadata": {
      "needs_background": "light"
     },
     "output_type": "display_data"
    },
    {
     "data": {
      "image/png": "[encoded data removed]",
      "text/plain": [
       "<Figure size 576x432 with 1 Axes>"
      ]
     },
     "metadata": {
      "needs_background": "light"
     },
     "output_type": "display_data"
    },
    {
     "data": {
      "image/png": "[encoded data removed]",
      "text/plain": [
       "<Figure size 576x432 with 1 Axes>"
      ]
     },
     "metadata": {
      "needs_background": "light"
     },
     "output_type": "display_data"
    },
    {
     "data": {
      "image/png": "[encoded data removed]",
      "text/plain": [
       "<Figure size 576x432 with 1 Axes>"
      ]
     },
     "metadata": {
      "needs_background": "light"
     },
     "output_type": "display_data"
    },
    {
     "data": {
      "image/png": "[encoded data removed]",
      "text/plain": [
       "<Figure size 576x432 with 1 Axes>"
      ]
     },
     "metadata": {
      "needs_background": "light"
     },
     "output_type": "display_data"
    },
    {
     "data": {
      "image/png": "[encoded data removed]",
      "text/plain": [
       "<Figure size 576x432 with 1 Axes>"
      ]
     },
     "metadata": {
      "needs_background": "light"
     },
     "output_type": "display_data"
    }
   ],
   "source": [
    "max_ = 50\n",
    "rec = {'n':[], 'popt':[]}\n",
    "for n in range(1,10): \n",
    "    # estimation and plotting\n",
    "    prob_tmp = prob.loc[prob['sub_month']==n, :]\n",
    "    xdata = prob_tmp.ttl_stream_hrs_bin.astype('float').values\n",
    "    ydata = prob_tmp.churn.values\n",
    "    popt_no, pcov_no = curve_fit(weibull_curve, xdata, ydata, p0 = [0.1, 0.1, 0.1, 0], bounds = (-30, 30))\n",
    "    rec['popt'].append(popt_no)\n",
    "    rec['n'].append(n)\n",
    "\n",
    "    prob_tmp = prob.loc[((prob['sub_month']==n) & (prob['ttl_stream_hrs_bin']<= max_)), :]\n",
    "    \n",
    "    fig, ax = plt.subplots(1, 1, figsize=(8, 6))\n",
    "    ax.plot(np.linspace(0,max_,30), 100*(1-weibull_curve(np.linspace(0,max_,30), *popt_no)), color = 'black')\n",
    "    y_val = 100*(1-prob_tmp['churn']).values\n",
    "    x_val = prob_tmp['ttl_stream_hrs_bin'].values\n",
    "    ax.scatter(x_val, y_val)\n",
    "    #ax.set_ylim(35, 100)\n",
    "    ax.axvline(x = 0, linestyle = '--', color = 'black', linewidth = 0.5)\n",
    "    ax.axvline(x = 1.32, linestyle = '--', color = 'black', linewidth = 0.5)\n",
    "    ax.axvline(x = 4.90, linestyle = '--', color = 'black', linewidth = 0.5)\n",
    "    ax.axvline(x = 10.21, linestyle = '--', color = 'black', linewidth = 0.5)\n",
    "    ax.axvline(x = 13.83, linestyle = '--', color = 'black', linewidth = 0.5)\n",
    "    fig.text(0.5, 0.04, 'Total stream hours in the past month', size = 14, ha='center', va='center')\n",
    "    fig.text(0.06, 0.5, 'Retention rate(%)', rotation = 90, size = 14, ha='center', va='center')\n",
    "    fig.text(0.185, 0.9, 'A', rotation = 0, size = 14, ha='center', va='center')\n",
    "    fig.text(0.27, 0.9, 'B', rotation = 0, size = 14, ha='center', va='center')\n",
    "    fig.text(0.425, 0.9, 'C', rotation = 0, size = 14, ha='center', va='center')\n",
    "    fig.text(0.58, 0.9, 'D', rotation = 0, size = 14, ha='center', va='center')\n",
    "    \n",
    "    # calculate std to see if this month has to be considered\n",
    "    output = 1-weibull_curve([0,100], *popt_no)\n",
    "    fin_p = (output[0] + output[1])/2\n",
    "    std = (((fin_p*(1-fin_p))*(2/(prob_tmp['retention'].sum()/nbins)))**0.5)\n",
    "\n",
    "    output = 1-weibull_curve([0,100], *popt_no)\n",
    "    upper_ = (output[1] - output[0] + 2*std)\n",
    "    lower_ = (output[1] - output[0] - 2*std)\n",
    "    \n",
    "    print(n, lower_, upper_)\n",
    "    print('zero point {0}'.format(1 - weibull_curve(0, *popt_no)))\n",
    "    print('approx. upper point {0}'.format(1 - weibull_curve(200, *popt_no)))\n",
    "    if ((upper_>=0) & (lower_<=0)) :\n",
    "        print('Not Significant')\n",
    "        break\n",
    "\n",
    "max_n = n -1"
   ]
  },
  {
   "cell_type": "code",
   "execution_count": 15,
   "id": "b62adb1a",
   "metadata": {},
   "outputs": [
    {
     "data": {
      "text/plain": [
       "array([ 0.46665389, -9.28560279,  0.0960096 ,  0.08818169])"
      ]
     },
     "execution_count": 15,
     "metadata": {},
     "output_type": "execute_result"
    }
   ],
   "source": [
    "rec['popt'][2]"
   ]
  },
  {
   "cell_type": "code",
   "execution_count": 16,
   "id": "3673b02f",
   "metadata": {},
   "outputs": [],
   "source": [
    "x = np.linspace(0,max_,30)\n",
    "y = 100*(1-weibull_curve(np.linspace(0,max_,30), *popt_no))"
   ]
  },
  {
   "cell_type": "code",
   "execution_count": 17,
   "id": "9a752db5",
   "metadata": {},
   "outputs": [
    {
     "data": {
      "text/plain": [
       "<AxesSubplot:>"
      ]
     },
     "execution_count": 17,
     "metadata": {},
     "output_type": "execute_result"
    },
    {
     "data": {
      "image/png": "[encoded data removed]",
      "text/plain": [
       "<Figure size 432x288 with 1 Axes>"
      ]
     },
     "metadata": {
      "needs_background": "light"
     },
     "output_type": "display_data"
    }
   ],
   "source": [
    "np.log(pd.Series(y).diff()).plot()"
   ]
  },
  {
   "cell_type": "markdown",
   "id": "b40ea255",
   "metadata": {},
   "source": [
    "# Revenue Calculation"
   ]
  },
  {
   "cell_type": "code",
   "execution_count": 18,
   "id": "1958bb9c",
   "metadata": {},
   "outputs": [],
   "source": [
    "# use average retention rate for the future"
   ]
  },
  {
   "cell_type": "code",
   "execution_count": 19,
   "id": "347f4115",
   "metadata": {},
   "outputs": [],
   "source": [
    "tmp = df.groupby(['hbo_uuid'])['sub_month'].nunique()"
   ]
  },
  {
   "cell_type": "code",
   "execution_count": 20,
   "id": "c1381115",
   "metadata": {},
   "outputs": [
    {
     "data": {
      "text/html": [
       "<div>\n",
       "<style scoped>\n",
       "    .dataframe tbody tr th:only-of-type {\n",
       "        vertical-align: middle;\n",
       "    }\n",
       "\n",
       "    .dataframe tbody tr th {\n",
       "        vertical-align: top;\n",
       "    }\n",
       "\n",
       "    .dataframe thead th {\n",
       "        text-align: right;\n",
       "    }\n",
       "</style>\n",
       "<table border=\"1\" class=\"dataframe\">\n",
       "  <thead>\n",
       "    <tr style=\"text-align: right;\">\n",
       "      <th></th>\n",
       "      <th>hbo_uuid</th>\n",
       "      <th>provider_user_id</th>\n",
       "      <th>sub_month</th>\n",
       "      <th>is_cancel</th>\n",
       "      <th>is_reconnect</th>\n",
       "      <th>ttl_stream_hrs</th>\n",
       "      <th>ttl_stream_hrs_bin</th>\n",
       "      <th>churn</th>\n",
       "      <th>retention</th>\n",
       "    </tr>\n",
       "  </thead>\n",
       "  <tbody>\n",
       "    <tr>\n",
       "      <th>0</th>\n",
       "      <td>873ba6fe1aa28c01396541cf1b1d652a987b73d3caeb80...</td>\n",
       "      <td>hqLiJrJOUqDZWn0vItOHJlw3ZJGTgvayqbDVBU9Ug6g=</td>\n",
       "      <td>1</td>\n",
       "      <td>False</td>\n",
       "      <td>False</td>\n",
       "      <td>13.277222</td>\n",
       "      <td>13.3755</td>\n",
       "      <td>0</td>\n",
       "      <td>1</td>\n",
       "    </tr>\n",
       "    <tr>\n",
       "      <th>1</th>\n",
       "      <td>be4efeff6f8b7b6d8786b8118cc4c75aae809e614fed63...</td>\n",
       "      <td>P9CBMS4paCo4iWYB0i1xnyTPAob16jpOzzTppjjZR/k=</td>\n",
       "      <td>14</td>\n",
       "      <td>False</td>\n",
       "      <td>False</td>\n",
       "      <td>29.404167</td>\n",
       "      <td>29.0210</td>\n",
       "      <td>0</td>\n",
       "      <td>1</td>\n",
       "    </tr>\n",
       "    <tr>\n",
       "      <th>2</th>\n",
       "      <td>7b37bc933267c65438284ec4732559ab407ab76d9c112a...</td>\n",
       "      <td>XQpfAmkgwARPwT6xnfW9d1MDdPafMksJdtOh+hZre+4=</td>\n",
       "      <td>15</td>\n",
       "      <td>True</td>\n",
       "      <td>False</td>\n",
       "      <td>112.493333</td>\n",
       "      <td>113.6120</td>\n",
       "      <td>1</td>\n",
       "      <td>0</td>\n",
       "    </tr>\n",
       "    <tr>\n",
       "      <th>3</th>\n",
       "      <td>4bc67ac626e5465d0aa2d9ac4fad4dfc1799b28c0560db...</td>\n",
       "      <td>Mf5Vx3HM6reFnvJwdPi6ya4Qc44o8leytDQobVURkiA=</td>\n",
       "      <td>1</td>\n",
       "      <td>False</td>\n",
       "      <td>False</td>\n",
       "      <td>71.177222</td>\n",
       "      <td>71.1170</td>\n",
       "      <td>0</td>\n",
       "      <td>1</td>\n",
       "    </tr>\n",
       "    <tr>\n",
       "      <th>4</th>\n",
       "      <td>ef5b1a54d464cf2a351276b7e1209cb37c94fb13641ffe...</td>\n",
       "      <td>hCjevpu5sjFuK476/z4HhcJk/R6re4OsGMol0n6gvxM=</td>\n",
       "      <td>2</td>\n",
       "      <td>False</td>\n",
       "      <td>False</td>\n",
       "      <td>30.206667</td>\n",
       "      <td>29.9410</td>\n",
       "      <td>0</td>\n",
       "      <td>1</td>\n",
       "    </tr>\n",
       "  </tbody>\n",
       "</table>\n",
       "</div>"
      ],
      "text/plain": [
       "                                            hbo_uuid  \\\n",
       "0  873ba6fe1aa28c01396541cf1b1d652a987b73d3caeb80...   \n",
       "1  be4efeff6f8b7b6d8786b8118cc4c75aae809e614fed63...   \n",
       "2  7b37bc933267c65438284ec4732559ab407ab76d9c112a...   \n",
       "3  4bc67ac626e5465d0aa2d9ac4fad4dfc1799b28c0560db...   \n",
       "4  ef5b1a54d464cf2a351276b7e1209cb37c94fb13641ffe...   \n",
       "\n",
       "                               provider_user_id  sub_month  is_cancel  \\\n",
       "0  hqLiJrJOUqDZWn0vItOHJlw3ZJGTgvayqbDVBU9Ug6g=          1      False   \n",
       "1  P9CBMS4paCo4iWYB0i1xnyTPAob16jpOzzTppjjZR/k=         14      False   \n",
       "2  XQpfAmkgwARPwT6xnfW9d1MDdPafMksJdtOh+hZre+4=         15       True   \n",
       "3  Mf5Vx3HM6reFnvJwdPi6ya4Qc44o8leytDQobVURkiA=          1      False   \n",
       "4  hCjevpu5sjFuK476/z4HhcJk/R6re4OsGMol0n6gvxM=          2      False   \n",
       "\n",
       "   is_reconnect  ttl_stream_hrs  ttl_stream_hrs_bin  churn  retention  \n",
       "0         False       13.277222             13.3755      0          1  \n",
       "1         False       29.404167             29.0210      0          1  \n",
       "2         False      112.493333            113.6120      1          0  \n",
       "3         False       71.177222             71.1170      0          1  \n",
       "4         False       30.206667             29.9410      0          1  "
      ]
     },
     "execution_count": 20,
     "metadata": {},
     "output_type": "execute_result"
    }
   ],
   "source": [
    "df.head()"
   ]
  },
  {
   "cell_type": "code",
   "execution_count": 21,
   "id": "ee3d4ad2",
   "metadata": {},
   "outputs": [],
   "source": [
    "avg_retention = 1- df.groupby(['sub_month'])['churn'].mean()"
   ]
  },
  {
   "cell_type": "code",
   "execution_count": 22,
   "id": "9c7899b8",
   "metadata": {},
   "outputs": [
    {
     "data": {
      "text/plain": [
       "sub_month\n",
       "1     0.835011\n",
       "2     0.882475\n",
       "3     0.895083\n",
       "4     0.916798\n",
       "5     0.932314\n",
       "6     0.930342\n",
       "7     0.934147\n",
       "8     0.949595\n",
       "9     0.949469\n",
       "10    0.948990\n",
       "11    0.955687\n",
       "12    0.958666\n",
       "13    0.967468\n",
       "14    0.973862\n",
       "15    0.970864\n",
       "Name: churn, dtype: float64"
      ]
     },
     "execution_count": 22,
     "metadata": {},
     "output_type": "execute_result"
    }
   ],
   "source": [
    "avg_retention"
   ]
  },
  {
   "cell_type": "code",
   "execution_count": 23,
   "id": "826bbe21",
   "metadata": {},
   "outputs": [],
   "source": [
    "def n_month_state_prob(p, cur_n, avg_retention, max_n = 15):\n",
    "    base = p\n",
    "    total = p\n",
    "    for n in range(cur_n+1, max_n+1):\n",
    "        base = base * avg_retention[n]\n",
    "        total = total + base\n",
    "        \n",
    "    return total"
   ]
  },
  {
   "cell_type": "code",
   "execution_count": 24,
   "id": "fd96470f",
   "metadata": {},
   "outputs": [],
   "source": [
    "def ttl_churn_pct(p, cur_n, avg_retention, max_n = 15):\n",
    "    total = p\n",
    "    print(p)\n",
    "    for n in range(cur_n+1, max_n + 1):\n",
    "        print(avg_retention[n])\n",
    "        total *= avg_retention[n]\n",
    "    return 1 - total"
   ]
  },
  {
   "cell_type": "code",
   "execution_count": 25,
   "id": "cdde5a6a",
   "metadata": {},
   "outputs": [
    {
     "data": {
      "text/plain": [
       "0.09113676356958766"
      ]
     },
     "execution_count": 25,
     "metadata": {},
     "output_type": "execute_result"
    }
   ],
   "source": [
    "n_month_state_prob(0.51, 1, avg_retention, max_n = 15) - n_month_state_prob(0.5, 1, avg_retention, max_n = 15)"
   ]
  },
  {
   "cell_type": "code",
   "execution_count": 26,
   "id": "51d4ce83",
   "metadata": {},
   "outputs": [
    {
     "data": {
      "text/plain": [
       "9.113676356958704"
      ]
     },
     "execution_count": 26,
     "metadata": {},
     "output_type": "execute_result"
    }
   ],
   "source": [
    "n_month_state_prob(1, 1, avg_retention, max_n = 15)"
   ]
  },
  {
   "cell_type": "code",
   "execution_count": 27,
   "id": "b5e4a6f2",
   "metadata": {},
   "outputs": [
    {
     "data": {
      "text/plain": [
       "sub_month\n",
       "1     0.835011\n",
       "2     0.882475\n",
       "3     0.895083\n",
       "4     0.916798\n",
       "5     0.932314\n",
       "6     0.930342\n",
       "7     0.934147\n",
       "8     0.949595\n",
       "9     0.949469\n",
       "10    0.948990\n",
       "11    0.955687\n",
       "12    0.958666\n",
       "13    0.967468\n",
       "14    0.973862\n",
       "15    0.970864\n",
       "Name: churn, dtype: float64"
      ]
     },
     "execution_count": 27,
     "metadata": {},
     "output_type": "execute_result"
    }
   ],
   "source": [
    "avg_retention"
   ]
  },
  {
   "cell_type": "code",
   "execution_count": 28,
   "id": "3263b745",
   "metadata": {},
   "outputs": [
    {
     "data": {
      "text/plain": [
       "0.026723623827685714"
      ]
     },
     "execution_count": 28,
     "metadata": {},
     "output_type": "execute_result"
    }
   ],
   "source": [
    "0.01 + 0.01*avg_retention[2] + 0.01*avg_retention[2]*avg_retention[3]"
   ]
  },
  {
   "cell_type": "code",
   "execution_count": 29,
   "id": "fa17b4fc",
   "metadata": {},
   "outputs": [],
   "source": [
    "start_hours_tmp = [0, 1.32, 4.90, 10.21]\n",
    "end_hours_tmp = [1.32, 4.90, 10.21, 13.83]\n",
    "start_retention = (1 - weibull_curve(start_hours_tmp, *rec['popt'][0])) \n",
    "end_retention = (1 - weibull_curve(end_hours_tmp, *rec['popt'][0]))"
   ]
  },
  {
   "cell_type": "code",
   "execution_count": 30,
   "id": "4a58cf33",
   "metadata": {},
   "outputs": [
    {
     "data": {
      "text/plain": [
       "array([0.99184708, 1.03634159, 0.43549615, 0.11134829])"
      ]
     },
     "execution_count": 30,
     "metadata": {},
     "output_type": "execute_result"
    }
   ],
   "source": [
    "9.113676356958704*(end_retention - start_retention)"
   ]
  },
  {
   "cell_type": "code",
   "execution_count": 31,
   "id": "2cd2e603",
   "metadata": {},
   "outputs": [
    {
     "data": {
      "text/plain": [
       "array([0.10883062, 0.11371279, 0.0477849 , 0.01221771])"
      ]
     },
     "execution_count": 31,
     "metadata": {},
     "output_type": "execute_result"
    }
   ],
   "source": [
    "(end_retention - start_retention)"
   ]
  },
  {
   "cell_type": "code",
   "execution_count": 32,
   "id": "b38ed311",
   "metadata": {},
   "outputs": [
    {
     "ename": "NameError",
     "evalue": "name 'df_full' is not defined",
     "output_type": "error",
     "traceback": [
      "\u001b[0;31m---------------------------------------------------------------------------\u001b[0m",
      "\u001b[0;31mNameError\u001b[0m                                 Traceback (most recent call last)",
      "\u001b[0;32m<ipython-input-32-b3636154ee62>\u001b[0m in \u001b[0;36m<module>\u001b[0;34m\u001b[0m\n\u001b[0;32m----> 1\u001b[0;31m \u001b[0mdf_full\u001b[0m\u001b[0;34m.\u001b[0m\u001b[0mgroupby\u001b[0m\u001b[0;34m(\u001b[0m\u001b[0;34m[\u001b[0m\u001b[0;34m'hbo_uuid'\u001b[0m\u001b[0;34m]\u001b[0m\u001b[0;34m)\u001b[0m\u001b[0;34m[\u001b[0m\u001b[0;34m'ttl_stream_hrs'\u001b[0m\u001b[0;34m]\u001b[0m\u001b[0;34m.\u001b[0m\u001b[0msum\u001b[0m\u001b[0;34m(\u001b[0m\u001b[0;34m)\u001b[0m\u001b[0;34m.\u001b[0m\u001b[0mquantile\u001b[0m\u001b[0;34m(\u001b[0m\u001b[0;34m[\u001b[0m\u001b[0;36m0.2\u001b[0m\u001b[0;34m,\u001b[0m \u001b[0;36m0.3\u001b[0m\u001b[0;34m,\u001b[0m \u001b[0;36m0.4\u001b[0m\u001b[0;34m,\u001b[0m \u001b[0;36m0.5\u001b[0m\u001b[0;34m,\u001b[0m \u001b[0;36m0.6\u001b[0m\u001b[0;34m,\u001b[0m \u001b[0;36m0.7\u001b[0m\u001b[0;34m,\u001b[0m \u001b[0;36m0.8\u001b[0m\u001b[0;34m]\u001b[0m\u001b[0;34m)\u001b[0m\u001b[0;34m\u001b[0m\u001b[0;34m\u001b[0m\u001b[0m\n\u001b[0m",
      "\u001b[0;31mNameError\u001b[0m: name 'df_full' is not defined"
     ]
    }
   ],
   "source": [
    "df_full.groupby(['hbo_uuid'])['ttl_stream_hrs'].sum().quantile([0.2, 0.3, 0.4, 0.5, 0.6, 0.7, 0.8])"
   ]
  },
  {
   "cell_type": "code",
   "execution_count": null,
   "id": "1f5f0488",
   "metadata": {},
   "outputs": [],
   "source": [
    "df_full.groupby(['sub_month'])['hbo_uuid'].nunique()"
   ]
  },
  {
   "cell_type": "code",
   "execution_count": null,
   "id": "3e322815",
   "metadata": {},
   "outputs": [],
   "source": [
    "df_uuid_max_date = pd.read_csv('sub_max_date.csv', sep='\\t', index_col =0)"
   ]
  },
  {
   "cell_type": "code",
   "execution_count": null,
   "id": "9b41a346",
   "metadata": {},
   "outputs": [],
   "source": [
    "df_uuid_max_date.head()"
   ]
  },
  {
   "cell_type": "code",
   "execution_count": null,
   "id": "81ca037a",
   "metadata": {},
   "outputs": [],
   "source": [
    "monthly_fee = 14.99\n",
    "ttl_revenue = pd.DataFrame()\n",
    "\n",
    "#for date in ['2022-02-10', '2022-03-10']:\n",
    "for date in ['2022-03-02_v1']:\n",
    "    print(date)\n",
    "    df_full = pd.read_csv('df_date_{}.csv'.format(date), error_bad_lines=False, sep=',', index_col=0)\n",
    "    df_full.columns = df_full.columns.str.lower()\n",
    "    df_full = df_full.loc[df_full['sub_month'].between(0,20),:]\n",
    "    df_full['churn'] = 1*df_full['is_cancel'] \n",
    "    df_full['retention'] = 1-1*df_full['is_cancel'] \n",
    "\n",
    "    df_full['revenue_dist'] = 0\n",
    "    df_full['revenue_dist_cur'] = 0\n",
    "    df_full['revenue_dist_expect'] = 0\n",
    "    df_full['retention_impr'] = 0\n",
    "    df_full['prev_start_cum_hrs'] = df_full['prev_start_cum_hrs'].fillna(0)\n",
    "    df_full = df_full.loc[df_full['sub_month']<=max_n,:]\n",
    "\n",
    "    for cur_n in range(1, max_n + 1):\n",
    "        print(f'currently calculating sub month: {cur_n}')\n",
    "        # get start/end time inside the n sub month data\n",
    "        df_full_tmp = df_full.loc[df_full['sub_month']==cur_n,:]\n",
    "        start_hours = df_full_tmp['prev_start_cum_hrs']\n",
    "        end_hours = df_full_tmp['cum_ttl_stream_hr']\n",
    "\n",
    "        # get the right model to estimate the right prob\n",
    "        start_retention = (1 - weibull_curve(start_hours, *rec['popt'][cur_n - 1])) \n",
    "        end_retention = (1 - weibull_curve(end_hours, *rec['popt'][cur_n - 1]))\n",
    "\n",
    "        # calculate the unit revenue imporvement\n",
    "        unit_pct_money = n_month_state_prob(1, cur_n, avg_retention)\n",
    "\n",
    "\n",
    "        # get the revenue for each title in each provider id\n",
    "        df_full_tmp['retention_impr'] = end_retention - start_retention\n",
    "        df_full_tmp['revenue_dist_cur'] = monthly_fee*df_full_tmp['retention_impr']\n",
    "        df_full_tmp['revenue_dist_expect'] = (unit_pct_money-1)*df_full_tmp['revenue_dist_cur']\n",
    "        # merge the value back\n",
    "        df_full.loc[df_full_tmp.index, 'revenue_dist_expect'] = df_full_tmp['revenue_dist_expect']\n",
    "        df_full.loc[df_full_tmp.index, 'revenue_dist_cur'] = df_full_tmp['revenue_dist_cur']\n",
    "        df_full.loc[df_full_tmp.index, 'retention_impr'] = df_full_tmp['retention_impr']\n",
    "\n",
    "    df_full['date'] = date.split('_')[0]\n",
    "    tmp_revenue = df_full.groupby(['title_name', 'match_id']).\\\n",
    "        agg({'revenue_dist_cur':'sum'}).sort_values('revenue_dist_cur', ascending = False).reset_index()\n",
    "    \n",
    "    ttl_revenue = pd.concat([ttl_revenue, tmp_revenue])\n"
   ]
  },
  {
   "cell_type": "code",
   "execution_count": null,
   "id": "6f219fc4",
   "metadata": {},
   "outputs": [],
   "source": [
    "ttl_revenue['title_name_id'] = ttl_revenue['title_name'] + '-' + ttl_revenue['match_id']\n",
    "ttl_revenue_pivot = ttl_revenue.pivot(index = 'title_name_id', columns = 'date', values = 'revenue_dist').sort_values('2022-02-10', ascending = False).fillna(0)\n"
   ]
  },
  {
   "cell_type": "code",
   "execution_count": null,
   "id": "1406ef9b",
   "metadata": {},
   "outputs": [],
   "source": [
    "np.log(ttl_revenue_pivot.transpose().iloc[:,:10]).plot(rot= 90)\n",
    "plt.legend(bbox_to_anchor=(1.05, 1))"
   ]
  },
  {
   "cell_type": "code",
   "execution_count": null,
   "id": "6d2c0e34",
   "metadata": {},
   "outputs": [],
   "source": [
    "ttl_revenue.groupby('date')['revenue_dist'].sum()"
   ]
  },
  {
   "cell_type": "code",
   "execution_count": null,
   "id": "f5b76bd8",
   "metadata": {},
   "outputs": [],
   "source": [
    "df_test = pd.read_csv('streamtime_test_2022-02-16.csv', error_bad_lines=False, sep='\\t')\n",
    "df_test.columns = df_test.columns.str.lower()"
   ]
  },
  {
   "cell_type": "code",
   "execution_count": null,
   "id": "e8ca1f9b",
   "metadata": {},
   "outputs": [],
   "source": [
    "df_test.loc[df_test['last_session_last_month_flag']==1,'hbo_uuid'].nunique()"
   ]
  },
  {
   "cell_type": "code",
   "execution_count": null,
   "id": "70b64545",
   "metadata": {},
   "outputs": [],
   "source": [
    "df_test['hbo_uuid'].nunique()"
   ]
  },
  {
   "cell_type": "markdown",
   "id": "21be6480",
   "metadata": {},
   "source": [
    "# New Session"
   ]
  },
  {
   "cell_type": "code",
   "execution_count": null,
   "id": "50edf870",
   "metadata": {},
   "outputs": [],
   "source": [
    "tmp_revenue = df_full.groupby(['title_name', 'match_id']).agg({'revenue_dist':'sum'\n",
    "                                                                   , 'retention_impr':'mean'\n",
    "                                                                   , 'title_session':'median'\n",
    "                                                                   , 'min_request_time_gmt':'count'\n",
    "                                                                   , 'ttl_stream_hrs':'mean'}).sort_values('revenue_dist', ascending = False).reset_index()\n",
    "\n",
    "tmp_revenue = tmp_revenue.rename(columns= {'title_session':'title_session_median'\n",
    "                                              , 'min_request_time_gmt':'session_count'\n",
    "                                              , 'ttl_stream_hrs': 'ttl_stream_hrs_mean'})"
   ]
  },
  {
   "cell_type": "code",
   "execution_count": null,
   "id": "8f0a65f9",
   "metadata": {},
   "outputs": [],
   "source": [
    "revenue_sub_month = df_full.groupby(['title_name', 'match_id', 'sub_month'])['revenue_dist'].sum().reset_index()"
   ]
  },
  {
   "cell_type": "code",
   "execution_count": null,
   "id": "c4a170aa",
   "metadata": {},
   "outputs": [],
   "source": [
    "revenue_sub_month['title_name_id'] = revenue_sub_month['title_name'] + '-' + revenue_sub_month['match_id'] "
   ]
  },
  {
   "cell_type": "code",
   "execution_count": null,
   "id": "93293d8e",
   "metadata": {},
   "outputs": [],
   "source": [
    "revenue_pivot = revenue_sub_month.pivot(index = 'title_name_id', columns = 'sub_month', values = 'revenue_dist')\n"
   ]
  },
  {
   "cell_type": "code",
   "execution_count": null,
   "id": "0114a89b",
   "metadata": {},
   "outputs": [],
   "source": [
    "revenue_pivot['ttl_revenue'] = revenue_pivot.sum(axis=1)"
   ]
  },
  {
   "cell_type": "code",
   "execution_count": null,
   "id": "fb110e8e",
   "metadata": {},
   "outputs": [],
   "source": [
    "revenue_pivot = revenue_pivot.sort_values('ttl_revenue')"
   ]
  },
  {
   "cell_type": "code",
   "execution_count": null,
   "id": "eb27b824",
   "metadata": {},
   "outputs": [],
   "source": [
    "revenue_pivot = revenue_pivot[list(range(1,13))].fillna(0)"
   ]
  },
  {
   "cell_type": "code",
   "execution_count": null,
   "id": "cd2e6eb1",
   "metadata": {},
   "outputs": [],
   "source": [
    "revenue_pivot.tail(20).plot.barh(stacked = True)"
   ]
  },
  {
   "cell_type": "code",
   "execution_count": null,
   "id": "a8411499",
   "metadata": {},
   "outputs": [],
   "source": [
    "ttl_revenue.groupby(['date'])['revenue_dist'].idxmax()"
   ]
  },
  {
   "cell_type": "code",
   "execution_count": null,
   "id": "ba60d3f2",
   "metadata": {},
   "outputs": [],
   "source": [
    "ttl_revenue = ttl_revenue.reset_index(drop = True)"
   ]
  },
  {
   "cell_type": "code",
   "execution_count": null,
   "id": "4bd3a85e",
   "metadata": {},
   "outputs": [],
   "source": [
    "ttl_revenue.loc[ttl_revenue.groupby(['date'])['revenue_dist'].idxmax(),:].sort_values('revenue_dist', ascending = False)\n"
   ]
  },
  {
   "cell_type": "markdown",
   "id": "aef37c91",
   "metadata": {},
   "source": [
    "# Sagemaker output analysis"
   ]
  },
  {
   "cell_type": "code",
   "execution_count": null,
   "id": "399e6deb",
   "metadata": {},
   "outputs": [],
   "source": [
    "revenue_full = pd.read_csv('ttl_revenue_date_01to06.csv')\n",
    "revenue_full['title_name_id'] = revenue_full['title_name'] + '-' + revenue_full['match_id']\n",
    "revenue = revenue_full.groupby(['title_name_id', 'date'])['revenue_dist'].sum().reset_index()"
   ]
  },
  {
   "cell_type": "code",
   "execution_count": null,
   "id": "fad949c5",
   "metadata": {},
   "outputs": [],
   "source": [
    "revenue_ttl = revenue_full.groupby(['title_name_id'])['revenue_dist'].mean().sort_values(ascending = False)"
   ]
  },
  {
   "cell_type": "code",
   "execution_count": null,
   "id": "feb4f940",
   "metadata": {},
   "outputs": [],
   "source": [
    "fig, ax = plt.subplots(1, 1, figsize=(8, 5))\n",
    "tmp = np.log10(revenue.loc[revenue['title_name_id'].isin(revenue_ttl.iloc[:5].index),:]\\\n",
    "    .pivot(index='date', columns = 'title_name_id', values = 'revenue_dist'))\n",
    "tmp.columns = [col.split('-')[0] for col in tmp.columns]\n",
    "\n",
    "for col in tmp.columns:\n",
    "    line_df= tmp[col]\n",
    "    line_df.index.name = None\n",
    "    line_df.plot(rot= 90)\n",
    "    \n",
    "plt.legend(loc= 'lower left')\n",
    "fig.text(0.5, -0.1, 'Date', size = 14, ha='center', va='center')\n",
    "fig.text(0.06, 0.5, 'Direct retetion revenue in log10 scale', rotation = 90, size = 14, ha='center', va='center')\n",
    "fig.show()"
   ]
  },
  {
   "cell_type": "code",
   "execution_count": null,
   "id": "4a217773",
   "metadata": {},
   "outputs": [],
   "source": [
    "tmp = np.log10(revenue.loc[revenue['title_name_id'].isin(revenue_ttl.iloc[5:15].index),:]\\\n",
    "    .pivot(index='date', columns = 'title_name_id', values = 'revenue_dist'))\n",
    "tmp.columns = [col.split('-')[0] for col in tmp.columns]\n",
    "tmp.plot(rot = 90)\n",
    "plt.legend(bbox_to_anchor=(1.05, 1))"
   ]
  },
  {
   "cell_type": "code",
   "execution_count": null,
   "id": "275207f1",
   "metadata": {},
   "outputs": [],
   "source": [
    "fig, ax = plt.subplots(1, 1, figsize=(8, 5))\n",
    "tmp = np.log10(revenue.loc[revenue['title_name_id'].apply(lambda x: x.split('-')[0]).isin(['Insecure S1'\n",
    "                                                            , 'Insecure S2'\n",
    "                                                            , 'Insecure S3'\n",
    "                                                            , 'Insecure S4'\n",
    "                                                            , 'Insecure S5']),:]\\\n",
    "    .pivot(index='date', columns = 'title_name_id', values = 'revenue_dist'))\n",
    "tmp.columns = [col.split('-')[0] for col in tmp.columns]\n",
    "for col in tmp.columns:\n",
    "    line_df= tmp[col]\n",
    "    line_df.index.name = None\n",
    "    line_df.plot(rot= 90)\n",
    "    \n",
    "plt.legend(bbox_to_anchor=(1.05, 1))\n",
    "plt.legend(loc= 'lower left')\n",
    "fig.text(0.5, -0.1, 'Date', size = 14, ha='center', va='center')\n",
    "fig.text(0.06, 0.5, 'Direct retetion revenue in log10 scale', rotation = 90, size = 14, ha='center', va='center')\n",
    "fig.show()"
   ]
  },
  {
   "cell_type": "code",
   "execution_count": null,
   "id": "ee2244ef",
   "metadata": {},
   "outputs": [],
   "source": [
    "fig, ax = plt.subplots(1, 1, figsize=(8, 5))\n",
    "tmp = np.log10(revenue.loc[revenue['title_name_id'].apply(lambda x: x.split('-')[0]).isin(['The Flight Attendant S1'\n",
    "                                                            , 'The Flight Attendant S2']),:]\\\n",
    "    .pivot(index='date', columns = 'title_name_id', values = 'revenue_dist'))\n",
    "tmp.columns = [col.split('-')[0] for col in tmp.columns]\n",
    "for col in tmp.columns:\n",
    "    line_df= tmp[col]\n",
    "    line_df.index.name = None\n",
    "    line_df.plot(rot= 90)\n",
    "    \n",
    "plt.legend(bbox_to_anchor=(1.05, 1))\n",
    "plt.legend(loc= 'lower left')\n",
    "fig.text(0.5, -0.1, 'Date', size = 14, ha='center', va='center')\n",
    "fig.text(0.06, 0.5, 'Direct retetion revenue in log10 scale', rotation = 90, size = 14, ha='center', va='center')\n",
    "fig.show()"
   ]
  },
  {
   "cell_type": "code",
   "execution_count": null,
   "id": "f4ca9cdb",
   "metadata": {},
   "outputs": [],
   "source": [
    "revenue_full['sub_month_agg'] = revenue_full['sub_month']\n",
    "revenue_full.loc[revenue_full['sub_month']>=6,'sub_month_agg'] = 6\n",
    "revenue_full.groupby(['sub_month_agg', 'date'])['revenue_dist'].sum().divide(revenue_full.groupby(['date'])['revenue_dist'].sum()).reset_index()\\\n",
    "    .pivot(index = 'date', columns = 'sub_month_agg', values = 'revenue_dist').plot.barh(stacked = True)\n",
    "plt.legend(bbox_to_anchor=(1.05, 1))"
   ]
  },
  {
   "cell_type": "code",
   "execution_count": null,
   "id": "7b5079d6",
   "metadata": {},
   "outputs": [],
   "source": [
    "fig = plt.figure(figsize=(6,6))\n",
    "ax = plt.subplot(111)\n",
    "revenue_full['sub_month_agg_2'] = revenue_full['sub_month']\n",
    "revenue_full.loc[revenue_full['sub_month']>8,'sub_month_agg_2'] = '8+'\n",
    "tmp = revenue_full.groupby(['sub_month_agg_2'])['revenue_dist'].sum()\n",
    "tmp.plot(kind='pie', ax=ax, autopct='%1.1f%%', startangle= 90, fontsize=10)"
   ]
  },
  {
   "cell_type": "code",
   "execution_count": null,
   "id": "0b30840e",
   "metadata": {},
   "outputs": [],
   "source": [
    "revenue_ttl_fin = revenue_full.groupby(['title_name_id']).agg({'revenue_dist':'sum', 'date':'nunique'})\\\n",
    "    .sort_values('revenue_dist', ascending = False).head(50)\n",
    "revenue_ttl_fin['revenue_dist_avg'] = revenue_ttl_fin['revenue_dist']/revenue_ttl_fin['date']"
   ]
  },
  {
   "cell_type": "code",
   "execution_count": null,
   "id": "8d223c1f",
   "metadata": {},
   "outputs": [],
   "source": [
    "revenue_ttl_fin['title_name'] = pd.Series(revenue_ttl_fin.index).apply(lambda x: x.split('-')[0]).values\n",
    "revenue_ttl_fin.index = revenue_ttl_fin['title_name']"
   ]
  },
  {
   "cell_type": "code",
   "execution_count": null,
   "id": "214e078d",
   "metadata": {},
   "outputs": [],
   "source": [
    "fig = plt.figure(figsize=(6,6))\n",
    "revenue_ttl_fin['revenue_dist'].sort_values().tail(20).plot.barh()\n",
    "fig.text(0.5, 0.05, 'Direct retention revenue', size = 14, ha='center', va='center')"
   ]
  },
  {
   "cell_type": "code",
   "execution_count": null,
   "id": "5bc9ddab",
   "metadata": {},
   "outputs": [],
   "source": [
    "revenue_ttl_fin = revenue_full.groupby(['title_name_id']).agg({'revenue_dist':'sum', 'date':'nunique'})\\\n",
    "    .sort_values('revenue_dist', ascending = False)"
   ]
  },
  {
   "cell_type": "code",
   "execution_count": null,
   "id": "27a32735",
   "metadata": {},
   "outputs": [],
   "source": [
    "revenue_ttl_fin[revenue_ttl_fin.index.str.contains('Curb Your')].sum()"
   ]
  },
  {
   "cell_type": "code",
   "execution_count": null,
   "id": "a7e559bb",
   "metadata": {},
   "outputs": [],
   "source": [
    "revenue_ttl_fin[revenue_ttl_fin.index.str.contains('Insecure')]['revenue_dist'].sum()"
   ]
  },
  {
   "cell_type": "code",
   "execution_count": null,
   "id": "eb5c1b00",
   "metadata": {},
   "outputs": [],
   "source": [
    "revenue_ttl_fin[revenue_ttl_fin.index.str.contains('Succession')]['revenue_dist'].sum()"
   ]
  },
  {
   "cell_type": "code",
   "execution_count": null,
   "id": "f484cce0",
   "metadata": {},
   "outputs": [],
   "source": [
    "revenue_ttl_fin[revenue_ttl_fin.index.str.contains('The Flight')]['revenue_dist'].sum()"
   ]
  },
  {
   "cell_type": "code",
   "execution_count": null,
   "id": "57cc9913",
   "metadata": {},
   "outputs": [],
   "source": [
    "revenue_ttl_fin[revenue_ttl_fin.index.str.contains('Game of Thrones')]['revenue_dist'].sum()"
   ]
  },
  {
   "cell_type": "code",
   "execution_count": null,
   "id": "e62f6eed",
   "metadata": {},
   "outputs": [],
   "source": [
    "revenue_full.head()"
   ]
  },
  {
   "cell_type": "code",
   "execution_count": null,
   "id": "f1c8f640",
   "metadata": {},
   "outputs": [],
   "source": [
    "revenue_date = revenue_full.groupby(['date'])['revenue_dist'].sum()"
   ]
  },
  {
   "cell_type": "code",
   "execution_count": null,
   "id": "d488d3fa",
   "metadata": {},
   "outputs": [],
   "source": [
    "df_user_renew = pd.read_csv('renewed_users_date.csv', sep = '\\t')\n",
    "df_user_renew.columns = df_user_renew.columns.str.lower()\n",
    "\n",
    "df_user_renew['user_retained'] = df_user_renew['user_id_cnt'] - df_user_renew['user_id_churn_cnt']\n",
    "\n",
    "df_user_renew['revenue'] = df_user_renew['user_retained']*14.99"
   ]
  },
  {
   "cell_type": "code",
   "execution_count": null,
   "id": "7762b57c",
   "metadata": {},
   "outputs": [],
   "source": [
    "comp = pd.DataFrame(revenue_date).reset_index().merge(df_user_renew[['date', 'revenue']], on = 'date')\n",
    "\n",
    "comp['pct_dist'] = comp['revenue_dist']/comp['revenue']"
   ]
  },
  {
   "cell_type": "code",
   "execution_count": null,
   "id": "eefa7d9a",
   "metadata": {},
   "outputs": [],
   "source": [
    "comp['pct_dist'].hist(bins = 50)"
   ]
  },
  {
   "cell_type": "code",
   "execution_count": null,
   "id": "f21a5fae",
   "metadata": {},
   "outputs": [],
   "source": [
    "comp.loc[comp['date']=='2022-06-10',:]"
   ]
  },
  {
   "cell_type": "markdown",
   "id": "0bddaf66",
   "metadata": {},
   "source": [
    "# Movie vs Series"
   ]
  },
  {
   "cell_type": "code",
   "execution_count": null,
   "id": "8d779b13",
   "metadata": {},
   "outputs": [],
   "source": [
    "df_v = pd.read_csv('df_date_2022-06-07_v1.csv', index_col=0)\n",
    "df_c = pd.read_csv('title_content_category.csv', sep='\\t')\n",
    "df_c.columns = df_c.columns.str.lower()"
   ]
  },
  {
   "cell_type": "code",
   "execution_count": null,
   "id": "7a5f5a95",
   "metadata": {},
   "outputs": [],
   "source": [
    "df_v = df_v.merge(df_c[['match_id', 'content_category']], on = 'match_id')"
   ]
  },
  {
   "cell_type": "code",
   "execution_count": null,
   "id": "ea50a51d",
   "metadata": {},
   "outputs": [],
   "source": [
    "df_agg_all = df_v.groupby(['hbo_uuid']).agg({'is_cancel':'max', 'sub_month':'max', 'ttl_stream_hrs':'sum'})\\\n",
    "    .reset_index()"
   ]
  },
  {
   "cell_type": "code",
   "execution_count": null,
   "id": "2937aaab",
   "metadata": {},
   "outputs": [],
   "source": [
    "df_agg_cate = df_v.groupby(['hbo_uuid', 'content_category']).agg({'ttl_stream_hrs':'sum'}).reset_index()\n",
    "\n",
    "df_agg_cate = df_agg_cate.loc[df_agg_cate['content_category'].isin(['movies', 'specials']), :].drop(columns = 'content_category')\n",
    "df_agg_cate = df_agg_cate.rename(columns = {'ttl_stream_hrs': 'non_series_stream_hrs'})\n"
   ]
  },
  {
   "cell_type": "code",
   "execution_count": null,
   "id": "44044f7d",
   "metadata": {},
   "outputs": [],
   "source": [
    "df_agg_all.head()"
   ]
  },
  {
   "cell_type": "code",
   "execution_count": null,
   "id": "ac0865aa",
   "metadata": {},
   "outputs": [],
   "source": [
    "df_agg_cate.head()"
   ]
  },
  {
   "cell_type": "code",
   "execution_count": null,
   "id": "ce648850",
   "metadata": {},
   "outputs": [],
   "source": [
    "df_agg_all = df_agg_all.loc[df_agg_all['ttl_stream_hrs']<df_agg_all['ttl_stream_hrs'].quantile(0.99)]"
   ]
  },
  {
   "cell_type": "code",
   "execution_count": null,
   "id": "2e1d7af6",
   "metadata": {},
   "outputs": [],
   "source": [
    "df_agg_all = df_agg_all.merge(df_agg_cate, on ='hbo_uuid')"
   ]
  },
  {
   "cell_type": "code",
   "execution_count": null,
   "id": "b0be71e7",
   "metadata": {},
   "outputs": [],
   "source": [
    "df_agg_all['non_series_pct'] = df_agg_all['non_series_stream_hrs']/df_agg_all['ttl_stream_hrs']"
   ]
  },
  {
   "cell_type": "code",
   "execution_count": null,
   "id": "abd1ad84",
   "metadata": {},
   "outputs": [],
   "source": [
    "tmp = df_agg_all.loc[((df_agg_all['ttl_stream_hrs'].between(0.1, 0.2)) &(df_agg_all['sub_month']==1)),'is_cancel']\n",
    "1-(tmp.sum()/tmp.shape[0])"
   ]
  },
  {
   "cell_type": "code",
   "execution_count": null,
   "id": "3a38dce0",
   "metadata": {},
   "outputs": [],
   "source": [
    "upper_= {}\n",
    "columns = ['ttl_stream_hrs']\n",
    "#df = df.loc[df['ttl_stream_hrs']>0,:]\n",
    "upper_ = df_agg_all['ttl_stream_hrs'].quantile(0.99)\n",
    "lower_ = 0\n",
    "df_agg_all = df_agg_all.loc[df_agg_all['ttl_stream_hrs'].between(lower_, upper_), :]\n",
    "#df_v = df_v.loc[df['ttl_stream_hrs']<=upper_, :]  \n",
    "df_agg_all = df_agg_all.reset_index(drop = True)"
   ]
  },
  {
   "cell_type": "code",
   "execution_count": null,
   "id": "a59c3a6f",
   "metadata": {},
   "outputs": [],
   "source": [
    "nbins = 4\n",
    "df_agg_all['non_series_pct_bin'] = pd.qcut(df_agg_all['non_series_pct'], np.linspace(0,1,nbins), duplicates = 'drop')\n",
    "\n",
    "df_agg_all['non_series_pct_bin'] = df_agg_all['non_series_pct_bin'].apply(lambda x: (x.left+x.right)/2)\n",
    "df_agg_all['non_series_pct_bin'] = df_agg_all['non_series_pct_bin'].astype('float')"
   ]
  },
  {
   "cell_type": "code",
   "execution_count": null,
   "id": "23a3495d",
   "metadata": {},
   "outputs": [],
   "source": [
    "nbins = 30\n",
    "df_agg_all = df_agg_all.loc[df_agg_all['ttl_stream_hrs'] <= 30, :] \n",
    "df_agg_all['ttl_stream_hrs_bin'] = pd.qcut(df_agg_all['ttl_stream_hrs'], np.linspace(0,1,nbins))\n",
    "\n",
    "df_agg_all['ttl_stream_hrs_bin'] = df_agg_all['ttl_stream_hrs_bin'].apply(lambda x: (x.left+x.right)/2)\n",
    "df_agg_all['ttl_stream_hrs_bin'] = df_agg_all['ttl_stream_hrs_bin'].astype('float')"
   ]
  },
  {
   "cell_type": "code",
   "execution_count": null,
   "id": "343a7918",
   "metadata": {},
   "outputs": [],
   "source": [
    "df_grid = df_agg_all.groupby(['ttl_stream_hrs_bin', 'sub_month', 'non_series_pct_bin']).agg({'is_cancel':'mean'}).reset_index()\n"
   ]
  },
  {
   "cell_type": "code",
   "execution_count": null,
   "id": "8c1b00c1",
   "metadata": {},
   "outputs": [],
   "source": [
    "df_grid_mov = df_agg_all.groupby(['sub_month', 'non_series_pct_bin']).agg({'is_cancel':'mean'}).reset_index()\n"
   ]
  },
  {
   "cell_type": "code",
   "execution_count": null,
   "id": "52c922ee",
   "metadata": {},
   "outputs": [],
   "source": [
    "df_grid_mov.pivot(index='sub_month', columns = 'non_series_pct_bin', values = 'is_cancel').transpose().loc[:,:8].plot()\n",
    "plt.legend(bbox_to_anchor=(1.05, 1))"
   ]
  },
  {
   "cell_type": "code",
   "execution_count": null,
   "id": "38f8e2df",
   "metadata": {},
   "outputs": [],
   "source": [
    "df_grid_1 = df_grid.loc[df_grid['sub_month']==1,:]\n",
    "df_grid_10 = df_grid.loc[df_grid['sub_month']==10,:]"
   ]
  },
  {
   "cell_type": "code",
   "execution_count": null,
   "id": "eaedd8df",
   "metadata": {},
   "outputs": [],
   "source": [
    "tmp = df_grid_10.pivot(index = 'ttl_stream_hrs_bin', columns = 'non_series_pct_bin', values = 'is_cancel')\n",
    "(1 - tmp.loc[tmp.index<=60]).plot()"
   ]
  },
  {
   "cell_type": "code",
   "execution_count": null,
   "id": "b04d498c",
   "metadata": {},
   "outputs": [],
   "source": [
    "(1-(df_agg_all.loc[((df_agg_all['non_series_pct']>=0.8) & (df_agg_all['sub_month']==1)),:].groupby(['ttl_stream_hrs_bin'])['is_cancel'].mean())).plot()\n",
    "(1-(df_agg_all.loc[((df_agg_all['non_series_pct']<=0.2) & (df_agg_all['sub_month']==1)),:].groupby(['ttl_stream_hrs_bin'])['is_cancel'].mean())).plot()\n",
    "\n"
   ]
  },
  {
   "cell_type": "code",
   "execution_count": null,
   "id": "14a7debc",
   "metadata": {},
   "outputs": [],
   "source": [
    "(1-(df_agg_all.loc[((df_agg_all['non_series_pct']==1)),:].groupby(['ttl_stream_hrs_bin'])['is_cancel'].mean())).plot()\n",
    "(1-(df_agg_all.loc[((df_agg_all['non_series_pct']<=0.05)),:].groupby(['ttl_stream_hrs_bin'])['is_cancel'].mean())).plot()\n"
   ]
  },
  {
   "cell_type": "code",
   "execution_count": null,
   "id": "9c5d6d40",
   "metadata": {},
   "outputs": [],
   "source": [
    "df_agg_all.groupby(['non_series_pct_bin'])['ttl_stream_hrs'].quantile([0.1, 0.5, 0.9])"
   ]
  },
  {
   "cell_type": "code",
   "execution_count": null,
   "id": "3abd6711",
   "metadata": {},
   "outputs": [],
   "source": [
    "df_agg_all.head()"
   ]
  },
  {
   "cell_type": "markdown",
   "id": "6f98d2ce",
   "metadata": {},
   "source": [
    "# Direct & Indirect Revenue Test "
   ]
  },
  {
   "cell_type": "code",
   "execution_count": 1,
   "id": "93aba278",
   "metadata": {},
   "outputs": [],
   "source": [
    "import pandas as pd\n",
    "import numpy as np\n",
    "import matplotlib.pyplot as plt\n",
    "from scipy.optimize import curve_fit\n",
    "from scipy.optimize import newton\n",
    "import scipy.integrate as integrate"
   ]
  },
  {
   "cell_type": "code",
   "execution_count": 2,
   "id": "8098895f",
   "metadata": {},
   "outputs": [],
   "source": [
    "def weibull_curve(x, c, loc, scale, int_):\n",
    "    return c*((x-loc)**(c-1))*(np.exp(-(x-loc)**c))/scale + int_"
   ]
  },
  {
   "cell_type": "markdown",
   "id": "7575500f",
   "metadata": {},
   "source": [
    "## Data initialization "
   ]
  },
  {
   "cell_type": "code",
   "execution_count": 3,
   "id": "e54313da",
   "metadata": {},
   "outputs": [],
   "source": [
    "df_title = pd.read_csv('direct_rev_test_title.csv', sep='\\t')\n",
    "df_title.columns = df_title.columns.str.lower()\n",
    "#df_title = df_title.loc[df_title['sub_month']<=6,:]"
   ]
  },
  {
   "cell_type": "code",
   "execution_count": 4,
   "id": "4f437f39",
   "metadata": {},
   "outputs": [],
   "source": [
    "df = df_title.groupby(['hbo_uuid', 'provider_user_id', 'sub_month', 'is_cancel'])['ttl_stream_hrs'].sum().reset_index()\n",
    "max_n = df['sub_month'].max()"
   ]
  },
  {
   "cell_type": "markdown",
   "id": "8f960346",
   "metadata": {},
   "source": [
    "## Retention vs hr curves "
   ]
  },
  {
   "cell_type": "code",
   "execution_count": 5,
   "id": "b02f3995",
   "metadata": {},
   "outputs": [
    {
     "name": "stdout",
     "output_type": "stream",
     "text": [
      "1\n"
     ]
    },
    {
     "name": "stderr",
     "output_type": "stream",
     "text": [
      "/opt/anaconda3/lib/python3.7/site-packages/ipykernel_launcher.py:8: SettingWithCopyWarning: \n",
      "A value is trying to be set on a copy of a slice from a DataFrame.\n",
      "Try using .loc[row_indexer,col_indexer] = value instead\n",
      "\n",
      "See the caveats in the documentation: https://pandas.pydata.org/pandas-docs/stable/user_guide/indexing.html#returning-a-view-versus-a-copy\n",
      "  \n"
     ]
    },
    {
     "name": "stdout",
     "output_type": "stream",
     "text": [
      "2\n"
     ]
    },
    {
     "name": "stderr",
     "output_type": "stream",
     "text": [
      "/opt/anaconda3/lib/python3.7/site-packages/ipykernel_launcher.py:8: SettingWithCopyWarning: \n",
      "A value is trying to be set on a copy of a slice from a DataFrame.\n",
      "Try using .loc[row_indexer,col_indexer] = value instead\n",
      "\n",
      "See the caveats in the documentation: https://pandas.pydata.org/pandas-docs/stable/user_guide/indexing.html#returning-a-view-versus-a-copy\n",
      "  \n"
     ]
    },
    {
     "name": "stdout",
     "output_type": "stream",
     "text": [
      "3\n"
     ]
    },
    {
     "name": "stderr",
     "output_type": "stream",
     "text": [
      "/opt/anaconda3/lib/python3.7/site-packages/ipykernel_launcher.py:8: SettingWithCopyWarning: \n",
      "A value is trying to be set on a copy of a slice from a DataFrame.\n",
      "Try using .loc[row_indexer,col_indexer] = value instead\n",
      "\n",
      "See the caveats in the documentation: https://pandas.pydata.org/pandas-docs/stable/user_guide/indexing.html#returning-a-view-versus-a-copy\n",
      "  \n"
     ]
    },
    {
     "name": "stdout",
     "output_type": "stream",
     "text": [
      "4\n"
     ]
    },
    {
     "name": "stderr",
     "output_type": "stream",
     "text": [
      "/opt/anaconda3/lib/python3.7/site-packages/ipykernel_launcher.py:8: SettingWithCopyWarning: \n",
      "A value is trying to be set on a copy of a slice from a DataFrame.\n",
      "Try using .loc[row_indexer,col_indexer] = value instead\n",
      "\n",
      "See the caveats in the documentation: https://pandas.pydata.org/pandas-docs/stable/user_guide/indexing.html#returning-a-view-versus-a-copy\n",
      "  \n"
     ]
    },
    {
     "name": "stdout",
     "output_type": "stream",
     "text": [
      "5\n"
     ]
    },
    {
     "name": "stderr",
     "output_type": "stream",
     "text": [
      "/opt/anaconda3/lib/python3.7/site-packages/ipykernel_launcher.py:8: SettingWithCopyWarning: \n",
      "A value is trying to be set on a copy of a slice from a DataFrame.\n",
      "Try using .loc[row_indexer,col_indexer] = value instead\n",
      "\n",
      "See the caveats in the documentation: https://pandas.pydata.org/pandas-docs/stable/user_guide/indexing.html#returning-a-view-versus-a-copy\n",
      "  \n"
     ]
    },
    {
     "name": "stdout",
     "output_type": "stream",
     "text": [
      "6\n"
     ]
    },
    {
     "name": "stderr",
     "output_type": "stream",
     "text": [
      "/opt/anaconda3/lib/python3.7/site-packages/ipykernel_launcher.py:8: SettingWithCopyWarning: \n",
      "A value is trying to be set on a copy of a slice from a DataFrame.\n",
      "Try using .loc[row_indexer,col_indexer] = value instead\n",
      "\n",
      "See the caveats in the documentation: https://pandas.pydata.org/pandas-docs/stable/user_guide/indexing.html#returning-a-view-versus-a-copy\n",
      "  \n"
     ]
    }
   ],
   "source": [
    "nbins = 30\n",
    "max_ =50\n",
    "max_month = df['sub_month'].nunique()\n",
    "df['ttl_stream_hrs_bin_mean'] = 0\n",
    "for mon in range(0, max_month): \n",
    "    print(mon+1)\n",
    "    tmp = df.loc[df['sub_month']==mon+1, :]\n",
    "    tmp['ttl_stream_hrs_bin'] = pd.qcut(tmp['ttl_stream_hrs'], np.linspace(0,1,nbins), duplicates='drop')\n",
    "\n",
    "    tmp = tmp.merge(tmp.groupby(['ttl_stream_hrs_bin'])['ttl_stream_hrs'].mean().\\\n",
    "              reset_index().rename(columns = {'ttl_stream_hrs':'ttl_stream_hrs_bin_mean_tmp'}),\\\n",
    "                                                    on = ['ttl_stream_hrs_bin'])\n",
    "    \n",
    "    tmp['sub_month'] = mon + 1\n",
    "    tmp = tmp[['sub_month', 'ttl_stream_hrs','ttl_stream_hrs_bin_mean_tmp']].drop_duplicates()\n",
    "    df = df.merge(tmp, on = ['sub_month', 'ttl_stream_hrs'], how = 'left')\n",
    "    df.loc[df['sub_month']==mon+1, 'ttl_stream_hrs_bin_mean'] = df.loc[df['sub_month']==mon+1, 'ttl_stream_hrs_bin_mean_tmp']\n",
    "    df = df.drop(columns = 'ttl_stream_hrs_bin_mean_tmp')\n"
   ]
  },
  {
   "cell_type": "code",
   "execution_count": 6,
   "id": "a31bac66",
   "metadata": {},
   "outputs": [],
   "source": [
    "prob = (df.groupby(['sub_month','ttl_stream_hrs_bin_mean']).agg({'is_cancel':'mean'})).\\\n",
    "    reset_index().rename(columns= {'is_cancel':'churn'})"
   ]
  },
  {
   "cell_type": "code",
   "execution_count": 7,
   "id": "99302c07",
   "metadata": {},
   "outputs": [],
   "source": [
    "prob = prob.loc[prob['sub_month']<=7, :]\n",
    "prob = prob.loc[prob['ttl_stream_hrs_bin_mean']<=120, :]"
   ]
  },
  {
   "cell_type": "code",
   "execution_count": 8,
   "id": "6a6a7817",
   "metadata": {},
   "outputs": [],
   "source": [
    "rec = {'n':[], 'popt':[], 'base':[], 'n_after':{}, 'n_after_means':[]}\n",
    "max_ = 120\n",
    "for n in range(1,prob['sub_month'].max()+1): \n",
    "    # estimation and plotting\n",
    "    prob_tmp = prob.loc[prob['sub_month']==n, :]\n",
    "    xdata = prob_tmp.ttl_stream_hrs_bin_mean.astype('float').values\n",
    "    ydata = prob_tmp.churn.values\n",
    "    popt_no, pcov_no = curve_fit(weibull_curve, xdata, ydata, p0 = [0.5, -5,  0.1,  0.1], bounds = (-10, 10))\n",
    "    rec['popt'].append(popt_no)\n",
    "    rec['n'].append(n)\n",
    "    \n",
    "    rec['base'].append(1 - weibull_curve(0, *rec['popt'][n - 1])) \n",
    "        "
   ]
  },
  {
   "cell_type": "code",
   "execution_count": 9,
   "id": "41d38fa2",
   "metadata": {},
   "outputs": [],
   "source": [
    "df_tmp = df.groupby(['hbo_uuid', 'sub_month']).first().reset_index()\n",
    "\n",
    "uuid_month = df_tmp.groupby('hbo_uuid')['sub_month'].max().reset_index()\n",
    "uuid_month_list = np.sort(uuid_month['sub_month'].unique())\n",
    "\n",
    "final_output = pd.DataFrame()\n",
    "\n",
    "for sub_mon in uuid_month_list[1:]:\n",
    "    # get the uuid with the current processing total sub mon length\n",
    "    uuid_cur_mon = uuid_month.loc[uuid_month['sub_month']==sub_mon,'hbo_uuid'].values\n",
    "    tmp = df_tmp.loc[df_tmp['hbo_uuid'].isin(uuid_cur_mon),:]\n",
    "\n",
    "    # extend the total cur mon uuids, each month and viewing hours into pivot table\n",
    "    tmp_pivot = tmp.pivot(index = 'hbo_uuid', columns = 'sub_month', values = 'ttl_stream_hrs')\n",
    "    tmp_pivot = tmp_pivot.fillna(0)\n",
    "    \n",
    "    # get the retention probs.\n",
    "    for mon in tmp_pivot.columns:\n",
    "        # need to record the last p*p...*p value, base, and\n",
    "        tmp_pivot[mon] = 1 - weibull_curve(tmp_pivot[mon], *rec['popt'][int(mon-1)])\n",
    "    \n",
    "    ### calculate the indirect revenue factor\n",
    "    mon_group_output = {}\n",
    "    for mon in range(1, tmp_pivot.columns.max()):\n",
    "        # get p, pp, ppp ...\n",
    "        tmp_mon = tmp_pivot.iloc[:,mon:].cumprod(axis=1)\n",
    "        # cur*(p + pp + ppp...) - base*(p + pp + ppp...) = (cur-base)*(p+pp+ppp...)\n",
    "        mon_ratio = (tmp_pivot[mon] - rec['base'][mon-1])*tmp_mon.sum(axis=1)\n",
    "        mon_group_output[mon] = mon_ratio\n",
    "    \n",
    "    mon_group_output = pd.DataFrame(mon_group_output).stack().reset_index().\\\n",
    "        rename(columns = {'level_1':'sub_month', 0:'indirect_revenue_percent_ttl'})\n",
    "    \n",
    "    # record the output\n",
    "    final_output = pd.concat([final_output, mon_group_output], axis =0)"
   ]
  },
  {
   "cell_type": "markdown",
   "id": "6bae583c",
   "metadata": {},
   "source": [
    "### Retention revenue calculation "
   ]
  },
  {
   "cell_type": "code",
   "execution_count": 10,
   "id": "d27ecca8",
   "metadata": {},
   "outputs": [],
   "source": [
    "df_title = df_title.merge(df_title.groupby(['hbo_uuid', 'provider_user_id', 'sub_month'])['ttl_stream_hrs'].cumsum(), left_index = True, right_index = True)\n",
    "df_title = df_title.rename(columns = {'ttl_stream_hrs_x':'ttl_stream_hrs', 'ttl_stream_hrs_y':'ttl_stream_cum_hrs'})\n",
    "\n"
   ]
  },
  {
   "cell_type": "code",
   "execution_count": 11,
   "id": "a976dad7",
   "metadata": {},
   "outputs": [],
   "source": [
    "for sub_mon in np.sort(df_title['sub_month'].unique()):\n",
    "    tmp = df_title.loc[df_title['sub_month']==sub_mon, :].copy()\n",
    "    tmp['retention_prob'] = 1 - weibull_curve(tmp['ttl_stream_cum_hrs'], *rec['popt'][int(sub_mon-1)])\n",
    "    tmp['retention_inc'] = tmp['retention_prob'] - rec['base'][sub_mon-1]\n",
    "    tmp = tmp.drop(columns = 'retention_inc').merge(tmp.groupby(['hbo_uuid', 'provider_user_id', 'sub_month'])['retention_inc'].diff()\\\n",
    "                     .fillna(tmp['retention_inc']), left_index = True, right_index = True)\n",
    "    \n",
    "    df_title = df_title.loc[df_title['sub_month']!=sub_mon, :]\n",
    "    df_title = pd.concat([df_title, tmp], axis=0)\n",
    "    "
   ]
  },
  {
   "cell_type": "markdown",
   "id": "0b1a6c1e",
   "metadata": {},
   "source": [
    "## Indirect revenue - expected future values "
   ]
  },
  {
   "cell_type": "code",
   "execution_count": 12,
   "id": "e514f2ae",
   "metadata": {},
   "outputs": [],
   "source": [
    "df_ret = pd.read_csv('direct_rev_avg_retention.csv', sep='\\t')\n",
    "df_ret.columns = df_ret.columns.str.lower()"
   ]
  },
  {
   "cell_type": "code",
   "execution_count": 13,
   "id": "97e96577",
   "metadata": {},
   "outputs": [],
   "source": [
    "scenario_act = df_ret['retention_rate'].cumprod().values\n",
    "\n",
    "diff_val = (-pd.Series(scenario_act).diff()).values[1:]"
   ]
  },
  {
   "cell_type": "code",
   "execution_count": 14,
   "id": "6c7bd7a9",
   "metadata": {},
   "outputs": [],
   "source": [
    "rec_exp = {'indirect_rev_percent_expected':[], 'sub_month':[]}\n",
    "n = len(scenario_act)\n",
    "for cur_n in range(1, max_n + 1):\n",
    "    popt_no, pcov_no = curve_fit(weibull_curve, list(range(1, len(scenario_act)+1)), scenario_act , p0 = [0.5, 0,  0.1, 0], bounds = (-10, 10))\n",
    "    rec_exp['sub_month'].append(cur_n)\n",
    "    \n",
    "    # get mean sub length for a certain month based on the existing retetion rates\n",
    "    c=popt_no[0]\n",
    "    loc=popt_no[1]\n",
    "    scale=popt_no[2]\n",
    "    int_ = popt_no[3]\n",
    "    mean_length = integrate.quad(lambda x: x*(c*((x-loc)**(c-1))*(np.exp(-(x-loc)**c))/scale + int_), cur_n , n)[0]/n + cur_n\n",
    "\n",
    "    # calculate the retention prob diff curve\n",
    "    popt_no, pcov_no = curve_fit(weibull_curve, list(range(1, len(diff_val)+1)), diff_val , p0 = [0.5, 0,  0.1, 0], bounds = (-10, 10))\n",
    " \n",
    "    # get the final value\n",
    "    c=popt_no[0]\n",
    "    loc=popt_no[1]\n",
    "    scale=popt_no[2]\n",
    "    int_ = popt_no[3]\n",
    "    rec_exp['indirect_rev_percent_expected'].append(integrate.quad(lambda x: (c*((x-loc)**(c-1))*(np.exp(-(x-loc)**c))/scale + int_), cur_n , mean_length)[0])\n",
    "\n",
    "rec_exp = pd.DataFrame(rec_exp)\n"
   ]
  },
  {
   "cell_type": "markdown",
   "id": "0dc72df7",
   "metadata": {},
   "source": [
    "## Get reasonable factor "
   ]
  },
  {
   "cell_type": "code",
   "execution_count": 15,
   "id": "66d1faa3",
   "metadata": {},
   "outputs": [],
   "source": [
    "df_ttl_inc_ret = df_title.groupby(['hbo_uuid', 'provider_user_id', 'sub_month'])['retention_inc'].sum().reset_index()\n",
    "df_ttl_inc_ret = df_ttl_inc_ret.merge(final_output, on = ['hbo_uuid', 'sub_month'], how = 'left')\n",
    "\n",
    "df_ttl_inc_ret['indirect_revenue_factor'] = df_ttl_inc_ret['indirect_revenue_percent_ttl']/df_ttl_inc_ret['retention_inc']\n",
    "\n",
    "df_title = df_title.merge(df_ttl_inc_ret[['hbo_uuid', 'sub_month', 'indirect_revenue_factor']], on = ['hbo_uuid', 'sub_month'], how = 'left')\n"
   ]
  },
  {
   "cell_type": "code",
   "execution_count": 16,
   "id": "35c491ab",
   "metadata": {},
   "outputs": [],
   "source": [
    "df_title = df_title.merge(rec_exp, on= ['sub_month'], how = 'left')"
   ]
  },
  {
   "cell_type": "code",
   "execution_count": 20,
   "id": "3048d9ea",
   "metadata": {},
   "outputs": [],
   "source": [
    "df_title['indirect_revenue_factor'] = df_title['indirect_revenue_factor'].fillna(0)\n",
    "df_title['indirect_rev_percent_expected'] = df_title['indirect_rev_percent_expected'].fillna(0)\n",
    "df_title.loc[((df_title['indirect_rev_percent_expected']>0) |\\\n",
    "              (df_title['sub_month']<max_month) |\\\n",
    "              (df_title['is_cancel']==False)), 'indirect_rev_percent_expected'] = 0"
   ]
  },
  {
   "cell_type": "code",
   "execution_count": 23,
   "id": "eb68758a",
   "metadata": {},
   "outputs": [],
   "source": [
    "df_title['rev_direct'] =  df_title['retention_inc']*df_title['sku_price']\n",
    "df_title['rev_indirect'] =  df_title['retention_inc']*df_title['indirect_revenue_factor']*df_title['sku_price']\n",
    "df_title['rev_indirect_expected'] =  df_title['retention_inc']*df_title['indirect_rev_percent_expected']*df_title['sku_price']\n"
   ]
  },
  {
   "cell_type": "code",
   "execution_count": 50,
   "id": "5816daf9",
   "metadata": {},
   "outputs": [],
   "source": [
    "df_title['request_date'] = pd.to_datetime(df_title['min_request_time_gmt']).dt.strftime('%Y-%m-%d')\n",
    "\n",
    "df_title['signup_cohort_date'] = '2022-01-01'"
   ]
  },
  {
   "cell_type": "code",
   "execution_count": 53,
   "id": "3e977435",
   "metadata": {},
   "outputs": [],
   "source": [
    "output = df_title.groupby(['title_name', 'match_id', 'signup_cohort_date', 'request_date', 'sub_month'])\\\n",
    "    [['rev_direct', 'rev_indirect', 'rev_indirect_expected']].sum().reset_index()"
   ]
  },
  {
   "cell_type": "code",
   "execution_count": 54,
   "id": "8c5c1a9d",
   "metadata": {},
   "outputs": [
    {
     "data": {
      "text/html": [
       "<div>\n",
       "<style scoped>\n",
       "    .dataframe tbody tr th:only-of-type {\n",
       "        vertical-align: middle;\n",
       "    }\n",
       "\n",
       "    .dataframe tbody tr th {\n",
       "        vertical-align: top;\n",
       "    }\n",
       "\n",
       "    .dataframe thead th {\n",
       "        text-align: right;\n",
       "    }\n",
       "</style>\n",
       "<table border=\"1\" class=\"dataframe\">\n",
       "  <thead>\n",
       "    <tr style=\"text-align: right;\">\n",
       "      <th></th>\n",
       "      <th>title_name</th>\n",
       "      <th>match_id</th>\n",
       "      <th>signup_cohort_date</th>\n",
       "      <th>request_date</th>\n",
       "      <th>sub_month</th>\n",
       "      <th>rev_direct</th>\n",
       "      <th>rev_indirect</th>\n",
       "      <th>rev_indirect_expected</th>\n",
       "    </tr>\n",
       "  </thead>\n",
       "  <tbody>\n",
       "    <tr>\n",
       "      <th>0</th>\n",
       "      <td>\"10\"</td>\n",
       "      <td>GYGIefg1jFcMUuAEAAAAi</td>\n",
       "      <td>2022-01-01</td>\n",
       "      <td>2022-04-01</td>\n",
       "      <td>3</td>\n",
       "      <td>0.005796</td>\n",
       "      <td>0.013658</td>\n",
       "      <td>0.0</td>\n",
       "    </tr>\n",
       "    <tr>\n",
       "      <th>1</th>\n",
       "      <td>\"10\"</td>\n",
       "      <td>GYGIefg1jFcMUuAEAAAAi</td>\n",
       "      <td>2022-01-01</td>\n",
       "      <td>2022-04-01</td>\n",
       "      <td>4</td>\n",
       "      <td>0.588089</td>\n",
       "      <td>0.981877</td>\n",
       "      <td>0.0</td>\n",
       "    </tr>\n",
       "    <tr>\n",
       "      <th>2</th>\n",
       "      <td>\"10\"</td>\n",
       "      <td>GYGIefg1jFcMUuAEAAAAi</td>\n",
       "      <td>2022-01-01</td>\n",
       "      <td>2022-04-02</td>\n",
       "      <td>4</td>\n",
       "      <td>0.932907</td>\n",
       "      <td>1.375252</td>\n",
       "      <td>0.0</td>\n",
       "    </tr>\n",
       "    <tr>\n",
       "      <th>3</th>\n",
       "      <td>\"10\"</td>\n",
       "      <td>GYGIefg1jFcMUuAEAAAAi</td>\n",
       "      <td>2022-01-01</td>\n",
       "      <td>2022-04-03</td>\n",
       "      <td>4</td>\n",
       "      <td>1.086138</td>\n",
       "      <td>1.905120</td>\n",
       "      <td>0.0</td>\n",
       "    </tr>\n",
       "    <tr>\n",
       "      <th>4</th>\n",
       "      <td>\"10\"</td>\n",
       "      <td>GYGIefg1jFcMUuAEAAAAi</td>\n",
       "      <td>2022-01-01</td>\n",
       "      <td>2022-04-04</td>\n",
       "      <td>4</td>\n",
       "      <td>0.087544</td>\n",
       "      <td>0.159840</td>\n",
       "      <td>0.0</td>\n",
       "    </tr>\n",
       "    <tr>\n",
       "      <th>...</th>\n",
       "      <td>...</td>\n",
       "      <td>...</td>\n",
       "      <td>...</td>\n",
       "      <td>...</td>\n",
       "      <td>...</td>\n",
       "      <td>...</td>\n",
       "      <td>...</td>\n",
       "      <td>...</td>\n",
       "    </tr>\n",
       "    <tr>\n",
       "      <th>540452</th>\n",
       "      <td>¡Mucha Lucha! S1</td>\n",
       "      <td>GYKb_dw6VMRi_uQEAAABX-1</td>\n",
       "      <td>2022-01-01</td>\n",
       "      <td>2022-05-02</td>\n",
       "      <td>5</td>\n",
       "      <td>0.015510</td>\n",
       "      <td>0.014637</td>\n",
       "      <td>0.0</td>\n",
       "    </tr>\n",
       "    <tr>\n",
       "      <th>540453</th>\n",
       "      <td>¡Mucha Lucha! S1</td>\n",
       "      <td>GYKb_dw6VMRi_uQEAAABX-1</td>\n",
       "      <td>2022-01-01</td>\n",
       "      <td>2022-05-08</td>\n",
       "      <td>5</td>\n",
       "      <td>0.012373</td>\n",
       "      <td>0.011673</td>\n",
       "      <td>0.0</td>\n",
       "    </tr>\n",
       "    <tr>\n",
       "      <th>540454</th>\n",
       "      <td>Área Chica Infierno Grande (Hell In the Goal A...</td>\n",
       "      <td>GYVuNtABkiS-ghgEAAACX</td>\n",
       "      <td>2022-01-01</td>\n",
       "      <td>2022-01-31</td>\n",
       "      <td>1</td>\n",
       "      <td>0.002301</td>\n",
       "      <td>0.008957</td>\n",
       "      <td>0.0</td>\n",
       "    </tr>\n",
       "    <tr>\n",
       "      <th>540455</th>\n",
       "      <td>Área Chica Infierno Grande (Hell In the Goal A...</td>\n",
       "      <td>GYVuNtABkiS-ghgEAAACX</td>\n",
       "      <td>2022-01-01</td>\n",
       "      <td>2022-02-13</td>\n",
       "      <td>2</td>\n",
       "      <td>0.002790</td>\n",
       "      <td>0.007175</td>\n",
       "      <td>0.0</td>\n",
       "    </tr>\n",
       "    <tr>\n",
       "      <th>540456</th>\n",
       "      <td>Área Chica Infierno Grande (Hell In the Goal A...</td>\n",
       "      <td>GYVuNtABkiS-ghgEAAACX</td>\n",
       "      <td>2022-01-01</td>\n",
       "      <td>2022-05-02</td>\n",
       "      <td>5</td>\n",
       "      <td>0.019919</td>\n",
       "      <td>0.000000</td>\n",
       "      <td>0.0</td>\n",
       "    </tr>\n",
       "  </tbody>\n",
       "</table>\n",
       "<p>540457 rows × 8 columns</p>\n",
       "</div>"
      ],
      "text/plain": [
       "                                               title_name  \\\n",
       "0                                                    \"10\"   \n",
       "1                                                    \"10\"   \n",
       "2                                                    \"10\"   \n",
       "3                                                    \"10\"   \n",
       "4                                                    \"10\"   \n",
       "...                                                   ...   \n",
       "540452                                   ¡Mucha Lucha! S1   \n",
       "540453                                   ¡Mucha Lucha! S1   \n",
       "540454  Área Chica Infierno Grande (Hell In the Goal A...   \n",
       "540455  Área Chica Infierno Grande (Hell In the Goal A...   \n",
       "540456  Área Chica Infierno Grande (Hell In the Goal A...   \n",
       "\n",
       "                       match_id signup_cohort_date request_date  sub_month  \\\n",
       "0         GYGIefg1jFcMUuAEAAAAi         2022-01-01   2022-04-01          3   \n",
       "1         GYGIefg1jFcMUuAEAAAAi         2022-01-01   2022-04-01          4   \n",
       "2         GYGIefg1jFcMUuAEAAAAi         2022-01-01   2022-04-02          4   \n",
       "3         GYGIefg1jFcMUuAEAAAAi         2022-01-01   2022-04-03          4   \n",
       "4         GYGIefg1jFcMUuAEAAAAi         2022-01-01   2022-04-04          4   \n",
       "...                         ...                ...          ...        ...   \n",
       "540452  GYKb_dw6VMRi_uQEAAABX-1         2022-01-01   2022-05-02          5   \n",
       "540453  GYKb_dw6VMRi_uQEAAABX-1         2022-01-01   2022-05-08          5   \n",
       "540454    GYVuNtABkiS-ghgEAAACX         2022-01-01   2022-01-31          1   \n",
       "540455    GYVuNtABkiS-ghgEAAACX         2022-01-01   2022-02-13          2   \n",
       "540456    GYVuNtABkiS-ghgEAAACX         2022-01-01   2022-05-02          5   \n",
       "\n",
       "        rev_direct  rev_indirect  rev_indirect_expected  \n",
       "0         0.005796      0.013658                    0.0  \n",
       "1         0.588089      0.981877                    0.0  \n",
       "2         0.932907      1.375252                    0.0  \n",
       "3         1.086138      1.905120                    0.0  \n",
       "4         0.087544      0.159840                    0.0  \n",
       "...            ...           ...                    ...  \n",
       "540452    0.015510      0.014637                    0.0  \n",
       "540453    0.012373      0.011673                    0.0  \n",
       "540454    0.002301      0.008957                    0.0  \n",
       "540455    0.002790      0.007175                    0.0  \n",
       "540456    0.019919      0.000000                    0.0  \n",
       "\n",
       "[540457 rows x 8 columns]"
      ]
     },
     "execution_count": 54,
     "metadata": {},
     "output_type": "execute_result"
    }
   ],
   "source": [
    "output"
   ]
  },
  {
   "cell_type": "code",
   "execution_count": null,
   "id": "bbf43111",
   "metadata": {},
   "outputs": [],
   "source": [
    "create or replace table max_dev.workspace.user_retain_churn_list_test as (\n",
    "    -- basic table\n",
    "    with crs_sub_balance as (\n",
    "        select\n",
    "              uuid as hbo_uuid\n",
    "            , provider\n",
    "            , provider_user_id\n",
    "            , subscription_start_date\n",
    "            , subscription_expire_date\n",
    "            , sku\n",
    "            , is_direct_to_paid\n",
    "            , is_cancel\n",
    "            , is_reconnect\n",
    "        from max_prod.bi_analytics.fact_common_receipt a\n",
    "        join enterprise_data.identity.idgraph_vertex as b\n",
    "            on a.provider_user_id = b.name\n",
    "        where 1=1\n",
    "            and a.provider in ('apple', 'dtc', 'google', 'samsung', 'amazon', 'roku')\n",
    "            and product_code  = 'hboMax'\n",
    "            and provider_user_id is not null\n",
    "            and a.territory = 'HBO MAX DOMESTIC'\n",
    "            and uuid is not null\n",
    "            and subscription_start_date is not null\n",
    "            and is_12f12 = false\n",
    "            and sku in ('SVOD Monthly', 'AVOD Monthly')\n",
    "            and free_paid_ind != 'trial'\n",
    "            and datediff(day, subscription_start_date, subscription_expire_date) > 7\n",
    "    ),\n",
    "\n",
    "    -- find the first sub start date for each uuid-provider id\n",
    "    provider_id_start as (\n",
    "        select\n",
    "            hbo_uuid\n",
    "            , provider_user_id\n",
    "            , min(subscription_start_date) as min_subscription_start_date\n",
    "        from crs_sub_balance\n",
    "        group by 1,2\n",
    "    ),\n",
    "\n",
    "    -- join the earliest provider id subscription date to identify the start\n",
    "    -- of a provider user id\n",
    "    intermediate_sub_base as (\n",
    "        select\n",
    "              c.hbo_uuid\n",
    "            , provider\n",
    "            , c.provider_user_id\n",
    "            , subscription_start_date\n",
    "            , subscription_expire_date\n",
    "            , sku\n",
    "            , is_direct_to_paid\n",
    "            , is_cancel\n",
    "            , is_reconnect\n",
    "            , case when min_subscription_start_date is null then False else True end\n",
    "                as is_provider_id_start\n",
    "        from crs_sub_balance as c\n",
    "        left join provider_id_start as p\n",
    "            on c.hbo_uuid = p.hbo_uuid\n",
    "                and c.provider_user_id = p.provider_user_id\n",
    "                and c.subscription_start_date = p.min_subscription_start_date\n",
    "    ),\n",
    "\n",
    "    -- find the break point of each session\n",
    "    continous_sub_index_base as (\n",
    "        select\n",
    "              hbo_uuid\n",
    "            , provider\n",
    "            , provider_user_id\n",
    "            , subscription_start_date\n",
    "            , subscription_expire_date\n",
    "            , sku\n",
    "            , is_provider_id_start\n",
    "            , is_direct_to_paid\n",
    "            , is_cancel\n",
    "            , is_reconnect\n",
    "            , case\n",
    "            -- only takes the autorenewal into account for now\n",
    "                when is_provider_id_start or is_reconnect or is_direct_to_paid then 1\n",
    "                else 0 end\n",
    "                    as cont_sub_session_ind\n",
    "            from intermediate_sub_base\n",
    "        ),\n",
    "\n",
    "    -- sum it up to create sub continuous sub session\n",
    "    sub_session_table as (\n",
    "         select\n",
    "                hbo_uuid\n",
    "              , provider_user_id\n",
    "              , subscription_start_date\n",
    "              , subscription_expire_date\n",
    "              , sku\n",
    "              , is_direct_to_paid\n",
    "              , is_provider_id_start\n",
    "              , is_cancel\n",
    "              , is_reconnect\n",
    "              , sum(cont_sub_session_ind)\n",
    "                    over (partition by hbo_uuid\n",
    "                            , provider_user_id\n",
    "                             order by subscription_start_date asc)\n",
    "                        as sub_session_ind\n",
    "         from continous_sub_index_base\n",
    "     ),\n",
    "\n",
    "    -- find the earliest sub start date of each session\n",
    "    sub_session_earliest_table as (\n",
    "        select\n",
    "            hbo_uuid\n",
    "          , provider_user_id\n",
    "          , sub_session_ind\n",
    "          , min(subscription_start_date)  as sub_session_start_timestamp\n",
    "        from sub_session_table\n",
    "        group by 1, 2, 3\n",
    "    ),\n",
    "\n",
    "    -- calculate the sub months\n",
    "    final_base as (\n",
    "        select\n",
    "              b.hbo_uuid\n",
    "            , b.provider_user_id\n",
    "            , is_direct_to_paid\n",
    "            , is_provider_id_start\n",
    "            , is_cancel\n",
    "            , is_reconnect\n",
    "            , b.sub_session_ind\n",
    "            , sub_session_start_timestamp\n",
    "            , sku\n",
    "            , subscription_start_date\n",
    "            , subscription_expire_date\n",
    "            -- cumsum 1 to count the number of months\n",
    "            , ceil(datediff(day, sub_session_start_timestamp,  subscription_expire_date)/32) as sub_month\n",
    "        from sub_session_table as b\n",
    "        join sub_session_earliest_table as s\n",
    "            on b.hbo_uuid = s.hbo_uuid\n",
    "                and b.provider_user_id = s.provider_user_id\n",
    "                and b.sub_session_ind = s.sub_session_ind\n",
    "        where 1=1\n",
    "    ),\n",
    "\n",
    "    sub_mon_clean as (\n",
    "        select\n",
    "              hbo_uuid\n",
    "            , provider_user_id\n",
    "            , sub_session_ind\n",
    "            , sub_month\n",
    "            , sku\n",
    "            , boolor_agg(is_direct_to_paid) as is_direct_to_paid\n",
    "            , boolor_agg(is_provider_id_start) as is_provider_id_start\n",
    "            , boolor_agg(is_cancel) as is_cancel\n",
    "            , boolor_agg(is_reconnect) as is_reconnect\n",
    "            , min(sub_session_start_timestamp) as sub_session_start_timestamp_clean\n",
    "            , min(subscription_start_date) as subscription_start_date_clean\n",
    "            , max(subscription_expire_date) as subscription_expire_date_clean\n",
    "        from final_base\n",
    "        where 1=1\n",
    "            and sub_month > 0\n",
    "        group by 1,2,3,4,5\n",
    "    )\n",
    "\n",
    "    select\n",
    "        *\n",
    "        , lag(subscription_expire_date_clean, 1)\n",
    "            over (partition by hbo_uuid\n",
    "                    , provider_user_id\n",
    "                     order by sub_session_ind asc) as prev_session_expire_date_clean\n",
    "    from sub_mon_clean as f\n",
    "    where 1=1\n",
    "    order by hbo_uuid, provider_user_id, sub_session_ind, subscription_start_date_clean\n",
    ");"
   ]
  },
  {
   "cell_type": "code",
   "execution_count": null,
   "id": "6748d42c",
   "metadata": {},
   "outputs": [],
   "source": [
    "select\n",
    "      c.hbo_uuid\n",
    "    , provider_user_id\n",
    "    , sub_month\n",
    "    , is_cancel\n",
    "    , is_reconnect\n",
    "    , sum(ifnull(stream_elapsed_play_seconds, 0))/3600 as ttl_stream_hr\n",
    "from max_dev.workspace.user_retain_churn_list_test as c\n",
    "left join max_prod.datascience_stage.user_stream_detail_enriched as v\n",
    "    on v.hbo_uuid = c.hbo_uuid\n",
    "where 1=1\n",
    "    and home_territory = 'HBO MAX DOMESTIC'\n",
    "    and request_time_gmt between subscription_start_date_clean and subscription_expire_date_clean\n",
    "    and subscription_expire_date_clean between '2022-02-10' and dateadd(day, 6, '2022-02-10')\n",
    "    and product_code = 'hboMax'\n",
    "    and asset_type = 'FEATURE'\n",
    "group by 1,2,3,4\n",
    ";"
   ]
  }
 ],
 "metadata": {
  "kernelspec": {
   "display_name": "conda_amazonei_mxnet_p27",
   "language": "python",
   "name": "conda_amazonei_mxnet_p27"
  },
  "language_info": {
   "codemirror_mode": {
    "name": "ipython",
    "version": 2
   },
   "file_extension": ".py",
   "mimetype": "text/x-python",
   "name": "python",
   "nbconvert_exporter": "python",
   "pygments_lexer": "ipython2",
   "version": "2.7.16"
  }
 },
 "nbformat": 4,
 "nbformat_minor": 5
}
