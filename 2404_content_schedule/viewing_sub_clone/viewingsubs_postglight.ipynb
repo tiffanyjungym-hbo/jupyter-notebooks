{
 "cells": [
  {
   "cell_type": "markdown",
   "metadata": {
    "application/vnd.databricks.v1+cell": {
     "cellMetadata": {},
     "inputWidgets": {},
     "nuid": "8e21503c-c5c3-4dec-8be3-a6952e079779",
     "showTitle": false,
     "title": ""
    }
   },
   "source": [
    "# Run Post Greenlight Model"
   ]
  },
  {
   "cell_type": "code",
   "execution_count": 0,
   "metadata": {
    "application/vnd.databricks.v1+cell": {
     "cellMetadata": {},
     "inputWidgets": {},
     "nuid": "dc70733f-aea0-406f-9105-d13a24141cc0",
     "showTitle": false,
     "title": ""
    }
   },
   "outputs": [],
   "source": [
    "# sf_creds = 'hbo-max-content-datascience-snowflake-dev'\n",
    "# database = 'max_dev'\n",
    "# input_bucket = \"hbo-ingest-datascience-content\"\n",
    "# output_bucket = \"hbo-outbound-datascience-content-dev\"\n",
    "# schema = 'delphi'"
   ]
  },
  {
   "cell_type": "code",
   "execution_count": 0,
   "metadata": {
    "application/vnd.databricks.v1+cell": {
     "cellMetadata": {},
     "inputWidgets": {},
     "nuid": "bca9e338-ab26-434b-b974-ffda1cd5a679",
     "showTitle": false,
     "title": ""
    }
   },
   "outputs": [],
   "source": [
    "# Import Packages\n",
    "import sys, os, re \n",
    "import io\n",
    "import pandas as pd\n",
    "import numpy as np\n",
    "import itertools as it\n",
    "import logging\n",
    "import boto3\n",
    "import json\n",
    "from datetime import datetime, timedelta\n",
    "\n",
    "\n",
    "import lib.util_snowflake as sfk\n",
    "from snowflake.connector.errors import ProgrammingError\n",
    "from snowflake.connector.pandas_tools import write_pandas\n",
    "\n",
    "import warnings\n",
    "warnings.filterwarnings('ignore')\n",
    "\n",
    "pd.set_option('display.max_columns', None)\n",
    "logger = logging.getLogger()\n",
    "logging.basicConfig(level=logging.INFO)\n",
    "logger.info(f'Starting Notebook')\n",
    "\n",
    "if not sys.warnoptions:\n",
    "    import warnings\n",
    "    warnings.simplefilter(\"ignore\")"
   ]
  },
  {
   "cell_type": "code",
   "execution_count": 0,
   "metadata": {
    "application/vnd.databricks.v1+cell": {
     "cellMetadata": {},
     "inputWidgets": {},
     "nuid": "694eb3d7-6695-414a-9e79-efa66b735466",
     "showTitle": false,
     "title": ""
    }
   },
   "outputs": [],
   "source": [
    "%load_ext autoreload\n",
    "%autoreload 2\n",
    "schema = 'delphi'\n",
    "current_date = (datetime.now() - timedelta(1)).strftime('%Y-%m-%d')\n",
    "kpi = 'viewing_subs'\n",
    "geo_value = 'NORTH AMERICA'"
   ]
  },
  {
   "cell_type": "code",
   "execution_count": 0,
   "metadata": {
    "application/vnd.databricks.v1+cell": {
     "cellMetadata": {},
     "inputWidgets": {},
     "nuid": "100b8f2a-e4a2-4fe9-b2f8-4d3e574d685a",
     "showTitle": false,
     "title": ""
    }
   },
   "outputs": [],
   "source": [
    "## Run Credentials to connect to Snowflake\n",
    "logger.info(f'TEST: {sf_creds}')\n",
    "## Snowflake connection \n",
    "conn = sfk.SnowflakeConnector(sfk.SSMPSCredentials(sf_creds))\n",
    "ctx= conn.connect(database, schema)\n",
    "cur = ctx.cursor()"
   ]
  },
  {
   "cell_type": "markdown",
   "metadata": {
    "application/vnd.databricks.v1+cell": {
     "cellMetadata": {},
     "inputWidgets": {},
     "nuid": "9a8a86c5-13b5-4716-aa72-fd20ea120fb6",
     "showTitle": false,
     "title": ""
    }
   },
   "source": [
    "## 1.0 Query Data"
   ]
  },
  {
   "cell_type": "code",
   "execution_count": 0,
   "metadata": {
    "application/vnd.databricks.v1+cell": {
     "cellMetadata": {},
     "inputWidgets": {},
     "nuid": "eea8f89b-e7ea-40cd-a5f1-e6727c263434",
     "showTitle": false,
     "title": ""
    }
   },
   "outputs": [],
   "source": [
    "# train_test_scope = 'lib/dev_train_test_scope.py'\n",
    "# %run $train_test_scope"
   ]
  },
  {
   "cell_type": "code",
   "execution_count": 0,
   "metadata": {
    "application/vnd.databricks.v1+cell": {
     "cellMetadata": {},
     "inputWidgets": {},
     "nuid": "96a1a160-816a-4034-8e61-8ced599ec25f",
     "showTitle": false,
     "title": ""
    }
   },
   "outputs": [],
   "source": [
    "## 2.1 Read Metadata New\n",
    "query_metadata = f\"\"\"select * from {database}.content_datascience.viewingsubs_metadata_train where geo_value='{geo_value}'\"\"\"\n",
    "logger.info(f'TEST: {query_metadata}')\n",
    "metadata_feature = sfk.execute_query(query = query_metadata, ctx=ctx)\n",
    "\n",
    "## 2.2 Read Future Schedule\n",
    "query_schedule = f\"\"\"select * from {database}.content_datascience.viewingsubs_metadata_pred where geo_value='{geo_value}'\"\"\"\n",
    "logger.info(f'TEST: {query_schedule}')\n",
    "df_pred = sfk.execute_query(query = query_schedule, ctx = ctx)\n",
    "# print('Loading SFK table file {}'.format(file_ref))\n",
    "\n",
    "# 2.3 Import Engagement\n",
    "query_metric = f\"\"\"select * from {database}.content_datascience.viewingsubs_metrics_train where geo_value='{geo_value}'\"\"\"\n",
    "logger.info(f'{query_metric}')\n",
    "df_metric = sfk.execute_query(query = query_metric, ctx = ctx)"
   ]
  },
  {
   "cell_type": "markdown",
   "metadata": {
    "application/vnd.databricks.v1+cell": {
     "cellMetadata": {},
     "inputWidgets": {},
     "nuid": "596962cb-27c0-471e-97bc-3c250f465a07",
     "showTitle": false,
     "title": ""
    }
   },
   "source": [
    "### 1.1 Train Test Scope"
   ]
  },
  {
   "cell_type": "code",
   "execution_count": 0,
   "metadata": {
    "application/vnd.databricks.v1+cell": {
     "cellMetadata": {},
     "inputWidgets": {},
     "nuid": "6f6f49d8-a972-4a8d-9077-6245e386ecbf",
     "showTitle": false,
     "title": ""
    }
   },
   "outputs": [],
   "source": [
    "from lib.dev_train_test_scope import train_test_scope\n",
    "\n",
    "current_date = (datetime.now() - timedelta(1)).strftime('%Y-%m-%d')\n",
    "train_test_data = train_test_scope(current_date, input_bucket, output_bucket, \n",
    "                                   database, schema, geo_value, kpi, metadata_feature, df_pred)\n",
    "train_test_data.run()\n",
    "train_dataset = train_test_data.train_dataset\n",
    "score_pgl = train_test_data.score_pgl\n",
    "score_pre = train_test_data.score_pre\n",
    "score_post = train_test_data.score_post"
   ]
  },
  {
   "cell_type": "markdown",
   "metadata": {
    "application/vnd.databricks.v1+cell": {
     "cellMetadata": {},
     "inputWidgets": {},
     "nuid": "f035c0cb-4696-421c-8c01-12eb8560086b",
     "showTitle": false,
     "title": ""
    }
   },
   "source": [
    "## Model"
   ]
  },
  {
   "cell_type": "markdown",
   "metadata": {
    "application/vnd.databricks.v1+cell": {
     "cellMetadata": {},
     "inputWidgets": {},
     "nuid": "302c4801-a40e-4876-b71e-c74e4f7aec54",
     "showTitle": false,
     "title": ""
    }
   },
   "source": [
    "## 2.0 Post-GreenLight Model"
   ]
  },
  {
   "cell_type": "code",
   "execution_count": 0,
   "metadata": {
    "application/vnd.databricks.v1+cell": {
     "cellMetadata": {},
     "inputWidgets": {},
     "nuid": "b2bceb52-a2bc-48f3-894e-b0ef09a768e8",
     "showTitle": false,
     "title": ""
    }
   },
   "outputs": [],
   "source": [
    "from lib.dev_Post_GreenLight_Model import post_greenlight_model"
   ]
  },
  {
   "cell_type": "code",
   "execution_count": 0,
   "metadata": {
    "application/vnd.databricks.v1+cell": {
     "cellMetadata": {},
     "inputWidgets": {},
     "nuid": "e1906098-cd22-4672-a48b-e37543b9bda0",
     "showTitle": false,
     "title": ""
    }
   },
   "outputs": [],
   "source": [
    "# Post_GreenLight_Model = 'lib/dev_Post_GreenLight_Model.py'\n",
    "# %run $Post_GreenLight_Model"
   ]
  },
  {
   "cell_type": "markdown",
   "metadata": {
    "application/vnd.databricks.v1+cell": {
     "cellMetadata": {},
     "inputWidgets": {},
     "nuid": "ac99d585-6faa-4f1a-87ca-ed868f906126",
     "showTitle": false,
     "title": ""
    }
   },
   "source": [
    "### 2.1 Pull in Data"
   ]
  },
  {
   "cell_type": "code",
   "execution_count": 0,
   "metadata": {
    "application/vnd.databricks.v1+cell": {
     "cellMetadata": {},
     "inputWidgets": {},
     "nuid": "98b2e670-7c70-4f01-8978-680f9e1fbeb7",
     "showTitle": false,
     "title": ""
    }
   },
   "outputs": [],
   "source": [
    "# Name train and set\n",
    "train_data_set = train_test_data.train_dataset\n",
    "test_data_set = train_test_data.score_pgl"
   ]
  },
  {
   "cell_type": "code",
   "execution_count": 0,
   "metadata": {
    "application/vnd.databricks.v1+cell": {
     "cellMetadata": {},
     "inputWidgets": {},
     "nuid": "a89a8079-bfb3-4793-a4c7-ffcef07ca3d6",
     "showTitle": false,
     "title": ""
    }
   },
   "outputs": [],
   "source": [
    "# Run Model with Cross Validation\n",
    "pgl_model = post_greenlight_model(train_data_set, test_data_set, kpi, \n",
    "                                  input_bucket, output_bucket, geo_value, \n",
    "                                  database, schema, df_metric)\n",
    "pgl_model.feature_engineer()\n",
    "input_train = pgl_model.train_data\n",
    "input_test = pgl_model.test_data\n",
    "pgl_model.cv(NUM_FOLD = 3)\n",
    "\n",
    "# To review predictions and feature importances in notebook\n",
    "feature_importances = pgl_model.feature_importances\n",
    "validation_set = pgl_model.validation_set"
   ]
  },
  {
   "cell_type": "code",
   "execution_count": 0,
   "metadata": {
    "application/vnd.databricks.v1+cell": {
     "cellMetadata": {},
     "inputWidgets": {},
     "nuid": "0336fce3-3b62-49e7-813d-e33676691cfa",
     "showTitle": false,
     "title": ""
    }
   },
   "outputs": [],
   "source": [
    "pgl_model.scoring()\n",
    "prediction_set_post_gl = pgl_model.prediction_set"
   ]
  },
  {
   "cell_type": "markdown",
   "metadata": {
    "application/vnd.databricks.v1+cell": {
     "cellMetadata": {},
     "inputWidgets": {},
     "nuid": "34633ab0-7faf-43e6-ab9a-19573fd13705",
     "showTitle": false,
     "title": ""
    }
   },
   "source": [
    "### 2.2 Format PostGLight Predictions and Write them to Delphi"
   ]
  },
  {
   "cell_type": "code",
   "execution_count": 0,
   "metadata": {
    "application/vnd.databricks.v1+cell": {
     "cellMetadata": {},
     "inputWidgets": {},
     "nuid": "fee54d4f-e1b6-4de2-bc22-8a024a8fc710",
     "showTitle": false,
     "title": ""
    }
   },
   "outputs": [],
   "source": [
    "# Add Columns needed for Delphi Prediction Tables\n",
    "\n",
    "data = {\n",
    "    'model_name': ['pct_viewing_subs_2.0'],\n",
    "    'table_name': ['pct_viewing_subs_postgl'],\n",
    "    'model_version': ['2.0'],\n",
    "    'sub_type': ['Max Retail+Wholesale'],\n",
    "    'sub_plan': ['Platform'],\n",
    "    'unit': ['percent'],\n",
    "    'region': [geo_value],\n",
    "    'days_after_premiere': [28],\n",
    "    'publish_date': [current_date],\n",
    "    'key': [1]\n",
    "}\n",
    "df_delphi = pd.DataFrame(data=data, columns = data.keys())\n",
    "\n",
    "prediction_set_post_gl['key'] = 1\n",
    "df_delphi_postgl = df_delphi.merge(prediction_set_post_gl, on='key').drop('key', 1).reset_index(drop=True).copy()\n",
    "\n",
    "# Add imdb_id and ckg_match_id\n",
    "df_delphi_postgl = df_delphi_postgl.merge(test_data_set[['delphi_id', 'ckg_match_id', 'ckg_series_id', 'imdb_series_id',\n",
    "                                                         'title_season', 'title_series', 'season_number']], \n",
    "                                          on=['title_season', 'title_series', 'season_number'], how='inner')"
   ]
  },
  {
   "cell_type": "code",
   "execution_count": 0,
   "metadata": {
    "application/vnd.databricks.v1+cell": {
     "cellMetadata": {},
     "inputWidgets": {},
     "nuid": "2047366e-1a34-41d2-b7d6-783a540f2717",
     "showTitle": false,
     "title": ""
    }
   },
   "outputs": [],
   "source": [
    "# Rename Columns to match Delphi\n",
    "rename_set = {\n",
    "    'ckg_series_id' : 'title_id',\n",
    "    'imdb_series_id' : 'imdb_id',\n",
    "    'title_series' : 'title_name', \n",
    "    'derived_genre' :'category',   \n",
    "    'first_release_date' : 'premiere_date'\n",
    "}\n",
    "df_delphi_postgl.rename(columns = rename_set, inplace=True)\n"
   ]
  },
  {
   "cell_type": "code",
   "execution_count": 0,
   "metadata": {
    "application/vnd.databricks.v1+cell": {
     "cellMetadata": {},
     "inputWidgets": {},
     "nuid": "8432bbb2-4266-41cc-ae47-70b43c3f6e81",
     "showTitle": false,
     "title": ""
    }
   },
   "outputs": [],
   "source": [
    "# Update dates to datetime object\n",
    "df_delphi_postgl['premiere_date'] = pd.to_datetime(df_delphi_postgl['premiere_date'])\n",
    "df_delphi_postgl['publish_date'] = pd.to_datetime(df_delphi_postgl['publish_date'])\n",
    "df_delphi_postgl['current_days_from_premiere'] = (df_delphi_postgl['publish_date'] - df_delphi_postgl['premiere_date']).dt.days\n",
    "df_delphi_postgl['target_date'] = df_delphi_postgl['premiere_date'] + df_delphi_postgl['days_after_premiere'].apply(lambda x: pd.DateOffset(days=x))\n",
    "\n",
    "# Back to string to make compatible with sfk package\n",
    "df_delphi_postgl['publish_date'] = df_delphi_postgl['publish_date'].apply(lambda x: x.strftime('%Y-%m-%d'))\n",
    "df_delphi_postgl['target_date'] = df_delphi_postgl['target_date'].apply(lambda x: x.strftime('%Y-%m-%d'))\n",
    "df_delphi_postgl['premiere_date'] = df_delphi_postgl['premiere_date'].apply(lambda x: x.strftime('%Y-%m-%d'))\n"
   ]
  },
  {
   "cell_type": "code",
   "execution_count": 0,
   "metadata": {
    "application/vnd.databricks.v1+cell": {
     "cellMetadata": {},
     "inputWidgets": {},
     "nuid": "acfc8abf-cee9-4991-b09d-c2259f9677d9",
     "showTitle": false,
     "title": ""
    }
   },
   "outputs": [],
   "source": [
    "df_delphi_postgl = df_delphi_postgl.drop(columns=['ckg_match_id', 'title_id'])"
   ]
  },
  {
   "cell_type": "code",
   "execution_count": 0,
   "metadata": {
    "application/vnd.databricks.v1+cell": {
     "cellMetadata": {},
     "inputWidgets": {},
     "nuid": "87244b2c-8c14-453c-92d4-45b8514c3b1d",
     "showTitle": false,
     "title": ""
    }
   },
   "outputs": [],
   "source": [
    "# sfk_lib = 'lib/util_snowflake.py'\n",
    "# %run $sfk_lib"
   ]
  },
  {
   "cell_type": "code",
   "execution_count": 0,
   "metadata": {
    "application/vnd.databricks.v1+cell": {
     "cellMetadata": {},
     "inputWidgets": {},
     "nuid": "4796787b-78d0-4a79-8e91-75c16f838e35",
     "showTitle": false,
     "title": ""
    }
   },
   "outputs": [],
   "source": [
    "# Write to Snowflake\n",
    "table_name = f'{df_delphi_postgl.table_name.unique()[0]}_staging'\n",
    "sfk.export_dataframe_to_table(database=database, schema='delphi', df=df_delphi_postgl, \n",
    "                              table=table_name, ctx=ctx)"
   ]
  },
  {
   "cell_type": "markdown",
   "metadata": {
    "application/vnd.databricks.v1+cell": {
     "cellMetadata": {},
     "inputWidgets": {},
     "nuid": "f31820e7-5cd6-4681-a4ab-7f6e77546ac0",
     "showTitle": false,
     "title": ""
    }
   },
   "source": [
    "## Clean Up"
   ]
  },
  {
   "cell_type": "code",
   "execution_count": 0,
   "metadata": {
    "application/vnd.databricks.v1+cell": {
     "cellMetadata": {},
     "inputWidgets": {},
     "nuid": "d2324c26-77da-4afc-9673-7ba5064dd722",
     "showTitle": false,
     "title": ""
    }
   },
   "outputs": [],
   "source": [
    "# # # ## Create table to post predictions into\n",
    "# drop_table = f\"\"\"drop table if exists {database}.delphi.pct_viewing_subs_postgl_staging\"\"\"\n",
    "# logger.info(f'TEST: {drop_table}')\n",
    "# sfk.execute_query(query = drop_table, ctx=ctx)\n",
    "\n",
    "# create_table = f\"\"\"\n",
    "# create table if not exists {database}.delphi.pct_viewing_subs_postgl_staging (\n",
    "#     model_name varchar, table_name varchar, model_version float,\n",
    "#     sub_type varchar, sub_plan string, unit string, region string,\n",
    "#     days_after_premiere number(38,0), publish_date date, title_season string,\n",
    "#     title_name varchar, season_number varchar, premiere_date date, observed_medal_num float,\n",
    "#     prequel_featured_count float, prequel_count float, category string, lifecycle string,\n",
    "#     prediction float, delphi_id string, \n",
    "#     imdb_id varchar, current_days_from_premiere number(38,0), target_date date);\n",
    "# \"\"\"\n",
    "# sfk.execute_query(query = create_table, ctx=ctx)"
   ]
  },
  {
   "cell_type": "code",
   "execution_count": 0,
   "metadata": {
    "application/vnd.databricks.v1+cell": {
     "cellMetadata": {},
     "inputWidgets": {},
     "nuid": "102e825d-9d0f-4d88-808f-6b2046a2e918",
     "showTitle": false,
     "title": ""
    }
   },
   "outputs": [],
   "source": [
    "# df_delphi_postgl = df_delphi_postgl.astype({\n",
    "#     'model_name':'string', 'table_name':'string', 'model_version':'string', \n",
    "#     'sub_type':'string', 'sub_plan':'string','unit':'string', 'region':'string', \n",
    "#     'days_after_premiere':'int', 'title_season':'string', 'title_name':'string', \n",
    "#     'season_number':'string', \n",
    "#     'category':'string', 'lifecycle':'string', \n",
    "#     'delphi_id':'string', 'ckg_match_id':'string', 'title_id':'string', 'imdb_id':'string',\n",
    "# })"
   ]
  },
  {
   "cell_type": "code",
   "execution_count": 0,
   "metadata": {
    "application/vnd.databricks.v1+cell": {
     "cellMetadata": {},
     "inputWidgets": {},
     "nuid": "fcd4b79a-f09e-47c4-a8a6-7d19823fc754",
     "showTitle": false,
     "title": ""
    }
   },
   "outputs": [],
   "source": [
    "# table_name = 'max_dev.delphi.pct_viewing_subs_postgl_staging'\n",
    "# sfk.execute_query(query=f'describe table max_dev.delphi.pct_viewing_subs_postgl_staging', ctx=ctx)"
   ]
  }
 ],
 "metadata": {
  "application/vnd.databricks.v1+notebook": {
   "dashboards": [],
   "environmentMetadata": null,
   "language": "python",
   "notebookMetadata": {},
   "notebookName": "viewingsubs_postglight",
   "widgets": {}
  },
  "kernelspec": {
   "display_name": "conda_amazonei_mxnet_p27",
   "language": "python",
   "name": "conda_amazonei_mxnet_p27"
  },
  "language_info": {
   "codemirror_mode": {
    "name": "ipython",
    "version": 2
   },
   "file_extension": ".py",
   "mimetype": "text/x-python",
   "name": "python",
   "nbconvert_exporter": "python",
   "pygments_lexer": "ipython2",
   "version": "2.7.16"
  }
 },
 "nbformat": 4,
 "nbformat_minor": 0
}
