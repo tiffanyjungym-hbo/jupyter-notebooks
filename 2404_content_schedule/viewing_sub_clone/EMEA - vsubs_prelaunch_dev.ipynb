{
 "cells": [
  {
   "cell_type": "markdown",
   "metadata": {
    "application/vnd.databricks.v1+cell": {
     "cellMetadata": {},
     "inputWidgets": {},
     "nuid": "706f5cd5-1c2f-488c-9e95-3485a9502ad8",
     "showTitle": false,
     "title": ""
    }
   },
   "source": [
    "# EMEA - Run Pre Launch Model - Dev"
   ]
  },
  {
   "cell_type": "code",
   "execution_count": 0,
   "metadata": {
    "application/vnd.databricks.v1+cell": {
     "cellMetadata": {},
     "inputWidgets": {},
     "nuid": "d424755e-ea3c-458b-b6ee-de932e6f9192",
     "showTitle": false,
     "title": ""
    }
   },
   "outputs": [],
   "source": [
    "sf_creds = 'hbo-max-content-datascience-snowflake-dev'\n",
    "database = 'max_dev'\n",
    "input_bucket = \"hbo-ingest-datascience-content\"\n",
    "output_bucket = \"hbo-outbound-datascience-content-dev\"\n"
   ]
  },
  {
   "cell_type": "code",
   "execution_count": 0,
   "metadata": {
    "application/vnd.databricks.v1+cell": {
     "cellMetadata": {},
     "inputWidgets": {},
     "nuid": "11e833e2-d422-424e-98ca-b1eecbd61044",
     "showTitle": false,
     "title": ""
    }
   },
   "outputs": [],
   "source": [
    "# Import Packages\n",
    "import sys, os, re \n",
    "import io\n",
    "import pandas as pd\n",
    "import numpy as np\n",
    "import itertools as it\n",
    "import logging\n",
    "import boto3\n",
    "import json\n",
    "from datetime import datetime, timedelta\n",
    "\n",
    "\n",
    "import lib.util_snowflake as sfk\n",
    "from snowflake.connector.errors import ProgrammingError\n",
    "from snowflake.connector.pandas_tools import write_pandas\n",
    "\n",
    "import warnings\n",
    "warnings.filterwarnings('ignore')\n",
    "\n",
    "pd.set_option('display.max_columns', None)\n",
    "logger = logging.getLogger()\n",
    "logging.basicConfig(level=logging.INFO)\n",
    "logger.info(f'Starting Notebook')\n",
    "\n",
    "if not sys.warnoptions:\n",
    "    import warnings\n",
    "    warnings.simplefilter(\"ignore\")"
   ]
  },
  {
   "cell_type": "code",
   "execution_count": 0,
   "metadata": {
    "application/vnd.databricks.v1+cell": {
     "cellMetadata": {},
     "inputWidgets": {},
     "nuid": "38135d92-4639-4fac-b430-4e0c736687ca",
     "showTitle": false,
     "title": ""
    }
   },
   "outputs": [],
   "source": [
    "%load_ext autoreload\n",
    "%autoreload 2\n",
    "schema = 'content_datascience'\n",
    "current_date = (datetime.now() - timedelta(1)).strftime('%Y-%m-%d')\n",
    "kpi = 'viewing_subs'\n",
    "geo_value = 'EMEA'\n",
    "schema = 'delphi'"
   ]
  },
  {
   "cell_type": "code",
   "execution_count": 0,
   "metadata": {
    "application/vnd.databricks.v1+cell": {
     "cellMetadata": {},
     "inputWidgets": {},
     "nuid": "08d48b93-2ef3-4627-8dfa-ce2d1a0fc4f1",
     "showTitle": false,
     "title": ""
    }
   },
   "outputs": [],
   "source": [
    "## Run Credentials to connect to Snowflake\n",
    "logger.info(f'TEST: {sf_creds}')\n",
    "## Snowflake connection \n",
    "conn = sfk.SnowflakeConnector(sfk.SSMPSCredentials(sf_creds))\n",
    "ctx= conn.connect(database, schema)\n",
    "cur = ctx.cursor()"
   ]
  },
  {
   "cell_type": "markdown",
   "metadata": {
    "application/vnd.databricks.v1+cell": {
     "cellMetadata": {},
     "inputWidgets": {},
     "nuid": "02878e7a-739e-4782-b1ab-f66074e53c8e",
     "showTitle": false,
     "title": ""
    }
   },
   "source": [
    "## 1.0 Query Data"
   ]
  },
  {
   "cell_type": "code",
   "execution_count": 0,
   "metadata": {
    "application/vnd.databricks.v1+cell": {
     "cellMetadata": {},
     "inputWidgets": {},
     "nuid": "df3f9c55-a11e-4d92-ada2-cae54c4aadd8",
     "showTitle": false,
     "title": ""
    }
   },
   "outputs": [],
   "source": [
    "# train_test_scope = 'lib/dev_train_test_scope.py'\n",
    "# %run $train_test_scope"
   ]
  },
  {
   "cell_type": "code",
   "execution_count": 0,
   "metadata": {
    "application/vnd.databricks.v1+cell": {
     "cellMetadata": {},
     "inputWidgets": {},
     "nuid": "bdd7ae02-b78b-4e3b-b06d-e27343d2f853",
     "showTitle": false,
     "title": ""
    }
   },
   "outputs": [],
   "source": [
    "## 2.1 Read Metadata New\n",
    "query_metadata = f\"\"\"select * from {database}.content_datascience.viewingsubs_metadata_train where geo_value='{geo_value}'\"\"\"\n",
    "logger.info(f'TEST: {query_metadata}')\n",
    "metadata_feature = sfk.execute_query(query = query_metadata, ctx=ctx)\n",
    "metadata_feature['first_release_date'] = pd.to_datetime(metadata_feature['first_release_date']).dt.strftime('%Y-%m-%d')\n",
    "\n",
    "## 2.2 Read Future Schedule\n",
    "query_schedule = f\"\"\"select * from {database}.content_datascience.viewingsubs_metadata_pred where geo_value='{geo_value}' and imdb_series_id is not null\"\"\"\n",
    "logger.info(f'TEST: {query_schedule}')\n",
    "df_pred = sfk.execute_query(query = query_schedule, ctx = ctx)\n",
    "# print('Loading SFK table file {}'.format(file_ref))\n",
    "df_pred['first_release_date'] = df_pred['first_release_date'].combine_first(df_pred['first_international_premiere'])\n",
    "df_pred['first_release_date'] = pd.to_datetime(df_pred['first_release_date']).dt.strftime('%Y-%m-%d')"
   ]
  },
  {
   "cell_type": "code",
   "execution_count": 0,
   "metadata": {
    "application/vnd.databricks.v1+cell": {
     "cellMetadata": {},
     "inputWidgets": {},
     "nuid": "494b6049-5118-4a4f-8623-172b7d790069",
     "showTitle": false,
     "title": ""
    }
   },
   "outputs": [],
   "source": [
    "# Temp imdbd Pull\n",
    "\n",
    "query_schedule = f\"\"\"select * from {database}.content_datascience.viewingsubs_metadata_pred where geo_value='NORTH AMERICA' and prequel_count >0\"\"\"\n",
    "logger.info(f'TEST: {query_schedule}')\n",
    "df_imdb = sfk.execute_query(query = query_schedule, ctx = ctx)\n",
    "# print('Loading SFK table file {}'.format(file_ref))\n",
    "\n",
    "\n",
    "df_pred = df_pred.drop(columns= ['prequel_count', 'prequel_featured_count']).copy()\n",
    "df_pred = pd.merge(df_pred, df_imdb[['imdb_series_id', 'prequel_count', 'prequel_featured_count']], \n",
    "                   on=['imdb_series_id'], how='left').copy()\n",
    "df_pred[['prequel_count', 'prequel_featured_count']] = df_pred[['prequel_count', 'prequel_featured_count']].fillna(0)"
   ]
  },
  {
   "cell_type": "markdown",
   "metadata": {
    "application/vnd.databricks.v1+cell": {
     "cellMetadata": {},
     "inputWidgets": {},
     "nuid": "7354ec24-f20f-4c2d-afa9-f5facae37661",
     "showTitle": false,
     "title": ""
    }
   },
   "source": [
    "## 1.1 Train Test Scope"
   ]
  },
  {
   "cell_type": "code",
   "execution_count": 0,
   "metadata": {
    "application/vnd.databricks.v1+cell": {
     "cellMetadata": {},
     "inputWidgets": {},
     "nuid": "1c3861f7-bd09-4424-970b-40f397c2b9e4",
     "showTitle": false,
     "title": ""
    }
   },
   "outputs": [],
   "source": [
    "# Train_Test_Scope = 'lib/dev_Post_GreenLight_Model.py'\n",
    "# %run $Train_Test_Scope"
   ]
  },
  {
   "cell_type": "code",
   "execution_count": 0,
   "metadata": {
    "application/vnd.databricks.v1+cell": {
     "cellMetadata": {},
     "inputWidgets": {},
     "nuid": "1717a324-60d2-4d0f-9176-7b598d4c44d1",
     "showTitle": false,
     "title": ""
    }
   },
   "outputs": [],
   "source": [
    "from lib.dev_train_test_scope import train_test_scope\n",
    "\n",
    "current_date = (datetime.now() - timedelta(1)).strftime('%Y-%m-%d')\n",
    "train_test_data = train_test_scope(current_date, input_bucket, output_bucket, \n",
    "                                   database, schema, geo_value, kpi, metadata_feature, df_pred)\n",
    "train_test_data.run()\n",
    "train_dataset = train_test_data.train_dataset\n",
    "score_pgl = train_test_data.score_pgl\n",
    "score_pre = train_test_data.score_pre\n",
    "score_post = train_test_data.score_post"
   ]
  },
  {
   "cell_type": "markdown",
   "metadata": {
    "application/vnd.databricks.v1+cell": {
     "cellMetadata": {},
     "inputWidgets": {},
     "nuid": "fb5a28cc-1508-46b2-8c6c-8839a67e1a88",
     "showTitle": false,
     "title": ""
    }
   },
   "source": [
    "## Model"
   ]
  },
  {
   "cell_type": "markdown",
   "metadata": {
    "application/vnd.databricks.v1+cell": {
     "cellMetadata": {},
     "inputWidgets": {},
     "nuid": "151bc754-1bf5-4ed9-8fef-ef5082cf4588",
     "showTitle": false,
     "title": ""
    }
   },
   "source": [
    "## 2.0 Post-GreenLight Model"
   ]
  },
  {
   "cell_type": "code",
   "execution_count": 0,
   "metadata": {
    "application/vnd.databricks.v1+cell": {
     "cellMetadata": {},
     "inputWidgets": {},
     "nuid": "99d0ffe0-3e62-4ad1-82fd-4993150c0020",
     "showTitle": false,
     "title": ""
    }
   },
   "outputs": [],
   "source": [
    "from lib.dev_Post_GreenLight_Model import post_greenlight_model"
   ]
  },
  {
   "cell_type": "markdown",
   "metadata": {
    "application/vnd.databricks.v1+cell": {
     "cellMetadata": {},
     "inputWidgets": {},
     "nuid": "8e55e0e7-26f7-44d1-8138-c1a8721d66ae",
     "showTitle": false,
     "title": ""
    }
   },
   "source": [
    "### 2.1 Pull in Data"
   ]
  },
  {
   "cell_type": "code",
   "execution_count": 0,
   "metadata": {
    "application/vnd.databricks.v1+cell": {
     "cellMetadata": {},
     "inputWidgets": {},
     "nuid": "4a95497c-2c83-4267-9724-47b444782328",
     "showTitle": false,
     "title": ""
    }
   },
   "outputs": [],
   "source": [
    "# Name train and set\n",
    "train_data_set = train_test_data.train_dataset\n",
    "test_data_set = train_test_data.score_pgl\n",
    "\n",
    "# Import Engagement\n",
    "query_metric = f\"\"\"select * from {database}.content_datascience.viewingsubs_metrics_train where geo_value='{geo_value}'\"\"\"\n",
    "logger.info(f'{query_metric}')\n",
    "df_metric = sfk.execute_query(query = query_metric, ctx = ctx)"
   ]
  },
  {
   "cell_type": "code",
   "execution_count": 0,
   "metadata": {
    "application/vnd.databricks.v1+cell": {
     "cellMetadata": {},
     "inputWidgets": {},
     "nuid": "dd08d923-2973-496f-842d-d57dbe157acf",
     "showTitle": false,
     "title": ""
    }
   },
   "outputs": [],
   "source": [
    "df_metric.info()"
   ]
  },
  {
   "cell_type": "markdown",
   "metadata": {
    "application/vnd.databricks.v1+cell": {
     "cellMetadata": {},
     "inputWidgets": {},
     "nuid": "f1b5d7a7-3bf1-4a37-b349-6a6a3e515ce7",
     "showTitle": false,
     "title": ""
    }
   },
   "source": [
    "### 2.2 Run Model"
   ]
  },
  {
   "cell_type": "code",
   "execution_count": 0,
   "metadata": {
    "application/vnd.databricks.v1+cell": {
     "cellMetadata": {},
     "inputWidgets": {},
     "nuid": "71af49e3-1909-488f-91fc-8486ea591127",
     "showTitle": false,
     "title": ""
    }
   },
   "outputs": [],
   "source": [
    "Post_GreenLight_Model = 'lib/dev_Post_GreenLight_Model.py'\n",
    "%run $Post_GreenLight_Model"
   ]
  },
  {
   "cell_type": "code",
   "execution_count": 0,
   "metadata": {
    "application/vnd.databricks.v1+cell": {
     "cellMetadata": {},
     "inputWidgets": {},
     "nuid": "8b65816a-4477-452e-95dc-fd7ab4e53573",
     "showTitle": false,
     "title": ""
    }
   },
   "outputs": [],
   "source": [
    "# Run Model with Cross Validation - \n",
    "print('POST WAVE II EMEA ONLY')\n",
    "pgl_model = post_greenlight_model(train_data_set, test_data_set, kpi, \n",
    "                                  input_bucket, output_bucket, geo_value, \n",
    "                                  database, schema, df_metric)\n",
    "pgl_model.feature_engineer()\n",
    "input_train = pgl_model.train_data\n",
    "input_test = pgl_model.test_data\n",
    "pgl_model.cv(NUM_FOLD = 5)\n",
    "\n",
    "# To review predictions and feature importances in notebook\n",
    "feature_importances = pgl_model.feature_importances\n",
    "validation_set = pgl_model.validation_set"
   ]
  },
  {
   "cell_type": "code",
   "execution_count": 0,
   "metadata": {
    "application/vnd.databricks.v1+cell": {
     "cellMetadata": {},
     "inputWidgets": {},
     "nuid": "7c8d53ec-e7a1-41a3-bbd6-63c6a6691d0b",
     "showTitle": false,
     "title": ""
    }
   },
   "outputs": [],
   "source": [
    "# Run Model with Cross Validation\n",
    "pgl_model = post_greenlight_model(train_data_set, test_data_set, kpi, \n",
    "                                  input_bucket, output_bucket, geo_value, \n",
    "                                  database, schema, df_metric)\n",
    "pgl_model.feature_engineer()\n",
    "input_train = pgl_model.train_data\n",
    "input_test = pgl_model.test_data\n",
    "pgl_model.cv(NUM_FOLD = 5)\n",
    "\n",
    "# To review predictions and feature importances in notebook\n",
    "feature_importances = pgl_model.feature_importances\n",
    "validation_set = pgl_model.validation_set"
   ]
  },
  {
   "cell_type": "code",
   "execution_count": 0,
   "metadata": {
    "application/vnd.databricks.v1+cell": {
     "cellMetadata": {},
     "inputWidgets": {},
     "nuid": "75724ee0-e2bd-40f0-ad3c-17a19d814adb",
     "showTitle": false,
     "title": ""
    }
   },
   "outputs": [],
   "source": [
    "pgl_model.scoring()\n",
    "prediction_set_post_gl = pgl_model.prediction_set"
   ]
  },
  {
   "cell_type": "code",
   "execution_count": 0,
   "metadata": {
    "application/vnd.databricks.v1+cell": {
     "cellMetadata": {},
     "inputWidgets": {},
     "nuid": "100df557-fd45-45be-89fe-14ee44245fed",
     "showTitle": false,
     "title": ""
    }
   },
   "outputs": [],
   "source": [
    "def mean_absolute_percentage_error(y_true, y_pred): \n",
    "    y_true, y_pred = np.array(y_true), np.array(y_pred)\n",
    "    return np.mean(np.abs((y_true - y_pred) / y_true)) * 100"
   ]
  },
  {
   "cell_type": "code",
   "execution_count": 0,
   "metadata": {
    "application/vnd.databricks.v1+cell": {
     "cellMetadata": {},
     "inputWidgets": {},
     "nuid": "5b3b192d-0e0e-4961-88f3-fc4acb3228a0",
     "showTitle": false,
     "title": ""
    }
   },
   "outputs": [],
   "source": [
    "from sklearn.metrics import r2_score\n",
    "\n",
    "for fold in validation_set['fold'].drop_duplicates().to_list():\n",
    "    sample = len(validation_set.loc[(validation_set['fold']==fold), 'viewing_subs'].to_list())\n",
    "    r2 = r2_score(validation_set.loc[(validation_set['fold']==fold), 'viewing_subs'].to_list(),\n",
    "                    validation_set.loc[(validation_set['fold']==fold), 'prediction'].to_list())\n",
    "\n",
    "    mape = mean_absolute_percentage_error(validation_set.loc[(validation_set['fold']==fold), 'viewing_subs'],\n",
    "                                         validation_set.loc[(validation_set['fold']==fold), 'prediction'])\n",
    "    logger.info(f'Fold {fold}: Train Size {sample} | R2 {r2.round(2)} | MAPE {mape.round()}')"
   ]
  },
  {
   "cell_type": "code",
   "execution_count": 0,
   "metadata": {
    "application/vnd.databricks.v1+cell": {
     "cellMetadata": {},
     "inputWidgets": {},
     "nuid": "8d879901-a543-4910-9bc0-0011932d9c9e",
     "showTitle": false,
     "title": ""
    }
   },
   "outputs": [],
   "source": [
    "from sklearn.metrics import r2_score\n",
    "logger.info(f'POST WAVE 2 2022-03-08 training data only')\n",
    "for fold in validation_set['fold'].drop_duplicates().to_list():\n",
    "    sample = len(validation_set.loc[(validation_set['fold']==fold), 'viewing_subs'].to_list())\n",
    "    r2 = r2_score(validation_set.loc[(validation_set['fold']==fold), 'viewing_subs'].to_list(),\n",
    "                    validation_set.loc[(validation_set['fold']==fold), 'prediction'].to_list())\n",
    "\n",
    "    mape = mean_absolute_percentage_error(validation_set.loc[(validation_set['fold']==fold), 'viewing_subs'],\n",
    "                                         validation_set.loc[(validation_set['fold']==fold), 'prediction'])\n",
    "    logger.info(f'Fold {fold}: Train Size {sample} | R2 {r2.round(2)} | MAPE {mape.round()}')"
   ]
  },
  {
   "cell_type": "code",
   "execution_count": 0,
   "metadata": {
    "application/vnd.databricks.v1+cell": {
     "cellMetadata": {},
     "inputWidgets": {},
     "nuid": "f372bf72-257d-4756-ad2f-f2875a87a712",
     "showTitle": false,
     "title": ""
    }
   },
   "outputs": [],
   "source": [
    "import seaborn as sns\n",
    "import matplotlib.pyplot as plt"
   ]
  },
  {
   "cell_type": "code",
   "execution_count": 0,
   "metadata": {
    "application/vnd.databricks.v1+cell": {
     "cellMetadata": {},
     "inputWidgets": {},
     "nuid": "ffa353cf-d967-4378-9267-94f5ca4ee856",
     "showTitle": false,
     "title": ""
    }
   },
   "outputs": [],
   "source": [
    "# Compare Old Dataset to new dataset\n",
    "# fig = plt.figure(figsize=(7,3))\n",
    "x = f'viewing_subs'\n",
    "y = f'prediction'\n",
    "data = validation_set\n",
    "sns.set_theme(style=\"whitegrid\")\n",
    "ax = sns.scatterplot(data=data, x=x, y=y, \n",
    "                     hue = 'observed_medal_num',\n",
    "                     palette = 'muted'\n",
    "#                      fold = 'tier',\n",
    "#                      row='observed_medal_num'\n",
    "               )\n",
    "# plt.title(f'Viewing Subs - 28 Training Data')\n",
    "plt.axvline(x=0, linewidth=.5, color='black', ls= '--')\n",
    "plt.axhline(y=0, linewidth=.5, color='black', ls= '--')\n",
    "\n",
    "plt.xlim(-1,60)\n",
    "plt.ylim(-1,60)\n",
    "sns.move_legend(\n",
    "    ax, \"lower center\",\n",
    "    bbox_to_anchor=(.5, 1), ncol=4, title='Tiers', frameon=False,\n",
    ")\n",
    "plt.tight_layout()"
   ]
  },
  {
   "cell_type": "markdown",
   "metadata": {
    "application/vnd.databricks.v1+cell": {
     "cellMetadata": {},
     "inputWidgets": {},
     "nuid": "a907ae98-364a-4556-858c-318f3a81f82f",
     "showTitle": false,
     "title": ""
    }
   },
   "source": [
    "## 3.0 Pre-Launch Model"
   ]
  },
  {
   "cell_type": "markdown",
   "metadata": {
    "application/vnd.databricks.v1+cell": {
     "cellMetadata": {},
     "inputWidgets": {},
     "nuid": "4142f6ec-6f8b-41d0-abb8-a809fc003069",
     "showTitle": false,
     "title": ""
    }
   },
   "source": [
    "### Import Data"
   ]
  },
  {
   "cell_type": "code",
   "execution_count": 0,
   "metadata": {
    "application/vnd.databricks.v1+cell": {
     "cellMetadata": {},
     "inputWidgets": {},
     "nuid": "02655ee4-b16c-469d-a29c-c5eb1b6b7c09",
     "showTitle": false,
     "title": ""
    }
   },
   "outputs": [],
   "source": [
    "dev_pre_launch_model = 'lib/dev_Pre_Launch_Model.py'\n",
    "%run $dev_pre_launch_model"
   ]
  },
  {
   "cell_type": "code",
   "execution_count": 0,
   "metadata": {
    "application/vnd.databricks.v1+cell": {
     "cellMetadata": {},
     "inputWidgets": {},
     "nuid": "22e28412-b223-4988-8de9-62750321d734",
     "showTitle": false,
     "title": ""
    }
   },
   "outputs": [],
   "source": [
    "# Import Datasets\n",
    "\n",
    "# Import Engagement\n",
    "# query_metric = f\"\"\"select * from {database}.content_datascience.viewingsubs_metrics_train where geo_value='{geo_value}'\"\"\"\n",
    "# logger.info(f'{query_metric}')\n",
    "# df_metric = sfk.execute_query(query = query_metric, ctx = ctx)\n",
    "\n",
    "# Import Wikipedia Data\n",
    "query_wiki_train = f\"\"\"select * \n",
    "from {database}.content_datascience.title_season_wiki_daily_region \n",
    "where geo_value='{geo_value}'\n",
    "and days_from_premiere >= -28 and days_from_premiere <=0\"\"\"\n",
    "logger.info(f'{query_metric}')\n",
    "df_wiki_train = sfk.execute_query(query = query_wiki_train, ctx = ctx)\n",
    "\n",
    "# Import Future Wiki Data\n",
    "query_wiki_pred = f\"\"\"select * \n",
    "from {database}.content_datascience.title_season_wiki_daily_pred_test\n",
    "where geo_value='{geo_value}'\n",
    "and days_from_premiere >= -28 and days_from_premiere <=0\n",
    "\"\"\"\n",
    "# logger.info(f'{wiki_query_pred}')\n",
    "df_wiki_pred = sfk.execute_query(query = query_wiki_pred, ctx = ctx)"
   ]
  },
  {
   "cell_type": "code",
   "execution_count": 0,
   "metadata": {
    "application/vnd.databricks.v1+cell": {
     "cellMetadata": {},
     "inputWidgets": {},
     "nuid": "6c7bb7f1-9b71-415b-853b-b19a3cc4b32d",
     "showTitle": false,
     "title": ""
    }
   },
   "outputs": [],
   "source": [
    "df_wiki_pred"
   ]
  },
  {
   "cell_type": "code",
   "execution_count": 0,
   "metadata": {
    "application/vnd.databricks.v1+cell": {
     "cellMetadata": {},
     "inputWidgets": {},
     "nuid": "37181672-ea92-4e15-ad4f-8e06d1c3b56c",
     "showTitle": false,
     "title": ""
    }
   },
   "outputs": [],
   "source": [
    "df_wiki_train"
   ]
  },
  {
   "cell_type": "code",
   "execution_count": 0,
   "metadata": {
    "application/vnd.databricks.v1+cell": {
     "cellMetadata": {},
     "inputWidgets": {},
     "nuid": "5c8a92da-b8af-47c7-9d3c-3153460ffaab",
     "showTitle": false,
     "title": ""
    }
   },
   "outputs": [],
   "source": [
    "# Name train and set\n",
    "train_dataset = train_test_data.train_dataset\n",
    "test_dataset = train_test_data.score_pgl\n",
    "\n",
    "# Combine train and prediction wikipedia data\n",
    "wiki_columns = ['title_series','title_season','season_number', 'imdb_series_id',\n",
    "                'first_release_date', 'days_from_premiere', 'request_date', 'page_views']\n",
    "df_wiki_train['first_release_date'] = pd.to_datetime(df_wiki_train['first_release_date']).dt.strftime('%Y-%m-%d')\n",
    "df_wiki_train = df_wiki_train[wiki_columns].drop_duplicates()\n",
    "df_wiki_pred = df_wiki_pred[wiki_columns].drop_duplicates()\n",
    "\n",
    "df_wiki_train['type'] = 'train'\n",
    "df_wiki_pred['type'] = 'test'\n",
    "df_wiki = pd.concat([df_wiki_train, df_wiki_pred]).drop_duplicates().reset_index(drop=True)\n"
   ]
  },
  {
   "cell_type": "markdown",
   "metadata": {
    "application/vnd.databricks.v1+cell": {
     "cellMetadata": {},
     "inputWidgets": {},
     "nuid": "dd1c7ff1-a6d0-497b-8cc1-79fbe30df1dd",
     "showTitle": false,
     "title": ""
    }
   },
   "source": [
    "## Run Model"
   ]
  },
  {
   "cell_type": "code",
   "execution_count": 0,
   "metadata": {
    "application/vnd.databricks.v1+cell": {
     "cellMetadata": {},
     "inputWidgets": {},
     "nuid": "529311de-914f-44e9-b7a5-774df4a323e2",
     "showTitle": false,
     "title": ""
    }
   },
   "outputs": [],
   "source": [
    "dev_pre_launch_model = 'lib/dev_Pre_Launch_Model.py'\n",
    "%run $dev_pre_launch_model"
   ]
  },
  {
   "cell_type": "code",
   "execution_count": 0,
   "metadata": {
    "application/vnd.databricks.v1+cell": {
     "cellMetadata": {},
     "inputWidgets": {},
     "nuid": "05b88a13-8718-4ef2-8642-37d7168c9b1f",
     "showTitle": false,
     "title": ""
    }
   },
   "outputs": [],
   "source": [
    "test_dataset"
   ]
  },
  {
   "cell_type": "code",
   "execution_count": 0,
   "metadata": {
    "application/vnd.databricks.v1+cell": {
     "cellMetadata": {},
     "inputWidgets": {},
     "nuid": "d915bb9f-0042-4365-94cc-a56e67bfd849",
     "showTitle": false,
     "title": ""
    }
   },
   "outputs": [],
   "source": [
    "pre_model = pre_launch_model(train_dataset, test_dataset, kpi, current_date, input_bucket, output_bucket,\n",
    "                            geo_value, database, df_metric, df_wiki)\n",
    "pre_model.feature_engineer()\n",
    "pre_model.cv(NUM_FOLD = 1)\n",
    "# pre_model.scoring()"
   ]
  },
  {
   "cell_type": "code",
   "execution_count": 0,
   "metadata": {
    "application/vnd.databricks.v1+cell": {
     "cellMetadata": {},
     "inputWidgets": {},
     "nuid": "e96f2cec-524a-452c-a0cb-bb02865d5355",
     "showTitle": false,
     "title": ""
    }
   },
   "outputs": [],
   "source": [
    "pre_model.cv(NUM_FOLD = 2)"
   ]
  },
  {
   "cell_type": "code",
   "execution_count": 0,
   "metadata": {
    "application/vnd.databricks.v1+cell": {
     "cellMetadata": {},
     "inputWidgets": {},
     "nuid": "291f6446-5a89-4843-890c-d4adb5374b66",
     "showTitle": false,
     "title": ""
    }
   },
   "outputs": [],
   "source": [
    "validation_set = Utils.read_csv_s3(bucket=output_bucket, key_path=kpi, filename=f'validation_set_prelaunch_new_{geo_value}.csv').drop(columns=['Unnamed: 0'])"
   ]
  },
  {
   "cell_type": "code",
   "execution_count": 0,
   "metadata": {
    "application/vnd.databricks.v1+cell": {
     "cellMetadata": {},
     "inputWidgets": {},
     "nuid": "77c468b8-bfc9-4401-9bb2-fe881d7f371c",
     "showTitle": false,
     "title": ""
    }
   },
   "outputs": [],
   "source": [
    "from sklearn.metrics import r2_score\n",
    "\n",
    "for day in np.arange(-27, 0):\n",
    "    r2 = r2_score(validation_set.loc[(validation_set['days_from_premiere']==day), 'viewing_subs'].to_list(),\n",
    "                    validation_set.loc[(validation_set['days_from_premiere']==day), 'prediction'].to_list())\n",
    "    print(f'R2 for {day}: {r2.round(2)}')"
   ]
  },
  {
   "cell_type": "code",
   "execution_count": 0,
   "metadata": {
    "application/vnd.databricks.v1+cell": {
     "cellMetadata": {},
     "inputWidgets": {},
     "nuid": "3661cfa9-3a72-4bdf-b964-e2da26861e2d",
     "showTitle": false,
     "title": ""
    }
   },
   "outputs": [],
   "source": []
  },
  {
   "cell_type": "code",
   "execution_count": 0,
   "metadata": {
    "application/vnd.databricks.v1+cell": {
     "cellMetadata": {},
     "inputWidgets": {},
     "nuid": "d629e1d7-c72d-4f3e-b872-8889e9f8ab0a",
     "showTitle": false,
     "title": ""
    }
   },
   "outputs": [],
   "source": []
  },
  {
   "cell_type": "code",
   "execution_count": 0,
   "metadata": {
    "application/vnd.databricks.v1+cell": {
     "cellMetadata": {},
     "inputWidgets": {},
     "nuid": "5e7621fc-3fc3-48ad-a253-1e232aa8bfea",
     "showTitle": false,
     "title": ""
    }
   },
   "outputs": [],
   "source": []
  },
  {
   "cell_type": "code",
   "execution_count": 0,
   "metadata": {
    "application/vnd.databricks.v1+cell": {
     "cellMetadata": {},
     "inputWidgets": {},
     "nuid": "5e617185-0669-42bd-84a3-8ca4af87310b",
     "showTitle": false,
     "title": ""
    }
   },
   "outputs": [],
   "source": []
  },
  {
   "cell_type": "code",
   "execution_count": 0,
   "metadata": {
    "application/vnd.databricks.v1+cell": {
     "cellMetadata": {},
     "inputWidgets": {},
     "nuid": "2373b446-e029-4a7d-8db3-0f7f71f42835",
     "showTitle": false,
     "title": ""
    }
   },
   "outputs": [],
   "source": []
  },
  {
   "cell_type": "code",
   "execution_count": 0,
   "metadata": {
    "application/vnd.databricks.v1+cell": {
     "cellMetadata": {},
     "inputWidgets": {},
     "nuid": "4157f4ca-6284-49fd-8838-f466a4748d8d",
     "showTitle": false,
     "title": ""
    }
   },
   "outputs": [],
   "source": []
  },
  {
   "cell_type": "code",
   "execution_count": 0,
   "metadata": {
    "application/vnd.databricks.v1+cell": {
     "cellMetadata": {},
     "inputWidgets": {},
     "nuid": "9d08841b-ce0f-4061-8f25-3457cb67d6ca",
     "showTitle": false,
     "title": ""
    }
   },
   "outputs": [],
   "source": []
  },
  {
   "cell_type": "code",
   "execution_count": 0,
   "metadata": {
    "application/vnd.databricks.v1+cell": {
     "cellMetadata": {},
     "inputWidgets": {},
     "nuid": "6ff223cb-c63e-4641-a939-c1542057fca1",
     "showTitle": false,
     "title": ""
    }
   },
   "outputs": [],
   "source": []
  },
  {
   "cell_type": "code",
   "execution_count": 0,
   "metadata": {
    "application/vnd.databricks.v1+cell": {
     "cellMetadata": {},
     "inputWidgets": {},
     "nuid": "05cd9482-dfb6-4190-9dd4-0d0f98701e1d",
     "showTitle": false,
     "title": ""
    }
   },
   "outputs": [],
   "source": []
  },
  {
   "cell_type": "markdown",
   "metadata": {
    "application/vnd.databricks.v1+cell": {
     "cellMetadata": {},
     "inputWidgets": {},
     "nuid": "ae756011-e329-488e-a2bd-510058b0aa56",
     "showTitle": false,
     "title": ""
    }
   },
   "source": [
    "### 2.3 Format PostGLight Predictions and Write to Delphi"
   ]
  },
  {
   "cell_type": "code",
   "execution_count": 0,
   "metadata": {
    "application/vnd.databricks.v1+cell": {
     "cellMetadata": {},
     "inputWidgets": {},
     "nuid": "bda7ff2b-7119-4322-a3bc-1cc29279342f",
     "showTitle": false,
     "title": ""
    }
   },
   "outputs": [],
   "source": [
    "# Add Columns needed for Delphi Prediction Tables\n",
    "# df_delphi_postgl = df_delphi.merge(prediction_set_post_gl, on='key').drop('key', 1).reset_index(drop=True).copy()\n",
    "\n",
    "data = {\n",
    "    'model_name': ['pct_viewing_subs_2.0'],\n",
    "    'table_name': ['pct_viewing_subs_postgl'],\n",
    "    'model_version': ['2.0'],\n",
    "    'sub_type': ['Max Retail+Wholesale'],\n",
    "    'sub_plan': ['Platform'],\n",
    "    'unit': ['percent'],\n",
    "    'region': [geo_value],\n",
    "    'days_after_premiere': [28],\n",
    "    'publish_date': [current_date],\n",
    "    'key': [1]\n",
    "}\n",
    "df_delphi = pd.DataFrame(data=data, columns = data.keys())\n",
    "\n",
    "\n",
    "prediction_set_post_gl['key'] = 1\n",
    "df_delphi_postgl = df_delphi.merge(prediction_set_post_gl, on='key').drop(\n",
    "    'key', 1).reset_index(drop=True).copy()\n",
    "\n",
    "# Add imdb_id and ckg_match_id\n",
    "df_delphi_postgl = df_delphi_postgl.merge(\n",
    "    test_data_set[['delphi_id', 'ckg_match_id', 'ckg_series_id', 'imdb_series_id',\n",
    "                   'title_season', 'title_series', 'season_number']], \n",
    "    on=['title_season', 'title_series', 'season_number'], how='inner')"
   ]
  },
  {
   "cell_type": "code",
   "execution_count": 0,
   "metadata": {
    "application/vnd.databricks.v1+cell": {
     "cellMetadata": {},
     "inputWidgets": {},
     "nuid": "ba960452-c8b3-4719-aad8-bc822d5e1195",
     "showTitle": false,
     "title": ""
    }
   },
   "outputs": [],
   "source": [
    "# Rename Columns to match Delphi\n",
    "rename_set = {\n",
    "    'ckg_series_id' : 'title_id',\n",
    "    'imdb_series_id' : 'imdb_id',\n",
    "    'title_series' : 'title_name', \n",
    "    'derived_genre' :'category',   \n",
    "    'first_release_date' : 'premiere_date'\n",
    "}\n",
    "df_delphi_postgl.rename(columns = rename_set, inplace=True)\n"
   ]
  },
  {
   "cell_type": "code",
   "execution_count": 0,
   "metadata": {
    "application/vnd.databricks.v1+cell": {
     "cellMetadata": {},
     "inputWidgets": {},
     "nuid": "645cc994-7661-43e7-b22f-edd38099fd7d",
     "showTitle": false,
     "title": ""
    }
   },
   "outputs": [],
   "source": [
    "# Update dates to datetime object\n",
    "df_delphi_postgl['premiere_date'] = pd.to_datetime(df_delphi_postgl['premiere_date'])\n",
    "df_delphi_postgl['publish_date'] = pd.to_datetime(df_delphi_postgl['publish_date'])\n",
    "df_delphi_postgl['current_days_from_premiere'] = (df_delphi_postgl['publish_date'] - df_delphi_postgl['premiere_date']).dt.days\n",
    "df_delphi_postgl['target_date'] = df_delphi_postgl['premiere_date'] + df_delphi_postgl['days_after_premiere'].apply(lambda x: pd.DateOffset(days=x))\n",
    "\n",
    "# Back to string to make compatible with sfk package\n",
    "df_delphi_postgl['publish_date'] = df_delphi_postgl['publish_date'].apply(lambda x: x.strftime('%Y-%m-%d'))\n",
    "df_delphi_postgl['target_date'] = df_delphi_postgl['target_date'].apply(lambda x: x.strftime('%Y-%m-%d'))\n",
    "df_delphi_postgl['premiere_date'] = df_delphi_postgl['premiere_date'].apply(lambda x: x.strftime('%Y-%m-%d'))\n"
   ]
  },
  {
   "cell_type": "code",
   "execution_count": 0,
   "metadata": {
    "application/vnd.databricks.v1+cell": {
     "cellMetadata": {},
     "inputWidgets": {},
     "nuid": "20b61895-bd38-4df5-9567-a1ce234109c2",
     "showTitle": false,
     "title": ""
    }
   },
   "outputs": [],
   "source": [
    "# Write to Snowflake\n",
    "df_delphi_postgl = df_delphi_postgl[df_delphi_postgl['delphi_id'].notnull()].reset_index(drop=True).copy()\n",
    "# sfk.export_dataframe_to_table(database=database, schema='delphi', df=df_delphi_postgl, \n",
    "#                               table=f'{df_delphi_postgl.loc[0,\"table_name\"]}_staging', conn=ctx)"
   ]
  },
  {
   "cell_type": "code",
   "execution_count": 0,
   "metadata": {
    "application/vnd.databricks.v1+cell": {
     "cellMetadata": {},
     "inputWidgets": {},
     "nuid": "19e879c4-8727-4c4a-84dc-93b2dcbe1390",
     "showTitle": false,
     "title": ""
    }
   },
   "outputs": [],
   "source": [
    "from lib.dev_Pre_Launch_Model import post_greenlight_model"
   ]
  },
  {
   "cell_type": "code",
   "execution_count": 0,
   "metadata": {
    "application/vnd.databricks.v1+cell": {
     "cellMetadata": {},
     "inputWidgets": {},
     "nuid": "0c73ec78-ce80-43de-bd00-df5dca3f9af5",
     "showTitle": false,
     "title": ""
    }
   },
   "outputs": [],
   "source": [
    "dev_pre_launch_model = 'lib/dev_Pre_Launch_Model.py'\n",
    "%run $dev_pre_launch_model\n"
   ]
  },
  {
   "cell_type": "code",
   "execution_count": 0,
   "metadata": {
    "application/vnd.databricks.v1+cell": {
     "cellMetadata": {},
     "inputWidgets": {},
     "nuid": "5f8c2ea0-d6ea-4f10-b3e6-08d15b969ed5",
     "showTitle": false,
     "title": ""
    }
   },
   "outputs": [],
   "source": [
    "pre_launch_model = 'lib/Pre_Launch_Model.py'\n",
    "%run $pre_launch_model"
   ]
  },
  {
   "cell_type": "markdown",
   "metadata": {
    "application/vnd.databricks.v1+cell": {
     "cellMetadata": {},
     "inputWidgets": {},
     "nuid": "539296ba-624e-4d09-8b8d-d0501016fe5d",
     "showTitle": false,
     "title": ""
    }
   },
   "source": [
    "### 3.1 Pull in Data"
   ]
  },
  {
   "cell_type": "code",
   "execution_count": 0,
   "metadata": {
    "application/vnd.databricks.v1+cell": {
     "cellMetadata": {},
     "inputWidgets": {},
     "nuid": "b36d4893-16f7-490e-ae28-1a94afea57c3",
     "showTitle": false,
     "title": ""
    }
   },
   "outputs": [],
   "source": [
    "# create or replace table max_dev.workspace.forecasting_signals_search as (\n",
    "# select gs.TRACKING_GROUP_ID as imdb_id, date,indexed_volume::float as value, 'search' as metric,geo_name\n",
    "# ,CONVERT_TIMEZONE('UTC', 'America/Los_Angeles',current_timestamp::TIMESTAMP_NTZ)::timestamp  as create_ts\n",
    "# from \"MAX_PROD\".\"CKG\".\"GST_COUNTRY_LEVEL_VOLUME\" as gs\n",
    "# where date::date > '2020-01-01' \n",
    "# and gs.TRACKING_GROUP_ID in (select imdb_id from forecasting_premieres)\n",
    "# and lower(geo_name) in (select lower(country_iso_code) from forecasting_geo_map)\n",
    "# );"
   ]
  },
  {
   "cell_type": "code",
   "execution_count": 0,
   "metadata": {
    "application/vnd.databricks.v1+cell": {
     "cellMetadata": {},
     "inputWidgets": {},
     "nuid": "70312bcd-0f0d-4942-b5c8-389b06ecb1ea",
     "showTitle": false,
     "title": ""
    }
   },
   "outputs": [],
   "source": []
  }
 ],
 "metadata": {
  "application/vnd.databricks.v1+notebook": {
   "dashboards": [],
   "environmentMetadata": null,
   "language": "python",
   "notebookMetadata": {},
   "notebookName": "EMEA - vsubs_prelaunch_dev",
   "widgets": {}
  },
  "kernelspec": {
   "display_name": "env",
   "language": "python",
   "name": "env"
  },
  "language_info": {
   "codemirror_mode": {
    "name": "ipython",
    "version": 3
   },
   "file_extension": ".py",
   "mimetype": "text/x-python",
   "name": "python",
   "nbconvert_exporter": "python",
   "pygments_lexer": "ipython3",
   "version": "3.7.12"
  }
 },
 "nbformat": 4,
 "nbformat_minor": 0
}
