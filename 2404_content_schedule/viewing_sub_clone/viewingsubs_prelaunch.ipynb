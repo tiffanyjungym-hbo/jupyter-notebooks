{
 "cells": [
  {
   "cell_type": "markdown",
   "metadata": {
    "application/vnd.databricks.v1+cell": {
     "cellMetadata": {},
     "inputWidgets": {},
     "nuid": "2046715b-fa68-4443-abbd-50b4e930b8d6",
     "showTitle": false,
     "title": ""
    }
   },
   "source": [
    "# Run Pre Launch Model"
   ]
  },
  {
   "cell_type": "code",
   "execution_count": 0,
   "metadata": {
    "application/vnd.databricks.v1+cell": {
     "cellMetadata": {},
     "inputWidgets": {},
     "nuid": "c4661246-d6ff-4b69-a276-e8609d7e14e1",
     "showTitle": false,
     "title": ""
    }
   },
   "outputs": [],
   "source": [
    "sf_creds = 'hbo-max-content-datascience-snowflake-dev'\n",
    "database = 'max_dev'\n",
    "input_bucket = \"hbo-ingest-datascience-content\"\n",
    "output_bucket = \"hbo-outbound-datascience-content-dev\""
   ]
  },
  {
   "cell_type": "code",
   "execution_count": 0,
   "metadata": {
    "application/vnd.databricks.v1+cell": {
     "cellMetadata": {},
     "inputWidgets": {},
     "nuid": "fe53b9a7-285e-471f-affd-5f5782b053e6",
     "showTitle": false,
     "title": ""
    }
   },
   "outputs": [],
   "source": [
    "# Import Packages\n",
    "import sys, os, re\n",
    "import io\n",
    "import pandas as pd\n",
    "import numpy as np\n",
    "import itertools as it\n",
    "import logging\n",
    "import boto3\n",
    "import json\n",
    "from datetime import datetime, timedelta\n",
    "\n",
    "\n",
    "import lib.util_snowflake as sfk\n",
    "from snowflake.connector.errors import ProgrammingError\n",
    "from snowflake.connector.pandas_tools import write_pandas\n",
    "\n",
    "import warnings\n",
    "warnings.filterwarnings('ignore')\n",
    "\n",
    "pd.set_option('display.max_columns', None)\n",
    "logger = logging.getLogger()\n",
    "logging.basicConfig(level=logging.INFO)\n",
    "logger.info(f'Starting Notebook')\n",
    "\n",
    "if not sys.warnoptions:\n",
    "    import warnings\n",
    "    warnings.simplefilter(\"ignore\")"
   ]
  },
  {
   "cell_type": "code",
   "execution_count": 0,
   "metadata": {
    "application/vnd.databricks.v1+cell": {
     "cellMetadata": {},
     "inputWidgets": {},
     "nuid": "4707e835-5113-4120-bf4b-ccae10dd9f63",
     "showTitle": false,
     "title": ""
    }
   },
   "outputs": [],
   "source": [
    "%load_ext autoreload\n",
    "%autoreload 2\n",
    "current_date = (datetime.now() - timedelta(1)).strftime('%Y-%m-%d')\n",
    "kpi = 'viewing_subs'\n",
    "geo_value = 'NORTH AMERICA'\n",
    "\n",
    "schema = 'delphi'"
   ]
  },
  {
   "cell_type": "code",
   "execution_count": 0,
   "metadata": {
    "application/vnd.databricks.v1+cell": {
     "cellMetadata": {},
     "inputWidgets": {},
     "nuid": "2b5e027d-717d-4734-90dc-99d2edbfaeaf",
     "showTitle": false,
     "title": ""
    }
   },
   "outputs": [],
   "source": [
    "## Run Credentials to connect to Snowflake\n",
    "logger.info(f'TEST: {sf_creds}')\n",
    "## Snowflake connection \n",
    "conn = sfk.SnowflakeConnector(sfk.SSMPSCredentials(sf_creds))\n",
    "ctx= conn.connect(database, schema)\n",
    "cur = ctx.cursor()"
   ]
  },
  {
   "cell_type": "markdown",
   "metadata": {
    "application/vnd.databricks.v1+cell": {
     "cellMetadata": {},
     "inputWidgets": {},
     "nuid": "ed8cb894-bc5d-4fa3-87ea-bdcf68166b7e",
     "showTitle": false,
     "title": ""
    }
   },
   "source": [
    "## Pull Additional Features"
   ]
  },
  {
   "cell_type": "code",
   "execution_count": 0,
   "metadata": {
    "application/vnd.databricks.v1+cell": {
     "cellMetadata": {},
     "inputWidgets": {},
     "nuid": "a6ad61f4-ded5-4637-8327-d4806fa259a2",
     "showTitle": false,
     "title": ""
    }
   },
   "outputs": [],
   "source": [
    "dev_pre_launch_model = 'lib/dev_Pre_Launch_Model.py'\n",
    "%run $dev_pre_launch_model"
   ]
  },
  {
   "cell_type": "code",
   "execution_count": 0,
   "metadata": {
    "application/vnd.databricks.v1+cell": {
     "cellMetadata": {},
     "inputWidgets": {},
     "nuid": "b2f35dbe-24fb-4b61-8486-a090282f83dc",
     "showTitle": false,
     "title": ""
    }
   },
   "outputs": [],
   "source": [
    "pre_launch_model = 'lib/Pre_Launch_Model.py'\n",
    "%run $pre_launch_model"
   ]
  },
  {
   "cell_type": "code",
   "execution_count": 0,
   "metadata": {
    "application/vnd.databricks.v1+cell": {
     "cellMetadata": {},
     "inputWidgets": {},
     "nuid": "26e427b7-1a66-433c-bebf-673bae04dee6",
     "showTitle": false,
     "title": ""
    }
   },
   "outputs": [],
   "source": []
  },
  {
   "cell_type": "code",
   "execution_count": 0,
   "metadata": {
    "application/vnd.databricks.v1+cell": {
     "cellMetadata": {},
     "inputWidgets": {},
     "nuid": "04058e68-fff4-4625-8515-2ce5dd935615",
     "showTitle": false,
     "title": ""
    }
   },
   "outputs": [],
   "source": [
    "pre_launch_model = pre_launch_model(kpi, current_date, input_bucket, output_bucket)"
   ]
  },
  {
   "cell_type": "code",
   "execution_count": 0,
   "metadata": {
    "application/vnd.databricks.v1+cell": {
     "cellMetadata": {},
     "inputWidgets": {},
     "nuid": "5a0cabac-b085-4261-99dc-9d93f37f5dff",
     "showTitle": false,
     "title": ""
    }
   },
   "outputs": [],
   "source": [
    "prelaunch_trailer_feature, wiki_view_pre_feature = pre_launch_model.feature_engineer()"
   ]
  },
  {
   "cell_type": "code",
   "execution_count": 0,
   "metadata": {
    "application/vnd.databricks.v1+cell": {
     "cellMetadata": {},
     "inputWidgets": {},
     "nuid": "32de36f8-9616-4768-b9ad-04eded3ed16b",
     "showTitle": false,
     "title": ""
    }
   },
   "outputs": [],
   "source": [
    "wiki_view_pre_feature."
   ]
  },
  {
   "cell_type": "code",
   "execution_count": 0,
   "metadata": {
    "application/vnd.databricks.v1+cell": {
     "cellMetadata": {},
     "inputWidgets": {},
     "nuid": "219c0e27-534c-4736-924b-009d614e4545",
     "showTitle": false,
     "title": ""
    }
   },
   "outputs": [],
   "source": [
    "# train_test_scope = 'lib/dev_train_test_scope.py'\n",
    "# %run $train_test_scope"
   ]
  },
  {
   "cell_type": "code",
   "execution_count": 0,
   "metadata": {
    "application/vnd.databricks.v1+cell": {
     "cellMetadata": {},
     "inputWidgets": {},
     "nuid": "fa604746-56c8-4988-a63f-d89b3297e0d5",
     "showTitle": false,
     "title": ""
    }
   },
   "outputs": [],
   "source": [
    "## 2.1 Read Metadata New\n",
    "query_metadata = sfk.load_query(os.getcwd()+'/queries/query_metadata.sql', geo_value = geo_value)\n",
    "metadata_feature = sfk.execute_query(query = query_metadata, ctx=ctx)\n",
    "\n",
    "## 2.2 Read Future Schedule\n",
    "query_schedule = sfk.load_query(os.getcwd()+'/queries/query_metadata_future.sql', geo_value = geo_value)\n",
    "df_pred = sfk.execute_query(query = query_schedule, ctx = ctx)\n",
    "# print('Loading SFK table file {}'.format(file_ref))"
   ]
  },
  {
   "cell_type": "code",
   "execution_count": 0,
   "metadata": {
    "application/vnd.databricks.v1+cell": {
     "cellMetadata": {},
     "inputWidgets": {},
     "nuid": "3ffdb8eb-85a1-4277-acc9-444578e95daf",
     "showTitle": false,
     "title": ""
    }
   },
   "outputs": [],
   "source": []
  },
  {
   "cell_type": "code",
   "execution_count": 0,
   "metadata": {
    "application/vnd.databricks.v1+cell": {
     "cellMetadata": {},
     "inputWidgets": {},
     "nuid": "934a47d3-5992-466f-9b60-90c943711729",
     "showTitle": false,
     "title": ""
    }
   },
   "outputs": [],
   "source": []
  },
  {
   "cell_type": "code",
   "execution_count": 0,
   "metadata": {
    "application/vnd.databricks.v1+cell": {
     "cellMetadata": {},
     "inputWidgets": {},
     "nuid": "f574356c-091a-4ecb-b9c5-cd83756a3d67",
     "showTitle": false,
     "title": ""
    }
   },
   "outputs": [],
   "source": []
  },
  {
   "cell_type": "code",
   "execution_count": 0,
   "metadata": {
    "application/vnd.databricks.v1+cell": {
     "cellMetadata": {},
     "inputWidgets": {},
     "nuid": "fa730685-a585-4345-b608-721f4286b555",
     "showTitle": false,
     "title": ""
    }
   },
   "outputs": [],
   "source": []
  },
  {
   "cell_type": "code",
   "execution_count": 0,
   "metadata": {
    "application/vnd.databricks.v1+cell": {
     "cellMetadata": {},
     "inputWidgets": {},
     "nuid": "25e1fd59-e791-44b3-add6-058ec8df6b7d",
     "showTitle": false,
     "title": ""
    }
   },
   "outputs": [],
   "source": []
  },
  {
   "cell_type": "markdown",
   "metadata": {
    "application/vnd.databricks.v1+cell": {
     "cellMetadata": {},
     "inputWidgets": {},
     "nuid": "6a367f74-e391-4e5d-b260-9dc92e41d59b",
     "showTitle": false,
     "title": ""
    }
   },
   "source": [
    "----------"
   ]
  },
  {
   "cell_type": "code",
   "execution_count": 0,
   "metadata": {
    "application/vnd.databricks.v1+cell": {
     "cellMetadata": {},
     "inputWidgets": {},
     "nuid": "9e385c3d-7014-4de3-92cf-f06aea2c24eb",
     "showTitle": false,
     "title": ""
    }
   },
   "outputs": [],
   "source": [
    "from lib.dev_train_test_scope import train_test_scope\n",
    "\n",
    "current_date = (datetime.now() - timedelta(1)).strftime('%Y-%m-%d')\n",
    "train_test_data = train_test_scope(current_date, input_bucket, output_bucket, \n",
    "                                   database, schema, geo_value, kpi, metadata_feature, df_pred)\n",
    "train_test_data.run()\n",
    "train_dataset = train_test_data.train_dataset\n",
    "score_pgl = train_test_data.score_pgl\n",
    "score_pre = train_test_data.score_pre\n",
    "score_post = train_test_data.score_post"
   ]
  },
  {
   "cell_type": "markdown",
   "metadata": {
    "application/vnd.databricks.v1+cell": {
     "cellMetadata": {},
     "inputWidgets": {},
     "nuid": "46a8fb51-5dd1-453c-beba-12b7fc08facf",
     "showTitle": false,
     "title": ""
    }
   },
   "source": [
    "## Model"
   ]
  },
  {
   "cell_type": "markdown",
   "metadata": {
    "application/vnd.databricks.v1+cell": {
     "cellMetadata": {},
     "inputWidgets": {},
     "nuid": "ab34af8a-a3f4-4b0e-a14b-f4ffee32406f",
     "showTitle": false,
     "title": ""
    }
   },
   "source": [
    "## 1.0 Post-GreenLight Model"
   ]
  },
  {
   "cell_type": "code",
   "execution_count": 0,
   "metadata": {
    "application/vnd.databricks.v1+cell": {
     "cellMetadata": {},
     "inputWidgets": {},
     "nuid": "95fcceb3-ac16-4916-b7db-f6d9c6cb5718",
     "showTitle": false,
     "title": ""
    }
   },
   "outputs": [],
   "source": [
    "from lib.dev_Post_GreenLight_Model import post_greenlight_model"
   ]
  },
  {
   "cell_type": "code",
   "execution_count": 0,
   "metadata": {
    "application/vnd.databricks.v1+cell": {
     "cellMetadata": {},
     "inputWidgets": {},
     "nuid": "4b8095ae-5939-4ef3-b0cf-ab2f8bbee6a1",
     "showTitle": false,
     "title": ""
    }
   },
   "outputs": [],
   "source": [
    "# Post_GreenLight_Model = 'lib/dev_Post_GreenLight_Model.py'\n",
    "# %run $Post_GreenLight_Model"
   ]
  },
  {
   "cell_type": "code",
   "execution_count": 0,
   "metadata": {
    "application/vnd.databricks.v1+cell": {
     "cellMetadata": {},
     "inputWidgets": {},
     "nuid": "13484e26-eacc-44b3-81bb-e70544e786c8",
     "showTitle": false,
     "title": ""
    }
   },
   "outputs": [],
   "source": [
    "# Name train and set\n",
    "train_data_set = train_test_data.train_dataset\n",
    "test_data_set = train_test_data.score_pgl\n",
    "\n",
    "# Import Engagement\n",
    "query_metric = load_query(os.getcwd()+'/queries/query_metric.sql', \n",
    "                          geo_value = geo_value, database=database)\n",
    "df_metric = execute_query(query = query_metric, ctx = ctx)"
   ]
  },
  {
   "cell_type": "code",
   "execution_count": 0,
   "metadata": {
    "application/vnd.databricks.v1+cell": {
     "cellMetadata": {},
     "inputWidgets": {},
     "nuid": "64506181-db35-4c28-b827-fb0104390af2",
     "showTitle": false,
     "title": ""
    }
   },
   "outputs": [],
   "source": [
    "# Run Model with Cross Validation\n",
    "pgl_model = post_greenlight_model(train_data_set, test_data_set, kpi, \n",
    "                                  input_bucket, output_bucket, geo_value, \n",
    "                                  database, schema, df_metric)\n",
    "pgl_model.feature_engineer()\n",
    "input_train = pgl_model.train_data\n",
    "input_test = pgl_model.test_data\n",
    "pgl_model.cv(NUM_FOLD = 5)\n",
    "\n",
    "# To review predictions and feature importances in notebook\n",
    "feature_importances = pgl_model.feature_importances\n",
    "validation_set = pgl_model.validation_set"
   ]
  },
  {
   "cell_type": "code",
   "execution_count": 0,
   "metadata": {
    "application/vnd.databricks.v1+cell": {
     "cellMetadata": {},
     "inputWidgets": {},
     "nuid": "60268356-ff8e-4748-969a-38384a2a8119",
     "showTitle": false,
     "title": ""
    }
   },
   "outputs": [],
   "source": [
    "pgl_model.scoring()\n",
    "prediction_set_post_gl = pgl_model.prediction_set"
   ]
  },
  {
   "cell_type": "markdown",
   "metadata": {
    "application/vnd.databricks.v1+cell": {
     "cellMetadata": {},
     "inputWidgets": {},
     "nuid": "a6a98f4b-3871-48b9-a315-ac7ce3aad7bf",
     "showTitle": false,
     "title": ""
    }
   },
   "source": [
    "### 1.1 Format PostGLight Predictions and Write them to Delphi"
   ]
  },
  {
   "cell_type": "code",
   "execution_count": 0,
   "metadata": {
    "application/vnd.databricks.v1+cell": {
     "cellMetadata": {},
     "inputWidgets": {},
     "nuid": "a2cab102-76bf-4da5-b4a4-30819e0411a9",
     "showTitle": false,
     "title": ""
    }
   },
   "outputs": [],
   "source": [
    "# Add Columns needed for Delphi Prediction Tables\n",
    "\n",
    "data = {\n",
    "    'model_name': ['pct_viewing_subs_2.0'],\n",
    "    'table_name': ['pct_viewing_subs_postgl'],\n",
    "    'model_version': ['2.0'],\n",
    "    'sub_type': ['Max Retail+Wholesale'],\n",
    "    'sub_plan': ['Platform'],\n",
    "    'unit': ['percent'],\n",
    "    'region': [geo_value],\n",
    "    'days_after_premiere': [28],\n",
    "    'publish_date': [current_date]\n",
    "}\n",
    "df_delphi = pd.DataFrame(data=data, columns = data.keys())\n",
    "df_delphi_postgl = df_delphi.merge(prediction_set_post_gl, how='cross')\n",
    "\n",
    "# Add imdb_id and ckg_match_id\n",
    "df_delphi_postgl = df_delphi_postgl.merge(test_data_set[['delphi_id', 'ckg_match_id', 'ckg_series_id', 'imdb_series_id',\n",
    "                                                         'title_season', 'title_series', 'season_number']], \n",
    "                                          on=['title_season', 'title_series', 'season_number'], how='inner')"
   ]
  },
  {
   "cell_type": "code",
   "execution_count": 0,
   "metadata": {
    "application/vnd.databricks.v1+cell": {
     "cellMetadata": {},
     "inputWidgets": {},
     "nuid": "dfbcda7b-6554-4e68-9c69-b834ede35f7d",
     "showTitle": false,
     "title": ""
    }
   },
   "outputs": [],
   "source": [
    "# Rename Columns to match Delphi\n",
    "rename_set = {\n",
    "    'ckg_series_id' : 'title_id',\n",
    "    'imdb_series_id' : 'imdb_id',\n",
    "    'title_series' : 'title_name', \n",
    "    'derived_genre' :'category',   \n",
    "    'first_release_date' : 'premiere_date'\n",
    "}\n",
    "df_delphi_postgl.rename(columns = rename_set, inplace=True)\n"
   ]
  },
  {
   "cell_type": "code",
   "execution_count": 0,
   "metadata": {
    "application/vnd.databricks.v1+cell": {
     "cellMetadata": {},
     "inputWidgets": {},
     "nuid": "7da2f8ba-d483-4c47-b067-7c2bc9d8f46f",
     "showTitle": false,
     "title": ""
    }
   },
   "outputs": [],
   "source": [
    "# Update dates to datetime object\n",
    "df_delphi_postgl['premiere_date'] = pd.to_datetime(df_delphi_postgl['premiere_date'])\n",
    "df_delphi_postgl['publish_date'] = pd.to_datetime(df_delphi_postgl['publish_date'])\n",
    "df_delphi_postgl['current_days_from_premiere'] = (df_delphi_postgl['publish_date'] - df_delphi_postgl['premiere_date']).dt.days\n",
    "df_delphi_postgl['target_date'] = df_delphi_postgl['premiere_date'] + df_delphi_postgl['days_after_premiere'].apply(lambda x: pd.DateOffset(days=x))\n",
    "\n",
    "# Back to string to make compatible with sfk package\n",
    "df_delphi_postgl['publish_date'] = df_delphi_postgl['publish_date'].apply(lambda x: x.strftime('%Y-%m-%d'))\n",
    "df_delphi_postgl['target_date'] = df_delphi_postgl['target_date'].apply(lambda x: x.strftime('%Y-%m-%d'))\n",
    "df_delphi_postgl['premiere_date'] = df_delphi_postgl['premiere_date'].apply(lambda x: x.strftime('%Y-%m-%d'))\n"
   ]
  },
  {
   "cell_type": "code",
   "execution_count": 0,
   "metadata": {
    "application/vnd.databricks.v1+cell": {
     "cellMetadata": {},
     "inputWidgets": {},
     "nuid": "9d49cd4c-4b5a-4dac-a793-f3e4e572e3be",
     "showTitle": false,
     "title": ""
    }
   },
   "outputs": [],
   "source": [
    "# Write to Snowflake\n",
    "df_delphi_postgl = df_delphi_postgl[df_delphi_postgl['delphi_id'].notnull()].reset_index(drop=True).copy()\n",
    "sfk.export_dataframe_to_table(database=database, schema='delphi', df=df_delphi_postgl, \n",
    "                              table=f'{df_delphi_postgl.loc[0,\"table_name\"]}_staging', conn=ctx)"
   ]
  }
 ],
 "metadata": {
  "application/vnd.databricks.v1+notebook": {
   "dashboards": [],
   "environmentMetadata": null,
   "language": "python",
   "notebookMetadata": {},
   "notebookName": "viewingsubs_prelaunch",
   "widgets": {}
  },
  "kernelspec": {
   "display_name": "conda_python3",
   "language": "python",
   "name": "conda_python3"
  },
  "language_info": {
   "codemirror_mode": {
    "name": "ipython",
    "version": 3
   },
   "file_extension": ".py",
   "mimetype": "text/x-python",
   "name": "python",
   "nbconvert_exporter": "python",
   "pygments_lexer": "ipython3",
   "version": "3.6.13"
  }
 },
 "nbformat": 4,
 "nbformat_minor": 0
}
