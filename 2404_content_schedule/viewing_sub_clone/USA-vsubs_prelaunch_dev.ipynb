{
 "cells": [
  {
   "cell_type": "markdown",
   "metadata": {
    "application/vnd.databricks.v1+cell": {
     "cellMetadata": {},
     "inputWidgets": {},
     "nuid": "ef047911-363d-4264-8f5b-a6c95e1de3dd",
     "showTitle": false,
     "title": ""
    }
   },
   "source": [
    "# Run Pre Launch Model - Dev\n",
    "https://scikit-learn.org/stable/modules/classes.html#module-sklearn.metrics\n",
    "- try with cutoff\n",
    "- try with log\n",
    "- mae"
   ]
  },
  {
   "cell_type": "code",
   "execution_count": 0,
   "metadata": {
    "application/vnd.databricks.v1+cell": {
     "cellMetadata": {},
     "inputWidgets": {},
     "nuid": "44749927-fc88-4143-8997-3f60ca807d26",
     "showTitle": false,
     "title": ""
    }
   },
   "outputs": [],
   "source": [
    "sf_creds = 'hbo-max-content-datascience-snowflake-dev'\n",
    "database = 'max_dev'\n",
    "input_bucket = \"hbo-ingest-datascience-content\"\n",
    "output_bucket = \"hbo-outbound-datascience-content-dev\"\n"
   ]
  },
  {
   "cell_type": "code",
   "execution_count": 0,
   "metadata": {
    "application/vnd.databricks.v1+cell": {
     "cellMetadata": {},
     "inputWidgets": {},
     "nuid": "2652be66-e510-4830-a2d3-394224f919d8",
     "showTitle": false,
     "title": ""
    }
   },
   "outputs": [],
   "source": [
    "#def smape(y, pred):\n",
    "#    return 100/len(y) * np.sum(2 * np.abs(pred - y) / (np.abs(y) + np.abs(pred)))\n",
    "\n",
    "def smape(A, F):\n",
    "    tmp = 2 * np.abs(F - A) / (np.abs(A) + np.abs(F))\n",
    "    len_ = np.count_nonzero(~np.isnan(tmp))\n",
    "    if len_ == 0 and np.nansum(tmp) == 0: # Deals with a special case\n",
    "        return 100\n",
    "    return 100 / len_ * np.nansum(tmp)\n",
    "\n",
    "def evaluate_performance(y_train, y_test, y_pred, is_baseline):\n",
    "    if is_baseline:\n",
    "        print(\"Baseline metrics:\")\n",
    "        # \"Learn\" the mean from the training data\n",
    "        mean_train = np.mean(y_train)\n",
    "        # Get predictions on the test set\n",
    "        y_pred = np.ones(y_test.shape) * float(mean_train)\n",
    "        \n",
    "    mae = mean_absolute_error(y_test, y_pred)\n",
    "    print(\"MAE: {:.2f}\".format(mae))\n",
    "    mape = mean_absolute_percentage_error(y_test, y_pred)\n",
    "    print(\"MAPE: {:.2f}\".format(mape))\n",
    "    smape_res = smape(y_test, y_pred)\n",
    "    print(\"sMAPE: {:.2f}\".format(smape_res))\n",
    "    mse = mean_squared_error(y_test, y_pred)\n",
    "    print(\"MSE: {:.2f}\".format(mse))\n",
    "    print(\"RMSE: {:.2f}\".format(np.sqrt(mse)))\n",
    "    print(\"R^2: {:.2f}\".format(r2_score(y_test, y_pred)))\n",
    " "
   ]
  },
  {
   "cell_type": "code",
   "execution_count": 0,
   "metadata": {
    "application/vnd.databricks.v1+cell": {
     "cellMetadata": {},
     "inputWidgets": {},
     "nuid": "42784ad1-0a9c-4e42-b001-8105f7477e34",
     "showTitle": false,
     "title": ""
    }
   },
   "outputs": [],
   "source": [
    "\n",
    "#log_wrapped_model = TransformedTargetRegressor(\n",
    "#    regressor=multioutputregressor,\n",
    "#    func = np.log1p, \n",
    "#    inverse_func=np.expm1\n",
    "#)\n"
   ]
  },
  {
   "cell_type": "code",
   "execution_count": 0,
   "metadata": {
    "application/vnd.databricks.v1+cell": {
     "cellMetadata": {},
     "inputWidgets": {},
     "nuid": "9080e587-fa24-4276-9db4-dfe5ba58eaac",
     "showTitle": false,
     "title": ""
    }
   },
   "outputs": [],
   "source": [
    "evaluate_performance(\n",
    "    y_train=y_train,\n",
    "    y_test=y_test,\n",
    "    y_pred=None,\n",
    "    is_baseline=True\n",
    ")"
   ]
  },
  {
   "cell_type": "code",
   "execution_count": 0,
   "metadata": {
    "application/vnd.databricks.v1+cell": {
     "cellMetadata": {},
     "inputWidgets": {},
     "nuid": "5b2b2a25-5bdb-4699-a7c9-3bc00bab7ebe",
     "showTitle": false,
     "title": ""
    }
   },
   "outputs": [],
   "source": [
    "y_pred_log = np.expm1(y_pred)\n",
    "y_test_log = np.expm1(y_test)"
   ]
  },
  {
   "cell_type": "code",
   "execution_count": 0,
   "metadata": {
    "application/vnd.databricks.v1+cell": {
     "cellMetadata": {},
     "inputWidgets": {},
     "nuid": "5ed9de6c-07b8-4b39-8d40-6044be5a8386",
     "showTitle": false,
     "title": ""
    }
   },
   "outputs": [],
   "source": [
    "viewingsubs_df['percentage_of_viewing_subs_log'] = viewingsubs_df.groupby(['days_on_hbo_max'])['percentage_of_viewing_subs'].apply(\n",
    "    lambda row: np.log1p(row)\n",
    ")"
   ]
  },
  {
   "cell_type": "code",
   "execution_count": 0,
   "metadata": {
    "application/vnd.databricks.v1+cell": {
     "cellMetadata": {},
     "inputWidgets": {},
     "nuid": "e16e378c-5f5d-4317-866e-1cc400801aaa",
     "showTitle": false,
     "title": ""
    }
   },
   "outputs": [],
   "source": [
    "# Import Packages\n",
    "import sys, os, re \n",
    "import io\n",
    "import pandas as pd\n",
    "import numpy as np\n",
    "import itertools as it\n",
    "import logging\n",
    "import boto3\n",
    "import json\n",
    "from datetime import datetime, timedelta\n",
    "\n",
    "\n",
    "import lib.util_snowflake as sfk\n",
    "from snowflake.connector.errors import ProgrammingError\n",
    "from snowflake.connector.pandas_tools import write_pandas\n",
    "\n",
    "import warnings\n",
    "warnings.filterwarnings('ignore')\n",
    "\n",
    "pd.set_option('display.max_columns', None)\n",
    "logger = logging.getLogger()\n",
    "logging.basicConfig(level=logging.INFO)\n",
    "logger.info(f'Starting Notebook')\n",
    "\n",
    "if not sys.warnoptions:\n",
    "    import warnings\n",
    "    warnings.simplefilter(\"ignore\")"
   ]
  },
  {
   "cell_type": "code",
   "execution_count": 0,
   "metadata": {
    "application/vnd.databricks.v1+cell": {
     "cellMetadata": {},
     "inputWidgets": {},
     "nuid": "f3885d56-0f18-49d0-b7e8-3a83ec7547a9",
     "showTitle": false,
     "title": ""
    }
   },
   "outputs": [],
   "source": [
    "%load_ext autoreload\n",
    "%autoreload 2\n",
    "schema = 'content_datascience'\n",
    "current_date = (datetime.now() - timedelta(1)).strftime('%Y-%m-%d')\n",
    "kpi = 'viewing_subs_log'\n",
    "geo_value = 'NORTH AMERICA'\n",
    "schema = 'delphi'"
   ]
  },
  {
   "cell_type": "code",
   "execution_count": 0,
   "metadata": {
    "application/vnd.databricks.v1+cell": {
     "cellMetadata": {},
     "inputWidgets": {},
     "nuid": "023916d4-ede1-4617-a261-ccb59dbb6e1a",
     "showTitle": false,
     "title": ""
    }
   },
   "outputs": [],
   "source": [
    "## Run Credentials to connect to Snowflake\n",
    "logger.info(f'TEST: {sf_creds}')\n",
    "## Snowflake connection \n",
    "conn = sfk.SnowflakeConnector(sfk.SSMPSCredentials(sf_creds))\n",
    "ctx= conn.connect(database, schema)\n",
    "cur = ctx.cursor()"
   ]
  },
  {
   "cell_type": "code",
   "execution_count": 0,
   "metadata": {
    "application/vnd.databricks.v1+cell": {
     "cellMetadata": {},
     "inputWidgets": {},
     "nuid": "b470431c-57d6-4956-898e-281856f52e07",
     "showTitle": false,
     "title": ""
    }
   },
   "outputs": [],
   "source": [
    "def mean_absolute_percentage_error(y_true, y_pred): \n",
    "    y_true, y_pred = np.array(y_true), np.array(y_pred)\n",
    "    return np.mean(np.abs((y_true - y_pred) / y_true)) * 100"
   ]
  },
  {
   "cell_type": "markdown",
   "metadata": {
    "application/vnd.databricks.v1+cell": {
     "cellMetadata": {},
     "inputWidgets": {},
     "nuid": "8dbfe6d9-7100-45df-9a65-bec23792a4c1",
     "showTitle": false,
     "title": ""
    }
   },
   "source": [
    "## 1.0 Query Data"
   ]
  },
  {
   "cell_type": "code",
   "execution_count": 0,
   "metadata": {
    "application/vnd.databricks.v1+cell": {
     "cellMetadata": {},
     "inputWidgets": {},
     "nuid": "9cc41ea8-77a0-42e6-b059-089f83d9d117",
     "showTitle": false,
     "title": ""
    }
   },
   "outputs": [],
   "source": [
    "# train_test_scope = 'lib/dev_train_test_scope.py'\n",
    "# %run $train_test_scope"
   ]
  },
  {
   "cell_type": "code",
   "execution_count": 0,
   "metadata": {
    "application/vnd.databricks.v1+cell": {
     "cellMetadata": {},
     "inputWidgets": {},
     "nuid": "021969cd-343c-44ef-a7ad-1a603da54110",
     "showTitle": false,
     "title": ""
    }
   },
   "outputs": [],
   "source": [
    "## 1.0.1 Read Metadata New\n",
    "query_metadata = f\"\"\"select * from {database}.content_datascience.viewingsubs_metadata_train where geo_value='{geo_value}'\"\"\"\n",
    "logger.info(f'TEST: {query_metadata}')\n",
    "metadata_feature = sfk.execute_query(query = query_metadata, ctx=ctx)\n",
    "\n",
    "## 1.0.2 Read Future Schedule\n",
    "query_schedule = f\"\"\"select * from {database}.content_datascience.viewingsubs_metadata_pred where geo_value='{geo_value}' and imdb_series_id is not null\"\"\"\n",
    "logger.info(f'TEST: {query_schedule}')\n",
    "df_pred = sfk.execute_query(query = query_schedule, ctx = ctx)\n",
    "# print('Loading SFK table file {}'.format(file_ref))\n",
    "\n",
    "## 1.0.3 Read Metric Data\n",
    "# query_metric = f\"\"\"select * from {database}.content_datascience.viewingsubs_metrics_train where geo_value='{geo_value}'\"\"\"\n",
    "# logger.info(f'{query_metric}')\n",
    "# df_metric = sfk.execute_query(query = query_metric, ctx = ctx)\n",
    "# df_metric['first_release_date'] = pd.to_datetime(df_metric['first_release_date']).apply(lambda x: x.strftime('%Y-%m-%d'))\n",
    "\n",
    "## 1.0.3 Read Metric Data\n",
    "query_metric = f\"\"\"select * from {database}.content_datascience.viewingsubs_metrics_train_test where geo_value='{geo_value}' and \n",
    "viewing_subs_pct >1.0\"\"\"\n",
    "logger.info(f'{query_metric}')\n",
    "df_metric = sfk.execute_query(query = query_metric, ctx = ctx)\n",
    "df_metric['first_release_date'] = pd.to_datetime(df_metric['first_release_date']).apply(lambda x: x.strftime('%Y-%m-%d'))"
   ]
  },
  {
   "cell_type": "code",
   "execution_count": 0,
   "metadata": {
    "application/vnd.databricks.v1+cell": {
     "cellMetadata": {},
     "inputWidgets": {},
     "nuid": "c8ad1381-5e4d-4b66-bfa0-8e5c1ecb6e60",
     "showTitle": false,
     "title": ""
    }
   },
   "outputs": [],
   "source": [
    "df_metric['viewing_subs_log'] = df_metric['viewing_subs'].apply(\n",
    "    lambda row: np.log1p(row))\n"
   ]
  },
  {
   "cell_type": "markdown",
   "metadata": {
    "application/vnd.databricks.v1+cell": {
     "cellMetadata": {},
     "inputWidgets": {},
     "nuid": "6d1e2f6a-e871-49ad-ba75-b9bb10d2ef9c",
     "showTitle": false,
     "title": ""
    }
   },
   "source": [
    "## 1.1 Train Test Scope"
   ]
  },
  {
   "cell_type": "code",
   "execution_count": 0,
   "metadata": {
    "application/vnd.databricks.v1+cell": {
     "cellMetadata": {},
     "inputWidgets": {},
     "nuid": "6457499b-42e9-4c7e-a85a-90ba7918b454",
     "showTitle": false,
     "title": ""
    }
   },
   "outputs": [],
   "source": [
    "# Train_Test_Scope = 'lib/dev_Post_GreenLight_Model.py'\n",
    "# %run $Post_GreenLight_Model"
   ]
  },
  {
   "cell_type": "code",
   "execution_count": 0,
   "metadata": {
    "application/vnd.databricks.v1+cell": {
     "cellMetadata": {},
     "inputWidgets": {},
     "nuid": "4cac7cb3-8359-4cbb-950a-5a2f01200e0b",
     "showTitle": false,
     "title": ""
    }
   },
   "outputs": [],
   "source": [
    "from lib.dev_train_test_scope import train_test_scope\n",
    "\n",
    "current_date = (datetime.now() - timedelta(1)).strftime('%Y-%m-%d')\n",
    "train_test_data = train_test_scope(current_date, input_bucket, output_bucket, \n",
    "                                   database, schema, geo_value, kpi, metadata_feature, df_pred)\n",
    "train_test_data.run()\n",
    "train_dataset = train_test_data.train_dataset\n",
    "score_pgl = train_test_data.score_pgl\n",
    "score_pre = train_test_data.score_pre\n",
    "score_post = train_test_data.score_post"
   ]
  },
  {
   "cell_type": "markdown",
   "metadata": {
    "application/vnd.databricks.v1+cell": {
     "cellMetadata": {},
     "inputWidgets": {},
     "nuid": "5c3cf303-37b6-47e1-b72e-a307a21120ed",
     "showTitle": false,
     "title": ""
    }
   },
   "source": [
    "## Model"
   ]
  },
  {
   "cell_type": "markdown",
   "metadata": {
    "application/vnd.databricks.v1+cell": {
     "cellMetadata": {},
     "inputWidgets": {},
     "nuid": "977ea0b1-4947-49e7-81f7-eba781f37631",
     "showTitle": false,
     "title": ""
    }
   },
   "source": [
    "## 2.0 Post-GreenLight Model"
   ]
  },
  {
   "cell_type": "markdown",
   "metadata": {
    "application/vnd.databricks.v1+cell": {
     "cellMetadata": {},
     "inputWidgets": {},
     "nuid": "4f085868-b8d7-46d6-b1f6-bcde6c2e768b",
     "showTitle": false,
     "title": ""
    }
   },
   "source": [
    "### 2.1 Pull in Data"
   ]
  },
  {
   "cell_type": "code",
   "execution_count": 0,
   "metadata": {
    "application/vnd.databricks.v1+cell": {
     "cellMetadata": {},
     "inputWidgets": {},
     "nuid": "840933b5-aca5-44cd-a5ad-750284f70215",
     "showTitle": false,
     "title": ""
    }
   },
   "outputs": [],
   "source": [
    "from lib.dev_Post_GreenLight_Model import post_greenlight_model\n",
    "# Name train and set\n",
    "train_data_set = train_test_data.train_dataset\n",
    "test_data_set = train_test_data.score_pgl\n"
   ]
  },
  {
   "cell_type": "markdown",
   "metadata": {
    "application/vnd.databricks.v1+cell": {
     "cellMetadata": {},
     "inputWidgets": {},
     "nuid": "ce016fe6-6297-430f-85e4-e20f5353f5ef",
     "showTitle": false,
     "title": ""
    }
   },
   "source": [
    "### 2.2 Run Model"
   ]
  },
  {
   "cell_type": "code",
   "execution_count": 0,
   "metadata": {
    "application/vnd.databricks.v1+cell": {
     "cellMetadata": {},
     "inputWidgets": {},
     "nuid": "9a706d7f-6071-43d7-a6cf-d36dc60f707e",
     "showTitle": false,
     "title": ""
    }
   },
   "outputs": [],
   "source": [
    "from sklearn.metrics import mean_absolute_error\n",
    "# mean_absolute_error(y_true, y_pred)"
   ]
  },
  {
   "cell_type": "code",
   "execution_count": 0,
   "metadata": {
    "application/vnd.databricks.v1+cell": {
     "cellMetadata": {},
     "inputWidgets": {},
     "nuid": "7f5260cf-7ff2-4b66-a8de-094c733db077",
     "showTitle": false,
     "title": ""
    }
   },
   "outputs": [],
   "source": [
    "# Post_GreenLight_Model = 'lib/dev_Post_GreenLight_Model.py'\n",
    "# %run $Post_GreenLight_Model"
   ]
  },
  {
   "cell_type": "code",
   "execution_count": 0,
   "metadata": {
    "application/vnd.databricks.v1+cell": {
     "cellMetadata": {},
     "inputWidgets": {},
     "nuid": "954cd266-0449-4e0a-8550-3193d93b5754",
     "showTitle": false,
     "title": ""
    }
   },
   "outputs": [],
   "source": [
    "# df_new = {\n",
    "#     'delphi_id':'df_test', 'ckg_match_id':'df_test', \n",
    "#     'ckg_series_id':'df_test',\n",
    "#     'title_season' : 'The Hedge Knight S1',\n",
    "#     'title_series' : 'The Hedge Knight',\n",
    "#     'imdb_series_id': 'None',\n",
    "#     'season_number' : 1,\n",
    "#     'first_release_date': '2025-07-02',\n",
    "#     'observed_medal': 'Gold',\n",
    "#     'medal_adj':'Gold', \n",
    "#     'prequel_count' : 2.0,\n",
    "#     'prequel_featured_count': 400.0,\n",
    "#     'derived_genre':'Scripted Drama Series', \n",
    "#     'geo_value':'NORTH AMERICA',\n",
    "#     'observed_medal_num':1.0, \n",
    "#     'medal_adj_num':1.0\n",
    "# }\n",
    "\n",
    "# test_data_set = test_data_set.append(df_new, ignore_index=True)"
   ]
  },
  {
   "cell_type": "code",
   "execution_count": 0,
   "metadata": {
    "application/vnd.databricks.v1+cell": {
     "cellMetadata": {},
     "inputWidgets": {},
     "nuid": "7797225d-0b65-4654-beac-0a032d54d6d7",
     "showTitle": false,
     "title": ""
    }
   },
   "outputs": [],
   "source": [
    "# Run Model with Cross Validation\n",
    "pgl_model = post_greenlight_model(train_data_set, test_data_set, kpi, \n",
    "                                  input_bucket, output_bucket, geo_value, \n",
    "                                  database, schema, df_metric)\n",
    "pgl_model.feature_engineer()\n",
    "input_train = pgl_model.train_data\n",
    "input_test = pgl_model.test_data\n",
    "pgl_model.cv(NUM_FOLD = 5)\n",
    "\n",
    "# To review predictions and feature importances in notebook\n",
    "feature_importances = pgl_model.feature_importances\n",
    "validation_set = pgl_model.validation_set"
   ]
  },
  {
   "cell_type": "code",
   "execution_count": 0,
   "metadata": {
    "application/vnd.databricks.v1+cell": {
     "cellMetadata": {},
     "inputWidgets": {},
     "nuid": "4bf8b859-76d6-4972-9836-85aa77e3e6ba",
     "showTitle": false,
     "title": ""
    }
   },
   "outputs": [],
   "source": [
    "validation_set['prediction_log'] = validation_set['prediction']\n",
    "validation_set['prediction'] = np.expm1(validation_set['prediction_log'])\n",
    "validation_set['viewing_subs'] = np.expm1(validation_set['viewing_subs_log'])"
   ]
  },
  {
   "cell_type": "code",
   "execution_count": 0,
   "metadata": {
    "application/vnd.databricks.v1+cell": {
     "cellMetadata": {},
     "inputWidgets": {},
     "nuid": "e6ee42aa-52a3-4ad6-838b-81171576101a",
     "showTitle": false,
     "title": ""
    }
   },
   "outputs": [],
   "source": [
    "import seaborn as sns\n",
    "import matplotlib.pyplot as plt \n",
    "from sklearn.metrics import mean_absolute_error, r2_score\n",
    "def mape_score(y_true, y_pred): \n",
    "#     y_true, y_pred = np.array(y_true), np.array(y_pred)\n",
    "    return np.mean(np.abs(y_true - y_pred) / y_true) * 100"
   ]
  },
  {
   "cell_type": "code",
   "execution_count": 0,
   "metadata": {
    "application/vnd.databricks.v1+cell": {
     "cellMetadata": {},
     "inputWidgets": {},
     "nuid": "c9a49d55-3962-4f12-8c18-8a0979977009",
     "showTitle": false,
     "title": ""
    }
   },
   "outputs": [],
   "source": [
    "# Evaluation Scores for Absolute Value Viewing Sub Predictions - Title cutoff set to 1\n",
    "from sklearn.metrics import r2_score\n",
    "\n",
    "for fold in validation_set['fold'].drop_duplicates().to_list():\n",
    "    y_true = validation_set.loc[(validation_set['fold']==fold), 'viewing_subs'].copy()\n",
    "    y_pred = validation_set.loc[(validation_set['fold']==fold), 'prediction'].copy()\n",
    "    \n",
    "    r2 = r2_score(y_true.to_list(),\n",
    "                  y_pred.to_list())\n",
    "    mape = mape_score(y_true, y_pred)\n",
    "    \n",
    "    logger.info(f'Fold {fold}: R2 {r2.round(2)} | MAPE {mape.round()}')"
   ]
  },
  {
   "cell_type": "code",
   "execution_count": 0,
   "metadata": {
    "application/vnd.databricks.v1+cell": {
     "cellMetadata": {},
     "inputWidgets": {},
     "nuid": "3d58cc88-d1e5-4dd1-826e-9cfd34463e65",
     "showTitle": false,
     "title": ""
    }
   },
   "outputs": [],
   "source": [
    "# Evaluation Scores for Absolute Value Viewing Sub Predictions - Title cutoff set to 1\n",
    "from sklearn.metrics import r2_score\n",
    "\n",
    "for fold in validation_set['fold'].drop_duplicates().to_list():\n",
    "    y_true = validation_set.loc[(validation_set['fold']==fold), 'viewing_subs_log'].copy()\n",
    "    y_pred = validation_set.loc[(validation_set['fold']==fold), 'prediction_log'].copy()\n",
    "    \n",
    "    r2 = r2_score(y_true.to_list(),\n",
    "                  y_pred.to_list())\n",
    "    mape = mape_score(y_true, y_pred)\n",
    "    \n",
    "    logger.info(f'Fold {fold}: R2 {r2.round(2)} | MAPE {mape.round()}')"
   ]
  },
  {
   "cell_type": "code",
   "execution_count": 0,
   "metadata": {
    "application/vnd.databricks.v1+cell": {
     "cellMetadata": {},
     "inputWidgets": {},
     "nuid": "b318c38e-9a9a-4d89-8728-a5c919b8b67d",
     "showTitle": false,
     "title": ""
    }
   },
   "outputs": [],
   "source": [
    "pgl_model.scoring()\n",
    "prediction_set_post_gl = pgl_model.prediction_set"
   ]
  },
  {
   "cell_type": "code",
   "execution_count": 0,
   "metadata": {
    "application/vnd.databricks.v1+cell": {
     "cellMetadata": {},
     "inputWidgets": {},
     "nuid": "2445448d-20e1-4235-b6de-7ed479fb16a3",
     "showTitle": false,
     "title": ""
    }
   },
   "outputs": [],
   "source": [
    "feature_importances"
   ]
  },
  {
   "cell_type": "code",
   "execution_count": 0,
   "metadata": {
    "application/vnd.databricks.v1+cell": {
     "cellMetadata": {},
     "inputWidgets": {},
     "nuid": "1e82f5c2-80b4-402e-8ca4-29106034d4b3",
     "showTitle": false,
     "title": ""
    }
   },
   "outputs": [],
   "source": [
    "data[data['prediction']<0].sort_values(by=y)"
   ]
  },
  {
   "cell_type": "code",
   "execution_count": 0,
   "metadata": {
    "application/vnd.databricks.v1+cell": {
     "cellMetadata": {},
     "inputWidgets": {},
     "nuid": "c3e7cece-dd18-4f36-b93a-22ff38e52cab",
     "showTitle": false,
     "title": ""
    }
   },
   "outputs": [],
   "source": [
    "# Compare Absolute Value Predictions with cutoff\n",
    "# fig = plt.figure(figsize=(7,3))\n",
    "x = f'viewing_subs_log'\n",
    "y = f'prediction_log'\n",
    "data = validation_set\n",
    "sns.set_theme(style=\"whitegrid\")\n",
    "ax = sns.relplot(data=data, x=data[x]/1e6, y=data[y]/1e6, \n",
    "                     hue = 'observed_medal_num',\n",
    "                     palette = 'pastel', col = 'fold'\n",
    "#                 col = 'tier',\n",
    "#                 row='observed_medal_num'\n",
    "               )\n",
    "# plt.title(f'Viewing Subs - 28 Training Data')\n",
    "plt.axvline(x=0, linewidth=.5, color='black', ls= '--')\n",
    "plt.axhline(y=0, linewidth=.5, color='black', ls= '--')\n",
    "\n",
    "# plt.xlim(-1,70)\n",
    "# plt.ylim(-1,70)\n",
    "sns.move_legend(\n",
    "    ax, \"lower center\",\n",
    "    bbox_to_anchor=(.5, 1), ncol=4, title='Tiers', frameon=False,\n",
    ")\n",
    "plt.tight_layout()"
   ]
  },
  {
   "cell_type": "code",
   "execution_count": 0,
   "metadata": {
    "application/vnd.databricks.v1+cell": {
     "cellMetadata": {},
     "inputWidgets": {},
     "nuid": "98c48b6f-588f-4523-bf66-d19a3b4f4ed7",
     "showTitle": false,
     "title": ""
    }
   },
   "outputs": [],
   "source": [
    "# Compare Absolute Value Predictions with cutoff\n",
    "# fig = plt.figure(figsize=(7,3))\n",
    "x = f'viewing_subs'\n",
    "y = f'prediction'\n",
    "data = validation_set\n",
    "sns.set_theme(style=\"whitegrid\")\n",
    "ax = sns.relplot(data=data, x=data[x]/1e6, y=data[y]/1e6, \n",
    "                     hue = 'observed_medal_num',\n",
    "                     palette = 'pastel', col = 'fold'\n",
    "#                 col = 'tier',\n",
    "#                 row='observed_medal_num'\n",
    "               )\n",
    "# plt.title(f'Viewing Subs - 28 Training Data')\n",
    "plt.axvline(x=0, linewidth=.5, color='black', ls= '--')\n",
    "plt.axhline(y=0, linewidth=.5, color='black', ls= '--')\n",
    "\n",
    "# plt.xlim(-1,70)\n",
    "# plt.ylim(-1,70)\n",
    "sns.move_legend(\n",
    "    ax, \"lower center\",\n",
    "    bbox_to_anchor=(.5, 1), ncol=4, title='Tiers', frameon=False,\n",
    ")\n",
    "plt.tight_layout()"
   ]
  },
  {
   "cell_type": "code",
   "execution_count": 0,
   "metadata": {
    "application/vnd.databricks.v1+cell": {
     "cellMetadata": {},
     "inputWidgets": {},
     "nuid": "0249291d-e1e7-42a1-b97d-7194a9f1e9f3",
     "showTitle": false,
     "title": ""
    }
   },
   "outputs": [],
   "source": [
    "# Compare Old Dataset to new dataset\n",
    "# fig = plt.figure(figsize=(7,3))\n",
    "x = f'viewing_subs'\n",
    "y = f'prediction'\n",
    "data = validation_set\n",
    "sns.set_theme(style=\"whitegrid\")\n",
    "ax = sns.relplot(data=data, x=x, y=y, \n",
    "                     hue = 'observed_medal_num',\n",
    "                     palette = 'pastel', col = 'fold'\n",
    "#                 col = 'tier',\n",
    "#                 row='observed_medal_num'\n",
    "               )\n",
    "# plt.title(f'Viewing Subs - 28 Training Data')\n",
    "plt.axvline(x=0, linewidth=.5, color='black', ls= '--')\n",
    "plt.axhline(y=0, linewidth=.5, color='black', ls= '--')\n",
    "\n",
    "# plt.xlim(-1,70)\n",
    "# plt.ylim(-1,70)\n",
    "sns.move_legend(\n",
    "    ax, \"lower center\",\n",
    "    bbox_to_anchor=(.5, 1), ncol=4, title='Tiers', frameon=False,\n",
    ")\n",
    "plt.tight_layout()"
   ]
  },
  {
   "cell_type": "code",
   "execution_count": 0,
   "metadata": {
    "application/vnd.databricks.v1+cell": {
     "cellMetadata": {},
     "inputWidgets": {},
     "nuid": "bec1e352-93e0-4a25-a2d9-180271ebc9d6",
     "showTitle": false,
     "title": ""
    }
   },
   "outputs": [],
   "source": [
    "def mean_absolute_percentage_error(y_true, y_pred): \n",
    "    y_true, y_pred = np.array(y_true), np.array(y_pred)\n",
    "    return np.mean(np.abs((y_true - y_pred) / y_true)) * 100\n",
    "https://scikit-learn.org/stable/modules/classes.html#module-sklearn.metrics"
   ]
  },
  {
   "cell_type": "code",
   "execution_count": 0,
   "metadata": {
    "application/vnd.databricks.v1+cell": {
     "cellMetadata": {},
     "inputWidgets": {},
     "nuid": "197e0409-0264-486d-b4e6-31434be60102",
     "showTitle": false,
     "title": ""
    }
   },
   "outputs": [],
   "source": [
    "prediction_set_post_gl[prediction_set_post_gl['observed_medal_num'].isna()]"
   ]
  },
  {
   "cell_type": "code",
   "execution_count": 0,
   "metadata": {
    "application/vnd.databricks.v1+cell": {
     "cellMetadata": {},
     "inputWidgets": {},
     "nuid": "c22a9af5-d857-4a2c-89b1-b2dc4b77922d",
     "showTitle": false,
     "title": ""
    }
   },
   "outputs": [],
   "source": [
    "prediction_set_post_gl[prediction_set_post_gl['title_series'].str.contains('The Hedge')]"
   ]
  },
  {
   "cell_type": "code",
   "execution_count": 0,
   "metadata": {
    "application/vnd.databricks.v1+cell": {
     "cellMetadata": {},
     "inputWidgets": {},
     "nuid": "e10ca6bd-fe7f-44dc-9838-431d5f5b8743",
     "showTitle": false,
     "title": ""
    }
   },
   "outputs": [],
   "source": [
    "from sklearn.metrics import r2_score\n",
    "validation_set = validation_set[validation_set['derived_genre']=='Scripted Features'].copy()\n",
    "for fold in validation_set['fold'].drop_duplicates().to_list():\n",
    "    r2 = r2_score(validation_set.loc[(validation_set['fold']==fold), 'viewing_subs'].to_list(),\n",
    "                    validation_set.loc[(validation_set['fold']==fold), 'prediction'].to_list())\n",
    "    mape = mean_absolute_percentage_error(validation_set.loc[(validation_set['fold']==fold), 'viewing_subs'],\n",
    "                                         validation_set.loc[(validation_set['fold']==fold), 'prediction'])\n",
    "    logger.info(f'Fold {fold}: R2 {r2.round(2)} | MAPE {mape.round()}')"
   ]
  },
  {
   "cell_type": "code",
   "execution_count": 0,
   "metadata": {
    "application/vnd.databricks.v1+cell": {
     "cellMetadata": {},
     "inputWidgets": {},
     "nuid": "b469b318-4985-4c16-a77c-6272dd09ab19",
     "showTitle": false,
     "title": ""
    }
   },
   "outputs": [],
   "source": [
    "from sklearn.metrics import r2_score\n",
    "validation_set = validation_set[validation_set['derived_genre']=='Scripted Features'].copy()\n",
    "for fold in validation_set['fold'].drop_duplicates().to_list():\n",
    "    for medal in validation_set['observed_medal_num'].drop_duplicates().to_list():\n",
    "        r2 = r2_score(validation_set.loc[(validation_set['fold']==fold)&(validation_set['observed_medal_num']==medal), 'viewing_subs'].to_list(),\n",
    "                        validation_set.loc[(validation_set['fold']==fold)&(validation_set['observed_medal_num']==medal), 'prediction'].to_list())\n",
    "        mape = mean_absolute_percentage_error(validation_set.loc[(validation_set['fold']==fold)&(validation_set['observed_medal_num']==medal), 'viewing_subs'],\n",
    "                                             validation_set.loc[(validation_set['fold']==fold)&(validation_set['observed_medal_num']==medal), 'prediction'])\n",
    "        logger.info(f'Fold {fold} & Medal {medal}: R2 {r2.round(2)} | MAPE {mape.round()}')"
   ]
  },
  {
   "cell_type": "code",
   "execution_count": 0,
   "metadata": {
    "application/vnd.databricks.v1+cell": {
     "cellMetadata": {},
     "inputWidgets": {},
     "nuid": "37854b4e-53ea-4699-9203-fa16522fc13b",
     "showTitle": false,
     "title": ""
    }
   },
   "outputs": [],
   "source": [
    "from sklearn.metrics import r2_score\n",
    "\n",
    "for medal in validation_set['observed_medal_num'].drop_duplicates().to_list():\n",
    "    r2 = r2_score(validation_set.loc[(validation_set['observed_medal_num']==medal), 'viewing_subs'].to_list(),\n",
    "                    validation_set.loc[(validation_set['observed_medal_num']==medal), 'prediction'].to_list())\n",
    "    mape = mean_absolute_percentage_error(validation_set.loc[(validation_set['observed_medal_num']==medal), 'viewing_subs'],\n",
    "                                         validation_set.loc[(validation_set['observed_medal_num']==medal), 'prediction'])\n",
    "    logger.info(f'Medal {medal}: R2 {r2.round(2)} | MAPE {mape.round()}')"
   ]
  },
  {
   "cell_type": "code",
   "execution_count": 0,
   "metadata": {
    "application/vnd.databricks.v1+cell": {
     "cellMetadata": {},
     "inputWidgets": {},
     "nuid": "6ed47b1f-d49f-4c04-99d0-90da46af71c3",
     "showTitle": false,
     "title": ""
    }
   },
   "outputs": [],
   "source": [
    "from sklearn.metrics import r2_score\n",
    "\n",
    "for fold in validation_set['fold'].drop_duplicates().to_list():\n",
    "    sample = \n",
    "    r2 = r2_score(validation_set.loc[(validation_set['fold']==fold), 'viewing_subs'].to_list(),\n",
    "                    validation_set.loc[(validation_set['fold']==fold), 'prediction'].to_list())\n",
    "    mape = mean_absolute_percentage_error(validation_set.loc[(validation_set['fold']==fold), 'viewing_subs'],\n",
    "                                         validation_set.loc[(validation_set['fold']==fold), 'prediction'])\n",
    "    logger.info(f'Fold {fold}: R2 {r2.round(2)} | MAPE {mape.round()}')"
   ]
  },
  {
   "cell_type": "code",
   "execution_count": 0,
   "metadata": {
    "application/vnd.databricks.v1+cell": {
     "cellMetadata": {},
     "inputWidgets": {},
     "nuid": "68695182-d288-4f58-a3ef-98369897689b",
     "showTitle": false,
     "title": ""
    }
   },
   "outputs": [],
   "source": [
    "import seaborn as sns\n",
    "import matplotlib.pyplot as plt"
   ]
  },
  {
   "cell_type": "code",
   "execution_count": 0,
   "metadata": {
    "application/vnd.databricks.v1+cell": {
     "cellMetadata": {},
     "inputWidgets": {},
     "nuid": "5e07cf42-6233-4353-b20f-3dfa92e9cf80",
     "showTitle": false,
     "title": ""
    }
   },
   "outputs": [],
   "source": [
    "# Compare Old Dataset to new dataset\n",
    "# fig = plt.figure(figsize=(7,3))\n",
    "x = f'viewing_subs'\n",
    "y = f'prediction'\n",
    "data = validation_set\n",
    "sns.set_theme(style=\"whitegrid\")\n",
    "ax = sns.scatterplot(data=data, x=x, y=y, \n",
    "                     hue = 'observed_medal_num',\n",
    "                     palette = 'husl', row='tier')\n",
    "# plt.title(f'Viewing Subs - 28 Training Data')\n",
    "plt.axvline(x=0, linewidth=.5, color='black', ls= '--')\n",
    "plt.axhline(y=0, linewidth=.5, color='black', ls= '--')\n",
    "\n",
    "# plt.xlim(-1,70)\n",
    "# plt.ylim(-1,70)\n",
    "sns.move_legend(\n",
    "    ax, \"lower center\",\n",
    "    bbox_to_anchor=(.5, 1), ncol=4, title='Tiers', frameon=False,\n",
    ")\n",
    "plt.tight_layout()"
   ]
  },
  {
   "cell_type": "code",
   "execution_count": 0,
   "metadata": {
    "application/vnd.databricks.v1+cell": {
     "cellMetadata": {},
     "inputWidgets": {},
     "nuid": "6042c03c-3af8-48ea-a796-11a8c1506adc",
     "showTitle": false,
     "title": ""
    }
   },
   "outputs": [],
   "source": [
    "prediction_set"
   ]
  },
  {
   "cell_type": "markdown",
   "metadata": {
    "application/vnd.databricks.v1+cell": {
     "cellMetadata": {},
     "inputWidgets": {},
     "nuid": "84c3a37f-a69c-4d77-ab3e-ec07a7d0bd8a",
     "showTitle": false,
     "title": ""
    }
   },
   "source": [
    "## 3.0 Pre-Launch Model"
   ]
  },
  {
   "cell_type": "markdown",
   "metadata": {
    "application/vnd.databricks.v1+cell": {
     "cellMetadata": {},
     "inputWidgets": {},
     "nuid": "696fd1c0-c760-43a5-b7e7-8c88030cf2d2",
     "showTitle": false,
     "title": ""
    }
   },
   "source": [
    "### 3.1 Import Data"
   ]
  },
  {
   "cell_type": "code",
   "execution_count": 0,
   "metadata": {
    "application/vnd.databricks.v1+cell": {
     "cellMetadata": {},
     "inputWidgets": {},
     "nuid": "b7baf5fa-793a-4152-a705-07e4de95d2a5",
     "showTitle": false,
     "title": ""
    }
   },
   "outputs": [],
   "source": [
    "dev_pre_launch_model = 'lib/dev_Pre_Launch_Model.py'\n",
    "%run $dev_pre_launch_model"
   ]
  },
  {
   "cell_type": "code",
   "execution_count": 0,
   "metadata": {
    "application/vnd.databricks.v1+cell": {
     "cellMetadata": {},
     "inputWidgets": {},
     "nuid": "52ecdbaf-55af-4b1c-a60e-d30b13242776",
     "showTitle": false,
     "title": ""
    }
   },
   "outputs": [],
   "source": [
    "# Import Datasets\n",
    "\n",
    "# Import Wikipedia Data\n",
    "query_wiki_train = f\"\"\"select * \n",
    "from {database}.content_datascience.title_season_wiki_daily_region \n",
    "where geo_value='{geo_value}'\n",
    "and days_from_premiere >= -38 and days_from_premiere <=0\"\"\"\n",
    "logger.info(f'{query_metric}')\n",
    "df_wiki_train = sfk.execute_query(query = query_wiki_train, ctx = ctx)\n",
    "\n",
    "# Import Future Wiki Data\n",
    "query_wiki_pred = f\"\"\"select * \n",
    "from {database}.content_datascience.title_season_wiki_daily_pred\n",
    "where geo_value='{geo_value}'\n",
    "and days_from_premiere >= -38 and days_from_premiere <=0\n",
    "\"\"\"\n",
    "# logger.info(f'{wiki_query_pred}')\n",
    "df_wiki_pred = sfk.execute_query(query = query_wiki_pred, ctx = ctx)"
   ]
  },
  {
   "cell_type": "code",
   "execution_count": 0,
   "metadata": {
    "application/vnd.databricks.v1+cell": {
     "cellMetadata": {},
     "inputWidgets": {},
     "nuid": "f46ea948-ad25-4769-8fd6-1db2b5b897a7",
     "showTitle": false,
     "title": ""
    }
   },
   "outputs": [],
   "source": [
    "# Name train and set\n",
    "train_dataset = train_test_data.train_dataset\n",
    "test_dataset = train_test_data.score_pgl\n",
    "\n",
    "# Combine train and prediction wikipedia data\n",
    "wiki_columns = ['title_series','title_season','season_number', 'imdb_series_id',\n",
    "                'first_release_date', 'days_from_premiere', 'request_date', 'page_views']\n",
    "df_wiki_train['first_release_date'] = pd.to_datetime(df_wiki_train['first_release_date']).dt.strftime('%Y-%m-%d')\n",
    "df_wiki_train = df_wiki_train[wiki_columns].drop_duplicates()\n",
    "df_wiki_pred = df_wiki_pred[wiki_columns].drop_duplicates()\n",
    "\n",
    "df_wiki_train['type'] = 'train'\n",
    "df_wiki_pred['type'] = 'test'\n",
    "df_wiki = pd.concat([df_wiki_train, df_wiki_pred]).drop_duplicates().reset_index(drop=True)\n"
   ]
  },
  {
   "cell_type": "markdown",
   "metadata": {
    "application/vnd.databricks.v1+cell": {
     "cellMetadata": {},
     "inputWidgets": {},
     "nuid": "5bb7b447-42e0-4121-be6c-e62cf1f2cd3c",
     "showTitle": false,
     "title": ""
    }
   },
   "source": [
    "### 3.2 Run Pre-Launch Training Model"
   ]
  },
  {
   "cell_type": "code",
   "execution_count": 0,
   "metadata": {
    "application/vnd.databricks.v1+cell": {
     "cellMetadata": {},
     "inputWidgets": {},
     "nuid": "d3cb294e-aa25-4190-be7c-81fbbff5831c",
     "showTitle": false,
     "title": ""
    }
   },
   "outputs": [],
   "source": [
    "# NUM_FOLD = 3\n",
    "# TARGET_COL =  kpi\n",
    "# test_data = pre_train_data\n",
    "# CAT_COL = ['derived_genre']\n",
    "# FEATURE_COLS = [ 'observed_medal_num', 'prequel_featured_count', 'prequel_count', \n",
    "#                              'season_number', 'page_view_smooth']\n",
    "# META_FEATURE = ['title_season', 'title_series', 'imdb_series_id',\n",
    "#                             'first_release_date', 'days_from_premiere']\n",
    "\n",
    "# FEATURE_COLS.remove('page_view_smooth')"
   ]
  },
  {
   "cell_type": "code",
   "execution_count": 0,
   "metadata": {
    "application/vnd.databricks.v1+cell": {
     "cellMetadata": {},
     "inputWidgets": {},
     "nuid": "038c2236-e36d-445b-b9b6-cf9113c2c71b",
     "showTitle": false,
     "title": ""
    }
   },
   "outputs": [],
   "source": [
    "dev_pre_launch_model = 'lib/dev_Pre_Launch_Model.py'\n",
    "%run $dev_pre_launch_model"
   ]
  },
  {
   "cell_type": "code",
   "execution_count": 0,
   "metadata": {
    "application/vnd.databricks.v1+cell": {
     "cellMetadata": {},
     "inputWidgets": {},
     "nuid": "3b6d855b-6b56-4232-82cb-10089c9c6590",
     "showTitle": false,
     "title": ""
    }
   },
   "outputs": [],
   "source": [
    "pre_model = pre_launch_model(train_dataset, test_dataset, kpi, current_date, input_bucket, output_bucket,\n",
    "                            geo_value, database, df_metric, df_wiki)\n",
    "pre_model.feature_engineer()\n",
    "pre_train_data = pre_model.train_data\n",
    "pre_test_data = pre_model.test_data\n",
    "pre_model.cv(NUM_FOLD = 3)\n",
    "\n",
    "# pre_model.scoring()"
   ]
  },
  {
   "cell_type": "code",
   "execution_count": 0,
   "metadata": {
    "application/vnd.databricks.v1+cell": {
     "cellMetadata": {},
     "inputWidgets": {},
     "nuid": "0e967304-eb00-4f55-b124-cd54234e2f08",
     "showTitle": false,
     "title": ""
    }
   },
   "outputs": [],
   "source": [
    "pre_model.scoring()\n",
    "prediction_set_pre_launch = pre_model.prediction_set"
   ]
  },
  {
   "cell_type": "code",
   "execution_count": 0,
   "metadata": {
    "application/vnd.databricks.v1+cell": {
     "cellMetadata": {},
     "inputWidgets": {},
     "nuid": "635d2072-e4bf-4da9-8160-152c2ab7bdcc",
     "showTitle": false,
     "title": ""
    }
   },
   "outputs": [],
   "source": [
    "prediction_set_pre_launch[prediction_set_pre_launch['title_series'].isin(['The Iron Close', 'Dune: Part Two', ''])]"
   ]
  },
  {
   "cell_type": "code",
   "execution_count": 0,
   "metadata": {
    "application/vnd.databricks.v1+cell": {
     "cellMetadata": {},
     "inputWidgets": {},
     "nuid": "2a13af60-e334-4284-9487-9d4438ba24d6",
     "showTitle": false,
     "title": ""
    }
   },
   "outputs": [],
   "source": [
    "from sklearn.metrics import r2_score\n",
    "validation_set = pre_model.validation_set\n",
    "days = validation_set.days_from_premiere.drop_duplicates().to_list()\n",
    "folds = validation_set.fold.drop_duplicates().to_list()\n",
    "for day in days:\n",
    "    fold_score = []\n",
    "    for fold in folds:\n",
    "        r2 = r2_score(validation_set.loc[(validation_set['days_from_premiere']==day)&(validation_set['fold']==fold), 'viewing_subs'].to_list(),\n",
    "                        validation_set.loc[(validation_set['days_from_premiere']==day)&(validation_set['fold']==fold), 'prediction'].to_list())\n",
    "        fold_score.append(r2.round(2))\n",
    "    print(f'R2 for {day}: {fold_score}')"
   ]
  },
  {
   "cell_type": "code",
   "execution_count": 0,
   "metadata": {
    "application/vnd.databricks.v1+cell": {
     "cellMetadata": {},
     "inputWidgets": {},
     "nuid": "acbbd780-9521-412e-9bf7-61f534a5c3ff",
     "showTitle": false,
     "title": ""
    }
   },
   "outputs": [],
   "source": [
    "from sklearn.metrics import r2_score\n",
    "\n",
    "validation_set = pre_model.validation_set\n",
    "feature_importance = pre_model.feature_importances\n",
    "days = validation_set.days_from_premiere.drop_duplicates().to_list()\n",
    "folds = validation_set.fold.drop_duplicates().to_list()\n",
    "\n",
    "for day in days:\n",
    "    feature_list = feature_importance.loc[(feature_importance['feature_importance']>0.03)&\n",
    "                       (feature_importance['days_from_premiere']==day)].sort_values(\n",
    "    by='feature_importance', ascending=False)['features'].to_list()\n",
    "    logger.info(f'Features for day: {day}')\n",
    "    \n",
    "    fold_score = []\n",
    "    for fold in folds:\n",
    "        r2 = r2_score(validation_set.loc[(validation_set['days_from_premiere']==day)&(validation_set['fold']==fold), 'viewing_subs'].to_list(),\n",
    "                        validation_set.loc[(validation_set['days_from_premiere']==day)&(validation_set['fold']==fold), 'prediction'].to_list())\n",
    "        fold_score.append(r2.round(2))\n",
    "    logger.info(f'{feature_list}')\n",
    "    logger.info(f'R2 for {day}: {fold_score}')"
   ]
  },
  {
   "cell_type": "code",
   "execution_count": 0,
   "metadata": {
    "application/vnd.databricks.v1+cell": {
     "cellMetadata": {},
     "inputWidgets": {},
     "nuid": "eb31d666-b5c1-46fc-88a8-75834142bcc0",
     "showTitle": false,
     "title": ""
    }
   },
   "outputs": [],
   "source": [
    "# train_data = self.train_data\n",
    "# TARGET_COL = self.TARGET_COL\n",
    "# META_FEATURE = self.META_FEATURE\n",
    "# FEATURE_COLS = self.FEATURE_COLS\n",
    "prediction_set = pd.DataFrame()\n",
    "feature_importances = pd.DataFrame()\n",
    "model = XGBRegressor(n_estimators=1000, max_depth=7, eta=0.1, subsample=0.7, colsample_bytree=0.8)\n",
    "\n",
    "for day in range(-27, -25):\n",
    "    print (\"run for day: \" + str(day))\n",
    "    train_df = train_data[train_data['days_from_premiere'] == day]\n",
    "    test_df = test_data[test_data['days_from_premiere'] == day]\n",
    "\n",
    "    X_train, X_test = train_df[FEATURE_COLS], test_df[FEATURE_COLS]\n",
    "    y_train = train_df[TARGET_COL]\n",
    "\n",
    "    model.fit(X_train, y_train)\n",
    "    pred = model.predict(X_test)\n",
    "    pred = pd.DataFrame(pred)\n",
    "    pred.columns = ['prediction']\n",
    "    test_df.reset_index(inplace = True, drop = True)\n",
    "    test_df = pd.concat([test_df, pred], axis = 1)\n",
    "    prediction_set = pd.concat([prediction_set, test_df], axis = 0)\n",
    "\n",
    "# prediction_set['lifecycle'] = 'prelaunch'\n",
    "# prediction_set = prediction_set[self.META_FEATURE + [\n",
    "#     'home_territory_observed_medal', 'prequel_featured_count', 'prequel_count', 'season_number',\n",
    "#     'wikipedia_page_view_smooth', 'prelaunch_trailer_view_smooth', 'programming_provided_genre', \n",
    "#     'lifecycle', 'prediction']].sort_values(by = ['first_release_date'])\n",
    "\n",
    "# Utils.to_csv_s3(content=prediction_set, bucket=self.output_bucket, \n",
    "#                 key_path=self.TARGET_COL,\n",
    "#                 filename=f'prediction_set_prelaunch_new_{self.geo_value}.csv')\n",
    "# logger.info(f'model_kernel.feature_engineer.prediction_set')\n",
    "# self.prediction_set = prediction_set"
   ]
  },
  {
   "cell_type": "code",
   "execution_count": 0,
   "metadata": {
    "application/vnd.databricks.v1+cell": {
     "cellMetadata": {},
     "inputWidgets": {},
     "nuid": "530d6c89-1ee9-4193-bc0e-7ea7c5cb3319",
     "showTitle": false,
     "title": ""
    }
   },
   "outputs": [],
   "source": [
    "prediction_set['lifecycle'] = 'prelaunch'\n",
    "prediction_set = prediction_set[META_FEATURE + [\n",
    "    'observed_medal_num', 'prequel_featured_count', 'prequel_count', 'season_number', 'derived_genre', \n",
    "    'lifecycle', 'prediction']].sort_values(by = ['first_release_date'])"
   ]
  },
  {
   "cell_type": "code",
   "execution_count": 0,
   "metadata": {
    "application/vnd.databricks.v1+cell": {
     "cellMetadata": {},
     "inputWidgets": {},
     "nuid": "af7704ed-8553-4621-9807-c2034681b422",
     "showTitle": false,
     "title": ""
    }
   },
   "outputs": [],
   "source": [
    "prediction_set[prediction_set['title_series']=='The Iron Claw']"
   ]
  },
  {
   "cell_type": "code",
   "execution_count": 0,
   "metadata": {
    "application/vnd.databricks.v1+cell": {
     "cellMetadata": {},
     "inputWidgets": {},
     "nuid": "63820016-64d0-4018-a83d-460224243265",
     "showTitle": false,
     "title": ""
    }
   },
   "outputs": [],
   "source": [
    "pre_model.scoring()\n",
    "prediction_set_pre_launch = pre_model.prediction_set"
   ]
  },
  {
   "cell_type": "markdown",
   "metadata": {
    "application/vnd.databricks.v1+cell": {
     "cellMetadata": {},
     "inputWidgets": {},
     "nuid": "7a5aa7c9-d174-41bc-9c5c-7964a4d32d43",
     "showTitle": false,
     "title": ""
    }
   },
   "source": [
    "### 3.3 Format PreLaunch Predictions and Write to Delphi"
   ]
  },
  {
   "cell_type": "code",
   "execution_count": 0,
   "metadata": {
    "application/vnd.databricks.v1+cell": {
     "cellMetadata": {},
     "inputWidgets": {},
     "nuid": "5f54e5d5-a694-4c62-abe8-6418bcb3733f",
     "showTitle": false,
     "title": ""
    }
   },
   "outputs": [],
   "source": [
    "# Add Columns needed for Delphi Prediction Tables\n",
    "\n",
    "data = {\n",
    "    'model_name': ['pct_viewing_subs_2.0'],\n",
    "    'table_name': ['pct_viewing_subs_prelaunch'],\n",
    "    'model_version': ['2.0'],\n",
    "    'sub_type': ['Max Retail+Wholesale'],\n",
    "    'sub_plan': ['Platform'],\n",
    "    'unit': ['percent'],\n",
    "    'region': [geo_value],\n",
    "    'days_after_premiere': [28],\n",
    "    'publish_date': [current_date],\n",
    "    'key': [1]\n",
    "}\n",
    "df_delphi = pd.DataFrame(data=data, columns = data.keys())\n",
    "\n",
    "\n"
   ]
  },
  {
   "cell_type": "code",
   "execution_count": 0,
   "metadata": {
    "application/vnd.databricks.v1+cell": {
     "cellMetadata": {},
     "inputWidgets": {},
     "nuid": "e5fad4ad-efce-4959-ae7c-2c577f48bb2a",
     "showTitle": false,
     "title": ""
    }
   },
   "outputs": [],
   "source": [
    "df_pred"
   ]
  },
  {
   "cell_type": "code",
   "execution_count": 0,
   "metadata": {
    "application/vnd.databricks.v1+cell": {
     "cellMetadata": {},
     "inputWidgets": {},
     "nuid": "66260d75-3a73-4c4a-96bd-0ecc6a1a46d5",
     "showTitle": false,
     "title": ""
    }
   },
   "outputs": [],
   "source": [
    "prediction_set_pre_launch['key'] = 1\n",
    "df_delphi_prelaunch = df_delphi.merge(prediction_set_pre_launch, on='key').drop(\n",
    "    'key', 1).reset_index(drop=True).copy()\n",
    "\n",
    "# Add imdb_id and ckg_match_id\n",
    "df_delphi_prelaunch = df_delphi_prelaunch.merge(\n",
    "    test_data_set[['delphi_id', 'ckg_match_id', 'ckg_series_id'\n",
    "                   'title_season', 'title_series', 'season_number']], \n",
    "    on=['title_season', 'title_series', 'season_number'], how='inner')"
   ]
  },
  {
   "cell_type": "code",
   "execution_count": 0,
   "metadata": {
    "application/vnd.databricks.v1+cell": {
     "cellMetadata": {},
     "inputWidgets": {},
     "nuid": "f2fd59d7-4bb5-473c-9436-17d4173ccfd5",
     "showTitle": false,
     "title": ""
    }
   },
   "outputs": [],
   "source": [
    "df_delphi_prelaunch"
   ]
  },
  {
   "cell_type": "code",
   "execution_count": 0,
   "metadata": {
    "application/vnd.databricks.v1+cell": {
     "cellMetadata": {},
     "inputWidgets": {},
     "nuid": "bfe3f4d8-568e-4fc4-8532-ec61f5c97591",
     "showTitle": false,
     "title": ""
    }
   },
   "outputs": [],
   "source": []
  },
  {
   "cell_type": "code",
   "execution_count": 0,
   "metadata": {
    "application/vnd.databricks.v1+cell": {
     "cellMetadata": {},
     "inputWidgets": {},
     "nuid": "2b992155-6738-4d20-a511-07c4aab892b3",
     "showTitle": false,
     "title": ""
    }
   },
   "outputs": [],
   "source": []
  },
  {
   "cell_type": "code",
   "execution_count": 0,
   "metadata": {
    "application/vnd.databricks.v1+cell": {
     "cellMetadata": {},
     "inputWidgets": {},
     "nuid": "42814c43-c104-4dbf-9ebc-3b14b972e87c",
     "showTitle": false,
     "title": ""
    }
   },
   "outputs": [],
   "source": []
  },
  {
   "cell_type": "markdown",
   "metadata": {
    "application/vnd.databricks.v1+cell": {
     "cellMetadata": {},
     "inputWidgets": {},
     "nuid": "3655a069-b78d-4212-86d9-d60023cd70ba",
     "showTitle": false,
     "title": ""
    }
   },
   "source": [
    "### 2.3 Format PostGLight Predictions and Write to Delphi"
   ]
  },
  {
   "cell_type": "code",
   "execution_count": 0,
   "metadata": {
    "application/vnd.databricks.v1+cell": {
     "cellMetadata": {},
     "inputWidgets": {},
     "nuid": "64ec1623-b0ed-4981-a07b-d41a5e6627cc",
     "showTitle": false,
     "title": ""
    }
   },
   "outputs": [],
   "source": [
    "# Add Columns needed for Delphi Prediction Tables\n",
    "# df_delphi_postgl = df_delphi.merge(prediction_set_post_gl, on='key').drop('key', 1).reset_index(drop=True).copy()\n",
    "\n",
    "data = {\n",
    "    'model_name': ['pct_viewing_subs_2.0'],\n",
    "    'table_name': ['pct_viewing_subs_postgl'],\n",
    "    'model_version': ['2.0'],\n",
    "    'sub_type': ['Max Retail+Wholesale'],\n",
    "    'sub_plan': ['Platform'],\n",
    "    'unit': ['percent'],\n",
    "    'region': [geo_value],\n",
    "    'days_after_premiere': [28],\n",
    "    'publish_date': [current_date],\n",
    "    'key': [1]\n",
    "}\n",
    "df_delphi = pd.DataFrame(data=data, columns = data.keys())\n",
    "\n",
    "\n",
    "prediction_set_post_gl['key'] = 1\n",
    "df_delphi_postgl = df_delphi.merge(prediction_set_post_gl, on='key').drop(\n",
    "    'key', 1).reset_index(drop=True).copy()\n",
    "\n",
    "# Add imdb_id and ckg_match_id\n",
    "df_delphi_postgl = df_delphi_postgl.merge(\n",
    "    test_data_set[['delphi_id', 'ckg_match_id', 'ckg_series_id', 'imdb_series_id',\n",
    "                   'title_season', 'title_series', 'season_number']], \n",
    "    on=['title_season', 'title_series', 'season_number'], how='inner')"
   ]
  },
  {
   "cell_type": "code",
   "execution_count": 0,
   "metadata": {
    "application/vnd.databricks.v1+cell": {
     "cellMetadata": {},
     "inputWidgets": {},
     "nuid": "3c081126-004b-48e2-87e9-53d13ef69197",
     "showTitle": false,
     "title": ""
    }
   },
   "outputs": [],
   "source": [
    "# Rename Columns to match Delphi\n",
    "rename_set = {\n",
    "    'ckg_series_id' : 'title_id',\n",
    "    'imdb_series_id' : 'imdb_id',\n",
    "    'title_series' : 'title_name', \n",
    "    'derived_genre' :'category',   \n",
    "    'first_release_date' : 'premiere_date'\n",
    "}\n",
    "df_delphi_postgl.rename(columns = rename_set, inplace=True)\n"
   ]
  },
  {
   "cell_type": "code",
   "execution_count": 0,
   "metadata": {
    "application/vnd.databricks.v1+cell": {
     "cellMetadata": {},
     "inputWidgets": {},
     "nuid": "3dc83e95-24ae-41ed-9a87-610e1883a483",
     "showTitle": false,
     "title": ""
    }
   },
   "outputs": [],
   "source": [
    "# Update dates to datetime object\n",
    "df_delphi_postgl['premiere_date'] = pd.to_datetime(df_delphi_postgl['premiere_date'])\n",
    "df_delphi_postgl['publish_date'] = pd.to_datetime(df_delphi_postgl['publish_date'])\n",
    "df_delphi_postgl['current_days_from_premiere'] = (df_delphi_postgl['publish_date'] - df_delphi_postgl['premiere_date']).dt.days\n",
    "df_delphi_postgl['target_date'] = df_delphi_postgl['premiere_date'] + df_delphi_postgl['days_after_premiere'].apply(lambda x: pd.DateOffset(days=x))\n",
    "\n",
    "# Back to string to make compatible with sfk package\n",
    "df_delphi_postgl['publish_date'] = df_delphi_postgl['publish_date'].apply(lambda x: x.strftime('%Y-%m-%d'))\n",
    "df_delphi_postgl['target_date'] = df_delphi_postgl['target_date'].apply(lambda x: x.strftime('%Y-%m-%d'))\n",
    "df_delphi_postgl['premiere_date'] = df_delphi_postgl['premiere_date'].apply(lambda x: x.strftime('%Y-%m-%d'))\n"
   ]
  },
  {
   "cell_type": "code",
   "execution_count": 0,
   "metadata": {
    "application/vnd.databricks.v1+cell": {
     "cellMetadata": {},
     "inputWidgets": {},
     "nuid": "bd7a65ce-570c-4f79-8246-26e7836aacac",
     "showTitle": false,
     "title": ""
    }
   },
   "outputs": [],
   "source": [
    "# Write to Snowflake\n",
    "df_delphi_postgl = df_delphi_postgl[df_delphi_postgl['delphi_id'].notnull()].reset_index(drop=True).copy()\n",
    "# sfk.export_dataframe_to_table(database=database, schema='delphi', df=df_delphi_postgl, \n",
    "#                               table=f'{df_delphi_postgl.loc[0,\"table_name\"]}_staging', conn=ctx)"
   ]
  },
  {
   "cell_type": "code",
   "execution_count": 0,
   "metadata": {
    "application/vnd.databricks.v1+cell": {
     "cellMetadata": {},
     "inputWidgets": {},
     "nuid": "53c4a168-1690-4ebe-8d0d-c5a361924e14",
     "showTitle": false,
     "title": ""
    }
   },
   "outputs": [],
   "source": [
    "from lib.dev_Pre_Launch_Model import post_greenlight_model"
   ]
  },
  {
   "cell_type": "code",
   "execution_count": 0,
   "metadata": {
    "application/vnd.databricks.v1+cell": {
     "cellMetadata": {},
     "inputWidgets": {},
     "nuid": "393d4db9-1fb1-4691-ac02-a105c9904b43",
     "showTitle": false,
     "title": ""
    }
   },
   "outputs": [],
   "source": [
    "dev_pre_launch_model = 'lib/dev_Pre_Launch_Model.py'\n",
    "%run $dev_pre_launch_model\n"
   ]
  },
  {
   "cell_type": "code",
   "execution_count": 0,
   "metadata": {
    "application/vnd.databricks.v1+cell": {
     "cellMetadata": {},
     "inputWidgets": {},
     "nuid": "cf16f231-0068-4932-a13c-e4fd3661a2e2",
     "showTitle": false,
     "title": ""
    }
   },
   "outputs": [],
   "source": [
    "pre_launch_model = 'lib/Pre_Launch_Model.py'\n",
    "%run $pre_launch_model"
   ]
  },
  {
   "cell_type": "markdown",
   "metadata": {
    "application/vnd.databricks.v1+cell": {
     "cellMetadata": {},
     "inputWidgets": {},
     "nuid": "26d49324-698a-43ba-910a-ef2725e9d6b3",
     "showTitle": false,
     "title": ""
    }
   },
   "source": [
    "### 3.1 Pull in Data"
   ]
  },
  {
   "cell_type": "code",
   "execution_count": 0,
   "metadata": {
    "application/vnd.databricks.v1+cell": {
     "cellMetadata": {},
     "inputWidgets": {},
     "nuid": "5bb5e6a3-4972-4a74-92c5-23858283a9c9",
     "showTitle": false,
     "title": ""
    }
   },
   "outputs": [],
   "source": [
    "# create or replace table max_dev.workspace.forecasting_signals_search as (\n",
    "# select gs.TRACKING_GROUP_ID as imdb_id, date,indexed_volume::float as value, 'search' as metric,geo_name\n",
    "# ,CONVERT_TIMEZONE('UTC', 'America/Los_Angeles',current_timestamp::TIMESTAMP_NTZ)::timestamp  as create_ts\n",
    "# from \"MAX_PROD\".\"CKG\".\"GST_COUNTRY_LEVEL_VOLUME\" as gs\n",
    "# where date::date > '2020-01-01' \n",
    "# and gs.TRACKING_GROUP_ID in (select imdb_id from forecasting_premieres)\n",
    "# and lower(geo_name) in (select lower(country_iso_code) from forecasting_geo_map)\n",
    "# );"
   ]
  },
  {
   "cell_type": "code",
   "execution_count": 0,
   "metadata": {
    "application/vnd.databricks.v1+cell": {
     "cellMetadata": {},
     "inputWidgets": {},
     "nuid": "ac758b3d-c434-4f70-8a65-b5ef4a95b01a",
     "showTitle": false,
     "title": ""
    }
   },
   "outputs": [],
   "source": []
  }
 ],
 "metadata": {
  "application/vnd.databricks.v1+notebook": {
   "dashboards": [],
   "environmentMetadata": null,
   "language": "python",
   "notebookMetadata": {
    "pythonIndentUnit": 4
   },
   "notebookName": "USA-vsubs_prelaunch_dev",
   "widgets": {}
  },
  "kernelspec": {
   "display_name": "env",
   "language": "python",
   "name": "env"
  },
  "language_info": {
   "codemirror_mode": {
    "name": "ipython",
    "version": 3
   },
   "file_extension": ".py",
   "mimetype": "text/x-python",
   "name": "python",
   "nbconvert_exporter": "python",
   "pygments_lexer": "ipython3",
   "version": "3.7.12"
  }
 },
 "nbformat": 4,
 "nbformat_minor": 0
}
