{
 "cells": [
  {
   "cell_type": "markdown",
   "metadata": {
    "application/vnd.databricks.v1+cell": {
     "cellMetadata": {},
     "inputWidgets": {},
     "nuid": "19a80a2d-9262-49eb-9882-af02f2b26119",
     "showTitle": false,
     "title": ""
    }
   },
   "source": [
    "### Viewing Sub % EDA "
   ]
  },
  {
   "cell_type": "code",
   "execution_count": 0,
   "metadata": {
    "application/vnd.databricks.v1+cell": {
     "cellMetadata": {},
     "inputWidgets": {},
     "nuid": "90517d87-ebb3-485f-9ae0-5918ff2d1b48",
     "showTitle": false,
     "title": ""
    }
   },
   "outputs": [],
   "source": [
    "# Import Packages\n",
    "import sys, os, re \n",
    "import io\n",
    "import pandas as pd\n",
    "import numpy as np\n",
    "import itertools as it\n",
    "import logging\n",
    "import boto3\n",
    "import json\n",
    "from datetime import datetime, timedelta\n",
    "\n",
    "\n",
    "import lib.util_snowflake as sfk\n",
    "\n",
    "import warnings\n",
    "warnings.filterwarnings('ignore')\n",
    "\n",
    "pd.set_option('display.max_columns', None)\n",
    "logger = logging.getLogger()\n",
    "logging.basicConfig(level=logging.INFO)\n",
    "logger.info(f'Starting Notebook')\n",
    "\n",
    "if not sys.warnoptions:\n",
    "    import warnings\n",
    "    warnings.simplefilter(\"ignore\")\n",
    "    \n",
    "sf_creds = 'hbo-max-content-datascience-snowflake-dev'\n",
    "database = 'max_dev'\n",
    "input_bucket = \"hbo-ingest-datascience-content\"\n",
    "output_bucket = \"hbo-outbound-datascience-content-dev\"\n"
   ]
  },
  {
   "cell_type": "code",
   "execution_count": 0,
   "metadata": {
    "application/vnd.databricks.v1+cell": {
     "cellMetadata": {},
     "inputWidgets": {},
     "nuid": "7aeefb95-71eb-41d2-ba3d-ae23e9fc01f8",
     "showTitle": false,
     "title": ""
    }
   },
   "outputs": [],
   "source": [
    "## Run Credentials to connect to Snowflake\n",
    "logger.info(f'TEST: {sf_creds}')\n",
    "## Snowflake connection \n",
    "schema = 'workspace'\n",
    "conn = sfk.SnowflakeConnector(sfk.SSMPSCredentials(sf_creds))\n",
    "ctx= conn.connect(database, schema)\n",
    "cur = ctx.cursor()"
   ]
  },
  {
   "cell_type": "code",
   "execution_count": 0,
   "metadata": {
    "application/vnd.databricks.v1+cell": {
     "cellMetadata": {},
     "inputWidgets": {},
     "nuid": "aa7d64ee-44d4-45f6-8118-6d752d35e0ef",
     "showTitle": false,
     "title": ""
    }
   },
   "outputs": [],
   "source": [
    "# Pull utils folder for SageMaker env\n",
    "repo = 'SageMaker'\n",
    "root_path = os.getcwd()[:re.search(repo, os.getcwd()).start()] + repo + '/'\n",
    "\n",
    "utils_sf = root_path + 'utils/util_snowflake.py'\n",
    "%run $utils_sf $root_path\n",
    "print(f\"ran paths: {utils_sf}, root_path: {root_path}\")"
   ]
  },
  {
   "cell_type": "code",
   "execution_count": 0,
   "metadata": {
    "application/vnd.databricks.v1+cell": {
     "cellMetadata": {},
     "inputWidgets": {},
     "nuid": "8a1da42a-3132-4070-a3d1-4dbb6e89b5da",
     "showTitle": false,
     "title": ""
    }
   },
   "outputs": [],
   "source": [
    "## 1.0.1 Read Metadata New\n",
    "query = f\"\"\"\n",
    "with filter_base as\n",
    "    (\n",
    "    select  \n",
    "        metric.geo_value,\n",
    "        metric.title_series, \n",
    "        metric.title_season,\n",
    "        metric.season_number,\n",
    "        meta.reporting_net_studio,\n",
    "        meta.content_source,\n",
    "        meta.ckg_series_id,\n",
    "        metric.offering_start_date,\n",
    "        case when meta.geo_value = 'LATAM' then latam_home_medal else predicted_medal_us end as medal,\n",
    "        meta.derived_genre,\n",
    "        meta.program_type,\n",
    "        metric.cume_title_viewing_subs, \n",
    "        cume_platform_viewing_subs, \n",
    "        percent_cumulative_viewing_subs,\n",
    "        days_on_max\n",
    "    from max_prod.content_datascience.title_season_metrics_platform as  metric\n",
    "    inner join max_prod.content_datascience.all_titles_season_metadata as meta\n",
    "        ON metric.ckg_match_id = meta.ckg_match_id\n",
    "        and metric.geo_value = meta.geo_value\n",
    "        and metric.season_number = meta.season_number\n",
    "    where  metric.geo_level = 'REGION'\n",
    "        and metric.days_on_max = (28) \n",
    "        and metric.season_number >0 \n",
    "        and metric.offering_window_num = 1\n",
    "        and metric.offering_start_date > to_date('2021-06-01')\n",
    " --       and percent_cumulative_viewing_subs >1\n",
    " --       and predicted_medal_us is not null\n",
    ")\n",
    "select table_a.geo_value,\n",
    "    table_a.title_series,\n",
    "    table_a.ckg_series_id,\n",
    "    case when table_a.program_type = 'Original' and table_a.content_source = 'MAX' then 'Max Original'\n",
    "        when table_a.program_type = 'Original' and table_a.content_source = 'HBO' then 'HBO Original'\n",
    "        when table_a.program_type = 'Acquired' and table_a.content_source = 'MAX' then 'Acquired'\n",
    "        else 'other' end as lop,\n",
    "    table_a.medal,\n",
    "    table_a.reporting_net_studio,\n",
    "    table_a.content_source,\n",
    "    table_a.program_type,\n",
    "    table_a.season_number as season_number,\n",
    "    table_b.season_number as season_prev,\n",
    "    table_a.offering_start_date as start_date,\n",
    "    table_b.offering_start_date as start_date_prev,\n",
    "    datediff('days', start_date_prev, start_date) as date_diff,\n",
    "    table_a.percent_cumulative_viewing_subs as vs_pct_curr,\n",
    "    table_a.cume_title_viewing_subs as vs_title_curr, \n",
    "    table_a.cume_platform_viewing_subs as vs_platform_curr,\n",
    "    table_b.percent_cumulative_viewing_subs as vs_pct_prev,\n",
    "    table_b.cume_title_viewing_subs as vs_title_prev, \n",
    "    table_b.cume_platform_viewing_subs as vs_platform_prev\n",
    "from filter_base as table_a\n",
    "left join filter_base as table_b\n",
    "on table_a.geo_value = table_b.geo_value\n",
    "    and table_a.days_on_max = table_b.days_on_max\n",
    "    and table_a.ckg_series_id = table_b.ckg_series_id\n",
    "    and table_a.season_number = (table_b.season_number+1) -- Add 1 to last season (table_b) to equal target season (table_a) \n",
    "    and table_a.offering_start_date > table_b.offering_start_date -- Start date of last season must be earlier than current season\n",
    "where table_a.season_number > 1 -- must not be a movie\n",
    "and start_date > '2021-06-01'\n",
    "order by table_a.geo_value, table_a.title_series, table_a.season_number;\"\"\"\n",
    "logger.info(f'TEST: {query}')\n",
    "df = sfk.execute_query(query = query, ctx=ctx)"
   ]
  },
  {
   "cell_type": "code",
   "execution_count": 0,
   "metadata": {
    "application/vnd.databricks.v1+cell": {
     "cellMetadata": {},
     "inputWidgets": {},
     "nuid": "4bf6d3b6-2f37-47ca-8524-a2b0692aa55a",
     "showTitle": false,
     "title": ""
    }
   },
   "outputs": [],
   "source": [
    "import seaborn as sns\n",
    "import matplotlib.pyplot as plt "
   ]
  },
  {
   "cell_type": "code",
   "execution_count": 0,
   "metadata": {
    "application/vnd.databricks.v1+cell": {
     "cellMetadata": {},
     "inputWidgets": {},
     "nuid": "02aa6499-03f4-40ad-9457-db9281debe25",
     "showTitle": false,
     "title": ""
    }
   },
   "outputs": [],
   "source": [
    "df['vs_pct_curr'] = df['vs_pct_curr'].astype('float')\n",
    "df['vs_pct_prev'] = df['vs_pct_prev'].astype('float')"
   ]
  },
  {
   "cell_type": "code",
   "execution_count": 0,
   "metadata": {
    "application/vnd.databricks.v1+cell": {
     "cellMetadata": {},
     "inputWidgets": {},
     "nuid": "10f2e0dc-d832-418a-a176-502a95709a9d",
     "showTitle": false,
     "title": ""
    }
   },
   "outputs": [],
   "source": [
    "df_graph = df[(df['geo_value']=='NORTH AMERICA')\n",
    "              &(df['season_number']>1)\n",
    "              &(df['vs_title_prev']>0)\n",
    "              &(df['medal'].isin(['Platinum', 'Gold', 'Silver']))\n",
    "              &(df['start_date']>pd.to_datetime('2021-06-01'))\n",
    "             \n",
    "             ]\n",
    "\n",
    "# Compare Absolute Value Predictions with cutoff\n",
    "# fig = plt.figure(figsize=(7,3))\n",
    "x = f'vs_title_curr'\n",
    "y = f'vs_title_prev'\n",
    "data = df[df['season_number']>1]\n",
    "sns.set_theme(style=\"whitegrid\")\n",
    "ax = sns.relplot(data=data, x=data[x]/1e6, y=data[y]/1e6, \n",
    "                     hue = 'medal',\n",
    "                 col = 'geo_value'\n",
    "#                 col = 'tier',\n",
    "#                 row='observed_medal_num'\n",
    "               )\n",
    "# plt.title(f'Viewing Subs - 28 Training Data')\n",
    "plt.axvline(x=0, linewidth=.5, color='black', ls= '--')\n",
    "plt.axhline(y=0, linewidth=.5, color='black', ls= '--')\n",
    "\n",
    "plt.xlim(-1,8)\n",
    "plt.ylim(-1,8)\n",
    "plt.tight_layout()"
   ]
  },
  {
   "cell_type": "code",
   "execution_count": 0,
   "metadata": {
    "application/vnd.databricks.v1+cell": {
     "cellMetadata": {},
     "inputWidgets": {},
     "nuid": "b787d2b7-d7f3-4e46-9249-441a4336c2d3",
     "showTitle": false,
     "title": ""
    }
   },
   "outputs": [],
   "source": [
    "# Compare Absolute Value Predictions with cutoff\n",
    "# fig = plt.figure(figsize=(7,3))\n",
    "x = f'vs_title_curr'\n",
    "y = f'vs_title_prev'\n",
    "\n",
    "# sns.set_theme(style=\"whitegrid\")\n",
    "ax = sns.relplot(data=df_graph, x=x, y=y, \n",
    "                 hue = 'medal',\n",
    "                 col = 'lop',\n",
    "               )\n",
    "# plt.title(f'Viewing Subs - 28 Training Data')\n",
    "plt.axvline(x=0, linewidth=.5, color='black', ls= '--')\n",
    "plt.axhline(y=0, linewidth=.5, color='black', ls= '--')\n",
    "\n",
    "plt.xlim(-1,8000000)\n",
    "plt.ylim(-1,8000000)\n",
    "plt.tight_layout()"
   ]
  },
  {
   "cell_type": "code",
   "execution_count": 0,
   "metadata": {
    "application/vnd.databricks.v1+cell": {
     "cellMetadata": {},
     "inputWidgets": {},
     "nuid": "f2531986-0e41-42c9-9de3-520f6e322250",
     "showTitle": false,
     "title": ""
    }
   },
   "outputs": [],
   "source": [
    "df_graph = df[(df['geo_value']=='NORTH AMERICA')\n",
    "              &(df['season_number']>1)\n",
    "              &(df['vs_title_prev']>0)\n",
    "              &(df['medal'].isin(['Platinum', 'Gold', 'Silver']))\n",
    "              &(df['start_date']>pd.to_datetime('2021-06-01'))\n",
    "             \n",
    "             ]\n",
    "\n",
    "fig = plt.figure(figsize=(7,7))\n",
    "x = f'vs_title_curr'\n",
    "y = f'vs_title_prev'\n",
    "\n",
    "\n",
    "ax = sns.scatterplot(data=df_graph, x=x, y=y, hue='lop')\n",
    "plt.xlim(0,7500000)\n",
    "plt.ylim(0,7500000)"
   ]
  },
  {
   "cell_type": "code",
   "execution_count": 0,
   "metadata": {
    "application/vnd.databricks.v1+cell": {
     "cellMetadata": {},
     "inputWidgets": {},
     "nuid": "11b9e296-fe6d-43ef-9f8f-3e5b4071ccf4",
     "showTitle": false,
     "title": ""
    }
   },
   "outputs": [],
   "source": [
    "df_graph = df[(df['geo_value']=='NORTH AMERICA')\n",
    "              &(df['season_number']>1)\n",
    "              &(df['vs_title_prev']>0)\n",
    "              &(df['medal'].isin(['Platinum', 'Gold', 'Silver']))\n",
    "              &(df['start_date']>pd.to_datetime('2021-06-01'))\n",
    "             \n",
    "             ]"
   ]
  },
  {
   "cell_type": "code",
   "execution_count": 0,
   "metadata": {
    "application/vnd.databricks.v1+cell": {
     "cellMetadata": {},
     "inputWidgets": {},
     "nuid": "f2b10528-58d7-474a-9045-8dbe0919b924",
     "showTitle": false,
     "title": ""
    }
   },
   "outputs": [],
   "source": [
    "df['title_pct_change'] = (df['vs_title_curr']-df['vs_title_prev'])/df['vs_title_prev']"
   ]
  },
  {
   "cell_type": "code",
   "execution_count": 0,
   "metadata": {
    "application/vnd.databricks.v1+cell": {
     "cellMetadata": {},
     "inputWidgets": {},
     "nuid": "1cc5ace8-f390-4e49-b65f-423cfa7aad91",
     "showTitle": false,
     "title": ""
    }
   },
   "outputs": [],
   "source": [
    "df_graph[['title_series', 'season_number', 'start_date', 'start_date_prev','content_source', \n",
    "          'medal',  'vs_title_prev', 'vs_title_curr', 'vs_pct_prev','vs_pct_curr',\n",
    "          'title_pct_change']].sort_values(by='title_pct_change', ascending=False)"
   ]
  },
  {
   "cell_type": "code",
   "execution_count": 0,
   "metadata": {
    "application/vnd.databricks.v1+cell": {
     "cellMetadata": {},
     "inputWidgets": {},
     "nuid": "5c53fe5b-43a9-4cb4-a8f7-f84b259c0110",
     "showTitle": false,
     "title": ""
    }
   },
   "outputs": [],
   "source": [
    "df_graph = df[(df['geo_value']=='NORTH AMERICA')\n",
    "              &(df['season_number']>1)\n",
    "              &(df['vs_title_prev']>0)\n",
    "              &(df['medal'].isin(['Platinum', 'Gold', 'Silver']))\n",
    "              &(df['start_date']>pd.to_datetime('2021-06-01'))\n",
    "             \n",
    "             ]\n",
    "\n",
    "fig = plt.figure(figsize=(7,7))\n",
    "x = f'vs_title_curr'\n",
    "y = f'vs_title_prev'\n",
    "\n",
    "\n",
    "ax = sns.scatterplot(data=df_graph, x=x, y=y, hue='medal')\n",
    "plt.xlim(0,7500000)\n",
    "plt.ylim(0,7500000)"
   ]
  },
  {
   "cell_type": "code",
   "execution_count": 0,
   "metadata": {
    "application/vnd.databricks.v1+cell": {
     "cellMetadata": {},
     "inputWidgets": {},
     "nuid": "a01dc312-3545-4fda-a008-c14d6a7efeca",
     "showTitle": false,
     "title": ""
    }
   },
   "outputs": [],
   "source": [
    "fig = plt.figure(figsize=(7,7))\n",
    "x = f'vs_title_curr'\n",
    "y = f'vs_title_prev'\n",
    "\n",
    "\n",
    "ax = sns.scatterplot(data=df_graph, x=x, y=y, hue='program_type')\n",
    "# plt.xlim(0,30)\n",
    "# plt.ylim(0,30)"
   ]
  },
  {
   "cell_type": "code",
   "execution_count": 0,
   "metadata": {
    "application/vnd.databricks.v1+cell": {
     "cellMetadata": {},
     "inputWidgets": {},
     "nuid": "cdac9247-475b-49d2-9b84-e552b3997612",
     "showTitle": false,
     "title": ""
    }
   },
   "outputs": [],
   "source": [
    "fig = plt.figure(figsize=(7,7))\n",
    "x = f'vs_pct_curr'\n",
    "y = f'vs_pct_prev'\n",
    "\n",
    "\n",
    "ax = sns.scatterplot(data=df_graph, x=x, y=y, hue='medal')\n",
    "# plt.xlim(0,30)\n",
    "# plt.ylim(0,30)"
   ]
  },
  {
   "cell_type": "code",
   "execution_count": 0,
   "metadata": {
    "application/vnd.databricks.v1+cell": {
     "cellMetadata": {},
     "inputWidgets": {},
     "nuid": "21b34e2a-fa27-487b-b2ea-a31cdb4cecf2",
     "showTitle": false,
     "title": ""
    }
   },
   "outputs": [],
   "source": []
  },
  {
   "cell_type": "code",
   "execution_count": 0,
   "metadata": {
    "application/vnd.databricks.v1+cell": {
     "cellMetadata": {},
     "inputWidgets": {},
     "nuid": "de34c16c-13f9-4f0b-9fad-604d5cae3991",
     "showTitle": false,
     "title": ""
    }
   },
   "outputs": [],
   "source": [
    "# df_graph = df[(df['geo_value']=='NORTH AMERICA')&(df['season_number']>1)&\n",
    "#              (df['vs_title_prev']>0)]\n",
    "\n",
    "fig = plt.figure(figsize=(7,7))\n",
    "\n",
    "ax = sns.scatterplot(data=df_graph, x=x, y=y, hue='medal')\n",
    "# plt.xlim(0,30)\n",
    "# plt.ylim(0,30)"
   ]
  },
  {
   "cell_type": "code",
   "execution_count": 0,
   "metadata": {
    "application/vnd.databricks.v1+cell": {
     "cellMetadata": {},
     "inputWidgets": {},
     "nuid": "33cac59c-79d6-4c30-b50c-9f629f107015",
     "showTitle": false,
     "title": ""
    }
   },
   "outputs": [],
   "source": [
    "df_graph = df[(df['geo_value']=='NORTH AMERICA')&(\n",
    "    df['season_number']>1)&\n",
    "             (df['vs_title_prev']>0)]\n",
    "\n",
    "\n",
    "fig = plt.figure(figsize=(7,3))\n",
    "# filter_col = 'months_on_platform'\n",
    "x = f'vs_pct_curr'\n",
    "y = f'vs_pct_prev'\n",
    "\n",
    "ax = sns.scatterplot(data=df_graph, x=x, y=y, hue='medal')\n",
    "plt.title(f'Season-over-season')\n",
    "plt.axvline(x=0, linewidth=.5, color='black', ls= '--')\n",
    "plt.axhline(y=0, linewidth=.5, color='black', ls= '--')\n",
    "# plt.xlim(0,4)\n",
    "# plt.ylim(0,4)\n",
    "plt.xlabel(f'Current Season')\n",
    "plt.ylabel(f'Previous Season')\n",
    "# plt.plot(X_plot, Y_plot,ls =':')\n",
    "plt.tight_layout()"
   ]
  }
 ],
 "metadata": {
  "application/vnd.databricks.v1+notebook": {
   "dashboards": [],
   "environmentMetadata": null,
   "language": "python",
   "notebookMetadata": {},
   "notebookName": "vsub_season_eda-update",
   "widgets": {}
  },
  "kernelspec": {
   "display_name": "conda_python3",
   "language": "python",
   "name": "conda_python3"
  },
  "language_info": {
   "codemirror_mode": {
    "name": "ipython",
    "version": 3
   },
   "file_extension": ".py",
   "mimetype": "text/x-python",
   "name": "python",
   "nbconvert_exporter": "python",
   "pygments_lexer": "ipython3",
   "version": "3.6.13"
  }
 },
 "nbformat": 4,
 "nbformat_minor": 0
}
