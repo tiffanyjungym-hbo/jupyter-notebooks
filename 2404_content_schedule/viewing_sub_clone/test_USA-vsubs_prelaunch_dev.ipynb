{
 "cells": [
  {
   "cell_type": "markdown",
   "metadata": {
    "application/vnd.databricks.v1+cell": {
     "cellMetadata": {},
     "inputWidgets": {},
     "nuid": "affdfa37-a947-445f-8f00-8f30c06c79a8",
     "showTitle": false,
     "title": ""
    }
   },
   "source": [
    "# Run Pre Launch Model - Dev\n",
    "https://scikit-learn.org/stable/modules/classes.html#module-sklearn.metrics\n",
    "- try with cutoff\n",
    "- try with log\n",
    "- mae"
   ]
  },
  {
   "cell_type": "markdown",
   "metadata": {
    "application/vnd.databricks.v1+cell": {
     "cellMetadata": {},
     "inputWidgets": {},
     "nuid": "801ce54e-f92b-4614-a2b2-c3a1e8d55791",
     "showTitle": false,
     "title": ""
    }
   },
   "source": [
    "Query for new features - expand cell below "
   ]
  },
  {
   "cell_type": "code",
   "execution_count": 0,
   "metadata": {
    "application/vnd.databricks.v1+cell": {
     "cellMetadata": {},
     "inputWidgets": {},
     "nuid": "56446a09-95ba-4fef-ab8d-b5b56e5f2c7f",
     "showTitle": false,
     "title": ""
    }
   },
   "outputs": [],
   "source": [
    "query = \"\"\"\n",
    "with feature_space as (\n",
    "    select \n",
    "        distinct imdb_id, title_name, \n",
    "        season_number, region, medal, \n",
    "        marketing_spend, forecast_category, \n",
    "        segment, \n",
    "        premiere_date, \n",
    "        PVC, \n",
    "        date_teaser, \n",
    "        date_trailer, \n",
    "        views_owned_teaser, \n",
    "        views_owned_trailer,\n",
    "        search_1wbp, \n",
    "        wiki_2wbp, \n",
    "        search_2wbp,\n",
    "        search_teaser, \n",
    "        search_trailer\n",
    "    from max_dev.workspace.forecasting_feature_space\n",
    "    where premiere_date < current_date() \n",
    "        and region = 'NORTH AMERICA'\n",
    "    -- and imdb_id not in ('tt6334354') -- 'tt11454722', 'tt15046062', , 'tt11815682', 'tt12361974', 'tt2861424', 'tt14153790')\n",
    "    order by imdb_id, region\n",
    ")\n",
    ", metric_table as (\n",
    "    select distinct\n",
    "        meta.ckg_series_id,\n",
    "        metrics.ckg_match_id,\n",
    "        metrics.title_season,\n",
    "        metrics.title_series,\n",
    "        meta.imdb_series_id,\n",
    "        metrics.season_number, \n",
    "        metrics.geo_level, \n",
    "        metrics.geo_value, \n",
    "        metrics.title_level,\n",
    "        metrics.first_release_date_utc,\n",
    "        meta.derived_genre,\n",
    "        meta.predicted_medal_us,\n",
    "        metrics.days_on_max,\n",
    "        metrics.cume_title_viewing_subs as viewing_subs,\n",
    "        metrics.percent_cumulative_viewing_subs as viewing_subs_pct,\n",
    "        medals.observed_medal,\n",
    "        coalesce(nullif(meta.predicted_medal_us,'No Medal'), observed_medal) as medal_adj,\n",
    "        ifnull(imdb.prequel_count, 0) as prequel_count, \n",
    "        ifnull(imdb.prequel_featured_count, 0) as prequel_featured_count\n",
    "    from max_prod.content_datascience.title_season_metrics_platform as metrics\n",
    "    inner join max_prod.content_datascience.all_titles_season_metadata as meta\n",
    "    on metrics.ckg_match_id = meta.ckg_match_id\n",
    "        and metrics.title_level = meta.title_level\n",
    "        and metrics.geo_level = meta.geo_level\n",
    "        and metrics.geo_value = meta.geo_value\n",
    "        and metrics.season_number = metrics.season_number\n",
    "    left join max_prod.content_datascience.title_season_observed_medals as medals\n",
    "    on meta.ckg_match_id = medals.ckg_match_id\n",
    "        and meta.title_level = medals.title_level\n",
    "        and meta.geo_level = medals.geo_level\n",
    "        and meta.geo_value = medals.geo_value\n",
    "    left join max_prod.content_datascience.title_season_imdb_train as imdb\n",
    "    on meta.imdb_series_id = imdb.imdb_series_id\n",
    "        and meta.ckg_match_id = imdb.ckg_match_id\n",
    "        and meta.title_level = imdb.title_level\n",
    "        and meta.geo_level = imdb.geo_level\n",
    "        and meta.geo_value = imdb.geo_value\n",
    "    where offering_window_num = 1\n",
    "        and meta.content_category in ('episode', 'movie', 'standalone')\n",
    "        and metrics.days_on_max = 28\n",
    "        and metrics.geo_value = 'NORTH AMERICA'\n",
    "        -- and viewing_subs_pct > 1\n",
    ")\n",
    "select \n",
    "    features.imdb_id, \n",
    "    features.title_name, \n",
    "    features.premiere_date,\n",
    "    metadata.first_release_date_utc,\n",
    "    metadata.title_season, \n",
    "    metadata.title_series,\n",
    "    features.region,\n",
    "    metadata.geo_value,\n",
    "    features.forecast_category, \n",
    "    pvc, features.medal,\n",
    "    features.date_teaser, \n",
    "    features.date_trailer, \n",
    "    features.views_owned_teaser, \n",
    "    features.search_1wbp, \n",
    "    wiki_2wbp, \n",
    "    search_teaser, \n",
    "    search_trailer,\n",
    "    predicted_medal_us,\n",
    "    observed_medal,\n",
    "    medal_adj,\n",
    "    derived_genre,\n",
    "    prequel_count,\n",
    "    prequel_featured_count,\n",
    "    case when title_name is not null and title_series is not null then 'both'\n",
    "        when title_name is not null and title_series is null then 'jimmy'\n",
    "        when title_name is null and title_series is not null then 'eileen'\n",
    "        end as data_source\n",
    "from feature_space as features\n",
    "full outer join metric_table as metadata\n",
    "-- outer join max_prod.content_datascience.all_titles_season_metadata as metadata\n",
    "on features.imdb_id = metadata.imdb_series_id\n",
    "and features.season_number = metadata.season_number\n",
    "and features.region = metadata.geo_value\n",
    "where  forecast_category not in ('wb pay1', 'popcorn') or forecast_category is null;\"\"\""
   ]
  },
  {
   "cell_type": "code",
   "execution_count": 0,
   "metadata": {
    "application/vnd.databricks.v1+cell": {
     "cellMetadata": {},
     "inputWidgets": {},
     "nuid": "72931435-bc6d-4d5c-8605-10b972710712",
     "showTitle": false,
     "title": ""
    }
   },
   "outputs": [],
   "source": [
    "query_feature_space = \"\"\"\n",
    "    select \n",
    "        distinct imdb_id as imdb_series_id, title_name, \n",
    "        season_number, region, medal, \n",
    "        forecast_category, \n",
    "        segment, \n",
    "        PVC, \n",
    "        date_teaser, \n",
    "        date_trailer, \n",
    "        max(marketing_spend) as marketing_spend, \n",
    "        max(views_owned_teaser) as views_owned_teaser, \n",
    "        max(views_owned_trailer) as views_owned_trailer,\n",
    "        max(wiki_2wbp) as wiki_2wbp, \n",
    "        max(search_2wbp) as search_2wbp,\n",
    "        max(search_teaser) as search_teaser, \n",
    "        max(search_trailer) as search_trailer\n",
    "    from max_dev.workspace.forecasting_feature_space\n",
    "    where premiere_date < current_date() \n",
    "        and region = 'NORTH AMERICA' and title_name not like '%Marlon Wayans%'\n",
    "    group by 1,2,3,4,5,6,7,8,9,10\n",
    "\n",
    "\"\"\"\n",
    "\n",
    "logger.info(f'TEST: {query_feature_space}')\n",
    "df_search = sfk.execute_query(query = query_feature_space, ctx=ctx)\n"
   ]
  },
  {
   "cell_type": "code",
   "execution_count": 0,
   "metadata": {
    "application/vnd.databricks.v1+cell": {
     "cellMetadata": {},
     "inputWidgets": {},
     "nuid": "b7868869-8770-4e19-9ffe-4aec837d1f77",
     "showTitle": false,
     "title": ""
    }
   },
   "outputs": [],
   "source": [
    "df_search"
   ]
  },
  {
   "cell_type": "code",
   "execution_count": 0,
   "metadata": {
    "application/vnd.databricks.v1+cell": {
     "cellMetadata": {},
     "inputWidgets": {},
     "nuid": "0bb53bb2-e60d-4e7b-9bfd-ed5c035a5db8",
     "showTitle": false,
     "title": ""
    }
   },
   "outputs": [],
   "source": [
    "sf_creds = 'hbo-max-content-datascience-snowflake-dev'\n",
    "database = 'max_dev'\n",
    "input_bucket = \"hbo-ingest-datascience-content\"\n",
    "output_bucket = \"hbo-outbound-datascience-content-dev\"\n"
   ]
  },
  {
   "cell_type": "code",
   "execution_count": 0,
   "metadata": {
    "application/vnd.databricks.v1+cell": {
     "cellMetadata": {},
     "inputWidgets": {},
     "nuid": "9e9e0750-8bcb-4671-a2a4-4d80537d1a1b",
     "showTitle": false,
     "title": ""
    }
   },
   "outputs": [],
   "source": [
    "# Import Packages\n",
    "import sys, os, re \n",
    "import io\n",
    "import pandas as pd\n",
    "import numpy as np\n",
    "import itertools as it\n",
    "import logging\n",
    "import boto3\n",
    "import json\n",
    "from datetime import datetime, timedelta\n",
    "\n",
    "\n",
    "import lib.util_snowflake as sfk\n",
    "from snowflake.connector.errors import ProgrammingError\n",
    "from snowflake.connector.pandas_tools import write_pandas\n",
    "\n",
    "import warnings\n",
    "warnings.filterwarnings('ignore')\n",
    "\n",
    "pd.set_option('display.max_columns', None)\n",
    "logger = logging.getLogger()\n",
    "logging.basicConfig(level=logging.INFO)\n",
    "logger.info(f'Starting Notebook')\n",
    "\n",
    "if not sys.warnoptions:\n",
    "    import warnings\n",
    "    warnings.simplefilter(\"ignore\")"
   ]
  },
  {
   "cell_type": "code",
   "execution_count": 0,
   "metadata": {
    "application/vnd.databricks.v1+cell": {
     "cellMetadata": {},
     "inputWidgets": {},
     "nuid": "daf4801c-f0e3-46e7-b53b-1ddad4115269",
     "showTitle": false,
     "title": ""
    }
   },
   "outputs": [],
   "source": [
    "%load_ext autoreload\n",
    "%autoreload 2\n",
    "schema = 'content_datascience'\n",
    "current_date = (datetime.now() - timedelta(1)).strftime('%Y-%m-%d')\n",
    "kpi = 'viewing_subs_log'\n",
    "geo_value = 'NORTH AMERICA'\n",
    "schema = 'delphi'"
   ]
  },
  {
   "cell_type": "code",
   "execution_count": 0,
   "metadata": {
    "application/vnd.databricks.v1+cell": {
     "cellMetadata": {},
     "inputWidgets": {},
     "nuid": "feb6eb05-d575-4b9f-97e7-0ee1e4e813ca",
     "showTitle": false,
     "title": ""
    }
   },
   "outputs": [],
   "source": [
    "## Run Credentials to connect to Snowflake\n",
    "logger.info(f'TEST: {sf_creds}')\n",
    "## Snowflake connection \n",
    "conn = sfk.SnowflakeConnector(sfk.SSMPSCredentials(sf_creds))\n",
    "ctx= conn.connect(database, schema)\n",
    "cur = ctx.cursor()"
   ]
  },
  {
   "cell_type": "code",
   "execution_count": 0,
   "metadata": {
    "application/vnd.databricks.v1+cell": {
     "cellMetadata": {},
     "inputWidgets": {},
     "nuid": "2d881024-dfcb-44fb-bf30-30a14de9ee17",
     "showTitle": false,
     "title": ""
    }
   },
   "outputs": [],
   "source": [
    "def mean_absolute_percentage_error(y_true, y_pred): \n",
    "    y_true, y_pred = np.array(y_true), np.array(y_pred)\n",
    "    return np.mean(np.abs((y_true - y_pred) / y_true)) * 100"
   ]
  },
  {
   "cell_type": "markdown",
   "metadata": {
    "application/vnd.databricks.v1+cell": {
     "cellMetadata": {},
     "inputWidgets": {},
     "nuid": "1a186d0e-4967-4661-b978-46dd1547937e",
     "showTitle": false,
     "title": ""
    }
   },
   "source": [
    "## 1.0 Query Data"
   ]
  },
  {
   "cell_type": "code",
   "execution_count": 0,
   "metadata": {
    "application/vnd.databricks.v1+cell": {
     "cellMetadata": {},
     "inputWidgets": {},
     "nuid": "0ef67480-8df7-4ef9-bb4a-a8e6be789bc2",
     "showTitle": false,
     "title": ""
    }
   },
   "outputs": [],
   "source": [
    "# train_test_scope = 'lib/dev_train_test_scope.py'\n",
    "# %run $train_test_scope"
   ]
  },
  {
   "cell_type": "code",
   "execution_count": 0,
   "metadata": {
    "application/vnd.databricks.v1+cell": {
     "cellMetadata": {},
     "inputWidgets": {},
     "nuid": "f21ccabc-83a8-49eb-bb1c-174ed79d523d",
     "showTitle": false,
     "title": ""
    },
    "collapsed": true,
    "jupyter": {
     "outputs_hidden": true
    }
   },
   "outputs": [],
   "source": [
    "## 1.0.1 Read Metadata New\n",
    "logger.info(f'TEST: {query}')\n",
    "df_train = sfk.execute_query(query = query, ctx=ctx)"
   ]
  },
  {
   "cell_type": "code",
   "execution_count": 0,
   "metadata": {
    "application/vnd.databricks.v1+cell": {
     "cellMetadata": {},
     "inputWidgets": {},
     "nuid": "c9098628-4f16-4d3b-b4b6-19bfd58b3617",
     "showTitle": false,
     "title": ""
    }
   },
   "outputs": [],
   "source": [
    "df_train[df_train['data_source']=='both']"
   ]
  },
  {
   "cell_type": "code",
   "execution_count": 0,
   "metadata": {
    "application/vnd.databricks.v1+cell": {
     "cellMetadata": {},
     "inputWidgets": {},
     "nuid": "d29edd2d-2c34-4da2-8e07-19228859a32b",
     "showTitle": false,
     "title": ""
    }
   },
   "outputs": [],
   "source": []
  },
  {
   "cell_type": "code",
   "execution_count": 0,
   "metadata": {
    "application/vnd.databricks.v1+cell": {
     "cellMetadata": {},
     "inputWidgets": {},
     "nuid": "daaf9c76-0a03-4aab-a002-21c04b6f137a",
     "showTitle": false,
     "title": ""
    }
   },
   "outputs": [],
   "source": [
    "query_schedule = f\"\"\"\n",
    "select * from {database}.content_datascience.viewingsubs_metadata_pred where geo_value='{geo_value}' \n",
    "and imdb_series_id is not null\n",
    "and {remove_popcorn}\"\"\""
   ]
  },
  {
   "cell_type": "code",
   "execution_count": 0,
   "metadata": {
    "application/vnd.databricks.v1+cell": {
     "cellMetadata": {},
     "inputWidgets": {},
     "nuid": "f027ed87-9c29-4f26-85dd-0be295657aa2",
     "showTitle": false,
     "title": ""
    }
   },
   "outputs": [],
   "source": [
    "df_pred = sfk.execute_query(query = query_schedule, ctx = ctx)"
   ]
  },
  {
   "cell_type": "code",
   "execution_count": 0,
   "metadata": {
    "application/vnd.databricks.v1+cell": {
     "cellMetadata": {},
     "inputWidgets": {},
     "nuid": "7207f9e7-193e-4d27-bdfa-a946b650d61d",
     "showTitle": false,
     "title": ""
    }
   },
   "outputs": [],
   "source": [
    "## Subquery to remove pay1 and popcorn titles\n",
    "remove_popcorn = f\"\"\"\n",
    "imdb_series_id not in (\n",
    "select distinct imdb_id from max_dev.workspace.forecasting_feature_space where segment in ('popcorn', 'wb pay1'))\n",
    "\"\"\"\n",
    "\n",
    "## 1.0.1 Read Metadata New\n",
    "query_metadata = f\"\"\"\n",
    "select * from {database}.content_datascience.viewingsubs_metadata_train \n",
    "where geo_value='{geo_value}' and {remove_popcorn}\"\"\"\n",
    "logger.info(f'TEST: {query_metadata}')\n",
    "metadata_feature = sfk.execute_query(query = query_metadata, ctx=ctx)\n",
    "\n",
    "## 1.0.2 Read Future Schedule\n",
    "query_schedule = f\"\"\"\n",
    "select * from {database}.content_datascience.viewingsubs_metadata_pred where geo_value='{geo_value}' \n",
    "and imdb_series_id is not null\n",
    "and {remove_popcorn}\"\"\"\n",
    "logger.info(f'TEST: {query_schedule}')\n",
    "df_pred = sfk.execute_query(query = query_schedule, ctx = ctx)\n",
    "# print('Loading SFK table file {}'.format(file_ref))\n",
    "\n",
    "## 1.0.3 Read Metric Data\n",
    "# query_metric = f\"\"\"select * from {database}.content_datascience.viewingsubs_metrics_train where geo_value='{geo_value}'\"\"\"\n",
    "# logger.info(f'{query_metric}')\n",
    "# df_metric = sfk.execute_query(query = query_metric, ctx = ctx)\n",
    "# df_metric['first_release_date'] = pd.to_datetime(df_metric['first_release_date']).apply(lambda x: x.strftime('%Y-%m-%d'))\n",
    "\n",
    "## 1.0.3 Read Metric Data\n",
    "query_metric = f\"\"\"select * from {database}.content_datascience.viewingsubs_metrics_train_test where geo_value='{geo_value}' and \n",
    "viewing_subs_pct >1.0\"\"\"\n",
    "logger.info(f'{query_metric}')\n",
    "df_metric = sfk.execute_query(query = query_metric, ctx = ctx)\n",
    "df_metric['first_release_date'] = pd.to_datetime(df_metric['first_release_date']).apply(lambda x: x.strftime('%Y-%m-%d'))"
   ]
  },
  {
   "cell_type": "code",
   "execution_count": 0,
   "metadata": {
    "application/vnd.databricks.v1+cell": {
     "cellMetadata": {},
     "inputWidgets": {},
     "nuid": "d3cce18a-ff91-41ff-9862-43df7c500ae5",
     "showTitle": false,
     "title": ""
    }
   },
   "outputs": [],
   "source": [
    "df_metric['viewing_subs_log'] = df_metric['viewing_subs'].apply(\n",
    "    lambda row: np.log1p(row))\n"
   ]
  },
  {
   "cell_type": "markdown",
   "metadata": {
    "application/vnd.databricks.v1+cell": {
     "cellMetadata": {},
     "inputWidgets": {},
     "nuid": "51b39396-7240-480a-bcde-ebc308fb545a",
     "showTitle": false,
     "title": ""
    }
   },
   "source": [
    "## 1.1 Train Test Scope"
   ]
  },
  {
   "cell_type": "code",
   "execution_count": 0,
   "metadata": {
    "application/vnd.databricks.v1+cell": {
     "cellMetadata": {},
     "inputWidgets": {},
     "nuid": "ef8f2325-c9ba-4464-89c2-5b0e30c99853",
     "showTitle": false,
     "title": ""
    }
   },
   "outputs": [],
   "source": [
    "# Train_Test_Scope = 'lib/dev_Post_GreenLight_Model.py'\n",
    "# %run $Post_GreenLight_Model"
   ]
  },
  {
   "cell_type": "code",
   "execution_count": 0,
   "metadata": {
    "application/vnd.databricks.v1+cell": {
     "cellMetadata": {},
     "inputWidgets": {},
     "nuid": "da9238a4-2d7c-40fa-b66d-465e9914863e",
     "showTitle": false,
     "title": ""
    }
   },
   "outputs": [],
   "source": [
    "from lib.dev_train_test_scope import train_test_scope\n",
    "\n",
    "current_date = (datetime.now() - timedelta(1)).strftime('%Y-%m-%d')\n",
    "train_test_data = train_test_scope(current_date, input_bucket, output_bucket, \n",
    "                                   database, schema, geo_value, kpi, metadata_feature, df_pred)\n",
    "train_test_data.run()\n",
    "train_dataset = train_test_data.train_dataset\n",
    "score_pgl = train_test_data.score_pgl\n",
    "score_pre = train_test_data.score_pre\n",
    "score_post = train_test_data.score_post"
   ]
  },
  {
   "cell_type": "markdown",
   "metadata": {
    "application/vnd.databricks.v1+cell": {
     "cellMetadata": {},
     "inputWidgets": {},
     "nuid": "b7a9ebc2-34c3-4ae0-a078-0c5ba3e2794f",
     "showTitle": false,
     "title": ""
    }
   },
   "source": [
    "## Model"
   ]
  },
  {
   "cell_type": "markdown",
   "metadata": {
    "application/vnd.databricks.v1+cell": {
     "cellMetadata": {},
     "inputWidgets": {},
     "nuid": "a50ce338-5e8c-4eeb-af45-80444f0a82dc",
     "showTitle": false,
     "title": ""
    }
   },
   "source": [
    "## 2.0 Post-GreenLight Model"
   ]
  },
  {
   "cell_type": "markdown",
   "metadata": {
    "application/vnd.databricks.v1+cell": {
     "cellMetadata": {},
     "inputWidgets": {},
     "nuid": "a5c2b548-9d39-4892-a93d-3d112c4b0822",
     "showTitle": false,
     "title": ""
    }
   },
   "source": [
    "### 2.1 Pull in Data"
   ]
  },
  {
   "cell_type": "code",
   "execution_count": 0,
   "metadata": {
    "application/vnd.databricks.v1+cell": {
     "cellMetadata": {},
     "inputWidgets": {},
     "nuid": "07250d8d-b4d1-4fbd-85de-0bc32704f17c",
     "showTitle": false,
     "title": ""
    }
   },
   "outputs": [],
   "source": [
    "from lib.dev_Post_GreenLight_Model import post_greenlight_model\n",
    "# Name train and set\n",
    "train_data_set = train_test_data.train_dataset\n",
    "test_data_set = train_test_data.score_pgl\n"
   ]
  },
  {
   "cell_type": "code",
   "execution_count": 0,
   "metadata": {
    "application/vnd.databricks.v1+cell": {
     "cellMetadata": {},
     "inputWidgets": {},
     "nuid": "0e5440a6-ccc4-4118-9300-d0ab4f28f52c",
     "showTitle": false,
     "title": ""
    }
   },
   "outputs": [],
   "source": [
    "train_data_set = df_search.merge(train_data_set, on=['imdb_series_id', 'season_number'], how='inner').sort_values(by='title_season').reset_index(drop=True)"
   ]
  },
  {
   "cell_type": "code",
   "execution_count": 0,
   "metadata": {
    "application/vnd.databricks.v1+cell": {
     "cellMetadata": {},
     "inputWidgets": {},
     "nuid": "93255495-3934-4a79-9e9b-2f0487971fce",
     "showTitle": false,
     "title": ""
    }
   },
   "outputs": [],
   "source": [
    "df_search"
   ]
  },
  {
   "cell_type": "code",
   "execution_count": 0,
   "metadata": {
    "application/vnd.databricks.v1+cell": {
     "cellMetadata": {},
     "inputWidgets": {},
     "nuid": "32b7a382-da92-4c73-86a9-a7fed5c0f442",
     "showTitle": false,
     "title": ""
    }
   },
   "outputs": [],
   "source": [
    "train_data_set = train_data_set[(train_data_set['observed_medal_num'].notnull())&(~train_data_set['forecast_category'].isin(['wb pay1','popcorn']))]"
   ]
  },
  {
   "cell_type": "markdown",
   "metadata": {
    "application/vnd.databricks.v1+cell": {
     "cellMetadata": {},
     "inputWidgets": {},
     "nuid": "ac9ff858-a51f-45ff-bdfc-428671466356",
     "showTitle": false,
     "title": ""
    }
   },
   "source": [
    "### 2.2 Run Model"
   ]
  },
  {
   "cell_type": "code",
   "execution_count": 0,
   "metadata": {
    "application/vnd.databricks.v1+cell": {
     "cellMetadata": {},
     "inputWidgets": {},
     "nuid": "4ab69b4e-b6b9-494d-a5d0-bfc8d6cba5e2",
     "showTitle": false,
     "title": ""
    }
   },
   "outputs": [],
   "source": [
    "from sklearn.metrics import mean_absolute_error\n",
    "# mean_absolute_error(y_true, y_pred)"
   ]
  },
  {
   "cell_type": "code",
   "execution_count": 0,
   "metadata": {
    "application/vnd.databricks.v1+cell": {
     "cellMetadata": {},
     "inputWidgets": {},
     "nuid": "dff02d2d-8835-41e1-944b-618f7a523d7a",
     "showTitle": false,
     "title": ""
    }
   },
   "outputs": [],
   "source": [
    "# Post_GreenLight_Model = 'lib/dev_Post_GreenLight_Model.py'\n",
    "# %run $Post_GreenLight_Model"
   ]
  },
  {
   "cell_type": "code",
   "execution_count": 0,
   "metadata": {
    "application/vnd.databricks.v1+cell": {
     "cellMetadata": {},
     "inputWidgets": {},
     "nuid": "2345a3d0-21d8-41f2-99c5-c3be0bd269c6",
     "showTitle": false,
     "title": ""
    }
   },
   "outputs": [],
   "source": [
    "# Run Model with Cross Validation\n",
    "pgl_model = post_greenlight_model(train_data_set, test_data_set, kpi, \n",
    "                                  input_bucket, output_bucket, geo_value, \n",
    "                                  database, schema, df_metric)\n",
    "pgl_model.feature_engineer()\n",
    "input_train = pgl_model.train_data\n",
    "input_test = pgl_model.test_data\n",
    "pgl_model.cv(NUM_FOLD = 5)\n",
    "\n",
    "# To review predictions and feature importances in notebook\n",
    "feature_importances = pgl_model.feature_importances\n",
    "validation_set = pgl_model.validation_set"
   ]
  },
  {
   "cell_type": "code",
   "execution_count": 0,
   "metadata": {
    "application/vnd.databricks.v1+cell": {
     "cellMetadata": {},
     "inputWidgets": {},
     "nuid": "1835c4c5-fc63-4a51-8730-153e732f1013",
     "showTitle": false,
     "title": ""
    }
   },
   "outputs": [],
   "source": [
    "validation_set['prediction_log'] = validation_set['prediction']\n",
    "validation_set['prediction'] = np.expm1(validation_set['prediction_log'])\n",
    "validation_set['viewing_subs'] = np.expm1(validation_set['viewing_subs_log'])"
   ]
  },
  {
   "cell_type": "code",
   "execution_count": 0,
   "metadata": {
    "application/vnd.databricks.v1+cell": {
     "cellMetadata": {},
     "inputWidgets": {},
     "nuid": "45969ed8-948f-4487-beec-1ed356d616bd",
     "showTitle": false,
     "title": ""
    }
   },
   "outputs": [],
   "source": [
    "import seaborn as sns\n",
    "import matplotlib.pyplot as plt \n",
    "from sklearn.metrics import mean_absolute_error, r2_score\n",
    "def mape_score(y_true, y_pred): \n",
    "#     y_true, y_pred = np.array(y_true), np.array(y_pred)\n",
    "    return np.mean(np.abs(y_true - y_pred) / y_true) * 100"
   ]
  },
  {
   "cell_type": "code",
   "execution_count": 0,
   "metadata": {
    "application/vnd.databricks.v1+cell": {
     "cellMetadata": {},
     "inputWidgets": {},
     "nuid": "6021a682-3f94-480c-b532-58e17616cb26",
     "showTitle": false,
     "title": ""
    }
   },
   "outputs": [],
   "source": [
    "# Evaluation Scores for Absolute Value Viewing Sub Predictions - Title cutoff set to 1\n",
    "from sklearn.metrics import r2_score\n",
    "\n",
    "for fold in validation_set['fold'].drop_duplicates().to_list():\n",
    "    y_true = validation_set.loc[(validation_set['fold']==fold), 'viewing_subs'].copy()\n",
    "    y_pred = validation_set.loc[(validation_set['fold']==fold), 'prediction'].copy()\n",
    "    \n",
    "    r2 = r2_score(y_true.to_list(),\n",
    "                  y_pred.to_list())\n",
    "    mape = mape_score(y_true, y_pred)\n",
    "    \n",
    "    logger.info(f'Fold {fold}: R2 {r2.round(2)} | MAPE {mape.round()}')"
   ]
  },
  {
   "cell_type": "code",
   "execution_count": 0,
   "metadata": {
    "application/vnd.databricks.v1+cell": {
     "cellMetadata": {},
     "inputWidgets": {},
     "nuid": "1271fc5a-49c6-48bd-8adb-ff7f0845019e",
     "showTitle": false,
     "title": ""
    }
   },
   "outputs": [],
   "source": []
  },
  {
   "cell_type": "code",
   "execution_count": 0,
   "metadata": {
    "application/vnd.databricks.v1+cell": {
     "cellMetadata": {},
     "inputWidgets": {},
     "nuid": "e3522dad-f5c4-4eea-b178-6c2827f45238",
     "showTitle": false,
     "title": ""
    }
   },
   "outputs": [],
   "source": [
    "# Evaluation Scores for Absolute Value Viewing Sub Predictions - Title cutoff set to 1\n",
    "from sklearn.metrics import r2_score\n",
    "\n",
    "for fold in validation_set['fold'].drop_duplicates().to_list():\n",
    "    y_true = validation_set.loc[(validation_set['fold']==fold), 'viewing_subs_log'].copy()\n",
    "    y_pred = validation_set.loc[(validation_set['fold']==fold), 'prediction_log'].copy()\n",
    "    \n",
    "    r2 = r2_score(y_true.to_list(),\n",
    "                  y_pred.to_list())\n",
    "    #def smape(y, pred):\n",
    "#    return 100/len(y) * np.sum(2 * np.abs(pred - y) / (np.abs(y) + np.abs(pred)))\n",
    "\n",
    "def smape(A, F):\n",
    "    tmp = 2 * np.abs(F - A) / (np.abs(A) + np.abs(F))\n",
    "    len_ = np.count_nonzero(~np.isnan(tmp))\n",
    "    if len_ == 0 and np.nansum(tmp) == 0: # Deals with a special case\n",
    "        return 100\n",
    "    return 100 / len_ * np.nansum(tmp)\n",
    "\n",
    "def evaluate_performance(y_train, y_test, y_pred, is_baseline):\n",
    "    if is_baseline:\n",
    "        print(\"Baseline metrics:\")\n",
    "        # \"Learn\" the mean from the training data\n",
    "        mean_train = np.mean(y_train)\n",
    "        # Get predictions on the test set\n",
    "        y_pred = np.ones(y_test.shape) * float(mean_train)\n",
    "        \n",
    "    mae = mean_absolute_error(y_test, y_pred)\n",
    "    print(\"MAE: {:.2f}\".format(mae))\n",
    "    mape = mean_absolute_percentage_error(y_test, y_pred)\n",
    "    print(\"MAPE: {:.2f}\".format(mape))\n",
    "    smape_res = smape(y_test, y_pred)\n",
    "    print(\"sMAPE: {:.2f}\".format(smape_res))\n",
    "    mse = mean_squared_error(y_test, y_pred)\n",
    "    print(\"MSE: {:.2f}\".format(mse))\n",
    "    print(\"RMSE: {:.2f}\".format(np.sqrt(mse)))\n",
    "    print(\"R^2: {:.2f}\".format(r2_score(y_test, y_pred))) = mape_score(y_true, y_pred)\n",
    "    \n",
    "    logger.info(f'Fold {fold}: R2 {r2.round(2)} | MAPE {mape.round()}')"
   ]
  },
  {
   "cell_type": "code",
   "execution_count": 0,
   "metadata": {
    "application/vnd.databricks.v1+cell": {
     "cellMetadata": {},
     "inputWidgets": {},
     "nuid": "4cd309d3-621d-44db-8f30-708512d2c1b4",
     "showTitle": false,
     "title": ""
    }
   },
   "outputs": [],
   "source": [
    "pgl_model.scoring()\n",
    "prediction_set_post_gl = pgl_model.prediction_set"
   ]
  },
  {
   "cell_type": "code",
   "execution_count": 0,
   "metadata": {
    "application/vnd.databricks.v1+cell": {
     "cellMetadata": {},
     "inputWidgets": {},
     "nuid": "a56f9206-8836-4e41-b711-e8018d1f282b",
     "showTitle": false,
     "title": ""
    }
   },
   "outputs": [],
   "source": [
    "feature_importances"
   ]
  },
  {
   "cell_type": "code",
   "execution_count": 0,
   "metadata": {
    "application/vnd.databricks.v1+cell": {
     "cellMetadata": {},
     "inputWidgets": {},
     "nuid": "4c3274a3-00cb-4026-a0e1-5203c5b2c25e",
     "showTitle": false,
     "title": ""
    }
   },
   "outputs": [],
   "source": [
    "data[data['prediction']<0].sort_values(by=y)"
   ]
  },
  {
   "cell_type": "code",
   "execution_count": 0,
   "metadata": {
    "application/vnd.databricks.v1+cell": {
     "cellMetadata": {},
     "inputWidgets": {},
     "nuid": "0a0388ff-83fd-4a82-89ba-a12a7f0524b2",
     "showTitle": false,
     "title": ""
    }
   },
   "outputs": [],
   "source": [
    "# Compare Absolute Value Predictions with cutoff\n",
    "# fig = plt.figure(figsize=(7,3))\n",
    "x = f'viewing_subs_log'\n",
    "y = f'prediction_log'\n",
    "data = validation_set\n",
    "sns.set_theme(style=\"whitegrid\")\n",
    "ax = sns.relplot(data=data, x=data[x]/1e6, y=data[y]/1e6, \n",
    "                     hue = 'observed_medal_num',\n",
    "                     palette = 'pastel', col = 'fold'\n",
    "#                 col = 'tier',\n",
    "#                 row='observed_medal_num'\n",
    "               )\n",
    "# plt.title(f'Viewing Subs - 28 Training Data')\n",
    "plt.axvline(x=0, linewidth=.5, color='black', ls= '--')\n",
    "plt.axhline(y=0, linewidth=.5, color='black', ls= '--')\n",
    "\n",
    "# plt.xlim(-1,70)\n",
    "# plt.ylim(-1,70)\n",
    "sns.move_legend(\n",
    "    ax, \"lower center\",\n",
    "    bbox_to_anchor=(.5, 1), ncol=4, title='Tiers', frameon=False,\n",
    ")\n",
    "plt.tight_layout()"
   ]
  },
  {
   "cell_type": "code",
   "execution_count": 0,
   "metadata": {
    "application/vnd.databricks.v1+cell": {
     "cellMetadata": {},
     "inputWidgets": {},
     "nuid": "991f04de-3c75-4131-bae5-9bc42be82b74",
     "showTitle": false,
     "title": ""
    }
   },
   "outputs": [],
   "source": [
    "# Compare Absolute Value Predictions with cutoff\n",
    "# fig = plt.figure(figsize=(7,3))\n",
    "x = f'viewing_subs'\n",
    "y = f'prediction'\n",
    "data = validation_set\n",
    "sns.set_theme(style=\"whitegrid\")\n",
    "ax = sns.relplot(data=data, x=data[x]/1e6, y=data[y]/1e6, \n",
    "                     hue = 'observed_medal_num',\n",
    "                     palette = 'pastel', col = 'fold'\n",
    "#                 col = 'tier',\n",
    "#                 row='observed_medal_num'\n",
    "               )\n",
    "# plt.title(f'Viewing Subs - 28 Training Data')\n",
    "plt.axvline(x=0, linewidth=.5, color='black', ls= '--')\n",
    "plt.axhline(y=0, linewidth=.5, color='black', ls= '--')\n",
    "\n",
    "# plt.xlim(-1,70)\n",
    "# plt.ylim(-1,70)\n",
    "sns.move_legend(\n",
    "    ax, \"lower center\",\n",
    "    bbox_to_anchor=(.5, 1), ncol=4, title='Tiers', frameon=False,\n",
    ")\n",
    "plt.tight_layout()"
   ]
  },
  {
   "cell_type": "code",
   "execution_count": 0,
   "metadata": {
    "application/vnd.databricks.v1+cell": {
     "cellMetadata": {},
     "inputWidgets": {},
     "nuid": "ab0b1a15-27ec-4907-aa56-5d94ba493e6a",
     "showTitle": false,
     "title": ""
    }
   },
   "outputs": [],
   "source": [
    "# Compare Old Dataset to new dataset\n",
    "# fig = plt.figure(figsize=(7,3))\n",
    "x = f'viewing_subs'\n",
    "y = f'prediction'\n",
    "data = validation_set\n",
    "sns.set_theme(style=\"whitegrid\")\n",
    "ax = sns.relplot(data=data, x=x, y=y, \n",
    "                     hue = 'observed_medal_num',\n",
    "                     palette = 'pastel', col = 'fold'\n",
    "#                 col = 'tier',\n",
    "#                 row='observed_medal_num'\n",
    "               )\n",
    "# plt.title(f'Viewing Subs - 28 Training Data')\n",
    "plt.axvline(x=0, linewidth=.5, color='black', ls= '--')\n",
    "plt.axhline(y=0, linewidth=.5, color='black', ls= '--')\n",
    "\n",
    "# plt.xlim(-1,70)\n",
    "# plt.ylim(-1,70)\n",
    "sns.move_legend(\n",
    "    ax, \"lower center\",\n",
    "    bbox_to_anchor=(.5, 1), ncol=4, title='Tiers', frameon=False,\n",
    ")\n",
    "plt.tight_layout()"
   ]
  },
  {
   "cell_type": "code",
   "execution_count": 0,
   "metadata": {
    "application/vnd.databricks.v1+cell": {
     "cellMetadata": {},
     "inputWidgets": {},
     "nuid": "0c9d1154-f2c7-4ee8-a0a9-203a009db1ba",
     "showTitle": false,
     "title": ""
    }
   },
   "outputs": [],
   "source": [
    "def mean_absolute_percentage_error(y_true, y_pred): \n",
    "    y_true, y_pred = np.array(y_true), np.array(y_pred)\n",
    "    return np.mean(np.abs((y_true - y_pred) / y_true)) * 100\n",
    "https://scikit-learn.org/stable/modules/classes.html#module-sklearn.metrics"
   ]
  },
  {
   "cell_type": "code",
   "execution_count": 0,
   "metadata": {
    "application/vnd.databricks.v1+cell": {
     "cellMetadata": {},
     "inputWidgets": {},
     "nuid": "79704798-dd35-4538-8461-599c195f27e3",
     "showTitle": false,
     "title": ""
    }
   },
   "outputs": [],
   "source": [
    "prediction_set_post_gl[prediction_set_post_gl['observed_medal_num'].isna()]"
   ]
  },
  {
   "cell_type": "code",
   "execution_count": 0,
   "metadata": {
    "application/vnd.databricks.v1+cell": {
     "cellMetadata": {},
     "inputWidgets": {},
     "nuid": "99137b48-7387-4727-b5ce-2aeaabeb11e8",
     "showTitle": false,
     "title": ""
    }
   },
   "outputs": [],
   "source": [
    "prediction_set_post_gl[prediction_set_post_gl['title_series'].str.contains('The Hedge')]"
   ]
  },
  {
   "cell_type": "code",
   "execution_count": 0,
   "metadata": {
    "application/vnd.databricks.v1+cell": {
     "cellMetadata": {},
     "inputWidgets": {},
     "nuid": "5ec6a339-2854-4b5d-9d91-82b7cf0dcb20",
     "showTitle": false,
     "title": ""
    }
   },
   "outputs": [],
   "source": [
    "from sklearn.metrics import r2_score\n",
    "validation_set = validation_set[validation_set['derived_genre']=='Scripted Features'].copy()\n",
    "for fold in validation_set['fold'].drop_duplicates().to_list():\n",
    "    r2 = r2_score(validation_set.loc[(validation_set['fold']==fold), 'viewing_subs'].to_list(),\n",
    "                    validation_set.loc[(validation_set['fold']==fold), 'prediction'].to_list())\n",
    "    mape = mean_absolute_percentage_error(validation_set.loc[(validation_set['fold']==fold), 'viewing_subs'],\n",
    "                                         validation_set.loc[(validation_set['fold']==fold), 'prediction'])\n",
    "    logger.info(f'Fold {fold}: R2 {r2.round(2)} | MAPE {mape.round()}')"
   ]
  },
  {
   "cell_type": "code",
   "execution_count": 0,
   "metadata": {
    "application/vnd.databricks.v1+cell": {
     "cellMetadata": {},
     "inputWidgets": {},
     "nuid": "5f7824c2-d283-4e3a-8158-b7aa5da535e5",
     "showTitle": false,
     "title": ""
    }
   },
   "outputs": [],
   "source": [
    "from sklearn.metrics import r2_score\n",
    "validation_set = validation_set[validation_set['derived_genre']=='Scripted Features'].copy()\n",
    "for fold in validation_set['fold'].drop_duplicates().to_list():\n",
    "    for medal in validation_set['observed_medal_num'].drop_duplicates().to_list():\n",
    "        r2 = r2_score(validation_set.loc[(validation_set['fold']==fold)&(validation_set['observed_medal_num']==medal), 'viewing_subs'].to_list(),\n",
    "                        validation_set.loc[(validation_set['fold']==fold)&(validation_set['observed_medal_num']==medal), 'prediction'].to_list())\n",
    "        mape = mean_absolute_percentage_error(validation_set.loc[(validation_set['fold']==fold)&(validation_set['observed_medal_num']==medal), 'viewing_subs'],\n",
    "                                             validation_set.loc[(validation_set['fold']==fold)&(validation_set['observed_medal_num']==medal), 'prediction'])\n",
    "        logger.info(f'Fold {fold} & Medal {medal}: R2 {r2.round(2)} | MAPE {mape.round()}')"
   ]
  },
  {
   "cell_type": "code",
   "execution_count": 0,
   "metadata": {
    "application/vnd.databricks.v1+cell": {
     "cellMetadata": {},
     "inputWidgets": {},
     "nuid": "342f84d1-e7d3-437f-95af-34e7992f2e1a",
     "showTitle": false,
     "title": ""
    }
   },
   "outputs": [],
   "source": [
    "from sklearn.metrics import r2_score\n",
    "\n",
    "for medal in validation_set['observed_medal_num'].drop_duplicates().to_list():\n",
    "    r2 = r2_score(validation_set.loc[(validation_set['observed_medal_num']==medal), 'viewing_subs'].to_list(),\n",
    "                    validation_set.loc[(validation_set['observed_medal_num']==medal), 'prediction'].to_list())\n",
    "    mape = mean_absolute_percentage_error(validation_set.loc[(validation_set['observed_medal_num']==medal), 'viewing_subs'],\n",
    "                                         validation_set.loc[(validation_set['observed_medal_num']==medal), 'prediction'])\n",
    "    logger.info(f'Medal {medal}: R2 {r2.round(2)} | MAPE {mape.round()}')"
   ]
  },
  {
   "cell_type": "code",
   "execution_count": 0,
   "metadata": {
    "application/vnd.databricks.v1+cell": {
     "cellMetadata": {},
     "inputWidgets": {},
     "nuid": "e412771b-3e42-4354-a3c9-2078ac40dc9e",
     "showTitle": false,
     "title": ""
    }
   },
   "outputs": [],
   "source": [
    "from sklearn.metrics import r2_score\n",
    "\n",
    "for fold in validation_set['fold'].drop_duplicates().to_list():\n",
    "    sample = \n",
    "    r2 = r2_score(validation_set.loc[(validation_set['fold']==fold), 'viewing_subs'].to_list(),\n",
    "                    validation_set.loc[(validation_set['fold']==fold), 'prediction'].to_list())\n",
    "    mape = mean_absolute_percentage_error(validation_set.loc[(validation_set['fold']==fold), 'viewing_subs'],\n",
    "                                         validation_set.loc[(validation_set['fold']==fold), 'prediction'])\n",
    "    logger.info(f'Fold {fold}: R2 {r2.round(2)} | MAPE {mape.round()}')"
   ]
  },
  {
   "cell_type": "code",
   "execution_count": 0,
   "metadata": {
    "application/vnd.databricks.v1+cell": {
     "cellMetadata": {},
     "inputWidgets": {},
     "nuid": "576b12c5-aa14-429c-9117-e469c3f505e0",
     "showTitle": false,
     "title": ""
    }
   },
   "outputs": [],
   "source": [
    "import seaborn as sns\n",
    "import matplotlib.pyplot as plt"
   ]
  },
  {
   "cell_type": "code",
   "execution_count": 0,
   "metadata": {
    "application/vnd.databricks.v1+cell": {
     "cellMetadata": {},
     "inputWidgets": {},
     "nuid": "5795ff56-0c8a-45dd-a3bc-9110a4f3379a",
     "showTitle": false,
     "title": ""
    }
   },
   "outputs": [],
   "source": [
    "# Compare Old Dataset to new dataset\n",
    "# fig = plt.figure(figsize=(7,3))\n",
    "x = f'viewing_subs'\n",
    "y = f'prediction'\n",
    "data = validation_set\n",
    "sns.set_theme(style=\"whitegrid\")\n",
    "ax = sns.scatterplot(data=data, x=x, y=y, \n",
    "                     hue = 'observed_medal_num',\n",
    "                     palette = 'husl', row='tier')\n",
    "# plt.title(f'Viewing Subs - 28 Training Data')\n",
    "plt.axvline(x=0, linewidth=.5, color='black', ls= '--')\n",
    "plt.axhline(y=0, linewidth=.5, color='black', ls= '--')\n",
    "\n",
    "# plt.xlim(-1,70)\n",
    "# plt.ylim(-1,70)\n",
    "sns.move_legend(\n",
    "    ax, \"lower center\",\n",
    "    bbox_to_anchor=(.5, 1), ncol=4, title='Tiers', frameon=False,\n",
    ")\n",
    "plt.tight_layout()"
   ]
  },
  {
   "cell_type": "code",
   "execution_count": 0,
   "metadata": {
    "application/vnd.databricks.v1+cell": {
     "cellMetadata": {},
     "inputWidgets": {},
     "nuid": "785ddb8e-c6ae-4a74-a452-5e4b335710ac",
     "showTitle": false,
     "title": ""
    }
   },
   "outputs": [],
   "source": [
    "prediction_set"
   ]
  },
  {
   "cell_type": "markdown",
   "metadata": {
    "application/vnd.databricks.v1+cell": {
     "cellMetadata": {},
     "inputWidgets": {},
     "nuid": "2ebc03dd-af37-4aa8-b52e-216f71042e79",
     "showTitle": false,
     "title": ""
    }
   },
   "source": [
    "## 3.0 Pre-Launch Model"
   ]
  },
  {
   "cell_type": "markdown",
   "metadata": {
    "application/vnd.databricks.v1+cell": {
     "cellMetadata": {},
     "inputWidgets": {},
     "nuid": "bfa735d4-5d20-42c1-b6cd-270aa30da8c2",
     "showTitle": false,
     "title": ""
    }
   },
   "source": [
    "### 3.1 Import Data"
   ]
  },
  {
   "cell_type": "code",
   "execution_count": 0,
   "metadata": {
    "application/vnd.databricks.v1+cell": {
     "cellMetadata": {},
     "inputWidgets": {},
     "nuid": "5b3e17ad-7cde-4abb-9987-152dafb6f091",
     "showTitle": false,
     "title": ""
    }
   },
   "outputs": [],
   "source": [
    "dev_pre_launch_model = 'lib/dev_Pre_Launch_Model.py'\n",
    "%run $dev_pre_launch_model"
   ]
  },
  {
   "cell_type": "code",
   "execution_count": 0,
   "metadata": {
    "application/vnd.databricks.v1+cell": {
     "cellMetadata": {},
     "inputWidgets": {},
     "nuid": "6f837a5a-6241-4eca-9bbe-9be7b1bd8904",
     "showTitle": false,
     "title": ""
    }
   },
   "outputs": [],
   "source": [
    "# Import Datasets\n",
    "\n",
    "# Import Wikipedia Data\n",
    "query_wiki_train = f\"\"\"select * \n",
    "from {database}.content_datascience.title_season_wiki_daily_region \n",
    "where geo_value='{geo_value}'\n",
    "and days_from_premiere >= -38 and days_from_premiere <=0\"\"\"\n",
    "logger.info(f'{query_metric}')\n",
    "df_wiki_train = sfk.execute_query(query = query_wiki_train, ctx = ctx)\n",
    "\n",
    "# Import Future Wiki Data\n",
    "query_wiki_pred = f\"\"\"select * \n",
    "from {database}.content_datascience.title_season_wiki_daily_pred\n",
    "where geo_value='{geo_value}'\n",
    "and days_from_premiere >= -38 and days_from_premiere <=0\n",
    "\"\"\"\n",
    "# logger.info(f'{wiki_query_pred}')\n",
    "df_wiki_pred = sfk.execute_query(query = query_wiki_pred, ctx = ctx)"
   ]
  },
  {
   "cell_type": "code",
   "execution_count": 0,
   "metadata": {
    "application/vnd.databricks.v1+cell": {
     "cellMetadata": {},
     "inputWidgets": {},
     "nuid": "6ce6eaba-2cf5-4778-ac0e-bd423794188d",
     "showTitle": false,
     "title": ""
    }
   },
   "outputs": [],
   "source": [
    "# Name train and set\n",
    "train_dataset = train_test_data.train_dataset\n",
    "test_dataset = train_test_data.score_pgl\n",
    "\n",
    "# Combine train and prediction wikipedia data\n",
    "wiki_columns = ['title_series','title_season','season_number', 'imdb_series_id',\n",
    "                'first_release_date', 'days_from_premiere', 'request_date', 'page_views']\n",
    "df_wiki_train['first_release_date'] = pd.to_datetime(df_wiki_train['first_release_date']).dt.strftime('%Y-%m-%d')\n",
    "df_wiki_train = df_wiki_train[wiki_columns].drop_duplicates()\n",
    "df_wiki_pred = df_wiki_pred[wiki_columns].drop_duplicates()\n",
    "\n",
    "df_wiki_train['type'] = 'train'\n",
    "df_wiki_pred['type'] = 'test'\n",
    "df_wiki = pd.concat([df_wiki_train, df_wiki_pred]).drop_duplicates().reset_index(drop=True)\n"
   ]
  },
  {
   "cell_type": "markdown",
   "metadata": {
    "application/vnd.databricks.v1+cell": {
     "cellMetadata": {},
     "inputWidgets": {},
     "nuid": "c4f99885-b474-4204-82a0-ee7c07a11bd4",
     "showTitle": false,
     "title": ""
    }
   },
   "source": [
    "### 3.2 Run Pre-Launch Training Model"
   ]
  },
  {
   "cell_type": "code",
   "execution_count": 0,
   "metadata": {
    "application/vnd.databricks.v1+cell": {
     "cellMetadata": {},
     "inputWidgets": {},
     "nuid": "054898c0-b065-4c77-9bf0-f0b6dd09bc49",
     "showTitle": false,
     "title": ""
    }
   },
   "outputs": [],
   "source": [
    "# NUM_FOLD = 3\n",
    "# TARGET_COL =  kpi\n",
    "# test_data = pre_train_data\n",
    "# CAT_COL = ['derived_genre']\n",
    "# FEATURE_COLS = [ 'observed_medal_num', 'prequel_featured_count', 'prequel_count', \n",
    "#                              'season_number', 'page_view_smooth']\n",
    "# META_FEATURE = ['title_season', 'title_series', 'imdb_series_id',\n",
    "#                             'first_release_date', 'days_from_premiere']\n",
    "\n",
    "# FEATURE_COLS.remove('page_view_smooth')"
   ]
  },
  {
   "cell_type": "code",
   "execution_count": 0,
   "metadata": {
    "application/vnd.databricks.v1+cell": {
     "cellMetadata": {},
     "inputWidgets": {},
     "nuid": "6eaa56da-6261-4f16-b817-204ed8eddb96",
     "showTitle": false,
     "title": ""
    }
   },
   "outputs": [],
   "source": [
    "dev_pre_launch_model = 'lib/dev_Pre_Launch_Model.py'\n",
    "%run $dev_pre_launch_model"
   ]
  },
  {
   "cell_type": "code",
   "execution_count": 0,
   "metadata": {
    "application/vnd.databricks.v1+cell": {
     "cellMetadata": {},
     "inputWidgets": {},
     "nuid": "fa6d002e-74b6-45a9-a89c-fd8bac6260c5",
     "showTitle": false,
     "title": ""
    }
   },
   "outputs": [],
   "source": [
    "pre_model = pre_launch_model(train_dataset, test_dataset, kpi, current_date, input_bucket, output_bucket,\n",
    "                            geo_value, database, df_metric, df_wiki)\n",
    "pre_model.feature_engineer()\n",
    "pre_train_data = pre_model.train_data\n",
    "pre_test_data = pre_model.test_data\n",
    "pre_model.cv(NUM_FOLD = 3)\n",
    "\n",
    "# pre_model.scoring()"
   ]
  },
  {
   "cell_type": "code",
   "execution_count": 0,
   "metadata": {
    "application/vnd.databricks.v1+cell": {
     "cellMetadata": {},
     "inputWidgets": {},
     "nuid": "18bb842f-2e9c-4676-b908-35c0dccea7ca",
     "showTitle": false,
     "title": ""
    }
   },
   "outputs": [],
   "source": [
    "pre_model.scoring()\n",
    "prediction_set_pre_launch = pre_model.prediction_set"
   ]
  },
  {
   "cell_type": "code",
   "execution_count": 0,
   "metadata": {
    "application/vnd.databricks.v1+cell": {
     "cellMetadata": {},
     "inputWidgets": {},
     "nuid": "6a17fdd8-0365-4655-868a-de0964f35c69",
     "showTitle": false,
     "title": ""
    }
   },
   "outputs": [],
   "source": [
    "prediction_set_pre_launch[prediction_set_pre_launch['title_series'].isin(['The Iron Close', 'Dune: Part Two', ''])]"
   ]
  },
  {
   "cell_type": "code",
   "execution_count": 0,
   "metadata": {
    "application/vnd.databricks.v1+cell": {
     "cellMetadata": {},
     "inputWidgets": {},
     "nuid": "697391be-de52-4135-9019-d98ffbcddf33",
     "showTitle": false,
     "title": ""
    }
   },
   "outputs": [],
   "source": [
    "from sklearn.metrics import r2_score\n",
    "validation_set = pre_model.validation_set\n",
    "days = validation_set.days_from_premiere.drop_duplicates().to_list()\n",
    "folds = validation_set.fold.drop_duplicates().to_list()\n",
    "for day in days:\n",
    "    fold_score = []\n",
    "    for fold in folds:\n",
    "        r2 = r2_score(validation_set.loc[(validation_set['days_from_premiere']==day)&(validation_set['fold']==fold), 'viewing_subs'].to_list(),\n",
    "                        validation_set.loc[(validation_set['days_from_premiere']==day)&(validation_set['fold']==fold), 'prediction'].to_list())\n",
    "        fold_score.append(r2.round(2))\n",
    "    print(f'R2 for {day}: {fold_score}')"
   ]
  },
  {
   "cell_type": "code",
   "execution_count": 0,
   "metadata": {
    "application/vnd.databricks.v1+cell": {
     "cellMetadata": {},
     "inputWidgets": {},
     "nuid": "69832960-8a41-444a-88fc-f627fa6c9910",
     "showTitle": false,
     "title": ""
    }
   },
   "outputs": [],
   "source": [
    "from sklearn.metrics import r2_score\n",
    "\n",
    "validation_set = pre_model.validation_set\n",
    "feature_importance = pre_model.feature_importances\n",
    "days = validation_set.days_from_premiere.drop_duplicates().to_list()\n",
    "folds = validation_set.fold.drop_duplicates().to_list()\n",
    "\n",
    "for day in days:\n",
    "    feature_list = feature_importance.loc[(feature_importance['feature_importance']>0.03)&\n",
    "                       (feature_importance['days_from_premiere']==day)].sort_values(\n",
    "    by='feature_importance', ascending=False)['features'].to_list()\n",
    "    logger.info(f'Features for day: {day}')\n",
    "    \n",
    "    fold_score = []\n",
    "    for fold in folds:\n",
    "        r2 = r2_score(validation_set.loc[(validation_set['days_from_premiere']==day)&(validation_set['fold']==fold), 'viewing_subs'].to_list(),\n",
    "                        validation_set.loc[(validation_set['days_from_premiere']==day)&(validation_set['fold']==fold), 'prediction'].to_list())\n",
    "        fold_score.append(r2.round(2))\n",
    "    logger.info(f'{feature_list}')\n",
    "    logger.info(f'R2 for {day}: {fold_score}')"
   ]
  },
  {
   "cell_type": "code",
   "execution_count": 0,
   "metadata": {
    "application/vnd.databricks.v1+cell": {
     "cellMetadata": {},
     "inputWidgets": {},
     "nuid": "a46c955a-44ec-4397-8ef0-9cf28cdd0584",
     "showTitle": false,
     "title": ""
    }
   },
   "outputs": [],
   "source": [
    "# train_data = self.train_data\n",
    "# TARGET_COL = self.TARGET_COL\n",
    "# META_FEATURE = self.META_FEATURE\n",
    "# FEATURE_COLS = self.FEATURE_COLS\n",
    "prediction_set = pd.DataFrame()\n",
    "feature_importances = pd.DataFrame()\n",
    "model = XGBRegressor(n_estimators=1000, max_depth=7, eta=0.1, subsample=0.7, colsample_bytree=0.8)\n",
    "\n",
    "for day in range(-27, -25):\n",
    "    print (\"run for day: \" + str(day))\n",
    "    train_df = train_data[train_data['days_from_premiere'] == day]\n",
    "    test_df = test_data[test_data['days_from_premiere'] == day]\n",
    "\n",
    "    X_train, X_test = train_df[FEATURE_COLS], test_df[FEATURE_COLS]\n",
    "    y_train = train_df[TARGET_COL]\n",
    "\n",
    "    model.fit(X_train, y_train)\n",
    "    pred = model.predict(X_test)\n",
    "    pred = pd.DataFrame(pred)\n",
    "    pred.columns = ['prediction']\n",
    "    test_df.reset_index(inplace = True, drop = True)\n",
    "    test_df = pd.concat([test_df, pred], axis = 1)\n",
    "    prediction_set = pd.concat([prediction_set, test_df], axis = 0)\n",
    "\n",
    "# prediction_set['lifecycle'] = 'prelaunch'\n",
    "# prediction_set = prediction_set[self.META_FEATURE + [\n",
    "#     'home_territory_observed_medal', 'prequel_featured_count', 'prequel_count', 'season_number',\n",
    "#     'wikipedia_page_view_smooth', 'prelaunch_trailer_view_smooth', 'programming_provided_genre', \n",
    "#     'lifecycle', 'prediction']].sort_values(by = ['first_release_date'])\n",
    "\n",
    "# Utils.to_csv_s3(content=prediction_set, bucket=self.output_bucket, \n",
    "#                 key_path=self.TARGET_COL,\n",
    "#                 filename=f'prediction_set_prelaunch_new_{self.geo_value}.csv')\n",
    "# logger.info(f'model_kernel.feature_engineer.prediction_set')\n",
    "# self.prediction_set = prediction_set"
   ]
  },
  {
   "cell_type": "code",
   "execution_count": 0,
   "metadata": {
    "application/vnd.databricks.v1+cell": {
     "cellMetadata": {},
     "inputWidgets": {},
     "nuid": "297bbf23-908c-41e2-a57f-ce553c8f32b4",
     "showTitle": false,
     "title": ""
    }
   },
   "outputs": [],
   "source": [
    "prediction_set['lifecycle'] = 'prelaunch'\n",
    "prediction_set = prediction_set[META_FEATURE + [\n",
    "    'observed_medal_num', 'prequel_featured_count', 'prequel_count', 'season_number', 'derived_genre', \n",
    "    'lifecycle', 'prediction']].sort_values(by = ['first_release_date'])"
   ]
  },
  {
   "cell_type": "code",
   "execution_count": 0,
   "metadata": {
    "application/vnd.databricks.v1+cell": {
     "cellMetadata": {},
     "inputWidgets": {},
     "nuid": "de33983f-3455-4358-9f74-8f4cf5d36222",
     "showTitle": false,
     "title": ""
    }
   },
   "outputs": [],
   "source": [
    "prediction_set[prediction_set['title_series']=='The Iron Claw']"
   ]
  },
  {
   "cell_type": "code",
   "execution_count": 0,
   "metadata": {
    "application/vnd.databricks.v1+cell": {
     "cellMetadata": {},
     "inputWidgets": {},
     "nuid": "baa49085-9ebb-46d5-a878-d9037e3a6868",
     "showTitle": false,
     "title": ""
    }
   },
   "outputs": [],
   "source": [
    "pre_model.scoring()\n",
    "prediction_set_pre_launch = pre_model.prediction_set"
   ]
  },
  {
   "cell_type": "markdown",
   "metadata": {
    "application/vnd.databricks.v1+cell": {
     "cellMetadata": {},
     "inputWidgets": {},
     "nuid": "d871efa3-a6e7-40bc-94ed-6f3225f4f531",
     "showTitle": false,
     "title": ""
    }
   },
   "source": [
    "### 3.3 Format PreLaunch Predictions and Write to Delphi"
   ]
  },
  {
   "cell_type": "code",
   "execution_count": 0,
   "metadata": {
    "application/vnd.databricks.v1+cell": {
     "cellMetadata": {},
     "inputWidgets": {},
     "nuid": "84ac5635-7901-4260-b453-41ad105f3dd4",
     "showTitle": false,
     "title": ""
    }
   },
   "outputs": [],
   "source": [
    "# Add Columns needed for Delphi Prediction Tables\n",
    "\n",
    "data = {\n",
    "    'model_name': ['pct_viewing_subs_2.0'],\n",
    "    'table_name': ['pct_viewing_subs_prelaunch'],\n",
    "    'model_version': ['2.0'],\n",
    "    'sub_type': ['Max Retail+Wholesale'],\n",
    "    'sub_plan': ['Platform'],\n",
    "    'unit': ['percent'],\n",
    "    'region': [geo_value],\n",
    "    'days_after_premiere': [28],\n",
    "    'publish_date': [current_date],\n",
    "    'key': [1]\n",
    "}\n",
    "df_delphi = pd.DataFrame(data=data, columns = data.keys())\n",
    "\n",
    "\n"
   ]
  },
  {
   "cell_type": "code",
   "execution_count": 0,
   "metadata": {
    "application/vnd.databricks.v1+cell": {
     "cellMetadata": {},
     "inputWidgets": {},
     "nuid": "45fc2a0b-9262-4b07-a4c5-a300ea375127",
     "showTitle": false,
     "title": ""
    }
   },
   "outputs": [],
   "source": [
    "df_pred"
   ]
  },
  {
   "cell_type": "code",
   "execution_count": 0,
   "metadata": {
    "application/vnd.databricks.v1+cell": {
     "cellMetadata": {},
     "inputWidgets": {},
     "nuid": "8bb9c08c-0812-4ab2-9130-66635b24c30a",
     "showTitle": false,
     "title": ""
    }
   },
   "outputs": [],
   "source": [
    "prediction_set_pre_launch['key'] = 1\n",
    "df_delphi_prelaunch = df_delphi.merge(prediction_set_pre_launch, on='key').drop(\n",
    "    'key', 1).reset_index(drop=True).copy()\n",
    "\n",
    "# Add imdb_id and ckg_match_id\n",
    "df_delphi_prelaunch = df_delphi_prelaunch.merge(\n",
    "    test_data_set[['delphi_id', 'ckg_match_id', 'ckg_series_id'\n",
    "                   'title_season', 'title_series', 'season_number']], \n",
    "    on=['title_season', 'title_series', 'season_number'], how='inner')"
   ]
  },
  {
   "cell_type": "code",
   "execution_count": 0,
   "metadata": {
    "application/vnd.databricks.v1+cell": {
     "cellMetadata": {},
     "inputWidgets": {},
     "nuid": "a4625827-8ab0-423f-b596-bfc490cea641",
     "showTitle": false,
     "title": ""
    }
   },
   "outputs": [],
   "source": [
    "df_delphi_prelaunch"
   ]
  },
  {
   "cell_type": "code",
   "execution_count": 0,
   "metadata": {
    "application/vnd.databricks.v1+cell": {
     "cellMetadata": {},
     "inputWidgets": {},
     "nuid": "0d75b5e5-5d92-4b07-9f51-fdf9aba317fe",
     "showTitle": false,
     "title": ""
    }
   },
   "outputs": [],
   "source": []
  },
  {
   "cell_type": "code",
   "execution_count": 0,
   "metadata": {
    "application/vnd.databricks.v1+cell": {
     "cellMetadata": {},
     "inputWidgets": {},
     "nuid": "c817ea34-76a9-4900-ab5f-06e974700206",
     "showTitle": false,
     "title": ""
    }
   },
   "outputs": [],
   "source": []
  },
  {
   "cell_type": "code",
   "execution_count": 0,
   "metadata": {
    "application/vnd.databricks.v1+cell": {
     "cellMetadata": {},
     "inputWidgets": {},
     "nuid": "fedd59ef-97c1-4d6e-82c2-e6f538e4b173",
     "showTitle": false,
     "title": ""
    }
   },
   "outputs": [],
   "source": []
  },
  {
   "cell_type": "markdown",
   "metadata": {
    "application/vnd.databricks.v1+cell": {
     "cellMetadata": {},
     "inputWidgets": {},
     "nuid": "b93a321a-eb19-41f7-abe3-37a8cf6249ad",
     "showTitle": false,
     "title": ""
    }
   },
   "source": [
    "### 2.3 Format PostGLight Predictions and Write to Delphi"
   ]
  },
  {
   "cell_type": "code",
   "execution_count": 0,
   "metadata": {
    "application/vnd.databricks.v1+cell": {
     "cellMetadata": {},
     "inputWidgets": {},
     "nuid": "666cb24d-27cc-4e94-9452-1af9c7090caa",
     "showTitle": false,
     "title": ""
    }
   },
   "outputs": [],
   "source": [
    "# Add Columns needed for Delphi Prediction Tables\n",
    "# df_delphi_postgl = df_delphi.merge(prediction_set_post_gl, on='key').drop('key', 1).reset_index(drop=True).copy()\n",
    "\n",
    "data = {\n",
    "    'model_name': ['pct_viewing_subs_2.0'],\n",
    "    'table_name': ['pct_viewing_subs_postgl'],\n",
    "    'model_version': ['2.0'],\n",
    "    'sub_type': ['Max Retail+Wholesale'],\n",
    "    'sub_plan': ['Platform'],\n",
    "    'unit': ['percent'],\n",
    "    'region': [geo_value],\n",
    "    'days_after_premiere': [28],\n",
    "    'publish_date': [current_date],\n",
    "    'key': [1]\n",
    "}\n",
    "df_delphi = pd.DataFrame(data=data, columns = data.keys())\n",
    "\n",
    "\n",
    "prediction_set_post_gl['key'] = 1\n",
    "df_delphi_postgl = df_delphi.merge(prediction_set_post_gl, on='key').drop(\n",
    "    'key', 1).reset_index(drop=True).copy()\n",
    "\n",
    "# Add imdb_id and ckg_match_id\n",
    "df_delphi_postgl = df_delphi_postgl.merge(\n",
    "    test_data_set[['delphi_id', 'ckg_match_id', 'ckg_series_id', 'imdb_series_id',\n",
    "                   'title_season', 'title_series', 'season_number']], \n",
    "    on=['title_season', 'title_series', 'season_number'], how='inner')"
   ]
  },
  {
   "cell_type": "code",
   "execution_count": 0,
   "metadata": {
    "application/vnd.databricks.v1+cell": {
     "cellMetadata": {},
     "inputWidgets": {},
     "nuid": "34bb86a7-1f67-4db3-bb18-301e67aa8e66",
     "showTitle": false,
     "title": ""
    }
   },
   "outputs": [],
   "source": [
    "# Rename Columns to match Delphi\n",
    "rename_set = {\n",
    "    'ckg_series_id' : 'title_id',\n",
    "    'imdb_series_id' : 'imdb_id',\n",
    "    'title_series' : 'title_name', \n",
    "    'derived_genre' :'category',   \n",
    "    'first_release_date' : 'premiere_date'\n",
    "}\n",
    "df_delphi_postgl.rename(columns = rename_set, inplace=True)\n"
   ]
  },
  {
   "cell_type": "code",
   "execution_count": 0,
   "metadata": {
    "application/vnd.databricks.v1+cell": {
     "cellMetadata": {},
     "inputWidgets": {},
     "nuid": "14387468-e6bf-475d-be83-222b7c953545",
     "showTitle": false,
     "title": ""
    }
   },
   "outputs": [],
   "source": [
    "# Update dates to datetime object\n",
    "df_delphi_postgl['premiere_date'] = pd.to_datetime(df_delphi_postgl['premiere_date'])\n",
    "df_delphi_postgl['publish_date'] = pd.to_datetime(df_delphi_postgl['publish_date'])\n",
    "df_delphi_postgl['current_days_from_premiere'] = (df_delphi_postgl['publish_date'] - df_delphi_postgl['premiere_date']).dt.days\n",
    "df_delphi_postgl['target_date'] = df_delphi_postgl['premiere_date'] + df_delphi_postgl['days_after_premiere'].apply(lambda x: pd.DateOffset(days=x))\n",
    "\n",
    "# Back to string to make compatible with sfk package\n",
    "df_delphi_postgl['publish_date'] = df_delphi_postgl['publish_date'].apply(lambda x: x.strftime('%Y-%m-%d'))\n",
    "df_delphi_postgl['target_date'] = df_delphi_postgl['target_date'].apply(lambda x: x.strftime('%Y-%m-%d'))\n",
    "df_delphi_postgl['premiere_date'] = df_delphi_postgl['premiere_date'].apply(lambda x: x.strftime('%Y-%m-%d'))\n"
   ]
  },
  {
   "cell_type": "code",
   "execution_count": 0,
   "metadata": {
    "application/vnd.databricks.v1+cell": {
     "cellMetadata": {},
     "inputWidgets": {},
     "nuid": "173f7c9f-8703-4235-9162-4e81708aa087",
     "showTitle": false,
     "title": ""
    }
   },
   "outputs": [],
   "source": [
    "# Write to Snowflake\n",
    "df_delphi_postgl = df_delphi_postgl[df_delphi_postgl['delphi_id'].notnull()].reset_index(drop=True).copy()\n",
    "# sfk.export_dataframe_to_table(database=database, schema='delphi', df=df_delphi_postgl, \n",
    "#                               table=f'{df_delphi_postgl.loc[0,\"table_name\"]}_staging', conn=ctx)"
   ]
  },
  {
   "cell_type": "code",
   "execution_count": 0,
   "metadata": {
    "application/vnd.databricks.v1+cell": {
     "cellMetadata": {},
     "inputWidgets": {},
     "nuid": "7d3155bc-83f8-49be-9b57-dffea2e59fec",
     "showTitle": false,
     "title": ""
    }
   },
   "outputs": [],
   "source": [
    "from lib.dev_Pre_Launch_Model import post_greenlight_model"
   ]
  },
  {
   "cell_type": "code",
   "execution_count": 0,
   "metadata": {
    "application/vnd.databricks.v1+cell": {
     "cellMetadata": {},
     "inputWidgets": {},
     "nuid": "d7c1912d-eeba-4651-aaa9-91692fbd55ad",
     "showTitle": false,
     "title": ""
    }
   },
   "outputs": [],
   "source": [
    "dev_pre_launch_model = 'lib/dev_Pre_Launch_Model.py'\n",
    "%run $dev_pre_launch_model\n"
   ]
  },
  {
   "cell_type": "code",
   "execution_count": 0,
   "metadata": {
    "application/vnd.databricks.v1+cell": {
     "cellMetadata": {},
     "inputWidgets": {},
     "nuid": "108da379-ba09-4717-87cf-0ddeb79f10d6",
     "showTitle": false,
     "title": ""
    }
   },
   "outputs": [],
   "source": [
    "pre_launch_model = 'lib/Pre_Launch_Model.py'\n",
    "%run $pre_launch_model"
   ]
  },
  {
   "cell_type": "markdown",
   "metadata": {
    "application/vnd.databricks.v1+cell": {
     "cellMetadata": {},
     "inputWidgets": {},
     "nuid": "9e01557c-df8c-4b84-81b1-ca0810e9cf14",
     "showTitle": false,
     "title": ""
    }
   },
   "source": [
    "### 3.1 Pull in Data"
   ]
  },
  {
   "cell_type": "code",
   "execution_count": 0,
   "metadata": {
    "application/vnd.databricks.v1+cell": {
     "cellMetadata": {},
     "inputWidgets": {},
     "nuid": "f49f3788-c00e-4774-a7c9-607018610446",
     "showTitle": false,
     "title": ""
    }
   },
   "outputs": [],
   "source": [
    "# create or replace table max_dev.workspace.forecasting_signals_search as (\n",
    "# select gs.TRACKING_GROUP_ID as imdb_id, date,indexed_volume::float as value, 'search' as metric,geo_name\n",
    "# ,CONVERT_TIMEZONE('UTC', 'America/Los_Angeles',current_timestamp::TIMESTAMP_NTZ)::timestamp  as create_ts\n",
    "# from \"MAX_PROD\".\"CKG\".\"GST_COUNTRY_LEVEL_VOLUME\" as gs\n",
    "# where date::date > '2020-01-01' \n",
    "# and gs.TRACKING_GROUP_ID in (select imdb_id from forecasting_premieres)\n",
    "# and lower(geo_name) in (select lower(country_iso_code) from forecasting_geo_map)\n",
    "# );"
   ]
  },
  {
   "cell_type": "code",
   "execution_count": 0,
   "metadata": {
    "application/vnd.databricks.v1+cell": {
     "cellMetadata": {},
     "inputWidgets": {},
     "nuid": "20840aa0-e40c-4a75-b414-317fdbc20b23",
     "showTitle": false,
     "title": ""
    }
   },
   "outputs": [],
   "source": []
  }
 ],
 "metadata": {
  "application/vnd.databricks.v1+notebook": {
   "dashboards": [],
   "environmentMetadata": null,
   "language": "python",
   "notebookMetadata": {},
   "notebookName": "test_USA-vsubs_prelaunch_dev",
   "widgets": {}
  },
  "kernelspec": {
   "display_name": "env",
   "language": "python",
   "name": "env"
  },
  "language_info": {
   "codemirror_mode": {
    "name": "ipython",
    "version": 3
   },
   "file_extension": ".py",
   "mimetype": "text/x-python",
   "name": "python",
   "nbconvert_exporter": "python",
   "pygments_lexer": "ipython3",
   "version": "3.7.12"
  }
 },
 "nbformat": 4,
 "nbformat_minor": 0
}
