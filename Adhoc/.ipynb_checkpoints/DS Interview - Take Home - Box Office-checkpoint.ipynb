{
 "cells": [
  {
   "cell_type": "markdown",
   "metadata": {},
   "source": [
    "# Warner Bros. Discovery - Data & AI\n",
    "## Box Office Take Home"
   ]
  },
  {
   "cell_type": "markdown",
   "metadata": {},
   "source": [
    "Welcome to the Content Data Science & Analytics take home! \n",
    "\n",
    "The aim of the take home is two-fold: \n",
    "    i) provide you with a high-level insight into the types of problems that you or your future team would tackle within DAI\n",
    "    ii) set a fair and constant baseline to have discussions in a panel interview\n",
    "    \n",
    "The focus of this take home is around how you approach problems end-to-end, and how you present your results to others in the field of the same expertise. As a result, the focus is not on the *best* solution nor the most *complicated*, but on how you can convey you approach and result. Please do not spend more than the suggested time on your solution as it will not provide you with an advantage.\n",
    "\n",
    "Please use any language you prefer: Python, R, Jupyter Notebooks, C++, etc., as long as you can present your solutions.\n",
    "\n",
    "Suggested time: 1 hour."
   ]
  },
  {
   "cell_type": "markdown",
   "metadata": {},
   "source": [
    "### Part 1"
   ]
  },
  {
   "cell_type": "markdown",
   "metadata": {},
   "source": [
    "For this section we've provided you some historic data on the performance of movies in theatres. We ask that you build a model that can predict the box office of a title given its other associated properties. You can go in with the lens that you are presenting to other Data Scientists or Machine Learning practitioners. Please provide a description of the approach you used and why.\n",
    "\n",
    "You were provided a file named box_office.csv, within this file you find the following columns:\n",
    "\n",
    "* **production_cost** - the Production cost of a movie, in dollars\n",
    "* **genre** - the Genre that the movie belongs to\n",
    "* **year_launched** - the year the movie was launched\n",
    "* **social_buzz** - social awareness and interest of the movie\n",
    "* **region** - the state that the movie was first launched in\n",
    "* **box_office** - the opening weekend box office of the movie, in dollars"
   ]
  },
  {
   "cell_type": "code",
   "execution_count": null,
   "metadata": {},
   "outputs": [],
   "source": [
    "# Solution here"
   ]
  },
  {
   "cell_type": "markdown",
   "metadata": {},
   "source": [
    "### Part 2"
   ]
  },
  {
   "cell_type": "markdown",
   "metadata": {},
   "source": [
    "You have been asked by a non-technical stakeholder if you can help them understand how their movie will perform when they launch it next week. They tell you it is a Horror movie that they spent $50,000,000 on producing, and will premiere in Los Angeles.\n",
    "\n",
    "Please provide a prediction for this movie and context for why it is this value. In addition, please provide the creative an understanding of how confident you are with this prediction."
   ]
  },
  {
   "cell_type": "code",
   "execution_count": null,
   "metadata": {},
   "outputs": [],
   "source": [
    "# Solution here"
   ]
  },
  {
   "cell_type": "markdown",
   "metadata": {},
   "source": [
    "### Part 3"
   ]
  },
  {
   "cell_type": "markdown",
   "metadata": {},
   "source": [
    "Now that you have a model to predict box office, could you please write a repsonse to each question below:\n",
    "    \n",
    "    1. What other features would you have liked to have used, and why?\n",
    "    2. What do we have to watch out for when we provide confidence intervals or accuracy measures for this type of model?\n",
    "    3. What you need to do to make this code production level quality?"
   ]
  }
 ],
 "metadata": {
  "kernelspec": {
   "display_name": "Python 3",
   "language": "python",
   "name": "python3"
  },
  "language_info": {
   "codemirror_mode": {
    "name": "ipython",
    "version": 3
   },
   "file_extension": ".py",
   "mimetype": "text/x-python",
   "name": "python",
   "nbconvert_exporter": "python",
   "pygments_lexer": "ipython3",
   "version": "3.8.9"
  }
 },
 "nbformat": 4,
 "nbformat_minor": 4
}
