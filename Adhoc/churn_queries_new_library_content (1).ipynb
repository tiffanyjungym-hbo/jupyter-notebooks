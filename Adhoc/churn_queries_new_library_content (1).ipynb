{
 "cells": [
  {
   "cell_type": "code",
   "execution_count": 0,
   "metadata": {
    "application/vnd.databricks.v1+cell": {
     "cellMetadata": {
      "byteLimit": 2048000,
      "rowLimit": 10000
     },
     "inputWidgets": {},
     "nuid": "e8f88764-2c41-4b6b-9b92-af6796c69b96",
     "showTitle": false,
     "title": ""
    }
   },
   "outputs": [],
   "source": [
    "import boto3\n",
    "import datetime as dt\n",
    "import json\n",
    "import numpy as np\n",
    "import pandas as pd\n",
    "import io\n",
    "\n",
    "pd.set_option('display.max_rows', 1000)\n",
    "pd.set_option('display.max_columns', 1000)\n",
    "pd.options.display.float_format = '{:,.2f}'.format\n",
    "file_path = '/Workspace/Users/jeni.lu@wbd.com/Retention/files/'"
   ]
  },
  {
   "cell_type": "code",
   "execution_count": 0,
   "metadata": {
    "application/vnd.databricks.v1+cell": {
     "cellMetadata": {
      "byteLimit": 2048000,
      "rowLimit": 10000
     },
     "inputWidgets": {},
     "nuid": "fcd75266-16f5-49c3-932d-b4ee0afeda93",
     "showTitle": false,
     "title": ""
    }
   },
   "outputs": [],
   "source": [
    "# ############### CREATE NEW/LIBRARY CONTENT TABLE ###############\n",
    "# spark.sql('''\n",
    "# create or replace table bolt_cus_dev.bronze.cip_recency_title_offering_table as ( \n",
    "# with first as\n",
    "# (SELECT\n",
    "# a.ckg_series_id,\n",
    "# a.season_number,\n",
    "# max(first_offered_date) as window_end\n",
    "# FROM bolt_dai_ckg_prod.gold.reporting_asset_dim_combined a \n",
    "# inner join bolt_dai_ckg_prod.gold.reporting_asset_offering_dim_combined b \n",
    "#     on a.ckg_program_id = b.ckg_program_id \n",
    "#     and b.country_code = 'US' \n",
    "# where asset_type = 'FEATURE' \n",
    "# group by all\n",
    "# )\n",
    "\n",
    "# select  \n",
    "#     series_title_long \n",
    "#     , a.ckg_series_id \n",
    "#     , content_category \n",
    "#     , a.season_number \n",
    "#     , a.ckg_program_id \n",
    "#     , episode_number_in_season \n",
    "#     --using title_first_offered for movies, using individual start_dates for all other categories \n",
    "#     , coalesce(season_first_offered_date,title_first_offered_date) as start_date \n",
    "#     , dateadd(day, 30, window_end) as recency_window_end \n",
    "#     , release_year \n",
    "#     --some metadata has inconsistent release year's within a series (abbott S1), using median to mask that, and converting to an int to perform conditions on \n",
    "#     , median(release_year) over (partition by a.ckg_series_id, a.season_number)::int as median_release_year \n",
    "#     , median_release_year+1 as release_year_plusone \n",
    "# from bolt_dai_ckg_prod.gold.reporting_asset_dim_combined a \n",
    "# inner join bolt_dai_ckg_prod.gold.reporting_asset_offering_dim_combined b \n",
    "#     on a.ckg_program_id = b.ckg_program_id \n",
    "#     and b.country_code = 'US' \n",
    "# left join first c on a.ckg_series_id=c.ckg_series_id and ifnull(a.season_number,0)=ifnull(c.season_number,0)\n",
    "# where asset_type = 'FEATURE' \n",
    "#     and title_first_offered_date is not null \n",
    "# group by 1,2,3,4,5,6,7,8,9\n",
    "# ) \n",
    "\n",
    "#           ''')"
   ]
  },
  {
   "cell_type": "code",
   "execution_count": 0,
   "metadata": {
    "application/vnd.databricks.v1+cell": {
     "cellMetadata": {
      "byteLimit": 2048000,
      "rowLimit": 10000
     },
     "inputWidgets": {},
     "nuid": "572ede5d-e641-4f55-9708-659d5f540b52",
     "showTitle": false,
     "title": ""
    }
   },
   "outputs": [],
   "source": [
    "target_month = '2023-10-01'\n",
    "target_month_end = (pd.to_datetime(target_month) + pd.DateOffset(months=1)- pd.DateOffset(days=1)).strftime('%Y-%m-%d')"
   ]
  },
  {
   "cell_type": "code",
   "execution_count": 0,
   "metadata": {
    "application/vnd.databricks.v1+cell": {
     "cellMetadata": {
      "byteLimit": 2048000,
      "rowLimit": 10000
     },
     "inputWidgets": {},
     "nuid": "1ca09d07-dc58-4d0e-b704-603e723526fc",
     "showTitle": false,
     "title": ""
    }
   },
   "outputs": [],
   "source": [
    "user_stream_60d_genpop = spark.sql('''\n",
    "CREATE OR REPLACE TABLE bolt_cus_dev.bronze.cip_churn_user_stream60d_genpop_new_lib_202310 AS (\n",
    "with subs as(\n",
    "select c.user_id, c.hurley_user_id, up.profile_id\n",
    ", is_cancel, sub_month, is_voluntary\n",
    ", cycle_start_date\n",
    ", cycle_expire_date\n",
    "from bolt_cus_dev.bronze.user_retain_churn_list_test_wbd_max c \n",
    "LEFT join bolt_dai_subs_prod.gold.max_profile_dim_current up\n",
    "    on c.user_id = up.USER_ID\n",
    "where up.default_profile_ind = True\n",
    "and cycle_expire_date between '{target_month}' and '{target_month_end}'\n",
    "-- LIMIT 3000000\n",
    ")\n",
    "\n",
    ", streaming_subset as\n",
    "(\n",
    "select\n",
    "      ss.user_id\n",
    "    , ss.hurley_user_id\n",
    "    , ss.profile_id\n",
    "    , ss.is_cancel\n",
    "    , is_voluntary\n",
    "    , ss.sub_month\n",
    "    , hb.PROGRAM_ID_OR_VIEWABLE_ID as ckg_program_id\n",
    "    , hb.CONTENT_MINUTES_WATCHED/60 as hours_viewed\n",
    "from subs ss\n",
    "left join bolt_dai_ce_prod.gold.combined_video_stream hb\n",
    "    on hb.WBD_MAX_PROFILE_ID = ss.profile_id\n",
    "where DATEDIFF(DAY, hb.request_date_pst, ss.cycle_expire_date) <= 60\n",
    "    and hb.request_date_pst::DATE between DATEADD(MONTH, -2, '{target_month}'::DATE)\n",
    "                            and '{target_month_end}'\n",
    "    and hb.PROGRAM_ID_OR_VIEWABLE_ID IS NOT NULL \n",
    "    and hb.CONTENT_MINUTES_WATCHED >= 15\n",
    "    and hb.video_type = 'main'\n",
    "    and hb.territory = 'HBO MAX DOMESTIC'\n",
    ")\n",
    "\n",
    "select\n",
    "      s.user_id\n",
    "    , s.profile_id\n",
    "    , s.is_cancel\n",
    "    , is_voluntary\n",
    "    , s.sub_month\n",
    "    , rad.program_type as program_type\n",
    "    , rad.content_category as content_category\n",
    "    , rad.REPORTING_PRIMARY_GENRE as genre\n",
    "    , CASE WHEN r.start_date <= '{target_month}' and r.recency_window_end >= '{target_month}' and \n",
    "                (year('{target_month}') = r.median_release_year OR year('{target_month}') = r.release_year_plusone)\n",
    "      THEN 'current'\n",
    "      ELSE 'library'\n",
    "      END AS old_new\n",
    "    , sum(s.hours_viewed) as hours_viewed\n",
    "    , count(distinct rad.ckg_series_id) as titles_viewed\n",
    "from streaming_subset s\n",
    "left join bolt_analytics_prod.gold.v_r_content_metadata_reporting_asset_dim_combined rad \n",
    "    on s.ckg_program_id = rad.ckg_program_id\n",
    "left join bolt_cus_dev.bronze.cip_recency_title_offering_table r\n",
    "    on s.ckg_program_id = r.ckg_program_id\n",
    "     \n",
    "where rad.asset_type!='PROMOTION'\n",
    "group by 1,2,3,4,5,6,7,8,9 \n",
    ")                                                              \n",
    "'''.format(\n",
    "    target_month = target_month,\n",
    "    target_month_end = target_month_end\n",
    "    )\n",
    ")"
   ]
  },
  {
   "cell_type": "code",
   "execution_count": 0,
   "metadata": {
    "application/vnd.databricks.v1+cell": {
     "cellMetadata": {
      "byteLimit": 2048000,
      "rowLimit": 10000
     },
     "inputWidgets": {},
     "nuid": "37bf56b0-c892-4781-a263-02b61b3169e1",
     "showTitle": false,
     "title": ""
    }
   },
   "outputs": [],
   "source": [
    "# user_stream_60d_genpop.write.mode(\"overwrite\").saveAsTable(\"bolt_cus_dev.bronze.cip_churn_user_stream60d_genpop_new_lib_20231201\")"
   ]
  },
  {
   "cell_type": "code",
   "execution_count": 0,
   "metadata": {
    "application/vnd.databricks.v1+cell": {
     "cellMetadata": {
      "byteLimit": 2048000,
      "rowLimit": 10000
     },
     "inputWidgets": {},
     "nuid": "e7cee556-45be-457f-8ce4-d64959fc74d4",
     "showTitle": false,
     "title": ""
    }
   },
   "outputs": [],
   "source": [
    "audience_segement = spark.sql('''\n",
    "                              SELECT a.*, b.entertainment_segment_lifetime\n",
    "                              FROM bolt_cus_dev.bronze.cip_churn_user_stream60d_genpop_new_lib_20231201 a\n",
    "                              LEFT JOIN \n",
    "                                        (SELECT USER_ID, PROFILE_ID, MAX(entertainment_segment_lifetime) as entertainment_segment_lifetime\n",
    "                                         FROM bolt_growthml_int.gold.max_content_preference_v3_segment_assignments_360_landing_table\n",
    "                                         GROUP BY all\n",
    "                                        ) b\n",
    "                              ON a.profile_id = b.PROFILE_ID\n",
    "                              ''')\n",
    "# audience_segement = audience_segement.toPandas()"
   ]
  },
  {
   "cell_type": "code",
   "execution_count": 0,
   "metadata": {
    "application/vnd.databricks.v1+cell": {
     "cellMetadata": {
      "byteLimit": 2048000,
      "rowLimit": 10000
     },
     "inputWidgets": {},
     "nuid": "558d77f5-4ebe-44c2-85e0-6247989aecad",
     "showTitle": false,
     "title": ""
    }
   },
   "outputs": [],
   "source": [
    "audience_segement.write.mode(\"overwrite\").saveAsTable(\"bolt_cus_dev.bronze.churn_user_stream60d_segmented_20231201\")"
   ]
  },
  {
   "cell_type": "code",
   "execution_count": 0,
   "metadata": {
    "application/vnd.databricks.v1+cell": {
     "cellMetadata": {
      "byteLimit": 2048000,
      "rowLimit": 10000
     },
     "inputWidgets": {},
     "nuid": "10531277-8575-4fb5-892a-c144a31bca17",
     "showTitle": false,
     "title": ""
    }
   },
   "outputs": [],
   "source": [
    "user_stream_60d_genpop.show()"
   ]
  },
  {
   "cell_type": "code",
   "execution_count": 0,
   "metadata": {
    "application/vnd.databricks.v1+cell": {
     "cellMetadata": {},
     "inputWidgets": {},
     "nuid": "6c95a0b5-7a76-4d50-ad8f-07b8ed13bb6e",
     "showTitle": false,
     "title": ""
    }
   },
   "outputs": [],
   "source": []
  }
 ],
 "metadata": {
  "application/vnd.databricks.v1+notebook": {
   "dashboards": [],
   "environmentMetadata": null,
   "language": "python",
   "notebookMetadata": {
    "pythonIndentUnit": 4
   },
   "notebookName": "churn_queries_new_library_content (1)",
   "widgets": {}
  }
 },
 "nbformat": 4,
 "nbformat_minor": 0
}
