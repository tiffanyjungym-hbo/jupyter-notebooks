{
 "cells": [
  {
   "cell_type": "markdown",
   "metadata": {},
   "source": [
    "# Warner Bros. Discovery - Data & AI\n",
    "## Box Office Take Home"
   ]
  },
  {
   "cell_type": "markdown",
   "metadata": {},
   "source": [
    "Welcome to the Content Data Science & Analytics take home! \n",
    "\n",
    "The aim of the take home is two-fold: \n",
    "\n",
    "    i) provide you with a high-level insight into the types of problems that you/your future team would tackle\n",
    "    ii) set a fair and constant baseline to have discussions in a panel interview\n",
    "    \n",
    "The focus of this take home is around how you approach problems end-to-end, and how you present your results to others in the field of the same expertise. As a result, the focus is not on the *best* solution nor the most *complicated*, but on how you can convey your approach and results. Please do not spend more than the suggested time on your solution as it will not provide you with an advantage.\n",
    "\n",
    "Please use any language or tool that you are most convident and familiar with: e.g., Python, R, Jupyter Notebooks, RStudio, C++, etc., as long as you can present your solutions.\n",
    "\n",
    "Suggested time: 1 hour.\n",
    "\n",
    "*We are interested in your choices and thought process, spend your time equally on each Part.*"
   ]
  },
  {
   "cell_type": "markdown",
   "metadata": {},
   "source": [
    "### Part 1"
   ]
  },
  {
   "cell_type": "markdown",
   "metadata": {},
   "source": [
    "For this section we've provided you some historic data on the performance of movies in theatres. We ask that you build **one** model that can predict the box office of a title given its other associated properties - please do not evaluate multiple modeling approaches. You can go in with the lens that you are presenting to other Data Scientists or Machine Learning practitioners. Please provide a description of the approach you used and why.\n",
    "\n",
    "You were provided a file named box_office.csv, within this file you find the following columns:\n",
    "\n",
    "* **production_cost** - the Production cost of a movie, in dollars\n",
    "* **genre** - the Genre that the movie belongs to\n",
    "* **year_launched** - the year the movie was launched\n",
    "* **social_buzz** - social awareness and interest of the movie\n",
    "* **region** - the state that the movie was first launched in\n",
    "* **box_office** - the opening weekend box office of the movie, in dollars"
   ]
  },
  {
   "cell_type": "code",
   "execution_count": 1,
   "metadata": {},
   "outputs": [],
   "source": [
    "# Solution here"
   ]
  },
  {
   "cell_type": "markdown",
   "metadata": {},
   "source": [
    "### Part 2"
   ]
  },
  {
   "cell_type": "markdown",
   "metadata": {},
   "source": [
    "You have been asked by a non-technical stakeholder if you can help them understand how their movie will perform when they launch it next week. They tell you it is a Horror movie that they spent $50,000,000 on producing, and will premiere in Los Angeles.\n",
    "\n",
    "Please provide a prediction for this movie and context for why it is this value."
   ]
  },
  {
   "cell_type": "code",
   "execution_count": 2,
   "metadata": {},
   "outputs": [],
   "source": [
    "# Solution here"
   ]
  },
  {
   "cell_type": "markdown",
   "metadata": {},
   "source": [
    "### Part 3"
   ]
  },
  {
   "cell_type": "markdown",
   "metadata": {},
   "source": [
    "Now that you have a model to predict box office, could you please write a repsonse to each question below\n",
    "\n",
    "**[please do not write more than a few sentences per each question]**:\n",
    "    \n",
    "    1. What other features would you have liked to have used, and why?\n",
    "    2. What you need to do to make this code production level quality?\n",
    "    3. Can you discuss any other caveats to your model."
   ]
  },
  {
   "cell_type": "code",
   "execution_count": 1,
   "metadata": {},
   "outputs": [
    {
     "ename": "SyntaxError",
     "evalue": "invalid syntax (<ipython-input-1-78c757e586a8>, line 1)",
     "output_type": "error",
     "traceback": [
      "\u001b[0;36m  File \u001b[0;32m\"<ipython-input-1-78c757e586a8>\"\u001b[0;36m, line \u001b[0;32m1\u001b[0m\n\u001b[0;31m    About the data\u001b[0m\n\u001b[0m            ^\u001b[0m\n\u001b[0;31mSyntaxError\u001b[0m\u001b[0;31m:\u001b[0m invalid syntax\n"
     ]
    }
   ],
   "source": [
    "About the data\n",
    "- production cost is highly correlated\n",
    "- genre is also linearly related (less than production), and then has been digitized, so it'll probably smear out the results there\n",
    "- year_launched is a combination of genre+production cost then adjusted to look real, so theoretically doesn't need to be in there\n",
    "- social_buzz + state are just random noise\n",
    "\n",
    "\n",
    "Questions \n",
    "- In addition, please provide the creative an understanding of how confident you are with this prediction.\n",
    "- what would you do if target var & production cost were inflated over time? (increase over time)\n",
    "- what error metric?\n",
    "- imbalanced for horror movie ?\n",
    "- confidence interval vs. prediction interval? "
   ]
  }
 ],
 "metadata": {
  "kernelspec": {
   "display_name": "conda_amazonei_mxnet_p27",
   "language": "python",
   "name": "conda_amazonei_mxnet_p27"
  },
  "language_info": {
   "codemirror_mode": {
    "name": "ipython",
    "version": 2
   },
   "file_extension": ".py",
   "mimetype": "text/x-python",
   "name": "python",
   "nbconvert_exporter": "python",
   "pygments_lexer": "ipython2",
   "version": "2.7.16"
  }
 },
 "nbformat": 4,
 "nbformat_minor": 4
}
