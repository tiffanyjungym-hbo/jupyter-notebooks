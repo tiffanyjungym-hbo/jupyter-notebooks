{
 "cells": [
  {
   "cell_type": "markdown",
   "metadata": {},
   "source": [
    "# Piecewise task"
   ]
  },
  {
   "cell_type": "markdown",
   "metadata": {},
   "source": [
    "Email:\n",
    "\n",
    "```\n",
    "I have a piecewise linear obj function in a blend composition problem. Say, x1, x2 .. x7 (continuous, lbound = 0 and ubound = 1) are my decision variable (composition of different material grades) where x1+x2+...+x7 = 1.\n",
    "\n",
    "There is a variable y (Cost) = Ax1+Bx2+....+Gx7.\n",
    "\n",
    "If y > L2 then z = P * (y - R) , \n",
    "else if L1 > y > L2 then z = Q * (y - R)  \n",
    "else z = 0\n",
    "\n",
    "My obj function is y + z.\n",
    "\n",
    "How can I formulate this in PuLP?\n",
    "\n",
    "Thanks,\n",
    "Raghav\n",
    "```"
   ]
  },
  {
   "cell_type": "markdown",
   "metadata": {},
   "source": [
    "1. Conditions on z are ambiguous. Let us reformulate:\n",
    "\n",
    "Let $0 \\le L1 \\le L2$. So,\n",
    "\n",
    "$y \\in [0, L1], z = 0$\n",
    "\n",
    "$y \\in [L1, L2], z = Q (y - R)$\n",
    "\n",
    "$y \\in [L2, M], z = P (y - R)$, where $M >> L2$  or $M = L2 + max(A, .., G)$ in the given case.\n",
    "\n",
    "\n",
    "2. So, we have 3 intervals. Consider a simple case, i.e. forget about x variables for a while.\n",
    "\n",
    "To model this task we need 3 continuos variables, $y$, and 3 binary varibales, $a$. The code is below."
   ]
  },
  {
   "cell_type": "code",
   "execution_count": 1,
   "metadata": {},
   "outputs": [],
   "source": [
    "from pulp import *"
   ]
  },
  {
   "cell_type": "code",
   "execution_count": 2,
   "metadata": {},
   "outputs": [],
   "source": [
    "L1, L2, M = 2, 5, 10\n",
    "Q, P, R = 3, 2, 1\n",
    "pw = [1, 2, 3] # pieces\n",
    "y = LpVariable.dicts(\"y\", pw, lowBound=0, cat=LpContinuous)\n",
    "a = LpVariable.dicts(\"a\", pw, cat=LpBinary)"
   ]
  },
  {
   "cell_type": "code",
   "execution_count": 3,
   "metadata": {},
   "outputs": [],
   "source": [
    "m = LpProblem(\"Problem\", LpMaximize)"
   ]
  },
  {
   "cell_type": "markdown",
   "metadata": {},
   "source": [
    "#### Constraints"
   ]
  },
  {
   "cell_type": "code",
   "execution_count": 4,
   "metadata": {},
   "outputs": [],
   "source": [
    "# only one piece is in action\n",
    "m += sum([a[i] for i in pw]) == 1"
   ]
  },
  {
   "cell_type": "code",
   "execution_count": 5,
   "metadata": {},
   "outputs": [],
   "source": [
    "# 1. z = 0, nothing goes to objective function\n",
    "m += y[1] <= a[1] * L1"
   ]
  },
  {
   "cell_type": "code",
   "execution_count": 6,
   "metadata": {},
   "outputs": [],
   "source": [
    "# 2. z = Q*(y - R), therefore  (Q * y[2] - a[2] * R * Q) goes to objective function\n",
    "m += y[2] >= a[2] * L1\n",
    "m += y[2] <= a[2] * L2"
   ]
  },
  {
   "cell_type": "code",
   "execution_count": 7,
   "metadata": {},
   "outputs": [],
   "source": [
    "# 3. z = P * (y - R), therefore  (P * y[3] - a[3] * P * R) goes to objective function\n",
    "m += y[3] >= a[3] * L2\n",
    "m += y[3] <= a[3] * M # we need M to make y[3] = 0 when a[1] or a[2] != 0"
   ]
  },
  {
   "cell_type": "markdown",
   "metadata": {},
   "source": [
    "#### Objective Function"
   ]
  },
  {
   "cell_type": "code",
   "execution_count": 8,
   "metadata": {},
   "outputs": [],
   "source": [
    "m += y[1] + (y[2] + Q * y[2] - a[2] * R * Q) + (y[3] + P * y[3] - a[3] * P * R)"
   ]
  },
  {
   "cell_type": "code",
   "execution_count": 9,
   "metadata": {},
   "outputs": [
    {
     "data": {
      "text/plain": [
       "Problem:\n",
       "MAXIMIZE\n",
       "-3*a_2 + -2*a_3 + 1*y_1 + 4*y_2 + 3*y_3 + 0\n",
       "SUBJECT TO\n",
       "_C1: a_1 + a_2 + a_3 = 1\n",
       "\n",
       "_C2: - 2 a_1 + y_1 <= 0\n",
       "\n",
       "_C3: - 2 a_2 + y_2 >= 0\n",
       "\n",
       "_C4: - 5 a_2 + y_2 <= 0\n",
       "\n",
       "_C5: - 5 a_3 + y_3 >= 0\n",
       "\n",
       "_C6: - 10 a_3 + y_3 <= 0\n",
       "\n",
       "VARIABLES\n",
       "0 <= a_1 <= 1 Integer\n",
       "0 <= a_2 <= 1 Integer\n",
       "0 <= a_3 <= 1 Integer\n",
       "y_1 Continuous\n",
       "y_2 Continuous\n",
       "y_3 Continuous"
      ]
     },
     "execution_count": 9,
     "metadata": {},
     "output_type": "execute_result"
    }
   ],
   "source": [
    "m"
   ]
  },
  {
   "cell_type": "code",
   "execution_count": 10,
   "metadata": {},
   "outputs": [
    {
     "data": {
      "text/plain": [
       "1"
      ]
     },
     "execution_count": 10,
     "metadata": {},
     "output_type": "execute_result"
    }
   ],
   "source": [
    "# Solution\n",
    "m.solve()"
   ]
  },
  {
   "cell_type": "code",
   "execution_count": 11,
   "metadata": {
    "scrolled": true
   },
   "outputs": [
    {
     "name": "stdout",
     "output_type": "stream",
     "text": [
      "a_1 = 0.0\n",
      "a_2 = 0.0\n",
      "a_3 = 1.0\n",
      "y_1 = 0.0\n",
      "y_2 = 0.0\n",
      "y_3 = 10.0\n"
     ]
    }
   ],
   "source": [
    "for v in m.variables():\n",
    "        print(v.name, \"=\", v.varValue)"
   ]
  },
  {
   "cell_type": "markdown",
   "metadata": {},
   "source": [
    "3. For the full task we need $3\\times7 = 21$ variables, $x$ and 3 binary varibales, $a$.\n",
    "   Also  we may have $y$ vars to make equations shorter.\n",
    "   \n",
    "   Constraints for the second piece (i = 2)\n",
    "   \n",
    "```python\n",
    "x = LpVariable.dicts(\"x\", (pw, range(1, 8)), lowBound=0, cat=LpContinuous)\n",
    "\n",
    "# ABCDEFG\n",
    "c = dict([(i, i*0.1) for i in range(1, 8)])\n",
    "\n",
    "m += sum([x[2][j] for j in range(1, 8)]) == 1 * a[2] # if a2 = 0 all x[2][j] must be = 0\n",
    "\n",
    "m += y[2] == sum([c[j] * x[2][j] for j in range(1, 8)])\n",
    "\n",
    "m += y[2] >= a[2] * L1\n",
    "m += y[2] <= a[2] * L2\n",
    "```\n",
    "\n",
    "Now it is simple to write constraints for other two pieces and shorten the code with loops."
   ]
  },
  {
   "cell_type": "code",
   "execution_count": null,
   "metadata": {},
   "outputs": [],
   "source": []
  },
  {
   "cell_type": "code",
   "execution_count": null,
   "metadata": {},
   "outputs": [],
   "source": []
  },
  {
   "cell_type": "code",
   "execution_count": null,
   "metadata": {},
   "outputs": [],
   "source": []
  }
 ],
 "metadata": {
  "kernelspec": {
   "display_name": "Python 3",
   "language": "python",
   "name": "python3"
  },
  "language_info": {
   "codemirror_mode": {
    "name": "ipython",
    "version": 3
   },
   "file_extension": ".py",
   "mimetype": "text/x-python",
   "name": "python",
   "nbconvert_exporter": "python",
   "pygments_lexer": "ipython3",
   "version": "3.7.1"
  }
 },
 "nbformat": 4,
 "nbformat_minor": 2
}
