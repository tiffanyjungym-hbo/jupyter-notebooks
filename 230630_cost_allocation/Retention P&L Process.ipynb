{
 "cells": [
  {
   "cell_type": "code",
   "execution_count": 1,
   "id": "8dc4eb65",
   "metadata": {},
   "outputs": [],
   "source": [
    "import pandas as pd\n",
    "import numpy as np\n",
    "import itertools as it\n",
    "import os\n",
    "import io\n",
    "import logging\n",
    "\n",
    "import boto3\n",
    "import sys\n",
    "import json\n",
    "import snowflake.connector"
   ]
  },
  {
   "cell_type": "markdown",
   "id": "11e4363d",
   "metadata": {},
   "source": [
    "# Reading Data "
   ]
  },
  {
   "cell_type": "code",
   "execution_count": 2,
   "id": "9d7403bf",
   "metadata": {},
   "outputs": [],
   "source": [
    "input_bucket = \"hbo-ingest-datascience-content-dev\""
   ]
  },
  {
   "cell_type": "code",
   "execution_count": 2,
   "id": "adfa3856",
   "metadata": {},
   "outputs": [
    {
     "name": "stderr",
     "output_type": "stream",
     "text": [
      "/home/ec2-user/anaconda3/envs/python3/lib/python3.6/site-packages/boto3/compat.py:88: PythonDeprecationWarning: Boto3 will no longer support Python 3.6 starting May 30, 2022. To continue receiving service updates, bug fixes, and security updates please upgrade to Python 3.7 or later. More information can be found here: https://aws.amazon.com/blogs/developer/python-support-policy-updates-for-aws-sdks-and-tools/\n",
      "  warnings.warn(warning, PythonDeprecationWarning)\n"
     ]
    },
    {
     "ename": "NameError",
     "evalue": "name 'input_bucket' is not defined",
     "output_type": "error",
     "traceback": [
      "\u001b[0;31m---------------------------------------------------------------------------\u001b[0m",
      "\u001b[0;31mNameError\u001b[0m                                 Traceback (most recent call last)",
      "\u001b[0;32m<ipython-input-2-19e80100dc73>\u001b[0m in \u001b[0;36m<module>\u001b[0;34m\u001b[0m\n\u001b[1;32m      4\u001b[0m \u001b[0;34m\u001b[0m\u001b[0m\n\u001b[1;32m      5\u001b[0m \u001b[0ms3\u001b[0m \u001b[0;34m=\u001b[0m \u001b[0mboto3\u001b[0m\u001b[0;34m.\u001b[0m\u001b[0mresource\u001b[0m\u001b[0;34m(\u001b[0m\u001b[0;34m's3'\u001b[0m\u001b[0;34m)\u001b[0m\u001b[0;34m\u001b[0m\u001b[0;34m\u001b[0m\u001b[0m\n\u001b[0;32m----> 6\u001b[0;31m \u001b[0mbucket\u001b[0m \u001b[0;34m=\u001b[0m \u001b[0ms3\u001b[0m\u001b[0;34m.\u001b[0m\u001b[0mBucket\u001b[0m\u001b[0;34m(\u001b[0m\u001b[0minput_bucket\u001b[0m\u001b[0;34m)\u001b[0m\u001b[0;34m\u001b[0m\u001b[0;34m\u001b[0m\u001b[0m\n\u001b[0m\u001b[1;32m      7\u001b[0m \u001b[0;34m\u001b[0m\u001b[0m\n\u001b[1;32m      8\u001b[0m \u001b[0;32mfor\u001b[0m \u001b[0mobj\u001b[0m \u001b[0;32min\u001b[0m \u001b[0mbucket\u001b[0m\u001b[0;34m.\u001b[0m\u001b[0mobjects\u001b[0m\u001b[0;34m.\u001b[0m\u001b[0mfilter\u001b[0m\u001b[0;34m(\u001b[0m\u001b[0mPrefix\u001b[0m\u001b[0;34m=\u001b[0m\u001b[0;34m'cost_allocation/dev/churn_metric_0811'\u001b[0m\u001b[0;34m)\u001b[0m\u001b[0;34m:\u001b[0m\u001b[0;34m\u001b[0m\u001b[0;34m\u001b[0m\u001b[0m\n",
      "\u001b[0;31mNameError\u001b[0m: name 'input_bucket' is not defined"
     ]
    }
   ],
   "source": [
    "logger = logging.getLogger()\n",
    "logger.info(f'Loading inputs')\n",
    "data_list =[]\n",
    "\n",
    "s3 = boto3.resource('s3')\n",
    "bucket = s3.Bucket(input_bucket)\n",
    "\n",
    "for obj in bucket.objects.filter(Prefix='cost_allocation/dev/churn_metric_0811'):\n",
    "            key = obj.key\n",
    "            logger.info('Loading csv file {}'.format(key))\n",
    "            body = obj.get()['Body']\n",
    "            print('Reading {0} features'.format(key))\n",
    "            churn_metric = pd.read_csv(body, na_values = [r'\\\\\\\\N'])"
   ]
  },
  {
   "cell_type": "code",
   "execution_count": 4,
   "id": "87ffba54",
   "metadata": {},
   "outputs": [
    {
     "data": {
      "text/html": [
       "<div>\n",
       "<style scoped>\n",
       "    .dataframe tbody tr th:only-of-type {\n",
       "        vertical-align: middle;\n",
       "    }\n",
       "\n",
       "    .dataframe tbody tr th {\n",
       "        vertical-align: top;\n",
       "    }\n",
       "\n",
       "    .dataframe thead th {\n",
       "        text-align: right;\n",
       "    }\n",
       "</style>\n",
       "<table border=\"1\" class=\"dataframe\">\n",
       "  <thead>\n",
       "    <tr style=\"text-align: right;\">\n",
       "      <th></th>\n",
       "      <th>Unnamed: 0</th>\n",
       "      <th>genre</th>\n",
       "      <th>medal</th>\n",
       "      <th>churn_per_hr_person</th>\n",
       "    </tr>\n",
       "  </thead>\n",
       "  <tbody>\n",
       "    <tr>\n",
       "      <th>0</th>\n",
       "      <td>0</td>\n",
       "      <td>action</td>\n",
       "      <td>Platinum</td>\n",
       "      <td>-0.014955</td>\n",
       "    </tr>\n",
       "    <tr>\n",
       "      <th>1</th>\n",
       "      <td>1</td>\n",
       "      <td>action</td>\n",
       "      <td>Gold</td>\n",
       "      <td>-0.038102</td>\n",
       "    </tr>\n",
       "    <tr>\n",
       "      <th>2</th>\n",
       "      <td>2</td>\n",
       "      <td>action</td>\n",
       "      <td>Silver</td>\n",
       "      <td>-0.010055</td>\n",
       "    </tr>\n",
       "    <tr>\n",
       "      <th>3</th>\n",
       "      <td>3</td>\n",
       "      <td>action</td>\n",
       "      <td>Bronze</td>\n",
       "      <td>-0.022941</td>\n",
       "    </tr>\n",
       "    <tr>\n",
       "      <th>4</th>\n",
       "      <td>4</td>\n",
       "      <td>comedy</td>\n",
       "      <td>Platinum</td>\n",
       "      <td>-0.011701</td>\n",
       "    </tr>\n",
       "  </tbody>\n",
       "</table>\n",
       "</div>"
      ],
      "text/plain": [
       "   Unnamed: 0   genre     medal  churn_per_hr_person\n",
       "0           0  action  Platinum            -0.014955\n",
       "1           1  action      Gold            -0.038102\n",
       "2           2  action    Silver            -0.010055\n",
       "3           3  action    Bronze            -0.022941\n",
       "4           4  comedy  Platinum            -0.011701"
      ]
     },
     "execution_count": 4,
     "metadata": {},
     "output_type": "execute_result"
    }
   ],
   "source": [
    "churn_metric.head()"
   ]
  },
  {
   "cell_type": "code",
   "execution_count": 5,
   "id": "393f10ca",
   "metadata": {},
   "outputs": [
    {
     "name": "stderr",
     "output_type": "stream",
     "text": [
      "/home/ec2-user/anaconda3/envs/python3/lib/python3.6/site-packages/boto3/compat.py:88: PythonDeprecationWarning: Boto3 will no longer support Python 3.6 starting May 30, 2022. To continue receiving service updates, bug fixes, and security updates please upgrade to Python 3.7 or later. More information can be found here: https://aws.amazon.com/blogs/developer/python-support-policy-updates-for-aws-sdks-and-tools/\n",
      "  warnings.warn(warning, PythonDeprecationWarning)\n"
     ]
    }
   ],
   "source": [
    "from abc import ABCMeta, abstractmethod\n",
    "\n",
    "class Credentials(metaclass=ABCMeta):\n",
    "    pass\n",
    "    \n",
    "    \n",
    "class SSMPSCredentials(Credentials):\n",
    "    def __init__(self, secretid: str):\n",
    "        self._secretid = secretid\n",
    "        self._secrets = {}\n",
    "        \n",
    "    def get_keys(self):\n",
    "        \"\"\"\n",
    "        credential fetching \n",
    "        \"\"\"\n",
    "        _aws_sm_args = {'service_name': 'secretsmanager', 'region_name': 'us-east-1'}\n",
    "        secrets_client = boto3.client(**_aws_sm_args)\n",
    "        get_secret_value_response = secrets_client.get_secret_value(SecretId=self._secretid)\n",
    "        return get_secret_value_response\n",
    "    \n",
    "    \n",
    "class BaseConnector(metaclass=ABCMeta):\n",
    "    @abstractmethod\n",
    "    def connect(self):\n",
    "        raise NotImplementedError\n",
    "    \n",
    "\n",
    "class SnowflakeConnector(BaseConnector):\n",
    "    def __init__(self, credentials: Credentials):\n",
    "        keys = credentials.get_keys()\n",
    "        self._secrets = json.loads(keys.get('SecretString', \"{}\"))\n",
    "\n",
    "    def connect(self, dbname: str, schema: str = 'DEFAULT'):\n",
    "        ctx = snowflake.connector.connect(\n",
    "            user=self._secrets['login_name'],\n",
    "            password=self._secrets['login_password'],\n",
    "            account=self._secrets['account'],\n",
    "            warehouse=self._secrets['warehouse'],\n",
    "            database=dbname,\n",
    "            schema=schema\n",
    "        )\n",
    "\n",
    "        return ctx\n",
    "    \n",
    "## Credentials\n",
    "SF_CREDS = 'datascience-max-dev-sagemaker-notebooks'\n",
    "\n",
    "## Snowflake connection \n",
    "conn=SnowflakeConnector(SSMPSCredentials(SF_CREDS))\n",
    "ctx=conn.connect(\"MAX_DEV\",\"WORKSPACE\")\n",
    "\n",
    "def run_query(query):\n",
    "    cursor = ctx.cursor()\n",
    "    cursor.execute(query)\n",
    "    df = pd.DataFrame(cursor.fetchall(), columns = [desc[0] for desc in cursor.description])\n",
    "    df.columns= df.columns.str.lower()\n",
    "    return df"
   ]
  },
  {
   "cell_type": "code",
   "execution_count": 6,
   "id": "faf1dd9d",
   "metadata": {},
   "outputs": [],
   "source": [
    "# hours_viewed = run_query('''SELECT * FROM max_dev.workspace.user_title_hours_watched_crossvalidation''')"
   ]
  },
  {
   "cell_type": "code",
   "execution_count": 7,
   "id": "c0757c9c",
   "metadata": {},
   "outputs": [],
   "source": [
    "hours_viewed = pd.read_csv('validation_data.csv')"
   ]
  },
  {
   "cell_type": "code",
   "execution_count": 8,
   "id": "506fe04b",
   "metadata": {},
   "outputs": [],
   "source": [
    "hours_viewed = hours_viewed[['title_name', 'title_id', 'season_number', 'offering_start_date' , 'ahvr', 'pillar_genre', 'medal']]"
   ]
  },
  {
   "cell_type": "code",
   "execution_count": 9,
   "id": "c72864eb",
   "metadata": {},
   "outputs": [],
   "source": [
    "hours_viewed.rename(columns = {'ahvr':'average_hours_viewed_60d', 'pillar_genre': 'genre'}, inplace = True)"
   ]
  },
  {
   "cell_type": "code",
   "execution_count": 10,
   "id": "d7e161dd",
   "metadata": {},
   "outputs": [],
   "source": [
    "hours_viewed.loc[hours_viewed['genre'] == 'Action/Adventure ', 'genre'] = 'action'\n",
    "hours_viewed.loc[hours_viewed['genre'] == 'Comedy', 'genre'] = 'comedy'\n",
    "hours_viewed.loc[hours_viewed['genre'] == 'Drama', 'genre'] = 'drama'\n",
    "hours_viewed.loc[~hours_viewed['genre'].isin(['action', 'comedy', 'drama']), 'genre'] = 'other'\n",
    "\n",
    "hours_viewed.loc[hours_viewed['medal'] == 'None', 'medal'] = 'Bronze'"
   ]
  },
  {
   "cell_type": "code",
   "execution_count": 11,
   "id": "3c1015b2",
   "metadata": {},
   "outputs": [],
   "source": [
    "hours_viewed = hours_viewed.merge(churn_metric[['genre','medal','churn_per_hr_person']], on = ['genre','medal'], how = 'left')"
   ]
  },
  {
   "cell_type": "code",
   "execution_count": 12,
   "id": "cd9277e9",
   "metadata": {},
   "outputs": [],
   "source": [
    "hours_viewed['change_in_churn_60d'] = hours_viewed['average_hours_viewed_60d'] * hours_viewed['churn_per_hr_person']"
   ]
  },
  {
   "cell_type": "code",
   "execution_count": 13,
   "id": "09ed2221",
   "metadata": {},
   "outputs": [],
   "source": [
    "hours_viewed_thresh = hours_viewed[hours_viewed['average_hours_viewed_60d'] >= 0.015]"
   ]
  },
  {
   "cell_type": "markdown",
   "id": "2b37c9f9",
   "metadata": {},
   "source": [
    "# Allocate the 60-Day Churn to monthly"
   ]
  },
  {
   "cell_type": "markdown",
   "id": "533bf0ef",
   "metadata": {},
   "source": [
    "## First 60 Allocation"
   ]
  },
  {
   "cell_type": "code",
   "execution_count": 14,
   "id": "d7d7dc3d",
   "metadata": {},
   "outputs": [],
   "source": [
    "dt_df = pd.DataFrame()\n",
    "dt_df['days_on_hbo_max'] = [i for i in range(0, 60, 1)]"
   ]
  },
  {
   "cell_type": "code",
   "execution_count": 15,
   "id": "6d6a8531",
   "metadata": {},
   "outputs": [
    {
     "name": "stderr",
     "output_type": "stream",
     "text": [
      "/home/ec2-user/anaconda3/envs/python3/lib/python3.6/site-packages/ipykernel/__main__.py:1: SettingWithCopyWarning: \n",
      "A value is trying to be set on a copy of a slice from a DataFrame.\n",
      "Try using .loc[row_indexer,col_indexer] = value instead\n",
      "\n",
      "See the caveats in the documentation: https://pandas.pydata.org/pandas-docs/stable/user_guide/indexing.html#returning-a-view-versus-a-copy\n",
      "  if __name__ == '__main__':\n"
     ]
    }
   ],
   "source": [
    "hours_viewed_thresh['key'] = 1\n",
    "dt_df['key'] = 1"
   ]
  },
  {
   "cell_type": "code",
   "execution_count": 16,
   "id": "5b059406",
   "metadata": {},
   "outputs": [],
   "source": [
    "hours_viewed_60d = hours_viewed_thresh.merge(dt_df, on = ['key']).drop(['key'], axis = 1)\n",
    "\n",
    "hours_viewed_60d['request_date'] = pd.to_datetime(hours_viewed_60d['offering_start_date']) \\\n",
    "                                    + pd.to_timedelta(hours_viewed_60d['days_on_hbo_max'], unit='D')\n",
    "\n",
    "hours_viewed_60d['change_in_churn'] = hours_viewed_60d['change_in_churn_60d']/60"
   ]
  },
  {
   "cell_type": "markdown",
   "id": "b0e7f766",
   "metadata": {},
   "source": [
    "## After 60 Day Allocation"
   ]
  },
  {
   "cell_type": "code",
   "execution_count": 17,
   "id": "06366f6b",
   "metadata": {},
   "outputs": [],
   "source": [
    "ever_green_titles = pd.read_csv('ever_green_titles.csv')"
   ]
  },
  {
   "cell_type": "code",
   "execution_count": 18,
   "id": "e4fbd13e",
   "metadata": {},
   "outputs": [
    {
     "data": {
      "text/html": [
       "<div>\n",
       "<style scoped>\n",
       "    .dataframe tbody tr th:only-of-type {\n",
       "        vertical-align: middle;\n",
       "    }\n",
       "\n",
       "    .dataframe tbody tr th {\n",
       "        vertical-align: top;\n",
       "    }\n",
       "\n",
       "    .dataframe thead th {\n",
       "        text-align: right;\n",
       "    }\n",
       "</style>\n",
       "<table border=\"1\" class=\"dataframe\">\n",
       "  <thead>\n",
       "    <tr style=\"text-align: right;\">\n",
       "      <th></th>\n",
       "      <th>Unnamed: 0</th>\n",
       "      <th>title_name</th>\n",
       "      <th>title_id</th>\n",
       "      <th>season_number</th>\n",
       "      <th>match_id</th>\n",
       "      <th>offering_start_date</th>\n",
       "      <th>ahvr</th>\n",
       "      <th>ahvr_90</th>\n",
       "    </tr>\n",
       "  </thead>\n",
       "  <tbody>\n",
       "    <tr>\n",
       "      <th>0</th>\n",
       "      <td>5892</td>\n",
       "      <td>Injustice</td>\n",
       "      <td>GYbvoqgoeYawYwwEAAAAN</td>\n",
       "      <td>0</td>\n",
       "      <td>GYbvoqgoeYawYwwEAAAAN</td>\n",
       "      <td>2022-01-17</td>\n",
       "      <td>0.236977</td>\n",
       "      <td>0.593506</td>\n",
       "    </tr>\n",
       "    <tr>\n",
       "      <th>1</th>\n",
       "      <td>5249</td>\n",
       "      <td>Red 2</td>\n",
       "      <td>GYOjdCwdKNsI-wgEAAAZc</td>\n",
       "      <td>0</td>\n",
       "      <td>GYOjdCwdKNsI-wgEAAAZc</td>\n",
       "      <td>2022-02-01</td>\n",
       "      <td>0.027843</td>\n",
       "      <td>0.052037</td>\n",
       "    </tr>\n",
       "    <tr>\n",
       "      <th>2</th>\n",
       "      <td>3698</td>\n",
       "      <td>Misery</td>\n",
       "      <td>GXrHsBAPxLomBSgEAAAB4</td>\n",
       "      <td>0</td>\n",
       "      <td>GXrHsBAPxLomBSgEAAAB4</td>\n",
       "      <td>2020-06-01</td>\n",
       "      <td>0.018080</td>\n",
       "      <td>0.027320</td>\n",
       "    </tr>\n",
       "    <tr>\n",
       "      <th>3</th>\n",
       "      <td>3296</td>\n",
       "      <td>Ella Enchanted</td>\n",
       "      <td>GXoTAXgmV2ZCtwwEAAACI</td>\n",
       "      <td>0</td>\n",
       "      <td>GXoTAXgmV2ZCtwwEAAACI</td>\n",
       "      <td>2020-05-27</td>\n",
       "      <td>0.017993</td>\n",
       "      <td>0.026021</td>\n",
       "    </tr>\n",
       "    <tr>\n",
       "      <th>4</th>\n",
       "      <td>3198</td>\n",
       "      <td>The Hangover Part II</td>\n",
       "      <td>GXnjwZgr15aFYqQEAAAbj</td>\n",
       "      <td>0</td>\n",
       "      <td>GXnjwZgr15aFYqQEAAAbj</td>\n",
       "      <td>2020-05-27</td>\n",
       "      <td>0.029151</td>\n",
       "      <td>0.045031</td>\n",
       "    </tr>\n",
       "  </tbody>\n",
       "</table>\n",
       "</div>"
      ],
      "text/plain": [
       "   Unnamed: 0            title_name               title_id  season_number  \\\n",
       "0        5892             Injustice  GYbvoqgoeYawYwwEAAAAN              0   \n",
       "1        5249                 Red 2  GYOjdCwdKNsI-wgEAAAZc              0   \n",
       "2        3698                Misery  GXrHsBAPxLomBSgEAAAB4              0   \n",
       "3        3296        Ella Enchanted  GXoTAXgmV2ZCtwwEAAACI              0   \n",
       "4        3198  The Hangover Part II  GXnjwZgr15aFYqQEAAAbj              0   \n",
       "\n",
       "                match_id offering_start_date      ahvr   ahvr_90  \n",
       "0  GYbvoqgoeYawYwwEAAAAN          2022-01-17  0.236977  0.593506  \n",
       "1  GYOjdCwdKNsI-wgEAAAZc          2022-02-01  0.027843  0.052037  \n",
       "2  GXrHsBAPxLomBSgEAAAB4          2020-06-01  0.018080  0.027320  \n",
       "3  GXoTAXgmV2ZCtwwEAAACI          2020-05-27  0.017993  0.026021  \n",
       "4  GXnjwZgr15aFYqQEAAAbj          2020-05-27  0.029151  0.045031  "
      ]
     },
     "execution_count": 18,
     "metadata": {},
     "output_type": "execute_result"
    }
   ],
   "source": [
    "ever_green_titles.head()"
   ]
  },
  {
   "cell_type": "code",
   "execution_count": 19,
   "id": "f73e33bc",
   "metadata": {},
   "outputs": [
    {
     "data": {
      "text/plain": [
       "62"
      ]
     },
     "execution_count": 19,
     "metadata": {},
     "output_type": "execute_result"
    }
   ],
   "source": [
    "len(ever_green_titles.title_id.unique())"
   ]
  },
  {
   "cell_type": "code",
   "execution_count": 20,
   "id": "e39d55f4",
   "metadata": {},
   "outputs": [
    {
     "data": {
      "text/plain": [
       "753"
      ]
     },
     "execution_count": 20,
     "metadata": {},
     "output_type": "execute_result"
    }
   ],
   "source": [
    "len(hours_viewed_thresh.title_id.unique())"
   ]
  },
  {
   "cell_type": "code",
   "execution_count": 21,
   "id": "6f954e34",
   "metadata": {},
   "outputs": [
    {
     "data": {
      "text/plain": [
       "array(['2 Fast 2 Furious', 'Along Came Polly', 'American Pie',\n",
       "       'American Psycho', 'Annabelle Comes Home', 'Bad Education',\n",
       "       'Batman: Assault on Arkham', 'Batman: Under the Red Hood',\n",
       "       'Big Little Lies', 'Contraband', 'Cowboys & Aliens',\n",
       "       'Curb Your Enthusiasm', 'Downton Abbey',\n",
       "       \"Dr. Seuss' How the Grinch Stole Christmas\", 'Ella Enchanted',\n",
       "       'Euphoria', 'Fight Club', 'Friday After Next', 'Friends',\n",
       "       'Full Metal Jacket', 'G.I. Joe: The Rise of Cobra',\n",
       "       'Game of Thrones', 'Godzilla: King of the Monsters', 'Good Boys',\n",
       "       'Hall Pass', 'How to Lose a Guy in 10 Days',\n",
       "       'Ice Age: Continental Drift', 'Injustice',\n",
       "       'Justice League Dark: Apokolips War',\n",
       "       'Justice League vs the Fatal Five',\n",
       "       'Justice League vs. Teen Titans',\n",
       "       'Justice League: Crisis on Two Earths', 'Justice League: Doom',\n",
       "       'Justice League: Gods and Monsters',\n",
       "       'Justice League: The Flashpoint Paradox',\n",
       "       'Justice League: Throne of Atlantis', 'Justice League: War',\n",
       "       'Kong: Skull Island', 'Last Week Tonight with John Oliver',\n",
       "       'Misery', 'Mr. & Mrs. Smith', \"National Lampoon's Vacation\",\n",
       "       'Paul', 'Pretty Little Liars', 'Red 2', 'Reno 911!',\n",
       "       'Sex and the City', 'Succession', 'Teen Titans',\n",
       "       'The Fast and the Furious', 'The Hangover Part II', 'The Outsider',\n",
       "       'The Sopranos', 'The SpongeBob SquarePants Movie', 'Titans',\n",
       "       'Tower Heist', 'True Detective', 'Veep', 'War Dogs', 'Watchmen',\n",
       "       'X-Men: Dark Phoenix', 'Your Highness'], dtype=object)"
      ]
     },
     "execution_count": 21,
     "metadata": {},
     "output_type": "execute_result"
    }
   ],
   "source": [
    "ever_green_titles.sort_values(by = ['title_name']).title_name.unique()"
   ]
  },
  {
   "cell_type": "code",
   "execution_count": 22,
   "id": "a18199ad",
   "metadata": {},
   "outputs": [],
   "source": [
    "ever_green_title_id = ever_green_titles.title_id.unique()"
   ]
  },
  {
   "cell_type": "code",
   "execution_count": 23,
   "id": "148a42e5",
   "metadata": {},
   "outputs": [],
   "source": [
    "norm_title_id = hours_viewed_thresh[~hours_viewed_thresh['title_id'].isin(ever_green_title_id)].title_id.unique()"
   ]
  },
  {
   "cell_type": "markdown",
   "id": "d367dbbd",
   "metadata": {},
   "source": [
    "### 1. Normal Titles"
   ]
  },
  {
   "cell_type": "code",
   "execution_count": 24,
   "id": "4e8d475e",
   "metadata": {},
   "outputs": [],
   "source": [
    "from scipy.optimize import curve_fit"
   ]
  },
  {
   "cell_type": "code",
   "execution_count": 25,
   "id": "53a8488f",
   "metadata": {},
   "outputs": [
    {
     "name": "stderr",
     "output_type": "stream",
     "text": [
      "Matplotlib is building the font cache; this may take a moment.\n"
     ]
    }
   ],
   "source": [
    "import matplotlib.pyplot as plt\n",
    "from matplotlib.pyplot import figure"
   ]
  },
  {
   "cell_type": "code",
   "execution_count": 26,
   "id": "637ce49f",
   "metadata": {},
   "outputs": [
    {
     "name": "stderr",
     "output_type": "stream",
     "text": [
      "/home/ec2-user/anaconda3/envs/python3/lib/python3.6/site-packages/scipy/optimize/minpack.py:829: OptimizeWarning: Covariance of the parameters could not be estimated\n",
      "  category=OptimizeWarning)\n"
     ]
    }
   ],
   "source": [
    "def func(x, a, b, c):\n",
    "    return a * np.exp(-b * x) + c\n",
    "\n",
    "## 90% of the retention value deteriorates in the first year\n",
    "x = [0, 0.8, 5]\n",
    "y = [1, 0.1, 0.0001]\n",
    "\n",
    "popt, pcov = curve_fit(func, x, y)"
   ]
  },
  {
   "cell_type": "code",
   "execution_count": 27,
   "id": "a294067f",
   "metadata": {},
   "outputs": [],
   "source": [
    "x1 = pd.Series(np.arange(0,5,0.1))\n",
    "y1 = func(x1, *popt)"
   ]
  },
  {
   "cell_type": "code",
   "execution_count": 28,
   "id": "cf9d8241",
   "metadata": {},
   "outputs": [
    {
     "data": {
      "image/png": "[encoded data removed]",
      "text/plain": [
       "<Figure size 1296x432 with 1 Axes>"
      ]
     },
     "metadata": {
      "needs_background": "light"
     },
     "output_type": "display_data"
    }
   ],
   "source": [
    "fig, ax = plt.subplots(figsize=(18, 6))\n",
    "plt.plot(x1, y1)\n",
    "plt.show()"
   ]
  },
  {
   "cell_type": "code",
   "execution_count": 29,
   "id": "9b46122a",
   "metadata": {},
   "outputs": [],
   "source": [
    "dt_df = pd.DataFrame()\n",
    "dt_df['days_on_hbo_max'] = [i for i in range(0, 365, 1)]\n",
    "dt_df['factor'] = func(dt_df['days_on_hbo_max']/365, *popt)\n",
    "dt_df['key'] = 1"
   ]
  },
  {
   "cell_type": "code",
   "execution_count": 30,
   "id": "08e1ec45",
   "metadata": {},
   "outputs": [],
   "source": [
    "hours_viewed_decay_norm = hours_viewed_thresh[hours_viewed_thresh['title_id'].isin(norm_title_id)]\n",
    "\n",
    "hours_viewed_decay_norm = hours_viewed_decay_norm.merge(dt_df, on = ['key']).drop(['key'], axis = 1)\n",
    "\n",
    "hours_viewed_decay_norm['change_in_churn'] = hours_viewed_decay_norm['change_in_churn_60d']/60*hours_viewed_decay_norm['factor']\n",
    "\n",
    "hours_viewed_decay_norm['days_on_hbo_max'] = hours_viewed_decay_norm['days_on_hbo_max']+60\n",
    "\n",
    "hours_viewed_decay_norm['request_date'] = pd.to_datetime(hours_viewed_decay_norm['offering_start_date']) \\\n",
    "                                        + pd.to_timedelta(hours_viewed_decay_norm['days_on_hbo_max'], unit='D')\n",
    "\n",
    "hours_viewed_decay_norm = hours_viewed_decay_norm[hours_viewed_decay_norm['request_date'] <= '2023-03-01']\n"
   ]
  },
  {
   "cell_type": "code",
   "execution_count": 31,
   "id": "3c59cc8f",
   "metadata": {},
   "outputs": [
    {
     "data": {
      "image/png": "[encoded data removed]",
      "text/plain": [
       "<Figure size 576x288 with 1 Axes>"
      ]
     },
     "metadata": {
      "needs_background": "light"
     },
     "output_type": "display_data"
    }
   ],
   "source": [
    "fig, ax = plt.subplots(figsize=(8, 4))\n",
    "test = pd.concat([hours_viewed_60d[['title_name', 'title_id', 'season_number', 'request_date', 'days_on_hbo_max', 'change_in_churn']],\n",
    "                hours_viewed_decay_norm[['title_name', 'title_id', 'season_number', 'request_date', 'days_on_hbo_max','change_in_churn']]],\n",
    "                axis = 0)\n",
    "plot_df = test[test['title_name'] == 'And Just Like That...']\n",
    "plt.plot(plot_df['days_on_hbo_max'], plot_df['change_in_churn'], label='And Just Like That...')\n",
    "\n",
    "ax.set_xlabel('days_on_hbo_max')\n",
    "ax.set_ylabel('change_in_churn')\n",
    "ax.legend()\n",
    "\n",
    "plt.show()"
   ]
  },
  {
   "cell_type": "markdown",
   "id": "4da2aa71",
   "metadata": {},
   "source": [
    "### 2. Evergreen Titles"
   ]
  },
  {
   "cell_type": "markdown",
   "id": "7049a204",
   "metadata": {},
   "source": [
    "#### 2.1 Sogmoid Decay"
   ]
  },
  {
   "cell_type": "code",
   "execution_count": 32,
   "id": "75802629",
   "metadata": {},
   "outputs": [
    {
     "name": "stderr",
     "output_type": "stream",
     "text": [
      "/home/ec2-user/anaconda3/envs/python3/lib/python3.6/site-packages/scipy/optimize/minpack.py:829: OptimizeWarning: Covariance of the parameters could not be estimated\n",
      "  category=OptimizeWarning)\n"
     ]
    },
    {
     "data": {
      "image/png": "[encoded data removed]",
      "text/plain": [
       "<Figure size 1296x432 with 1 Axes>"
      ]
     },
     "metadata": {
      "needs_background": "light"
     },
     "output_type": "display_data"
    }
   ],
   "source": [
    "# ## 90% of the retention value is deteriorated in the first year\n",
    "# x = [0, 0.25, 1.5, 3]\n",
    "# y = [1, 0.99, 0.5, 0.001]\n",
    "\n",
    "# def sigmoid(x, L ,x0, k, b):\n",
    "#     y = L / (1 + np.exp(-k*(x-x0))) + b\n",
    "#     return (y)\n",
    "\n",
    "# p0 = [max(y), np.median(x),1,min(y)] # this is an mandatory initial guess\n",
    "\n",
    "# popt, pcov = curve_fit(sigmoid, x, y ,p0, method='dogbox')\n",
    "\n",
    "# x1 = pd.Series(np.arange(0,5,0.1))\n",
    "# y1 = sigmoid(x1, *popt)\n",
    "\n",
    "# fig, ax = plt.subplots(figsize=(18, 6))\n",
    "# plt.plot(x1, y1)\n",
    "# plt.show()"
   ]
  },
  {
   "cell_type": "code",
   "execution_count": 33,
   "id": "1d884521",
   "metadata": {},
   "outputs": [],
   "source": [
    "# dt_df = pd.DataFrame()\n",
    "# dt_df['days_on_hbo_max'] = [i for i in range(0, 365*3, 1)]\n",
    "# dt_df['factor'] = sigmoid(dt_df['days_on_hbo_max']/365, *popt)\n",
    "# dt_df['key'] = 1\n",
    "\n",
    "# hours_viewed_decay_evergreen = hours_viewed_thresh[hours_viewed_thresh['title_id'].isin(ever_green_title_id)]\n",
    "\n",
    "# hours_viewed_decay_evergreen = hours_viewed_decay_evergreen.merge(dt_df, on = ['key']).drop(['key'], axis = 1)\n",
    "\n",
    "# hours_viewed_decay_evergreen['change_in_churn'] = hours_viewed_decay_evergreen['change_in_churn_60d']/60*hours_viewed_decay_evergreen['factor']\n",
    "\n",
    "# hours_viewed_decay_evergreen['days_on_hbo_max'] = hours_viewed_decay_evergreen['days_on_hbo_max']+60\n",
    "\n",
    "# hours_viewed_decay_evergreen['request_date'] = pd.to_datetime(hours_viewed_decay_evergreen['offering_start_date']) \\\n",
    "#                                         + pd.to_timedelta(hours_viewed_decay_evergreen['days_on_hbo_max'], unit='D')\n",
    "\n",
    "# hours_viewed_decay_evergreen = hours_viewed_decay_evergreen[hours_viewed_decay_evergreen['request_date'] <= '2023-03-01']\n"
   ]
  },
  {
   "cell_type": "code",
   "execution_count": 34,
   "id": "f1674677",
   "metadata": {},
   "outputs": [
    {
     "data": {
      "image/png": "[encoded data removed]",
      "text/plain": [
       "<Figure size 576x288 with 1 Axes>"
      ]
     },
     "metadata": {
      "needs_background": "light"
     },
     "output_type": "display_data"
    }
   ],
   "source": [
    "# fig, ax = plt.subplots(figsize=(8, 4))\n",
    "# test = pd.concat([hours_viewed_60d[['title_name', 'title_id', 'season_number', 'request_date', 'days_on_hbo_max', 'change_in_churn']],\n",
    "#                 hours_viewed_decay_evergreen[['title_name', 'title_id', 'season_number', 'request_date', 'days_on_hbo_max', 'change_in_churn']]],\n",
    "#                 axis = 0)\n",
    "\n",
    "\n",
    "# for i in range(1, 11, 1):\n",
    "#     plot_df = test[(test['title_name'] == 'Friends') &(test['season_number'] == i)]\n",
    "#     plt.plot(plot_df['days_on_hbo_max'], plot_df['change_in_churn'], label= 'Friends S' + str(i))\n",
    "\n",
    "# ax.set_xlabel('days_on_hbo_max')\n",
    "# ax.set_ylabel('change_in_churn')\n",
    "# ax.legend()\n",
    "\n",
    "# plt.show()"
   ]
  },
  {
   "cell_type": "markdown",
   "id": "a5015c49",
   "metadata": {},
   "source": [
    "#### 2.2 Keep the retention value all the way along"
   ]
  },
  {
   "cell_type": "code",
   "execution_count": 32,
   "id": "4ff446dd",
   "metadata": {},
   "outputs": [],
   "source": [
    "dt_df = pd.DataFrame()\n",
    "dt_df['days_on_hbo_max'] = [i for i in range(0, 365*3, 1)]\n",
    "dt_df['key'] = 1\n",
    "\n",
    "hours_viewed_decay_evergreen = hours_viewed_thresh[hours_viewed_thresh['title_id'].isin(ever_green_title_id)]\n",
    "\n",
    "hours_viewed_decay_evergreen = hours_viewed_decay_evergreen.merge(dt_df, on = ['key']).drop(['key'], axis = 1)\n",
    "\n",
    "hours_viewed_decay_evergreen['change_in_churn'] = hours_viewed_decay_evergreen['change_in_churn_60d']/60\n",
    "\n",
    "hours_viewed_decay_evergreen['days_on_hbo_max'] = hours_viewed_decay_evergreen['days_on_hbo_max']+60\n",
    "\n",
    "hours_viewed_decay_evergreen['request_date'] = pd.to_datetime(hours_viewed_decay_evergreen['offering_start_date']) \\\n",
    "                                        + pd.to_timedelta(hours_viewed_decay_evergreen['days_on_hbo_max'], unit='D')\n",
    "\n",
    "hours_viewed_decay_evergreen = hours_viewed_decay_evergreen[hours_viewed_decay_evergreen['request_date'] <= '2023-03-01']\n"
   ]
  },
  {
   "cell_type": "code",
   "execution_count": 33,
   "id": "6c3ce863",
   "metadata": {},
   "outputs": [
    {
     "data": {
      "image/png": "[encoded data removed]",
      "text/plain": [
       "<Figure size 576x288 with 1 Axes>"
      ]
     },
     "metadata": {
      "needs_background": "light"
     },
     "output_type": "display_data"
    }
   ],
   "source": [
    "fig, ax = plt.subplots(figsize=(8, 4))\n",
    "test = pd.concat([hours_viewed_60d[['title_name', 'title_id', 'season_number', 'request_date', 'days_on_hbo_max', 'change_in_churn']],\n",
    "                hours_viewed_decay_evergreen[['title_name', 'title_id', 'season_number', 'request_date', 'days_on_hbo_max', 'change_in_churn']]],\n",
    "                axis = 0)\n",
    "\n",
    "\n",
    "for i in range(1, 11, 1):\n",
    "    plot_df = test[(test['title_name'] == 'Friends') &(test['season_number'] == i)]\n",
    "    plt.plot(plot_df['days_on_hbo_max'], plot_df['change_in_churn'], label= 'Friends S' + str(i))\n",
    "\n",
    "ax.set_xlabel('days_on_hbo_max')\n",
    "ax.set_ylabel('change_in_churn')\n",
    "ax.legend()\n",
    "\n",
    "plt.show()"
   ]
  },
  {
   "cell_type": "code",
   "execution_count": 34,
   "id": "2d891346",
   "metadata": {},
   "outputs": [
    {
     "data": {
      "image/png": "[encoded data removed]",
      "text/plain": [
       "<Figure size 576x288 with 1 Axes>"
      ]
     },
     "metadata": {
      "needs_background": "light"
     },
     "output_type": "display_data"
    }
   ],
   "source": [
    "fig, ax = plt.subplots(figsize=(8, 4))\n",
    "test = pd.concat([hours_viewed_60d[['title_name', 'title_id', 'season_number', 'request_date', 'days_on_hbo_max', 'change_in_churn']],\n",
    "                hours_viewed_decay_evergreen[['title_name', 'title_id', 'season_number', 'request_date', 'days_on_hbo_max', 'change_in_churn']]],\n",
    "                axis = 0)\n",
    "\n",
    "\n",
    "for i in range(1, 11, 1):\n",
    "    plot_df = test[(test['title_name'] == 'Game of Thrones') &(test['season_number'] == i)]\n",
    "    plt.plot(plot_df['days_on_hbo_max'], plot_df['change_in_churn'], label= 'Game of Thrones S' + str(i))\n",
    "\n",
    "ax.set_xlabel('days_on_hbo_max')\n",
    "ax.set_ylabel('change_in_churn')\n",
    "ax.legend()\n",
    "\n",
    "plt.show()"
   ]
  },
  {
   "cell_type": "markdown",
   "id": "7b20cbd8",
   "metadata": {},
   "source": [
    "## UNION ALL THE DFs"
   ]
  },
  {
   "cell_type": "code",
   "execution_count": 35,
   "id": "a5ca93b3",
   "metadata": {},
   "outputs": [],
   "source": [
    "data = pd.concat([hours_viewed_60d[['title_name', 'title_id', 'season_number', 'genre', 'medal', 'offering_start_date', 'request_date', 'days_on_hbo_max', 'change_in_churn']],\n",
    "                hours_viewed_decay_norm[['title_name', 'title_id', 'season_number', 'genre', 'medal', 'offering_start_date', 'request_date',  'days_on_hbo_max', 'change_in_churn']],\n",
    "                hours_viewed_decay_evergreen[['title_name', 'title_id', 'season_number', 'genre', 'medal', 'offering_start_date', 'request_date',  'days_on_hbo_max', 'change_in_churn']] ],\n",
    "                axis = 0)"
   ]
  },
  {
   "cell_type": "code",
   "execution_count": 36,
   "id": "5a25e511",
   "metadata": {},
   "outputs": [],
   "source": [
    "data['date_month'] = data['request_date'].dt.to_period('M')"
   ]
  },
  {
   "cell_type": "code",
   "execution_count": 37,
   "id": "50a0247c",
   "metadata": {},
   "outputs": [],
   "source": [
    "# data.groupby(['date_month']).change_in_churn.sum().reset_index().sort_values(by = ['date_month'])"
   ]
  },
  {
   "cell_type": "code",
   "execution_count": 38,
   "id": "873876ff",
   "metadata": {},
   "outputs": [
    {
     "data": {
      "text/html": [
       "<div>\n",
       "<style scoped>\n",
       "    .dataframe tbody tr th:only-of-type {\n",
       "        vertical-align: middle;\n",
       "    }\n",
       "\n",
       "    .dataframe tbody tr th {\n",
       "        vertical-align: top;\n",
       "    }\n",
       "\n",
       "    .dataframe thead th {\n",
       "        text-align: right;\n",
       "    }\n",
       "</style>\n",
       "<table border=\"1\" class=\"dataframe\">\n",
       "  <thead>\n",
       "    <tr style=\"text-align: right;\">\n",
       "      <th></th>\n",
       "      <th>title_name</th>\n",
       "      <th>title_id</th>\n",
       "      <th>season_number</th>\n",
       "      <th>days_on_hbo_max</th>\n",
       "      <th>change_in_churn</th>\n",
       "    </tr>\n",
       "  </thead>\n",
       "  <tbody>\n",
       "    <tr>\n",
       "      <th>104</th>\n",
       "      <td>Harry Potter 20th Anniversary: Return to Hogwarts</td>\n",
       "      <td>GYbzrRAvf-ZPCKQEAAAAX</td>\n",
       "      <td>0</td>\n",
       "      <td>7725</td>\n",
       "      <td>-0.012441</td>\n",
       "    </tr>\n",
       "    <tr>\n",
       "      <th>61</th>\n",
       "      <td>Euphoria</td>\n",
       "      <td>GXKN_xQX5csPDwwEAAABj</td>\n",
       "      <td>2</td>\n",
       "      <td>7455</td>\n",
       "      <td>-0.007225</td>\n",
       "    </tr>\n",
       "    <tr>\n",
       "      <th>70</th>\n",
       "      <td>Free Guy</td>\n",
       "      <td>GYdYmPQZFO7eZGAEAAAAT</td>\n",
       "      <td>0</td>\n",
       "      <td>6135</td>\n",
       "      <td>-0.005727</td>\n",
       "    </tr>\n",
       "    <tr>\n",
       "      <th>110</th>\n",
       "      <td>House of the Dragon</td>\n",
       "      <td>GYsYeoAxKH8LCwgEAAAOR</td>\n",
       "      <td>1</td>\n",
       "      <td>735</td>\n",
       "      <td>-0.004017</td>\n",
       "    </tr>\n",
       "    <tr>\n",
       "      <th>76</th>\n",
       "      <td>Friends</td>\n",
       "      <td>GXdbR_gOXWJuAuwEAACVH</td>\n",
       "      <td>5</td>\n",
       "      <td>25245</td>\n",
       "      <td>-0.003105</td>\n",
       "    </tr>\n",
       "    <tr>\n",
       "      <th>75</th>\n",
       "      <td>Friends</td>\n",
       "      <td>GXdbR_gOXWJuAuwEAACVH</td>\n",
       "      <td>4</td>\n",
       "      <td>25245</td>\n",
       "      <td>-0.003005</td>\n",
       "    </tr>\n",
       "    <tr>\n",
       "      <th>77</th>\n",
       "      <td>Friends</td>\n",
       "      <td>GXdbR_gOXWJuAuwEAACVH</td>\n",
       "      <td>6</td>\n",
       "      <td>25245</td>\n",
       "      <td>-0.002948</td>\n",
       "    </tr>\n",
       "    <tr>\n",
       "      <th>74</th>\n",
       "      <td>Friends</td>\n",
       "      <td>GXdbR_gOXWJuAuwEAACVH</td>\n",
       "      <td>3</td>\n",
       "      <td>25245</td>\n",
       "      <td>-0.002877</td>\n",
       "    </tr>\n",
       "    <tr>\n",
       "      <th>114</th>\n",
       "      <td>Injustice</td>\n",
       "      <td>GYbvoqgoeYawYwwEAAAAN</td>\n",
       "      <td>0</td>\n",
       "      <td>7245</td>\n",
       "      <td>-0.002718</td>\n",
       "    </tr>\n",
       "    <tr>\n",
       "      <th>133</th>\n",
       "      <td>Kong: Skull Island</td>\n",
       "      <td>GX-nzMwc-EaCFpgEAAAMh</td>\n",
       "      <td>0</td>\n",
       "      <td>18675</td>\n",
       "      <td>-0.002690</td>\n",
       "    </tr>\n",
       "    <tr>\n",
       "      <th>131</th>\n",
       "      <td>Kimi</td>\n",
       "      <td>GYeB2LgKJ1cIOjAEAAABQ</td>\n",
       "      <td>0</td>\n",
       "      <td>6525</td>\n",
       "      <td>-0.002680</td>\n",
       "    </tr>\n",
       "    <tr>\n",
       "      <th>78</th>\n",
       "      <td>Friends</td>\n",
       "      <td>GXdbR_gOXWJuAuwEAACVH</td>\n",
       "      <td>7</td>\n",
       "      <td>25245</td>\n",
       "      <td>-0.002636</td>\n",
       "    </tr>\n",
       "    <tr>\n",
       "      <th>73</th>\n",
       "      <td>Friends</td>\n",
       "      <td>GXdbR_gOXWJuAuwEAACVH</td>\n",
       "      <td>2</td>\n",
       "      <td>25245</td>\n",
       "      <td>-0.002629</td>\n",
       "    </tr>\n",
       "    <tr>\n",
       "      <th>79</th>\n",
       "      <td>Friends</td>\n",
       "      <td>GXdbR_gOXWJuAuwEAACVH</td>\n",
       "      <td>8</td>\n",
       "      <td>25245</td>\n",
       "      <td>-0.002369</td>\n",
       "    </tr>\n",
       "    <tr>\n",
       "      <th>220</th>\n",
       "      <td>The Batman</td>\n",
       "      <td>GYiDbSAmIpMNvYAEAAAAI</td>\n",
       "      <td>0</td>\n",
       "      <td>4515</td>\n",
       "      <td>-0.002329</td>\n",
       "    </tr>\n",
       "    <tr>\n",
       "      <th>158</th>\n",
       "      <td>Nobody</td>\n",
       "      <td>GYafcQAb_rbGrOQEAAAAp</td>\n",
       "      <td>0</td>\n",
       "      <td>7125</td>\n",
       "      <td>-0.002206</td>\n",
       "    </tr>\n",
       "    <tr>\n",
       "      <th>72</th>\n",
       "      <td>Friends</td>\n",
       "      <td>GXdbR_gOXWJuAuwEAACVH</td>\n",
       "      <td>1</td>\n",
       "      <td>25245</td>\n",
       "      <td>-0.002168</td>\n",
       "    </tr>\n",
       "    <tr>\n",
       "      <th>248</th>\n",
       "      <td>The King's Man</td>\n",
       "      <td>GYeGXugg4ewPCwgEAABi1</td>\n",
       "      <td>0</td>\n",
       "      <td>6285</td>\n",
       "      <td>-0.002057</td>\n",
       "    </tr>\n",
       "    <tr>\n",
       "      <th>80</th>\n",
       "      <td>Friends</td>\n",
       "      <td>GXdbR_gOXWJuAuwEAACVH</td>\n",
       "      <td>9</td>\n",
       "      <td>25245</td>\n",
       "      <td>-0.001984</td>\n",
       "    </tr>\n",
       "    <tr>\n",
       "      <th>293</th>\n",
       "      <td>Westworld</td>\n",
       "      <td>GV7xwpQNK8MJfPwEAAAG_</td>\n",
       "      <td>4</td>\n",
       "      <td>2415</td>\n",
       "      <td>-0.001758</td>\n",
       "    </tr>\n",
       "  </tbody>\n",
       "</table>\n",
       "</div>"
      ],
      "text/plain": [
       "                                            title_name               title_id  \\\n",
       "104  Harry Potter 20th Anniversary: Return to Hogwarts  GYbzrRAvf-ZPCKQEAAAAX   \n",
       "61                                            Euphoria  GXKN_xQX5csPDwwEAAABj   \n",
       "70                                            Free Guy  GYdYmPQZFO7eZGAEAAAAT   \n",
       "110                                House of the Dragon  GYsYeoAxKH8LCwgEAAAOR   \n",
       "76                                             Friends  GXdbR_gOXWJuAuwEAACVH   \n",
       "75                                             Friends  GXdbR_gOXWJuAuwEAACVH   \n",
       "77                                             Friends  GXdbR_gOXWJuAuwEAACVH   \n",
       "74                                             Friends  GXdbR_gOXWJuAuwEAACVH   \n",
       "114                                          Injustice  GYbvoqgoeYawYwwEAAAAN   \n",
       "133                                 Kong: Skull Island  GX-nzMwc-EaCFpgEAAAMh   \n",
       "131                                               Kimi  GYeB2LgKJ1cIOjAEAAABQ   \n",
       "78                                             Friends  GXdbR_gOXWJuAuwEAACVH   \n",
       "73                                             Friends  GXdbR_gOXWJuAuwEAACVH   \n",
       "79                                             Friends  GXdbR_gOXWJuAuwEAACVH   \n",
       "220                                         The Batman  GYiDbSAmIpMNvYAEAAAAI   \n",
       "158                                             Nobody  GYafcQAb_rbGrOQEAAAAp   \n",
       "72                                             Friends  GXdbR_gOXWJuAuwEAACVH   \n",
       "248                                     The King's Man  GYeGXugg4ewPCwgEAABi1   \n",
       "80                                             Friends  GXdbR_gOXWJuAuwEAACVH   \n",
       "293                                          Westworld  GV7xwpQNK8MJfPwEAAAG_   \n",
       "\n",
       "     season_number  days_on_hbo_max  change_in_churn  \n",
       "104              0             7725        -0.012441  \n",
       "61               2             7455        -0.007225  \n",
       "70               0             6135        -0.005727  \n",
       "110              1              735        -0.004017  \n",
       "76               5            25245        -0.003105  \n",
       "75               4            25245        -0.003005  \n",
       "77               6            25245        -0.002948  \n",
       "74               3            25245        -0.002877  \n",
       "114              0             7245        -0.002718  \n",
       "133              0            18675        -0.002690  \n",
       "131              0             6525        -0.002680  \n",
       "78               7            25245        -0.002636  \n",
       "73               2            25245        -0.002629  \n",
       "79               8            25245        -0.002369  \n",
       "220              0             4515        -0.002329  \n",
       "158              0             7125        -0.002206  \n",
       "72               1            25245        -0.002168  \n",
       "248              0             6285        -0.002057  \n",
       "80               9            25245        -0.001984  \n",
       "293              4             2415        -0.001758  "
      ]
     },
     "execution_count": 38,
     "metadata": {},
     "output_type": "execute_result"
    }
   ],
   "source": [
    "data[data['date_month'] == '2022-09'].groupby(['title_name', 'title_id', 'season_number']).sum().reset_index()\\\n",
    ".sort_values(by = ['change_in_churn']).head(20)"
   ]
  },
  {
   "cell_type": "code",
   "execution_count": 39,
   "id": "e9600270",
   "metadata": {},
   "outputs": [],
   "source": [
    "# data[(data['request_date'] == '2023-03-01')\n",
    "#     &(data['title_name'] == 'Friends')].sort_values(by = ['change_in_churn']).head(20)"
   ]
  },
  {
   "cell_type": "markdown",
   "id": "a5a30d0d",
   "metadata": {},
   "source": [
    "# Correlation with Change in Churn"
   ]
  },
  {
   "cell_type": "markdown",
   "id": "77dae91d",
   "metadata": {},
   "source": [
    "## 1. Correlation with Churn itself"
   ]
  },
  {
   "cell_type": "code",
   "execution_count": 41,
   "id": "370b2c22",
   "metadata": {},
   "outputs": [],
   "source": [
    "churn_genpop = run_query('''\n",
    "select\n",
    "     dt.start_date as date_month,\n",
    "    COUNT(DISTINCT CASE WHEN is_cancel = TRUE THEN up.hbo_uuid ELSE NULL END) as churns,\n",
    "    COUNT(DISTINCT up.hbo_uuid) as total_subs,\n",
    "    churns/total_subs as churn_rate\n",
    "from MAX_PROD.CONTENT_ANALYTICS.CALENDAR_DATE_TRACKER dt\n",
    "JOIN max_prod.identity.user_profile_dim_current up \n",
    "JOIN max_dev.workspace.user_retain_churn_list_test as c \n",
    "    on c.hurley_user_id = up.hurley_user_id\n",
    "    and c.cycle_expire_date BETWEEN START_DATE and END_DATE\n",
    "WHERE 1=1\n",
    "AND up.is_primary_profile=1\n",
    "AND dt.end_date = DATEADD('DAY', -1, (DATEADD('MONTH', 1, dt.start_date)))\n",
    "AND dt.start_date = DATE_TRUNC('MONTH', dt.start_date)\n",
    "and dt.start_date < '2023-03-01'\n",
    "and SUB_MONTH <=24\n",
    "and SUB_MONTH >1\n",
    "group by 1\n",
    "order by 1\n",
    "''')"
   ]
  },
  {
   "cell_type": "code",
   "execution_count": 42,
   "id": "544a0a5a",
   "metadata": {},
   "outputs": [],
   "source": [
    "churn_genpop_tenure = run_query('''\n",
    "select\n",
    "     dt.start_date as date_month, sub_month as tenure,\n",
    "    COUNT(DISTINCT CASE WHEN is_cancel = TRUE THEN up.hbo_uuid ELSE NULL END) as churns,\n",
    "    COUNT(DISTINCT up.hbo_uuid) as total_subs,\n",
    "    churns/total_subs as churn_rate\n",
    "from MAX_PROD.CONTENT_ANALYTICS.CALENDAR_DATE_TRACKER dt\n",
    "JOIN max_prod.identity.user_profile_dim_current up \n",
    "JOIN max_dev.workspace.user_retain_churn_list_test as c \n",
    "    on c.hurley_user_id = up.hurley_user_id\n",
    "    and c.cycle_expire_date BETWEEN START_DATE and END_DATE\n",
    "WHERE 1=1\n",
    "AND up.is_primary_profile=1\n",
    "AND dt.end_date = DATEADD('DAY', -1, (DATEADD('MONTH', 1, dt.start_date)))\n",
    "AND dt.start_date = DATE_TRUNC('MONTH', dt.start_date)\n",
    "and dt.start_date < '2023-03-01'\n",
    "and SUB_MONTH <=24\n",
    "group by 1, 2\n",
    "order by 1, 2\n",
    "''')"
   ]
  },
  {
   "cell_type": "code",
   "execution_count": 43,
   "id": "8096267e",
   "metadata": {},
   "outputs": [],
   "source": [
    "churn_exclude_t1 = run_query('''\n",
    "select\n",
    "     dt.start_date as date_month,\n",
    "    COUNT(DISTINCT CASE WHEN is_cancel = TRUE THEN up.hbo_uuid ELSE NULL END) as churns,\n",
    "    COUNT(DISTINCT up.hbo_uuid) as total_subs,\n",
    "    churns/total_subs as churn_rate\n",
    "from MAX_PROD.CONTENT_ANALYTICS.CALENDAR_DATE_TRACKER dt\n",
    "JOIN max_prod.identity.user_profile_dim_current up \n",
    "JOIN max_dev.workspace.user_retain_churn_list_test as c \n",
    "    on c.hurley_user_id = up.hurley_user_id\n",
    "    and c.cycle_expire_date BETWEEN START_DATE and END_DATE\n",
    "WHERE 1=1\n",
    "AND up.is_primary_profile=1\n",
    "AND dt.end_date = DATEADD('DAY', -1, (DATEADD('MONTH', 1, dt.start_date)))\n",
    "AND dt.start_date = DATE_TRUNC('MONTH', dt.start_date)\n",
    "and dt.start_date < '2023-03-01'\n",
    "AND SUB_MONTH > 1\n",
    "group by 1\n",
    "order by 1\n",
    "''')"
   ]
  },
  {
   "cell_type": "code",
   "execution_count": 44,
   "id": "abe8348b",
   "metadata": {},
   "outputs": [
    {
     "data": {
      "text/html": [
       "<div>\n",
       "<style scoped>\n",
       "    .dataframe tbody tr th:only-of-type {\n",
       "        vertical-align: middle;\n",
       "    }\n",
       "\n",
       "    .dataframe tbody tr th {\n",
       "        vertical-align: top;\n",
       "    }\n",
       "\n",
       "    .dataframe thead th {\n",
       "        text-align: right;\n",
       "    }\n",
       "</style>\n",
       "<table border=\"1\" class=\"dataframe\">\n",
       "  <thead>\n",
       "    <tr style=\"text-align: right;\">\n",
       "      <th></th>\n",
       "      <th>date_month</th>\n",
       "      <th>churns</th>\n",
       "      <th>total_subs</th>\n",
       "      <th>churn_rate</th>\n",
       "    </tr>\n",
       "  </thead>\n",
       "  <tbody>\n",
       "    <tr>\n",
       "      <th>0</th>\n",
       "      <td>2020-06-01</td>\n",
       "      <td>9</td>\n",
       "      <td>84</td>\n",
       "      <td>0.107143</td>\n",
       "    </tr>\n",
       "    <tr>\n",
       "      <th>1</th>\n",
       "      <td>2020-07-01</td>\n",
       "      <td>2125</td>\n",
       "      <td>31493</td>\n",
       "      <td>0.067475</td>\n",
       "    </tr>\n",
       "    <tr>\n",
       "      <th>2</th>\n",
       "      <td>2020-08-01</td>\n",
       "      <td>77090</td>\n",
       "      <td>794407</td>\n",
       "      <td>0.097041</td>\n",
       "    </tr>\n",
       "    <tr>\n",
       "      <th>3</th>\n",
       "      <td>2020-09-01</td>\n",
       "      <td>92234</td>\n",
       "      <td>1014273</td>\n",
       "      <td>0.090936</td>\n",
       "    </tr>\n",
       "    <tr>\n",
       "      <th>4</th>\n",
       "      <td>2020-10-01</td>\n",
       "      <td>107861</td>\n",
       "      <td>1230141</td>\n",
       "      <td>0.087682</td>\n",
       "    </tr>\n",
       "  </tbody>\n",
       "</table>\n",
       "</div>"
      ],
      "text/plain": [
       "   date_month  churns  total_subs churn_rate\n",
       "0  2020-06-01       9          84   0.107143\n",
       "1  2020-07-01    2125       31493   0.067475\n",
       "2  2020-08-01   77090      794407   0.097041\n",
       "3  2020-09-01   92234     1014273   0.090936\n",
       "4  2020-10-01  107861     1230141   0.087682"
      ]
     },
     "execution_count": 44,
     "metadata": {},
     "output_type": "execute_result"
    }
   ],
   "source": [
    "churn_genpop.head()"
   ]
  },
  {
   "cell_type": "code",
   "execution_count": 45,
   "id": "4a3df1e9",
   "metadata": {},
   "outputs": [
    {
     "data": {
      "text/html": [
       "<div>\n",
       "<style scoped>\n",
       "    .dataframe tbody tr th:only-of-type {\n",
       "        vertical-align: middle;\n",
       "    }\n",
       "\n",
       "    .dataframe tbody tr th {\n",
       "        vertical-align: top;\n",
       "    }\n",
       "\n",
       "    .dataframe thead th {\n",
       "        text-align: right;\n",
       "    }\n",
       "</style>\n",
       "<table border=\"1\" class=\"dataframe\">\n",
       "  <thead>\n",
       "    <tr style=\"text-align: right;\">\n",
       "      <th></th>\n",
       "      <th>date_month</th>\n",
       "      <th>tenure</th>\n",
       "      <th>churns</th>\n",
       "      <th>total_subs</th>\n",
       "      <th>churn_rate</th>\n",
       "    </tr>\n",
       "  </thead>\n",
       "  <tbody>\n",
       "    <tr>\n",
       "      <th>694</th>\n",
       "      <td>2023-02-01</td>\n",
       "      <td>1</td>\n",
       "      <td>136192</td>\n",
       "      <td>638817</td>\n",
       "      <td>0.213194</td>\n",
       "    </tr>\n",
       "    <tr>\n",
       "      <th>695</th>\n",
       "      <td>2023-02-01</td>\n",
       "      <td>2</td>\n",
       "      <td>70790</td>\n",
       "      <td>443055</td>\n",
       "      <td>0.159777</td>\n",
       "    </tr>\n",
       "    <tr>\n",
       "      <th>696</th>\n",
       "      <td>2023-02-01</td>\n",
       "      <td>3</td>\n",
       "      <td>40838</td>\n",
       "      <td>317982</td>\n",
       "      <td>0.128429</td>\n",
       "    </tr>\n",
       "    <tr>\n",
       "      <th>697</th>\n",
       "      <td>2023-02-01</td>\n",
       "      <td>4</td>\n",
       "      <td>29389</td>\n",
       "      <td>258151</td>\n",
       "      <td>0.113844</td>\n",
       "    </tr>\n",
       "    <tr>\n",
       "      <th>698</th>\n",
       "      <td>2023-02-01</td>\n",
       "      <td>5</td>\n",
       "      <td>31783</td>\n",
       "      <td>311660</td>\n",
       "      <td>0.101980</td>\n",
       "    </tr>\n",
       "    <tr>\n",
       "      <th>699</th>\n",
       "      <td>2023-02-01</td>\n",
       "      <td>6</td>\n",
       "      <td>30715</td>\n",
       "      <td>361030</td>\n",
       "      <td>0.085076</td>\n",
       "    </tr>\n",
       "    <tr>\n",
       "      <th>700</th>\n",
       "      <td>2023-02-01</td>\n",
       "      <td>7</td>\n",
       "      <td>14550</td>\n",
       "      <td>188747</td>\n",
       "      <td>0.077087</td>\n",
       "    </tr>\n",
       "    <tr>\n",
       "      <th>701</th>\n",
       "      <td>2023-02-01</td>\n",
       "      <td>8</td>\n",
       "      <td>12738</td>\n",
       "      <td>175350</td>\n",
       "      <td>0.072643</td>\n",
       "    </tr>\n",
       "    <tr>\n",
       "      <th>702</th>\n",
       "      <td>2023-02-01</td>\n",
       "      <td>9</td>\n",
       "      <td>11868</td>\n",
       "      <td>174699</td>\n",
       "      <td>0.067934</td>\n",
       "    </tr>\n",
       "    <tr>\n",
       "      <th>703</th>\n",
       "      <td>2023-02-01</td>\n",
       "      <td>10</td>\n",
       "      <td>12831</td>\n",
       "      <td>200222</td>\n",
       "      <td>0.064084</td>\n",
       "    </tr>\n",
       "    <tr>\n",
       "      <th>704</th>\n",
       "      <td>2023-02-01</td>\n",
       "      <td>11</td>\n",
       "      <td>10155</td>\n",
       "      <td>172048</td>\n",
       "      <td>0.059024</td>\n",
       "    </tr>\n",
       "    <tr>\n",
       "      <th>705</th>\n",
       "      <td>2023-02-01</td>\n",
       "      <td>12</td>\n",
       "      <td>13467</td>\n",
       "      <td>228208</td>\n",
       "      <td>0.059012</td>\n",
       "    </tr>\n",
       "    <tr>\n",
       "      <th>706</th>\n",
       "      <td>2023-02-01</td>\n",
       "      <td>13</td>\n",
       "      <td>24219</td>\n",
       "      <td>437007</td>\n",
       "      <td>0.055420</td>\n",
       "    </tr>\n",
       "    <tr>\n",
       "      <th>707</th>\n",
       "      <td>2023-02-01</td>\n",
       "      <td>14</td>\n",
       "      <td>16664</td>\n",
       "      <td>332450</td>\n",
       "      <td>0.050125</td>\n",
       "    </tr>\n",
       "    <tr>\n",
       "      <th>708</th>\n",
       "      <td>2023-02-01</td>\n",
       "      <td>15</td>\n",
       "      <td>9298</td>\n",
       "      <td>199868</td>\n",
       "      <td>0.046521</td>\n",
       "    </tr>\n",
       "    <tr>\n",
       "      <th>709</th>\n",
       "      <td>2023-02-01</td>\n",
       "      <td>16</td>\n",
       "      <td>10728</td>\n",
       "      <td>255064</td>\n",
       "      <td>0.042060</td>\n",
       "    </tr>\n",
       "    <tr>\n",
       "      <th>710</th>\n",
       "      <td>2023-02-01</td>\n",
       "      <td>17</td>\n",
       "      <td>15629</td>\n",
       "      <td>429801</td>\n",
       "      <td>0.036363</td>\n",
       "    </tr>\n",
       "    <tr>\n",
       "      <th>711</th>\n",
       "      <td>2023-02-01</td>\n",
       "      <td>18</td>\n",
       "      <td>9365</td>\n",
       "      <td>208451</td>\n",
       "      <td>0.044927</td>\n",
       "    </tr>\n",
       "    <tr>\n",
       "      <th>712</th>\n",
       "      <td>2023-02-01</td>\n",
       "      <td>19</td>\n",
       "      <td>7697</td>\n",
       "      <td>176018</td>\n",
       "      <td>0.043728</td>\n",
       "    </tr>\n",
       "    <tr>\n",
       "      <th>713</th>\n",
       "      <td>2023-02-01</td>\n",
       "      <td>20</td>\n",
       "      <td>10855</td>\n",
       "      <td>296931</td>\n",
       "      <td>0.036557</td>\n",
       "    </tr>\n",
       "    <tr>\n",
       "      <th>714</th>\n",
       "      <td>2023-02-01</td>\n",
       "      <td>21</td>\n",
       "      <td>8756</td>\n",
       "      <td>228956</td>\n",
       "      <td>0.038243</td>\n",
       "    </tr>\n",
       "    <tr>\n",
       "      <th>715</th>\n",
       "      <td>2023-02-01</td>\n",
       "      <td>22</td>\n",
       "      <td>21800</td>\n",
       "      <td>517513</td>\n",
       "      <td>0.042125</td>\n",
       "    </tr>\n",
       "    <tr>\n",
       "      <th>716</th>\n",
       "      <td>2023-02-01</td>\n",
       "      <td>23</td>\n",
       "      <td>12234</td>\n",
       "      <td>356135</td>\n",
       "      <td>0.034352</td>\n",
       "    </tr>\n",
       "    <tr>\n",
       "      <th>717</th>\n",
       "      <td>2023-02-01</td>\n",
       "      <td>24</td>\n",
       "      <td>9297</td>\n",
       "      <td>273640</td>\n",
       "      <td>0.033975</td>\n",
       "    </tr>\n",
       "  </tbody>\n",
       "</table>\n",
       "</div>"
      ],
      "text/plain": [
       "     date_month  tenure  churns  total_subs churn_rate\n",
       "694  2023-02-01       1  136192      638817   0.213194\n",
       "695  2023-02-01       2   70790      443055   0.159777\n",
       "696  2023-02-01       3   40838      317982   0.128429\n",
       "697  2023-02-01       4   29389      258151   0.113844\n",
       "698  2023-02-01       5   31783      311660   0.101980\n",
       "699  2023-02-01       6   30715      361030   0.085076\n",
       "700  2023-02-01       7   14550      188747   0.077087\n",
       "701  2023-02-01       8   12738      175350   0.072643\n",
       "702  2023-02-01       9   11868      174699   0.067934\n",
       "703  2023-02-01      10   12831      200222   0.064084\n",
       "704  2023-02-01      11   10155      172048   0.059024\n",
       "705  2023-02-01      12   13467      228208   0.059012\n",
       "706  2023-02-01      13   24219      437007   0.055420\n",
       "707  2023-02-01      14   16664      332450   0.050125\n",
       "708  2023-02-01      15    9298      199868   0.046521\n",
       "709  2023-02-01      16   10728      255064   0.042060\n",
       "710  2023-02-01      17   15629      429801   0.036363\n",
       "711  2023-02-01      18    9365      208451   0.044927\n",
       "712  2023-02-01      19    7697      176018   0.043728\n",
       "713  2023-02-01      20   10855      296931   0.036557\n",
       "714  2023-02-01      21    8756      228956   0.038243\n",
       "715  2023-02-01      22   21800      517513   0.042125\n",
       "716  2023-02-01      23   12234      356135   0.034352\n",
       "717  2023-02-01      24    9297      273640   0.033975"
      ]
     },
     "execution_count": 45,
     "metadata": {},
     "output_type": "execute_result"
    }
   ],
   "source": [
    "churn_genpop_tenure[churn_genpop_tenure['date_month'].astype(str) == '2023-02-01']"
   ]
  },
  {
   "cell_type": "code",
   "execution_count": 46,
   "id": "807fa47e",
   "metadata": {},
   "outputs": [],
   "source": [
    "aggregated_churn = data.groupby(['date_month'])['change_in_churn'].sum().reset_index()\n",
    "aggregated_churn['date_month'] = aggregated_churn['date_month'].dt.to_timestamp().dt.strftime('%Y-%m-%d')"
   ]
  },
  {
   "cell_type": "code",
   "execution_count": 57,
   "id": "64d5f85d",
   "metadata": {},
   "outputs": [
    {
     "data": {
      "text/html": [
       "<div>\n",
       "<style scoped>\n",
       "    .dataframe tbody tr th:only-of-type {\n",
       "        vertical-align: middle;\n",
       "    }\n",
       "\n",
       "    .dataframe tbody tr th {\n",
       "        vertical-align: top;\n",
       "    }\n",
       "\n",
       "    .dataframe thead th {\n",
       "        text-align: right;\n",
       "    }\n",
       "</style>\n",
       "<table border=\"1\" class=\"dataframe\">\n",
       "  <thead>\n",
       "    <tr style=\"text-align: right;\">\n",
       "      <th></th>\n",
       "      <th>date_month</th>\n",
       "      <th>change_in_churn</th>\n",
       "    </tr>\n",
       "  </thead>\n",
       "  <tbody>\n",
       "    <tr>\n",
       "      <th>20</th>\n",
       "      <td>2022-01-01</td>\n",
       "      <td>-0.205097</td>\n",
       "    </tr>\n",
       "    <tr>\n",
       "      <th>21</th>\n",
       "      <td>2022-02-01</td>\n",
       "      <td>-0.221712</td>\n",
       "    </tr>\n",
       "    <tr>\n",
       "      <th>22</th>\n",
       "      <td>2022-03-01</td>\n",
       "      <td>-0.262035</td>\n",
       "    </tr>\n",
       "    <tr>\n",
       "      <th>23</th>\n",
       "      <td>2022-04-01</td>\n",
       "      <td>-0.229062</td>\n",
       "    </tr>\n",
       "    <tr>\n",
       "      <th>24</th>\n",
       "      <td>2022-05-01</td>\n",
       "      <td>-0.210834</td>\n",
       "    </tr>\n",
       "  </tbody>\n",
       "</table>\n",
       "</div>"
      ],
      "text/plain": [
       "    date_month  change_in_churn\n",
       "20  2022-01-01        -0.205097\n",
       "21  2022-02-01        -0.221712\n",
       "22  2022-03-01        -0.262035\n",
       "23  2022-04-01        -0.229062\n",
       "24  2022-05-01        -0.210834"
      ]
     },
     "execution_count": 57,
     "metadata": {},
     "output_type": "execute_result"
    }
   ],
   "source": [
    "aggregated_churn.head()"
   ]
  },
  {
   "cell_type": "code",
   "execution_count": 56,
   "id": "db46f2c2",
   "metadata": {},
   "outputs": [],
   "source": [
    "### \n",
    "aggregated_churn = aggregated_churn[aggregated_churn['date_month']>='2022-01-01']"
   ]
  },
  {
   "cell_type": "code",
   "execution_count": 58,
   "id": "c7e6300b",
   "metadata": {},
   "outputs": [],
   "source": [
    "churn_genpop_tenure_pivot = pd.pivot_table(churn_genpop_tenure, values='churn_rate', index=['date_month'],\n",
    "                       columns=['tenure'], fill_value=0, aggfunc='first').reset_index()"
   ]
  },
  {
   "cell_type": "code",
   "execution_count": 59,
   "id": "d7ed25de",
   "metadata": {},
   "outputs": [],
   "source": [
    "churn_all = churn_genpop_tenure_pivot.merge(churn_genpop[['date_month', 'churn_rate']].rename(columns = {'churn_rate':'genpop_churn'}),\n",
    "                                           on = ['date_month'])\\\n",
    "                                    .merge(churn_exclude_t1[['date_month', 'churn_rate']].rename(columns = {'churn_rate':'churn_exclude_t1'}),\n",
    "                                          on = ['date_month'])"
   ]
  },
  {
   "cell_type": "code",
   "execution_count": 60,
   "id": "7d0a1db4",
   "metadata": {},
   "outputs": [],
   "source": [
    "churn_all['date_month'] = churn_all['date_month'].astype(str)"
   ]
  },
  {
   "cell_type": "code",
   "execution_count": 61,
   "id": "beb1152d",
   "metadata": {},
   "outputs": [],
   "source": [
    "churn_all = churn_all.merge(aggregated_churn, on = ['date_month'])"
   ]
  },
  {
   "cell_type": "code",
   "execution_count": 62,
   "id": "4fbfb653",
   "metadata": {},
   "outputs": [
    {
     "data": {
      "text/html": [
       "<div>\n",
       "<style scoped>\n",
       "    .dataframe tbody tr th:only-of-type {\n",
       "        vertical-align: middle;\n",
       "    }\n",
       "\n",
       "    .dataframe tbody tr th {\n",
       "        vertical-align: top;\n",
       "    }\n",
       "\n",
       "    .dataframe thead th {\n",
       "        text-align: right;\n",
       "    }\n",
       "</style>\n",
       "<table border=\"1\" class=\"dataframe\">\n",
       "  <thead>\n",
       "    <tr style=\"text-align: right;\">\n",
       "      <th></th>\n",
       "      <th>date_month</th>\n",
       "      <th>1</th>\n",
       "      <th>2</th>\n",
       "      <th>3</th>\n",
       "      <th>4</th>\n",
       "      <th>5</th>\n",
       "      <th>6</th>\n",
       "      <th>7</th>\n",
       "      <th>8</th>\n",
       "      <th>9</th>\n",
       "      <th>...</th>\n",
       "      <th>18</th>\n",
       "      <th>19</th>\n",
       "      <th>20</th>\n",
       "      <th>21</th>\n",
       "      <th>22</th>\n",
       "      <th>23</th>\n",
       "      <th>24</th>\n",
       "      <th>genpop_churn</th>\n",
       "      <th>churn_exclude_t1</th>\n",
       "      <th>change_in_churn</th>\n",
       "    </tr>\n",
       "  </thead>\n",
       "  <tbody>\n",
       "    <tr>\n",
       "      <th>0</th>\n",
       "      <td>2022-01-01</td>\n",
       "      <td>0.246877</td>\n",
       "      <td>0.153950</td>\n",
       "      <td>0.116810</td>\n",
       "      <td>0.070083</td>\n",
       "      <td>0.096157</td>\n",
       "      <td>0.090982</td>\n",
       "      <td>0.065835</td>\n",
       "      <td>0.061977</td>\n",
       "      <td>0.065632</td>\n",
       "      <td>...</td>\n",
       "      <td>0.022597</td>\n",
       "      <td>0.017149</td>\n",
       "      <td>0.018279</td>\n",
       "      <td>0.043137</td>\n",
       "      <td>0.045375</td>\n",
       "      <td>0.038674</td>\n",
       "      <td>0.031128</td>\n",
       "      <td>0.063140</td>\n",
       "      <td>0.063128</td>\n",
       "      <td>-0.205097</td>\n",
       "    </tr>\n",
       "    <tr>\n",
       "      <th>1</th>\n",
       "      <td>2022-02-01</td>\n",
       "      <td>0.193788</td>\n",
       "      <td>0.145940</td>\n",
       "      <td>0.113014</td>\n",
       "      <td>0.091689</td>\n",
       "      <td>0.057784</td>\n",
       "      <td>0.080081</td>\n",
       "      <td>0.076978</td>\n",
       "      <td>0.059083</td>\n",
       "      <td>0.058303</td>\n",
       "      <td>...</td>\n",
       "      <td>0.028064</td>\n",
       "      <td>0.028685</td>\n",
       "      <td>0.025247</td>\n",
       "      <td>0.022683</td>\n",
       "      <td>0.032904</td>\n",
       "      <td>0.043210</td>\n",
       "      <td>0.029851</td>\n",
       "      <td>0.063184</td>\n",
       "      <td>0.063168</td>\n",
       "      <td>-0.221712</td>\n",
       "    </tr>\n",
       "    <tr>\n",
       "      <th>2</th>\n",
       "      <td>2022-03-01</td>\n",
       "      <td>0.247388</td>\n",
       "      <td>0.149733</td>\n",
       "      <td>0.118082</td>\n",
       "      <td>0.092952</td>\n",
       "      <td>0.077830</td>\n",
       "      <td>0.058313</td>\n",
       "      <td>0.069130</td>\n",
       "      <td>0.067989</td>\n",
       "      <td>0.050013</td>\n",
       "      <td>...</td>\n",
       "      <td>0.025607</td>\n",
       "      <td>0.023833</td>\n",
       "      <td>0.020620</td>\n",
       "      <td>0.015801</td>\n",
       "      <td>0.017527</td>\n",
       "      <td>0.030667</td>\n",
       "      <td>0.025735</td>\n",
       "      <td>0.063757</td>\n",
       "      <td>0.063743</td>\n",
       "      <td>-0.262035</td>\n",
       "    </tr>\n",
       "    <tr>\n",
       "      <th>3</th>\n",
       "      <td>2022-04-01</td>\n",
       "      <td>0.251883</td>\n",
       "      <td>0.177070</td>\n",
       "      <td>0.120366</td>\n",
       "      <td>0.104576</td>\n",
       "      <td>0.085535</td>\n",
       "      <td>0.071325</td>\n",
       "      <td>0.049767</td>\n",
       "      <td>0.067125</td>\n",
       "      <td>0.064703</td>\n",
       "      <td>...</td>\n",
       "      <td>0.030525</td>\n",
       "      <td>0.026052</td>\n",
       "      <td>0.023691</td>\n",
       "      <td>0.020682</td>\n",
       "      <td>0.015332</td>\n",
       "      <td>0.016283</td>\n",
       "      <td>0.027510</td>\n",
       "      <td>0.063942</td>\n",
       "      <td>0.063927</td>\n",
       "      <td>-0.229062</td>\n",
       "    </tr>\n",
       "    <tr>\n",
       "      <th>4</th>\n",
       "      <td>2022-05-01</td>\n",
       "      <td>0.250285</td>\n",
       "      <td>0.160922</td>\n",
       "      <td>0.131262</td>\n",
       "      <td>0.095022</td>\n",
       "      <td>0.085187</td>\n",
       "      <td>0.072601</td>\n",
       "      <td>0.062594</td>\n",
       "      <td>0.042802</td>\n",
       "      <td>0.060010</td>\n",
       "      <td>...</td>\n",
       "      <td>0.027141</td>\n",
       "      <td>0.029339</td>\n",
       "      <td>0.024367</td>\n",
       "      <td>0.021946</td>\n",
       "      <td>0.018843</td>\n",
       "      <td>0.014729</td>\n",
       "      <td>0.016480</td>\n",
       "      <td>0.057086</td>\n",
       "      <td>0.057072</td>\n",
       "      <td>-0.210834</td>\n",
       "    </tr>\n",
       "  </tbody>\n",
       "</table>\n",
       "<p>5 rows × 28 columns</p>\n",
       "</div>"
      ],
      "text/plain": [
       "   date_month         1         2         3         4         5         6  \\\n",
       "0  2022-01-01  0.246877  0.153950  0.116810  0.070083  0.096157  0.090982   \n",
       "1  2022-02-01  0.193788  0.145940  0.113014  0.091689  0.057784  0.080081   \n",
       "2  2022-03-01  0.247388  0.149733  0.118082  0.092952  0.077830  0.058313   \n",
       "3  2022-04-01  0.251883  0.177070  0.120366  0.104576  0.085535  0.071325   \n",
       "4  2022-05-01  0.250285  0.160922  0.131262  0.095022  0.085187  0.072601   \n",
       "\n",
       "          7         8         9  ...        18        19        20        21  \\\n",
       "0  0.065835  0.061977  0.065632  ...  0.022597  0.017149  0.018279  0.043137   \n",
       "1  0.076978  0.059083  0.058303  ...  0.028064  0.028685  0.025247  0.022683   \n",
       "2  0.069130  0.067989  0.050013  ...  0.025607  0.023833  0.020620  0.015801   \n",
       "3  0.049767  0.067125  0.064703  ...  0.030525  0.026052  0.023691  0.020682   \n",
       "4  0.062594  0.042802  0.060010  ...  0.027141  0.029339  0.024367  0.021946   \n",
       "\n",
       "         22        23        24 genpop_churn churn_exclude_t1 change_in_churn  \n",
       "0  0.045375  0.038674  0.031128     0.063140         0.063128       -0.205097  \n",
       "1  0.032904  0.043210  0.029851     0.063184         0.063168       -0.221712  \n",
       "2  0.017527  0.030667  0.025735     0.063757         0.063743       -0.262035  \n",
       "3  0.015332  0.016283  0.027510     0.063942         0.063927       -0.229062  \n",
       "4  0.018843  0.014729  0.016480     0.057086         0.057072       -0.210834  \n",
       "\n",
       "[5 rows x 28 columns]"
      ]
     },
     "execution_count": 62,
     "metadata": {},
     "output_type": "execute_result"
    }
   ],
   "source": [
    "churn_all.head()"
   ]
  },
  {
   "cell_type": "code",
   "execution_count": 63,
   "id": "3123f4be",
   "metadata": {},
   "outputs": [],
   "source": [
    "TARGET_COL = ['change_in_churn']\n",
    "FEATURE_COLS = [i for i in range(1, 25)]+['genpop_churn', 'churn_exclude_t1']"
   ]
  },
  {
   "cell_type": "code",
   "execution_count": 64,
   "id": "013efdb8",
   "metadata": {},
   "outputs": [],
   "source": [
    "for i in FEATURE_COLS:\n",
    "    churn_all[i] = churn_all[i].astype(float)"
   ]
  },
  {
   "cell_type": "code",
   "execution_count": 65,
   "id": "83359cdb",
   "metadata": {},
   "outputs": [],
   "source": [
    "import matplotlib.pyplot as plt \n",
    "import seaborn as sns"
   ]
  },
  {
   "cell_type": "code",
   "execution_count": 66,
   "id": "7ab8d59a",
   "metadata": {},
   "outputs": [
    {
     "data": {
      "text/html": [
       "<div>\n",
       "<style scoped>\n",
       "    .dataframe tbody tr th:only-of-type {\n",
       "        vertical-align: middle;\n",
       "    }\n",
       "\n",
       "    .dataframe tbody tr th {\n",
       "        vertical-align: top;\n",
       "    }\n",
       "\n",
       "    .dataframe thead th {\n",
       "        text-align: right;\n",
       "    }\n",
       "</style>\n",
       "<table border=\"1\" class=\"dataframe\">\n",
       "  <thead>\n",
       "    <tr style=\"text-align: right;\">\n",
       "      <th></th>\n",
       "      <th>change_in_churn</th>\n",
       "    </tr>\n",
       "  </thead>\n",
       "  <tbody>\n",
       "    <tr>\n",
       "      <th>dummy_value</th>\n",
       "      <td>-1.000000</td>\n",
       "    </tr>\n",
       "    <tr>\n",
       "      <th>churn_exclude_t1</th>\n",
       "      <td>-0.787265</td>\n",
       "    </tr>\n",
       "    <tr>\n",
       "      <th>1</th>\n",
       "      <td>-0.111345</td>\n",
       "    </tr>\n",
       "    <tr>\n",
       "      <th>23</th>\n",
       "      <td>0.080848</td>\n",
       "    </tr>\n",
       "    <tr>\n",
       "      <th>2</th>\n",
       "      <td>0.126000</td>\n",
       "    </tr>\n",
       "    <tr>\n",
       "      <th>genpop_churn</th>\n",
       "      <td>0.140112</td>\n",
       "    </tr>\n",
       "    <tr>\n",
       "      <th>24</th>\n",
       "      <td>0.188691</td>\n",
       "    </tr>\n",
       "    <tr>\n",
       "      <th>11</th>\n",
       "      <td>0.298391</td>\n",
       "    </tr>\n",
       "    <tr>\n",
       "      <th>10</th>\n",
       "      <td>0.316234</td>\n",
       "    </tr>\n",
       "    <tr>\n",
       "      <th>12</th>\n",
       "      <td>0.441068</td>\n",
       "    </tr>\n",
       "    <tr>\n",
       "      <th>9</th>\n",
       "      <td>0.448778</td>\n",
       "    </tr>\n",
       "    <tr>\n",
       "      <th>22</th>\n",
       "      <td>0.469174</td>\n",
       "    </tr>\n",
       "    <tr>\n",
       "      <th>8</th>\n",
       "      <td>0.521650</td>\n",
       "    </tr>\n",
       "    <tr>\n",
       "      <th>3</th>\n",
       "      <td>0.570975</td>\n",
       "    </tr>\n",
       "    <tr>\n",
       "      <th>13</th>\n",
       "      <td>0.616065</td>\n",
       "    </tr>\n",
       "    <tr>\n",
       "      <th>4</th>\n",
       "      <td>0.632512</td>\n",
       "    </tr>\n",
       "    <tr>\n",
       "      <th>21</th>\n",
       "      <td>0.644690</td>\n",
       "    </tr>\n",
       "    <tr>\n",
       "      <th>7</th>\n",
       "      <td>0.663578</td>\n",
       "    </tr>\n",
       "    <tr>\n",
       "      <th>6</th>\n",
       "      <td>0.674339</td>\n",
       "    </tr>\n",
       "    <tr>\n",
       "      <th>5</th>\n",
       "      <td>0.682276</td>\n",
       "    </tr>\n",
       "    <tr>\n",
       "      <th>17</th>\n",
       "      <td>0.756342</td>\n",
       "    </tr>\n",
       "    <tr>\n",
       "      <th>14</th>\n",
       "      <td>0.780995</td>\n",
       "    </tr>\n",
       "    <tr>\n",
       "      <th>16</th>\n",
       "      <td>0.790118</td>\n",
       "    </tr>\n",
       "    <tr>\n",
       "      <th>19</th>\n",
       "      <td>0.828199</td>\n",
       "    </tr>\n",
       "    <tr>\n",
       "      <th>18</th>\n",
       "      <td>0.837271</td>\n",
       "    </tr>\n",
       "    <tr>\n",
       "      <th>15</th>\n",
       "      <td>0.865529</td>\n",
       "    </tr>\n",
       "    <tr>\n",
       "      <th>20</th>\n",
       "      <td>0.901258</td>\n",
       "    </tr>\n",
       "    <tr>\n",
       "      <th>change_in_churn</th>\n",
       "      <td>1.000000</td>\n",
       "    </tr>\n",
       "  </tbody>\n",
       "</table>\n",
       "</div>"
      ],
      "text/plain": [
       "                  change_in_churn\n",
       "dummy_value             -1.000000\n",
       "churn_exclude_t1        -0.787265\n",
       "1                       -0.111345\n",
       "23                       0.080848\n",
       "2                        0.126000\n",
       "genpop_churn             0.140112\n",
       "24                       0.188691\n",
       "11                       0.298391\n",
       "10                       0.316234\n",
       "12                       0.441068\n",
       "9                        0.448778\n",
       "22                       0.469174\n",
       "8                        0.521650\n",
       "3                        0.570975\n",
       "13                       0.616065\n",
       "4                        0.632512\n",
       "21                       0.644690\n",
       "7                        0.663578\n",
       "6                        0.674339\n",
       "5                        0.682276\n",
       "17                       0.756342\n",
       "14                       0.780995\n",
       "16                       0.790118\n",
       "19                       0.828199\n",
       "18                       0.837271\n",
       "15                       0.865529\n",
       "20                       0.901258\n",
       "change_in_churn          1.000000"
      ]
     },
     "execution_count": 66,
     "metadata": {},
     "output_type": "execute_result"
    }
   ],
   "source": [
    "plot_data=churn_all[FEATURE_COLS+TARGET_COL]\n",
    "corr = plot_data.corr()[TARGET_COL]\n",
    "mask=np.zeros_like(corr, dtype=np.bool)\n",
    "corr.loc['dummy_value'] = -1\n",
    "corr.sort_values(by = TARGET_COL)\n",
    "# 0.819"
   ]
  },
  {
   "cell_type": "code",
   "execution_count": 117,
   "id": "1cde3fd5",
   "metadata": {},
   "outputs": [
    {
     "data": {
      "text/plain": [
       "<AxesSubplot:>"
      ]
     },
     "execution_count": 117,
     "metadata": {},
     "output_type": "execute_result"
    },
    {
     "data": {
      "image/png": "[encoded data removed]",
      "text/plain": [
       "<Figure size 720x576 with 2 Axes>"
      ]
     },
     "metadata": {
      "needs_background": "light"
     },
     "output_type": "display_data"
    }
   ],
   "source": [
    "f, ax = plt.subplots(figsize=(10, 8))\n",
    "sns.heatmap(corr, mask=np.zeros_like(corr, dtype=np.bool), cmap=sns.diverging_palette(220, 10, as_cmap=True),\n",
    "            square=True, ax=ax)"
   ]
  },
  {
   "cell_type": "code",
   "execution_count": 270,
   "id": "dc9fccf2",
   "metadata": {},
   "outputs": [
    {
     "data": {
      "image/png": "[encoded data removed]",
      "text/plain": [
       "<Figure size 576x288 with 2 Axes>"
      ]
     },
     "metadata": {
      "needs_background": "light"
     },
     "output_type": "display_data"
    }
   ],
   "source": [
    "fig, ax = plt.subplots(figsize=(8, 4))\n",
    "\n",
    "plot_df = churn_all\n",
    "plot_df['date_month'] = pd.to_datetime(plot_df['date_month'])\n",
    "ax.plot(plot_df['date_month'], plot_df['genpop_churn'], label= 'Genpop Churn Rate')\n",
    "\n",
    "ax2 = ax.twinx()\n",
    "ax2.plot(plot_df['date_month'], plot_df['change_in_churn'], label= 'Predicted Impact on Churn', color = 'orange')\n",
    "\n",
    "ax.set_xlabel('date_month')\n",
    "ax.legend()\n",
    "ax2.legend()\n",
    "\n",
    "plt.show()"
   ]
  },
  {
   "cell_type": "code",
   "execution_count": null,
   "id": "f84c1882",
   "metadata": {},
   "outputs": [],
   "source": []
  },
  {
   "cell_type": "code",
   "execution_count": 66,
   "id": "cbce768e",
   "metadata": {},
   "outputs": [
    {
     "data": {
      "image/png": "[encoded data removed]",
      "text/plain": [
       "<Figure size 576x288 with 2 Axes>"
      ]
     },
     "metadata": {
      "needs_background": "light"
     },
     "output_type": "display_data"
    }
   ],
   "source": [
    "fig, ax = plt.subplots(figsize=(8, 4))\n",
    "\n",
    "plot_df = churn_all\n",
    "plot_df['date_month'] = pd.to_datetime(plot_df['date_month'])\n",
    "ax.plot(plot_df['date_month'], plot_df[7], label= 'Tenure 7 Churn Rate')\n",
    "\n",
    "ax2 = ax.twinx()\n",
    "ax2.plot(plot_df['date_month'], plot_df['change_in_churn'], label= 'Predicted Impact on Churn', color = 'orange')\n",
    "\n",
    "ax.set_xlabel('date_month')\n",
    "ax.legend(loc = 'lower right')\n",
    "ax2.legend(loc = 'upper left')\n",
    "\n",
    "plt.show()"
   ]
  },
  {
   "cell_type": "markdown",
   "id": "0f0d91d8",
   "metadata": {},
   "source": [
    "## 2. Correlation with Churn changes"
   ]
  },
  {
   "cell_type": "code",
   "execution_count": 181,
   "id": "1e009305",
   "metadata": {},
   "outputs": [
    {
     "data": {
      "text/html": [
       "<div>\n",
       "<style scoped>\n",
       "    .dataframe tbody tr th:only-of-type {\n",
       "        vertical-align: middle;\n",
       "    }\n",
       "\n",
       "    .dataframe tbody tr th {\n",
       "        vertical-align: top;\n",
       "    }\n",
       "\n",
       "    .dataframe thead th {\n",
       "        text-align: right;\n",
       "    }\n",
       "</style>\n",
       "<table border=\"1\" class=\"dataframe\">\n",
       "  <thead>\n",
       "    <tr style=\"text-align: right;\">\n",
       "      <th></th>\n",
       "      <th>date_month</th>\n",
       "      <th>1</th>\n",
       "      <th>2</th>\n",
       "      <th>3</th>\n",
       "      <th>4</th>\n",
       "      <th>5</th>\n",
       "      <th>6</th>\n",
       "      <th>7</th>\n",
       "      <th>8</th>\n",
       "      <th>9</th>\n",
       "      <th>10</th>\n",
       "      <th>11</th>\n",
       "      <th>12</th>\n",
       "      <th>genpop_churn</th>\n",
       "      <th>change_in_churn</th>\n",
       "    </tr>\n",
       "  </thead>\n",
       "  <tbody>\n",
       "    <tr>\n",
       "      <th>0</th>\n",
       "      <td>2020-06-01</td>\n",
       "      <td>0.081925</td>\n",
       "      <td>0.416667</td>\n",
       "      <td>0.059701</td>\n",
       "      <td>0.000000</td>\n",
       "      <td>0.000000</td>\n",
       "      <td>0.000000</td>\n",
       "      <td>0.0</td>\n",
       "      <td>0.0</td>\n",
       "      <td>0.0</td>\n",
       "      <td>0.0</td>\n",
       "      <td>0.0</td>\n",
       "      <td>0.0</td>\n",
       "      <td>0.082013</td>\n",
       "      <td>-0.204693</td>\n",
       "    </tr>\n",
       "    <tr>\n",
       "      <th>1</th>\n",
       "      <td>2020-07-01</td>\n",
       "      <td>0.147216</td>\n",
       "      <td>0.067450</td>\n",
       "      <td>0.125000</td>\n",
       "      <td>0.030769</td>\n",
       "      <td>0.000000</td>\n",
       "      <td>0.000000</td>\n",
       "      <td>0.0</td>\n",
       "      <td>0.0</td>\n",
       "      <td>0.5</td>\n",
       "      <td>0.0</td>\n",
       "      <td>1.0</td>\n",
       "      <td>0.0</td>\n",
       "      <td>0.144546</td>\n",
       "      <td>-0.280786</td>\n",
       "    </tr>\n",
       "    <tr>\n",
       "      <th>2</th>\n",
       "      <td>2020-08-01</td>\n",
       "      <td>0.246896</td>\n",
       "      <td>0.098401</td>\n",
       "      <td>0.061422</td>\n",
       "      <td>0.068966</td>\n",
       "      <td>0.046875</td>\n",
       "      <td>0.000000</td>\n",
       "      <td>0.0</td>\n",
       "      <td>0.0</td>\n",
       "      <td>0.0</td>\n",
       "      <td>0.0</td>\n",
       "      <td>0.0</td>\n",
       "      <td>0.0</td>\n",
       "      <td>0.150222</td>\n",
       "      <td>-0.306587</td>\n",
       "    </tr>\n",
       "    <tr>\n",
       "      <th>3</th>\n",
       "      <td>2020-09-01</td>\n",
       "      <td>0.266349</td>\n",
       "      <td>0.131667</td>\n",
       "      <td>0.073671</td>\n",
       "      <td>0.047285</td>\n",
       "      <td>0.640000</td>\n",
       "      <td>0.949153</td>\n",
       "      <td>0.0</td>\n",
       "      <td>0.0</td>\n",
       "      <td>0.0</td>\n",
       "      <td>0.0</td>\n",
       "      <td>0.0</td>\n",
       "      <td>0.0</td>\n",
       "      <td>0.138151</td>\n",
       "      <td>-0.312278</td>\n",
       "    </tr>\n",
       "    <tr>\n",
       "      <th>4</th>\n",
       "      <td>2020-10-01</td>\n",
       "      <td>0.232411</td>\n",
       "      <td>0.143210</td>\n",
       "      <td>0.101009</td>\n",
       "      <td>0.059563</td>\n",
       "      <td>0.040794</td>\n",
       "      <td>0.090909</td>\n",
       "      <td>0.0</td>\n",
       "      <td>0.0</td>\n",
       "      <td>0.0</td>\n",
       "      <td>0.0</td>\n",
       "      <td>0.0</td>\n",
       "      <td>0.0</td>\n",
       "      <td>0.134923</td>\n",
       "      <td>-0.305047</td>\n",
       "    </tr>\n",
       "  </tbody>\n",
       "</table>\n",
       "</div>"
      ],
      "text/plain": [
       "  date_month         1         2         3         4         5         6    7  \\\n",
       "0 2020-06-01  0.081925  0.416667  0.059701  0.000000  0.000000  0.000000  0.0   \n",
       "1 2020-07-01  0.147216  0.067450  0.125000  0.030769  0.000000  0.000000  0.0   \n",
       "2 2020-08-01  0.246896  0.098401  0.061422  0.068966  0.046875  0.000000  0.0   \n",
       "3 2020-09-01  0.266349  0.131667  0.073671  0.047285  0.640000  0.949153  0.0   \n",
       "4 2020-10-01  0.232411  0.143210  0.101009  0.059563  0.040794  0.090909  0.0   \n",
       "\n",
       "     8    9   10   11   12  genpop_churn  change_in_churn  \n",
       "0  0.0  0.0  0.0  0.0  0.0      0.082013        -0.204693  \n",
       "1  0.0  0.5  0.0  1.0  0.0      0.144546        -0.280786  \n",
       "2  0.0  0.0  0.0  0.0  0.0      0.150222        -0.306587  \n",
       "3  0.0  0.0  0.0  0.0  0.0      0.138151        -0.312278  \n",
       "4  0.0  0.0  0.0  0.0  0.0      0.134923        -0.305047  "
      ]
     },
     "execution_count": 181,
     "metadata": {},
     "output_type": "execute_result"
    }
   ],
   "source": [
    "churn_all.head()"
   ]
  },
  {
   "cell_type": "code",
   "execution_count": 182,
   "id": "d5b0bfb5",
   "metadata": {},
   "outputs": [],
   "source": [
    "churn_change_all = churn_all[FEATURE_COLS].diff()"
   ]
  },
  {
   "cell_type": "code",
   "execution_count": 184,
   "id": "6e7b7eac",
   "metadata": {},
   "outputs": [],
   "source": [
    "churn_change_all = pd.concat([churn_all[['date_month']], churn_change_all, churn_all[['change_in_churn']] ]\n",
    "                            , axis = 1)"
   ]
  },
  {
   "cell_type": "code",
   "execution_count": 185,
   "id": "45464ee8",
   "metadata": {},
   "outputs": [
    {
     "data": {
      "text/html": [
       "<div>\n",
       "<style scoped>\n",
       "    .dataframe tbody tr th:only-of-type {\n",
       "        vertical-align: middle;\n",
       "    }\n",
       "\n",
       "    .dataframe tbody tr th {\n",
       "        vertical-align: top;\n",
       "    }\n",
       "\n",
       "    .dataframe thead th {\n",
       "        text-align: right;\n",
       "    }\n",
       "</style>\n",
       "<table border=\"1\" class=\"dataframe\">\n",
       "  <thead>\n",
       "    <tr style=\"text-align: right;\">\n",
       "      <th></th>\n",
       "      <th>date_month</th>\n",
       "      <th>1</th>\n",
       "      <th>2</th>\n",
       "      <th>3</th>\n",
       "      <th>4</th>\n",
       "      <th>5</th>\n",
       "      <th>6</th>\n",
       "      <th>7</th>\n",
       "      <th>8</th>\n",
       "      <th>9</th>\n",
       "      <th>10</th>\n",
       "      <th>11</th>\n",
       "      <th>12</th>\n",
       "      <th>genpop_churn</th>\n",
       "      <th>change_in_churn</th>\n",
       "    </tr>\n",
       "  </thead>\n",
       "  <tbody>\n",
       "    <tr>\n",
       "      <th>0</th>\n",
       "      <td>2020-06-01</td>\n",
       "      <td>NaN</td>\n",
       "      <td>NaN</td>\n",
       "      <td>NaN</td>\n",
       "      <td>NaN</td>\n",
       "      <td>NaN</td>\n",
       "      <td>NaN</td>\n",
       "      <td>NaN</td>\n",
       "      <td>NaN</td>\n",
       "      <td>NaN</td>\n",
       "      <td>NaN</td>\n",
       "      <td>NaN</td>\n",
       "      <td>NaN</td>\n",
       "      <td>NaN</td>\n",
       "      <td>-0.204693</td>\n",
       "    </tr>\n",
       "    <tr>\n",
       "      <th>1</th>\n",
       "      <td>2020-07-01</td>\n",
       "      <td>0.065291</td>\n",
       "      <td>-0.349217</td>\n",
       "      <td>0.065299</td>\n",
       "      <td>0.030769</td>\n",
       "      <td>0.000000</td>\n",
       "      <td>0.000000</td>\n",
       "      <td>0.0</td>\n",
       "      <td>0.0</td>\n",
       "      <td>0.5</td>\n",
       "      <td>0.0</td>\n",
       "      <td>1.0</td>\n",
       "      <td>0.0</td>\n",
       "      <td>0.062533</td>\n",
       "      <td>-0.280786</td>\n",
       "    </tr>\n",
       "    <tr>\n",
       "      <th>2</th>\n",
       "      <td>2020-08-01</td>\n",
       "      <td>0.099680</td>\n",
       "      <td>0.030951</td>\n",
       "      <td>-0.063578</td>\n",
       "      <td>0.038197</td>\n",
       "      <td>0.046875</td>\n",
       "      <td>0.000000</td>\n",
       "      <td>0.0</td>\n",
       "      <td>0.0</td>\n",
       "      <td>-0.5</td>\n",
       "      <td>0.0</td>\n",
       "      <td>-1.0</td>\n",
       "      <td>0.0</td>\n",
       "      <td>0.005676</td>\n",
       "      <td>-0.306587</td>\n",
       "    </tr>\n",
       "    <tr>\n",
       "      <th>3</th>\n",
       "      <td>2020-09-01</td>\n",
       "      <td>0.019453</td>\n",
       "      <td>0.033266</td>\n",
       "      <td>0.012249</td>\n",
       "      <td>-0.021681</td>\n",
       "      <td>0.593125</td>\n",
       "      <td>0.949153</td>\n",
       "      <td>0.0</td>\n",
       "      <td>0.0</td>\n",
       "      <td>0.0</td>\n",
       "      <td>0.0</td>\n",
       "      <td>0.0</td>\n",
       "      <td>0.0</td>\n",
       "      <td>-0.012071</td>\n",
       "      <td>-0.312278</td>\n",
       "    </tr>\n",
       "    <tr>\n",
       "      <th>4</th>\n",
       "      <td>2020-10-01</td>\n",
       "      <td>-0.033938</td>\n",
       "      <td>0.011543</td>\n",
       "      <td>0.027338</td>\n",
       "      <td>0.012278</td>\n",
       "      <td>-0.599206</td>\n",
       "      <td>-0.858244</td>\n",
       "      <td>0.0</td>\n",
       "      <td>0.0</td>\n",
       "      <td>0.0</td>\n",
       "      <td>0.0</td>\n",
       "      <td>0.0</td>\n",
       "      <td>0.0</td>\n",
       "      <td>-0.003228</td>\n",
       "      <td>-0.305047</td>\n",
       "    </tr>\n",
       "  </tbody>\n",
       "</table>\n",
       "</div>"
      ],
      "text/plain": [
       "  date_month         1         2         3         4         5         6    7  \\\n",
       "0 2020-06-01       NaN       NaN       NaN       NaN       NaN       NaN  NaN   \n",
       "1 2020-07-01  0.065291 -0.349217  0.065299  0.030769  0.000000  0.000000  0.0   \n",
       "2 2020-08-01  0.099680  0.030951 -0.063578  0.038197  0.046875  0.000000  0.0   \n",
       "3 2020-09-01  0.019453  0.033266  0.012249 -0.021681  0.593125  0.949153  0.0   \n",
       "4 2020-10-01 -0.033938  0.011543  0.027338  0.012278 -0.599206 -0.858244  0.0   \n",
       "\n",
       "     8    9   10   11   12  genpop_churn  change_in_churn  \n",
       "0  NaN  NaN  NaN  NaN  NaN           NaN        -0.204693  \n",
       "1  0.0  0.5  0.0  1.0  0.0      0.062533        -0.280786  \n",
       "2  0.0 -0.5  0.0 -1.0  0.0      0.005676        -0.306587  \n",
       "3  0.0  0.0  0.0  0.0  0.0     -0.012071        -0.312278  \n",
       "4  0.0  0.0  0.0  0.0  0.0     -0.003228        -0.305047  "
      ]
     },
     "execution_count": 185,
     "metadata": {},
     "output_type": "execute_result"
    }
   ],
   "source": [
    "churn_change_all.head()"
   ]
  },
  {
   "cell_type": "code",
   "execution_count": 187,
   "id": "382199c5",
   "metadata": {},
   "outputs": [
    {
     "data": {
      "text/html": [
       "<div>\n",
       "<style scoped>\n",
       "    .dataframe tbody tr th:only-of-type {\n",
       "        vertical-align: middle;\n",
       "    }\n",
       "\n",
       "    .dataframe tbody tr th {\n",
       "        vertical-align: top;\n",
       "    }\n",
       "\n",
       "    .dataframe thead th {\n",
       "        text-align: right;\n",
       "    }\n",
       "</style>\n",
       "<table border=\"1\" class=\"dataframe\">\n",
       "  <thead>\n",
       "    <tr style=\"text-align: right;\">\n",
       "      <th></th>\n",
       "      <th>change_in_churn</th>\n",
       "    </tr>\n",
       "  </thead>\n",
       "  <tbody>\n",
       "    <tr>\n",
       "      <th>dummy_value</th>\n",
       "      <td>-1.000000</td>\n",
       "    </tr>\n",
       "    <tr>\n",
       "      <th>1</th>\n",
       "      <td>-0.232743</td>\n",
       "    </tr>\n",
       "    <tr>\n",
       "      <th>4</th>\n",
       "      <td>-0.169717</td>\n",
       "    </tr>\n",
       "    <tr>\n",
       "      <th>genpop_churn</th>\n",
       "      <td>-0.138811</td>\n",
       "    </tr>\n",
       "    <tr>\n",
       "      <th>3</th>\n",
       "      <td>-0.134030</td>\n",
       "    </tr>\n",
       "    <tr>\n",
       "      <th>7</th>\n",
       "      <td>-0.132511</td>\n",
       "    </tr>\n",
       "    <tr>\n",
       "      <th>12</th>\n",
       "      <td>-0.060373</td>\n",
       "    </tr>\n",
       "    <tr>\n",
       "      <th>5</th>\n",
       "      <td>-0.025267</td>\n",
       "    </tr>\n",
       "    <tr>\n",
       "      <th>6</th>\n",
       "      <td>-0.023596</td>\n",
       "    </tr>\n",
       "    <tr>\n",
       "      <th>10</th>\n",
       "      <td>0.000241</td>\n",
       "    </tr>\n",
       "    <tr>\n",
       "      <th>8</th>\n",
       "      <td>0.006846</td>\n",
       "    </tr>\n",
       "    <tr>\n",
       "      <th>11</th>\n",
       "      <td>0.023585</td>\n",
       "    </tr>\n",
       "    <tr>\n",
       "      <th>9</th>\n",
       "      <td>0.037510</td>\n",
       "    </tr>\n",
       "    <tr>\n",
       "      <th>2</th>\n",
       "      <td>0.136816</td>\n",
       "    </tr>\n",
       "    <tr>\n",
       "      <th>change_in_churn</th>\n",
       "      <td>1.000000</td>\n",
       "    </tr>\n",
       "  </tbody>\n",
       "</table>\n",
       "</div>"
      ],
      "text/plain": [
       "                 change_in_churn\n",
       "dummy_value            -1.000000\n",
       "1                      -0.232743\n",
       "4                      -0.169717\n",
       "genpop_churn           -0.138811\n",
       "3                      -0.134030\n",
       "7                      -0.132511\n",
       "12                     -0.060373\n",
       "5                      -0.025267\n",
       "6                      -0.023596\n",
       "10                      0.000241\n",
       "8                       0.006846\n",
       "11                      0.023585\n",
       "9                       0.037510\n",
       "2                       0.136816\n",
       "change_in_churn         1.000000"
      ]
     },
     "execution_count": 187,
     "metadata": {},
     "output_type": "execute_result"
    }
   ],
   "source": [
    "plot_data=churn_change_all[FEATURE_COLS+TARGET_COL]\n",
    "corr = plot_data.corr()[TARGET_COL]\n",
    "mask=np.zeros_like(corr, dtype=np.bool)\n",
    "corr.loc['dummy_value'] = -1\n",
    "corr.sort_values(by = TARGET_COL)"
   ]
  },
  {
   "cell_type": "code",
   "execution_count": 188,
   "id": "79a91719",
   "metadata": {},
   "outputs": [
    {
     "data": {
      "text/plain": [
       "<AxesSubplot:>"
      ]
     },
     "execution_count": 188,
     "metadata": {},
     "output_type": "execute_result"
    },
    {
     "data": {
      "image/png": "[encoded data removed]",
      "text/plain": [
       "<Figure size 720x576 with 2 Axes>"
      ]
     },
     "metadata": {
      "needs_background": "light"
     },
     "output_type": "display_data"
    }
   ],
   "source": [
    "f, ax = plt.subplots(figsize=(10, 8))\n",
    "sns.heatmap(corr, mask=np.zeros_like(corr, dtype=np.bool), cmap=sns.diverging_palette(220, 10, as_cmap=True),\n",
    "            square=True, ax=ax)"
   ]
  },
  {
   "cell_type": "code",
   "execution_count": 189,
   "id": "9ae8687c",
   "metadata": {},
   "outputs": [
    {
     "data": {
      "image/png": "[encoded data removed]",
      "text/plain": [
       "<Figure size 576x288 with 2 Axes>"
      ]
     },
     "metadata": {
      "needs_background": "light"
     },
     "output_type": "display_data"
    }
   ],
   "source": [
    "fig, ax = plt.subplots(figsize=(8, 4))\n",
    "\n",
    "plot_df = churn_change_all\n",
    "plot_df['date_month'] = pd.to_datetime(plot_df['date_month'])\n",
    "ax.plot(plot_df['date_month'], plot_df['genpop_churn'], label= 'Genpop Churn Rate')\n",
    "\n",
    "ax2 = ax.twinx()\n",
    "ax2.plot(plot_df['date_month'], plot_df['change_in_churn'], label= 'Predicted Change in Churn', color = 'orange')\n",
    "\n",
    "ax.set_xlabel('date_month')\n",
    "ax.legend()\n",
    "ax2.legend()\n",
    "\n",
    "plt.show()"
   ]
  },
  {
   "cell_type": "code",
   "execution_count": null,
   "id": "4a00ec71",
   "metadata": {},
   "outputs": [],
   "source": []
  },
  {
   "cell_type": "code",
   "execution_count": null,
   "id": "54181524",
   "metadata": {},
   "outputs": [],
   "source": [
    "churn_exclude_t1"
   ]
  },
  {
   "cell_type": "code",
   "execution_count": null,
   "id": "49a43b0b",
   "metadata": {},
   "outputs": [],
   "source": []
  },
  {
   "cell_type": "code",
   "execution_count": null,
   "id": "f6cf5282",
   "metadata": {},
   "outputs": [],
   "source": []
  },
  {
   "cell_type": "markdown",
   "id": "4a5fb326",
   "metadata": {},
   "source": [
    "# Write to S3/SF"
   ]
  },
  {
   "cell_type": "code",
   "execution_count": null,
   "id": "169f8616",
   "metadata": {},
   "outputs": [],
   "source": [
    "from abc import ABCMeta, abstractmethod\n",
    "\n",
    "class Credentials(metaclass=ABCMeta):\n",
    "    pass\n",
    "    \n",
    "    \n",
    "class SSMPSCredentials(Credentials):\n",
    "    def __init__(self, secretid: str):\n",
    "        self._secretid = secretid\n",
    "        self._secrets = {}\n",
    "        \n",
    "    def get_keys(self):\n",
    "        \"\"\"\n",
    "        credential fetching \n",
    "        \"\"\"\n",
    "        _aws_sm_args = {'service_name': 'secretsmanager', 'region_name': 'us-east-1'}\n",
    "        secrets_client = boto3.client(**_aws_sm_args)\n",
    "        get_secret_value_response = secrets_client.get_secret_value(SecretId=self._secretid)\n",
    "        return get_secret_value_response\n",
    "    \n",
    "    \n",
    "class BaseConnector(metaclass=ABCMeta):\n",
    "    @abstractmethod\n",
    "    def connect(self):\n",
    "        raise NotImplementedError\n",
    "    \n",
    "\n",
    "class SnowflakeConnector(BaseConnector):\n",
    "    def __init__(self, credentials: Credentials):\n",
    "        keys = credentials.get_keys()\n",
    "        self._secrets = json.loads(keys.get('SecretString', \"{}\"))\n",
    "\n",
    "    def connect(self, dbname: str, schema: str = 'DEFAULT'):\n",
    "        ctx = snowflake.connector.connect(\n",
    "            user=self._secrets['login_name'],\n",
    "            password=self._secrets['login_password'],\n",
    "            account=self._secrets['account'],\n",
    "            warehouse=self._secrets['warehouse'],\n",
    "            database=dbname,\n",
    "            schema=schema\n",
    "        )\n",
    "\n",
    "        return ctx\n",
    "    \n",
    "## Credentials\n",
    "SF_CREDS = 'datascience-max-dev-sagemaker-notebooks'\n",
    "\n",
    "## Snowflake connection \n",
    "conn=SnowflakeConnector(SSMPSCredentials(SF_CREDS))\n",
    "ctx=conn.connect(\"MAX_DEV\",\"WORKSPACE\")\n",
    "\n",
    "def run_query(query):\n",
    "    cursor = ctx.cursor()\n",
    "    cursor.execute(query)\n",
    "    df = pd.DataFrame(cursor.fetchall(), columns = [desc[0] for desc in cursor.description])\n",
    "    df.columns= df.columns.str.lower()\n",
    "    return df"
   ]
  },
  {
   "cell_type": "code",
   "execution_count": null,
   "id": "84154c34",
   "metadata": {},
   "outputs": [],
   "source": [
    "import boto3\n",
    "import io\n",
    "\n",
    "def to_s3(filename, output_bucket, content):\n",
    "    client = boto3.client('s3')\n",
    "    client.put_object(Bucket=output_bucket, Key=filename, Body=content)\n",
    "    \n",
    "output_bucket = 'hbo-outbound-datascience-content-dev'\n",
    "s3 = boto3.resource('s3')\n",
    "bucket = s3.Bucket(output_bucket)\n",
    "\n",
    "def write_to_sf(df, file_name):\n",
    "    csv_buffer = io.StringIO()\n",
    "    df.to_csv(csv_buffer, index = False)\n",
    "    content = csv_buffer.getvalue()\n",
    "    filename = 'title_hours_viewed_retention/{}.csv'.format(file_name)\n",
    "    to_s3(filename, output_bucket, content)"
   ]
  },
  {
   "cell_type": "code",
   "execution_count": null,
   "id": "420e3c71",
   "metadata": {},
   "outputs": [],
   "source": [
    "write_to_sf(data, 'daily_monthly_retention_value.csv')"
   ]
  },
  {
   "cell_type": "code",
   "execution_count": 273,
   "id": "57a14173",
   "metadata": {},
   "outputs": [
    {
     "data": {
      "text/plain": [
       "'hbo-outbound-datascience-content-dev/title_hours_viewed_retention/daily_monthly_retention_value.csv'"
      ]
     },
     "execution_count": 273,
     "metadata": {},
     "output_type": "execute_result"
    }
   ],
   "source": [
    "output_bucket+'/title_hours_viewed_retention/{}.csv'.format('daily_monthly_retention_value')"
   ]
  },
  {
   "cell_type": "code",
   "execution_count": null,
   "id": "0639f44f",
   "metadata": {},
   "outputs": [],
   "source": []
  }
 ],
 "metadata": {
  "kernelspec": {
   "display_name": "conda_python3",
   "language": "python",
   "name": "conda_python3"
  },
  "language_info": {
   "codemirror_mode": {
    "name": "ipython",
    "version": 3
   },
   "file_extension": ".py",
   "mimetype": "text/x-python",
   "name": "python",
   "nbconvert_exporter": "python",
   "pygments_lexer": "ipython3",
   "version": "3.6.13"
  }
 },
 "nbformat": 4,
 "nbformat_minor": 5
}
